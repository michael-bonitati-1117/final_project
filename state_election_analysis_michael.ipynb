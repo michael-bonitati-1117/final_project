{
 "cells": [
  {
   "cell_type": "code",
   "execution_count": 32,
   "metadata": {},
   "outputs": [],
   "source": [
    "## Packages\n",
    "library(dplyr)\n",
    "library(stringr)\n",
    "library(broom)\n",
    "library(ggplot2)\n",
    "library(tidyr)\n"
   ]
  },
  {
   "cell_type": "code",
   "execution_count": 33,
   "metadata": {},
   "outputs": [
    {
     "data": {
      "text/html": [
       "<table>\n",
       "<caption>A data.frame: 6 × 20</caption>\n",
       "<thead>\n",
       "\t<tr><th></th><th scope=col>X</th><th scope=col>democrat</th><th scope=col>republican</th><th scope=col>other</th><th scope=col>state</th><th scope=col>year</th><th scope=col>district</th><th scope=col>democrat_incumbent</th><th scope=col>democrat_votes</th><th scope=col>republican_incumbent</th><th scope=col>republican_votes</th><th scope=col>other_incumbent</th><th scope=col>other_votes</th><th scope=col>gender_dem</th><th scope=col>gender_rep</th><th scope=col>winner_party</th><th scope=col>winner_gender</th><th scope=col>vote_prop_dem</th><th scope=col>vote_prop_rep</th><th scope=col>vote_prop_other</th></tr>\n",
       "\t<tr><th></th><th scope=col>&lt;int&gt;</th><th scope=col>&lt;chr&gt;</th><th scope=col>&lt;chr&gt;</th><th scope=col>&lt;chr&gt;</th><th scope=col>&lt;chr&gt;</th><th scope=col>&lt;int&gt;</th><th scope=col>&lt;chr&gt;</th><th scope=col>&lt;chr&gt;</th><th scope=col>&lt;int&gt;</th><th scope=col>&lt;chr&gt;</th><th scope=col>&lt;int&gt;</th><th scope=col>&lt;chr&gt;</th><th scope=col>&lt;int&gt;</th><th scope=col>&lt;chr&gt;</th><th scope=col>&lt;chr&gt;</th><th scope=col>&lt;chr&gt;</th><th scope=col>&lt;chr&gt;</th><th scope=col>&lt;dbl&gt;</th><th scope=col>&lt;dbl&gt;</th><th scope=col>&lt;dbl&gt;</th></tr>\n",
       "</thead>\n",
       "<tbody>\n",
       "\t<tr><th scope=row>1</th><td>1</td><td>Scott J. Kawasaki    </td><td>No candidate     </td><td>No candidate</td><td>Alaska</td><td>2016</td><td>1</td><td>True </td><td>   1</td><td>False</td><td>   0</td><td>0    </td><td>   0</td><td>male   </td><td>N/A   </td><td>Democrat  </td><td>male  </td><td>1.00000000</td><td>0.0000000</td><td>0.0000000</td></tr>\n",
       "\t<tr><th scope=row>2</th><td>2</td><td>Truno Holdaway       </td><td>Steve M. Thompson</td><td>No candidate</td><td>Alaska</td><td>2016</td><td>2</td><td>False</td><td>1153</td><td>True </td><td>3268</td><td>0    </td><td>   0</td><td>Unknown</td><td>male  </td><td>Republican</td><td>male  </td><td>0.26080072</td><td>0.7391993</td><td>0.0000000</td></tr>\n",
       "\t<tr><th scope=row>3</th><td>3</td><td>Christina M. Sinclair</td><td>Tammie Wilson    </td><td>Jeanne Olson</td><td>Alaska</td><td>2016</td><td>3</td><td>False</td><td> 537</td><td>True </td><td>4291</td><td>False</td><td>2270</td><td>female </td><td>female</td><td>Republican</td><td>female</td><td>0.07565511</td><td>0.6045365</td><td>0.3198084</td></tr>\n",
       "\t<tr><th scope=row>4</th><td>4</td><td>David Guttenberg     </td><td>No candidate     </td><td>No candidate</td><td>Alaska</td><td>2016</td><td>4</td><td>True </td><td>   1</td><td>False</td><td>   0</td><td>0    </td><td>   0</td><td>male   </td><td>N/A   </td><td>Democrat  </td><td>male  </td><td>1.00000000</td><td>0.0000000</td><td>0.0000000</td></tr>\n",
       "\t<tr><th scope=row>5</th><td>5</td><td>Adam Wool            </td><td>Aaron Lojewski   </td><td>No candidate</td><td>Alaska</td><td>2016</td><td>5</td><td>True </td><td>3812</td><td>False</td><td>3384</td><td>0    </td><td>   0</td><td>male   </td><td>male  </td><td>Democrat  </td><td>male  </td><td>0.52973874</td><td>0.4702613</td><td>0.0000000</td></tr>\n",
       "\t<tr><th scope=row>6</th><td>6</td><td>Jason T. Land        </td><td>David M. Talerico</td><td>No candidate</td><td>Alaska</td><td>2016</td><td>6</td><td>False</td><td>2327</td><td>True </td><td>5126</td><td>0    </td><td>   0</td><td>male   </td><td>male  </td><td>Republican</td><td>male  </td><td>0.31222327</td><td>0.6877767</td><td>0.0000000</td></tr>\n",
       "</tbody>\n",
       "</table>\n"
      ],
      "text/latex": [
       "A data.frame: 6 × 20\n",
       "\\begin{tabular}{r|llllllllllllllllllll}\n",
       "  & X & democrat & republican & other & state & year & district & democrat\\_incumbent & democrat\\_votes & republican\\_incumbent & republican\\_votes & other\\_incumbent & other\\_votes & gender\\_dem & gender\\_rep & winner\\_party & winner\\_gender & vote\\_prop\\_dem & vote\\_prop\\_rep & vote\\_prop\\_other\\\\\n",
       "  & <int> & <chr> & <chr> & <chr> & <chr> & <int> & <chr> & <chr> & <int> & <chr> & <int> & <chr> & <int> & <chr> & <chr> & <chr> & <chr> & <dbl> & <dbl> & <dbl>\\\\\n",
       "\\hline\n",
       "\t1 & 1 & Scott J. Kawasaki     & No candidate      & No candidate & Alaska & 2016 & 1 & True  &    1 & False &    0 & 0     &    0 & male    & N/A    & Democrat   & male   & 1.00000000 & 0.0000000 & 0.0000000\\\\\n",
       "\t2 & 2 & Truno Holdaway        & Steve M. Thompson & No candidate & Alaska & 2016 & 2 & False & 1153 & True  & 3268 & 0     &    0 & Unknown & male   & Republican & male   & 0.26080072 & 0.7391993 & 0.0000000\\\\\n",
       "\t3 & 3 & Christina M. Sinclair & Tammie Wilson     & Jeanne Olson & Alaska & 2016 & 3 & False &  537 & True  & 4291 & False & 2270 & female  & female & Republican & female & 0.07565511 & 0.6045365 & 0.3198084\\\\\n",
       "\t4 & 4 & David Guttenberg      & No candidate      & No candidate & Alaska & 2016 & 4 & True  &    1 & False &    0 & 0     &    0 & male    & N/A    & Democrat   & male   & 1.00000000 & 0.0000000 & 0.0000000\\\\\n",
       "\t5 & 5 & Adam Wool             & Aaron Lojewski    & No candidate & Alaska & 2016 & 5 & True  & 3812 & False & 3384 & 0     &    0 & male    & male   & Democrat   & male   & 0.52973874 & 0.4702613 & 0.0000000\\\\\n",
       "\t6 & 6 & Jason T. Land         & David M. Talerico & No candidate & Alaska & 2016 & 6 & False & 2327 & True  & 5126 & 0     &    0 & male    & male   & Republican & male   & 0.31222327 & 0.6877767 & 0.0000000\\\\\n",
       "\\end{tabular}\n"
      ],
      "text/markdown": [
       "\n",
       "A data.frame: 6 × 20\n",
       "\n",
       "| <!--/--> | X &lt;int&gt; | democrat &lt;chr&gt; | republican &lt;chr&gt; | other &lt;chr&gt; | state &lt;chr&gt; | year &lt;int&gt; | district &lt;chr&gt; | democrat_incumbent &lt;chr&gt; | democrat_votes &lt;int&gt; | republican_incumbent &lt;chr&gt; | republican_votes &lt;int&gt; | other_incumbent &lt;chr&gt; | other_votes &lt;int&gt; | gender_dem &lt;chr&gt; | gender_rep &lt;chr&gt; | winner_party &lt;chr&gt; | winner_gender &lt;chr&gt; | vote_prop_dem &lt;dbl&gt; | vote_prop_rep &lt;dbl&gt; | vote_prop_other &lt;dbl&gt; |\n",
       "|---|---|---|---|---|---|---|---|---|---|---|---|---|---|---|---|---|---|---|---|---|\n",
       "| 1 | 1 | Scott J. Kawasaki     | No candidate      | No candidate | Alaska | 2016 | 1 | True  |    1 | False |    0 | 0     |    0 | male    | N/A    | Democrat   | male   | 1.00000000 | 0.0000000 | 0.0000000 |\n",
       "| 2 | 2 | Truno Holdaway        | Steve M. Thompson | No candidate | Alaska | 2016 | 2 | False | 1153 | True  | 3268 | 0     |    0 | Unknown | male   | Republican | male   | 0.26080072 | 0.7391993 | 0.0000000 |\n",
       "| 3 | 3 | Christina M. Sinclair | Tammie Wilson     | Jeanne Olson | Alaska | 2016 | 3 | False |  537 | True  | 4291 | False | 2270 | female  | female | Republican | female | 0.07565511 | 0.6045365 | 0.3198084 |\n",
       "| 4 | 4 | David Guttenberg      | No candidate      | No candidate | Alaska | 2016 | 4 | True  |    1 | False |    0 | 0     |    0 | male    | N/A    | Democrat   | male   | 1.00000000 | 0.0000000 | 0.0000000 |\n",
       "| 5 | 5 | Adam Wool             | Aaron Lojewski    | No candidate | Alaska | 2016 | 5 | True  | 3812 | False | 3384 | 0     |    0 | male    | male   | Democrat   | male   | 0.52973874 | 0.4702613 | 0.0000000 |\n",
       "| 6 | 6 | Jason T. Land         | David M. Talerico | No candidate | Alaska | 2016 | 6 | False | 2327 | True  | 5126 | 0     |    0 | male    | male   | Republican | male   | 0.31222327 | 0.6877767 | 0.0000000 |\n",
       "\n"
      ],
      "text/plain": [
       "  X democrat              republican        other        state  year district\n",
       "1 1 Scott J. Kawasaki     No candidate      No candidate Alaska 2016 1       \n",
       "2 2 Truno Holdaway        Steve M. Thompson No candidate Alaska 2016 2       \n",
       "3 3 Christina M. Sinclair Tammie Wilson     Jeanne Olson Alaska 2016 3       \n",
       "4 4 David Guttenberg      No candidate      No candidate Alaska 2016 4       \n",
       "5 5 Adam Wool             Aaron Lojewski    No candidate Alaska 2016 5       \n",
       "6 6 Jason T. Land         David M. Talerico No candidate Alaska 2016 6       \n",
       "  democrat_incumbent democrat_votes republican_incumbent republican_votes\n",
       "1 True                  1           False                   0            \n",
       "2 False              1153           True                 3268            \n",
       "3 False               537           True                 4291            \n",
       "4 True                  1           False                   0            \n",
       "5 True               3812           False                3384            \n",
       "6 False              2327           True                 5126            \n",
       "  other_incumbent other_votes gender_dem gender_rep winner_party winner_gender\n",
       "1 0                  0        male       N/A        Democrat     male         \n",
       "2 0                  0        Unknown    male       Republican   male         \n",
       "3 False           2270        female     female     Republican   female       \n",
       "4 0                  0        male       N/A        Democrat     male         \n",
       "5 0                  0        male       male       Democrat     male         \n",
       "6 0                  0        male       male       Republican   male         \n",
       "  vote_prop_dem vote_prop_rep vote_prop_other\n",
       "1 1.00000000    0.0000000     0.0000000      \n",
       "2 0.26080072    0.7391993     0.0000000      \n",
       "3 0.07565511    0.6045365     0.3198084      \n",
       "4 1.00000000    0.0000000     0.0000000      \n",
       "5 0.52973874    0.4702613     0.0000000      \n",
       "6 0.31222327    0.6877767     0.0000000      "
      ]
     },
     "metadata": {},
     "output_type": "display_data"
    },
    {
     "data": {
      "text/html": [
       "<table>\n",
       "<caption>A data.frame: 6 × 12</caption>\n",
       "<thead>\n",
       "\t<tr><th></th><th scope=col>X</th><th scope=col>candidate</th><th scope=col>state</th><th scope=col>district</th><th scope=col>year</th><th scope=col>incumbent</th><th scope=col>total_votes</th><th scope=col>vote_prop</th><th scope=col>gender</th><th scope=col>winner_party</th><th scope=col>candidate_party</th><th scope=col>race_ethnicity</th></tr>\n",
       "\t<tr><th></th><th scope=col>&lt;int&gt;</th><th scope=col>&lt;chr&gt;</th><th scope=col>&lt;chr&gt;</th><th scope=col>&lt;chr&gt;</th><th scope=col>&lt;int&gt;</th><th scope=col>&lt;chr&gt;</th><th scope=col>&lt;int&gt;</th><th scope=col>&lt;dbl&gt;</th><th scope=col>&lt;chr&gt;</th><th scope=col>&lt;chr&gt;</th><th scope=col>&lt;chr&gt;</th><th scope=col>&lt;chr&gt;</th></tr>\n",
       "</thead>\n",
       "<tbody>\n",
       "\t<tr><th scope=row>1</th><td>1</td><td>Scott J. Kawasaki    </td><td>Alaska</td><td>1</td><td>2016</td><td>True </td><td>   1</td><td>1.00000000</td><td>male   </td><td>Democrat  </td><td>Democrat</td><td>Missing</td></tr>\n",
       "\t<tr><th scope=row>2</th><td>2</td><td>Truno Holdaway       </td><td>Alaska</td><td>2</td><td>2016</td><td>False</td><td>1153</td><td>0.26080072</td><td>Unknown</td><td>Republican</td><td>Democrat</td><td>Missing</td></tr>\n",
       "\t<tr><th scope=row>3</th><td>3</td><td>Christina M. Sinclair</td><td>Alaska</td><td>3</td><td>2016</td><td>False</td><td> 537</td><td>0.07565511</td><td>female </td><td>Republican</td><td>Democrat</td><td>Missing</td></tr>\n",
       "\t<tr><th scope=row>4</th><td>4</td><td>David Guttenberg     </td><td>Alaska</td><td>4</td><td>2016</td><td>True </td><td>   1</td><td>1.00000000</td><td>male   </td><td>Democrat  </td><td>Democrat</td><td>Missing</td></tr>\n",
       "\t<tr><th scope=row>5</th><td>5</td><td>Adam Wool            </td><td>Alaska</td><td>5</td><td>2016</td><td>True </td><td>3812</td><td>0.52973874</td><td>male   </td><td>Democrat  </td><td>Democrat</td><td>Missing</td></tr>\n",
       "\t<tr><th scope=row>6</th><td>6</td><td>Jason T. Land        </td><td>Alaska</td><td>6</td><td>2016</td><td>False</td><td>2327</td><td>0.31222327</td><td>male   </td><td>Republican</td><td>Democrat</td><td>Missing</td></tr>\n",
       "</tbody>\n",
       "</table>\n"
      ],
      "text/latex": [
       "A data.frame: 6 × 12\n",
       "\\begin{tabular}{r|llllllllllll}\n",
       "  & X & candidate & state & district & year & incumbent & total\\_votes & vote\\_prop & gender & winner\\_party & candidate\\_party & race\\_ethnicity\\\\\n",
       "  & <int> & <chr> & <chr> & <chr> & <int> & <chr> & <int> & <dbl> & <chr> & <chr> & <chr> & <chr>\\\\\n",
       "\\hline\n",
       "\t1 & 1 & Scott J. Kawasaki     & Alaska & 1 & 2016 & True  &    1 & 1.00000000 & male    & Democrat   & Democrat & Missing\\\\\n",
       "\t2 & 2 & Truno Holdaway        & Alaska & 2 & 2016 & False & 1153 & 0.26080072 & Unknown & Republican & Democrat & Missing\\\\\n",
       "\t3 & 3 & Christina M. Sinclair & Alaska & 3 & 2016 & False &  537 & 0.07565511 & female  & Republican & Democrat & Missing\\\\\n",
       "\t4 & 4 & David Guttenberg      & Alaska & 4 & 2016 & True  &    1 & 1.00000000 & male    & Democrat   & Democrat & Missing\\\\\n",
       "\t5 & 5 & Adam Wool             & Alaska & 5 & 2016 & True  & 3812 & 0.52973874 & male    & Democrat   & Democrat & Missing\\\\\n",
       "\t6 & 6 & Jason T. Land         & Alaska & 6 & 2016 & False & 2327 & 0.31222327 & male    & Republican & Democrat & Missing\\\\\n",
       "\\end{tabular}\n"
      ],
      "text/markdown": [
       "\n",
       "A data.frame: 6 × 12\n",
       "\n",
       "| <!--/--> | X &lt;int&gt; | candidate &lt;chr&gt; | state &lt;chr&gt; | district &lt;chr&gt; | year &lt;int&gt; | incumbent &lt;chr&gt; | total_votes &lt;int&gt; | vote_prop &lt;dbl&gt; | gender &lt;chr&gt; | winner_party &lt;chr&gt; | candidate_party &lt;chr&gt; | race_ethnicity &lt;chr&gt; |\n",
       "|---|---|---|---|---|---|---|---|---|---|---|---|---|\n",
       "| 1 | 1 | Scott J. Kawasaki     | Alaska | 1 | 2016 | True  |    1 | 1.00000000 | male    | Democrat   | Democrat | Missing |\n",
       "| 2 | 2 | Truno Holdaway        | Alaska | 2 | 2016 | False | 1153 | 0.26080072 | Unknown | Republican | Democrat | Missing |\n",
       "| 3 | 3 | Christina M. Sinclair | Alaska | 3 | 2016 | False |  537 | 0.07565511 | female  | Republican | Democrat | Missing |\n",
       "| 4 | 4 | David Guttenberg      | Alaska | 4 | 2016 | True  |    1 | 1.00000000 | male    | Democrat   | Democrat | Missing |\n",
       "| 5 | 5 | Adam Wool             | Alaska | 5 | 2016 | True  | 3812 | 0.52973874 | male    | Democrat   | Democrat | Missing |\n",
       "| 6 | 6 | Jason T. Land         | Alaska | 6 | 2016 | False | 2327 | 0.31222327 | male    | Republican | Democrat | Missing |\n",
       "\n"
      ],
      "text/plain": [
       "  X candidate             state  district year incumbent total_votes vote_prop \n",
       "1 1 Scott J. Kawasaki     Alaska 1        2016 True         1        1.00000000\n",
       "2 2 Truno Holdaway        Alaska 2        2016 False     1153        0.26080072\n",
       "3 3 Christina M. Sinclair Alaska 3        2016 False      537        0.07565511\n",
       "4 4 David Guttenberg      Alaska 4        2016 True         1        1.00000000\n",
       "5 5 Adam Wool             Alaska 5        2016 True      3812        0.52973874\n",
       "6 6 Jason T. Land         Alaska 6        2016 False     2327        0.31222327\n",
       "  gender  winner_party candidate_party race_ethnicity\n",
       "1 male    Democrat     Democrat        Missing       \n",
       "2 Unknown Republican   Democrat        Missing       \n",
       "3 female  Republican   Democrat        Missing       \n",
       "4 male    Democrat     Democrat        Missing       \n",
       "5 male    Democrat     Democrat        Missing       \n",
       "6 male    Republican   Democrat        Missing       "
      ]
     },
     "metadata": {},
     "output_type": "display_data"
    },
    {
     "data": {
      "text/html": [
       "<table>\n",
       "<caption>A data.frame: 6 × 18</caption>\n",
       "<thead>\n",
       "\t<tr><th></th><th scope=col>X</th><th scope=col>state</th><th scope=col>district</th><th scope=col>office</th><th scope=col>candidate_other</th><th scope=col>candidate_republican</th><th scope=col>candidate_democrat</th><th scope=col>total_votes_other</th><th scope=col>total_votes_republican</th><th scope=col>total_votes_democrat</th><th scope=col>vote_share_dem</th><th scope=col>vote_share_rep</th><th scope=col>vote_share_other</th><th scope=col>winner_party</th><th scope=col>gender_democrat</th><th scope=col>gender_republican</th><th scope=col>winner_gender</th><th scope=col>year</th></tr>\n",
       "\t<tr><th></th><th scope=col>&lt;int&gt;</th><th scope=col>&lt;chr&gt;</th><th scope=col>&lt;chr&gt;</th><th scope=col>&lt;chr&gt;</th><th scope=col>&lt;chr&gt;</th><th scope=col>&lt;chr&gt;</th><th scope=col>&lt;chr&gt;</th><th scope=col>&lt;int&gt;</th><th scope=col>&lt;int&gt;</th><th scope=col>&lt;int&gt;</th><th scope=col>&lt;dbl&gt;</th><th scope=col>&lt;dbl&gt;</th><th scope=col>&lt;dbl&gt;</th><th scope=col>&lt;chr&gt;</th><th scope=col>&lt;chr&gt;</th><th scope=col>&lt;chr&gt;</th><th scope=col>&lt;chr&gt;</th><th scope=col>&lt;int&gt;</th></tr>\n",
       "</thead>\n",
       "<tbody>\n",
       "\t<tr><th scope=row>1</th><td>1</td><td>Alabama</td><td>District 1  </td><td>State Representative</td><td>Bobby James Dolan III</td><td>Phillip Pettus</td><td>No candidate </td><td> 4336</td><td> 7348</td><td>    0</td><td>0.0000000</td><td>0.6288942</td><td>0.37110579</td><td>Republican</td><td>N/A    </td><td>male</td><td>male</td><td>2018</td></tr>\n",
       "\t<tr><th scope=row>2</th><td>2</td><td>Alabama</td><td>District 1  </td><td>State Senator       </td><td>No candidate         </td><td>Tim Melson    </td><td>Caroline Self</td><td>    0</td><td>33141</td><td>15830</td><td>0.3232525</td><td>0.6767475</td><td>0.00000000</td><td>Republican</td><td>female </td><td>male</td><td>male</td><td>2018</td></tr>\n",
       "\t<tr><th scope=row>3</th><td>3</td><td>Alabama</td><td>District 10 </td><td>State Representative</td><td>Elijah J. Boyd       </td><td>Mike Ball     </td><td>J.B. King    </td><td> 1130</td><td>11240</td><td> 8565</td><td>0.4091235</td><td>0.5368999</td><td>0.05397659</td><td>Republican</td><td>Unknown</td><td>male</td><td>male</td><td>2018</td></tr>\n",
       "\t<tr><th scope=row>4</th><td>4</td><td>Alabama</td><td>District 10 </td><td>State Senator       </td><td>Craig Ford           </td><td>Andrew Jones  </td><td>No candidate </td><td>16759</td><td>25902</td><td>    0</td><td>0.0000000</td><td>0.6071588</td><td>0.39284124</td><td>Republican</td><td>N/A    </td><td>male</td><td>male</td><td>2018</td></tr>\n",
       "\t<tr><th scope=row>5</th><td>5</td><td>Alabama</td><td>District 100</td><td>State Representative</td><td>No candidate         </td><td>Victor Gaston </td><td>No candidate </td><td>    0</td><td>12086</td><td>    0</td><td>0.0000000</td><td>1.0000000</td><td>0.00000000</td><td>Republican</td><td>N/A    </td><td>male</td><td>male</td><td>2018</td></tr>\n",
       "\t<tr><th scope=row>6</th><td>6</td><td>Alabama</td><td>District 101</td><td>State Representative</td><td>No candidate         </td><td>Chris Pringle </td><td>No candidate </td><td>    0</td><td>10274</td><td>    0</td><td>0.0000000</td><td>1.0000000</td><td>0.00000000</td><td>Republican</td><td>N/A    </td><td>male</td><td>male</td><td>2018</td></tr>\n",
       "</tbody>\n",
       "</table>\n"
      ],
      "text/latex": [
       "A data.frame: 6 × 18\n",
       "\\begin{tabular}{r|llllllllllllllllll}\n",
       "  & X & state & district & office & candidate\\_other & candidate\\_republican & candidate\\_democrat & total\\_votes\\_other & total\\_votes\\_republican & total\\_votes\\_democrat & vote\\_share\\_dem & vote\\_share\\_rep & vote\\_share\\_other & winner\\_party & gender\\_democrat & gender\\_republican & winner\\_gender & year\\\\\n",
       "  & <int> & <chr> & <chr> & <chr> & <chr> & <chr> & <chr> & <int> & <int> & <int> & <dbl> & <dbl> & <dbl> & <chr> & <chr> & <chr> & <chr> & <int>\\\\\n",
       "\\hline\n",
       "\t1 & 1 & Alabama & District 1   & State Representative & Bobby James Dolan III & Phillip Pettus & No candidate  &  4336 &  7348 &     0 & 0.0000000 & 0.6288942 & 0.37110579 & Republican & N/A     & male & male & 2018\\\\\n",
       "\t2 & 2 & Alabama & District 1   & State Senator        & No candidate          & Tim Melson     & Caroline Self &     0 & 33141 & 15830 & 0.3232525 & 0.6767475 & 0.00000000 & Republican & female  & male & male & 2018\\\\\n",
       "\t3 & 3 & Alabama & District 10  & State Representative & Elijah J. Boyd        & Mike Ball      & J.B. King     &  1130 & 11240 &  8565 & 0.4091235 & 0.5368999 & 0.05397659 & Republican & Unknown & male & male & 2018\\\\\n",
       "\t4 & 4 & Alabama & District 10  & State Senator        & Craig Ford            & Andrew Jones   & No candidate  & 16759 & 25902 &     0 & 0.0000000 & 0.6071588 & 0.39284124 & Republican & N/A     & male & male & 2018\\\\\n",
       "\t5 & 5 & Alabama & District 100 & State Representative & No candidate          & Victor Gaston  & No candidate  &     0 & 12086 &     0 & 0.0000000 & 1.0000000 & 0.00000000 & Republican & N/A     & male & male & 2018\\\\\n",
       "\t6 & 6 & Alabama & District 101 & State Representative & No candidate          & Chris Pringle  & No candidate  &     0 & 10274 &     0 & 0.0000000 & 1.0000000 & 0.00000000 & Republican & N/A     & male & male & 2018\\\\\n",
       "\\end{tabular}\n"
      ],
      "text/markdown": [
       "\n",
       "A data.frame: 6 × 18\n",
       "\n",
       "| <!--/--> | X &lt;int&gt; | state &lt;chr&gt; | district &lt;chr&gt; | office &lt;chr&gt; | candidate_other &lt;chr&gt; | candidate_republican &lt;chr&gt; | candidate_democrat &lt;chr&gt; | total_votes_other &lt;int&gt; | total_votes_republican &lt;int&gt; | total_votes_democrat &lt;int&gt; | vote_share_dem &lt;dbl&gt; | vote_share_rep &lt;dbl&gt; | vote_share_other &lt;dbl&gt; | winner_party &lt;chr&gt; | gender_democrat &lt;chr&gt; | gender_republican &lt;chr&gt; | winner_gender &lt;chr&gt; | year &lt;int&gt; |\n",
       "|---|---|---|---|---|---|---|---|---|---|---|---|---|---|---|---|---|---|---|\n",
       "| 1 | 1 | Alabama | District 1   | State Representative | Bobby James Dolan III | Phillip Pettus | No candidate  |  4336 |  7348 |     0 | 0.0000000 | 0.6288942 | 0.37110579 | Republican | N/A     | male | male | 2018 |\n",
       "| 2 | 2 | Alabama | District 1   | State Senator        | No candidate          | Tim Melson     | Caroline Self |     0 | 33141 | 15830 | 0.3232525 | 0.6767475 | 0.00000000 | Republican | female  | male | male | 2018 |\n",
       "| 3 | 3 | Alabama | District 10  | State Representative | Elijah J. Boyd        | Mike Ball      | J.B. King     |  1130 | 11240 |  8565 | 0.4091235 | 0.5368999 | 0.05397659 | Republican | Unknown | male | male | 2018 |\n",
       "| 4 | 4 | Alabama | District 10  | State Senator        | Craig Ford            | Andrew Jones   | No candidate  | 16759 | 25902 |     0 | 0.0000000 | 0.6071588 | 0.39284124 | Republican | N/A     | male | male | 2018 |\n",
       "| 5 | 5 | Alabama | District 100 | State Representative | No candidate          | Victor Gaston  | No candidate  |     0 | 12086 |     0 | 0.0000000 | 1.0000000 | 0.00000000 | Republican | N/A     | male | male | 2018 |\n",
       "| 6 | 6 | Alabama | District 101 | State Representative | No candidate          | Chris Pringle  | No candidate  |     0 | 10274 |     0 | 0.0000000 | 1.0000000 | 0.00000000 | Republican | N/A     | male | male | 2018 |\n",
       "\n"
      ],
      "text/plain": [
       "  X state   district     office               candidate_other      \n",
       "1 1 Alabama District 1   State Representative Bobby James Dolan III\n",
       "2 2 Alabama District 1   State Senator        No candidate         \n",
       "3 3 Alabama District 10  State Representative Elijah J. Boyd       \n",
       "4 4 Alabama District 10  State Senator        Craig Ford           \n",
       "5 5 Alabama District 100 State Representative No candidate         \n",
       "6 6 Alabama District 101 State Representative No candidate         \n",
       "  candidate_republican candidate_democrat total_votes_other\n",
       "1 Phillip Pettus       No candidate        4336            \n",
       "2 Tim Melson           Caroline Self          0            \n",
       "3 Mike Ball            J.B. King           1130            \n",
       "4 Andrew Jones         No candidate       16759            \n",
       "5 Victor Gaston        No candidate           0            \n",
       "6 Chris Pringle        No candidate           0            \n",
       "  total_votes_republican total_votes_democrat vote_share_dem vote_share_rep\n",
       "1  7348                      0                0.0000000      0.6288942     \n",
       "2 33141                  15830                0.3232525      0.6767475     \n",
       "3 11240                   8565                0.4091235      0.5368999     \n",
       "4 25902                      0                0.0000000      0.6071588     \n",
       "5 12086                      0                0.0000000      1.0000000     \n",
       "6 10274                      0                0.0000000      1.0000000     \n",
       "  vote_share_other winner_party gender_democrat gender_republican winner_gender\n",
       "1 0.37110579       Republican   N/A             male              male         \n",
       "2 0.00000000       Republican   female          male              male         \n",
       "3 0.05397659       Republican   Unknown         male              male         \n",
       "4 0.39284124       Republican   N/A             male              male         \n",
       "5 0.00000000       Republican   N/A             male              male         \n",
       "6 0.00000000       Republican   N/A             male              male         \n",
       "  year\n",
       "1 2018\n",
       "2 2018\n",
       "3 2018\n",
       "4 2018\n",
       "5 2018\n",
       "6 2018"
      ]
     },
     "metadata": {},
     "output_type": "display_data"
    },
    {
     "data": {
      "text/html": [
       "<table>\n",
       "<caption>A data.frame: 6 × 12</caption>\n",
       "<thead>\n",
       "\t<tr><th></th><th scope=col>X</th><th scope=col>year</th><th scope=col>state</th><th scope=col>district</th><th scope=col>office</th><th scope=col>candidate</th><th scope=col>total_votes</th><th scope=col>vote_prop</th><th scope=col>gender</th><th scope=col>winner_party</th><th scope=col>candidate_party</th><th scope=col>race_ethnicity</th></tr>\n",
       "\t<tr><th></th><th scope=col>&lt;int&gt;</th><th scope=col>&lt;int&gt;</th><th scope=col>&lt;chr&gt;</th><th scope=col>&lt;chr&gt;</th><th scope=col>&lt;chr&gt;</th><th scope=col>&lt;chr&gt;</th><th scope=col>&lt;int&gt;</th><th scope=col>&lt;dbl&gt;</th><th scope=col>&lt;chr&gt;</th><th scope=col>&lt;chr&gt;</th><th scope=col>&lt;chr&gt;</th><th scope=col>&lt;chr&gt;</th></tr>\n",
       "</thead>\n",
       "<tbody>\n",
       "\t<tr><th scope=row>1</th><td>1</td><td>2018</td><td>Alabama</td><td>District 1  </td><td>State Representative</td><td>No candidate </td><td>    0</td><td>0.0000000</td><td>N/A    </td><td>Republican</td><td>Democrat</td><td>Missing</td></tr>\n",
       "\t<tr><th scope=row>2</th><td>2</td><td>2018</td><td>Alabama</td><td>District 1  </td><td>State Senator       </td><td>Caroline Self</td><td>15830</td><td>0.3232525</td><td>female </td><td>Republican</td><td>Democrat</td><td>Missing</td></tr>\n",
       "\t<tr><th scope=row>3</th><td>3</td><td>2018</td><td>Alabama</td><td>District 10 </td><td>State Representative</td><td>J.B. King    </td><td> 8565</td><td>0.4091235</td><td>Unknown</td><td>Republican</td><td>Democrat</td><td>Missing</td></tr>\n",
       "\t<tr><th scope=row>4</th><td>4</td><td>2018</td><td>Alabama</td><td>District 10 </td><td>State Senator       </td><td>No candidate </td><td>    0</td><td>0.0000000</td><td>N/A    </td><td>Republican</td><td>Democrat</td><td>Missing</td></tr>\n",
       "\t<tr><th scope=row>5</th><td>5</td><td>2018</td><td>Alabama</td><td>District 100</td><td>State Representative</td><td>No candidate </td><td>    0</td><td>0.0000000</td><td>N/A    </td><td>Republican</td><td>Democrat</td><td>Missing</td></tr>\n",
       "\t<tr><th scope=row>6</th><td>6</td><td>2018</td><td>Alabama</td><td>District 101</td><td>State Representative</td><td>No candidate </td><td>    0</td><td>0.0000000</td><td>N/A    </td><td>Republican</td><td>Democrat</td><td>Missing</td></tr>\n",
       "</tbody>\n",
       "</table>\n"
      ],
      "text/latex": [
       "A data.frame: 6 × 12\n",
       "\\begin{tabular}{r|llllllllllll}\n",
       "  & X & year & state & district & office & candidate & total\\_votes & vote\\_prop & gender & winner\\_party & candidate\\_party & race\\_ethnicity\\\\\n",
       "  & <int> & <int> & <chr> & <chr> & <chr> & <chr> & <int> & <dbl> & <chr> & <chr> & <chr> & <chr>\\\\\n",
       "\\hline\n",
       "\t1 & 1 & 2018 & Alabama & District 1   & State Representative & No candidate  &     0 & 0.0000000 & N/A     & Republican & Democrat & Missing\\\\\n",
       "\t2 & 2 & 2018 & Alabama & District 1   & State Senator        & Caroline Self & 15830 & 0.3232525 & female  & Republican & Democrat & Missing\\\\\n",
       "\t3 & 3 & 2018 & Alabama & District 10  & State Representative & J.B. King     &  8565 & 0.4091235 & Unknown & Republican & Democrat & Missing\\\\\n",
       "\t4 & 4 & 2018 & Alabama & District 10  & State Senator        & No candidate  &     0 & 0.0000000 & N/A     & Republican & Democrat & Missing\\\\\n",
       "\t5 & 5 & 2018 & Alabama & District 100 & State Representative & No candidate  &     0 & 0.0000000 & N/A     & Republican & Democrat & Missing\\\\\n",
       "\t6 & 6 & 2018 & Alabama & District 101 & State Representative & No candidate  &     0 & 0.0000000 & N/A     & Republican & Democrat & Missing\\\\\n",
       "\\end{tabular}\n"
      ],
      "text/markdown": [
       "\n",
       "A data.frame: 6 × 12\n",
       "\n",
       "| <!--/--> | X &lt;int&gt; | year &lt;int&gt; | state &lt;chr&gt; | district &lt;chr&gt; | office &lt;chr&gt; | candidate &lt;chr&gt; | total_votes &lt;int&gt; | vote_prop &lt;dbl&gt; | gender &lt;chr&gt; | winner_party &lt;chr&gt; | candidate_party &lt;chr&gt; | race_ethnicity &lt;chr&gt; |\n",
       "|---|---|---|---|---|---|---|---|---|---|---|---|---|\n",
       "| 1 | 1 | 2018 | Alabama | District 1   | State Representative | No candidate  |     0 | 0.0000000 | N/A     | Republican | Democrat | Missing |\n",
       "| 2 | 2 | 2018 | Alabama | District 1   | State Senator        | Caroline Self | 15830 | 0.3232525 | female  | Republican | Democrat | Missing |\n",
       "| 3 | 3 | 2018 | Alabama | District 10  | State Representative | J.B. King     |  8565 | 0.4091235 | Unknown | Republican | Democrat | Missing |\n",
       "| 4 | 4 | 2018 | Alabama | District 10  | State Senator        | No candidate  |     0 | 0.0000000 | N/A     | Republican | Democrat | Missing |\n",
       "| 5 | 5 | 2018 | Alabama | District 100 | State Representative | No candidate  |     0 | 0.0000000 | N/A     | Republican | Democrat | Missing |\n",
       "| 6 | 6 | 2018 | Alabama | District 101 | State Representative | No candidate  |     0 | 0.0000000 | N/A     | Republican | Democrat | Missing |\n",
       "\n"
      ],
      "text/plain": [
       "  X year state   district     office               candidate     total_votes\n",
       "1 1 2018 Alabama District 1   State Representative No candidate      0      \n",
       "2 2 2018 Alabama District 1   State Senator        Caroline Self 15830      \n",
       "3 3 2018 Alabama District 10  State Representative J.B. King      8565      \n",
       "4 4 2018 Alabama District 10  State Senator        No candidate      0      \n",
       "5 5 2018 Alabama District 100 State Representative No candidate      0      \n",
       "6 6 2018 Alabama District 101 State Representative No candidate      0      \n",
       "  vote_prop gender  winner_party candidate_party race_ethnicity\n",
       "1 0.0000000 N/A     Republican   Democrat        Missing       \n",
       "2 0.3232525 female  Republican   Democrat        Missing       \n",
       "3 0.4091235 Unknown Republican   Democrat        Missing       \n",
       "4 0.0000000 N/A     Republican   Democrat        Missing       \n",
       "5 0.0000000 N/A     Republican   Democrat        Missing       \n",
       "6 0.0000000 N/A     Republican   Democrat        Missing       "
      ]
     },
     "metadata": {},
     "output_type": "display_data"
    }
   ],
   "source": [
    "## Read data in, change path as necessary\n",
    "\n",
    "# One line per election\n",
    "elections_2016 <- read.csv(\"2016_election_results_wide.csv\")\n",
    "\n",
    "# One line per candidate\n",
    "elections_2016_long <- read.csv(\"2016_election_results_long.csv\")\n",
    "\n",
    "# One line per election\n",
    "elections_2018 <- read.csv(\"2018_election_results_wide.csv\")\n",
    "\n",
    "# One line per candidate\n",
    "elections_2018_long <- read.csv(\"2018_election_results_long.csv\")\n",
    "\n",
    "head(elections_2016)\n",
    "head(elections_2016_long)\n",
    "head(elections_2018)\n",
    "head(elections_2018_long)\n"
   ]
  },
  {
   "cell_type": "code",
   "execution_count": 34,
   "metadata": {},
   "outputs": [],
   "source": [
    "## Add regions in\n",
    "## Region generator\n",
    "# Need to manually change states depending on form, e.g. RI/Rhode Island/RHODE ISLAND\n",
    "\n",
    "states_northeast <- c(\"Connecticut\", \"Maine\", \"Massachusetts\",\n",
    "                      \"New Hampshire\", \"New Jersey\", \"New York\", \"Pennsylvania\", \n",
    "                      \"Rhode Island\", \"Vermont\")\n",
    "states_west <- c(\"Alaska\", \"Arizona\", \"California\", \"Colorado\", \"Hawaii\", \"Idaho\", \"Montana\", \"Nevada\", \n",
    "                 \"New Mexico\", \"Oregon\", \"Utah\", \"Washington\", \"Wyoming\")\n",
    "states_midwest <- c(\"Indiana\", \"Illinois\", \"Iowa\", \"Kansas\", \"Michigan\", \"Minnesota\", \"Missouri\", \n",
    "                    \"Nebraska\", \"North Dakota\", \"Ohio\", \"South Dakota\", \"Wisconsin\")\n",
    "states_south <- c(\"Alabama\", \"Arkansas\", \"Delaware\", \"District of Columbia\", \n",
    "                  \"Florida\", \"Georgia\", \"Kentucky\", \"Louisiana\", \"Maryland\", \"Mississippi\", \n",
    "                  \"North Carolina\", \"Oklahoma\", \"South Carolina\", \"Tennessee\", \"Texas\", \n",
    "                  \"Virginia\", \"West Virginia\")\n",
    "elections_2016 <- elections_2016 %>%\n",
    "  mutate(region = case_when(state %in% states_northeast ~ \"Northeast\",\n",
    "                            state %in% states_west ~ \"West\",\n",
    "                            state %in% states_midwest ~ \"Midwest\",\n",
    "                            state %in% states_south ~ \"South\",\n",
    "                            TRUE ~ \"Other\"))\n",
    "\n",
    "elections_2016_long <- elections_2016_long %>%\n",
    "  mutate(region = case_when(state %in% states_northeast ~ \"Northeast\",\n",
    "                            state %in% states_west ~ \"West\",\n",
    "                            state %in% states_midwest ~ \"Midwest\",\n",
    "                            state %in% states_south ~ \"South\",\n",
    "                            TRUE ~ \"Other\"))\n",
    "\n",
    "elections_2018 <- elections_2018 %>%\n",
    "  mutate(region = case_when(state %in% states_northeast ~ \"Northeast\",\n",
    "                            state %in% states_west ~ \"West\",\n",
    "                            state %in% states_midwest ~ \"Midwest\",\n",
    "                            state %in% states_south ~ \"South\",\n",
    "                            TRUE ~ \"Other\"))\n",
    "\n",
    "elections_2018_long <- elections_2018_long %>%\n",
    "  mutate(region = case_when(state %in% states_northeast ~ \"Northeast\",\n",
    "                            state %in% states_west ~ \"West\",\n",
    "                            state %in% states_midwest ~ \"Midwest\",\n",
    "                            state %in% states_south ~ \"South\",\n",
    "                            TRUE ~ \"Other\"))\n"
   ]
  },
  {
   "cell_type": "code",
   "execution_count": 35,
   "metadata": {},
   "outputs": [
    {
     "name": "stderr",
     "output_type": "stream",
     "text": [
      "`summarise()` regrouping output by 'year' (override with `.groups` argument)\n",
      "\n",
      "`summarise()` regrouping output by 'year' (override with `.groups` argument)\n",
      "\n"
     ]
    },
    {
     "data": {
      "image/png": "[encoded data removed]",
      "text/plain": [
       "plot without title"
      ]
     },
     "metadata": {
      "image/png": {
       "height": 420,
       "width": 420
      }
     },
     "output_type": "display_data"
    },
    {
     "name": "stderr",
     "output_type": "stream",
     "text": [
      "`summarise()` ungrouping output (override with `.groups` argument)\n",
      "\n"
     ]
    },
    {
     "data": {
      "image/png": "[encoded data removed]",
      "text/plain": [
       "plot without title"
      ]
     },
     "metadata": {
      "image/png": {
       "height": 420,
       "width": 420
      }
     },
     "output_type": "display_data"
    },
    {
     "name": "stderr",
     "output_type": "stream",
     "text": [
      "`summarise()` ungrouping output (override with `.groups` argument)\n",
      "\n"
     ]
    },
    {
     "data": {
      "image/png": "[encoded data removed]",
      "text/plain": [
       "plot without title"
      ]
     },
     "metadata": {
      "image/png": {
       "height": 420,
       "width": 420
      }
     },
     "output_type": "display_data"
    },
    {
     "name": "stderr",
     "output_type": "stream",
     "text": [
      "`summarise()` regrouping output by 'candidate_party' (override with `.groups` argument)\n",
      "\n"
     ]
    },
    {
     "data": {
      "image/png": "[encoded data removed]",
      "text/plain": [
       "plot without title"
      ]
     },
     "metadata": {
      "image/png": {
       "height": 420,
       "width": 420
      }
     },
     "output_type": "display_data"
    },
    {
     "name": "stderr",
     "output_type": "stream",
     "text": [
      "`summarise()` regrouping output by 'candidate_party' (override with `.groups` argument)\n",
      "\n"
     ]
    },
    {
     "data": {
      "image/png": "[encoded data removed]",
      "text/plain": [
       "plot without title"
      ]
     },
     "metadata": {
      "image/png": {
       "height": 420,
       "width": 420
      }
     },
     "output_type": "display_data"
    },
    {
     "data": {
      "image/png": "[encoded data removed]",
      "text/plain": [
       "plot without title"
      ]
     },
     "metadata": {
      "image/png": {
       "height": 420,
       "width": 420
      }
     },
     "output_type": "display_data"
    }
   ],
   "source": [
    "## Basic descriptives for 2016, separated by party\n",
    "\n",
    "elections_2016_long %>%\n",
    "    filter(candidate_party == \"Democrat\", gender %in% c(\"male\", \"female\"), !is.na(total_votes)) %>%\n",
    "    group_by(year, gender) %>%\n",
    "    summarize(mean_votes = mean(total_votes)) %>%\n",
    "    ggplot(aes(x = gender, y = mean_votes, fill = gender)) + \n",
    "        geom_bar(stat = \"identity\")\n",
    "        \n",
    "\n",
    "\n",
    "elections_2016_long %>%\n",
    "    filter(candidate_party == \"Republican\", gender %in% c(\"male\", \"female\"), !is.na(total_votes)) %>%\n",
    "    group_by(year, gender) %>%\n",
    "    summarize(mean_votes = mean(total_votes)) %>%\n",
    "    ggplot(aes(x = gender, y = mean_votes, fill = gender)) + \n",
    "        geom_bar(stat = \"identity\")\n",
    "\n",
    "\n",
    "elections_2016 %>%\n",
    "    group_by(gender_dem) %>%\n",
    "    filter(gender_dem %in% c(\"male\", \"female\"), !is.na(vote_prop_dem), !vote_prop_dem == 1) %>%\n",
    "    summarize(count = n(),\n",
    "              mean_vote_share = mean(vote_prop_dem)) %>%\n",
    "    ggplot(aes(x = gender_dem, y = mean_vote_share, fill = gender_dem)) + \n",
    "        geom_bar(stat = \"identity\")\n",
    "\n",
    "\n",
    "elections_2016 %>%\n",
    "    group_by(gender_rep) %>%\n",
    "    filter(gender_rep %in% c(\"male\", \"female\"), !is.na(vote_prop_rep), !vote_prop_rep == 1) %>%\n",
    "    summarize(count = n(),\n",
    "              mean_vote_share = mean(vote_prop_rep)) %>% \n",
    "    ggplot(aes(x = gender_rep, y = mean_vote_share, fill = gender_rep)) + \n",
    "        geom_bar(stat = \"identity\")\n",
    "\n",
    "\n",
    "elections_2016_long %>%\n",
    "    filter(gender %in% c(\"male\", \"female\"), !is.na(vote_prop), vote_prop != 1) %>%\n",
    "    group_by(candidate_party, gender) %>%\n",
    "    summarize(avg_vote_prop = round(100*mean(vote_prop),1)) %>%\n",
    "    ggplot(aes(x = gender, y = avg_vote_prop, fill = gender, label = paste(avg_vote_prop, \"%\", sep = \"\"))) + \n",
    "        geom_bar(stat = \"identity\") +\n",
    "        geom_text(position = position_nudge(0,2)) + \n",
    "        facet_grid(. ~ candidate_party) +\n",
    "        ylim(0,75) + \n",
    "        labs(title = \"Vote Share by Gender, Democrats vs Republicans\",\n",
    "             subtitle = \"2016\",\n",
    "            x = \"gender\",\n",
    "            y = \"Average Vote Share\") +\n",
    "        theme(legend.position = \"none\")\n",
    "\n",
    "\n",
    "elections_2016_long %>%\n",
    "    filter(gender %in% c(\"male\", \"female\"), !is.na(vote_prop), vote_prop != 1, candidate_party == winner_party) %>%\n",
    "    group_by(candidate_party, gender) %>%\n",
    "    summarize(avg_vote_prop = round(100*mean(vote_prop),1)) %>%\n",
    "    ggplot(aes(x = gender, y = avg_vote_prop, fill = gender, label = paste(avg_vote_prop, \"%\", sep = \"\"))) + \n",
    "        geom_bar(stat = \"identity\") +\n",
    "        geom_text(position = position_nudge(0,2)) + \n",
    "        facet_grid(. ~ candidate_party) +\n",
    "        ylim(0,75) + \n",
    "        labs(title = \"Vote Share by Gender, Democrats vs Republicans\",\n",
    "             subtitle = \"Winning Candidates Only, 2016\",\n",
    "            x = \"gender\",\n",
    "            y = \"Average Vote Share\") +\n",
    "        theme(legend.position = \"none\")\n",
    "\n",
    "\n"
   ]
  },
  {
   "cell_type": "code",
   "execution_count": 36,
   "metadata": {},
   "outputs": [
    {
     "name": "stderr",
     "output_type": "stream",
     "text": [
      "`summarise()` ungrouping output (override with `.groups` argument)\n",
      "\n",
      "`summarise()` regrouping output by 'region' (override with `.groups` argument)\n",
      "\n",
      "`summarise()` ungrouping output (override with `.groups` argument)\n",
      "\n",
      "`summarise()` ungrouping output (override with `.groups` argument)\n",
      "\n",
      "`summarise()` regrouping output by 'region' (override with `.groups` argument)\n",
      "\n",
      "`summarise()` ungrouping output (override with `.groups` argument)\n",
      "\n"
     ]
    },
    {
     "data": {
      "image/png": "[encoded data removed]",
      "text/plain": [
       "plot without title"
      ]
     },
     "metadata": {
      "image/png": {
       "height": 420,
       "width": 420
      }
     },
     "output_type": "display_data"
    },
    {
     "data": {
      "image/png": "[encoded data removed]",
      "text/plain": [
       "plot without title"
      ]
     },
     "metadata": {
      "image/png": {
       "height": 420,
       "width": 420
      }
     },
     "output_type": "display_data"
    },
    {
     "name": "stderr",
     "output_type": "stream",
     "text": [
      "Saving 6.67 x 6.67 in image\n",
      "\n"
     ]
    },
    {
     "data": {
      "image/png": "[encoded data removed]",
      "text/plain": [
       "plot without title"
      ]
     },
     "metadata": {
      "image/png": {
       "height": 420,
       "width": 420
      }
     },
     "output_type": "display_data"
    },
    {
     "name": "stderr",
     "output_type": "stream",
     "text": [
      "Saving 6.67 x 6.67 in image\n",
      "\n",
      "`summarise()` regrouping output by 'region' (override with `.groups` argument)\n",
      "\n"
     ]
    },
    {
     "data": {
      "text/html": [
       "<table>\n",
       "<caption>A grouped_df: 8 × 4</caption>\n",
       "<thead>\n",
       "\t<tr><th scope=col>region</th><th scope=col>winner_gender</th><th scope=col>count</th><th scope=col>prop</th></tr>\n",
       "\t<tr><th scope=col>&lt;chr&gt;</th><th scope=col>&lt;chr&gt;</th><th scope=col>&lt;int&gt;</th><th scope=col>&lt;dbl&gt;</th></tr>\n",
       "</thead>\n",
       "<tbody>\n",
       "\t<tr><td>Midwest  </td><td>female</td><td>200</td><td>0.3007519</td></tr>\n",
       "\t<tr><td>Midwest  </td><td>male  </td><td>465</td><td>0.6992481</td></tr>\n",
       "\t<tr><td>Northeast</td><td>female</td><td>112</td><td>0.2970822</td></tr>\n",
       "\t<tr><td>Northeast</td><td>male  </td><td>265</td><td>0.7029178</td></tr>\n",
       "\t<tr><td>South    </td><td>female</td><td>101</td><td>0.2354312</td></tr>\n",
       "\t<tr><td>South    </td><td>male  </td><td>328</td><td>0.7645688</td></tr>\n",
       "\t<tr><td>West     </td><td>female</td><td>153</td><td>0.3035714</td></tr>\n",
       "\t<tr><td>West     </td><td>male  </td><td>351</td><td>0.6964286</td></tr>\n",
       "</tbody>\n",
       "</table>\n"
      ],
      "text/latex": [
       "A grouped\\_df: 8 × 4\n",
       "\\begin{tabular}{llll}\n",
       " region & winner\\_gender & count & prop\\\\\n",
       " <chr> & <chr> & <int> & <dbl>\\\\\n",
       "\\hline\n",
       "\t Midwest   & female & 200 & 0.3007519\\\\\n",
       "\t Midwest   & male   & 465 & 0.6992481\\\\\n",
       "\t Northeast & female & 112 & 0.2970822\\\\\n",
       "\t Northeast & male   & 265 & 0.7029178\\\\\n",
       "\t South     & female & 101 & 0.2354312\\\\\n",
       "\t South     & male   & 328 & 0.7645688\\\\\n",
       "\t West      & female & 153 & 0.3035714\\\\\n",
       "\t West      & male   & 351 & 0.6964286\\\\\n",
       "\\end{tabular}\n"
      ],
      "text/markdown": [
       "\n",
       "A grouped_df: 8 × 4\n",
       "\n",
       "| region &lt;chr&gt; | winner_gender &lt;chr&gt; | count &lt;int&gt; | prop &lt;dbl&gt; |\n",
       "|---|---|---|---|\n",
       "| Midwest   | female | 200 | 0.3007519 |\n",
       "| Midwest   | male   | 465 | 0.6992481 |\n",
       "| Northeast | female | 112 | 0.2970822 |\n",
       "| Northeast | male   | 265 | 0.7029178 |\n",
       "| South     | female | 101 | 0.2354312 |\n",
       "| South     | male   | 328 | 0.7645688 |\n",
       "| West      | female | 153 | 0.3035714 |\n",
       "| West      | male   | 351 | 0.6964286 |\n",
       "\n"
      ],
      "text/plain": [
       "  region    winner_gender count prop     \n",
       "1 Midwest   female        200   0.3007519\n",
       "2 Midwest   male          465   0.6992481\n",
       "3 Northeast female        112   0.2970822\n",
       "4 Northeast male          265   0.7029178\n",
       "5 South     female        101   0.2354312\n",
       "6 South     male          328   0.7645688\n",
       "7 West      female        153   0.3035714\n",
       "8 West      male          351   0.6964286"
      ]
     },
     "metadata": {},
     "output_type": "display_data"
    },
    {
     "name": "stderr",
     "output_type": "stream",
     "text": [
      "`summarise()` regrouping output by 'region' (override with `.groups` argument)\n",
      "\n"
     ]
    },
    {
     "data": {
      "text/html": [
       "<table>\n",
       "<caption>A grouped_df: 8 × 4</caption>\n",
       "<thead>\n",
       "\t<tr><th scope=col>region</th><th scope=col>winner_gender</th><th scope=col>count</th><th scope=col>prop</th></tr>\n",
       "\t<tr><th scope=col>&lt;chr&gt;</th><th scope=col>&lt;chr&gt;</th><th scope=col>&lt;int&gt;</th><th scope=col>&lt;dbl&gt;</th></tr>\n",
       "</thead>\n",
       "<tbody>\n",
       "\t<tr><td>Midwest  </td><td>female</td><td>216</td><td>0.2783505</td></tr>\n",
       "\t<tr><td>Midwest  </td><td>male  </td><td>560</td><td>0.7216495</td></tr>\n",
       "\t<tr><td>Northeast</td><td>female</td><td>437</td><td>0.3744644</td></tr>\n",
       "\t<tr><td>Northeast</td><td>male  </td><td>730</td><td>0.6255356</td></tr>\n",
       "\t<tr><td>South    </td><td>female</td><td>211</td><td>0.2539110</td></tr>\n",
       "\t<tr><td>South    </td><td>male  </td><td>620</td><td>0.7460890</td></tr>\n",
       "\t<tr><td>West     </td><td>female</td><td>214</td><td>0.3760984</td></tr>\n",
       "\t<tr><td>West     </td><td>male  </td><td>355</td><td>0.6239016</td></tr>\n",
       "</tbody>\n",
       "</table>\n"
      ],
      "text/latex": [
       "A grouped\\_df: 8 × 4\n",
       "\\begin{tabular}{llll}\n",
       " region & winner\\_gender & count & prop\\\\\n",
       " <chr> & <chr> & <int> & <dbl>\\\\\n",
       "\\hline\n",
       "\t Midwest   & female & 216 & 0.2783505\\\\\n",
       "\t Midwest   & male   & 560 & 0.7216495\\\\\n",
       "\t Northeast & female & 437 & 0.3744644\\\\\n",
       "\t Northeast & male   & 730 & 0.6255356\\\\\n",
       "\t South     & female & 211 & 0.2539110\\\\\n",
       "\t South     & male   & 620 & 0.7460890\\\\\n",
       "\t West      & female & 214 & 0.3760984\\\\\n",
       "\t West      & male   & 355 & 0.6239016\\\\\n",
       "\\end{tabular}\n"
      ],
      "text/markdown": [
       "\n",
       "A grouped_df: 8 × 4\n",
       "\n",
       "| region &lt;chr&gt; | winner_gender &lt;chr&gt; | count &lt;int&gt; | prop &lt;dbl&gt; |\n",
       "|---|---|---|---|\n",
       "| Midwest   | female | 216 | 0.2783505 |\n",
       "| Midwest   | male   | 560 | 0.7216495 |\n",
       "| Northeast | female | 437 | 0.3744644 |\n",
       "| Northeast | male   | 730 | 0.6255356 |\n",
       "| South     | female | 211 | 0.2539110 |\n",
       "| South     | male   | 620 | 0.7460890 |\n",
       "| West      | female | 214 | 0.3760984 |\n",
       "| West      | male   | 355 | 0.6239016 |\n",
       "\n"
      ],
      "text/plain": [
       "  region    winner_gender count prop     \n",
       "1 Midwest   female        216   0.2783505\n",
       "2 Midwest   male          560   0.7216495\n",
       "3 Northeast female        437   0.3744644\n",
       "4 Northeast male          730   0.6255356\n",
       "5 South     female        211   0.2539110\n",
       "6 South     male          620   0.7460890\n",
       "7 West      female        214   0.3760984\n",
       "8 West      male          355   0.6239016"
      ]
     },
     "metadata": {},
     "output_type": "display_data"
    },
    {
     "data": {
      "image/png": "[encoded data removed]",
      "text/plain": [
       "plot without title"
      ]
     },
     "metadata": {
      "image/png": {
       "height": 420,
       "width": 420
      }
     },
     "output_type": "display_data"
    }
   ],
   "source": [
    "## Female proportion of winners, 2016 vs 2018\n",
    "\n",
    "# 2016, female % of winning candidates\n",
    "female_win_2016 <- elections_2016 %>%\n",
    "    filter(gender_dem %in% c(\"male\", \"female\"), gender_rep %in% c(\"male\", \"female\"), winner_gender %in% c(\"male\", \"female\")) %>%\n",
    "    group_by(winner_gender) %>%\n",
    "    summarize(count = n()) %>%\n",
    "    mutate(prop = count/sum(count)) %>%\n",
    "    filter(winner_gender == \"female\") %>%\n",
    "    summarize(avg_prop = round(100*mean(prop),1)) %>%\n",
    "    mutate(year = 2016)\n",
    "\n",
    "# By region\n",
    "female_win_region_16 <- elections_2016 %>%\n",
    "    filter(gender_dem %in% c(\"male\", \"female\"), gender_rep %in% c(\"male\", \"female\"), winner_gender %in% c(\"male\", \"female\")) %>%\n",
    "    group_by(region, winner_gender) %>%\n",
    "    summarize(count = n()) %>%\n",
    "    mutate(prop = count/sum(count)) %>%\n",
    "    filter(winner_gender == \"female\") %>%\n",
    "    summarize(avg_prop = round(100*mean(prop),1)) %>%\n",
    "    mutate(year = 2016)\n",
    "\n",
    "female_win_region_16 %>%\n",
    "    ggplot(aes(x = region, y = avg_prop, fill = region, label = paste(avg_prop, \"%\", sep = \"\"))) +\n",
    "        geom_bar(stat = \"identity\") +\n",
    "        geom_text(position = position_nudge(0,2)) +\n",
    "        ylim(0,50)\n",
    "\n",
    "\n",
    "# 2018, female % of winning candidates\n",
    "female_win_2018 <- elections_2018 %>%\n",
    "    filter(gender_democrat %in% c(\"male\", \"female\"), gender_republican %in% c(\"male\", \"female\"), winner_gender %in% c(\"male\", \"female\")) %>%\n",
    "    group_by(winner_gender) %>%\n",
    "    summarize(count = n()) %>%\n",
    "    mutate(prop = count/sum(count)) %>%\n",
    "    filter(winner_gender == \"female\") %>%\n",
    "    summarize(avg_prop = round(100*mean(prop),1)) %>%\n",
    "    mutate(year = 2018)\n",
    "\n",
    "\n",
    "\n",
    "# By region\n",
    "female_win_region_18 <- elections_2018 %>%\n",
    "    filter(gender_democrat %in% c(\"male\", \"female\"), gender_republican %in% c(\"male\", \"female\"), winner_gender %in% c(\"male\", \"female\")) %>%\n",
    "    group_by(region, winner_gender) %>%\n",
    "    summarize(count = n()) %>%\n",
    "    mutate(prop = count/sum(count)) %>%\n",
    "    filter(winner_gender == \"female\") %>%\n",
    "    summarize(avg_prop = round(100*mean(prop),1)) %>%\n",
    "    mutate(year = 2018)\n",
    "\n",
    "female_win_region_18 %>%\n",
    "    ggplot(aes(x = region, y = avg_prop, fill = region, label = paste(avg_prop, \"%\", sep = \"\"))) +\n",
    "        geom_bar(stat = \"identity\") +\n",
    "        geom_text(position = position_nudge(0,2)) +\n",
    "        ylim(0,50)\n",
    "\n",
    "\n",
    "\n",
    "# 2016 vs 2018 overall\n",
    "female_win_2016 %>%\n",
    "    rbind(female_win_2018) %>%\n",
    "    ggplot(aes(x = as.factor(year), y = avg_prop, fill = as.factor(year), label = paste(avg_prop, \"%\", sep = \"\"))) + \n",
    "        geom_bar(stat = \"identity\") + \n",
    "        geom_text(position = position_nudge(0,1)) + \n",
    "        theme(legend.position = \"none\") + \n",
    "        labs(title = \"Female % of Winning Candidates\",\n",
    "            subtitle = \"2016 vs 2018\",\n",
    "            x = \"Year\",\n",
    "            y = \"Proportion %\") + \n",
    "        ylim(0,40)\n",
    "ggsave(\"female_overall_time.png\")\n",
    "\n",
    "\n",
    "# 2016 vs 2018 by region\n",
    "female_win_region_16 %>%\n",
    "    left_join(female_win_region_18, by = \"region\") %>%\n",
    "    mutate(change_prop = avg_prop.y - avg_prop.x,\n",
    "            vjust = ifelse(change_prop >= 0, -1, 1.5)) %>%\n",
    "    ggplot(aes(x = region, y = change_prop, fill = region)) + \n",
    "        geom_bar(stat = \"identity\") + \n",
    "        geom_text(aes(label = paste(change_prop, \"%\", sep = \"\"), vjust = vjust)) + \n",
    "        ylim(-3,10) + \n",
    "        theme(legend.position = \"none\") + \n",
    "        labs(title = \"Change in Female % of Winning Candidates by Region\", \n",
    "            subtitle = \"2016 vs 2018\",\n",
    "            x = \"Region\",\n",
    "            y = \"Change in Percentage Points\")\n",
    "ggsave(\"female_change_region.jpg\")\n",
    "\n",
    "\n",
    "elections_2016 %>%\n",
    "    group_by(region, winner_gender) %>%\n",
    "    filter(gender_dem %in% c(\"male\", \"female\"), gender_rep %in% c(\"male\", \"female\"), winner_gender %in% c(\"male\", \"female\")) %>%\n",
    "    summarize(count = n()) %>%\n",
    "    mutate(prop = count / sum(count))\n",
    "elections_2018 %>%\n",
    "    group_by(region, winner_gender) %>%\n",
    "    filter(gender_democrat %in% c(\"male\", \"female\"), gender_republican %in% c(\"male\", \"female\"), winner_gender %in% c(\"male\", \"female\")) %>%\n",
    "    summarize(count = n()) %>%\n",
    "    mutate(prop = count / sum(count))\n"
   ]
  },
  {
   "cell_type": "code",
   "execution_count": 50,
   "metadata": {},
   "outputs": [
    {
     "name": "stderr",
     "output_type": "stream",
     "text": [
      "`summarise()` regrouping output by 'state' (override with `.groups` argument)\n",
      "\n"
     ]
    },
    {
     "data": {
      "text/html": [
       "<table>\n",
       "<caption>A grouped_df: 36 × 4</caption>\n",
       "<thead>\n",
       "\t<tr><th scope=col>state</th><th scope=col>winner_gender</th><th scope=col>count</th><th scope=col>prop_16</th></tr>\n",
       "\t<tr><th scope=col>&lt;chr&gt;</th><th scope=col>&lt;chr&gt;</th><th scope=col>&lt;int&gt;</th><th scope=col>&lt;dbl&gt;</th></tr>\n",
       "</thead>\n",
       "<tbody>\n",
       "\t<tr><td>Wyoming       </td><td>female</td><td> 4</td><td>0.09090909</td></tr>\n",
       "\t<tr><td>Oklahoma      </td><td>female</td><td>11</td><td>0.16417910</td></tr>\n",
       "\t<tr><td>Arkansas      </td><td>female</td><td> 4</td><td>0.17391304</td></tr>\n",
       "\t<tr><td>Tennessee     </td><td>female</td><td> 9</td><td>0.19148936</td></tr>\n",
       "\t<tr><td>South Carolina</td><td>female</td><td> 5</td><td>0.19230769</td></tr>\n",
       "\t<tr><td>Delaware      </td><td>female</td><td> 3</td><td>0.20000000</td></tr>\n",
       "\t<tr><td>Kentucky      </td><td>female</td><td>12</td><td>0.20338983</td></tr>\n",
       "\t<tr><td>Indiana       </td><td>female</td><td>14</td><td>0.21212121</td></tr>\n",
       "\t<tr><td>Utah          </td><td>female</td><td>10</td><td>0.21276596</td></tr>\n",
       "\t<tr><td>Massachusetts </td><td>female</td><td> 6</td><td>0.21428571</td></tr>\n",
       "\t<tr><td>Wisconsin     </td><td>female</td><td>11</td><td>0.22448980</td></tr>\n",
       "\t<tr><td>Hawaii        </td><td>female</td><td> 5</td><td>0.22727273</td></tr>\n",
       "\t<tr><td>California    </td><td>female</td><td>13</td><td>0.22807018</td></tr>\n",
       "\t<tr><td>Pennsylvania  </td><td>female</td><td>24</td><td>0.24000000</td></tr>\n",
       "\t<tr><td>Florida       </td><td>female</td><td>14</td><td>0.25454545</td></tr>\n",
       "\t<tr><td>Iowa          </td><td>female</td><td>17</td><td>0.26153846</td></tr>\n",
       "\t<tr><td>Kansas        </td><td>female</td><td>19</td><td>0.27536232</td></tr>\n",
       "\t<tr><td>Connecticut   </td><td>female</td><td>29</td><td>0.27619048</td></tr>\n",
       "\t<tr><td>Missouri      </td><td>female</td><td>18</td><td>0.28125000</td></tr>\n",
       "\t<tr><td>Michigan      </td><td>female</td><td>31</td><td>0.28181818</td></tr>\n",
       "\t<tr><td>Texas         </td><td>female</td><td>14</td><td>0.29166667</td></tr>\n",
       "\t<tr><td>Montana       </td><td>female</td><td>22</td><td>0.29333333</td></tr>\n",
       "\t<tr><td>Ohio          </td><td>female</td><td>22</td><td>0.31428571</td></tr>\n",
       "\t<tr><td>North Carolina</td><td>female</td><td>19</td><td>0.32203390</td></tr>\n",
       "\t<tr><td>Georgia       </td><td>female</td><td>10</td><td>0.33333333</td></tr>\n",
       "\t<tr><td>Oregon        </td><td>female</td><td>13</td><td>0.34210526</td></tr>\n",
       "\t<tr><td>New Mexico    </td><td>female</td><td> 9</td><td>0.34615385</td></tr>\n",
       "\t<tr><td>Maine         </td><td>female</td><td>44</td><td>0.36363636</td></tr>\n",
       "\t<tr><td>Idaho         </td><td>female</td><td>15</td><td>0.36585366</td></tr>\n",
       "\t<tr><td>Washington    </td><td>female</td><td>18</td><td>0.36734694</td></tr>\n",
       "\t<tr><td>Minnesota     </td><td>female</td><td>46</td><td>0.36800000</td></tr>\n",
       "\t<tr><td>Rhode Island  </td><td>female</td><td> 9</td><td>0.39130435</td></tr>\n",
       "\t<tr><td>Alaska        </td><td>female</td><td> 9</td><td>0.40909091</td></tr>\n",
       "\t<tr><td>Colorado      </td><td>female</td><td>21</td><td>0.41176471</td></tr>\n",
       "\t<tr><td>Nevada        </td><td>female</td><td>14</td><td>0.43750000</td></tr>\n",
       "\t<tr><td>Illinois      </td><td>female</td><td>22</td><td>0.46808511</td></tr>\n",
       "</tbody>\n",
       "</table>\n"
      ],
      "text/latex": [
       "A grouped\\_df: 36 × 4\n",
       "\\begin{tabular}{llll}\n",
       " state & winner\\_gender & count & prop\\_16\\\\\n",
       " <chr> & <chr> & <int> & <dbl>\\\\\n",
       "\\hline\n",
       "\t Wyoming        & female &  4 & 0.09090909\\\\\n",
       "\t Oklahoma       & female & 11 & 0.16417910\\\\\n",
       "\t Arkansas       & female &  4 & 0.17391304\\\\\n",
       "\t Tennessee      & female &  9 & 0.19148936\\\\\n",
       "\t South Carolina & female &  5 & 0.19230769\\\\\n",
       "\t Delaware       & female &  3 & 0.20000000\\\\\n",
       "\t Kentucky       & female & 12 & 0.20338983\\\\\n",
       "\t Indiana        & female & 14 & 0.21212121\\\\\n",
       "\t Utah           & female & 10 & 0.21276596\\\\\n",
       "\t Massachusetts  & female &  6 & 0.21428571\\\\\n",
       "\t Wisconsin      & female & 11 & 0.22448980\\\\\n",
       "\t Hawaii         & female &  5 & 0.22727273\\\\\n",
       "\t California     & female & 13 & 0.22807018\\\\\n",
       "\t Pennsylvania   & female & 24 & 0.24000000\\\\\n",
       "\t Florida        & female & 14 & 0.25454545\\\\\n",
       "\t Iowa           & female & 17 & 0.26153846\\\\\n",
       "\t Kansas         & female & 19 & 0.27536232\\\\\n",
       "\t Connecticut    & female & 29 & 0.27619048\\\\\n",
       "\t Missouri       & female & 18 & 0.28125000\\\\\n",
       "\t Michigan       & female & 31 & 0.28181818\\\\\n",
       "\t Texas          & female & 14 & 0.29166667\\\\\n",
       "\t Montana        & female & 22 & 0.29333333\\\\\n",
       "\t Ohio           & female & 22 & 0.31428571\\\\\n",
       "\t North Carolina & female & 19 & 0.32203390\\\\\n",
       "\t Georgia        & female & 10 & 0.33333333\\\\\n",
       "\t Oregon         & female & 13 & 0.34210526\\\\\n",
       "\t New Mexico     & female &  9 & 0.34615385\\\\\n",
       "\t Maine          & female & 44 & 0.36363636\\\\\n",
       "\t Idaho          & female & 15 & 0.36585366\\\\\n",
       "\t Washington     & female & 18 & 0.36734694\\\\\n",
       "\t Minnesota      & female & 46 & 0.36800000\\\\\n",
       "\t Rhode Island   & female &  9 & 0.39130435\\\\\n",
       "\t Alaska         & female &  9 & 0.40909091\\\\\n",
       "\t Colorado       & female & 21 & 0.41176471\\\\\n",
       "\t Nevada         & female & 14 & 0.43750000\\\\\n",
       "\t Illinois       & female & 22 & 0.46808511\\\\\n",
       "\\end{tabular}\n"
      ],
      "text/markdown": [
       "\n",
       "A grouped_df: 36 × 4\n",
       "\n",
       "| state &lt;chr&gt; | winner_gender &lt;chr&gt; | count &lt;int&gt; | prop_16 &lt;dbl&gt; |\n",
       "|---|---|---|---|\n",
       "| Wyoming        | female |  4 | 0.09090909 |\n",
       "| Oklahoma       | female | 11 | 0.16417910 |\n",
       "| Arkansas       | female |  4 | 0.17391304 |\n",
       "| Tennessee      | female |  9 | 0.19148936 |\n",
       "| South Carolina | female |  5 | 0.19230769 |\n",
       "| Delaware       | female |  3 | 0.20000000 |\n",
       "| Kentucky       | female | 12 | 0.20338983 |\n",
       "| Indiana        | female | 14 | 0.21212121 |\n",
       "| Utah           | female | 10 | 0.21276596 |\n",
       "| Massachusetts  | female |  6 | 0.21428571 |\n",
       "| Wisconsin      | female | 11 | 0.22448980 |\n",
       "| Hawaii         | female |  5 | 0.22727273 |\n",
       "| California     | female | 13 | 0.22807018 |\n",
       "| Pennsylvania   | female | 24 | 0.24000000 |\n",
       "| Florida        | female | 14 | 0.25454545 |\n",
       "| Iowa           | female | 17 | 0.26153846 |\n",
       "| Kansas         | female | 19 | 0.27536232 |\n",
       "| Connecticut    | female | 29 | 0.27619048 |\n",
       "| Missouri       | female | 18 | 0.28125000 |\n",
       "| Michigan       | female | 31 | 0.28181818 |\n",
       "| Texas          | female | 14 | 0.29166667 |\n",
       "| Montana        | female | 22 | 0.29333333 |\n",
       "| Ohio           | female | 22 | 0.31428571 |\n",
       "| North Carolina | female | 19 | 0.32203390 |\n",
       "| Georgia        | female | 10 | 0.33333333 |\n",
       "| Oregon         | female | 13 | 0.34210526 |\n",
       "| New Mexico     | female |  9 | 0.34615385 |\n",
       "| Maine          | female | 44 | 0.36363636 |\n",
       "| Idaho          | female | 15 | 0.36585366 |\n",
       "| Washington     | female | 18 | 0.36734694 |\n",
       "| Minnesota      | female | 46 | 0.36800000 |\n",
       "| Rhode Island   | female |  9 | 0.39130435 |\n",
       "| Alaska         | female |  9 | 0.40909091 |\n",
       "| Colorado       | female | 21 | 0.41176471 |\n",
       "| Nevada         | female | 14 | 0.43750000 |\n",
       "| Illinois       | female | 22 | 0.46808511 |\n",
       "\n"
      ],
      "text/plain": [
       "   state          winner_gender count prop_16   \n",
       "1  Wyoming        female         4    0.09090909\n",
       "2  Oklahoma       female        11    0.16417910\n",
       "3  Arkansas       female         4    0.17391304\n",
       "4  Tennessee      female         9    0.19148936\n",
       "5  South Carolina female         5    0.19230769\n",
       "6  Delaware       female         3    0.20000000\n",
       "7  Kentucky       female        12    0.20338983\n",
       "8  Indiana        female        14    0.21212121\n",
       "9  Utah           female        10    0.21276596\n",
       "10 Massachusetts  female         6    0.21428571\n",
       "11 Wisconsin      female        11    0.22448980\n",
       "12 Hawaii         female         5    0.22727273\n",
       "13 California     female        13    0.22807018\n",
       "14 Pennsylvania   female        24    0.24000000\n",
       "15 Florida        female        14    0.25454545\n",
       "16 Iowa           female        17    0.26153846\n",
       "17 Kansas         female        19    0.27536232\n",
       "18 Connecticut    female        29    0.27619048\n",
       "19 Missouri       female        18    0.28125000\n",
       "20 Michigan       female        31    0.28181818\n",
       "21 Texas          female        14    0.29166667\n",
       "22 Montana        female        22    0.29333333\n",
       "23 Ohio           female        22    0.31428571\n",
       "24 North Carolina female        19    0.32203390\n",
       "25 Georgia        female        10    0.33333333\n",
       "26 Oregon         female        13    0.34210526\n",
       "27 New Mexico     female         9    0.34615385\n",
       "28 Maine          female        44    0.36363636\n",
       "29 Idaho          female        15    0.36585366\n",
       "30 Washington     female        18    0.36734694\n",
       "31 Minnesota      female        46    0.36800000\n",
       "32 Rhode Island   female         9    0.39130435\n",
       "33 Alaska         female         9    0.40909091\n",
       "34 Colorado       female        21    0.41176471\n",
       "35 Nevada         female        14    0.43750000\n",
       "36 Illinois       female        22    0.46808511"
      ]
     },
     "metadata": {},
     "output_type": "display_data"
    },
    {
     "name": "stderr",
     "output_type": "stream",
     "text": [
      "`summarise()` regrouping output by 'state' (override with `.groups` argument)\n",
      "\n"
     ]
    },
    {
     "data": {
      "text/html": [
       "<table>\n",
       "<caption>A grouped_df: 6 × 4</caption>\n",
       "<thead>\n",
       "\t<tr><th scope=col>state</th><th scope=col>winner_gender</th><th scope=col>count</th><th scope=col>prop_18</th></tr>\n",
       "\t<tr><th scope=col>&lt;chr&gt;</th><th scope=col>&lt;chr&gt;</th><th scope=col>&lt;int&gt;</th><th scope=col>&lt;dbl&gt;</th></tr>\n",
       "</thead>\n",
       "<tbody>\n",
       "\t<tr><td>South Carolina</td><td>female</td><td> 2</td><td>0.1000000</td></tr>\n",
       "\t<tr><td>Tennessee     </td><td>female</td><td>10</td><td>0.1282051</td></tr>\n",
       "\t<tr><td>Alabama       </td><td>female</td><td> 9</td><td>0.1607143</td></tr>\n",
       "\t<tr><td>South Dakota  </td><td>female</td><td>14</td><td>0.1686747</td></tr>\n",
       "\t<tr><td>Indiana       </td><td>female</td><td>17</td><td>0.2048193</td></tr>\n",
       "\t<tr><td>Delaware      </td><td>female</td><td> 6</td><td>0.2068966</td></tr>\n",
       "</tbody>\n",
       "</table>\n"
      ],
      "text/latex": [
       "A grouped\\_df: 6 × 4\n",
       "\\begin{tabular}{llll}\n",
       " state & winner\\_gender & count & prop\\_18\\\\\n",
       " <chr> & <chr> & <int> & <dbl>\\\\\n",
       "\\hline\n",
       "\t South Carolina & female &  2 & 0.1000000\\\\\n",
       "\t Tennessee      & female & 10 & 0.1282051\\\\\n",
       "\t Alabama        & female &  9 & 0.1607143\\\\\n",
       "\t South Dakota   & female & 14 & 0.1686747\\\\\n",
       "\t Indiana        & female & 17 & 0.2048193\\\\\n",
       "\t Delaware       & female &  6 & 0.2068966\\\\\n",
       "\\end{tabular}\n"
      ],
      "text/markdown": [
       "\n",
       "A grouped_df: 6 × 4\n",
       "\n",
       "| state &lt;chr&gt; | winner_gender &lt;chr&gt; | count &lt;int&gt; | prop_18 &lt;dbl&gt; |\n",
       "|---|---|---|---|\n",
       "| South Carolina | female |  2 | 0.1000000 |\n",
       "| Tennessee      | female | 10 | 0.1282051 |\n",
       "| Alabama        | female |  9 | 0.1607143 |\n",
       "| South Dakota   | female | 14 | 0.1686747 |\n",
       "| Indiana        | female | 17 | 0.2048193 |\n",
       "| Delaware       | female |  6 | 0.2068966 |\n",
       "\n"
      ],
      "text/plain": [
       "  state          winner_gender count prop_18  \n",
       "1 South Carolina female         2    0.1000000\n",
       "2 Tennessee      female        10    0.1282051\n",
       "3 Alabama        female         9    0.1607143\n",
       "4 South Dakota   female        14    0.1686747\n",
       "5 Indiana        female        17    0.2048193\n",
       "6 Delaware       female         6    0.2068966"
      ]
     },
     "metadata": {},
     "output_type": "display_data"
    },
    {
     "data": {
      "text/html": [
       "<table>\n",
       "<caption>A grouped_df: 6 × 8</caption>\n",
       "<thead>\n",
       "\t<tr><th scope=col>state</th><th scope=col>winner_gender.x</th><th scope=col>count.x</th><th scope=col>prop_16</th><th scope=col>winner_gender.y</th><th scope=col>count.y</th><th scope=col>prop_18</th><th scope=col>change</th></tr>\n",
       "\t<tr><th scope=col>&lt;chr&gt;</th><th scope=col>&lt;chr&gt;</th><th scope=col>&lt;int&gt;</th><th scope=col>&lt;dbl&gt;</th><th scope=col>&lt;chr&gt;</th><th scope=col>&lt;int&gt;</th><th scope=col>&lt;dbl&gt;</th><th scope=col>&lt;dbl&gt;</th></tr>\n",
       "</thead>\n",
       "<tbody>\n",
       "\t<tr><td>South Carolina</td><td>female</td><td> 5</td><td>0.1923077</td><td>female</td><td> 2</td><td>0.1000000</td><td>-0.09230769</td></tr>\n",
       "\t<tr><td>Illinois      </td><td>female</td><td>22</td><td>0.4680851</td><td>female</td><td>32</td><td>0.3950617</td><td>-0.07302338</td></tr>\n",
       "\t<tr><td>Tennessee     </td><td>female</td><td> 9</td><td>0.1914894</td><td>female</td><td>10</td><td>0.1282051</td><td>-0.06328423</td></tr>\n",
       "\t<tr><td>Rhode Island  </td><td>female</td><td> 9</td><td>0.3913043</td><td>female</td><td>14</td><td>0.3333333</td><td>-0.05797101</td></tr>\n",
       "\t<tr><td>Idaho         </td><td>female</td><td>15</td><td>0.3658537</td><td>female</td><td>17</td><td>0.3148148</td><td>-0.05103884</td></tr>\n",
       "\t<tr><td>Ohio          </td><td>female</td><td>22</td><td>0.3142857</td><td>female</td><td>27</td><td>0.2700000</td><td>-0.04428571</td></tr>\n",
       "</tbody>\n",
       "</table>\n"
      ],
      "text/latex": [
       "A grouped\\_df: 6 × 8\n",
       "\\begin{tabular}{llllllll}\n",
       " state & winner\\_gender.x & count.x & prop\\_16 & winner\\_gender.y & count.y & prop\\_18 & change\\\\\n",
       " <chr> & <chr> & <int> & <dbl> & <chr> & <int> & <dbl> & <dbl>\\\\\n",
       "\\hline\n",
       "\t South Carolina & female &  5 & 0.1923077 & female &  2 & 0.1000000 & -0.09230769\\\\\n",
       "\t Illinois       & female & 22 & 0.4680851 & female & 32 & 0.3950617 & -0.07302338\\\\\n",
       "\t Tennessee      & female &  9 & 0.1914894 & female & 10 & 0.1282051 & -0.06328423\\\\\n",
       "\t Rhode Island   & female &  9 & 0.3913043 & female & 14 & 0.3333333 & -0.05797101\\\\\n",
       "\t Idaho          & female & 15 & 0.3658537 & female & 17 & 0.3148148 & -0.05103884\\\\\n",
       "\t Ohio           & female & 22 & 0.3142857 & female & 27 & 0.2700000 & -0.04428571\\\\\n",
       "\\end{tabular}\n"
      ],
      "text/markdown": [
       "\n",
       "A grouped_df: 6 × 8\n",
       "\n",
       "| state &lt;chr&gt; | winner_gender.x &lt;chr&gt; | count.x &lt;int&gt; | prop_16 &lt;dbl&gt; | winner_gender.y &lt;chr&gt; | count.y &lt;int&gt; | prop_18 &lt;dbl&gt; | change &lt;dbl&gt; |\n",
       "|---|---|---|---|---|---|---|---|\n",
       "| South Carolina | female |  5 | 0.1923077 | female |  2 | 0.1000000 | -0.09230769 |\n",
       "| Illinois       | female | 22 | 0.4680851 | female | 32 | 0.3950617 | -0.07302338 |\n",
       "| Tennessee      | female |  9 | 0.1914894 | female | 10 | 0.1282051 | -0.06328423 |\n",
       "| Rhode Island   | female |  9 | 0.3913043 | female | 14 | 0.3333333 | -0.05797101 |\n",
       "| Idaho          | female | 15 | 0.3658537 | female | 17 | 0.3148148 | -0.05103884 |\n",
       "| Ohio           | female | 22 | 0.3142857 | female | 27 | 0.2700000 | -0.04428571 |\n",
       "\n"
      ],
      "text/plain": [
       "  state          winner_gender.x count.x prop_16   winner_gender.y count.y\n",
       "1 South Carolina female           5      0.1923077 female           2     \n",
       "2 Illinois       female          22      0.4680851 female          32     \n",
       "3 Tennessee      female           9      0.1914894 female          10     \n",
       "4 Rhode Island   female           9      0.3913043 female          14     \n",
       "5 Idaho          female          15      0.3658537 female          17     \n",
       "6 Ohio           female          22      0.3142857 female          27     \n",
       "  prop_18   change     \n",
       "1 0.1000000 -0.09230769\n",
       "2 0.3950617 -0.07302338\n",
       "3 0.1282051 -0.06328423\n",
       "4 0.3333333 -0.05797101\n",
       "5 0.3148148 -0.05103884\n",
       "6 0.2700000 -0.04428571"
      ]
     },
     "metadata": {},
     "output_type": "display_data"
    },
    {
     "data": {
      "text/html": [
       "<table>\n",
       "<caption>A grouped_df: 6 × 8</caption>\n",
       "<thead>\n",
       "\t<tr><th scope=col>state</th><th scope=col>winner_gender.x</th><th scope=col>count.x</th><th scope=col>prop_16</th><th scope=col>winner_gender.y</th><th scope=col>count.y</th><th scope=col>prop_18</th><th scope=col>change</th></tr>\n",
       "\t<tr><th scope=col>&lt;chr&gt;</th><th scope=col>&lt;chr&gt;</th><th scope=col>&lt;int&gt;</th><th scope=col>&lt;dbl&gt;</th><th scope=col>&lt;chr&gt;</th><th scope=col>&lt;int&gt;</th><th scope=col>&lt;dbl&gt;</th><th scope=col>&lt;dbl&gt;</th></tr>\n",
       "</thead>\n",
       "<tbody>\n",
       "\t<tr><td>Washington</td><td>female</td><td>18</td><td>0.36734694</td><td>female</td><td> 7</td><td>0.4666667</td><td>0.09931973</td></tr>\n",
       "\t<tr><td>Hawaii    </td><td>female</td><td> 5</td><td>0.22727273</td><td>female</td><td> 7</td><td>0.3333333</td><td>0.10606061</td></tr>\n",
       "\t<tr><td>Oklahoma  </td><td>female</td><td>11</td><td>0.16417910</td><td>female</td><td>23</td><td>0.2738095</td><td>0.10963042</td></tr>\n",
       "\t<tr><td>New Mexico</td><td>female</td><td> 9</td><td>0.34615385</td><td>female</td><td>17</td><td>0.5312500</td><td>0.18509615</td></tr>\n",
       "\t<tr><td>Wyoming   </td><td>female</td><td> 4</td><td>0.09090909</td><td>NA    </td><td>NA</td><td>       NA</td><td>        NA</td></tr>\n",
       "\t<tr><td>Minnesota </td><td>female</td><td>46</td><td>0.36800000</td><td>NA    </td><td>NA</td><td>       NA</td><td>        NA</td></tr>\n",
       "</tbody>\n",
       "</table>\n"
      ],
      "text/latex": [
       "A grouped\\_df: 6 × 8\n",
       "\\begin{tabular}{llllllll}\n",
       " state & winner\\_gender.x & count.x & prop\\_16 & winner\\_gender.y & count.y & prop\\_18 & change\\\\\n",
       " <chr> & <chr> & <int> & <dbl> & <chr> & <int> & <dbl> & <dbl>\\\\\n",
       "\\hline\n",
       "\t Washington & female & 18 & 0.36734694 & female &  7 & 0.4666667 & 0.09931973\\\\\n",
       "\t Hawaii     & female &  5 & 0.22727273 & female &  7 & 0.3333333 & 0.10606061\\\\\n",
       "\t Oklahoma   & female & 11 & 0.16417910 & female & 23 & 0.2738095 & 0.10963042\\\\\n",
       "\t New Mexico & female &  9 & 0.34615385 & female & 17 & 0.5312500 & 0.18509615\\\\\n",
       "\t Wyoming    & female &  4 & 0.09090909 & NA     & NA &        NA &         NA\\\\\n",
       "\t Minnesota  & female & 46 & 0.36800000 & NA     & NA &        NA &         NA\\\\\n",
       "\\end{tabular}\n"
      ],
      "text/markdown": [
       "\n",
       "A grouped_df: 6 × 8\n",
       "\n",
       "| state &lt;chr&gt; | winner_gender.x &lt;chr&gt; | count.x &lt;int&gt; | prop_16 &lt;dbl&gt; | winner_gender.y &lt;chr&gt; | count.y &lt;int&gt; | prop_18 &lt;dbl&gt; | change &lt;dbl&gt; |\n",
       "|---|---|---|---|---|---|---|---|\n",
       "| Washington | female | 18 | 0.36734694 | female |  7 | 0.4666667 | 0.09931973 |\n",
       "| Hawaii     | female |  5 | 0.22727273 | female |  7 | 0.3333333 | 0.10606061 |\n",
       "| Oklahoma   | female | 11 | 0.16417910 | female | 23 | 0.2738095 | 0.10963042 |\n",
       "| New Mexico | female |  9 | 0.34615385 | female | 17 | 0.5312500 | 0.18509615 |\n",
       "| Wyoming    | female |  4 | 0.09090909 | NA     | NA |        NA |         NA |\n",
       "| Minnesota  | female | 46 | 0.36800000 | NA     | NA |        NA |         NA |\n",
       "\n"
      ],
      "text/plain": [
       "  state      winner_gender.x count.x prop_16    winner_gender.y count.y\n",
       "1 Washington female          18      0.36734694 female           7     \n",
       "2 Hawaii     female           5      0.22727273 female           7     \n",
       "3 Oklahoma   female          11      0.16417910 female          23     \n",
       "4 New Mexico female           9      0.34615385 female          17     \n",
       "5 Wyoming    female           4      0.09090909 NA              NA     \n",
       "6 Minnesota  female          46      0.36800000 NA              NA     \n",
       "  prop_18   change    \n",
       "1 0.4666667 0.09931973\n",
       "2 0.3333333 0.10606061\n",
       "3 0.2738095 0.10963042\n",
       "4 0.5312500 0.18509615\n",
       "5        NA         NA\n",
       "6        NA         NA"
      ]
     },
     "metadata": {},
     "output_type": "display_data"
    },
    {
     "name": "stderr",
     "output_type": "stream",
     "text": [
      "`summarise()` regrouping output by 'region', 'winner_party' (override with `.groups` argument)\n",
      "\n",
      "`summarise()` regrouping output by 'region', 'winner_party' (override with `.groups` argument)\n",
      "\n",
      "Saving 6.67 x 6.67 in image\n",
      "\n"
     ]
    },
    {
     "data": {
      "image/png": "[encoded data removed]",
      "text/plain": [
       "plot without title"
      ]
     },
     "metadata": {
      "image/png": {
       "height": 420,
       "width": 420
      }
     },
     "output_type": "display_data"
    }
   ],
   "source": [
    "## Gender proportion of winning candidates by state\n",
    "state_2016 <- elections_2016 %>%\n",
    "    filter(gender_dem %in% c(\"male\", \"female\"), gender_rep %in% c(\"male\", \"female\"), winner_gender %in% c(\"male\", \"female\")) %>%\n",
    "    group_by(state, winner_gender) %>%\n",
    "    summarize(count = n()) %>%\n",
    "    mutate(prop_16 = count/sum(count)) %>%\n",
    "    filter(winner_gender == \"female\") %>%\n",
    "    arrange(prop_16)\n",
    "state_2016\n",
    "\n",
    "state_2018 <- elections_2018 %>%\n",
    "    filter(gender_democrat %in% c(\"male\", \"female\"), gender_republican %in% c(\"male\", \"female\"), winner_gender %in% c(\"male\", \"female\")) %>%\n",
    "    group_by(state, winner_gender) %>%\n",
    "    summarize(count = n()) %>%\n",
    "    mutate(prop_18 = count/sum(count)) %>%\n",
    "    filter(winner_gender == \"female\") %>%\n",
    "    arrange(prop_18) \n",
    "head(state_2018)\n",
    "\n",
    "state_2016 %>%\n",
    "    left_join(state_2018, by = \"state\") %>%\n",
    "    mutate(change = prop_18 - prop_16) %>%\n",
    "    arrange(change) %>%\n",
    "    head()\n",
    "    \n",
    "state_2016 %>%\n",
    "    left_join(state_2018, by = \"state\") %>%\n",
    "    mutate(change = prop_18 - prop_16) %>%\n",
    "    arrange(change) %>%\n",
    "    tail()\n",
    "\n",
    "# By region and party\n",
    "region_party_2016 <- elections_2016 %>%\n",
    "    filter(gender_dem %in% c(\"male\", \"female\"), gender_rep %in% c(\"male\", \"female\"), winner_gender %in% c(\"male\", \"female\")) %>%\n",
    "    group_by(region, winner_party, winner_gender) %>%\n",
    "    summarize(count = n()) %>%\n",
    "    mutate(prop_16 = count/sum(count)) %>%\n",
    "    filter(winner_gender == \"female\") %>%\n",
    "    arrange(prop_16)\n",
    "\n",
    "\n",
    "region_party_2018 <- elections_2018 %>%\n",
    "    filter(gender_democrat %in% c(\"male\", \"female\"), gender_republican %in% c(\"male\", \"female\"), winner_gender %in% c(\"male\", \"female\")) %>%\n",
    "    group_by(region, winner_party, winner_gender) %>%\n",
    "    summarize(count = n()) %>%\n",
    "    mutate(prop_18 = count/sum(count)) %>%\n",
    "    filter(winner_gender == \"female\") %>%\n",
    "    arrange(prop_18) \n",
    "\n",
    "\n",
    "region_party_2016 %>%\n",
    "    left_join(region_party_2018, by = c(\"region\", \"winner_party\")) %>%\n",
    "    mutate(change = prop_18 - prop_16) %>%\n",
    "    arrange(change) %>%\n",
    "    ggplot(aes(x = region, y = change, fill = region, label = paste(round(change*100,1), \"%\"))) +\n",
    "        geom_bar(stat = \"identity\") + \n",
    "        geom_text(aes(vjust = ifelse(change > 0, -1, 1))) + \n",
    "        facet_grid(. ~ winner_party) + \n",
    "        theme(legend.position = \"none\") + \n",
    "        labs(title = \"Change in Female % of Winning Candidates by Party\",\n",
    "            subtitle = \"2018 vs 2016\", \n",
    "            y = \"Percent Female\")\n",
    "ggsave(\"change_female_win_party.jpg\")\n"
   ]
  },
  {
   "cell_type": "code",
   "execution_count": 38,
   "metadata": {},
   "outputs": [
    {
     "name": "stderr",
     "output_type": "stream",
     "text": [
      "`summarise()` regrouping output by 'region', 'state' (override with `.groups` argument)\n",
      "\n"
     ]
    },
    {
     "data": {
      "text/html": [
       "<table>\n",
       "<caption>A tibble: 6 × 5</caption>\n",
       "<thead>\n",
       "\t<tr><th scope=col>region</th><th scope=col>state</th><th scope=col>female</th><th scope=col>male</th><th scope=col>diff</th></tr>\n",
       "\t<tr><th scope=col>&lt;chr&gt;</th><th scope=col>&lt;chr&gt;</th><th scope=col>&lt;dbl&gt;</th><th scope=col>&lt;dbl&gt;</th><th scope=col>&lt;dbl&gt;</th></tr>\n",
       "</thead>\n",
       "<tbody>\n",
       "\t<tr><td>West     </td><td>Colorado  </td><td>0.5000000</td><td>0.5000000</td><td>0.00000000</td></tr>\n",
       "\t<tr><td>West     </td><td>Nevada    </td><td>0.5000000</td><td>0.5000000</td><td>0.00000000</td></tr>\n",
       "\t<tr><td>West     </td><td>Washington</td><td>0.4642857</td><td>0.5357143</td><td>0.07142857</td></tr>\n",
       "\t<tr><td>Northeast</td><td>Vermont   </td><td>0.4411765</td><td>0.5588235</td><td>0.11764706</td></tr>\n",
       "\t<tr><td>West     </td><td>Alaska    </td><td>0.4347826</td><td>0.5652174</td><td>0.13043478</td></tr>\n",
       "\t<tr><td>West     </td><td>New Mexico</td><td>0.4347826</td><td>0.5652174</td><td>0.13043478</td></tr>\n",
       "</tbody>\n",
       "</table>\n"
      ],
      "text/latex": [
       "A tibble: 6 × 5\n",
       "\\begin{tabular}{lllll}\n",
       " region & state & female & male & diff\\\\\n",
       " <chr> & <chr> & <dbl> & <dbl> & <dbl>\\\\\n",
       "\\hline\n",
       "\t West      & Colorado   & 0.5000000 & 0.5000000 & 0.00000000\\\\\n",
       "\t West      & Nevada     & 0.5000000 & 0.5000000 & 0.00000000\\\\\n",
       "\t West      & Washington & 0.4642857 & 0.5357143 & 0.07142857\\\\\n",
       "\t Northeast & Vermont    & 0.4411765 & 0.5588235 & 0.11764706\\\\\n",
       "\t West      & Alaska     & 0.4347826 & 0.5652174 & 0.13043478\\\\\n",
       "\t West      & New Mexico & 0.4347826 & 0.5652174 & 0.13043478\\\\\n",
       "\\end{tabular}\n"
      ],
      "text/markdown": [
       "\n",
       "A tibble: 6 × 5\n",
       "\n",
       "| region &lt;chr&gt; | state &lt;chr&gt; | female &lt;dbl&gt; | male &lt;dbl&gt; | diff &lt;dbl&gt; |\n",
       "|---|---|---|---|---|\n",
       "| West      | Colorado   | 0.5000000 | 0.5000000 | 0.00000000 |\n",
       "| West      | Nevada     | 0.5000000 | 0.5000000 | 0.00000000 |\n",
       "| West      | Washington | 0.4642857 | 0.5357143 | 0.07142857 |\n",
       "| Northeast | Vermont    | 0.4411765 | 0.5588235 | 0.11764706 |\n",
       "| West      | Alaska     | 0.4347826 | 0.5652174 | 0.13043478 |\n",
       "| West      | New Mexico | 0.4347826 | 0.5652174 | 0.13043478 |\n",
       "\n"
      ],
      "text/plain": [
       "  region    state      female    male      diff      \n",
       "1 West      Colorado   0.5000000 0.5000000 0.00000000\n",
       "2 West      Nevada     0.5000000 0.5000000 0.00000000\n",
       "3 West      Washington 0.4642857 0.5357143 0.07142857\n",
       "4 Northeast Vermont    0.4411765 0.5588235 0.11764706\n",
       "5 West      Alaska     0.4347826 0.5652174 0.13043478\n",
       "6 West      New Mexico 0.4347826 0.5652174 0.13043478"
      ]
     },
     "metadata": {},
     "output_type": "display_data"
    },
    {
     "name": "stderr",
     "output_type": "stream",
     "text": [
      "`summarise()` regrouping output by 'region', 'state' (override with `.groups` argument)\n",
      "\n",
      "`summarise()` ungrouping output (override with `.groups` argument)\n",
      "\n"
     ]
    },
    {
     "data": {
      "text/html": [
       "<table>\n",
       "<caption>A tibble: 4 × 2</caption>\n",
       "<thead>\n",
       "\t<tr><th scope=col>region</th><th scope=col>avg_diff</th></tr>\n",
       "\t<tr><th scope=col>&lt;chr&gt;</th><th scope=col>&lt;dbl&gt;</th></tr>\n",
       "</thead>\n",
       "<tbody>\n",
       "\t<tr><td>South    </td><td>0.5413627</td></tr>\n",
       "\t<tr><td>Midwest  </td><td>0.4685333</td></tr>\n",
       "\t<tr><td>Northeast</td><td>0.3028204</td></tr>\n",
       "\t<tr><td>West     </td><td>0.2519538</td></tr>\n",
       "</tbody>\n",
       "</table>\n"
      ],
      "text/latex": [
       "A tibble: 4 × 2\n",
       "\\begin{tabular}{ll}\n",
       " region & avg\\_diff\\\\\n",
       " <chr> & <dbl>\\\\\n",
       "\\hline\n",
       "\t South     & 0.5413627\\\\\n",
       "\t Midwest   & 0.4685333\\\\\n",
       "\t Northeast & 0.3028204\\\\\n",
       "\t West      & 0.2519538\\\\\n",
       "\\end{tabular}\n"
      ],
      "text/markdown": [
       "\n",
       "A tibble: 4 × 2\n",
       "\n",
       "| region &lt;chr&gt; | avg_diff &lt;dbl&gt; |\n",
       "|---|---|\n",
       "| South     | 0.5413627 |\n",
       "| Midwest   | 0.4685333 |\n",
       "| Northeast | 0.3028204 |\n",
       "| West      | 0.2519538 |\n",
       "\n"
      ],
      "text/plain": [
       "  region    avg_diff \n",
       "1 South     0.5413627\n",
       "2 Midwest   0.4685333\n",
       "3 Northeast 0.3028204\n",
       "4 West      0.2519538"
      ]
     },
     "metadata": {},
     "output_type": "display_data"
    },
    {
     "name": "stderr",
     "output_type": "stream",
     "text": [
      "`summarise()` regrouping output by 'region', 'state' (override with `.groups` argument)\n",
      "\n",
      "`summarise()` ungrouping output (override with `.groups` argument)\n",
      "\n",
      "`summarise()` regrouping output by 'region', 'state', 'winner_party' (override with `.groups` argument)\n",
      "\n",
      "`summarise()` regrouping output by 'region' (override with `.groups` argument)\n",
      "\n"
     ]
    },
    {
     "data": {
      "image/png": "[encoded data removed]",
      "text/plain": [
       "plot without title"
      ]
     },
     "metadata": {
      "image/png": {
       "height": 420,
       "width": 420
      }
     },
     "output_type": "display_data"
    },
    {
     "data": {
      "image/png": "[encoded data removed]",
      "text/plain": [
       "plot without title"
      ]
     },
     "metadata": {
      "image/png": {
       "height": 420,
       "width": 420
      }
     },
     "output_type": "display_data"
    }
   ],
   "source": [
    "## Same as previous, for 2018\n",
    "elections_2018 %>%\n",
    "    filter(winner_gender %in% c(\"male\", \"female\")) %>%\n",
    "    group_by(region, state, winner_gender) %>%\n",
    "    summarize(count = n()) %>%\n",
    "    mutate(prop = count/sum(count)) %>%\n",
    "    ungroup() %>%\n",
    "    as.data.frame() %>%\n",
    "    pivot_wider(id_cols = c(\"region\", \"state\"), names_from = winner_gender, values_from = prop) %>%\n",
    "    mutate(diff = male - female) %>%\n",
    "    arrange(diff) %>%\n",
    "    head()\n",
    "\n",
    "elections_2018 %>%\n",
    "    filter(winner_gender %in% c(\"male\", \"female\")) %>%\n",
    "    group_by(region, state, winner_gender) %>%\n",
    "    summarize(count = n()) %>%\n",
    "    mutate(prop = count/sum(count)) %>%\n",
    "    ungroup() %>%\n",
    "    as.data.frame() %>%\n",
    "    pivot_wider(id_cols = c(\"region\", \"state\"), names_from = winner_gender, values_from = prop) %>%\n",
    "    mutate(diff = male - female,\n",
    "          diff = replace_na(diff, 1)) %>%\n",
    "    arrange(diff) %>%\n",
    "    group_by(region) %>%\n",
    "    summarize(avg_diff = mean(diff)) %>%\n",
    "    arrange(desc(avg_diff))\n",
    "\n",
    "\n",
    "# gender proportion of winning candidates by region\n",
    "elections_2018 %>%\n",
    "    filter(winner_gender %in% c(\"male\", \"female\"), winner_party %in% c(\"Democrat\", \"Republican\")) %>%\n",
    "    group_by(region, state, winner_gender) %>%\n",
    "    summarize(count = n()) %>%\n",
    "    mutate(prop = count/sum(count)) %>%\n",
    "    ungroup() %>%\n",
    "    as.data.frame() %>%\n",
    "    pivot_wider(id_cols = c(\"region\", \"state\"), names_from = winner_gender, values_from = prop) %>%\n",
    "    mutate(diff = male - female,\n",
    "          diff = replace_na(diff, 1)) %>%\n",
    "    group_by(region) %>%\n",
    "    summarize(avg_diff = round(100*mean(diff),1)) %>%\n",
    "    ggplot(aes(x = region, y = avg_diff, fill = region, label = paste(avg_diff, \"%\", sep = \"\"))) + \n",
    "        geom_bar(stat = \"identity\") + \n",
    "        geom_text(position = position_nudge(0,2)) + \n",
    "        labs(title = \"Gender Difference by Region, % Male - % Female\",\n",
    "            subtitle = \"2018\",\n",
    "            x = \"Region\", \n",
    "            y = \"Average % Difference\") + \n",
    "        theme(legend.position = \"none\") + \n",
    "        ylim(0,60)\n",
    "\n",
    "# Group by party\n",
    "elections_2018 %>%\n",
    "    filter(gender_democrat %in% c(\"male\", \"female\"), gender_republican %in% c(\"male\", \"female\"), winner_party %in% c(\"Democrat\", \"Republican\")) %>%\n",
    "    group_by(region, state, winner_party, winner_gender) %>%\n",
    "    summarize(count = n()) %>%\n",
    "    mutate(prop = count/sum(count)) %>%\n",
    "    ungroup() %>%\n",
    "    as.data.frame() %>%\n",
    "    pivot_wider(id_cols = c(\"region\", \"state\", \"winner_party\"), names_from = winner_gender, values_from = prop) %>%\n",
    "    mutate(diff = male - female,\n",
    "            diff = replace_na(diff, 1)) %>%\n",
    "    group_by(region, winner_party) %>%\n",
    "    summarize(avg_diff = round(100*mean(diff), 1)) %>%\n",
    "    ggplot(aes(x = region, y = avg_diff, fill = region, label = paste(avg_diff, \"%\", sep = \"\"))) + \n",
    "        geom_bar(stat = \"identity\") + \n",
    "        geom_text(position = position_nudge(0,2)) + \n",
    "        facet_grid(. ~ winner_party) +\n",
    "        labs(title = \"Gender Difference by Region, % Male - % Female\",\n",
    "            subtitle = \"2018\",\n",
    "            x = \"Region\", \n",
    "            y = \"Average % Difference\") + \n",
    "        theme(legend.position = \"none\") + \n",
    "        ylim(0,80)\n",
    "\n"
   ]
  },
  {
   "cell_type": "code",
   "execution_count": 39,
   "metadata": {},
   "outputs": [
    {
     "name": "stderr",
     "output_type": "stream",
     "text": [
      "`summarise()` regrouping output by 'region', 'state', 'winner_party' (override with `.groups` argument)\n",
      "\n",
      "`summarise()` regrouping output by 'region', 'state', 'winner_party' (override with `.groups` argument)\n",
      "\n",
      "`summarise()` regrouping output by 'region' (override with `.groups` argument)\n",
      "\n"
     ]
    },
    {
     "data": {
      "image/png": "[encoded data removed]",
      "text/plain": [
       "plot without title"
      ]
     },
     "metadata": {
      "image/png": {
       "height": 420,
       "width": 420
      }
     },
     "output_type": "display_data"
    }
   ],
   "source": [
    "## 2016 vs 2018 winning pool make up\n",
    "makeup_2016 <- elections_2016 %>%\n",
    "    filter(gender_dem %in% c(\"male\", \"female\"), gender_rep %in% c(\"male\", \"female\"), winner_party %in% c(\"Democrat\", \"Republican\")) %>%\n",
    "    group_by(region, state, winner_party, winner_gender) %>%\n",
    "    summarize(count = n()) %>%\n",
    "    mutate(prop = count/sum(count)) %>%\n",
    "    ungroup() %>%\n",
    "    as.data.frame() %>%\n",
    "    pivot_wider(id_cols = c(\"region\", \"state\", \"winner_party\"), names_from = winner_gender, values_from = prop) %>%\n",
    "    mutate(diff_2016 = male - female,\n",
    "            diff_2016 = replace_na(diff_2016, 1)) %>%\n",
    "    mutate(year = 2016)%>%\n",
    "    select(year, region, state, winner_party, diff_2016)\n",
    "\n",
    "\n",
    "makeup_2018 <- elections_2018 %>%\n",
    "    filter(gender_democrat %in% c(\"male\", \"female\"), gender_republican %in% c(\"male\", \"female\"), winner_party %in% c(\"Democrat\", \"Republican\")) %>%\n",
    "    group_by(region, state, winner_party, winner_gender) %>%\n",
    "    summarize(count = n()) %>%\n",
    "    mutate(prop = count/sum(count)) %>%\n",
    "    ungroup() %>%\n",
    "    as.data.frame() %>%\n",
    "    pivot_wider(id_cols = c(\"region\", \"state\", \"winner_party\"), names_from = winner_gender, values_from = prop) %>%\n",
    "    mutate(diff_2018 = male - female,\n",
    "            diff_2018 = replace_na(diff_2018, 1)) %>%\n",
    "    mutate(year = 2018) %>%\n",
    "    select(year, region, state, winner_party, diff_2018)\n",
    "\n",
    "makeup_total <- makeup_2016 %>%\n",
    "    left_join(makeup_2018, by = c(\"region\", \"state\", \"winner_party\"))\n",
    "\n",
    "makeup_total %>%\n",
    "    mutate(change = diff_2018 - diff_2016,\n",
    "          change = replace_na(change, 0)) %>%\n",
    "    group_by(region, winner_party) %>%\n",
    "    summarize(avg_change = round(100*mean(change), 1)) %>%\n",
    "    ggplot(aes(x = region, y = avg_change, fill = region, label = paste(avg_change, \"%\", sep = \"\"))) + \n",
    "        geom_bar(stat = \"identity\") + \n",
    "        geom_text(position = position_nudge(0,2)) + \n",
    "        facet_grid(. ~ winner_party) +\n",
    "        labs(title = \"Change in Female Makeup of Winning Candidates, by Party\",\n",
    "            subtitle = \"2018\",\n",
    "            x = \"Region\", \n",
    "            y = \"Average % Difference, Male - Female\") + \n",
    "        theme(legend.position = \"none\") + \n",
    "        ylim(-40,40)\n"
   ]
  },
  {
   "cell_type": "code",
   "execution_count": 9,
   "metadata": {},
   "outputs": [
    {
     "name": "stderr",
     "output_type": "stream",
     "text": [
      "`summarise()` regrouping output by 'candidate_party' (override with `.groups` argument)\n",
      "\n",
      "`summarise()` regrouping output by 'candidate_party' (override with `.groups` argument)\n",
      "\n"
     ]
    },
    {
     "data": {
      "image/png": "[encoded data removed]",
      "text/plain": [
       "plot without title"
      ]
     },
     "metadata": {
      "image/png": {
       "height": 420,
       "width": 420
      }
     },
     "output_type": "display_data"
    },
    {
     "name": "stderr",
     "output_type": "stream",
     "text": [
      "`summarise()` regrouping output by 'state' (override with `.groups` argument)\n",
      "\n"
     ]
    },
    {
     "data": {
      "text/html": [
       "<table>\n",
       "<caption>A grouped_df: 6 × 4</caption>\n",
       "<thead>\n",
       "\t<tr><th scope=col>state</th><th scope=col>winner_gender</th><th scope=col>count</th><th scope=col>prop</th></tr>\n",
       "\t<tr><th scope=col>&lt;chr&gt;</th><th scope=col>&lt;chr&gt;</th><th scope=col>&lt;int&gt;</th><th scope=col>&lt;dbl&gt;</th></tr>\n",
       "</thead>\n",
       "<tbody>\n",
       "\t<tr><td>Alaska    </td><td>female</td><td> 9</td><td>0.4090909</td></tr>\n",
       "\t<tr><td>Alaska    </td><td>male  </td><td>13</td><td>0.5909091</td></tr>\n",
       "\t<tr><td>Arkansas  </td><td>female</td><td> 4</td><td>0.1739130</td></tr>\n",
       "\t<tr><td>Arkansas  </td><td>male  </td><td>19</td><td>0.8260870</td></tr>\n",
       "\t<tr><td>California</td><td>female</td><td>13</td><td>0.2280702</td></tr>\n",
       "\t<tr><td>California</td><td>male  </td><td>44</td><td>0.7719298</td></tr>\n",
       "</tbody>\n",
       "</table>\n"
      ],
      "text/latex": [
       "A grouped\\_df: 6 × 4\n",
       "\\begin{tabular}{llll}\n",
       " state & winner\\_gender & count & prop\\\\\n",
       " <chr> & <chr> & <int> & <dbl>\\\\\n",
       "\\hline\n",
       "\t Alaska     & female &  9 & 0.4090909\\\\\n",
       "\t Alaska     & male   & 13 & 0.5909091\\\\\n",
       "\t Arkansas   & female &  4 & 0.1739130\\\\\n",
       "\t Arkansas   & male   & 19 & 0.8260870\\\\\n",
       "\t California & female & 13 & 0.2280702\\\\\n",
       "\t California & male   & 44 & 0.7719298\\\\\n",
       "\\end{tabular}\n"
      ],
      "text/markdown": [
       "\n",
       "A grouped_df: 6 × 4\n",
       "\n",
       "| state &lt;chr&gt; | winner_gender &lt;chr&gt; | count &lt;int&gt; | prop &lt;dbl&gt; |\n",
       "|---|---|---|---|\n",
       "| Alaska     | female |  9 | 0.4090909 |\n",
       "| Alaska     | male   | 13 | 0.5909091 |\n",
       "| Arkansas   | female |  4 | 0.1739130 |\n",
       "| Arkansas   | male   | 19 | 0.8260870 |\n",
       "| California | female | 13 | 0.2280702 |\n",
       "| California | male   | 44 | 0.7719298 |\n",
       "\n"
      ],
      "text/plain": [
       "  state      winner_gender count prop     \n",
       "1 Alaska     female         9    0.4090909\n",
       "2 Alaska     male          13    0.5909091\n",
       "3 Arkansas   female         4    0.1739130\n",
       "4 Arkansas   male          19    0.8260870\n",
       "5 California female        13    0.2280702\n",
       "6 California male          44    0.7719298"
      ]
     },
     "metadata": {},
     "output_type": "display_data"
    },
    {
     "name": "stderr",
     "output_type": "stream",
     "text": [
      "`summarise()` regrouping output by 'state' (override with `.groups` argument)\n",
      "\n",
      "`summarise()` ungrouping output (override with `.groups` argument)\n",
      "\n"
     ]
    },
    {
     "data": {
      "text/html": [
       "<table>\n",
       "<caption>A tibble: 6 × 2</caption>\n",
       "<thead>\n",
       "\t<tr><th scope=col>state</th><th scope=col>prop_diff</th></tr>\n",
       "\t<tr><th scope=col>&lt;chr&gt;</th><th scope=col>&lt;dbl&gt;</th></tr>\n",
       "</thead>\n",
       "<tbody>\n",
       "\t<tr><td>Alaska     </td><td>0.1818182</td></tr>\n",
       "\t<tr><td>Arkansas   </td><td>0.6521739</td></tr>\n",
       "\t<tr><td>California </td><td>0.5438596</td></tr>\n",
       "\t<tr><td>Colorado   </td><td>0.1764706</td></tr>\n",
       "\t<tr><td>Connecticut</td><td>0.4476190</td></tr>\n",
       "\t<tr><td>Delaware   </td><td>0.6000000</td></tr>\n",
       "</tbody>\n",
       "</table>\n"
      ],
      "text/latex": [
       "A tibble: 6 × 2\n",
       "\\begin{tabular}{ll}\n",
       " state & prop\\_diff\\\\\n",
       " <chr> & <dbl>\\\\\n",
       "\\hline\n",
       "\t Alaska      & 0.1818182\\\\\n",
       "\t Arkansas    & 0.6521739\\\\\n",
       "\t California  & 0.5438596\\\\\n",
       "\t Colorado    & 0.1764706\\\\\n",
       "\t Connecticut & 0.4476190\\\\\n",
       "\t Delaware    & 0.6000000\\\\\n",
       "\\end{tabular}\n"
      ],
      "text/markdown": [
       "\n",
       "A tibble: 6 × 2\n",
       "\n",
       "| state &lt;chr&gt; | prop_diff &lt;dbl&gt; |\n",
       "|---|---|\n",
       "| Alaska      | 0.1818182 |\n",
       "| Arkansas    | 0.6521739 |\n",
       "| California  | 0.5438596 |\n",
       "| Colorado    | 0.1764706 |\n",
       "| Connecticut | 0.4476190 |\n",
       "| Delaware    | 0.6000000 |\n",
       "\n"
      ],
      "text/plain": [
       "  state       prop_diff\n",
       "1 Alaska      0.1818182\n",
       "2 Arkansas    0.6521739\n",
       "3 California  0.5438596\n",
       "4 Colorado    0.1764706\n",
       "5 Connecticut 0.4476190\n",
       "6 Delaware    0.6000000"
      ]
     },
     "metadata": {},
     "output_type": "display_data"
    },
    {
     "data": {
      "image/png": "[encoded data removed]",
      "text/plain": [
       "plot without title"
      ]
     },
     "metadata": {
      "image/png": {
       "height": 420,
       "width": 420
      }
     },
     "output_type": "display_data"
    }
   ],
   "source": [
    "## Graphs\n",
    "elections_2016_long %>%\n",
    "    group_by(candidate_party, gender) %>%\n",
    "    filter(gender %in% c(\"male\", \"female\"), !is.na(total_votes), vote_prop < 0.75, candidate != \"No candidate\") %>%\n",
    "    summarize(count = n()) %>%\n",
    "    mutate(prop = round(100*count/sum(count),1)) %>%\n",
    "    ggplot(aes(x = gender, y = prop, fill = gender, label = paste(prop, \"%\"))) + \n",
    "        geom_bar(stat = \"identity\") + \n",
    "        geom_text(position = position_nudge(0,2)) + \n",
    "        facet_grid(. ~ candidate_party) +\n",
    "        labs(title = \"Gender Proportion of Candidates, 2016\",\n",
    "            y = \"Percentage %\",\n",
    "            x = \"Gender\") +\n",
    "        theme(legend.position = \"none\")\n",
    "\n",
    "elections_2018_long %>%\n",
    "    group_by(candidate_party, gender) %>%\n",
    "    filter(gender %in% c(\"male\", \"female\"), !is.na(total_votes), vote_prop < 0.75, candidate != \"No candidate\") %>%\n",
    "    summarize(count = n()) %>%\n",
    "    mutate(prop = round(100*count/sum(count),1)) %>%\n",
    "    ggplot(aes(x = gender, y = prop, fill = gender, label = paste(prop, \"%\"))) + \n",
    "        geom_bar(stat = \"identity\") + \n",
    "        geom_text(position = position_nudge(0,2)) + \n",
    "        facet_grid(. ~ candidate_party) +\n",
    "        labs(title = \"Gender Proportion of Candidates, 2018\",\n",
    "            y = \"Percentage %\",\n",
    "            x = \"Gender\") +\n",
    "        theme(legend.position = \"none\")\n",
    "\n",
    "\n",
    "\n",
    "##Vote Prop of winning candidates\n",
    "\n",
    "elections_2016 %>% \n",
    "    filter(gender_dem %in% c(\"male\", \"female\"), gender_rep %in% c(\"male\", \"female\")) %>%\n",
    "    group_by(state, winner_gender) %>%\n",
    "    summarize(count = n()) %>%\n",
    "    mutate(prop = count/sum(count)) %>%\n",
    "    head()\n",
    "\n",
    "elections_2016 %>% \n",
    "    filter(gender_dem %in% c(\"male\", \"female\"), gender_rep %in% c(\"male\", \"female\")) %>%\n",
    "    group_by(state, winner_gender) %>%\n",
    "    summarize(count = n()) %>%\n",
    "    mutate(prop = count/sum(count)) %>%\n",
    "    summarize(prop_diff = max(prop) - min(prop)) %>% # This calculation only works with paired rows, e.g. row 1 is state A Males, row 2 is state A Females, etc. tbh prob better to do these kind of calculations with wide datasets, will look at later\n",
    "    filter(abs(prop_diff) > 0.05) %>%\n",
    "    head()\n",
    "\n",
    "\n",
    "\n"
   ]
  },
  {
   "cell_type": "code",
   "execution_count": 10,
   "metadata": {},
   "outputs": [
    {
     "data": {
      "text/html": [
       "<table>\n",
       "<caption>A data.frame: 6 × 13</caption>\n",
       "<thead>\n",
       "\t<tr><th></th><th scope=col>X</th><th scope=col>year</th><th scope=col>state</th><th scope=col>district</th><th scope=col>office</th><th scope=col>candidate</th><th scope=col>total_votes</th><th scope=col>vote_prop</th><th scope=col>gender</th><th scope=col>winner_party</th><th scope=col>candidate_party</th><th scope=col>race_ethnicity</th><th scope=col>region</th></tr>\n",
       "\t<tr><th></th><th scope=col>&lt;int&gt;</th><th scope=col>&lt;int&gt;</th><th scope=col>&lt;chr&gt;</th><th scope=col>&lt;chr&gt;</th><th scope=col>&lt;chr&gt;</th><th scope=col>&lt;chr&gt;</th><th scope=col>&lt;int&gt;</th><th scope=col>&lt;dbl&gt;</th><th scope=col>&lt;chr&gt;</th><th scope=col>&lt;chr&gt;</th><th scope=col>&lt;chr&gt;</th><th scope=col>&lt;chr&gt;</th><th scope=col>&lt;chr&gt;</th></tr>\n",
       "</thead>\n",
       "<tbody>\n",
       "\t<tr><th scope=row>1</th><td>1</td><td>2018</td><td>Alabama</td><td>District 1  </td><td>State Representative</td><td>No candidate </td><td>    0</td><td>0.0000000</td><td>N/A    </td><td>Republican</td><td>Democrat</td><td>Missing</td><td>South</td></tr>\n",
       "\t<tr><th scope=row>2</th><td>2</td><td>2018</td><td>Alabama</td><td>District 1  </td><td>State Senator       </td><td>Caroline Self</td><td>15830</td><td>0.3232525</td><td>female </td><td>Republican</td><td>Democrat</td><td>Missing</td><td>South</td></tr>\n",
       "\t<tr><th scope=row>3</th><td>3</td><td>2018</td><td>Alabama</td><td>District 10 </td><td>State Representative</td><td>J.B. King    </td><td> 8565</td><td>0.4091235</td><td>Unknown</td><td>Republican</td><td>Democrat</td><td>Missing</td><td>South</td></tr>\n",
       "\t<tr><th scope=row>4</th><td>4</td><td>2018</td><td>Alabama</td><td>District 10 </td><td>State Senator       </td><td>No candidate </td><td>    0</td><td>0.0000000</td><td>N/A    </td><td>Republican</td><td>Democrat</td><td>Missing</td><td>South</td></tr>\n",
       "\t<tr><th scope=row>5</th><td>5</td><td>2018</td><td>Alabama</td><td>District 100</td><td>State Representative</td><td>No candidate </td><td>    0</td><td>0.0000000</td><td>N/A    </td><td>Republican</td><td>Democrat</td><td>Missing</td><td>South</td></tr>\n",
       "\t<tr><th scope=row>6</th><td>6</td><td>2018</td><td>Alabama</td><td>District 101</td><td>State Representative</td><td>No candidate </td><td>    0</td><td>0.0000000</td><td>N/A    </td><td>Republican</td><td>Democrat</td><td>Missing</td><td>South</td></tr>\n",
       "</tbody>\n",
       "</table>\n"
      ],
      "text/latex": [
       "A data.frame: 6 × 13\n",
       "\\begin{tabular}{r|lllllllllllll}\n",
       "  & X & year & state & district & office & candidate & total\\_votes & vote\\_prop & gender & winner\\_party & candidate\\_party & race\\_ethnicity & region\\\\\n",
       "  & <int> & <int> & <chr> & <chr> & <chr> & <chr> & <int> & <dbl> & <chr> & <chr> & <chr> & <chr> & <chr>\\\\\n",
       "\\hline\n",
       "\t1 & 1 & 2018 & Alabama & District 1   & State Representative & No candidate  &     0 & 0.0000000 & N/A     & Republican & Democrat & Missing & South\\\\\n",
       "\t2 & 2 & 2018 & Alabama & District 1   & State Senator        & Caroline Self & 15830 & 0.3232525 & female  & Republican & Democrat & Missing & South\\\\\n",
       "\t3 & 3 & 2018 & Alabama & District 10  & State Representative & J.B. King     &  8565 & 0.4091235 & Unknown & Republican & Democrat & Missing & South\\\\\n",
       "\t4 & 4 & 2018 & Alabama & District 10  & State Senator        & No candidate  &     0 & 0.0000000 & N/A     & Republican & Democrat & Missing & South\\\\\n",
       "\t5 & 5 & 2018 & Alabama & District 100 & State Representative & No candidate  &     0 & 0.0000000 & N/A     & Republican & Democrat & Missing & South\\\\\n",
       "\t6 & 6 & 2018 & Alabama & District 101 & State Representative & No candidate  &     0 & 0.0000000 & N/A     & Republican & Democrat & Missing & South\\\\\n",
       "\\end{tabular}\n"
      ],
      "text/markdown": [
       "\n",
       "A data.frame: 6 × 13\n",
       "\n",
       "| <!--/--> | X &lt;int&gt; | year &lt;int&gt; | state &lt;chr&gt; | district &lt;chr&gt; | office &lt;chr&gt; | candidate &lt;chr&gt; | total_votes &lt;int&gt; | vote_prop &lt;dbl&gt; | gender &lt;chr&gt; | winner_party &lt;chr&gt; | candidate_party &lt;chr&gt; | race_ethnicity &lt;chr&gt; | region &lt;chr&gt; |\n",
       "|---|---|---|---|---|---|---|---|---|---|---|---|---|---|\n",
       "| 1 | 1 | 2018 | Alabama | District 1   | State Representative | No candidate  |     0 | 0.0000000 | N/A     | Republican | Democrat | Missing | South |\n",
       "| 2 | 2 | 2018 | Alabama | District 1   | State Senator        | Caroline Self | 15830 | 0.3232525 | female  | Republican | Democrat | Missing | South |\n",
       "| 3 | 3 | 2018 | Alabama | District 10  | State Representative | J.B. King     |  8565 | 0.4091235 | Unknown | Republican | Democrat | Missing | South |\n",
       "| 4 | 4 | 2018 | Alabama | District 10  | State Senator        | No candidate  |     0 | 0.0000000 | N/A     | Republican | Democrat | Missing | South |\n",
       "| 5 | 5 | 2018 | Alabama | District 100 | State Representative | No candidate  |     0 | 0.0000000 | N/A     | Republican | Democrat | Missing | South |\n",
       "| 6 | 6 | 2018 | Alabama | District 101 | State Representative | No candidate  |     0 | 0.0000000 | N/A     | Republican | Democrat | Missing | South |\n",
       "\n"
      ],
      "text/plain": [
       "  X year state   district     office               candidate     total_votes\n",
       "1 1 2018 Alabama District 1   State Representative No candidate      0      \n",
       "2 2 2018 Alabama District 1   State Senator        Caroline Self 15830      \n",
       "3 3 2018 Alabama District 10  State Representative J.B. King      8565      \n",
       "4 4 2018 Alabama District 10  State Senator        No candidate      0      \n",
       "5 5 2018 Alabama District 100 State Representative No candidate      0      \n",
       "6 6 2018 Alabama District 101 State Representative No candidate      0      \n",
       "  vote_prop gender  winner_party candidate_party race_ethnicity region\n",
       "1 0.0000000 N/A     Republican   Democrat        Missing        South \n",
       "2 0.3232525 female  Republican   Democrat        Missing        South \n",
       "3 0.4091235 Unknown Republican   Democrat        Missing        South \n",
       "4 0.0000000 N/A     Republican   Democrat        Missing        South \n",
       "5 0.0000000 N/A     Republican   Democrat        Missing        South \n",
       "6 0.0000000 N/A     Republican   Democrat        Missing        South "
      ]
     },
     "metadata": {},
     "output_type": "display_data"
    },
    {
     "data": {
      "text/html": [
       "<table>\n",
       "<caption>A data.frame: 6 × 19</caption>\n",
       "<thead>\n",
       "\t<tr><th></th><th scope=col>X</th><th scope=col>state</th><th scope=col>district</th><th scope=col>office</th><th scope=col>candidate_other</th><th scope=col>candidate_republican</th><th scope=col>candidate_democrat</th><th scope=col>total_votes_other</th><th scope=col>total_votes_republican</th><th scope=col>total_votes_democrat</th><th scope=col>vote_share_dem</th><th scope=col>vote_share_rep</th><th scope=col>vote_share_other</th><th scope=col>winner_party</th><th scope=col>gender_democrat</th><th scope=col>gender_republican</th><th scope=col>winner_gender</th><th scope=col>year</th><th scope=col>region</th></tr>\n",
       "\t<tr><th></th><th scope=col>&lt;int&gt;</th><th scope=col>&lt;chr&gt;</th><th scope=col>&lt;chr&gt;</th><th scope=col>&lt;chr&gt;</th><th scope=col>&lt;chr&gt;</th><th scope=col>&lt;chr&gt;</th><th scope=col>&lt;chr&gt;</th><th scope=col>&lt;int&gt;</th><th scope=col>&lt;int&gt;</th><th scope=col>&lt;int&gt;</th><th scope=col>&lt;dbl&gt;</th><th scope=col>&lt;dbl&gt;</th><th scope=col>&lt;dbl&gt;</th><th scope=col>&lt;chr&gt;</th><th scope=col>&lt;chr&gt;</th><th scope=col>&lt;chr&gt;</th><th scope=col>&lt;chr&gt;</th><th scope=col>&lt;int&gt;</th><th scope=col>&lt;chr&gt;</th></tr>\n",
       "</thead>\n",
       "<tbody>\n",
       "\t<tr><th scope=row>1</th><td>1</td><td>Alabama</td><td>District 1  </td><td>State Representative</td><td>Bobby James Dolan III</td><td>Phillip Pettus</td><td>No candidate </td><td> 4336</td><td> 7348</td><td>    0</td><td>0.0000000</td><td>0.6288942</td><td>0.37110579</td><td>Republican</td><td>N/A    </td><td>male</td><td>male</td><td>2018</td><td>South</td></tr>\n",
       "\t<tr><th scope=row>2</th><td>2</td><td>Alabama</td><td>District 1  </td><td>State Senator       </td><td>No candidate         </td><td>Tim Melson    </td><td>Caroline Self</td><td>    0</td><td>33141</td><td>15830</td><td>0.3232525</td><td>0.6767475</td><td>0.00000000</td><td>Republican</td><td>female </td><td>male</td><td>male</td><td>2018</td><td>South</td></tr>\n",
       "\t<tr><th scope=row>3</th><td>3</td><td>Alabama</td><td>District 10 </td><td>State Representative</td><td>Elijah J. Boyd       </td><td>Mike Ball     </td><td>J.B. King    </td><td> 1130</td><td>11240</td><td> 8565</td><td>0.4091235</td><td>0.5368999</td><td>0.05397659</td><td>Republican</td><td>Unknown</td><td>male</td><td>male</td><td>2018</td><td>South</td></tr>\n",
       "\t<tr><th scope=row>4</th><td>4</td><td>Alabama</td><td>District 10 </td><td>State Senator       </td><td>Craig Ford           </td><td>Andrew Jones  </td><td>No candidate </td><td>16759</td><td>25902</td><td>    0</td><td>0.0000000</td><td>0.6071588</td><td>0.39284124</td><td>Republican</td><td>N/A    </td><td>male</td><td>male</td><td>2018</td><td>South</td></tr>\n",
       "\t<tr><th scope=row>5</th><td>5</td><td>Alabama</td><td>District 100</td><td>State Representative</td><td>No candidate         </td><td>Victor Gaston </td><td>No candidate </td><td>    0</td><td>12086</td><td>    0</td><td>0.0000000</td><td>1.0000000</td><td>0.00000000</td><td>Republican</td><td>N/A    </td><td>male</td><td>male</td><td>2018</td><td>South</td></tr>\n",
       "\t<tr><th scope=row>6</th><td>6</td><td>Alabama</td><td>District 101</td><td>State Representative</td><td>No candidate         </td><td>Chris Pringle </td><td>No candidate </td><td>    0</td><td>10274</td><td>    0</td><td>0.0000000</td><td>1.0000000</td><td>0.00000000</td><td>Republican</td><td>N/A    </td><td>male</td><td>male</td><td>2018</td><td>South</td></tr>\n",
       "</tbody>\n",
       "</table>\n"
      ],
      "text/latex": [
       "A data.frame: 6 × 19\n",
       "\\begin{tabular}{r|lllllllllllllllllll}\n",
       "  & X & state & district & office & candidate\\_other & candidate\\_republican & candidate\\_democrat & total\\_votes\\_other & total\\_votes\\_republican & total\\_votes\\_democrat & vote\\_share\\_dem & vote\\_share\\_rep & vote\\_share\\_other & winner\\_party & gender\\_democrat & gender\\_republican & winner\\_gender & year & region\\\\\n",
       "  & <int> & <chr> & <chr> & <chr> & <chr> & <chr> & <chr> & <int> & <int> & <int> & <dbl> & <dbl> & <dbl> & <chr> & <chr> & <chr> & <chr> & <int> & <chr>\\\\\n",
       "\\hline\n",
       "\t1 & 1 & Alabama & District 1   & State Representative & Bobby James Dolan III & Phillip Pettus & No candidate  &  4336 &  7348 &     0 & 0.0000000 & 0.6288942 & 0.37110579 & Republican & N/A     & male & male & 2018 & South\\\\\n",
       "\t2 & 2 & Alabama & District 1   & State Senator        & No candidate          & Tim Melson     & Caroline Self &     0 & 33141 & 15830 & 0.3232525 & 0.6767475 & 0.00000000 & Republican & female  & male & male & 2018 & South\\\\\n",
       "\t3 & 3 & Alabama & District 10  & State Representative & Elijah J. Boyd        & Mike Ball      & J.B. King     &  1130 & 11240 &  8565 & 0.4091235 & 0.5368999 & 0.05397659 & Republican & Unknown & male & male & 2018 & South\\\\\n",
       "\t4 & 4 & Alabama & District 10  & State Senator        & Craig Ford            & Andrew Jones   & No candidate  & 16759 & 25902 &     0 & 0.0000000 & 0.6071588 & 0.39284124 & Republican & N/A     & male & male & 2018 & South\\\\\n",
       "\t5 & 5 & Alabama & District 100 & State Representative & No candidate          & Victor Gaston  & No candidate  &     0 & 12086 &     0 & 0.0000000 & 1.0000000 & 0.00000000 & Republican & N/A     & male & male & 2018 & South\\\\\n",
       "\t6 & 6 & Alabama & District 101 & State Representative & No candidate          & Chris Pringle  & No candidate  &     0 & 10274 &     0 & 0.0000000 & 1.0000000 & 0.00000000 & Republican & N/A     & male & male & 2018 & South\\\\\n",
       "\\end{tabular}\n"
      ],
      "text/markdown": [
       "\n",
       "A data.frame: 6 × 19\n",
       "\n",
       "| <!--/--> | X &lt;int&gt; | state &lt;chr&gt; | district &lt;chr&gt; | office &lt;chr&gt; | candidate_other &lt;chr&gt; | candidate_republican &lt;chr&gt; | candidate_democrat &lt;chr&gt; | total_votes_other &lt;int&gt; | total_votes_republican &lt;int&gt; | total_votes_democrat &lt;int&gt; | vote_share_dem &lt;dbl&gt; | vote_share_rep &lt;dbl&gt; | vote_share_other &lt;dbl&gt; | winner_party &lt;chr&gt; | gender_democrat &lt;chr&gt; | gender_republican &lt;chr&gt; | winner_gender &lt;chr&gt; | year &lt;int&gt; | region &lt;chr&gt; |\n",
       "|---|---|---|---|---|---|---|---|---|---|---|---|---|---|---|---|---|---|---|---|\n",
       "| 1 | 1 | Alabama | District 1   | State Representative | Bobby James Dolan III | Phillip Pettus | No candidate  |  4336 |  7348 |     0 | 0.0000000 | 0.6288942 | 0.37110579 | Republican | N/A     | male | male | 2018 | South |\n",
       "| 2 | 2 | Alabama | District 1   | State Senator        | No candidate          | Tim Melson     | Caroline Self |     0 | 33141 | 15830 | 0.3232525 | 0.6767475 | 0.00000000 | Republican | female  | male | male | 2018 | South |\n",
       "| 3 | 3 | Alabama | District 10  | State Representative | Elijah J. Boyd        | Mike Ball      | J.B. King     |  1130 | 11240 |  8565 | 0.4091235 | 0.5368999 | 0.05397659 | Republican | Unknown | male | male | 2018 | South |\n",
       "| 4 | 4 | Alabama | District 10  | State Senator        | Craig Ford            | Andrew Jones   | No candidate  | 16759 | 25902 |     0 | 0.0000000 | 0.6071588 | 0.39284124 | Republican | N/A     | male | male | 2018 | South |\n",
       "| 5 | 5 | Alabama | District 100 | State Representative | No candidate          | Victor Gaston  | No candidate  |     0 | 12086 |     0 | 0.0000000 | 1.0000000 | 0.00000000 | Republican | N/A     | male | male | 2018 | South |\n",
       "| 6 | 6 | Alabama | District 101 | State Representative | No candidate          | Chris Pringle  | No candidate  |     0 | 10274 |     0 | 0.0000000 | 1.0000000 | 0.00000000 | Republican | N/A     | male | male | 2018 | South |\n",
       "\n"
      ],
      "text/plain": [
       "  X state   district     office               candidate_other      \n",
       "1 1 Alabama District 1   State Representative Bobby James Dolan III\n",
       "2 2 Alabama District 1   State Senator        No candidate         \n",
       "3 3 Alabama District 10  State Representative Elijah J. Boyd       \n",
       "4 4 Alabama District 10  State Senator        Craig Ford           \n",
       "5 5 Alabama District 100 State Representative No candidate         \n",
       "6 6 Alabama District 101 State Representative No candidate         \n",
       "  candidate_republican candidate_democrat total_votes_other\n",
       "1 Phillip Pettus       No candidate        4336            \n",
       "2 Tim Melson           Caroline Self          0            \n",
       "3 Mike Ball            J.B. King           1130            \n",
       "4 Andrew Jones         No candidate       16759            \n",
       "5 Victor Gaston        No candidate           0            \n",
       "6 Chris Pringle        No candidate           0            \n",
       "  total_votes_republican total_votes_democrat vote_share_dem vote_share_rep\n",
       "1  7348                      0                0.0000000      0.6288942     \n",
       "2 33141                  15830                0.3232525      0.6767475     \n",
       "3 11240                   8565                0.4091235      0.5368999     \n",
       "4 25902                      0                0.0000000      0.6071588     \n",
       "5 12086                      0                0.0000000      1.0000000     \n",
       "6 10274                      0                0.0000000      1.0000000     \n",
       "  vote_share_other winner_party gender_democrat gender_republican winner_gender\n",
       "1 0.37110579       Republican   N/A             male              male         \n",
       "2 0.00000000       Republican   female          male              male         \n",
       "3 0.05397659       Republican   Unknown         male              male         \n",
       "4 0.39284124       Republican   N/A             male              male         \n",
       "5 0.00000000       Republican   N/A             male              male         \n",
       "6 0.00000000       Republican   N/A             male              male         \n",
       "  year region\n",
       "1 2018 South \n",
       "2 2018 South \n",
       "3 2018 South \n",
       "4 2018 South \n",
       "5 2018 South \n",
       "6 2018 South "
      ]
     },
     "metadata": {},
     "output_type": "display_data"
    }
   ],
   "source": [
    "head (elections_2018_long)\n",
    "head(elections_2018)"
   ]
  },
  {
   "cell_type": "code",
   "execution_count": 11,
   "metadata": {},
   "outputs": [
    {
     "name": "stderr",
     "output_type": "stream",
     "text": [
      "`summarise()` ungrouping output (override with `.groups` argument)\n",
      "\n"
     ]
    },
    {
     "data": {
      "text/html": [
       "<table>\n",
       "<caption>A tibble: 2 × 2</caption>\n",
       "<thead>\n",
       "\t<tr><th scope=col>gender</th><th scope=col>mean_gen_prop</th></tr>\n",
       "\t<tr><th scope=col>&lt;chr&gt;</th><th scope=col>&lt;dbl&gt;</th></tr>\n",
       "</thead>\n",
       "<tbody>\n",
       "\t<tr><td>female</td><td>0.4959456</td></tr>\n",
       "\t<tr><td>male  </td><td>0.4984242</td></tr>\n",
       "</tbody>\n",
       "</table>\n"
      ],
      "text/latex": [
       "A tibble: 2 × 2\n",
       "\\begin{tabular}{ll}\n",
       " gender & mean\\_gen\\_prop\\\\\n",
       " <chr> & <dbl>\\\\\n",
       "\\hline\n",
       "\t female & 0.4959456\\\\\n",
       "\t male   & 0.4984242\\\\\n",
       "\\end{tabular}\n"
      ],
      "text/markdown": [
       "\n",
       "A tibble: 2 × 2\n",
       "\n",
       "| gender &lt;chr&gt; | mean_gen_prop &lt;dbl&gt; |\n",
       "|---|---|\n",
       "| female | 0.4959456 |\n",
       "| male   | 0.4984242 |\n",
       "\n"
      ],
      "text/plain": [
       "  gender mean_gen_prop\n",
       "1 female 0.4959456    \n",
       "2 male   0.4984242    "
      ]
     },
     "metadata": {},
     "output_type": "display_data"
    },
    {
     "name": "stderr",
     "output_type": "stream",
     "text": [
      "`summarise()` ungrouping output (override with `.groups` argument)\n",
      "\n"
     ]
    },
    {
     "data": {
      "text/html": [
       "<table>\n",
       "<caption>A tibble: 2 × 2</caption>\n",
       "<thead>\n",
       "\t<tr><th scope=col>gender</th><th scope=col>mean_gen_prop</th></tr>\n",
       "\t<tr><th scope=col>&lt;chr&gt;</th><th scope=col>&lt;dbl&gt;</th></tr>\n",
       "</thead>\n",
       "<tbody>\n",
       "\t<tr><td>female</td><td>0.4778499</td></tr>\n",
       "\t<tr><td>male  </td><td>0.4688065</td></tr>\n",
       "</tbody>\n",
       "</table>\n"
      ],
      "text/latex": [
       "A tibble: 2 × 2\n",
       "\\begin{tabular}{ll}\n",
       " gender & mean\\_gen\\_prop\\\\\n",
       " <chr> & <dbl>\\\\\n",
       "\\hline\n",
       "\t female & 0.4778499\\\\\n",
       "\t male   & 0.4688065\\\\\n",
       "\\end{tabular}\n"
      ],
      "text/markdown": [
       "\n",
       "A tibble: 2 × 2\n",
       "\n",
       "| gender &lt;chr&gt; | mean_gen_prop &lt;dbl&gt; |\n",
       "|---|---|\n",
       "| female | 0.4778499 |\n",
       "| male   | 0.4688065 |\n",
       "\n"
      ],
      "text/plain": [
       "  gender mean_gen_prop\n",
       "1 female 0.4778499    \n",
       "2 male   0.4688065    "
      ]
     },
     "metadata": {},
     "output_type": "display_data"
    }
   ],
   "source": [
    "elections_2018_long%>% \n",
    "    filter(candidate_party == \"Democrat\", gender %in% c(\"male\", \"female\"), vote_prop !=1)%>%\n",
    "    group_by(gender)  %>%\n",
    "    summarise (mean_gen_prop= mean (vote_prop)) \n",
    "\n",
    "\n",
    "elections_2016_long %>%\n",
    " filter(candidate_party == \"Democrat\", gender %in% c(\"male\", \"female\"), vote_prop !=1)%>%\n",
    "    group_by(gender)  %>%\n",
    "    summarise (mean_gen_prop= mean (vote_prop)) \n",
    "\n",
    "\n",
    "#overall vote.prop averages for Dem candidates by gender in races which weren't unopposed"
   ]
  },
  {
   "cell_type": "code",
   "execution_count": 12,
   "metadata": {},
   "outputs": [
    {
     "name": "stderr",
     "output_type": "stream",
     "text": [
      "`summarise()` ungrouping output (override with `.groups` argument)\n",
      "\n"
     ]
    },
    {
     "data": {
      "text/html": [
       "<table>\n",
       "<caption>A tibble: 2 × 2</caption>\n",
       "<thead>\n",
       "\t<tr><th scope=col>gender</th><th scope=col>mean_gen_prop</th></tr>\n",
       "\t<tr><th scope=col>&lt;chr&gt;</th><th scope=col>&lt;dbl&gt;</th></tr>\n",
       "</thead>\n",
       "<tbody>\n",
       "\t<tr><td>female</td><td>0.4846782</td></tr>\n",
       "\t<tr><td>male  </td><td>0.5174242</td></tr>\n",
       "</tbody>\n",
       "</table>\n"
      ],
      "text/latex": [
       "A tibble: 2 × 2\n",
       "\\begin{tabular}{ll}\n",
       " gender & mean\\_gen\\_prop\\\\\n",
       " <chr> & <dbl>\\\\\n",
       "\\hline\n",
       "\t female & 0.4846782\\\\\n",
       "\t male   & 0.5174242\\\\\n",
       "\\end{tabular}\n"
      ],
      "text/markdown": [
       "\n",
       "A tibble: 2 × 2\n",
       "\n",
       "| gender &lt;chr&gt; | mean_gen_prop &lt;dbl&gt; |\n",
       "|---|---|\n",
       "| female | 0.4846782 |\n",
       "| male   | 0.5174242 |\n",
       "\n"
      ],
      "text/plain": [
       "  gender mean_gen_prop\n",
       "1 female 0.4846782    \n",
       "2 male   0.5174242    "
      ]
     },
     "metadata": {},
     "output_type": "display_data"
    },
    {
     "name": "stderr",
     "output_type": "stream",
     "text": [
      "`summarise()` ungrouping output (override with `.groups` argument)\n",
      "\n"
     ]
    },
    {
     "data": {
      "text/html": [
       "<table>\n",
       "<caption>A tibble: 2 × 2</caption>\n",
       "<thead>\n",
       "\t<tr><th scope=col>gender</th><th scope=col>mean_gen_prop</th></tr>\n",
       "\t<tr><th scope=col>&lt;chr&gt;</th><th scope=col>&lt;dbl&gt;</th></tr>\n",
       "</thead>\n",
       "<tbody>\n",
       "\t<tr><td>female</td><td>0.5334219</td></tr>\n",
       "\t<tr><td>male  </td><td>0.5482527</td></tr>\n",
       "</tbody>\n",
       "</table>\n"
      ],
      "text/latex": [
       "A tibble: 2 × 2\n",
       "\\begin{tabular}{ll}\n",
       " gender & mean\\_gen\\_prop\\\\\n",
       " <chr> & <dbl>\\\\\n",
       "\\hline\n",
       "\t female & 0.5334219\\\\\n",
       "\t male   & 0.5482527\\\\\n",
       "\\end{tabular}\n"
      ],
      "text/markdown": [
       "\n",
       "A tibble: 2 × 2\n",
       "\n",
       "| gender &lt;chr&gt; | mean_gen_prop &lt;dbl&gt; |\n",
       "|---|---|\n",
       "| female | 0.5334219 |\n",
       "| male   | 0.5482527 |\n",
       "\n"
      ],
      "text/plain": [
       "  gender mean_gen_prop\n",
       "1 female 0.5334219    \n",
       "2 male   0.5482527    "
      ]
     },
     "metadata": {},
     "output_type": "display_data"
    }
   ],
   "source": [
    "elections_2018_long%>% \n",
    "    filter(candidate_party == \"Republican\", gender %in% c(\"male\", \"female\"), vote_prop !=1)%>%\n",
    "    group_by(gender)  %>%\n",
    "summarise (mean_gen_prop= mean (vote_prop)) \n",
    "\n",
    "elections_2016_long %>%\n",
    "filter(candidate_party == \"Republican\", gender %in% c(\"male\", \"female\"), vote_prop !=1)%>%\n",
    "    group_by(gender)  %>%\n",
    "summarise (mean_gen_prop= mean(vote_prop)) \n",
    "#overall vote.prop averages for Repub candidates by gender in races which weren't unopposed\n",
    "#2016 numbers off or would these higher props be due to other party candidates?"
   ]
  },
  {
   "cell_type": "code",
   "execution_count": 13,
   "metadata": {},
   "outputs": [
    {
     "name": "stderr",
     "output_type": "stream",
     "text": [
      "`summarise()` ungrouping output (override with `.groups` argument)\n",
      "\n"
     ]
    },
    {
     "data": {
      "text/html": [
       "<table>\n",
       "<caption>A tibble: 2 × 2</caption>\n",
       "<thead>\n",
       "\t<tr><th scope=col>gender</th><th scope=col>mean_gen_prop</th></tr>\n",
       "\t<tr><th scope=col>&lt;chr&gt;</th><th scope=col>&lt;dbl&gt;</th></tr>\n",
       "</thead>\n",
       "<tbody>\n",
       "\t<tr><td>female</td><td>0.4922684</td></tr>\n",
       "\t<tr><td>male  </td><td>0.5099602</td></tr>\n",
       "</tbody>\n",
       "</table>\n"
      ],
      "text/latex": [
       "A tibble: 2 × 2\n",
       "\\begin{tabular}{ll}\n",
       " gender & mean\\_gen\\_prop\\\\\n",
       " <chr> & <dbl>\\\\\n",
       "\\hline\n",
       "\t female & 0.4922684\\\\\n",
       "\t male   & 0.5099602\\\\\n",
       "\\end{tabular}\n"
      ],
      "text/markdown": [
       "\n",
       "A tibble: 2 × 2\n",
       "\n",
       "| gender &lt;chr&gt; | mean_gen_prop &lt;dbl&gt; |\n",
       "|---|---|\n",
       "| female | 0.4922684 |\n",
       "| male   | 0.5099602 |\n",
       "\n"
      ],
      "text/plain": [
       "  gender mean_gen_prop\n",
       "1 female 0.4922684    \n",
       "2 male   0.5099602    "
      ]
     },
     "metadata": {},
     "output_type": "display_data"
    },
    {
     "name": "stderr",
     "output_type": "stream",
     "text": [
      "`summarise()` ungrouping output (override with `.groups` argument)\n",
      "\n"
     ]
    },
    {
     "data": {
      "text/html": [
       "<table>\n",
       "<caption>A tibble: 2 × 2</caption>\n",
       "<thead>\n",
       "\t<tr><th scope=col>gender</th><th scope=col>mean_gen_prop</th></tr>\n",
       "\t<tr><th scope=col>&lt;chr&gt;</th><th scope=col>&lt;dbl&gt;</th></tr>\n",
       "</thead>\n",
       "<tbody>\n",
       "\t<tr><td>female</td><td>0.4988748</td></tr>\n",
       "\t<tr><td>male  </td><td>0.5132029</td></tr>\n",
       "</tbody>\n",
       "</table>\n"
      ],
      "text/latex": [
       "A tibble: 2 × 2\n",
       "\\begin{tabular}{ll}\n",
       " gender & mean\\_gen\\_prop\\\\\n",
       " <chr> & <dbl>\\\\\n",
       "\\hline\n",
       "\t female & 0.4988748\\\\\n",
       "\t male   & 0.5132029\\\\\n",
       "\\end{tabular}\n"
      ],
      "text/markdown": [
       "\n",
       "A tibble: 2 × 2\n",
       "\n",
       "| gender &lt;chr&gt; | mean_gen_prop &lt;dbl&gt; |\n",
       "|---|---|\n",
       "| female | 0.4988748 |\n",
       "| male   | 0.5132029 |\n",
       "\n"
      ],
      "text/plain": [
       "  gender mean_gen_prop\n",
       "1 female 0.4988748    \n",
       "2 male   0.5132029    "
      ]
     },
     "metadata": {},
     "output_type": "display_data"
    }
   ],
   "source": [
    "elections_2018_long%>% \n",
    "    filter(gender %in% c(\"male\", \"female\"), vote_prop !=1)%>%\n",
    "    group_by(gender)  %>%\n",
    "summarise (mean_gen_prop= mean (vote_prop)) \n",
    "\n",
    "elections_2016_long%>% \n",
    "    filter(gender %in% c(\"male\", \"female\"), vote_prop !=1)%>%\n",
    "    group_by(gender)  %>%\n",
    "summarise (mean_gen_prop= mean (vote_prop)) \n",
    "\n",
    "\n",
    "#overall props by gender regardless of party\n",
    "#highers props due to other party candidates?"
   ]
  },
  {
   "cell_type": "code",
   "execution_count": 14,
   "metadata": {},
   "outputs": [
    {
     "name": "stderr",
     "output_type": "stream",
     "text": [
      "`summarise()` ungrouping output (override with `.groups` argument)\n",
      "\n"
     ]
    },
    {
     "data": {
      "text/html": [
       "<table>\n",
       "<caption>A tibble: 6 × 2</caption>\n",
       "<thead>\n",
       "\t<tr><th scope=col>state</th><th scope=col>mean_gen_prop</th></tr>\n",
       "\t<tr><th scope=col>&lt;chr&gt;</th><th scope=col>&lt;dbl&gt;</th></tr>\n",
       "</thead>\n",
       "<tbody>\n",
       "\t<tr><td>Alabama   </td><td>0.4260917</td></tr>\n",
       "\t<tr><td>Alaska    </td><td>0.5001140</td></tr>\n",
       "\t<tr><td>Arizona   </td><td>0.4911919</td></tr>\n",
       "\t<tr><td>Arkansas  </td><td>0.4934839</td></tr>\n",
       "\t<tr><td>California</td><td>0.4902475</td></tr>\n",
       "\t<tr><td>Colorado  </td><td>0.5134712</td></tr>\n",
       "</tbody>\n",
       "</table>\n"
      ],
      "text/latex": [
       "A tibble: 6 × 2\n",
       "\\begin{tabular}{ll}\n",
       " state & mean\\_gen\\_prop\\\\\n",
       " <chr> & <dbl>\\\\\n",
       "\\hline\n",
       "\t Alabama    & 0.4260917\\\\\n",
       "\t Alaska     & 0.5001140\\\\\n",
       "\t Arizona    & 0.4911919\\\\\n",
       "\t Arkansas   & 0.4934839\\\\\n",
       "\t California & 0.4902475\\\\\n",
       "\t Colorado   & 0.5134712\\\\\n",
       "\\end{tabular}\n"
      ],
      "text/markdown": [
       "\n",
       "A tibble: 6 × 2\n",
       "\n",
       "| state &lt;chr&gt; | mean_gen_prop &lt;dbl&gt; |\n",
       "|---|---|\n",
       "| Alabama    | 0.4260917 |\n",
       "| Alaska     | 0.5001140 |\n",
       "| Arizona    | 0.4911919 |\n",
       "| Arkansas   | 0.4934839 |\n",
       "| California | 0.4902475 |\n",
       "| Colorado   | 0.5134712 |\n",
       "\n"
      ],
      "text/plain": [
       "  state      mean_gen_prop\n",
       "1 Alabama    0.4260917    \n",
       "2 Alaska     0.5001140    \n",
       "3 Arizona    0.4911919    \n",
       "4 Arkansas   0.4934839    \n",
       "5 California 0.4902475    \n",
       "6 Colorado   0.5134712    "
      ]
     },
     "metadata": {},
     "output_type": "display_data"
    },
    {
     "name": "stderr",
     "output_type": "stream",
     "text": [
      "`summarise()` ungrouping output (override with `.groups` argument)\n",
      "\n"
     ]
    },
    {
     "data": {
      "text/html": [
       "<table>\n",
       "<caption>A tibble: 6 × 2</caption>\n",
       "<thead>\n",
       "\t<tr><th scope=col>state</th><th scope=col>mean_gen_prop</th></tr>\n",
       "\t<tr><th scope=col>&lt;chr&gt;</th><th scope=col>&lt;dbl&gt;</th></tr>\n",
       "</thead>\n",
       "<tbody>\n",
       "\t<tr><td>Alabama   </td><td>0.3569806</td></tr>\n",
       "\t<tr><td>Alaska    </td><td>0.4412298</td></tr>\n",
       "\t<tr><td>Arizona   </td><td>0.4784230</td></tr>\n",
       "\t<tr><td>Arkansas  </td><td>0.4236310</td></tr>\n",
       "\t<tr><td>California</td><td>0.5509966</td></tr>\n",
       "\t<tr><td>Colorado  </td><td>0.5468281</td></tr>\n",
       "</tbody>\n",
       "</table>\n"
      ],
      "text/latex": [
       "A tibble: 6 × 2\n",
       "\\begin{tabular}{ll}\n",
       " state & mean\\_gen\\_prop\\\\\n",
       " <chr> & <dbl>\\\\\n",
       "\\hline\n",
       "\t Alabama    & 0.3569806\\\\\n",
       "\t Alaska     & 0.4412298\\\\\n",
       "\t Arizona    & 0.4784230\\\\\n",
       "\t Arkansas   & 0.4236310\\\\\n",
       "\t California & 0.5509966\\\\\n",
       "\t Colorado   & 0.5468281\\\\\n",
       "\\end{tabular}\n"
      ],
      "text/markdown": [
       "\n",
       "A tibble: 6 × 2\n",
       "\n",
       "| state &lt;chr&gt; | mean_gen_prop &lt;dbl&gt; |\n",
       "|---|---|\n",
       "| Alabama    | 0.3569806 |\n",
       "| Alaska     | 0.4412298 |\n",
       "| Arizona    | 0.4784230 |\n",
       "| Arkansas   | 0.4236310 |\n",
       "| California | 0.5509966 |\n",
       "| Colorado   | 0.5468281 |\n",
       "\n"
      ],
      "text/plain": [
       "  state      mean_gen_prop\n",
       "1 Alabama    0.3569806    \n",
       "2 Alaska     0.4412298    \n",
       "3 Arizona    0.4784230    \n",
       "4 Arkansas   0.4236310    \n",
       "5 California 0.5509966    \n",
       "6 Colorado   0.5468281    "
      ]
     },
     "metadata": {},
     "output_type": "display_data"
    },
    {
     "name": "stderr",
     "output_type": "stream",
     "text": [
      "`summarise()` ungrouping output (override with `.groups` argument)\n",
      "\n"
     ]
    },
    {
     "data": {
      "text/html": [
       "<table>\n",
       "<caption>A tibble: 6 × 2</caption>\n",
       "<thead>\n",
       "\t<tr><th scope=col>state</th><th scope=col>mean_gen_prop</th></tr>\n",
       "\t<tr><th scope=col>&lt;chr&gt;</th><th scope=col>&lt;dbl&gt;</th></tr>\n",
       "</thead>\n",
       "<tbody>\n",
       "\t<tr><td>Alabama   </td><td>0.7124091</td></tr>\n",
       "\t<tr><td>Alaska    </td><td>0.5861756</td></tr>\n",
       "\t<tr><td>Arizona   </td><td>0.5160577</td></tr>\n",
       "\t<tr><td>Arkansas  </td><td>0.5866211</td></tr>\n",
       "\t<tr><td>California</td><td>0.3943279</td></tr>\n",
       "\t<tr><td>Colorado  </td><td>0.4546060</td></tr>\n",
       "</tbody>\n",
       "</table>\n"
      ],
      "text/latex": [
       "A tibble: 6 × 2\n",
       "\\begin{tabular}{ll}\n",
       " state & mean\\_gen\\_prop\\\\\n",
       " <chr> & <dbl>\\\\\n",
       "\\hline\n",
       "\t Alabama    & 0.7124091\\\\\n",
       "\t Alaska     & 0.5861756\\\\\n",
       "\t Arizona    & 0.5160577\\\\\n",
       "\t Arkansas   & 0.5866211\\\\\n",
       "\t California & 0.3943279\\\\\n",
       "\t Colorado   & 0.4546060\\\\\n",
       "\\end{tabular}\n"
      ],
      "text/markdown": [
       "\n",
       "A tibble: 6 × 2\n",
       "\n",
       "| state &lt;chr&gt; | mean_gen_prop &lt;dbl&gt; |\n",
       "|---|---|\n",
       "| Alabama    | 0.7124091 |\n",
       "| Alaska     | 0.5861756 |\n",
       "| Arizona    | 0.5160577 |\n",
       "| Arkansas   | 0.5866211 |\n",
       "| California | 0.3943279 |\n",
       "| Colorado   | 0.4546060 |\n",
       "\n"
      ],
      "text/plain": [
       "  state      mean_gen_prop\n",
       "1 Alabama    0.7124091    \n",
       "2 Alaska     0.5861756    \n",
       "3 Arizona    0.5160577    \n",
       "4 Arkansas   0.5866211    \n",
       "5 California 0.3943279    \n",
       "6 Colorado   0.4546060    "
      ]
     },
     "metadata": {},
     "output_type": "display_data"
    },
    {
     "name": "stderr",
     "output_type": "stream",
     "text": [
      "`summarise()` ungrouping output (override with `.groups` argument)\n",
      "\n"
     ]
    },
    {
     "data": {
      "text/html": [
       "<table>\n",
       "<caption>A tibble: 6 × 2</caption>\n",
       "<thead>\n",
       "\t<tr><th scope=col>state</th><th scope=col>mean_gen_prop</th></tr>\n",
       "\t<tr><th scope=col>&lt;chr&gt;</th><th scope=col>&lt;dbl&gt;</th></tr>\n",
       "</thead>\n",
       "<tbody>\n",
       "\t<tr><td>Alaska     </td><td>0.4671111</td></tr>\n",
       "\t<tr><td>Arkansas   </td><td>0.4528645</td></tr>\n",
       "\t<tr><td>California </td><td>0.4902361</td></tr>\n",
       "\t<tr><td>Colorado   </td><td>0.5264582</td></tr>\n",
       "\t<tr><td>Connecticut</td><td>0.5180139</td></tr>\n",
       "\t<tr><td>Delaware   </td><td>0.4445916</td></tr>\n",
       "</tbody>\n",
       "</table>\n"
      ],
      "text/latex": [
       "A tibble: 6 × 2\n",
       "\\begin{tabular}{ll}\n",
       " state & mean\\_gen\\_prop\\\\\n",
       " <chr> & <dbl>\\\\\n",
       "\\hline\n",
       "\t Alaska      & 0.4671111\\\\\n",
       "\t Arkansas    & 0.4528645\\\\\n",
       "\t California  & 0.4902361\\\\\n",
       "\t Colorado    & 0.5264582\\\\\n",
       "\t Connecticut & 0.5180139\\\\\n",
       "\t Delaware    & 0.4445916\\\\\n",
       "\\end{tabular}\n"
      ],
      "text/markdown": [
       "\n",
       "A tibble: 6 × 2\n",
       "\n",
       "| state &lt;chr&gt; | mean_gen_prop &lt;dbl&gt; |\n",
       "|---|---|\n",
       "| Alaska      | 0.4671111 |\n",
       "| Arkansas    | 0.4528645 |\n",
       "| California  | 0.4902361 |\n",
       "| Colorado    | 0.5264582 |\n",
       "| Connecticut | 0.5180139 |\n",
       "| Delaware    | 0.4445916 |\n",
       "\n"
      ],
      "text/plain": [
       "  state       mean_gen_prop\n",
       "1 Alaska      0.4671111    \n",
       "2 Arkansas    0.4528645    \n",
       "3 California  0.4902361    \n",
       "4 Colorado    0.5264582    \n",
       "5 Connecticut 0.5180139    \n",
       "6 Delaware    0.4445916    "
      ]
     },
     "metadata": {},
     "output_type": "display_data"
    },
    {
     "name": "stderr",
     "output_type": "stream",
     "text": [
      "`summarise()` ungrouping output (override with `.groups` argument)\n",
      "\n"
     ]
    },
    {
     "data": {
      "text/html": [
       "<table>\n",
       "<caption>A tibble: 6 × 2</caption>\n",
       "<thead>\n",
       "\t<tr><th scope=col>state</th><th scope=col>mean_gen_prop</th></tr>\n",
       "\t<tr><th scope=col>&lt;chr&gt;</th><th scope=col>&lt;dbl&gt;</th></tr>\n",
       "</thead>\n",
       "<tbody>\n",
       "\t<tr><td>Alaska     </td><td>0.3447284</td></tr>\n",
       "\t<tr><td>Arkansas   </td><td>0.3560999</td></tr>\n",
       "\t<tr><td>California </td><td>0.5698057</td></tr>\n",
       "\t<tr><td>Colorado   </td><td>0.5197604</td></tr>\n",
       "\t<tr><td>Connecticut</td><td>0.5266908</td></tr>\n",
       "\t<tr><td>Delaware   </td><td>0.4456568</td></tr>\n",
       "</tbody>\n",
       "</table>\n"
      ],
      "text/latex": [
       "A tibble: 6 × 2\n",
       "\\begin{tabular}{ll}\n",
       " state & mean\\_gen\\_prop\\\\\n",
       " <chr> & <dbl>\\\\\n",
       "\\hline\n",
       "\t Alaska      & 0.3447284\\\\\n",
       "\t Arkansas    & 0.3560999\\\\\n",
       "\t California  & 0.5698057\\\\\n",
       "\t Colorado    & 0.5197604\\\\\n",
       "\t Connecticut & 0.5266908\\\\\n",
       "\t Delaware    & 0.4456568\\\\\n",
       "\\end{tabular}\n"
      ],
      "text/markdown": [
       "\n",
       "A tibble: 6 × 2\n",
       "\n",
       "| state &lt;chr&gt; | mean_gen_prop &lt;dbl&gt; |\n",
       "|---|---|\n",
       "| Alaska      | 0.3447284 |\n",
       "| Arkansas    | 0.3560999 |\n",
       "| California  | 0.5698057 |\n",
       "| Colorado    | 0.5197604 |\n",
       "| Connecticut | 0.5266908 |\n",
       "| Delaware    | 0.4456568 |\n",
       "\n"
      ],
      "text/plain": [
       "  state       mean_gen_prop\n",
       "1 Alaska      0.3447284    \n",
       "2 Arkansas    0.3560999    \n",
       "3 California  0.5698057    \n",
       "4 Colorado    0.5197604    \n",
       "5 Connecticut 0.5266908    \n",
       "6 Delaware    0.4456568    "
      ]
     },
     "metadata": {},
     "output_type": "display_data"
    },
    {
     "name": "stderr",
     "output_type": "stream",
     "text": [
      "`summarise()` ungrouping output (override with `.groups` argument)\n",
      "\n"
     ]
    },
    {
     "data": {
      "text/html": [
       "<table>\n",
       "<caption>A tibble: 6 × 2</caption>\n",
       "<thead>\n",
       "\t<tr><th scope=col>state</th><th scope=col>mean_gen_prop</th></tr>\n",
       "\t<tr><th scope=col>&lt;chr&gt;</th><th scope=col>&lt;dbl&gt;</th></tr>\n",
       "</thead>\n",
       "<tbody>\n",
       "\t<tr><td>Alaska     </td><td>0.5612517</td></tr>\n",
       "\t<tr><td>Arkansas   </td><td>0.5818840</td></tr>\n",
       "\t<tr><td>California </td><td>0.3672649</td></tr>\n",
       "\t<tr><td>Colorado   </td><td>0.5355200</td></tr>\n",
       "\t<tr><td>Connecticut</td><td>0.5036783</td></tr>\n",
       "\t<tr><td>Delaware   </td><td>0.4427276</td></tr>\n",
       "</tbody>\n",
       "</table>\n"
      ],
      "text/latex": [
       "A tibble: 6 × 2\n",
       "\\begin{tabular}{ll}\n",
       " state & mean\\_gen\\_prop\\\\\n",
       " <chr> & <dbl>\\\\\n",
       "\\hline\n",
       "\t Alaska      & 0.5612517\\\\\n",
       "\t Arkansas    & 0.5818840\\\\\n",
       "\t California  & 0.3672649\\\\\n",
       "\t Colorado    & 0.5355200\\\\\n",
       "\t Connecticut & 0.5036783\\\\\n",
       "\t Delaware    & 0.4427276\\\\\n",
       "\\end{tabular}\n"
      ],
      "text/markdown": [
       "\n",
       "A tibble: 6 × 2\n",
       "\n",
       "| state &lt;chr&gt; | mean_gen_prop &lt;dbl&gt; |\n",
       "|---|---|\n",
       "| Alaska      | 0.5612517 |\n",
       "| Arkansas    | 0.5818840 |\n",
       "| California  | 0.3672649 |\n",
       "| Colorado    | 0.5355200 |\n",
       "| Connecticut | 0.5036783 |\n",
       "| Delaware    | 0.4427276 |\n",
       "\n"
      ],
      "text/plain": [
       "  state       mean_gen_prop\n",
       "1 Alaska      0.5612517    \n",
       "2 Arkansas    0.5818840    \n",
       "3 California  0.3672649    \n",
       "4 Colorado    0.5355200    \n",
       "5 Connecticut 0.5036783    \n",
       "6 Delaware    0.4427276    "
      ]
     },
     "metadata": {},
     "output_type": "display_data"
    }
   ],
   "source": [
    "elections_2018_long%>% \n",
    "    filter(gender %in% c(\"female\"), vote_prop !=1)%>%\n",
    "    group_by(state)  %>%\n",
    "summarise (mean_gen_prop= mean (vote_prop)) %>% head()\n",
    "\n",
    "elections_2018_long%>% \n",
    "    filter(candidate_party == \"Democrat\", gender %in% c(\"female\"), vote_prop !=1)%>%\n",
    "    group_by(state)  %>%\n",
    "summarise (mean_gen_prop= mean (vote_prop)) %>% head()\n",
    "\n",
    "elections_2018_long%>% \n",
    "    filter(candidate_party == \"Republican\", gender %in% c(\"female\"), vote_prop !=1)%>%\n",
    "    group_by(state)  %>%\n",
    "summarise (mean_gen_prop= mean (vote_prop)) %>% head()\n",
    "\n",
    "\n",
    "#average voting props for women candidates grouped by state\n",
    "elections_2016_long%>% \n",
    "    filter(gender %in% c(\"female\"), vote_prop !=1)%>%\n",
    "    group_by(state)  %>%\n",
    "summarise (mean_gen_prop= mean (vote_prop)) %>% head()\n",
    "\n",
    "elections_2016_long%>% \n",
    "    filter(candidate_party == \"Democrat\", gender %in% c(\"female\"), vote_prop !=1)%>%\n",
    "    group_by(state)  %>%\n",
    "summarise (mean_gen_prop= mean (vote_prop)) %>% head()\n",
    "\n",
    "elections_2016_long%>% \n",
    "    filter(candidate_party == \"Republican\", gender %in% c(\"female\"), vote_prop !=1)%>%\n",
    "    group_by(state)  %>%\n",
    "summarise (mean_gen_prop= mean (vote_prop)) %>% head()\n",
    "\n",
    "#was hoping to find differences in vote prop for women candidates by state between 2016 and 2018, splitting into parties as well\n",
    "#is there a way to join between corresponding 2016 and 2018 summaries, then subtracting out?"
   ]
  },
  {
   "cell_type": "code",
   "execution_count": 15,
   "metadata": {},
   "outputs": [
    {
     "name": "stderr",
     "output_type": "stream",
     "text": [
      "`summarise()` ungrouping output (override with `.groups` argument)\n",
      "\n"
     ]
    },
    {
     "data": {
      "text/html": [
       "<table>\n",
       "<caption>A tibble: 6 × 2</caption>\n",
       "<thead>\n",
       "\t<tr><th scope=col>district</th><th scope=col>mean_gen_prop</th></tr>\n",
       "\t<tr><th scope=col>&lt;chr&gt;</th><th scope=col>&lt;dbl&gt;</th></tr>\n",
       "</thead>\n",
       "<tbody>\n",
       "\t<tr><td>Addison-1      </td><td>0.6559154</td></tr>\n",
       "\t<tr><td>Addison-2      </td><td>0.7564767</td></tr>\n",
       "\t<tr><td>Addison-3      </td><td>0.6562926</td></tr>\n",
       "\t<tr><td>Addison-4      </td><td>0.7061595</td></tr>\n",
       "\t<tr><td>Addison-5      </td><td>0.6430793</td></tr>\n",
       "\t<tr><td>Addison-Rutland</td><td>0.4981745</td></tr>\n",
       "</tbody>\n",
       "</table>\n"
      ],
      "text/latex": [
       "A tibble: 6 × 2\n",
       "\\begin{tabular}{ll}\n",
       " district & mean\\_gen\\_prop\\\\\n",
       " <chr> & <dbl>\\\\\n",
       "\\hline\n",
       "\t Addison-1       & 0.6559154\\\\\n",
       "\t Addison-2       & 0.7564767\\\\\n",
       "\t Addison-3       & 0.6562926\\\\\n",
       "\t Addison-4       & 0.7061595\\\\\n",
       "\t Addison-5       & 0.6430793\\\\\n",
       "\t Addison-Rutland & 0.4981745\\\\\n",
       "\\end{tabular}\n"
      ],
      "text/markdown": [
       "\n",
       "A tibble: 6 × 2\n",
       "\n",
       "| district &lt;chr&gt; | mean_gen_prop &lt;dbl&gt; |\n",
       "|---|---|\n",
       "| Addison-1       | 0.6559154 |\n",
       "| Addison-2       | 0.7564767 |\n",
       "| Addison-3       | 0.6562926 |\n",
       "| Addison-4       | 0.7061595 |\n",
       "| Addison-5       | 0.6430793 |\n",
       "| Addison-Rutland | 0.4981745 |\n",
       "\n"
      ],
      "text/plain": [
       "  district        mean_gen_prop\n",
       "1 Addison-1       0.6559154    \n",
       "2 Addison-2       0.7564767    \n",
       "3 Addison-3       0.6562926    \n",
       "4 Addison-4       0.7061595    \n",
       "5 Addison-5       0.6430793    \n",
       "6 Addison-Rutland 0.4981745    "
      ]
     },
     "metadata": {},
     "output_type": "display_data"
    }
   ],
   "source": [
    "elections_2018_long%>% \n",
    "    filter(gender %in% c(\"female\"), vote_prop !=1)%>%\n",
    "    group_by(district)  %>%\n",
    "    summarise (mean_gen_prop= mean (vote_prop)) %>% head()\n",
    "\n",
    "#idea was to use process above (if someone finds it), and use at district level as well\n",
    "#does this make sense at this level as something to find?\n"
   ]
  },
  {
   "cell_type": "code",
   "execution_count": 16,
   "metadata": {},
   "outputs": [
    {
     "data": {
      "text/html": [
       "<table>\n",
       "<caption>A tibble: 19 × 5</caption>\n",
       "<thead>\n",
       "\t<tr><th scope=col>term</th><th scope=col>estimate</th><th scope=col>std.error</th><th scope=col>statistic</th><th scope=col>p.value</th></tr>\n",
       "\t<tr><th scope=col>&lt;chr&gt;</th><th scope=col>&lt;dbl&gt;</th><th scope=col>&lt;dbl&gt;</th><th scope=col>&lt;dbl&gt;</th><th scope=col>&lt;dbl&gt;</th></tr>\n",
       "</thead>\n",
       "<tbody>\n",
       "\t<tr><td>(Intercept)                                                       </td><td> 0.600641197</td><td>0.022608242</td><td>26.56735544</td><td>6.878755e-110</td></tr>\n",
       "\t<tr><td>candidate_partyRepublican                                         </td><td> 0.002900924</td><td>0.006595834</td><td> 0.43981151</td><td> 6.602014e-01</td></tr>\n",
       "\t<tr><td>regionNortheast                                                   </td><td>-0.049919476</td><td>0.008120812</td><td>-6.14710370</td><td> 1.286307e-09</td></tr>\n",
       "\t<tr><td>regionSouth                                                       </td><td>-0.011110171</td><td>0.009015635</td><td>-1.23232264</td><td> 2.182179e-01</td></tr>\n",
       "\t<tr><td>regionWest                                                        </td><td> 0.014302974</td><td>0.009236541</td><td> 1.54852061</td><td> 1.219222e-01</td></tr>\n",
       "\t<tr><td>race_ethnicityBlack/African American                              </td><td> 0.002075542</td><td>0.027092036</td><td> 0.07661077</td><td> 9.389538e-01</td></tr>\n",
       "\t<tr><td>race_ethnicityHispanic/Latina                                     </td><td>-0.014611615</td><td>0.026378237</td><td>-0.55392690</td><td> 5.797953e-01</td></tr>\n",
       "\t<tr><td>race_ethnicityMiddle Eastern/North African                        </td><td>-0.023173412</td><td>0.061826339</td><td>-0.37481456</td><td> 7.079052e-01</td></tr>\n",
       "\t<tr><td>race_ethnicityMultiracial                                         </td><td> 0.140468016</td><td>0.084555861</td><td> 1.66124518</td><td> 9.708551e-02</td></tr>\n",
       "\t<tr><td>race_ethnicityMultiracial, Hispanic/Latina, Asian/Pacific Islander</td><td> 0.055211416</td><td>0.084446709</td><td> 0.65380186</td><td> 5.134415e-01</td></tr>\n",
       "\t<tr><td>race_ethnicityMultiracial, White/Caucasian, Asian/Pacific Islander</td><td> 0.087289325</td><td>0.061826339</td><td> 1.41184690</td><td> 1.584131e-01</td></tr>\n",
       "\t<tr><td>race_ethnicityMultiracial, White/Caucasian, Black/African American</td><td>-0.056676307</td><td>0.084446709</td><td>-0.67114879</td><td> 5.023341e-01</td></tr>\n",
       "\t<tr><td>race_ethnicityMultiracial, White/Caucasian, Hispanic/Latina       </td><td> 0.015164092</td><td>0.061764520</td><td> 0.24551462</td><td> 8.061257e-01</td></tr>\n",
       "\t<tr><td>race_ethnicityMultiracial, White/Caucasian, Native American       </td><td>-0.046737390</td><td>0.051943619</td><td>-0.89977155</td><td> 3.685330e-01</td></tr>\n",
       "\t<tr><td>race_ethnicityNative American                                     </td><td>-0.076226945</td><td>0.037774358</td><td>-2.01795473</td><td> 4.395445e-02</td></tr>\n",
       "\t<tr><td>race_ethnicityOther                                               </td><td> 0.074266916</td><td>0.084446709</td><td> 0.87945305</td><td> 3.794396e-01</td></tr>\n",
       "\t<tr><td>race_ethnicityUnavailable                                         </td><td>-0.059997972</td><td>0.061890331</td><td>-0.96942399</td><td> 3.326487e-01</td></tr>\n",
       "\t<tr><td>race_ethnicityWhite                                               </td><td>-0.021759853</td><td>0.022370863</td><td>-0.97268725</td><td> 3.310249e-01</td></tr>\n",
       "\t<tr><td>gendermale                                                        </td><td> 0.023701313</td><td>0.024066146</td><td> 0.98484042</td><td> 3.250226e-01</td></tr>\n",
       "</tbody>\n",
       "</table>\n"
      ],
      "text/latex": [
       "A tibble: 19 × 5\n",
       "\\begin{tabular}{lllll}\n",
       " term & estimate & std.error & statistic & p.value\\\\\n",
       " <chr> & <dbl> & <dbl> & <dbl> & <dbl>\\\\\n",
       "\\hline\n",
       "\t (Intercept)                                                        &  0.600641197 & 0.022608242 & 26.56735544 & 6.878755e-110\\\\\n",
       "\t candidate\\_partyRepublican                                          &  0.002900924 & 0.006595834 &  0.43981151 &  6.602014e-01\\\\\n",
       "\t regionNortheast                                                    & -0.049919476 & 0.008120812 & -6.14710370 &  1.286307e-09\\\\\n",
       "\t regionSouth                                                        & -0.011110171 & 0.009015635 & -1.23232264 &  2.182179e-01\\\\\n",
       "\t regionWest                                                         &  0.014302974 & 0.009236541 &  1.54852061 &  1.219222e-01\\\\\n",
       "\t race\\_ethnicityBlack/African American                               &  0.002075542 & 0.027092036 &  0.07661077 &  9.389538e-01\\\\\n",
       "\t race\\_ethnicityHispanic/Latina                                      & -0.014611615 & 0.026378237 & -0.55392690 &  5.797953e-01\\\\\n",
       "\t race\\_ethnicityMiddle Eastern/North African                         & -0.023173412 & 0.061826339 & -0.37481456 &  7.079052e-01\\\\\n",
       "\t race\\_ethnicityMultiracial                                          &  0.140468016 & 0.084555861 &  1.66124518 &  9.708551e-02\\\\\n",
       "\t race\\_ethnicityMultiracial, Hispanic/Latina, Asian/Pacific Islander &  0.055211416 & 0.084446709 &  0.65380186 &  5.134415e-01\\\\\n",
       "\t race\\_ethnicityMultiracial, White/Caucasian, Asian/Pacific Islander &  0.087289325 & 0.061826339 &  1.41184690 &  1.584131e-01\\\\\n",
       "\t race\\_ethnicityMultiracial, White/Caucasian, Black/African American & -0.056676307 & 0.084446709 & -0.67114879 &  5.023341e-01\\\\\n",
       "\t race\\_ethnicityMultiracial, White/Caucasian, Hispanic/Latina        &  0.015164092 & 0.061764520 &  0.24551462 &  8.061257e-01\\\\\n",
       "\t race\\_ethnicityMultiracial, White/Caucasian, Native American        & -0.046737390 & 0.051943619 & -0.89977155 &  3.685330e-01\\\\\n",
       "\t race\\_ethnicityNative American                                      & -0.076226945 & 0.037774358 & -2.01795473 &  4.395445e-02\\\\\n",
       "\t race\\_ethnicityOther                                                &  0.074266916 & 0.084446709 &  0.87945305 &  3.794396e-01\\\\\n",
       "\t race\\_ethnicityUnavailable                                          & -0.059997972 & 0.061890331 & -0.96942399 &  3.326487e-01\\\\\n",
       "\t race\\_ethnicityWhite                                                & -0.021759853 & 0.022370863 & -0.97268725 &  3.310249e-01\\\\\n",
       "\t gendermale                                                         &  0.023701313 & 0.024066146 &  0.98484042 &  3.250226e-01\\\\\n",
       "\\end{tabular}\n"
      ],
      "text/markdown": [
       "\n",
       "A tibble: 19 × 5\n",
       "\n",
       "| term &lt;chr&gt; | estimate &lt;dbl&gt; | std.error &lt;dbl&gt; | statistic &lt;dbl&gt; | p.value &lt;dbl&gt; |\n",
       "|---|---|---|---|---|\n",
       "| (Intercept)                                                        |  0.600641197 | 0.022608242 | 26.56735544 | 6.878755e-110 |\n",
       "| candidate_partyRepublican                                          |  0.002900924 | 0.006595834 |  0.43981151 |  6.602014e-01 |\n",
       "| regionNortheast                                                    | -0.049919476 | 0.008120812 | -6.14710370 |  1.286307e-09 |\n",
       "| regionSouth                                                        | -0.011110171 | 0.009015635 | -1.23232264 |  2.182179e-01 |\n",
       "| regionWest                                                         |  0.014302974 | 0.009236541 |  1.54852061 |  1.219222e-01 |\n",
       "| race_ethnicityBlack/African American                               |  0.002075542 | 0.027092036 |  0.07661077 |  9.389538e-01 |\n",
       "| race_ethnicityHispanic/Latina                                      | -0.014611615 | 0.026378237 | -0.55392690 |  5.797953e-01 |\n",
       "| race_ethnicityMiddle Eastern/North African                         | -0.023173412 | 0.061826339 | -0.37481456 |  7.079052e-01 |\n",
       "| race_ethnicityMultiracial                                          |  0.140468016 | 0.084555861 |  1.66124518 |  9.708551e-02 |\n",
       "| race_ethnicityMultiracial, Hispanic/Latina, Asian/Pacific Islander |  0.055211416 | 0.084446709 |  0.65380186 |  5.134415e-01 |\n",
       "| race_ethnicityMultiracial, White/Caucasian, Asian/Pacific Islander |  0.087289325 | 0.061826339 |  1.41184690 |  1.584131e-01 |\n",
       "| race_ethnicityMultiracial, White/Caucasian, Black/African American | -0.056676307 | 0.084446709 | -0.67114879 |  5.023341e-01 |\n",
       "| race_ethnicityMultiracial, White/Caucasian, Hispanic/Latina        |  0.015164092 | 0.061764520 |  0.24551462 |  8.061257e-01 |\n",
       "| race_ethnicityMultiracial, White/Caucasian, Native American        | -0.046737390 | 0.051943619 | -0.89977155 |  3.685330e-01 |\n",
       "| race_ethnicityNative American                                      | -0.076226945 | 0.037774358 | -2.01795473 |  4.395445e-02 |\n",
       "| race_ethnicityOther                                                |  0.074266916 | 0.084446709 |  0.87945305 |  3.794396e-01 |\n",
       "| race_ethnicityUnavailable                                          | -0.059997972 | 0.061890331 | -0.96942399 |  3.326487e-01 |\n",
       "| race_ethnicityWhite                                                | -0.021759853 | 0.022370863 | -0.97268725 |  3.310249e-01 |\n",
       "| gendermale                                                         |  0.023701313 | 0.024066146 |  0.98484042 |  3.250226e-01 |\n",
       "\n"
      ],
      "text/plain": [
       "   term                                                              \n",
       "1  (Intercept)                                                       \n",
       "2  candidate_partyRepublican                                         \n",
       "3  regionNortheast                                                   \n",
       "4  regionSouth                                                       \n",
       "5  regionWest                                                        \n",
       "6  race_ethnicityBlack/African American                              \n",
       "7  race_ethnicityHispanic/Latina                                     \n",
       "8  race_ethnicityMiddle Eastern/North African                        \n",
       "9  race_ethnicityMultiracial                                         \n",
       "10 race_ethnicityMultiracial, Hispanic/Latina, Asian/Pacific Islander\n",
       "11 race_ethnicityMultiracial, White/Caucasian, Asian/Pacific Islander\n",
       "12 race_ethnicityMultiracial, White/Caucasian, Black/African American\n",
       "13 race_ethnicityMultiracial, White/Caucasian, Hispanic/Latina       \n",
       "14 race_ethnicityMultiracial, White/Caucasian, Native American       \n",
       "15 race_ethnicityNative American                                     \n",
       "16 race_ethnicityOther                                               \n",
       "17 race_ethnicityUnavailable                                         \n",
       "18 race_ethnicityWhite                                               \n",
       "19 gendermale                                                        \n",
       "   estimate     std.error   statistic   p.value      \n",
       "1   0.600641197 0.022608242 26.56735544 6.878755e-110\n",
       "2   0.002900924 0.006595834  0.43981151  6.602014e-01\n",
       "3  -0.049919476 0.008120812 -6.14710370  1.286307e-09\n",
       "4  -0.011110171 0.009015635 -1.23232264  2.182179e-01\n",
       "5   0.014302974 0.009236541  1.54852061  1.219222e-01\n",
       "6   0.002075542 0.027092036  0.07661077  9.389538e-01\n",
       "7  -0.014611615 0.026378237 -0.55392690  5.797953e-01\n",
       "8  -0.023173412 0.061826339 -0.37481456  7.079052e-01\n",
       "9   0.140468016 0.084555861  1.66124518  9.708551e-02\n",
       "10  0.055211416 0.084446709  0.65380186  5.134415e-01\n",
       "11  0.087289325 0.061826339  1.41184690  1.584131e-01\n",
       "12 -0.056676307 0.084446709 -0.67114879  5.023341e-01\n",
       "13  0.015164092 0.061764520  0.24551462  8.061257e-01\n",
       "14 -0.046737390 0.051943619 -0.89977155  3.685330e-01\n",
       "15 -0.076226945 0.037774358 -2.01795473  4.395445e-02\n",
       "16  0.074266916 0.084446709  0.87945305  3.794396e-01\n",
       "17 -0.059997972 0.061890331 -0.96942399  3.326487e-01\n",
       "18 -0.021759853 0.022370863 -0.97268725  3.310249e-01\n",
       "19  0.023701313 0.024066146  0.98484042  3.250226e-01"
      ]
     },
     "metadata": {},
     "output_type": "display_data"
    }
   ],
   "source": [
    "reg1 <- elections_2018_long  %>% \n",
    "    filter (gender %in% c(\"male\", \"female\"), vote_prop <0.75, race_ethnicity != \"Missing\") %>%\n",
    "    lm (vote_prop~ candidate_party+region+ race_ethnicity + gender, data = .)\n",
    "tidy (reg1)\n",
    "#regression looking at effect of gender on voting share in 2018\n",
    "\n"
   ]
  },
  {
   "cell_type": "code",
   "execution_count": 17,
   "metadata": {},
   "outputs": [
    {
     "data": {
      "text/html": [
       "<table>\n",
       "<caption>A tibble: 6 × 5</caption>\n",
       "<thead>\n",
       "\t<tr><th scope=col>term</th><th scope=col>estimate</th><th scope=col>std.error</th><th scope=col>statistic</th><th scope=col>p.value</th></tr>\n",
       "\t<tr><th scope=col>&lt;chr&gt;</th><th scope=col>&lt;dbl&gt;</th><th scope=col>&lt;dbl&gt;</th><th scope=col>&lt;dbl&gt;</th><th scope=col>&lt;dbl&gt;</th></tr>\n",
       "</thead>\n",
       "<tbody>\n",
       "\t<tr><td>(Intercept)              </td><td>0.467735871</td><td>0.006097219</td><td>76.7129858</td><td>0.000000e+00</td></tr>\n",
       "\t<tr><td>candidate_partyRepublican</td><td>0.072333220</td><td>0.005123162</td><td>14.1188636</td><td>2.901125e-44</td></tr>\n",
       "\t<tr><td>regionNortheast          </td><td>0.007193868</td><td>0.007235767</td><td> 0.9942094</td><td>3.201778e-01</td></tr>\n",
       "\t<tr><td>regionSouth              </td><td>0.009850056</td><td>0.006935316</td><td> 1.4202751</td><td>1.556013e-01</td></tr>\n",
       "\t<tr><td>regionWest               </td><td>0.001685525</td><td>0.006670586</td><td> 0.2526802</td><td>8.005276e-01</td></tr>\n",
       "\t<tr><td>gendermale               </td><td>0.000898352</td><td>0.005546490</td><td> 0.1619676</td><td>8.713391e-01</td></tr>\n",
       "</tbody>\n",
       "</table>\n"
      ],
      "text/latex": [
       "A tibble: 6 × 5\n",
       "\\begin{tabular}{lllll}\n",
       " term & estimate & std.error & statistic & p.value\\\\\n",
       " <chr> & <dbl> & <dbl> & <dbl> & <dbl>\\\\\n",
       "\\hline\n",
       "\t (Intercept)               & 0.467735871 & 0.006097219 & 76.7129858 & 0.000000e+00\\\\\n",
       "\t candidate\\_partyRepublican & 0.072333220 & 0.005123162 & 14.1188636 & 2.901125e-44\\\\\n",
       "\t regionNortheast           & 0.007193868 & 0.007235767 &  0.9942094 & 3.201778e-01\\\\\n",
       "\t regionSouth               & 0.009850056 & 0.006935316 &  1.4202751 & 1.556013e-01\\\\\n",
       "\t regionWest                & 0.001685525 & 0.006670586 &  0.2526802 & 8.005276e-01\\\\\n",
       "\t gendermale                & 0.000898352 & 0.005546490 &  0.1619676 & 8.713391e-01\\\\\n",
       "\\end{tabular}\n"
      ],
      "text/markdown": [
       "\n",
       "A tibble: 6 × 5\n",
       "\n",
       "| term &lt;chr&gt; | estimate &lt;dbl&gt; | std.error &lt;dbl&gt; | statistic &lt;dbl&gt; | p.value &lt;dbl&gt; |\n",
       "|---|---|---|---|---|\n",
       "| (Intercept)               | 0.467735871 | 0.006097219 | 76.7129858 | 0.000000e+00 |\n",
       "| candidate_partyRepublican | 0.072333220 | 0.005123162 | 14.1188636 | 2.901125e-44 |\n",
       "| regionNortheast           | 0.007193868 | 0.007235767 |  0.9942094 | 3.201778e-01 |\n",
       "| regionSouth               | 0.009850056 | 0.006935316 |  1.4202751 | 1.556013e-01 |\n",
       "| regionWest                | 0.001685525 | 0.006670586 |  0.2526802 | 8.005276e-01 |\n",
       "| gendermale                | 0.000898352 | 0.005546490 |  0.1619676 | 8.713391e-01 |\n",
       "\n"
      ],
      "text/plain": [
       "  term                      estimate    std.error   statistic  p.value     \n",
       "1 (Intercept)               0.467735871 0.006097219 76.7129858 0.000000e+00\n",
       "2 candidate_partyRepublican 0.072333220 0.005123162 14.1188636 2.901125e-44\n",
       "3 regionNortheast           0.007193868 0.007235767  0.9942094 3.201778e-01\n",
       "4 regionSouth               0.009850056 0.006935316  1.4202751 1.556013e-01\n",
       "5 regionWest                0.001685525 0.006670586  0.2526802 8.005276e-01\n",
       "6 gendermale                0.000898352 0.005546490  0.1619676 8.713391e-01"
      ]
     },
     "metadata": {},
     "output_type": "display_data"
    }
   ],
   "source": [
    "reg <- lm (vote_prop~ candidate_party+region+ gender,elections_2016_long  %>% filter (gender %in% c(\"male\", \"female\"), vote_prop !=1))\n",
    "tidy (reg)\n",
    "\n",
    "#regression for 2016"
   ]
  },
  {
   "cell_type": "code",
   "execution_count": 18,
   "metadata": {},
   "outputs": [
    {
     "data": {
      "text/html": [
       "<table>\n",
       "<caption>A tibble: 7 × 5</caption>\n",
       "<thead>\n",
       "\t<tr><th scope=col>term</th><th scope=col>estimate</th><th scope=col>std.error</th><th scope=col>statistic</th><th scope=col>p.value</th></tr>\n",
       "\t<tr><th scope=col>&lt;chr&gt;</th><th scope=col>&lt;dbl&gt;</th><th scope=col>&lt;dbl&gt;</th><th scope=col>&lt;dbl&gt;</th><th scope=col>&lt;dbl&gt;</th></tr>\n",
       "</thead>\n",
       "<tbody>\n",
       "\t<tr><td>(Intercept)              </td><td> 0.403227623</td><td>0.004814776</td><td>83.7479547</td><td>0.000000e+00</td></tr>\n",
       "\t<tr><td>candidate_partyRepublican</td><td> 0.033539638</td><td>0.003985869</td><td> 8.4146353</td><td>5.327656e-17</td></tr>\n",
       "\t<tr><td>regionNortheast          </td><td>-0.002316621</td><td>0.005542259</td><td>-0.4179922</td><td>6.759740e-01</td></tr>\n",
       "\t<tr><td>regionSouth              </td><td> 0.007168139</td><td>0.005309735</td><td> 1.3499994</td><td>1.770884e-01</td></tr>\n",
       "\t<tr><td>regionWest               </td><td> 0.001452600</td><td>0.005106839</td><td> 0.2844422</td><td>7.760855e-01</td></tr>\n",
       "\t<tr><td>incumbentTrue            </td><td> 0.218678582</td><td>0.004000904</td><td>54.6572910</td><td>0.000000e+00</td></tr>\n",
       "\t<tr><td>gendermale               </td><td>-0.003760226</td><td>0.004247113</td><td>-0.8853605</td><td>3.760126e-01</td></tr>\n",
       "</tbody>\n",
       "</table>\n"
      ],
      "text/latex": [
       "A tibble: 7 × 5\n",
       "\\begin{tabular}{lllll}\n",
       " term & estimate & std.error & statistic & p.value\\\\\n",
       " <chr> & <dbl> & <dbl> & <dbl> & <dbl>\\\\\n",
       "\\hline\n",
       "\t (Intercept)               &  0.403227623 & 0.004814776 & 83.7479547 & 0.000000e+00\\\\\n",
       "\t candidate\\_partyRepublican &  0.033539638 & 0.003985869 &  8.4146353 & 5.327656e-17\\\\\n",
       "\t regionNortheast           & -0.002316621 & 0.005542259 & -0.4179922 & 6.759740e-01\\\\\n",
       "\t regionSouth               &  0.007168139 & 0.005309735 &  1.3499994 & 1.770884e-01\\\\\n",
       "\t regionWest                &  0.001452600 & 0.005106839 &  0.2844422 & 7.760855e-01\\\\\n",
       "\t incumbentTrue             &  0.218678582 & 0.004000904 & 54.6572910 & 0.000000e+00\\\\\n",
       "\t gendermale                & -0.003760226 & 0.004247113 & -0.8853605 & 3.760126e-01\\\\\n",
       "\\end{tabular}\n"
      ],
      "text/markdown": [
       "\n",
       "A tibble: 7 × 5\n",
       "\n",
       "| term &lt;chr&gt; | estimate &lt;dbl&gt; | std.error &lt;dbl&gt; | statistic &lt;dbl&gt; | p.value &lt;dbl&gt; |\n",
       "|---|---|---|---|---|\n",
       "| (Intercept)               |  0.403227623 | 0.004814776 | 83.7479547 | 0.000000e+00 |\n",
       "| candidate_partyRepublican |  0.033539638 | 0.003985869 |  8.4146353 | 5.327656e-17 |\n",
       "| regionNortheast           | -0.002316621 | 0.005542259 | -0.4179922 | 6.759740e-01 |\n",
       "| regionSouth               |  0.007168139 | 0.005309735 |  1.3499994 | 1.770884e-01 |\n",
       "| regionWest                |  0.001452600 | 0.005106839 |  0.2844422 | 7.760855e-01 |\n",
       "| incumbentTrue             |  0.218678582 | 0.004000904 | 54.6572910 | 0.000000e+00 |\n",
       "| gendermale                | -0.003760226 | 0.004247113 | -0.8853605 | 3.760126e-01 |\n",
       "\n"
      ],
      "text/plain": [
       "  term                      estimate     std.error   statistic  p.value     \n",
       "1 (Intercept)                0.403227623 0.004814776 83.7479547 0.000000e+00\n",
       "2 candidate_partyRepublican  0.033539638 0.003985869  8.4146353 5.327656e-17\n",
       "3 regionNortheast           -0.002316621 0.005542259 -0.4179922 6.759740e-01\n",
       "4 regionSouth                0.007168139 0.005309735  1.3499994 1.770884e-01\n",
       "5 regionWest                 0.001452600 0.005106839  0.2844422 7.760855e-01\n",
       "6 incumbentTrue              0.218678582 0.004000904 54.6572910 0.000000e+00\n",
       "7 gendermale                -0.003760226 0.004247113 -0.8853605 3.760126e-01"
      ]
     },
     "metadata": {},
     "output_type": "display_data"
    }
   ],
   "source": [
    "reg <- lm (vote_prop~ candidate_party+region+ incumbent+ gender,elections_2016_long  %>% filter (gender %in% c(\"male\", \"female\"), vote_prop !=1))\n",
    "library (broom)\n",
    "tidy (reg)\n",
    "\n",
    "#regression for 2016, with incumbent added"
   ]
  },
  {
   "cell_type": "code",
   "execution_count": 19,
   "metadata": {},
   "outputs": [
    {
     "data": {
      "text/html": [
       "<table>\n",
       "<caption>A tibble: 2 × 5</caption>\n",
       "<thead>\n",
       "\t<tr><th scope=col>term</th><th scope=col>estimate</th><th scope=col>std.error</th><th scope=col>statistic</th><th scope=col>p.value</th></tr>\n",
       "\t<tr><th scope=col>&lt;chr&gt;</th><th scope=col>&lt;dbl&gt;</th><th scope=col>&lt;dbl&gt;</th><th scope=col>&lt;dbl&gt;</th><th scope=col>&lt;dbl&gt;</th></tr>\n",
       "</thead>\n",
       "<tbody>\n",
       "\t<tr><td>(Intercept)</td><td>0.57231882</td><td>0.002438476</td><td>234.7035110</td><td>0.0000000</td></tr>\n",
       "\t<tr><td>gendermale </td><td>0.01604807</td><td>0.021492850</td><td>  0.7466701</td><td>0.4554042</td></tr>\n",
       "</tbody>\n",
       "</table>\n"
      ],
      "text/latex": [
       "A tibble: 2 × 5\n",
       "\\begin{tabular}{lllll}\n",
       " term & estimate & std.error & statistic & p.value\\\\\n",
       " <chr> & <dbl> & <dbl> & <dbl> & <dbl>\\\\\n",
       "\\hline\n",
       "\t (Intercept) & 0.57231882 & 0.002438476 & 234.7035110 & 0.0000000\\\\\n",
       "\t gendermale  & 0.01604807 & 0.021492850 &   0.7466701 & 0.4554042\\\\\n",
       "\\end{tabular}\n"
      ],
      "text/markdown": [
       "\n",
       "A tibble: 2 × 5\n",
       "\n",
       "| term &lt;chr&gt; | estimate &lt;dbl&gt; | std.error &lt;dbl&gt; | statistic &lt;dbl&gt; | p.value &lt;dbl&gt; |\n",
       "|---|---|---|---|---|\n",
       "| (Intercept) | 0.57231882 | 0.002438476 | 234.7035110 | 0.0000000 |\n",
       "| gendermale  | 0.01604807 | 0.021492850 |   0.7466701 | 0.4554042 |\n",
       "\n"
      ],
      "text/plain": [
       "  term        estimate   std.error   statistic   p.value  \n",
       "1 (Intercept) 0.57231882 0.002438476 234.7035110 0.0000000\n",
       "2 gendermale  0.01604807 0.021492850   0.7466701 0.4554042"
      ]
     },
     "metadata": {},
     "output_type": "display_data"
    },
    {
     "data": {
      "text/html": [
       "<table>\n",
       "<caption>A tibble: 9 × 5</caption>\n",
       "<thead>\n",
       "\t<tr><th scope=col>term</th><th scope=col>estimate</th><th scope=col>std.error</th><th scope=col>statistic</th><th scope=col>p.value</th></tr>\n",
       "\t<tr><th scope=col>&lt;chr&gt;</th><th scope=col>&lt;dbl&gt;</th><th scope=col>&lt;dbl&gt;</th><th scope=col>&lt;dbl&gt;</th><th scope=col>&lt;dbl&gt;</th></tr>\n",
       "</thead>\n",
       "<tbody>\n",
       "\t<tr><td>(Intercept)                  </td><td> 0.619076896</td><td>0.012860166</td><td>48.1391079</td><td>1.568908e-285</td></tr>\n",
       "\t<tr><td>gendermale                   </td><td> 0.009481791</td><td>0.020692123</td><td> 0.4582319</td><td> 6.468665e-01</td></tr>\n",
       "\t<tr><td>regionNortheast              </td><td>-0.032199192</td><td>0.006242074</td><td>-5.1584125</td><td> 2.899162e-07</td></tr>\n",
       "\t<tr><td>regionSouth                  </td><td>-0.009337740</td><td>0.006979840</td><td>-1.3378158</td><td> 1.812030e-01</td></tr>\n",
       "\t<tr><td>regionWest                   </td><td> 0.010602887</td><td>0.006735844</td><td> 1.5740992</td><td> 1.157208e-01</td></tr>\n",
       "\t<tr><td>candidate_partyRepublican    </td><td> 0.023463633</td><td>0.004973513</td><td> 4.7177183</td><td> 2.656939e-06</td></tr>\n",
       "\t<tr><td>race_ethnicityHispanic/Latina</td><td>-0.024831894</td><td>0.016617781</td><td>-1.4942967</td><td> 1.353537e-01</td></tr>\n",
       "\t<tr><td>race_ethnicityWhite          </td><td>-0.042376831</td><td>0.012462369</td><td>-3.4003833</td><td> 6.944236e-04</td></tr>\n",
       "\t<tr><td>as.factor(year)2018          </td><td>-0.013057427</td><td>0.004807414</td><td>-2.7161022</td><td> 6.697818e-03</td></tr>\n",
       "</tbody>\n",
       "</table>\n"
      ],
      "text/latex": [
       "A tibble: 9 × 5\n",
       "\\begin{tabular}{lllll}\n",
       " term & estimate & std.error & statistic & p.value\\\\\n",
       " <chr> & <dbl> & <dbl> & <dbl> & <dbl>\\\\\n",
       "\\hline\n",
       "\t (Intercept)                   &  0.619076896 & 0.012860166 & 48.1391079 & 1.568908e-285\\\\\n",
       "\t gendermale                    &  0.009481791 & 0.020692123 &  0.4582319 &  6.468665e-01\\\\\n",
       "\t regionNortheast               & -0.032199192 & 0.006242074 & -5.1584125 &  2.899162e-07\\\\\n",
       "\t regionSouth                   & -0.009337740 & 0.006979840 & -1.3378158 &  1.812030e-01\\\\\n",
       "\t regionWest                    &  0.010602887 & 0.006735844 &  1.5740992 &  1.157208e-01\\\\\n",
       "\t candidate\\_partyRepublican     &  0.023463633 & 0.004973513 &  4.7177183 &  2.656939e-06\\\\\n",
       "\t race\\_ethnicityHispanic/Latina & -0.024831894 & 0.016617781 & -1.4942967 &  1.353537e-01\\\\\n",
       "\t race\\_ethnicityWhite           & -0.042376831 & 0.012462369 & -3.4003833 &  6.944236e-04\\\\\n",
       "\t as.factor(year)2018           & -0.013057427 & 0.004807414 & -2.7161022 &  6.697818e-03\\\\\n",
       "\\end{tabular}\n"
      ],
      "text/markdown": [
       "\n",
       "A tibble: 9 × 5\n",
       "\n",
       "| term &lt;chr&gt; | estimate &lt;dbl&gt; | std.error &lt;dbl&gt; | statistic &lt;dbl&gt; | p.value &lt;dbl&gt; |\n",
       "|---|---|---|---|---|\n",
       "| (Intercept)                   |  0.619076896 | 0.012860166 | 48.1391079 | 1.568908e-285 |\n",
       "| gendermale                    |  0.009481791 | 0.020692123 |  0.4582319 |  6.468665e-01 |\n",
       "| regionNortheast               | -0.032199192 | 0.006242074 | -5.1584125 |  2.899162e-07 |\n",
       "| regionSouth                   | -0.009337740 | 0.006979840 | -1.3378158 |  1.812030e-01 |\n",
       "| regionWest                    |  0.010602887 | 0.006735844 |  1.5740992 |  1.157208e-01 |\n",
       "| candidate_partyRepublican     |  0.023463633 | 0.004973513 |  4.7177183 |  2.656939e-06 |\n",
       "| race_ethnicityHispanic/Latina | -0.024831894 | 0.016617781 | -1.4942967 |  1.353537e-01 |\n",
       "| race_ethnicityWhite           | -0.042376831 | 0.012462369 | -3.4003833 |  6.944236e-04 |\n",
       "| as.factor(year)2018           | -0.013057427 | 0.004807414 | -2.7161022 |  6.697818e-03 |\n",
       "\n"
      ],
      "text/plain": [
       "  term                          estimate     std.error   statistic \n",
       "1 (Intercept)                    0.619076896 0.012860166 48.1391079\n",
       "2 gendermale                     0.009481791 0.020692123  0.4582319\n",
       "3 regionNortheast               -0.032199192 0.006242074 -5.1584125\n",
       "4 regionSouth                   -0.009337740 0.006979840 -1.3378158\n",
       "5 regionWest                     0.010602887 0.006735844  1.5740992\n",
       "6 candidate_partyRepublican      0.023463633 0.004973513  4.7177183\n",
       "7 race_ethnicityHispanic/Latina -0.024831894 0.016617781 -1.4942967\n",
       "8 race_ethnicityWhite           -0.042376831 0.012462369 -3.4003833\n",
       "9 as.factor(year)2018           -0.013057427 0.004807414 -2.7161022\n",
       "  p.value      \n",
       "1 1.568908e-285\n",
       "2  6.468665e-01\n",
       "3  2.899162e-07\n",
       "4  1.812030e-01\n",
       "5  1.157208e-01\n",
       "6  2.656939e-06\n",
       "7  1.353537e-01\n",
       "8  6.944236e-04\n",
       "9  6.697818e-03"
      ]
     },
     "metadata": {},
     "output_type": "display_data"
    },
    {
     "data": {
      "text/html": [
       "<table>\n",
       "<caption>A tibble: 2 × 5</caption>\n",
       "<thead>\n",
       "\t<tr><th scope=col>term</th><th scope=col>estimate</th><th scope=col>std.error</th><th scope=col>statistic</th><th scope=col>p.value</th></tr>\n",
       "\t<tr><th scope=col>&lt;chr&gt;</th><th scope=col>&lt;dbl&gt;</th><th scope=col>&lt;dbl&gt;</th><th scope=col>&lt;dbl&gt;</th><th scope=col>&lt;dbl&gt;</th></tr>\n",
       "</thead>\n",
       "<tbody>\n",
       "\t<tr><td>(Intercept)</td><td>1.8831337</td><td>0.08433153</td><td>22.3301271</td><td>1.883908e-110</td></tr>\n",
       "\t<tr><td>gendermale </td><td>0.8249165</td><td>1.03622609</td><td> 0.7960777</td><td> 4.259869e-01</td></tr>\n",
       "</tbody>\n",
       "</table>\n"
      ],
      "text/latex": [
       "A tibble: 2 × 5\n",
       "\\begin{tabular}{lllll}\n",
       " term & estimate & std.error & statistic & p.value\\\\\n",
       " <chr> & <dbl> & <dbl> & <dbl> & <dbl>\\\\\n",
       "\\hline\n",
       "\t (Intercept) & 1.8831337 & 0.08433153 & 22.3301271 & 1.883908e-110\\\\\n",
       "\t gendermale  & 0.8249165 & 1.03622609 &  0.7960777 &  4.259869e-01\\\\\n",
       "\\end{tabular}\n"
      ],
      "text/markdown": [
       "\n",
       "A tibble: 2 × 5\n",
       "\n",
       "| term &lt;chr&gt; | estimate &lt;dbl&gt; | std.error &lt;dbl&gt; | statistic &lt;dbl&gt; | p.value &lt;dbl&gt; |\n",
       "|---|---|---|---|---|\n",
       "| (Intercept) | 1.8831337 | 0.08433153 | 22.3301271 | 1.883908e-110 |\n",
       "| gendermale  | 0.8249165 | 1.03622609 |  0.7960777 |  4.259869e-01 |\n",
       "\n"
      ],
      "text/plain": [
       "  term        estimate  std.error  statistic  p.value      \n",
       "1 (Intercept) 1.8831337 0.08433153 22.3301271 1.883908e-110\n",
       "2 gendermale  0.8249165 1.03622609  0.7960777  4.259869e-01"
      ]
     },
     "metadata": {},
     "output_type": "display_data"
    },
    {
     "data": {
      "text/html": [
       "<table>\n",
       "<caption>A tibble: 9 × 5</caption>\n",
       "<thead>\n",
       "\t<tr><th scope=col>term</th><th scope=col>estimate</th><th scope=col>std.error</th><th scope=col>statistic</th><th scope=col>p.value</th></tr>\n",
       "\t<tr><th scope=col>&lt;chr&gt;</th><th scope=col>&lt;dbl&gt;</th><th scope=col>&lt;dbl&gt;</th><th scope=col>&lt;dbl&gt;</th><th scope=col>&lt;dbl&gt;</th></tr>\n",
       "</thead>\n",
       "<tbody>\n",
       "\t<tr><td>(Intercept)                  </td><td> 2.01906268</td><td>0.4770847</td><td> 4.2320841</td><td>2.315358e-05</td></tr>\n",
       "\t<tr><td>gendermale                   </td><td> 0.81719162</td><td>1.0395543</td><td> 0.7860981</td><td>4.318100e-01</td></tr>\n",
       "\t<tr><td>regionNortheast              </td><td>-0.29509989</td><td>0.2181228</td><td>-1.3529069</td><td>1.760854e-01</td></tr>\n",
       "\t<tr><td>regionSouth                  </td><td>-0.20555851</td><td>0.2483729</td><td>-0.8276205</td><td>4.078855e-01</td></tr>\n",
       "\t<tr><td>regionWest                   </td><td> 0.48840041</td><td>0.2842922</td><td> 1.7179520</td><td>8.580536e-02</td></tr>\n",
       "\t<tr><td>candidate_partyRepublican    </td><td> 0.08996900</td><td>0.1807842</td><td> 0.4976596</td><td>6.187240e-01</td></tr>\n",
       "\t<tr><td>race_ethnicityHispanic/Latina</td><td> 1.74422133</td><td>1.1059123</td><td> 1.5771787</td><td>1.147544e-01</td></tr>\n",
       "\t<tr><td>race_ethnicityWhite          </td><td>-0.09045365</td><td>0.4607914</td><td>-0.1963007</td><td>8.443748e-01</td></tr>\n",
       "\t<tr><td>as.factor(year)2018          </td><td>-0.11040669</td><td>0.1777430</td><td>-0.6211591</td><td>5.344949e-01</td></tr>\n",
       "</tbody>\n",
       "</table>\n"
      ],
      "text/latex": [
       "A tibble: 9 × 5\n",
       "\\begin{tabular}{lllll}\n",
       " term & estimate & std.error & statistic & p.value\\\\\n",
       " <chr> & <dbl> & <dbl> & <dbl> & <dbl>\\\\\n",
       "\\hline\n",
       "\t (Intercept)                   &  2.01906268 & 0.4770847 &  4.2320841 & 2.315358e-05\\\\\n",
       "\t gendermale                    &  0.81719162 & 1.0395543 &  0.7860981 & 4.318100e-01\\\\\n",
       "\t regionNortheast               & -0.29509989 & 0.2181228 & -1.3529069 & 1.760854e-01\\\\\n",
       "\t regionSouth                   & -0.20555851 & 0.2483729 & -0.8276205 & 4.078855e-01\\\\\n",
       "\t regionWest                    &  0.48840041 & 0.2842922 &  1.7179520 & 8.580536e-02\\\\\n",
       "\t candidate\\_partyRepublican     &  0.08996900 & 0.1807842 &  0.4976596 & 6.187240e-01\\\\\n",
       "\t race\\_ethnicityHispanic/Latina &  1.74422133 & 1.1059123 &  1.5771787 & 1.147544e-01\\\\\n",
       "\t race\\_ethnicityWhite           & -0.09045365 & 0.4607914 & -0.1963007 & 8.443748e-01\\\\\n",
       "\t as.factor(year)2018           & -0.11040669 & 0.1777430 & -0.6211591 & 5.344949e-01\\\\\n",
       "\\end{tabular}\n"
      ],
      "text/markdown": [
       "\n",
       "A tibble: 9 × 5\n",
       "\n",
       "| term &lt;chr&gt; | estimate &lt;dbl&gt; | std.error &lt;dbl&gt; | statistic &lt;dbl&gt; | p.value &lt;dbl&gt; |\n",
       "|---|---|---|---|---|\n",
       "| (Intercept)                   |  2.01906268 | 0.4770847 |  4.2320841 | 2.315358e-05 |\n",
       "| gendermale                    |  0.81719162 | 1.0395543 |  0.7860981 | 4.318100e-01 |\n",
       "| regionNortheast               | -0.29509989 | 0.2181228 | -1.3529069 | 1.760854e-01 |\n",
       "| regionSouth                   | -0.20555851 | 0.2483729 | -0.8276205 | 4.078855e-01 |\n",
       "| regionWest                    |  0.48840041 | 0.2842922 |  1.7179520 | 8.580536e-02 |\n",
       "| candidate_partyRepublican     |  0.08996900 | 0.1807842 |  0.4976596 | 6.187240e-01 |\n",
       "| race_ethnicityHispanic/Latina |  1.74422133 | 1.1059123 |  1.5771787 | 1.147544e-01 |\n",
       "| race_ethnicityWhite           | -0.09045365 | 0.4607914 | -0.1963007 | 8.443748e-01 |\n",
       "| as.factor(year)2018           | -0.11040669 | 0.1777430 | -0.6211591 | 5.344949e-01 |\n",
       "\n"
      ],
      "text/plain": [
       "  term                          estimate    std.error statistic  p.value     \n",
       "1 (Intercept)                    2.01906268 0.4770847  4.2320841 2.315358e-05\n",
       "2 gendermale                     0.81719162 1.0395543  0.7860981 4.318100e-01\n",
       "3 regionNortheast               -0.29509989 0.2181228 -1.3529069 1.760854e-01\n",
       "4 regionSouth                   -0.20555851 0.2483729 -0.8276205 4.078855e-01\n",
       "5 regionWest                     0.48840041 0.2842922  1.7179520 8.580536e-02\n",
       "6 candidate_partyRepublican      0.08996900 0.1807842  0.4976596 6.187240e-01\n",
       "7 race_ethnicityHispanic/Latina  1.74422133 1.1059123  1.5771787 1.147544e-01\n",
       "8 race_ethnicityWhite           -0.09045365 0.4607914 -0.1963007 8.443748e-01\n",
       "9 as.factor(year)2018           -0.11040669 0.1777430 -0.6211591 5.344949e-01"
      ]
     },
     "metadata": {},
     "output_type": "display_data"
    }
   ],
   "source": [
    "## Combined regressions\n",
    "temp18 <- elections_2018_long %>% \n",
    "    filter(gender %in% c(\"male\", \"female\"), vote_prop <0.75, race_ethnicity %in% c(\"White\", \"Black/African American\", \"Hispanic/Latina\"), candidate != \"No candidate\") %>%\n",
    "    mutate(winner = ifelse(candidate_party == winner_party, TRUE, FALSE)) %>%\n",
    "    select(year, vote_prop, gender, winner_party, region, candidate_party, race_ethnicity, winner)\n",
    "\n",
    "temp16 <- elections_2016_long %>%\n",
    "    filter(gender %in% c(\"male\", \"female\"), vote_prop <0.75, race_ethnicity %in% c(\"White\", \"Black/African American\", \"Hispanic/Latina\"), candidate != \"No candidate\") %>%\n",
    "    mutate(winner = ifelse(candidate_party == winner_party, TRUE, FALSE)) %>%\n",
    "    select(year, vote_prop, gender, winner_party, candidate_party, race_ethnicity, region, winner)\n",
    "\n",
    "\n",
    "model_voteprop <- rbind(temp18, temp16) %>%\n",
    "    lm(vote_prop ~ gender, data = .)\n",
    "\n",
    "tidy(model_voteprop)\n",
    "\n",
    "\n",
    "model_full_voteprop <- rbind(temp18, temp16) %>%\n",
    "    lm(vote_prop ~ gender + region + candidate_party + race_ethnicity + as.factor(year), data = .)\n",
    "tidy(model_full_voteprop)\n",
    "\n",
    "\n",
    "model_winner <- rbind(temp18, temp16) %>%\n",
    "    glm(winner ~ gender, data = ., family = \"binomial\")\n",
    "\n",
    "tidy(model_winner)\n",
    "\n",
    "\n",
    "model_full_winner <- rbind(temp18, temp16) %>%\n",
    "    glm(winner ~ gender + region + candidate_party + race_ethnicity + as.factor(year), data = ., family = \"binomial\")\n",
    "tidy(model_full_winner)\n",
    "\n",
    "\n"
   ]
  },
  {
   "cell_type": "code",
   "execution_count": 20,
   "metadata": {},
   "outputs": [
    {
     "data": {
      "text/plain": [
       "\n",
       "\tWelch Two Sample t-test\n",
       "\n",
       "data:  vote_prop by gender\n",
       "t = -0.44178, df = 3653.6, p-value = 0.6587\n",
       "alternative hypothesis: true difference in means is not equal to 0\n",
       "95 percent confidence interval:\n",
       " -0.013478889  0.008521572\n",
       "sample estimates:\n",
       "mean in group female   mean in group male \n",
       "           0.4959456            0.4984242 \n"
      ]
     },
     "metadata": {},
     "output_type": "display_data"
    }
   ],
   "source": [
    " ttest_2018_Dem_filtered<- elections_2018_long %>% \n",
    "    filter(candidate_party == \"Democrat\", gender %in% c(\"male\", \"female\"), vote_prop !=1)\n",
    "\n",
    "t.test (vote_prop ~ gender,data= ttest_2018_Dem_filtered)\n",
    "\n",
    "#did a bunch of t tests for 2018 and 2016"
   ]
  },
  {
   "cell_type": "code",
   "execution_count": 21,
   "metadata": {},
   "outputs": [
    {
     "data": {
      "text/plain": [
       "\n",
       "\tWelch Two Sample t-test\n",
       "\n",
       "data:  vote_prop by gender\n",
       "t = -5.1406, df = 1379.6, p-value = 3.132e-07\n",
       "alternative hypothesis: true difference in means is not equal to 0\n",
       "95 percent confidence interval:\n",
       " -0.04524211 -0.02024992\n",
       "sample estimates:\n",
       "mean in group female   mean in group male \n",
       "           0.4846782            0.5174242 \n"
      ]
     },
     "metadata": {},
     "output_type": "display_data"
    }
   ],
   "source": [
    " ttest_2018_Rep_filtered<- elections_2018_long%>% \n",
    "    filter(candidate_party == \"Republican\", gender %in% c(\"male\", \"female\"), vote_prop !=1)\n",
    "\n",
    "t.test (vote_prop ~ gender,data= ttest_2018_Rep_filtered)\n"
   ]
  },
  {
   "cell_type": "code",
   "execution_count": 22,
   "metadata": {},
   "outputs": [
    {
     "data": {
      "text/plain": [
       "\n",
       "\tWelch Two Sample t-test\n",
       "\n",
       "data:  vote_prop by gender\n",
       "t = -4.3878, df = 5435.1, p-value = 1.167e-05\n",
       "alternative hypothesis: true difference in means is not equal to 0\n",
       "95 percent confidence interval:\n",
       " -0.025596266 -0.009787388\n",
       "sample estimates:\n",
       "mean in group female   mean in group male \n",
       "           0.4922684            0.5099602 \n"
      ]
     },
     "metadata": {},
     "output_type": "display_data"
    }
   ],
   "source": [
    " ttest_2018_overall_filtered<- elections_2018_long%>% \n",
    "    filter(gender %in% c(\"male\", \"female\"), vote_prop !=1)\n",
    "\n",
    "t.test (vote_prop ~ gender,data= ttest_2018_overall_filtered)"
   ]
  },
  {
   "cell_type": "code",
   "execution_count": 23,
   "metadata": {},
   "outputs": [
    {
     "data": {
      "text/plain": [
       "\n",
       "\tWelch Two Sample t-test\n",
       "\n",
       "data:  vote_prop by gender\n",
       "t = 1.2095, df = 1721.6, p-value = 0.2266\n",
       "alternative hypothesis: true difference in means is not equal to 0\n",
       "95 percent confidence interval:\n",
       " -0.005621049  0.023707746\n",
       "sample estimates:\n",
       "mean in group female   mean in group male \n",
       "           0.4778499            0.4688065 \n"
      ]
     },
     "metadata": {},
     "output_type": "display_data"
    }
   ],
   "source": [
    " ttest_2016_Dem_filtered<- elections_2016_long%>% \n",
    "    filter(candidate_party == \"Democrat\", gender %in% c(\"male\", \"female\"), vote_prop !=1)\n",
    "\n",
    "t.test (vote_prop ~ gender,data= ttest_2016_Dem_filtered)"
   ]
  },
  {
   "cell_type": "code",
   "execution_count": 24,
   "metadata": {},
   "outputs": [
    {
     "data": {
      "text/plain": [
       "\n",
       "\tWelch Two Sample t-test\n",
       "\n",
       "data:  vote_prop by gender\n",
       "t = -1.8717, df = 880.19, p-value = 0.06158\n",
       "alternative hypothesis: true difference in means is not equal to 0\n",
       "95 percent confidence interval:\n",
       " -0.0303822388  0.0007206848\n",
       "sample estimates:\n",
       "mean in group female   mean in group male \n",
       "           0.5334219            0.5482527 \n"
      ]
     },
     "metadata": {},
     "output_type": "display_data"
    }
   ],
   "source": [
    " ttest_2016_Repub_filtered<- elections_2016_long%>% \n",
    "    filter(candidate_party == \"Republican\", gender %in% c(\"male\", \"female\"), vote_prop !=1)\n",
    "\n",
    "t.test (vote_prop ~ gender,data= ttest_2016_Repub_filtered)"
   ]
  },
  {
   "cell_type": "code",
   "execution_count": 25,
   "metadata": {},
   "outputs": [
    {
     "data": {
      "text/plain": [
       "\n",
       "\tWelch Two Sample t-test\n",
       "\n",
       "data:  vote_prop by gender\n",
       "t = -2.6007, df = 2608.5, p-value = 0.009356\n",
       "alternative hypothesis: true difference in means is not equal to 0\n",
       "95 percent confidence interval:\n",
       " -0.025131144 -0.003524987\n",
       "sample estimates:\n",
       "mean in group female   mean in group male \n",
       "           0.4988748            0.5132029 \n"
      ]
     },
     "metadata": {},
     "output_type": "display_data"
    }
   ],
   "source": [
    " ttest_2016_overall_filtered<- elections_2016_long%>% \n",
    "    filter(gender %in% c(\"male\", \"female\"), vote_prop !=1)\n",
    "\n",
    "t.test (vote_prop ~ gender,data= ttest_2016_overall_filtered)"
   ]
  },
  {
   "cell_type": "code",
   "execution_count": null,
   "metadata": {},
   "outputs": [],
   "source": []
  },
  {
   "cell_type": "code",
   "execution_count": null,
   "metadata": {},
   "outputs": [],
   "source": []
  },
  {
   "cell_type": "code",
   "execution_count": null,
   "metadata": {},
   "outputs": [],
   "source": []
  },
  {
   "cell_type": "code",
   "execution_count": null,
   "metadata": {},
   "outputs": [],
   "source": []
  },
  {
   "cell_type": "code",
   "execution_count": null,
   "metadata": {},
   "outputs": [],
   "source": []
  }
 ],
 "metadata": {
  "kernelspec": {
   "display_name": "R",
   "language": "R",
   "name": "ir"
  },
  "language_info": {
   "codemirror_mode": "r",
   "file_extension": ".r",
   "mimetype": "text/x-r-source",
   "name": "R",
   "pygments_lexer": "r",
   "version": "4.0.0"
  }
 },
 "nbformat": 4,
 "nbformat_minor": 4
}
