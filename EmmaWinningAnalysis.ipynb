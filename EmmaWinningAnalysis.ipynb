{
 "cells": [
  {
   "cell_type": "code",
   "execution_count": null,
   "metadata": {},
   "outputs": [],
   "source": [
    "#install.packages(\"reactable\")\n",
    "#library(reactable)\n",
    "library(ggplot2)\n",
    "library(tidyverse)\n",
    "library(broom)\n",
    "library(dplyr)\n",
    "library(knitr)\n",
    "womenwinning_df <- read.csv(\"officeholders_race_ethnicity.csv\")"
   ]
  },
  {
   "cell_type": "markdown",
   "metadata": {},
   "source": [
    "### Intial exploring"
   ]
  },
  {
   "cell_type": "code",
   "execution_count": null,
   "metadata": {},
   "outputs": [],
   "source": [
    "head(womenwinning_df)"
   ]
  },
  {
   "cell_type": "code",
   "execution_count": null,
   "metadata": {},
   "outputs": [],
   "source": [
    "table_of_race <- table(womenwinning_df[\"race_ethnicity\"])\n",
    "head(table_of_race)"
   ]
  },
  {
   "cell_type": "code",
   "execution_count": null,
   "metadata": {},
   "outputs": [],
   "source": [
    "table_of_levels <- table(womenwinning_df[\"level\"])\n",
    "head(table_of_levels)"
   ]
  },
  {
   "cell_type": "code",
   "execution_count": null,
   "metadata": {},
   "outputs": [],
   "source": [
    "table_of_positions <- table(womenwinning_df[\"position\"])\n",
    "head(table_of_positions)"
   ]
  },
  {
   "cell_type": "markdown",
   "metadata": {},
   "source": [
    "### Making a dataframe with only the State Legislators and Removing Guam and Puerto Rico for consistency"
   ]
  },
  {
   "cell_type": "code",
   "execution_count": null,
   "metadata": {},
   "outputs": [],
   "source": [
    "state_leg_df <- womenwinning_df%>%\n",
    "    filter(\n",
    "    level == \"State Legislative\" &\n",
    "    state != \"Guam - GU\" & state != \"Puerto Rico - PR\"\n",
    "    )\n",
    "        \n",
    "head(state_leg_df)"
   ]
  },
  {
   "cell_type": "code",
   "execution_count": null,
   "metadata": {},
   "outputs": [],
   "source": [
    "dim(state_leg_df) "
   ]
  },
  {
   "cell_type": "code",
   "execution_count": null,
   "metadata": {},
   "outputs": [],
   "source": [
    "tbl_of_positions2 <- table(state_leg_df[\"position\"])\n",
    "print(tbl_of_positions2) #checking for cleanness"
   ]
  },
  {
   "cell_type": "markdown",
   "metadata": {},
   "source": [
    "### Looking at Women by State, Year, Race, Region"
   ]
  },
  {
   "cell_type": "code",
   "execution_count": null,
   "metadata": {},
   "outputs": [],
   "source": [
    "tbl_by_state <- table(state_leg_df[\"state\"]) #gotta convert this to a string, \n",
    "                                             #and then we could do percents too\n",
    "print(tbl_by_state) #raw number based on location"
   ]
  },
  {
   "cell_type": "code",
   "execution_count": null,
   "metadata": {},
   "outputs": [],
   "source": [
    "state_leg_yr <- state_leg_df%>%\n",
    "    group_by(year) %>%\n",
    "    summarize(\n",
    "        count = n())\n",
    "print(state_leg_yr)"
   ]
  },
  {
   "cell_type": "code",
   "execution_count": null,
   "metadata": {},
   "outputs": [],
   "source": [
    "state_leg_race <- state_leg_df%>%\n",
    "    group_by(race_ethnicity == \"White\") %>%\n",
    "    summarize(count = n())\n",
    "print(state_leg_race)"
   ]
  },
  {
   "cell_type": "code",
   "execution_count": null,
   "metadata": {},
   "outputs": [],
   "source": [
    "state_leg_race <- state_leg_df%>%       #it's a little weird that \"White\" doesn't come up here?\n",
    "group_by(race_ethnicity) %>%\n",
    "    summarize(count = n())\n",
    "print(state_leg_race)\n"
   ]
  },
  {
   "cell_type": "code",
   "execution_count": null,
   "metadata": {},
   "outputs": [],
   "source": [
    "head(state_leg_df)"
   ]
  },
  {
   "cell_type": "code",
   "execution_count": null,
   "metadata": {},
   "outputs": [],
   "source": [
    "states_northeast <- c(\"Connecticut - CT\", \"Maine - ME\", \"Massachusetts - MA\",\n",
    "                      \"New Hampshire - NH\", \"New Jersey - NJ\", \"New York - NY\", \"Pennsylvania - PA\", \n",
    "                      \"Rhode Island - RI\", \"Vermont - VT\")\n",
    "states_west <- c(\"Alaska - AK\", \"Arizona - AZ\", \"California - CA\", \"Colorado - CO\", \"Hawaii - HI\", \"Idaho - ID\", \"Nevada - NV\", \"Montana - MT\",\n",
    "                 \"New Mexico - NM\", \"Oregon - OR\", \"Utah - UT\", \"Washington - WA\", \"Wyoming - WY\")\n",
    "states_midwest <- c(\"Indiana - IN\", \"Illinois - IL\", \"Iowa - IA\", \"Kansas - KS\", \"Michigan - MI\", \"Minnesota - MN\", \"Missouri - MO\", \n",
    "                    \"Nebraska - NE\", \"North Dakota - ND\", \"Ohio - OH\", \"South Dakota - SD\", \"Wisconsin - WI\")\n",
    "states_south <- c(\"Alabama - AL\", \"Arkansas - AR\", \"Delaware - DE\",\n",
    "                  \"Florida - FL\", \"Georgia - GA\", \"Kentucky - KY\", \"Louisiana - LA\", \"Maryland - MD\", \"Mississippi - MS\", \n",
    "                  \"North Carolina - NC\", \"Oklahoma - OK\", \"South Carolina - SC\", \"Tennessee - TN\", \"Texas - TX\", \n",
    "                  \"Virginia - VA\", \"West Virginia - WV\")\n",
    "\n",
    "\n",
    "# Replace \"dataset\" with name of your dataset\n",
    "state_leg_df <- state_leg_df %>% \n",
    "    mutate(region = case_when(state %in% states_northeast ~ \"Northeast\",\n",
    "                            state %in% states_west ~ \"West\",\n",
    "                            state %in% states_midwest ~ \"Midwest\",\n",
    "                            state %in% states_south ~ \"South\",\n",
    "                            TRUE ~ \"Other\"))\n",
    "\n",
    "head(state_leg_df)\n",
    "\n"
   ]
  },
  {
   "cell_type": "code",
   "execution_count": null,
   "metadata": {},
   "outputs": [],
   "source": [
    "\n",
    "state_leg_region_df <- state_leg_df%>%\n",
    "    group_by(region) %>%\n",
    "    summarize(count = n())\n",
    "print(state_leg_region_df)\n",
    "\n",
    "pie(state_leg_region_df$count, labels = state_leg_region_df$region)\n"
   ]
  },
  {
   "cell_type": "markdown",
   "metadata": {},
   "source": [
    "### Looking at Women Winning by State, Year, Race, Region from 2016-present"
   ]
  },
  {
   "cell_type": "code",
   "execution_count": null,
   "metadata": {},
   "outputs": [],
   "source": [
    "\n",
    "state_leg_party_2016 <- state_leg_df%>%\n",
    "    filter(year > 2015)%>%\n",
    "    group_by(state, year)%>%\n",
    "    summarize(\n",
    "    count = n(),\n",
    "    prop_white = mean(race_ethnicity == \"White\"),\n",
    "    prop_nonwhite = mean(race_ethnicity != \"White\"),\n",
    "    prop_black = mean(race_ethnicity == \"Black/African American\"),\n",
    "    prop_hispanic = mean(race_ethnicity == \"Hispanic/Latina\"),\n",
    "    prop_mideastern = mean(race_ethnicity == \"Middle Eastern/North African\"),\n",
    "    prop_asian = mean(race_ethnicity == \"Asian/Pacific Islander\"),\n",
    "    prop_repub = mean(party == \"Republican\"),\n",
    "    prop_dem = mean(party == \"Democrat\")\n",
    "    )\n",
    "#create data frame with women winning from each state, with proportions of race and ethnicity since 2016\n",
    "head(state_leg_party_2016)"
   ]
  },
  {
   "cell_type": "code",
   "execution_count": null,
   "metadata": {},
   "outputs": [],
   "source": [
    "print(kable(state_leg_party_2016))"
   ]
  },
  {
   "cell_type": "code",
   "execution_count": null,
   "metadata": {},
   "outputs": [],
   "source": [
    "state_leg_region_2016 <- state_leg_df%>%\n",
    "    filter(year > 2015)%>%\n",
    "    group_by(region, year)%>%\n",
    "    summarize(\n",
    "    count = n(),\n",
    "    prop_white = mean(race_ethnicity == \"White\"),\n",
    "    prop_nonwhite = mean(race_ethnicity != \"White\"),\n",
    "    prop_black = mean(race_ethnicity == \"Black/African American\"),\n",
    "    prop_hispanic = mean(race_ethnicity == \"Hispanic/Latina\"),\n",
    "    prop_mideastern = mean(race_ethnicity == \"Middle Eastern/North African\"),\n",
    "    prop_asian = mean(race_ethnicity == \"Asian/Pacific Islander\"),\n",
    "    prop_repub = mean(party == \"Republican\"),\n",
    "    prop_dem = mean(party == \"Democrat\"))\n",
    "head(state_leg_region_2016)"
   ]
  },
  {
   "cell_type": "code",
   "execution_count": null,
   "metadata": {},
   "outputs": [],
   "source": [
    "ggplot(state_leg_region_2016, aes(x = year, y = count, colour = region)) +\n",
    "        geom_jitter(alpha = 1)+\n",
    "        geom_smooth(method = \"lm\", se = FALSE)+\n",
    "        xlab(\"Year\") +\n",
    "        ylab(\"Number of Women in State Legislature\")\n",
    "ggsave(\"Number of Women in State Legislature by Region 2016-present.png\", width = 5, height = 5)\n",
    "\n"
   ]
  },
  {
   "cell_type": "code",
   "execution_count": null,
   "metadata": {},
   "outputs": [],
   "source": [
    "ggplot(state_leg_region_2016, aes(x = year, y = prop_white, colour = region)) +\n",
    "        geom_jitter(alpha = 1)+\n",
    "        geom_smooth(method = \"lm\", se = FALSE)+\n",
    "        xlab(\"Year\") +\n",
    "        ylab(\"Proportion of White Women of the Women in State Legislatures\")\n",
    "ggsave(\"Proportion White Women in State Legislature by Region 2016-present.png\", width = 5, height = 5)"
   ]
  },
  {
   "cell_type": "code",
   "execution_count": null,
   "metadata": {},
   "outputs": [],
   "source": [
    "ggplot(state_leg_region_2016, aes(x = year, y = prop_nonwhite, colour = region)) +\n",
    "        geom_jitter(alpha = 1)+\n",
    "        geom_smooth(method = \"lm\", se = FALSE)+\n",
    "        xlab(\"Year\") +\n",
    "        ylab(\"Proportion of Non-White Women of the Women in State Legislatures\")\n",
    "ggsave(\"Proportion Non-White Women in State Legislature by Region 2016-present.png\", width = 5, height = 5)"
   ]
  },
  {
   "cell_type": "code",
   "execution_count": null,
   "metadata": {},
   "outputs": [],
   "source": [
    "ggplot(state_leg_region_2016, aes(x = year, y = prop_black, colour = region)) +\n",
    "        geom_jitter(alpha = 1)+\n",
    "        geom_smooth(method = \"lm\", se = FALSE)+\n",
    "        xlab(\"Year\") +\n",
    "        ylab(\"Proportion of Black/African-American Women of Women in State Legislatures\")"
   ]
  },
  {
   "cell_type": "code",
   "execution_count": null,
   "metadata": {},
   "outputs": [],
   "source": [
    "ggplot(state_leg_region_2016, aes(x = year, y = prop_hispanic, colour = region)) +\n",
    "        geom_jitter(alpha = 1)+\n",
    "        geom_smooth(method = \"lm\", se = FALSE)+\n",
    "        xlab(\"Year\") +\n",
    "        ylab(\"Proportion of Hispanic/Latina Women of the Women in State Legislatures\")"
   ]
  },
  {
   "cell_type": "code",
   "execution_count": null,
   "metadata": {},
   "outputs": [],
   "source": [
    "ggplot(state_leg_region_2016, aes(x = year, y = prop_mideastern, colour = region)) +\n",
    "        geom_jitter(alpha = 1)+\n",
    "        xlab(\"Year\") +\n",
    "        ylab(\"Proportion of Middle Eastern Women of the Women in State Legislatures\")"
   ]
  },
  {
   "cell_type": "code",
   "execution_count": null,
   "metadata": {},
   "outputs": [],
   "source": [
    "ggplot(state_leg_region_2016, aes(x = year, y = prop_asian, colour = region)) +\n",
    "        geom_jitter(alpha = 1)+\n",
    "        xlab(\"Year\") +\n",
    "        ylab(\"Proportion of Asian/Pacific Islander Women of the Women in State Legislatures\")"
   ]
  },
  {
   "cell_type": "code",
   "execution_count": null,
   "metadata": {},
   "outputs": [],
   "source": [
    "ggplot(state_leg_region_2016, aes(x = year, y = prop_dem, colour = region)) +\n",
    "        geom_jitter(alpha = 1)+\n",
    "        geom_smooth(method = \"lm\", se = FALSE)+\n",
    "        xlab(\"Year\") +\n",
    "        ylab(\"Proportion of Democratic Women of the Women in State Legislatures\")\n",
    "ggsave(\"Proportion Democratic Women in State Legislature by Region 2016-present.png\", width = 5, height = 5)"
   ]
  },
  {
   "cell_type": "code",
   "execution_count": null,
   "metadata": {},
   "outputs": [],
   "source": [
    "ggplot(state_leg_region_2016, aes(x = year, y = prop_repub, colour = region)) +\n",
    "        geom_jitter(alpha = 1)+\n",
    "        geom_smooth(method = \"lm\", se = FALSE)+\n",
    "        xlab(\"Year\") +\n",
    "        ylab(\"Proportion of Republican Women of the Women in State Legislatures\")\n",
    "ggsave(\"Proportion Republican Women in State Legislature by Region 2016-present.png\", width = 5, height = 5)"
   ]
  },
  {
   "cell_type": "code",
   "execution_count": null,
   "metadata": {},
   "outputs": [],
   "source": [
    "print(kable(state_leg_region_2016))"
   ]
  },
  {
   "cell_type": "code",
   "execution_count": null,
   "metadata": {},
   "outputs": [],
   "source": [
    "state_leg_partyaff_2016 <- state_leg_df%>%\n",
    "    filter(year > 2015)%>%\n",
    "    group_by(party, year)%>%\n",
    "    summarize(\n",
    "    count = n(),\n",
    "    prop_white = mean(race_ethnicity == \"White\"),\n",
    "    prop_nonwhite = mean(race_ethnicity != \"White\"),\n",
    "    prop_black = mean(race_ethnicity == \"Black/African American\"),\n",
    "    prop_hispanic = mean(race_ethnicity == \"Hispanic/Latina\"),\n",
    "    prop_mideastern = mean(race_ethnicity == \"Middle Eastern/North African\"),\n",
    "    prop_asian = mean(race_ethnicity == \"Asian/Pacific Islander\")\n",
    "        ) #create dataframe with women winning based on party affliation and race since 2016"
   ]
  },
  {
   "cell_type": "code",
   "execution_count": null,
   "metadata": {},
   "outputs": [],
   "source": [
    "print((kable(state_leg_partyaff_2016)))"
   ]
  },
  {
   "cell_type": "code",
   "execution_count": null,
   "metadata": {},
   "outputs": [],
   "source": [
    "state_leg_region_2016[which.max(state_leg_region_2016$count),]"
   ]
  },
  {
   "cell_type": "code",
   "execution_count": null,
   "metadata": {},
   "outputs": [],
   "source": [
    "state_leg_region_2016[which.min(state_leg_region_2016$count),]"
   ]
  },
  {
   "cell_type": "code",
   "execution_count": null,
   "metadata": {},
   "outputs": [],
   "source": [
    "state_leg_party_2016[which.max(state_leg_party_2016$count),]"
   ]
  },
  {
   "cell_type": "code",
   "execution_count": null,
   "metadata": {},
   "outputs": [],
   "source": [
    "state_leg_party_2016[which.min(state_leg_party_2016$count),]"
   ]
  },
  {
   "cell_type": "code",
   "execution_count": null,
   "metadata": {},
   "outputs": [],
   "source": [
    "state_leg_party_2016[which.max(state_leg_party_2016$prop_nonwhite),]"
   ]
  },
  {
   "cell_type": "code",
   "execution_count": null,
   "metadata": {},
   "outputs": [],
   "source": [
    "state_leg_party_2016[which.min(state_leg_party_2016$prop_nonwhite),]"
   ]
  },
  {
   "cell_type": "code",
   "execution_count": null,
   "metadata": {},
   "outputs": [],
   "source": [
    "write.csv(state_leg_partyaff_2016, file = \"statelegpartyaff_2016.csv\")"
   ]
  },
  {
   "cell_type": "code",
   "execution_count": null,
   "metadata": {},
   "outputs": [],
   "source": [
    "write.csv(state_leg_region_2016, file = \"statelegregion_2016.csv\")"
   ]
  },
  {
   "cell_type": "code",
   "execution_count": null,
   "metadata": {},
   "outputs": [],
   "source": [
    "write.csv(state_leg_party_2016, file = \"statelegparty_2016.csv\")"
   ]
  },
  {
   "cell_type": "code",
   "execution_count": null,
   "metadata": {},
   "outputs": [],
   "source": [
    "state_leg_region_in2017 <- state_leg_region_2016 %>%\n",
    "                            filter(\n",
    "                            year == 2017)\n",
    "\n",
    "state_leg_region_in2017[which.max(state_leg_region_in2017$count),] #figure out where more women were serving after 2016 election\n",
    "\n"
   ]
  },
  {
   "cell_type": "code",
   "execution_count": null,
   "metadata": {},
   "outputs": [],
   "source": [
    "state_leg_region_in2017[which.min(state_leg_region_in2017$count),] #figure out where least women were serving after 2016 election"
   ]
  },
  {
   "cell_type": "code",
   "execution_count": null,
   "metadata": {},
   "outputs": [],
   "source": [
    "state_leg_region_in2017[which.max(state_leg_region_in2017$prop_nonwhite),]\n",
    "state_leg_region_in2017[which.min(state_leg_region_in2017$prop_nonwhite),]"
   ]
  },
  {
   "cell_type": "code",
   "execution_count": null,
   "metadata": {},
   "outputs": [],
   "source": [
    "state_leg_region_in2019 <- state_leg_region_2016 %>%\n",
    "                            filter(\n",
    "                            year == 2019)\n",
    "\n",
    "state_leg_region_in2019[which.max(state_leg_region_in2019$count),] #figure out where more women were serving after 2018 midterms"
   ]
  },
  {
   "cell_type": "code",
   "execution_count": null,
   "metadata": {},
   "outputs": [],
   "source": [
    "state_leg_region_in2019[which.min(state_leg_region_in2019$count),] #figure out where more women were serving after 2018 midterms"
   ]
  },
  {
   "cell_type": "code",
   "execution_count": null,
   "metadata": {},
   "outputs": [],
   "source": [
    "state_leg_region_in2019[which.max(state_leg_region_in2019$prop_nonwhite),]\n",
    "state_leg_region_in2019[which.min(state_leg_region_in2019$prop_nonwhite),]"
   ]
  },
  {
   "cell_type": "markdown",
   "metadata": {},
   "source": [
    "### Investigating 2008-present Trends"
   ]
  },
  {
   "cell_type": "code",
   "execution_count": null,
   "metadata": {},
   "outputs": [],
   "source": []
  },
  {
   "cell_type": "code",
   "execution_count": null,
   "metadata": {},
   "outputs": [],
   "source": [
    "state_leg_partyaff <- state_leg_df%>%\n",
    "    group_by(party, year)%>%\n",
    "    summarize(\n",
    "    count = n(),\n",
    "    prop_white = mean(race_ethnicity == \"White\"),\n",
    "    prop_nonwhite = mean(race_ethnicity != \"White\"),\n",
    "    prop_black = mean(race_ethnicity == \"Black/African American\"),\n",
    "    prop_hispanic = mean(race_ethnicity == \"Hispanic/Latina\"),\n",
    "    prop_mideastern = mean(race_ethnicity == \"Middle Eastern/North African\"),\n",
    "    prop_asian = mean(race_ethnicity == \"Asian/Pacific Islander\")\n",
    "        ) #create dataframe with women winning based on party affliation and race since 2008\n",
    "\n"
   ]
  },
  {
   "cell_type": "code",
   "execution_count": null,
   "metadata": {},
   "outputs": [],
   "source": [
    "print(kable(state_leg_partyaff))"
   ]
  },
  {
   "cell_type": "code",
   "execution_count": null,
   "metadata": {},
   "outputs": [],
   "source": [
    "state_leg_region <- state_leg_df%>%\n",
    "    group_by(region, year)%>%\n",
    "    summarize(\n",
    "    count = n(),\n",
    "    prop_white = mean(race_ethnicity == \"White\"),\n",
    "    prop_nonwhite = mean(race_ethnicity != \"White\"),\n",
    "    prop_black = mean(race_ethnicity == \"Black/African American\"),\n",
    "    prop_hispanic = mean(race_ethnicity == \"Hispanic/Latina\"),\n",
    "    prop_mideastern = mean(race_ethnicity == \"Middle Eastern/North African\"),\n",
    "    prop_asian = mean(race_ethnicity == \"Asian/Pacific Islander\"),\n",
    "    prop_repub = mean(party == \"Republican\"),\n",
    "    prop_dem = mean(party == \"Democrat\"))\n",
    "print(kable(state_leg_region)) #create dataframe with women winning by region and race since 2008"
   ]
  },
  {
   "cell_type": "code",
   "execution_count": null,
   "metadata": {},
   "outputs": [],
   "source": [
    "ggplot(state_leg_region, aes(x = year, y = count, colour = region)) +\n",
    "        geom_jitter(alpha = 1)+\n",
    "        geom_smooth(method = \"lm\", se = FALSE)+\n",
    "        xlab(\"Year\") +\n",
    "        ylab(\"Number of Women in State Legislature\")\n",
    "ggsave(\"Scatterplot of Number of Women in State Legislature by Region.png\", width = 5, height = 5)\n"
   ]
  },
  {
   "cell_type": "code",
   "execution_count": null,
   "metadata": {},
   "outputs": [],
   "source": [
    "ggplot(state_leg_region, aes(x = year, y = count, colour = region, fill = region)) +\n",
    "        geom_bar(stat = \"identity\") + \n",
    "        xlab(\"Year\")+\n",
    "        ylab(\"Number of Women in State Legislature\")\n",
    "ggsave(\"Bar Graph of Number of Women in State Legislature by Region.png\", width = 5, height = 5)"
   ]
  },
  {
   "cell_type": "code",
   "execution_count": null,
   "metadata": {},
   "outputs": [],
   "source": [
    "ggplot(state_leg_region, aes(x = year, y = prop_white, colour = region)) +\n",
    "        geom_jitter(alpha = 1)+\n",
    "        geom_smooth(method = \"lm\", se = FALSE)+\n",
    "        xlab(\"Year\") +\n",
    "        ylab(\"Proportion of White Women of Women in State Legislature\")\n",
    "ggsave(\"Proportion of White Women of Women in State Legislature by Region.png\", width = 5, height = 5)"
   ]
  },
  {
   "cell_type": "code",
   "execution_count": null,
   "metadata": {},
   "outputs": [],
   "source": [
    "state_leg_partyaff_dorr <- state_leg_partyaff %>% \n",
    "                        filter(\n",
    "                        party == \"Democrat\" | party == \"Republican\")\n",
    "                            \n",
    "\n",
    "ggplot(state_leg_partyaff_dorr, aes(x = year, y = count, colour = party)) +\n",
    "        geom_jitter(alpha = 1)+\n",
    "        geom_smooth(method = \"lm\", se = FALSE)+\n",
    "        xlab(\"Year\") +\n",
    "        ylab(\"Number of Women in State Legislature\")\n",
    "ggsave(\"Number of Women in State Legislature by Party.png\", width = 5, height = 5)"
   ]
  },
  {
   "cell_type": "code",
   "execution_count": null,
   "metadata": {},
   "outputs": [],
   "source": [
    "ggplot(state_leg_partyaff_dorr, aes(x = year, y = prop_white, colour = party)) +\n",
    "        geom_jitter(alpha = 1)+\n",
    "        geom_smooth(method = \"lm\", se = FALSE)+\n",
    "        xlab(\"Year\") +\n",
    "        ylab(\"Proportion of White Women of Women in State Legislature\")\n",
    "ggsave(\"Proportion of White Women of the Women in State Legislature by Party.png\", width = 5, height = 5)"
   ]
  },
  {
   "cell_type": "code",
   "execution_count": null,
   "metadata": {},
   "outputs": [],
   "source": [
    "ggplot(state_leg_partyaff_dorr, aes(x = year, y = prop_nonwhite, colour = party)) +\n",
    "        geom_jitter(alpha = 1)+\n",
    "        geom_smooth(method = \"lm\", se = FALSE)+\n",
    "        xlab(\"Year\") +\n",
    "        ylab(\"Proportion of Non-White Women of Women in State Legislature\")\n",
    "ggsave(\"Proportion of Non-White Women of the Women in State Legislature by Party.png\", width = 5, height = 5)"
   ]
  },
  {
   "cell_type": "code",
   "execution_count": null,
   "metadata": {},
   "outputs": [],
   "source": [
    "ggplot(state_leg_partyaff_dorr, aes(x = year, y = prop_black, colour = party)) +\n",
    "        geom_jitter(alpha = 1)+\n",
    "        geom_smooth(method = \"lm\", se = FALSE)+\n",
    "        xlab(\"Year\") +\n",
    "        ylab(\"Proportion of Black Women of Women in State Legislature\")\n",
    "ggsave(\"Proportion of Black Women of the Women in State Legislature by Party.png\", width = 5, height = 5)"
   ]
  },
  {
   "cell_type": "code",
   "execution_count": null,
   "metadata": {},
   "outputs": [],
   "source": [
    "ggplot(state_leg_partyaff_dorr, aes(x = year, y = prop_hispanic, colour = party)) +\n",
    "        geom_jitter(alpha = 1)+\n",
    "        geom_smooth(method = \"lm\", se = FALSE)+\n",
    "        xlab(\"Year\") +\n",
    "        ylab(\"Proportion of Hispanic Women of Women in State Legislature\")\n",
    "ggsave(\"Proportion of Hispanic Women of the Women in State Legislature by Party.png\", width = 5, height = 5)"
   ]
  },
  {
   "cell_type": "code",
   "execution_count": null,
   "metadata": {},
   "outputs": [],
   "source": [
    "state_leg_partyaff_DorR_2017 <- state_leg_party_2016 %>%\n",
    "                            filter(\n",
    "                            year == 2017 \n",
    "                            )\n",
    "\n",
    "state_leg_partyaff_DorR_2017[which.max(state_leg_partyaff_DorR_2017$count),] #which had the most women serving in 2017?\n",
    "state_leg_partyaff_DorR_2017[which.min(state_leg_partyaff_DorR_2017$count),] #which state had least amount of women serving in 2017?"
   ]
  },
  {
   "cell_type": "code",
   "execution_count": null,
   "metadata": {},
   "outputs": [],
   "source": [
    "state_leg_partyaff_DorR_2017[which.max(state_leg_partyaff_DorR_2017$prop_nonwhite),]\n",
    "state_leg_partyaff_DorR_2017[which.min(state_leg_partyaff_DorR_2017$prop_nonwhite),]"
   ]
  },
  {
   "cell_type": "code",
   "execution_count": null,
   "metadata": {},
   "outputs": [],
   "source": [
    "state_leg_partyaff_DorR_2019 <- state_leg_party_2016 %>%\n",
    "                            filter(\n",
    "                            year == 2019 \n",
    "                            )\n",
    "\n",
    "state_leg_partyaff_DorR_2019[which.max(state_leg_partyaff_DorR_2019$count),] #which state had the most women serving in 2019?\n",
    "state_leg_partyaff_DorR_2019[which.min(state_leg_partyaff_DorR_2019$count),]#which state had the least amount women serving in 2019?"
   ]
  },
  {
   "cell_type": "code",
   "execution_count": null,
   "metadata": {},
   "outputs": [],
   "source": [
    "state_leg_partyaff_DorR_2019[which.max(state_leg_partyaff_DorR_2019$prop_nonwhite),]\n",
    "state_leg_partyaff_DorR_2019[which.min(state_leg_partyaff_DorR_2019$prop_nonwhite),]"
   ]
  },
  {
   "cell_type": "code",
   "execution_count": null,
   "metadata": {},
   "outputs": [],
   "source": []
  }
 ],
 "metadata": {
  "kernelspec": {
   "display_name": "R",
   "language": "R",
   "name": "ir"
  },
  "language_info": {
   "codemirror_mode": "r",
   "file_extension": ".r",
   "mimetype": "text/x-r-source",
   "name": "R",
   "pygments_lexer": "r",
   "version": "4.0.0"
  }
 },
 "nbformat": 4,
 "nbformat_minor": 4
}
