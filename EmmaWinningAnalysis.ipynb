{
 "cells": [
  {
   "cell_type": "code",
   "execution_count": 55,
   "metadata": {},
   "outputs": [],
   "source": [
    "library(ggplot2)\n",
    "library(tidyverse)\n",
    "library(broom)\n",
    "library(dplyr)\n",
    "womenwinning_df <- read.csv(\"officeholders_race_ethnicity.csv\")"
   ]
  },
  {
   "cell_type": "markdown",
   "metadata": {},
   "source": [
    "### Intial exploring"
   ]
  },
  {
   "cell_type": "code",
   "execution_count": 56,
   "metadata": {},
   "outputs": [
    {
     "data": {
      "text/html": [
       "<table>\n",
       "<caption>A data.frame: 6 × 11</caption>\n",
       "<thead>\n",
       "\t<tr><th></th><th scope=col>id</th><th scope=col>year</th><th scope=col>first_name</th><th scope=col>middle_name</th><th scope=col>last_name</th><th scope=col>party</th><th scope=col>level</th><th scope=col>position</th><th scope=col>state</th><th scope=col>district</th><th scope=col>race_ethnicity</th></tr>\n",
       "\t<tr><th></th><th scope=col>&lt;chr&gt;</th><th scope=col>&lt;int&gt;</th><th scope=col>&lt;chr&gt;</th><th scope=col>&lt;chr&gt;</th><th scope=col>&lt;chr&gt;</th><th scope=col>&lt;chr&gt;</th><th scope=col>&lt;chr&gt;</th><th scope=col>&lt;chr&gt;</th><th scope=col>&lt;chr&gt;</th><th scope=col>&lt;chr&gt;</th><th scope=col>&lt;chr&gt;</th></tr>\n",
       "</thead>\n",
       "<tbody>\n",
       "\t<tr><th scope=row>1</th><td>566417k</td><td>2017</td><td>Kim  </td><td>K.</td><td>Abbott</td><td>Democrat</td><td>State Legislative</td><td>State Representative</td><td>Montana - MT </td><td>83</td><td>White</td></tr>\n",
       "\t<tr><th scope=row>2</th><td>566417k</td><td>2018</td><td>Kim  </td><td>K.</td><td>Abbott</td><td>Democrat</td><td>State Legislative</td><td>State Representative</td><td>Montana - MT </td><td>83</td><td>White</td></tr>\n",
       "\t<tr><th scope=row>3</th><td>566417k</td><td>2019</td><td>Kim  </td><td>K.</td><td>Abbott</td><td>Democrat</td><td>State Legislative</td><td>State Representative</td><td>Montana - MT </td><td>83</td><td>White</td></tr>\n",
       "\t<tr><th scope=row>4</th><td>566417k</td><td>2020</td><td>Kim  </td><td>K.</td><td>Abbott</td><td>Democrat</td><td>State Legislative</td><td>State Representative</td><td>Montana - MT </td><td>83</td><td>White</td></tr>\n",
       "\t<tr><th scope=row>5</th><td>14772c </td><td>2010</td><td>Robin</td><td>A.</td><td>Abbott</td><td>Democrat</td><td>State Legislative</td><td>State Representative</td><td>Virginia - VA</td><td>93</td><td>White</td></tr>\n",
       "\t<tr><th scope=row>6</th><td>14772c </td><td>2011</td><td>Robin</td><td>A.</td><td>Abbott</td><td>Democrat</td><td>State Legislative</td><td>State Representative</td><td>Virginia - VA</td><td>93</td><td>White</td></tr>\n",
       "</tbody>\n",
       "</table>\n"
      ],
      "text/latex": [
       "A data.frame: 6 × 11\n",
       "\\begin{tabular}{r|lllllllllll}\n",
       "  & id & year & first\\_name & middle\\_name & last\\_name & party & level & position & state & district & race\\_ethnicity\\\\\n",
       "  & <chr> & <int> & <chr> & <chr> & <chr> & <chr> & <chr> & <chr> & <chr> & <chr> & <chr>\\\\\n",
       "\\hline\n",
       "\t1 & 566417k & 2017 & Kim   & K. & Abbott & Democrat & State Legislative & State Representative & Montana - MT  & 83 & White\\\\\n",
       "\t2 & 566417k & 2018 & Kim   & K. & Abbott & Democrat & State Legislative & State Representative & Montana - MT  & 83 & White\\\\\n",
       "\t3 & 566417k & 2019 & Kim   & K. & Abbott & Democrat & State Legislative & State Representative & Montana - MT  & 83 & White\\\\\n",
       "\t4 & 566417k & 2020 & Kim   & K. & Abbott & Democrat & State Legislative & State Representative & Montana - MT  & 83 & White\\\\\n",
       "\t5 & 14772c  & 2010 & Robin & A. & Abbott & Democrat & State Legislative & State Representative & Virginia - VA & 93 & White\\\\\n",
       "\t6 & 14772c  & 2011 & Robin & A. & Abbott & Democrat & State Legislative & State Representative & Virginia - VA & 93 & White\\\\\n",
       "\\end{tabular}\n"
      ],
      "text/markdown": [
       "\n",
       "A data.frame: 6 × 11\n",
       "\n",
       "| <!--/--> | id &lt;chr&gt; | year &lt;int&gt; | first_name &lt;chr&gt; | middle_name &lt;chr&gt; | last_name &lt;chr&gt; | party &lt;chr&gt; | level &lt;chr&gt; | position &lt;chr&gt; | state &lt;chr&gt; | district &lt;chr&gt; | race_ethnicity &lt;chr&gt; |\n",
       "|---|---|---|---|---|---|---|---|---|---|---|---|\n",
       "| 1 | 566417k | 2017 | Kim   | K. | Abbott | Democrat | State Legislative | State Representative | Montana - MT  | 83 | White |\n",
       "| 2 | 566417k | 2018 | Kim   | K. | Abbott | Democrat | State Legislative | State Representative | Montana - MT  | 83 | White |\n",
       "| 3 | 566417k | 2019 | Kim   | K. | Abbott | Democrat | State Legislative | State Representative | Montana - MT  | 83 | White |\n",
       "| 4 | 566417k | 2020 | Kim   | K. | Abbott | Democrat | State Legislative | State Representative | Montana - MT  | 83 | White |\n",
       "| 5 | 14772c  | 2010 | Robin | A. | Abbott | Democrat | State Legislative | State Representative | Virginia - VA | 93 | White |\n",
       "| 6 | 14772c  | 2011 | Robin | A. | Abbott | Democrat | State Legislative | State Representative | Virginia - VA | 93 | White |\n",
       "\n"
      ],
      "text/plain": [
       "  id      year first_name middle_name last_name party    level            \n",
       "1 566417k 2017 Kim        K.          Abbott    Democrat State Legislative\n",
       "2 566417k 2018 Kim        K.          Abbott    Democrat State Legislative\n",
       "3 566417k 2019 Kim        K.          Abbott    Democrat State Legislative\n",
       "4 566417k 2020 Kim        K.          Abbott    Democrat State Legislative\n",
       "5 14772c  2010 Robin      A.          Abbott    Democrat State Legislative\n",
       "6 14772c  2011 Robin      A.          Abbott    Democrat State Legislative\n",
       "  position             state         district race_ethnicity\n",
       "1 State Representative Montana - MT  83       White         \n",
       "2 State Representative Montana - MT  83       White         \n",
       "3 State Representative Montana - MT  83       White         \n",
       "4 State Representative Montana - MT  83       White         \n",
       "5 State Representative Virginia - VA 93       White         \n",
       "6 State Representative Virginia - VA 93       White         "
      ]
     },
     "metadata": {},
     "output_type": "display_data"
    }
   ],
   "source": [
    "head(womenwinning_df)"
   ]
  },
  {
   "cell_type": "code",
   "execution_count": 57,
   "metadata": {},
   "outputs": [
    {
     "data": {
      "text/plain": [
       "\n",
       "                                     Asian/Pacific Islander \n",
       "                                                        634 \n",
       "                                     Black/African American \n",
       "                                                       3695 \n",
       "                                            Hispanic/Latina \n",
       "                                                       1397 \n",
       "                               Middle Eastern/North African \n",
       "                                                         22 \n",
       "                                                Multiracial \n",
       "                                                         15 \n",
       "Multiracial, Black/African American, Asian/Pacific Islander \n",
       "                                                         18 "
      ]
     },
     "metadata": {},
     "output_type": "display_data"
    }
   ],
   "source": [
    "table_of_race <- table(womenwinning_df[\"race_ethnicity\"])\n",
    "head(table_of_race)"
   ]
  },
  {
   "cell_type": "code",
   "execution_count": 58,
   "metadata": {},
   "outputs": [
    {
     "data": {
      "text/plain": [
       "\n",
       "   Federal/Congress   State Legislative Statewide Executive    Territorial/D.C. \n",
       "               1381               24540                1017                 112 "
      ]
     },
     "metadata": {},
     "output_type": "display_data"
    }
   ],
   "source": [
    "table_of_levels <- table(womenwinning_df[\"level\"])\n",
    "head(table_of_levels)"
   ]
  },
  {
   "cell_type": "code",
   "execution_count": 59,
   "metadata": {},
   "outputs": [
    {
     "data": {
      "text/plain": [
       "\n",
       "             Agriculture         Attorney General                  Auditor \n",
       "                       9                       98                      106 \n",
       " Chief Financial Officer              Comptroller Corporation Commissioner \n",
       "                       3                       40                       34 "
      ]
     },
     "metadata": {},
     "output_type": "display_data"
    }
   ],
   "source": [
    "table_of_positions <- table(womenwinning_df[\"position\"])\n",
    "head(table_of_positions)"
   ]
  },
  {
   "cell_type": "markdown",
   "metadata": {},
   "source": [
    "### Making a dataframe with only the State Legislators"
   ]
  },
  {
   "cell_type": "code",
   "execution_count": 60,
   "metadata": {},
   "outputs": [
    {
     "data": {
      "text/html": [
       "<table>\n",
       "<caption>A data.frame: 6 × 11</caption>\n",
       "<thead>\n",
       "\t<tr><th></th><th scope=col>id</th><th scope=col>year</th><th scope=col>first_name</th><th scope=col>middle_name</th><th scope=col>last_name</th><th scope=col>party</th><th scope=col>level</th><th scope=col>position</th><th scope=col>state</th><th scope=col>district</th><th scope=col>race_ethnicity</th></tr>\n",
       "\t<tr><th></th><th scope=col>&lt;chr&gt;</th><th scope=col>&lt;int&gt;</th><th scope=col>&lt;chr&gt;</th><th scope=col>&lt;chr&gt;</th><th scope=col>&lt;chr&gt;</th><th scope=col>&lt;chr&gt;</th><th scope=col>&lt;chr&gt;</th><th scope=col>&lt;chr&gt;</th><th scope=col>&lt;chr&gt;</th><th scope=col>&lt;chr&gt;</th><th scope=col>&lt;chr&gt;</th></tr>\n",
       "</thead>\n",
       "<tbody>\n",
       "\t<tr><th scope=row>1</th><td>566417k</td><td>2017</td><td>Kim  </td><td>K.</td><td>Abbott</td><td>Democrat</td><td>State Legislative</td><td>State Representative</td><td>Montana - MT </td><td>83</td><td>White</td></tr>\n",
       "\t<tr><th scope=row>2</th><td>566417k</td><td>2018</td><td>Kim  </td><td>K.</td><td>Abbott</td><td>Democrat</td><td>State Legislative</td><td>State Representative</td><td>Montana - MT </td><td>83</td><td>White</td></tr>\n",
       "\t<tr><th scope=row>3</th><td>566417k</td><td>2019</td><td>Kim  </td><td>K.</td><td>Abbott</td><td>Democrat</td><td>State Legislative</td><td>State Representative</td><td>Montana - MT </td><td>83</td><td>White</td></tr>\n",
       "\t<tr><th scope=row>4</th><td>566417k</td><td>2020</td><td>Kim  </td><td>K.</td><td>Abbott</td><td>Democrat</td><td>State Legislative</td><td>State Representative</td><td>Montana - MT </td><td>83</td><td>White</td></tr>\n",
       "\t<tr><th scope=row>5</th><td>14772c </td><td>2010</td><td>Robin</td><td>A.</td><td>Abbott</td><td>Democrat</td><td>State Legislative</td><td>State Representative</td><td>Virginia - VA</td><td>93</td><td>White</td></tr>\n",
       "\t<tr><th scope=row>6</th><td>14772c </td><td>2011</td><td>Robin</td><td>A.</td><td>Abbott</td><td>Democrat</td><td>State Legislative</td><td>State Representative</td><td>Virginia - VA</td><td>93</td><td>White</td></tr>\n",
       "</tbody>\n",
       "</table>\n"
      ],
      "text/latex": [
       "A data.frame: 6 × 11\n",
       "\\begin{tabular}{r|lllllllllll}\n",
       "  & id & year & first\\_name & middle\\_name & last\\_name & party & level & position & state & district & race\\_ethnicity\\\\\n",
       "  & <chr> & <int> & <chr> & <chr> & <chr> & <chr> & <chr> & <chr> & <chr> & <chr> & <chr>\\\\\n",
       "\\hline\n",
       "\t1 & 566417k & 2017 & Kim   & K. & Abbott & Democrat & State Legislative & State Representative & Montana - MT  & 83 & White\\\\\n",
       "\t2 & 566417k & 2018 & Kim   & K. & Abbott & Democrat & State Legislative & State Representative & Montana - MT  & 83 & White\\\\\n",
       "\t3 & 566417k & 2019 & Kim   & K. & Abbott & Democrat & State Legislative & State Representative & Montana - MT  & 83 & White\\\\\n",
       "\t4 & 566417k & 2020 & Kim   & K. & Abbott & Democrat & State Legislative & State Representative & Montana - MT  & 83 & White\\\\\n",
       "\t5 & 14772c  & 2010 & Robin & A. & Abbott & Democrat & State Legislative & State Representative & Virginia - VA & 93 & White\\\\\n",
       "\t6 & 14772c  & 2011 & Robin & A. & Abbott & Democrat & State Legislative & State Representative & Virginia - VA & 93 & White\\\\\n",
       "\\end{tabular}\n"
      ],
      "text/markdown": [
       "\n",
       "A data.frame: 6 × 11\n",
       "\n",
       "| <!--/--> | id &lt;chr&gt; | year &lt;int&gt; | first_name &lt;chr&gt; | middle_name &lt;chr&gt; | last_name &lt;chr&gt; | party &lt;chr&gt; | level &lt;chr&gt; | position &lt;chr&gt; | state &lt;chr&gt; | district &lt;chr&gt; | race_ethnicity &lt;chr&gt; |\n",
       "|---|---|---|---|---|---|---|---|---|---|---|---|\n",
       "| 1 | 566417k | 2017 | Kim   | K. | Abbott | Democrat | State Legislative | State Representative | Montana - MT  | 83 | White |\n",
       "| 2 | 566417k | 2018 | Kim   | K. | Abbott | Democrat | State Legislative | State Representative | Montana - MT  | 83 | White |\n",
       "| 3 | 566417k | 2019 | Kim   | K. | Abbott | Democrat | State Legislative | State Representative | Montana - MT  | 83 | White |\n",
       "| 4 | 566417k | 2020 | Kim   | K. | Abbott | Democrat | State Legislative | State Representative | Montana - MT  | 83 | White |\n",
       "| 5 | 14772c  | 2010 | Robin | A. | Abbott | Democrat | State Legislative | State Representative | Virginia - VA | 93 | White |\n",
       "| 6 | 14772c  | 2011 | Robin | A. | Abbott | Democrat | State Legislative | State Representative | Virginia - VA | 93 | White |\n",
       "\n"
      ],
      "text/plain": [
       "  id      year first_name middle_name last_name party    level            \n",
       "1 566417k 2017 Kim        K.          Abbott    Democrat State Legislative\n",
       "2 566417k 2018 Kim        K.          Abbott    Democrat State Legislative\n",
       "3 566417k 2019 Kim        K.          Abbott    Democrat State Legislative\n",
       "4 566417k 2020 Kim        K.          Abbott    Democrat State Legislative\n",
       "5 14772c  2010 Robin      A.          Abbott    Democrat State Legislative\n",
       "6 14772c  2011 Robin      A.          Abbott    Democrat State Legislative\n",
       "  position             state         district race_ethnicity\n",
       "1 State Representative Montana - MT  83       White         \n",
       "2 State Representative Montana - MT  83       White         \n",
       "3 State Representative Montana - MT  83       White         \n",
       "4 State Representative Montana - MT  83       White         \n",
       "5 State Representative Virginia - VA 93       White         \n",
       "6 State Representative Virginia - VA 93       White         "
      ]
     },
     "metadata": {},
     "output_type": "display_data"
    }
   ],
   "source": [
    "state_leg_df <- womenwinning_df%>%filter(level == \"State Legislative\")\n",
    "        \n",
    "head(state_leg_df)"
   ]
  },
  {
   "cell_type": "code",
   "execution_count": 61,
   "metadata": {},
   "outputs": [
    {
     "data": {
      "text/html": [
       "<style>\n",
       ".list-inline {list-style: none; margin:0; padding: 0}\n",
       ".list-inline>li {display: inline-block}\n",
       ".list-inline>li:not(:last-child)::after {content: \"\\00b7\"; padding: 0 .5ex}\n",
       "</style>\n",
       "<ol class=list-inline><li>24540</li><li>11</li></ol>\n"
      ],
      "text/latex": [
       "\\begin{enumerate*}\n",
       "\\item 24540\n",
       "\\item 11\n",
       "\\end{enumerate*}\n"
      ],
      "text/markdown": [
       "1. 24540\n",
       "2. 11\n",
       "\n",
       "\n"
      ],
      "text/plain": [
       "[1] 24540    11"
      ]
     },
     "metadata": {},
     "output_type": "display_data"
    }
   ],
   "source": [
    "dim(state_leg_df) "
   ]
  },
  {
   "cell_type": "code",
   "execution_count": 62,
   "metadata": {},
   "outputs": [
    {
     "name": "stdout",
     "output_type": "stream",
     "text": [
      "\n",
      "State Representative        State Senator \n",
      "               18620                 5920 \n"
     ]
    }
   ],
   "source": [
    "tbl_of_positions2 <- table(state_leg_df[\"position\"])\n",
    "print(tbl_of_positions2) #checking for cleanness"
   ]
  },
  {
   "cell_type": "markdown",
   "metadata": {},
   "source": [
    "### Looking at Women by State, Year, Race, Region"
   ]
  },
  {
   "cell_type": "code",
   "execution_count": 63,
   "metadata": {},
   "outputs": [
    {
     "name": "stdout",
     "output_type": "stream",
     "text": [
      "\n",
      "       Alabama - AL         Alaska - AK        Arizona - AZ       Arkansas - AR \n",
      "                262                 218                 428                 369 \n",
      "    California - CA       Colorado - CO    Connecticut - CT       Delaware - DE \n",
      "                425                 542                 729                 202 \n",
      "       Florida - FL        Georgia - GA           Guam - GU         Hawaii - HI \n",
      "                559                 750                  11                 316 \n",
      "         Idaho - ID       Illinois - IL        Indiana - IN           Iowa - IA \n",
      "                392                 763                 423                 466 \n",
      "        Kansas - KS       Kentucky - KY      Louisiana - LA          Maine - ME \n",
      "                596                 325                 280                 770 \n",
      "      Maryland - MD  Massachusetts - MA       Michigan - MI      Minnesota - MN \n",
      "                805                 684                 467                 872 \n",
      "   Mississippi - MS       Missouri - MO        Montana - MT       Nebraska - NE \n",
      "                354                 612                 542                 148 \n",
      "        Nevada - NV  New Hampshire - NH     New Jersey - NJ     New Mexico - NM \n",
      "                293                1762                 481                 441 \n",
      "      New York - NY North Carolina - NC   North Dakota - ND           Ohio - OH \n",
      "                718                 557                 331                 409 \n",
      "      Oklahoma - OK         Oregon - OR   Pennsylvania - PA    Puerto Rico - PR \n",
      "                279                 388                 620                   9 \n",
      "  Rhode Island - RI South Carolina - SC   South Dakota - SD      Tennessee - TN \n",
      "                416                 285                 292                 297 \n",
      "         Texas - TX           Utah - UT        Vermont - VT       Virginia - VA \n",
      "                512                 266                 931                 373 \n",
      "    Washington - WA  West Virginia - WV      Wisconsin - WI        Wyoming - WY \n",
      "                680                 278                 429                 183 \n"
     ]
    }
   ],
   "source": [
    "tbl_by_state <- table(state_leg_df[\"state\"]) #gotta convert this to a string, \n",
    "                                             #and then we could do percents too\n",
    "print(tbl_by_state) #raw number based on location"
   ]
  },
  {
   "cell_type": "code",
   "execution_count": 64,
   "metadata": {},
   "outputs": [
    {
     "name": "stderr",
     "output_type": "stream",
     "text": [
      "`summarise()` ungrouping output (override with `.groups` argument)\n",
      "\n"
     ]
    },
    {
     "name": "stdout",
     "output_type": "stream",
     "text": [
      "\u001b[90m# A tibble: 13 x 2\u001b[39m\n",
      "    year count\n",
      "   \u001b[3m\u001b[90m<int>\u001b[39m\u001b[23m \u001b[3m\u001b[90m<int>\u001b[39m\u001b[23m\n",
      "\u001b[90m 1\u001b[39m  \u001b[4m2\u001b[24m008  \u001b[4m1\u001b[24m782\n",
      "\u001b[90m 2\u001b[39m  \u001b[4m2\u001b[24m009  \u001b[4m1\u001b[24m839\n",
      "\u001b[90m 3\u001b[39m  \u001b[4m2\u001b[24m010  \u001b[4m1\u001b[24m844\n",
      "\u001b[90m 4\u001b[39m  \u001b[4m2\u001b[24m011  \u001b[4m1\u001b[24m786\n",
      "\u001b[90m 5\u001b[39m  \u001b[4m2\u001b[24m012  \u001b[4m1\u001b[24m778\n",
      "\u001b[90m 6\u001b[39m  \u001b[4m2\u001b[24m013  \u001b[4m1\u001b[24m828\n",
      "\u001b[90m 7\u001b[39m  \u001b[4m2\u001b[24m014  \u001b[4m1\u001b[24m829\n",
      "\u001b[90m 8\u001b[39m  \u001b[4m2\u001b[24m015  \u001b[4m1\u001b[24m846\n",
      "\u001b[90m 9\u001b[39m  \u001b[4m2\u001b[24m016  \u001b[4m1\u001b[24m828\n",
      "\u001b[90m10\u001b[39m  \u001b[4m2\u001b[24m017  \u001b[4m1\u001b[24m893\n",
      "\u001b[90m11\u001b[39m  \u001b[4m2\u001b[24m018  \u001b[4m1\u001b[24m914\n",
      "\u001b[90m12\u001b[39m  \u001b[4m2\u001b[24m019  \u001b[4m2\u001b[24m169\n",
      "\u001b[90m13\u001b[39m  \u001b[4m2\u001b[24m020  \u001b[4m2\u001b[24m204\n"
     ]
    }
   ],
   "source": [
    "state_leg_yr <- state_leg_df%>%\n",
    "    group_by(year) %>%\n",
    "    summarize(count = n())\n",
    "print(state_leg_yr)"
   ]
  },
  {
   "cell_type": "code",
   "execution_count": 65,
   "metadata": {},
   "outputs": [
    {
     "name": "stderr",
     "output_type": "stream",
     "text": [
      "`summarise()` ungrouping output (override with `.groups` argument)\n",
      "\n"
     ]
    },
    {
     "name": "stdout",
     "output_type": "stream",
     "text": [
      "\u001b[90m# A tibble: 2 x 2\u001b[39m\n",
      "  `race_ethnicity == \"White\"` count\n",
      "  \u001b[3m\u001b[90m<lgl>\u001b[39m\u001b[23m                       \u001b[3m\u001b[90m<int>\u001b[39m\u001b[23m\n",
      "\u001b[90m1\u001b[39m FALSE                        \u001b[4m5\u001b[24m483\n",
      "\u001b[90m2\u001b[39m TRUE                        \u001b[4m1\u001b[24m\u001b[4m9\u001b[24m057\n"
     ]
    }
   ],
   "source": [
    "state_leg_race <- state_leg_df%>%\n",
    "    group_by(race_ethnicity == \"White\") %>%\n",
    "    summarize(count = n())\n",
    "print(state_leg_race)"
   ]
  },
  {
   "cell_type": "code",
   "execution_count": 66,
   "metadata": {},
   "outputs": [
    {
     "name": "stderr",
     "output_type": "stream",
     "text": [
      "`summarise()` ungrouping output (override with `.groups` argument)\n",
      "\n"
     ]
    },
    {
     "name": "stdout",
     "output_type": "stream",
     "text": [
      "\u001b[90m# A tibble: 21 x 2\u001b[39m\n",
      "   race_ethnicity                                              count\n",
      "   \u001b[3m\u001b[90m<chr>\u001b[39m\u001b[23m                                                       \u001b[3m\u001b[90m<int>\u001b[39m\u001b[23m\n",
      "\u001b[90m 1\u001b[39m Asian/Pacific Islander                                        497\n",
      "\u001b[90m 2\u001b[39m Black/African American                                       \u001b[4m3\u001b[24m412\n",
      "\u001b[90m 3\u001b[39m Hispanic/Latina                                              \u001b[4m1\u001b[24m181\n",
      "\u001b[90m 4\u001b[39m Middle Eastern/North African                                   18\n",
      "\u001b[90m 5\u001b[39m Multiracial                                                    13\n",
      "\u001b[90m 6\u001b[39m Multiracial, Black/African American, Asian/Pacific Islander     2\n",
      "\u001b[90m 7\u001b[39m Multiracial, Black/African American, Hispanic/Latina           13\n",
      "\u001b[90m 8\u001b[39m Multiracial, Black/African American, Native American           13\n",
      "\u001b[90m 9\u001b[39m Multiracial, Hispanic/Latina, Asian/Pacific Islander           15\n",
      "\u001b[90m10\u001b[39m Multiracial, Hispanic/Latina, Native American                  10\n",
      "\u001b[90m# … with 11 more rows\u001b[39m\n"
     ]
    }
   ],
   "source": [
    "state_leg_race <- state_leg_df%>%       #it's a little weird that \"White\" doesn't come up here?\n",
    "group_by(race_ethnicity) %>%\n",
    "    summarize(count = n())\n",
    "print(state_leg_race)"
   ]
  },
  {
   "cell_type": "code",
   "execution_count": 67,
   "metadata": {},
   "outputs": [
    {
     "data": {
      "text/html": [
       "<table>\n",
       "<caption>A data.frame: 6 × 11</caption>\n",
       "<thead>\n",
       "\t<tr><th></th><th scope=col>id</th><th scope=col>year</th><th scope=col>first_name</th><th scope=col>middle_name</th><th scope=col>last_name</th><th scope=col>party</th><th scope=col>level</th><th scope=col>position</th><th scope=col>state</th><th scope=col>district</th><th scope=col>race_ethnicity</th></tr>\n",
       "\t<tr><th></th><th scope=col>&lt;chr&gt;</th><th scope=col>&lt;int&gt;</th><th scope=col>&lt;chr&gt;</th><th scope=col>&lt;chr&gt;</th><th scope=col>&lt;chr&gt;</th><th scope=col>&lt;chr&gt;</th><th scope=col>&lt;chr&gt;</th><th scope=col>&lt;chr&gt;</th><th scope=col>&lt;chr&gt;</th><th scope=col>&lt;chr&gt;</th><th scope=col>&lt;chr&gt;</th></tr>\n",
       "</thead>\n",
       "<tbody>\n",
       "\t<tr><th scope=row>1</th><td>566417k</td><td>2017</td><td>Kim  </td><td>K.</td><td>Abbott</td><td>Democrat</td><td>State Legislative</td><td>State Representative</td><td>Montana - MT </td><td>83</td><td>White</td></tr>\n",
       "\t<tr><th scope=row>2</th><td>566417k</td><td>2018</td><td>Kim  </td><td>K.</td><td>Abbott</td><td>Democrat</td><td>State Legislative</td><td>State Representative</td><td>Montana - MT </td><td>83</td><td>White</td></tr>\n",
       "\t<tr><th scope=row>3</th><td>566417k</td><td>2019</td><td>Kim  </td><td>K.</td><td>Abbott</td><td>Democrat</td><td>State Legislative</td><td>State Representative</td><td>Montana - MT </td><td>83</td><td>White</td></tr>\n",
       "\t<tr><th scope=row>4</th><td>566417k</td><td>2020</td><td>Kim  </td><td>K.</td><td>Abbott</td><td>Democrat</td><td>State Legislative</td><td>State Representative</td><td>Montana - MT </td><td>83</td><td>White</td></tr>\n",
       "\t<tr><th scope=row>5</th><td>14772c </td><td>2010</td><td>Robin</td><td>A.</td><td>Abbott</td><td>Democrat</td><td>State Legislative</td><td>State Representative</td><td>Virginia - VA</td><td>93</td><td>White</td></tr>\n",
       "\t<tr><th scope=row>6</th><td>14772c </td><td>2011</td><td>Robin</td><td>A.</td><td>Abbott</td><td>Democrat</td><td>State Legislative</td><td>State Representative</td><td>Virginia - VA</td><td>93</td><td>White</td></tr>\n",
       "</tbody>\n",
       "</table>\n"
      ],
      "text/latex": [
       "A data.frame: 6 × 11\n",
       "\\begin{tabular}{r|lllllllllll}\n",
       "  & id & year & first\\_name & middle\\_name & last\\_name & party & level & position & state & district & race\\_ethnicity\\\\\n",
       "  & <chr> & <int> & <chr> & <chr> & <chr> & <chr> & <chr> & <chr> & <chr> & <chr> & <chr>\\\\\n",
       "\\hline\n",
       "\t1 & 566417k & 2017 & Kim   & K. & Abbott & Democrat & State Legislative & State Representative & Montana - MT  & 83 & White\\\\\n",
       "\t2 & 566417k & 2018 & Kim   & K. & Abbott & Democrat & State Legislative & State Representative & Montana - MT  & 83 & White\\\\\n",
       "\t3 & 566417k & 2019 & Kim   & K. & Abbott & Democrat & State Legislative & State Representative & Montana - MT  & 83 & White\\\\\n",
       "\t4 & 566417k & 2020 & Kim   & K. & Abbott & Democrat & State Legislative & State Representative & Montana - MT  & 83 & White\\\\\n",
       "\t5 & 14772c  & 2010 & Robin & A. & Abbott & Democrat & State Legislative & State Representative & Virginia - VA & 93 & White\\\\\n",
       "\t6 & 14772c  & 2011 & Robin & A. & Abbott & Democrat & State Legislative & State Representative & Virginia - VA & 93 & White\\\\\n",
       "\\end{tabular}\n"
      ],
      "text/markdown": [
       "\n",
       "A data.frame: 6 × 11\n",
       "\n",
       "| <!--/--> | id &lt;chr&gt; | year &lt;int&gt; | first_name &lt;chr&gt; | middle_name &lt;chr&gt; | last_name &lt;chr&gt; | party &lt;chr&gt; | level &lt;chr&gt; | position &lt;chr&gt; | state &lt;chr&gt; | district &lt;chr&gt; | race_ethnicity &lt;chr&gt; |\n",
       "|---|---|---|---|---|---|---|---|---|---|---|---|\n",
       "| 1 | 566417k | 2017 | Kim   | K. | Abbott | Democrat | State Legislative | State Representative | Montana - MT  | 83 | White |\n",
       "| 2 | 566417k | 2018 | Kim   | K. | Abbott | Democrat | State Legislative | State Representative | Montana - MT  | 83 | White |\n",
       "| 3 | 566417k | 2019 | Kim   | K. | Abbott | Democrat | State Legislative | State Representative | Montana - MT  | 83 | White |\n",
       "| 4 | 566417k | 2020 | Kim   | K. | Abbott | Democrat | State Legislative | State Representative | Montana - MT  | 83 | White |\n",
       "| 5 | 14772c  | 2010 | Robin | A. | Abbott | Democrat | State Legislative | State Representative | Virginia - VA | 93 | White |\n",
       "| 6 | 14772c  | 2011 | Robin | A. | Abbott | Democrat | State Legislative | State Representative | Virginia - VA | 93 | White |\n",
       "\n"
      ],
      "text/plain": [
       "  id      year first_name middle_name last_name party    level            \n",
       "1 566417k 2017 Kim        K.          Abbott    Democrat State Legislative\n",
       "2 566417k 2018 Kim        K.          Abbott    Democrat State Legislative\n",
       "3 566417k 2019 Kim        K.          Abbott    Democrat State Legislative\n",
       "4 566417k 2020 Kim        K.          Abbott    Democrat State Legislative\n",
       "5 14772c  2010 Robin      A.          Abbott    Democrat State Legislative\n",
       "6 14772c  2011 Robin      A.          Abbott    Democrat State Legislative\n",
       "  position             state         district race_ethnicity\n",
       "1 State Representative Montana - MT  83       White         \n",
       "2 State Representative Montana - MT  83       White         \n",
       "3 State Representative Montana - MT  83       White         \n",
       "4 State Representative Montana - MT  83       White         \n",
       "5 State Representative Virginia - VA 93       White         \n",
       "6 State Representative Virginia - VA 93       White         "
      ]
     },
     "metadata": {},
     "output_type": "display_data"
    }
   ],
   "source": [
    "head(state_leg_df)"
   ]
  },
  {
   "cell_type": "code",
   "execution_count": 76,
   "metadata": {},
   "outputs": [
    {
     "data": {
      "text/html": [
       "<table>\n",
       "<caption>A data.frame: 6 × 12</caption>\n",
       "<thead>\n",
       "\t<tr><th></th><th scope=col>id</th><th scope=col>year</th><th scope=col>first_name</th><th scope=col>middle_name</th><th scope=col>last_name</th><th scope=col>party</th><th scope=col>level</th><th scope=col>position</th><th scope=col>state</th><th scope=col>district</th><th scope=col>race_ethnicity</th><th scope=col>region</th></tr>\n",
       "\t<tr><th></th><th scope=col>&lt;chr&gt;</th><th scope=col>&lt;int&gt;</th><th scope=col>&lt;chr&gt;</th><th scope=col>&lt;chr&gt;</th><th scope=col>&lt;chr&gt;</th><th scope=col>&lt;chr&gt;</th><th scope=col>&lt;chr&gt;</th><th scope=col>&lt;chr&gt;</th><th scope=col>&lt;chr&gt;</th><th scope=col>&lt;chr&gt;</th><th scope=col>&lt;chr&gt;</th><th scope=col>&lt;chr&gt;</th></tr>\n",
       "</thead>\n",
       "<tbody>\n",
       "\t<tr><th scope=row>1</th><td>566417k</td><td>2017</td><td>Kim  </td><td>K.</td><td>Abbott</td><td>Democrat</td><td>State Legislative</td><td>State Representative</td><td>Montana - MT </td><td>83</td><td>White</td><td>West </td></tr>\n",
       "\t<tr><th scope=row>2</th><td>566417k</td><td>2018</td><td>Kim  </td><td>K.</td><td>Abbott</td><td>Democrat</td><td>State Legislative</td><td>State Representative</td><td>Montana - MT </td><td>83</td><td>White</td><td>West </td></tr>\n",
       "\t<tr><th scope=row>3</th><td>566417k</td><td>2019</td><td>Kim  </td><td>K.</td><td>Abbott</td><td>Democrat</td><td>State Legislative</td><td>State Representative</td><td>Montana - MT </td><td>83</td><td>White</td><td>West </td></tr>\n",
       "\t<tr><th scope=row>4</th><td>566417k</td><td>2020</td><td>Kim  </td><td>K.</td><td>Abbott</td><td>Democrat</td><td>State Legislative</td><td>State Representative</td><td>Montana - MT </td><td>83</td><td>White</td><td>West </td></tr>\n",
       "\t<tr><th scope=row>5</th><td>14772c </td><td>2010</td><td>Robin</td><td>A.</td><td>Abbott</td><td>Democrat</td><td>State Legislative</td><td>State Representative</td><td>Virginia - VA</td><td>93</td><td>White</td><td>South</td></tr>\n",
       "\t<tr><th scope=row>6</th><td>14772c </td><td>2011</td><td>Robin</td><td>A.</td><td>Abbott</td><td>Democrat</td><td>State Legislative</td><td>State Representative</td><td>Virginia - VA</td><td>93</td><td>White</td><td>South</td></tr>\n",
       "</tbody>\n",
       "</table>\n"
      ],
      "text/latex": [
       "A data.frame: 6 × 12\n",
       "\\begin{tabular}{r|llllllllllll}\n",
       "  & id & year & first\\_name & middle\\_name & last\\_name & party & level & position & state & district & race\\_ethnicity & region\\\\\n",
       "  & <chr> & <int> & <chr> & <chr> & <chr> & <chr> & <chr> & <chr> & <chr> & <chr> & <chr> & <chr>\\\\\n",
       "\\hline\n",
       "\t1 & 566417k & 2017 & Kim   & K. & Abbott & Democrat & State Legislative & State Representative & Montana - MT  & 83 & White & West \\\\\n",
       "\t2 & 566417k & 2018 & Kim   & K. & Abbott & Democrat & State Legislative & State Representative & Montana - MT  & 83 & White & West \\\\\n",
       "\t3 & 566417k & 2019 & Kim   & K. & Abbott & Democrat & State Legislative & State Representative & Montana - MT  & 83 & White & West \\\\\n",
       "\t4 & 566417k & 2020 & Kim   & K. & Abbott & Democrat & State Legislative & State Representative & Montana - MT  & 83 & White & West \\\\\n",
       "\t5 & 14772c  & 2010 & Robin & A. & Abbott & Democrat & State Legislative & State Representative & Virginia - VA & 93 & White & South\\\\\n",
       "\t6 & 14772c  & 2011 & Robin & A. & Abbott & Democrat & State Legislative & State Representative & Virginia - VA & 93 & White & South\\\\\n",
       "\\end{tabular}\n"
      ],
      "text/markdown": [
       "\n",
       "A data.frame: 6 × 12\n",
       "\n",
       "| <!--/--> | id &lt;chr&gt; | year &lt;int&gt; | first_name &lt;chr&gt; | middle_name &lt;chr&gt; | last_name &lt;chr&gt; | party &lt;chr&gt; | level &lt;chr&gt; | position &lt;chr&gt; | state &lt;chr&gt; | district &lt;chr&gt; | race_ethnicity &lt;chr&gt; | region &lt;chr&gt; |\n",
       "|---|---|---|---|---|---|---|---|---|---|---|---|---|\n",
       "| 1 | 566417k | 2017 | Kim   | K. | Abbott | Democrat | State Legislative | State Representative | Montana - MT  | 83 | White | West  |\n",
       "| 2 | 566417k | 2018 | Kim   | K. | Abbott | Democrat | State Legislative | State Representative | Montana - MT  | 83 | White | West  |\n",
       "| 3 | 566417k | 2019 | Kim   | K. | Abbott | Democrat | State Legislative | State Representative | Montana - MT  | 83 | White | West  |\n",
       "| 4 | 566417k | 2020 | Kim   | K. | Abbott | Democrat | State Legislative | State Representative | Montana - MT  | 83 | White | West  |\n",
       "| 5 | 14772c  | 2010 | Robin | A. | Abbott | Democrat | State Legislative | State Representative | Virginia - VA | 93 | White | South |\n",
       "| 6 | 14772c  | 2011 | Robin | A. | Abbott | Democrat | State Legislative | State Representative | Virginia - VA | 93 | White | South |\n",
       "\n"
      ],
      "text/plain": [
       "  id      year first_name middle_name last_name party    level            \n",
       "1 566417k 2017 Kim        K.          Abbott    Democrat State Legislative\n",
       "2 566417k 2018 Kim        K.          Abbott    Democrat State Legislative\n",
       "3 566417k 2019 Kim        K.          Abbott    Democrat State Legislative\n",
       "4 566417k 2020 Kim        K.          Abbott    Democrat State Legislative\n",
       "5 14772c  2010 Robin      A.          Abbott    Democrat State Legislative\n",
       "6 14772c  2011 Robin      A.          Abbott    Democrat State Legislative\n",
       "  position             state         district race_ethnicity region\n",
       "1 State Representative Montana - MT  83       White          West  \n",
       "2 State Representative Montana - MT  83       White          West  \n",
       "3 State Representative Montana - MT  83       White          West  \n",
       "4 State Representative Montana - MT  83       White          West  \n",
       "5 State Representative Virginia - VA 93       White          South \n",
       "6 State Representative Virginia - VA 93       White          South "
      ]
     },
     "metadata": {},
     "output_type": "display_data"
    }
   ],
   "source": [
    "states_northeast <- c(\"Connecticut - CT\", \"Delaware - DE\", \"Maine - ME\", \"Massachusetts - MA\",\n",
    "                      \"New Hampshire - NH\", \"New Jersey - NJ\", \"New York - NY\", \"Pennsylvania - PA\", \n",
    "                      \"Rhode Island - RI\", \"Vermont - VT\")\n",
    "states_west <- c(\"Alaska - AK\", \"Arizona - AZ\", \"California - CA\", \"Colorado - CO\", \"Hawaii - HI\", \"Idaho - ID\", \"Nevada - NV\", \"Montana - MT\",\n",
    "                 \"New Mexico - NM\", \"Oregon - OR\", \"Washington - WA\", \"Wyoming - WY\")\n",
    "states_midwest <- c(\"Indiana - IN\", \"Illinois - IL\", \"Iowa - IA\", \"Kansas - KS\", \"Michigan - MI\", \"Minnesota - MN\", \"Missouri - MO\", \n",
    "                    \"Nebraska - NE\", \"North Dakota - ND\", \"Ohio - OH\", \"South Dakota - SD\", \"Wisconsin - WI\")\n",
    "states_south <- c(\"Alabama - AL\", \"Arkansas - AR\", \n",
    "                  \"Florida - FL\", \"Georgia - GA\", \"Kentucky - KY\", \"Louisiana - LA\", \"Maryland - MD\", \"Mississippi - MS\", \n",
    "                  \"North Carolina - NC\", \"Oklahoma - OK\", \"South Carolina - SC\", \"Tennessee - TN\", \"Texas - TX\", \n",
    "                  \"Virginia - VA\", \"West Virginia - WV\")\n",
    "\n",
    "\n",
    "# Replace \"dataset\" with name of your dataset\n",
    "state_leg_df <- state_leg_df %>%\n",
    "  mutate(region = case_when(state %in% states_northeast ~ \"Northeast\",\n",
    "                            state %in% states_west ~ \"West\",\n",
    "                            state %in% states_midwest ~ \"Midwest\",\n",
    "                            state %in% states_south ~ \"South\",\n",
    "                            TRUE ~ \"Other\"))\n",
    "\n",
    "head(state_leg_df)"
   ]
  },
  {
   "cell_type": "code",
   "execution_count": 78,
   "metadata": {},
   "outputs": [
    {
     "name": "stderr",
     "output_type": "stream",
     "text": [
      "`summarise()` ungrouping output (override with `.groups` argument)\n",
      "\n"
     ]
    },
    {
     "name": "stdout",
     "output_type": "stream",
     "text": [
      "\u001b[90m# A tibble: 5 x 2\u001b[39m\n",
      "  region    count\n",
      "  \u001b[3m\u001b[90m<chr>\u001b[39m\u001b[23m     \u001b[3m\u001b[90m<int>\u001b[39m\u001b[23m\n",
      "\u001b[90m1\u001b[39m Midwest    \u001b[4m5\u001b[24m808\n",
      "\u001b[90m2\u001b[39m Northeast  \u001b[4m7\u001b[24m313\n",
      "\u001b[90m3\u001b[39m Other       286\n",
      "\u001b[90m4\u001b[39m South      \u001b[4m6\u001b[24m285\n",
      "\u001b[90m5\u001b[39m West       \u001b[4m4\u001b[24m848\n"
     ]
    }
   ],
   "source": [
    "state_leg_region <- state_leg_df%>%\n",
    "    group_by(region) %>%\n",
    "    summarize(count = n())\n",
    "print(state_leg_region)"
   ]
  },
  {
   "cell_type": "code",
   "execution_count": null,
   "metadata": {},
   "outputs": [],
   "source": []
  },
  {
   "cell_type": "code",
   "execution_count": null,
   "metadata": {},
   "outputs": [],
   "source": []
  },
  {
   "cell_type": "code",
   "execution_count": null,
   "metadata": {},
   "outputs": [],
   "source": []
  }
 ],
 "metadata": {
  "kernelspec": {
   "display_name": "R",
   "language": "R",
   "name": "ir"
  },
  "language_info": {
   "codemirror_mode": "r",
   "file_extension": ".r",
   "mimetype": "text/x-r-source",
   "name": "R",
   "pygments_lexer": "r",
   "version": "4.0.0"
  }
 },
 "nbformat": 4,
 "nbformat_minor": 4
}
