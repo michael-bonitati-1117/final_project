{
 "cells": [
  {
   "cell_type": "code",
   "execution_count": 20,
   "metadata": {},
   "outputs": [],
   "source": [
    "library(dplyr)\n",
    "womenwinning_df <- read.csv(\"officeholders_race_ethnicity.csv\")"
   ]
  },
  {
   "cell_type": "markdown",
   "metadata": {},
   "source": [
    "### Intial exploring"
   ]
  },
  {
   "cell_type": "code",
   "execution_count": 21,
   "metadata": {},
   "outputs": [
    {
     "data": {
      "text/html": [
       "<table>\n",
       "<caption>A data.frame: 6 × 11</caption>\n",
       "<thead>\n",
       "\t<tr><th></th><th scope=col>id</th><th scope=col>year</th><th scope=col>first_name</th><th scope=col>middle_name</th><th scope=col>last_name</th><th scope=col>party</th><th scope=col>level</th><th scope=col>position</th><th scope=col>state</th><th scope=col>district</th><th scope=col>race_ethnicity</th></tr>\n",
       "\t<tr><th></th><th scope=col>&lt;chr&gt;</th><th scope=col>&lt;int&gt;</th><th scope=col>&lt;chr&gt;</th><th scope=col>&lt;chr&gt;</th><th scope=col>&lt;chr&gt;</th><th scope=col>&lt;chr&gt;</th><th scope=col>&lt;chr&gt;</th><th scope=col>&lt;chr&gt;</th><th scope=col>&lt;chr&gt;</th><th scope=col>&lt;chr&gt;</th><th scope=col>&lt;chr&gt;</th></tr>\n",
       "</thead>\n",
       "<tbody>\n",
       "\t<tr><th scope=row>1</th><td>566417k</td><td>2017</td><td>Kim  </td><td>K.</td><td>Abbott</td><td>Democrat</td><td>State Legislative</td><td>State Representative</td><td>Montana - MT </td><td>83</td><td>White</td></tr>\n",
       "\t<tr><th scope=row>2</th><td>566417k</td><td>2018</td><td>Kim  </td><td>K.</td><td>Abbott</td><td>Democrat</td><td>State Legislative</td><td>State Representative</td><td>Montana - MT </td><td>83</td><td>White</td></tr>\n",
       "\t<tr><th scope=row>3</th><td>566417k</td><td>2019</td><td>Kim  </td><td>K.</td><td>Abbott</td><td>Democrat</td><td>State Legislative</td><td>State Representative</td><td>Montana - MT </td><td>83</td><td>White</td></tr>\n",
       "\t<tr><th scope=row>4</th><td>566417k</td><td>2020</td><td>Kim  </td><td>K.</td><td>Abbott</td><td>Democrat</td><td>State Legislative</td><td>State Representative</td><td>Montana - MT </td><td>83</td><td>White</td></tr>\n",
       "\t<tr><th scope=row>5</th><td>14772c </td><td>2010</td><td>Robin</td><td>A.</td><td>Abbott</td><td>Democrat</td><td>State Legislative</td><td>State Representative</td><td>Virginia - VA</td><td>93</td><td>White</td></tr>\n",
       "\t<tr><th scope=row>6</th><td>14772c </td><td>2011</td><td>Robin</td><td>A.</td><td>Abbott</td><td>Democrat</td><td>State Legislative</td><td>State Representative</td><td>Virginia - VA</td><td>93</td><td>White</td></tr>\n",
       "</tbody>\n",
       "</table>\n"
      ],
      "text/latex": [
       "A data.frame: 6 × 11\n",
       "\\begin{tabular}{r|lllllllllll}\n",
       "  & id & year & first\\_name & middle\\_name & last\\_name & party & level & position & state & district & race\\_ethnicity\\\\\n",
       "  & <chr> & <int> & <chr> & <chr> & <chr> & <chr> & <chr> & <chr> & <chr> & <chr> & <chr>\\\\\n",
       "\\hline\n",
       "\t1 & 566417k & 2017 & Kim   & K. & Abbott & Democrat & State Legislative & State Representative & Montana - MT  & 83 & White\\\\\n",
       "\t2 & 566417k & 2018 & Kim   & K. & Abbott & Democrat & State Legislative & State Representative & Montana - MT  & 83 & White\\\\\n",
       "\t3 & 566417k & 2019 & Kim   & K. & Abbott & Democrat & State Legislative & State Representative & Montana - MT  & 83 & White\\\\\n",
       "\t4 & 566417k & 2020 & Kim   & K. & Abbott & Democrat & State Legislative & State Representative & Montana - MT  & 83 & White\\\\\n",
       "\t5 & 14772c  & 2010 & Robin & A. & Abbott & Democrat & State Legislative & State Representative & Virginia - VA & 93 & White\\\\\n",
       "\t6 & 14772c  & 2011 & Robin & A. & Abbott & Democrat & State Legislative & State Representative & Virginia - VA & 93 & White\\\\\n",
       "\\end{tabular}\n"
      ],
      "text/markdown": [
       "\n",
       "A data.frame: 6 × 11\n",
       "\n",
       "| <!--/--> | id &lt;chr&gt; | year &lt;int&gt; | first_name &lt;chr&gt; | middle_name &lt;chr&gt; | last_name &lt;chr&gt; | party &lt;chr&gt; | level &lt;chr&gt; | position &lt;chr&gt; | state &lt;chr&gt; | district &lt;chr&gt; | race_ethnicity &lt;chr&gt; |\n",
       "|---|---|---|---|---|---|---|---|---|---|---|---|\n",
       "| 1 | 566417k | 2017 | Kim   | K. | Abbott | Democrat | State Legislative | State Representative | Montana - MT  | 83 | White |\n",
       "| 2 | 566417k | 2018 | Kim   | K. | Abbott | Democrat | State Legislative | State Representative | Montana - MT  | 83 | White |\n",
       "| 3 | 566417k | 2019 | Kim   | K. | Abbott | Democrat | State Legislative | State Representative | Montana - MT  | 83 | White |\n",
       "| 4 | 566417k | 2020 | Kim   | K. | Abbott | Democrat | State Legislative | State Representative | Montana - MT  | 83 | White |\n",
       "| 5 | 14772c  | 2010 | Robin | A. | Abbott | Democrat | State Legislative | State Representative | Virginia - VA | 93 | White |\n",
       "| 6 | 14772c  | 2011 | Robin | A. | Abbott | Democrat | State Legislative | State Representative | Virginia - VA | 93 | White |\n",
       "\n"
      ],
      "text/plain": [
       "  id      year first_name middle_name last_name party    level            \n",
       "1 566417k 2017 Kim        K.          Abbott    Democrat State Legislative\n",
       "2 566417k 2018 Kim        K.          Abbott    Democrat State Legislative\n",
       "3 566417k 2019 Kim        K.          Abbott    Democrat State Legislative\n",
       "4 566417k 2020 Kim        K.          Abbott    Democrat State Legislative\n",
       "5 14772c  2010 Robin      A.          Abbott    Democrat State Legislative\n",
       "6 14772c  2011 Robin      A.          Abbott    Democrat State Legislative\n",
       "  position             state         district race_ethnicity\n",
       "1 State Representative Montana - MT  83       White         \n",
       "2 State Representative Montana - MT  83       White         \n",
       "3 State Representative Montana - MT  83       White         \n",
       "4 State Representative Montana - MT  83       White         \n",
       "5 State Representative Virginia - VA 93       White         \n",
       "6 State Representative Virginia - VA 93       White         "
      ]
     },
     "metadata": {},
     "output_type": "display_data"
    }
   ],
   "source": [
    "head(womenwinning_df)"
   ]
  },
  {
   "cell_type": "code",
   "execution_count": 38,
   "metadata": {},
   "outputs": [
    {
     "data": {
      "text/plain": [
       "\n",
       "                                     Asian/Pacific Islander \n",
       "                                                        634 \n",
       "                                     Black/African American \n",
       "                                                       3695 \n",
       "                                            Hispanic/Latina \n",
       "                                                       1397 \n",
       "                               Middle Eastern/North African \n",
       "                                                         22 \n",
       "                                                Multiracial \n",
       "                                                         15 \n",
       "Multiracial, Black/African American, Asian/Pacific Islander \n",
       "                                                         18 "
      ]
     },
     "metadata": {},
     "output_type": "display_data"
    }
   ],
   "source": [
    "table_of_race <- table(womenwinning_df[\"race_ethnicity\"])\n",
    "head(table_of_race)"
   ]
  },
  {
   "cell_type": "code",
   "execution_count": 39,
   "metadata": {},
   "outputs": [
    {
     "data": {
      "text/plain": [
       "\n",
       "   Federal/Congress   State Legislative Statewide Executive    Territorial/D.C. \n",
       "               1381               24540                1017                 112 "
      ]
     },
     "metadata": {},
     "output_type": "display_data"
    }
   ],
   "source": [
    "table_of_levels <- table(womenwinning_df[\"level\"])\n",
    "head(table_of_levels)"
   ]
  },
  {
   "cell_type": "code",
   "execution_count": 40,
   "metadata": {},
   "outputs": [
    {
     "data": {
      "text/plain": [
       "\n",
       "             Agriculture         Attorney General                  Auditor \n",
       "                       9                       98                      106 \n",
       " Chief Financial Officer              Comptroller Corporation Commissioner \n",
       "                       3                       40                       34 "
      ]
     },
     "metadata": {},
     "output_type": "display_data"
    }
   ],
   "source": [
    "table_of_positions <- table(race_df[\"position\"])\n",
    "head(table_of_positions)"
   ]
  },
  {
   "cell_type": "markdown",
   "metadata": {},
   "source": [
    "### Making a dataframe with only the State Legislators"
   ]
  },
  {
   "cell_type": "code",
   "execution_count": 55,
   "metadata": {},
   "outputs": [
    {
     "data": {
      "text/html": [
       "<table>\n",
       "<caption>A data.frame: 6 × 11</caption>\n",
       "<thead>\n",
       "\t<tr><th></th><th scope=col>id</th><th scope=col>year</th><th scope=col>first_name</th><th scope=col>middle_name</th><th scope=col>last_name</th><th scope=col>party</th><th scope=col>level</th><th scope=col>position</th><th scope=col>state</th><th scope=col>district</th><th scope=col>race_ethnicity</th></tr>\n",
       "\t<tr><th></th><th scope=col>&lt;chr&gt;</th><th scope=col>&lt;int&gt;</th><th scope=col>&lt;chr&gt;</th><th scope=col>&lt;chr&gt;</th><th scope=col>&lt;chr&gt;</th><th scope=col>&lt;chr&gt;</th><th scope=col>&lt;chr&gt;</th><th scope=col>&lt;chr&gt;</th><th scope=col>&lt;chr&gt;</th><th scope=col>&lt;chr&gt;</th><th scope=col>&lt;chr&gt;</th></tr>\n",
       "</thead>\n",
       "<tbody>\n",
       "\t<tr><th scope=row>1</th><td>566417k</td><td>2017</td><td>Kim  </td><td>K.</td><td>Abbott</td><td>Democrat</td><td>State Legislative</td><td>State Representative</td><td>Montana - MT </td><td>83</td><td>White</td></tr>\n",
       "\t<tr><th scope=row>2</th><td>566417k</td><td>2018</td><td>Kim  </td><td>K.</td><td>Abbott</td><td>Democrat</td><td>State Legislative</td><td>State Representative</td><td>Montana - MT </td><td>83</td><td>White</td></tr>\n",
       "\t<tr><th scope=row>3</th><td>566417k</td><td>2019</td><td>Kim  </td><td>K.</td><td>Abbott</td><td>Democrat</td><td>State Legislative</td><td>State Representative</td><td>Montana - MT </td><td>83</td><td>White</td></tr>\n",
       "\t<tr><th scope=row>4</th><td>566417k</td><td>2020</td><td>Kim  </td><td>K.</td><td>Abbott</td><td>Democrat</td><td>State Legislative</td><td>State Representative</td><td>Montana - MT </td><td>83</td><td>White</td></tr>\n",
       "\t<tr><th scope=row>5</th><td>14772c </td><td>2010</td><td>Robin</td><td>A.</td><td>Abbott</td><td>Democrat</td><td>State Legislative</td><td>State Representative</td><td>Virginia - VA</td><td>93</td><td>White</td></tr>\n",
       "\t<tr><th scope=row>6</th><td>14772c </td><td>2011</td><td>Robin</td><td>A.</td><td>Abbott</td><td>Democrat</td><td>State Legislative</td><td>State Representative</td><td>Virginia - VA</td><td>93</td><td>White</td></tr>\n",
       "</tbody>\n",
       "</table>\n"
      ],
      "text/latex": [
       "A data.frame: 6 × 11\n",
       "\\begin{tabular}{r|lllllllllll}\n",
       "  & id & year & first\\_name & middle\\_name & last\\_name & party & level & position & state & district & race\\_ethnicity\\\\\n",
       "  & <chr> & <int> & <chr> & <chr> & <chr> & <chr> & <chr> & <chr> & <chr> & <chr> & <chr>\\\\\n",
       "\\hline\n",
       "\t1 & 566417k & 2017 & Kim   & K. & Abbott & Democrat & State Legislative & State Representative & Montana - MT  & 83 & White\\\\\n",
       "\t2 & 566417k & 2018 & Kim   & K. & Abbott & Democrat & State Legislative & State Representative & Montana - MT  & 83 & White\\\\\n",
       "\t3 & 566417k & 2019 & Kim   & K. & Abbott & Democrat & State Legislative & State Representative & Montana - MT  & 83 & White\\\\\n",
       "\t4 & 566417k & 2020 & Kim   & K. & Abbott & Democrat & State Legislative & State Representative & Montana - MT  & 83 & White\\\\\n",
       "\t5 & 14772c  & 2010 & Robin & A. & Abbott & Democrat & State Legislative & State Representative & Virginia - VA & 93 & White\\\\\n",
       "\t6 & 14772c  & 2011 & Robin & A. & Abbott & Democrat & State Legislative & State Representative & Virginia - VA & 93 & White\\\\\n",
       "\\end{tabular}\n"
      ],
      "text/markdown": [
       "\n",
       "A data.frame: 6 × 11\n",
       "\n",
       "| <!--/--> | id &lt;chr&gt; | year &lt;int&gt; | first_name &lt;chr&gt; | middle_name &lt;chr&gt; | last_name &lt;chr&gt; | party &lt;chr&gt; | level &lt;chr&gt; | position &lt;chr&gt; | state &lt;chr&gt; | district &lt;chr&gt; | race_ethnicity &lt;chr&gt; |\n",
       "|---|---|---|---|---|---|---|---|---|---|---|---|\n",
       "| 1 | 566417k | 2017 | Kim   | K. | Abbott | Democrat | State Legislative | State Representative | Montana - MT  | 83 | White |\n",
       "| 2 | 566417k | 2018 | Kim   | K. | Abbott | Democrat | State Legislative | State Representative | Montana - MT  | 83 | White |\n",
       "| 3 | 566417k | 2019 | Kim   | K. | Abbott | Democrat | State Legislative | State Representative | Montana - MT  | 83 | White |\n",
       "| 4 | 566417k | 2020 | Kim   | K. | Abbott | Democrat | State Legislative | State Representative | Montana - MT  | 83 | White |\n",
       "| 5 | 14772c  | 2010 | Robin | A. | Abbott | Democrat | State Legislative | State Representative | Virginia - VA | 93 | White |\n",
       "| 6 | 14772c  | 2011 | Robin | A. | Abbott | Democrat | State Legislative | State Representative | Virginia - VA | 93 | White |\n",
       "\n"
      ],
      "text/plain": [
       "  id      year first_name middle_name last_name party    level            \n",
       "1 566417k 2017 Kim        K.          Abbott    Democrat State Legislative\n",
       "2 566417k 2018 Kim        K.          Abbott    Democrat State Legislative\n",
       "3 566417k 2019 Kim        K.          Abbott    Democrat State Legislative\n",
       "4 566417k 2020 Kim        K.          Abbott    Democrat State Legislative\n",
       "5 14772c  2010 Robin      A.          Abbott    Democrat State Legislative\n",
       "6 14772c  2011 Robin      A.          Abbott    Democrat State Legislative\n",
       "  position             state         district race_ethnicity\n",
       "1 State Representative Montana - MT  83       White         \n",
       "2 State Representative Montana - MT  83       White         \n",
       "3 State Representative Montana - MT  83       White         \n",
       "4 State Representative Montana - MT  83       White         \n",
       "5 State Representative Virginia - VA 93       White         \n",
       "6 State Representative Virginia - VA 93       White         "
      ]
     },
     "metadata": {},
     "output_type": "display_data"
    }
   ],
   "source": [
    "state_leg_df <- womenwinning_df%>%filter(level == \"State Legislative\")\n",
    "        \n",
    "head(state_leg_df)"
   ]
  },
  {
   "cell_type": "code",
   "execution_count": 56,
   "metadata": {},
   "outputs": [
    {
     "data": {
      "text/html": [
       "<style>\n",
       ".list-inline {list-style: none; margin:0; padding: 0}\n",
       ".list-inline>li {display: inline-block}\n",
       ".list-inline>li:not(:last-child)::after {content: \"\\00b7\"; padding: 0 .5ex}\n",
       "</style>\n",
       "<ol class=list-inline><li>24540</li><li>11</li></ol>\n"
      ],
      "text/latex": [
       "\\begin{enumerate*}\n",
       "\\item 24540\n",
       "\\item 11\n",
       "\\end{enumerate*}\n"
      ],
      "text/markdown": [
       "1. 24540\n",
       "2. 11\n",
       "\n",
       "\n"
      ],
      "text/plain": [
       "[1] 24540    11"
      ]
     },
     "metadata": {},
     "output_type": "display_data"
    }
   ],
   "source": [
    "dim(state_leg_df) "
   ]
  },
  {
   "cell_type": "code",
   "execution_count": 57,
   "metadata": {},
   "outputs": [
    {
     "name": "stdout",
     "output_type": "stream",
     "text": [
      "\n",
      "State Representative        State Senator \n",
      "               18620                 5920 \n"
     ]
    }
   ],
   "source": [
    "tbl_of_positions2 <- table(state_leg_df[\"position\"])\n",
    "print(tbl_of_positions2) #checking for cleanness"
   ]
  },
  {
   "cell_type": "code",
   "execution_count": 58,
   "metadata": {},
   "outputs": [
    {
     "name": "stdout",
     "output_type": "stream",
     "text": [
      "\n",
      "       Alabama - AL         Alaska - AK        Arizona - AZ       Arkansas - AR \n",
      "                262                 218                 428                 369 \n",
      "    California - CA       Colorado - CO    Connecticut - CT       Delaware - DE \n",
      "                425                 542                 729                 202 \n",
      "       Florida - FL        Georgia - GA           Guam - GU         Hawaii - HI \n",
      "                559                 750                  11                 316 \n",
      "         Idaho - ID       Illinois - IL        Indiana - IN           Iowa - IA \n",
      "                392                 763                 423                 466 \n",
      "        Kansas - KS       Kentucky - KY      Louisiana - LA          Maine - ME \n",
      "                596                 325                 280                 770 \n",
      "      Maryland - MD  Massachusetts - MA       Michigan - MI      Minnesota - MN \n",
      "                805                 684                 467                 872 \n",
      "   Mississippi - MS       Missouri - MO        Montana - MT       Nebraska - NE \n",
      "                354                 612                 542                 148 \n",
      "        Nevada - NV  New Hampshire - NH     New Jersey - NJ     New Mexico - NM \n",
      "                293                1762                 481                 441 \n",
      "      New York - NY North Carolina - NC   North Dakota - ND           Ohio - OH \n",
      "                718                 557                 331                 409 \n",
      "      Oklahoma - OK         Oregon - OR   Pennsylvania - PA    Puerto Rico - PR \n",
      "                279                 388                 620                   9 \n",
      "  Rhode Island - RI South Carolina - SC   South Dakota - SD      Tennessee - TN \n",
      "                416                 285                 292                 297 \n",
      "         Texas - TX           Utah - UT        Vermont - VT       Virginia - VA \n",
      "                512                 266                 931                 373 \n",
      "    Washington - WA  West Virginia - WV      Wisconsin - WI        Wyoming - WY \n",
      "                680                 278                 429                 183 \n"
     ]
    }
   ],
   "source": [
    "tbl_by_state <- table(state_leg_df[\"state\"]) #gotta convert this to a string, \n",
    "                                             #and then we could do percents too\n",
    "print(tbl_by_state) #raw number based on location"
   ]
  },
  {
   "cell_type": "code",
   "execution_count": 59,
   "metadata": {},
   "outputs": [
    {
     "name": "stdout",
     "output_type": "stream",
     "text": [
      "\n",
      "2008 2009 2010 2011 2012 2013 2014 2015 2016 2017 2018 2019 2020 \n",
      "1782 1839 1844 1786 1778 1828 1829 1846 1828 1893 1914 2169 2204 \n"
     ]
    }
   ],
   "source": [
    "tbl_by_year <- table(state_leg_df[\"year\"])\n",
    "print(tbl_by_year) #um houston we have a problem... \"2169, 2204...\""
   ]
  },
  {
   "cell_type": "code",
   "execution_count": 62,
   "metadata": {},
   "outputs": [],
   "source": [
    "yearframe <- c(2008, 2009, 2010, 2011, 2012, 2013, 2014, 2015, 2016, 2017, 2018)"
   ]
  },
  {
   "cell_type": "code",
   "execution_count": 63,
   "metadata": {},
   "outputs": [
    {
     "name": "stdout",
     "output_type": "stream",
     "text": [
      " [1] 2008 2009 2010 2011 2012 2013 2014 2015 2016 2017 2018\n"
     ]
    }
   ],
   "source": [
    "print(yearframe)"
   ]
  },
  {
   "cell_type": "code",
   "execution_count": 67,
   "metadata": {},
   "outputs": [
    {
     "name": "stderr",
     "output_type": "stream",
     "text": [
      "Warning message in year == yearframe:\n",
      "“longer object length is not a multiple of shorter object length”\n"
     ]
    },
    {
     "data": {
      "text/html": [
       "<table>\n",
       "<caption>A data.frame: 6 × 11</caption>\n",
       "<thead>\n",
       "\t<tr><th></th><th scope=col>id</th><th scope=col>year</th><th scope=col>first_name</th><th scope=col>middle_name</th><th scope=col>last_name</th><th scope=col>party</th><th scope=col>level</th><th scope=col>position</th><th scope=col>state</th><th scope=col>district</th><th scope=col>race_ethnicity</th></tr>\n",
       "\t<tr><th></th><th scope=col>&lt;chr&gt;</th><th scope=col>&lt;int&gt;</th><th scope=col>&lt;chr&gt;</th><th scope=col>&lt;chr&gt;</th><th scope=col>&lt;chr&gt;</th><th scope=col>&lt;chr&gt;</th><th scope=col>&lt;chr&gt;</th><th scope=col>&lt;chr&gt;</th><th scope=col>&lt;chr&gt;</th><th scope=col>&lt;chr&gt;</th><th scope=col>&lt;chr&gt;</th></tr>\n",
       "</thead>\n",
       "<tbody>\n",
       "\t<tr><th scope=row>1</th><td>196595k</td><td>2008</td><td>Alma</td><td>S.</td><td>Adams</td><td>Democrat</td><td>State Legislative</td><td>State Representative</td><td>North Carolina - NC</td><td>58</td><td>Black/African American</td></tr>\n",
       "\t<tr><th scope=row>2</th><td>196595k</td><td>2009</td><td>Alma</td><td>S.</td><td>Adams</td><td>Democrat</td><td>State Legislative</td><td>State Representative</td><td>North Carolina - NC</td><td>58</td><td>Black/African American</td></tr>\n",
       "\t<tr><th scope=row>3</th><td>196595k</td><td>2010</td><td>Alma</td><td>S.</td><td>Adams</td><td>Democrat</td><td>State Legislative</td><td>State Representative</td><td>North Carolina - NC</td><td>58</td><td>Black/African American</td></tr>\n",
       "\t<tr><th scope=row>4</th><td>196595k</td><td>2011</td><td>Alma</td><td>S.</td><td>Adams</td><td>Democrat</td><td>State Legislative</td><td>State Representative</td><td>North Carolina - NC</td><td>58</td><td>Black/African American</td></tr>\n",
       "\t<tr><th scope=row>5</th><td>196595k</td><td>2012</td><td>Alma</td><td>S.</td><td>Adams</td><td>Democrat</td><td>State Legislative</td><td>State Representative</td><td>North Carolina - NC</td><td>58</td><td>Black/African American</td></tr>\n",
       "\t<tr><th scope=row>6</th><td>196595k</td><td>2013</td><td>Alma</td><td>S.</td><td>Adams</td><td>Democrat</td><td>State Legislative</td><td>State Representative</td><td>North Carolina - NC</td><td>58</td><td>Black/African American</td></tr>\n",
       "</tbody>\n",
       "</table>\n"
      ],
      "text/latex": [
       "A data.frame: 6 × 11\n",
       "\\begin{tabular}{r|lllllllllll}\n",
       "  & id & year & first\\_name & middle\\_name & last\\_name & party & level & position & state & district & race\\_ethnicity\\\\\n",
       "  & <chr> & <int> & <chr> & <chr> & <chr> & <chr> & <chr> & <chr> & <chr> & <chr> & <chr>\\\\\n",
       "\\hline\n",
       "\t1 & 196595k & 2008 & Alma & S. & Adams & Democrat & State Legislative & State Representative & North Carolina - NC & 58 & Black/African American\\\\\n",
       "\t2 & 196595k & 2009 & Alma & S. & Adams & Democrat & State Legislative & State Representative & North Carolina - NC & 58 & Black/African American\\\\\n",
       "\t3 & 196595k & 2010 & Alma & S. & Adams & Democrat & State Legislative & State Representative & North Carolina - NC & 58 & Black/African American\\\\\n",
       "\t4 & 196595k & 2011 & Alma & S. & Adams & Democrat & State Legislative & State Representative & North Carolina - NC & 58 & Black/African American\\\\\n",
       "\t5 & 196595k & 2012 & Alma & S. & Adams & Democrat & State Legislative & State Representative & North Carolina - NC & 58 & Black/African American\\\\\n",
       "\t6 & 196595k & 2013 & Alma & S. & Adams & Democrat & State Legislative & State Representative & North Carolina - NC & 58 & Black/African American\\\\\n",
       "\\end{tabular}\n"
      ],
      "text/markdown": [
       "\n",
       "A data.frame: 6 × 11\n",
       "\n",
       "| <!--/--> | id &lt;chr&gt; | year &lt;int&gt; | first_name &lt;chr&gt; | middle_name &lt;chr&gt; | last_name &lt;chr&gt; | party &lt;chr&gt; | level &lt;chr&gt; | position &lt;chr&gt; | state &lt;chr&gt; | district &lt;chr&gt; | race_ethnicity &lt;chr&gt; |\n",
       "|---|---|---|---|---|---|---|---|---|---|---|---|\n",
       "| 1 | 196595k | 2008 | Alma | S. | Adams | Democrat | State Legislative | State Representative | North Carolina - NC | 58 | Black/African American |\n",
       "| 2 | 196595k | 2009 | Alma | S. | Adams | Democrat | State Legislative | State Representative | North Carolina - NC | 58 | Black/African American |\n",
       "| 3 | 196595k | 2010 | Alma | S. | Adams | Democrat | State Legislative | State Representative | North Carolina - NC | 58 | Black/African American |\n",
       "| 4 | 196595k | 2011 | Alma | S. | Adams | Democrat | State Legislative | State Representative | North Carolina - NC | 58 | Black/African American |\n",
       "| 5 | 196595k | 2012 | Alma | S. | Adams | Democrat | State Legislative | State Representative | North Carolina - NC | 58 | Black/African American |\n",
       "| 6 | 196595k | 2013 | Alma | S. | Adams | Democrat | State Legislative | State Representative | North Carolina - NC | 58 | Black/African American |\n",
       "\n"
      ],
      "text/plain": [
       "  id      year first_name middle_name last_name party    level            \n",
       "1 196595k 2008 Alma       S.          Adams     Democrat State Legislative\n",
       "2 196595k 2009 Alma       S.          Adams     Democrat State Legislative\n",
       "3 196595k 2010 Alma       S.          Adams     Democrat State Legislative\n",
       "4 196595k 2011 Alma       S.          Adams     Democrat State Legislative\n",
       "5 196595k 2012 Alma       S.          Adams     Democrat State Legislative\n",
       "6 196595k 2013 Alma       S.          Adams     Democrat State Legislative\n",
       "  position             state               district race_ethnicity        \n",
       "1 State Representative North Carolina - NC 58       Black/African American\n",
       "2 State Representative North Carolina - NC 58       Black/African American\n",
       "3 State Representative North Carolina - NC 58       Black/African American\n",
       "4 State Representative North Carolina - NC 58       Black/African American\n",
       "5 State Representative North Carolina - NC 58       Black/African American\n",
       "6 State Representative North Carolina - NC 58       Black/African American"
      ]
     },
     "metadata": {},
     "output_type": "display_data"
    },
    {
     "data": {
      "text/html": [
       "<style>\n",
       ".list-inline {list-style: none; margin:0; padding: 0}\n",
       ".list-inline>li {display: inline-block}\n",
       ".list-inline>li:not(:last-child)::after {content: \"\\00b7\"; padding: 0 .5ex}\n",
       "</style>\n",
       "<ol class=list-inline><li>1779</li><li>11</li></ol>\n"
      ],
      "text/latex": [
       "\\begin{enumerate*}\n",
       "\\item 1779\n",
       "\\item 11\n",
       "\\end{enumerate*}\n"
      ],
      "text/markdown": [
       "1. 1779\n",
       "2. 11\n",
       "\n",
       "\n"
      ],
      "text/plain": [
       "[1] 1779   11"
      ]
     },
     "metadata": {},
     "output_type": "display_data"
    }
   ],
   "source": [
    "state_leg_df2 <- state_leg_df%>%filter(year == yearframe)\n",
    "head(state_leg_df2)\n",
    "dim(state_leg_df2)"
   ]
  },
  {
   "cell_type": "code",
   "execution_count": 68,
   "metadata": {},
   "outputs": [
    {
     "name": "stdout",
     "output_type": "stream",
     "text": [
      "\n",
      "2008 2009 2010 2011 2012 2013 2014 2015 2016 2017 2018 \n",
      " 155  158  155  158  155  163  160  163  159  172  181 \n"
     ]
    }
   ],
   "source": [
    "tbl_by_year <- table(state_leg_df2[\"year\"])\n",
    "print(tbl_by_year)"
   ]
  },
  {
   "cell_type": "code",
   "execution_count": null,
   "metadata": {},
   "outputs": [],
   "source": []
  }
 ],
 "metadata": {
  "kernelspec": {
   "display_name": "R",
   "language": "R",
   "name": "ir"
  },
  "language_info": {
   "codemirror_mode": "r",
   "file_extension": ".r",
   "mimetype": "text/x-r-source",
   "name": "R",
   "pygments_lexer": "r",
   "version": "4.0.0"
  }
 },
 "nbformat": 4,
 "nbformat_minor": 4
}
