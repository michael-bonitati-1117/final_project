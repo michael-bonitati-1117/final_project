{
 "cells": [
  {
   "cell_type": "code",
   "execution_count": 17,
   "metadata": {},
   "outputs": [
    {
     "name": "stderr",
     "output_type": "stream",
     "text": [
      "Updating HTML index of packages in '.Library'\n",
      "\n",
      "Making 'packages.html' ...\n",
      " done\n",
      "\n",
      "Updating HTML index of packages in '.Library'\n",
      "\n",
      "Making 'packages.html' ...\n",
      " done\n",
      "\n"
     ]
    }
   ],
   "source": [
    "## Install gender package and linked database\n",
    "install.packages(\"gender\")\n",
    "install.packages(\"genderdata\", repos = \"https://dev.ropensci.org\", type = \"source\")\n",
    "\n",
    "## Packages\n",
    "library(dplyr)\n",
    "library(gender)\n",
    "library(stringr)\n",
    "library(broom)\n",
    "library(tidyr)\n",
    "library(ggplot2)\n"
   ]
  },
  {
   "cell_type": "code",
   "execution_count": 16,
   "metadata": {},
   "outputs": [
    {
     "data": {
      "text/html": [
       "<table>\n",
       "<caption>A data.frame: 6 × 13</caption>\n",
       "<thead>\n",
       "\t<tr><th></th><th scope=col>X</th><th scope=col>Democrat</th><th scope=col>Republican</th><th scope=col>Other</th><th scope=col>State</th><th scope=col>Year</th><th scope=col>District</th><th scope=col>Democrat.Incumbent</th><th scope=col>Democrat.Votes</th><th scope=col>Republican.Incumbent</th><th scope=col>Republican.Votes</th><th scope=col>Other.Incumbent</th><th scope=col>Other.Votes</th></tr>\n",
       "\t<tr><th></th><th scope=col>&lt;int&gt;</th><th scope=col>&lt;chr&gt;</th><th scope=col>&lt;chr&gt;</th><th scope=col>&lt;chr&gt;</th><th scope=col>&lt;chr&gt;</th><th scope=col>&lt;int&gt;</th><th scope=col>&lt;chr&gt;</th><th scope=col>&lt;chr&gt;</th><th scope=col>&lt;int&gt;</th><th scope=col>&lt;chr&gt;</th><th scope=col>&lt;int&gt;</th><th scope=col>&lt;chr&gt;</th><th scope=col>&lt;int&gt;</th></tr>\n",
       "</thead>\n",
       "<tbody>\n",
       "\t<tr><th scope=row>1</th><td>0</td><td>Scott J. Kawasaki    </td><td>No candidate     </td><td>No candidate</td><td>Alaska</td><td>2016</td><td>1</td><td>True </td><td>   1</td><td>False</td><td>   0</td><td>0    </td><td>   0</td></tr>\n",
       "\t<tr><th scope=row>2</th><td>1</td><td>Truno Holdaway       </td><td>Steve M. Thompson</td><td>No candidate</td><td>Alaska</td><td>2016</td><td>2</td><td>False</td><td>1153</td><td>True </td><td>3268</td><td>0    </td><td>   0</td></tr>\n",
       "\t<tr><th scope=row>3</th><td>2</td><td>Christina M. Sinclair</td><td>Tammie Wilson    </td><td>Jeanne Olson</td><td>Alaska</td><td>2016</td><td>3</td><td>False</td><td> 537</td><td>True </td><td>4291</td><td>False</td><td>2270</td></tr>\n",
       "\t<tr><th scope=row>4</th><td>3</td><td>David Guttenberg     </td><td>No candidate     </td><td>No candidate</td><td>Alaska</td><td>2016</td><td>4</td><td>True </td><td>   1</td><td>False</td><td>   0</td><td>0    </td><td>   0</td></tr>\n",
       "\t<tr><th scope=row>5</th><td>4</td><td>Adam Wool            </td><td>Aaron Lojewski   </td><td>No candidate</td><td>Alaska</td><td>2016</td><td>5</td><td>True </td><td>3812</td><td>False</td><td>3384</td><td>0    </td><td>   0</td></tr>\n",
       "\t<tr><th scope=row>6</th><td>5</td><td>Jason T. Land        </td><td>David M. Talerico</td><td>No candidate</td><td>Alaska</td><td>2016</td><td>6</td><td>False</td><td>2327</td><td>True </td><td>5126</td><td>0    </td><td>   0</td></tr>\n",
       "</tbody>\n",
       "</table>\n"
      ],
      "text/latex": [
       "A data.frame: 6 × 13\n",
       "\\begin{tabular}{r|lllllllllllll}\n",
       "  & X & Democrat & Republican & Other & State & Year & District & Democrat.Incumbent & Democrat.Votes & Republican.Incumbent & Republican.Votes & Other.Incumbent & Other.Votes\\\\\n",
       "  & <int> & <chr> & <chr> & <chr> & <chr> & <int> & <chr> & <chr> & <int> & <chr> & <int> & <chr> & <int>\\\\\n",
       "\\hline\n",
       "\t1 & 0 & Scott J. Kawasaki     & No candidate      & No candidate & Alaska & 2016 & 1 & True  &    1 & False &    0 & 0     &    0\\\\\n",
       "\t2 & 1 & Truno Holdaway        & Steve M. Thompson & No candidate & Alaska & 2016 & 2 & False & 1153 & True  & 3268 & 0     &    0\\\\\n",
       "\t3 & 2 & Christina M. Sinclair & Tammie Wilson     & Jeanne Olson & Alaska & 2016 & 3 & False &  537 & True  & 4291 & False & 2270\\\\\n",
       "\t4 & 3 & David Guttenberg      & No candidate      & No candidate & Alaska & 2016 & 4 & True  &    1 & False &    0 & 0     &    0\\\\\n",
       "\t5 & 4 & Adam Wool             & Aaron Lojewski    & No candidate & Alaska & 2016 & 5 & True  & 3812 & False & 3384 & 0     &    0\\\\\n",
       "\t6 & 5 & Jason T. Land         & David M. Talerico & No candidate & Alaska & 2016 & 6 & False & 2327 & True  & 5126 & 0     &    0\\\\\n",
       "\\end{tabular}\n"
      ],
      "text/markdown": [
       "\n",
       "A data.frame: 6 × 13\n",
       "\n",
       "| <!--/--> | X &lt;int&gt; | Democrat &lt;chr&gt; | Republican &lt;chr&gt; | Other &lt;chr&gt; | State &lt;chr&gt; | Year &lt;int&gt; | District &lt;chr&gt; | Democrat.Incumbent &lt;chr&gt; | Democrat.Votes &lt;int&gt; | Republican.Incumbent &lt;chr&gt; | Republican.Votes &lt;int&gt; | Other.Incumbent &lt;chr&gt; | Other.Votes &lt;int&gt; |\n",
       "|---|---|---|---|---|---|---|---|---|---|---|---|---|---|\n",
       "| 1 | 0 | Scott J. Kawasaki     | No candidate      | No candidate | Alaska | 2016 | 1 | True  |    1 | False |    0 | 0     |    0 |\n",
       "| 2 | 1 | Truno Holdaway        | Steve M. Thompson | No candidate | Alaska | 2016 | 2 | False | 1153 | True  | 3268 | 0     |    0 |\n",
       "| 3 | 2 | Christina M. Sinclair | Tammie Wilson     | Jeanne Olson | Alaska | 2016 | 3 | False |  537 | True  | 4291 | False | 2270 |\n",
       "| 4 | 3 | David Guttenberg      | No candidate      | No candidate | Alaska | 2016 | 4 | True  |    1 | False |    0 | 0     |    0 |\n",
       "| 5 | 4 | Adam Wool             | Aaron Lojewski    | No candidate | Alaska | 2016 | 5 | True  | 3812 | False | 3384 | 0     |    0 |\n",
       "| 6 | 5 | Jason T. Land         | David M. Talerico | No candidate | Alaska | 2016 | 6 | False | 2327 | True  | 5126 | 0     |    0 |\n",
       "\n"
      ],
      "text/plain": [
       "  X Democrat              Republican        Other        State  Year District\n",
       "1 0 Scott J. Kawasaki     No candidate      No candidate Alaska 2016 1       \n",
       "2 1 Truno Holdaway        Steve M. Thompson No candidate Alaska 2016 2       \n",
       "3 2 Christina M. Sinclair Tammie Wilson     Jeanne Olson Alaska 2016 3       \n",
       "4 3 David Guttenberg      No candidate      No candidate Alaska 2016 4       \n",
       "5 4 Adam Wool             Aaron Lojewski    No candidate Alaska 2016 5       \n",
       "6 5 Jason T. Land         David M. Talerico No candidate Alaska 2016 6       \n",
       "  Democrat.Incumbent Democrat.Votes Republican.Incumbent Republican.Votes\n",
       "1 True                  1           False                   0            \n",
       "2 False              1153           True                 3268            \n",
       "3 False               537           True                 4291            \n",
       "4 True                  1           False                   0            \n",
       "5 True               3812           False                3384            \n",
       "6 False              2327           True                 5126            \n",
       "  Other.Incumbent Other.Votes\n",
       "1 0                  0       \n",
       "2 0                  0       \n",
       "3 False           2270       \n",
       "4 0                  0       \n",
       "5 0                  0       \n",
       "6 0                  0       "
      ]
     },
     "metadata": {},
     "output_type": "display_data"
    }
   ],
   "source": [
    "## Read data in, change path as necessary\n",
    "elections_2016 <- read.csv(\"2016_election_results.csv\")\n",
    "\n",
    "head(elections_2016)"
   ]
  },
  {
   "cell_type": "code",
   "execution_count": 3,
   "metadata": {},
   "outputs": [],
   "source": [
    "## Function to fill predicted gender\n",
    "gender_fill <- function(x) { \n",
    "  n <- length(x)\n",
    "  x <- word(x) ## removes last names, gender() only works on first name strings\n",
    "  gender_rep <- rep(\"a\", n)\n",
    "  for (i in 1:n) {\n",
    "      if (x[i] == \"No\") {\n",
    "        gender_rep[i] <- \"N/A\" ## handles no candidate\n",
    "      } else if (length(pull(gender(x[i]), var = gender)) == 0) {\n",
    "        gender_rep[i] <- \"Unknown\" ## handles names the function can't predict\n",
    "      }  else {\n",
    "      gender_rep[i] <- pull(gender(as.character(x[i])), var = gender)\n",
    "      }\n",
    "    }\n",
    "    gender_rep\n",
    "  }\n",
    "\n",
    "\n",
    "## First if checks for \"No\" because \"No candidate\" has been truncated to \"No\", needs to be changed if databases have different indicators for no candidate\n",
    "## Second if checks for length == 0 because gender() generates an empty table if it is unable to predict a gender\n",
    "## Else applies gender() to the rest of the cases and pulls the gender result out of the results (gender function creates a table with ancillary info), coercion to character \n",
    "## because gender() only works on character type\n"
   ]
  },
  {
   "cell_type": "code",
   "execution_count": 4,
   "metadata": {},
   "outputs": [
    {
     "name": "stdout",
     "output_type": "stream",
     "text": [
      "[1] TRUE TRUE TRUE TRUE\n"
     ]
    }
   ],
   "source": [
    "## Testing function\n",
    "\n",
    "test_string <- c(\"Michael B\", \"Jenny A\", \"No candidate\", \"xyzo\")\n",
    "\n",
    "print(gender_fill(test_string) == c(\"male\", \"female\", \"N/A\", \"Unknown\"))\n"
   ]
  },
  {
   "cell_type": "code",
   "execution_count": 5,
   "metadata": {},
   "outputs": [
    {
     "data": {
      "text/html": [
       "<table>\n",
       "<caption>A data.frame: 6 × 15</caption>\n",
       "<thead>\n",
       "\t<tr><th></th><th scope=col>X</th><th scope=col>Democrat</th><th scope=col>Republican</th><th scope=col>Other</th><th scope=col>State</th><th scope=col>Year</th><th scope=col>District</th><th scope=col>Democrat.Incumbent</th><th scope=col>Democrat.Votes</th><th scope=col>Republican.Incumbent</th><th scope=col>Republican.Votes</th><th scope=col>Other.Incumbent</th><th scope=col>Other.Votes</th><th scope=col>gender_dem</th><th scope=col>gender_rep</th></tr>\n",
       "\t<tr><th></th><th scope=col>&lt;int&gt;</th><th scope=col>&lt;chr&gt;</th><th scope=col>&lt;chr&gt;</th><th scope=col>&lt;chr&gt;</th><th scope=col>&lt;chr&gt;</th><th scope=col>&lt;int&gt;</th><th scope=col>&lt;chr&gt;</th><th scope=col>&lt;chr&gt;</th><th scope=col>&lt;int&gt;</th><th scope=col>&lt;chr&gt;</th><th scope=col>&lt;int&gt;</th><th scope=col>&lt;chr&gt;</th><th scope=col>&lt;int&gt;</th><th scope=col>&lt;chr&gt;</th><th scope=col>&lt;chr&gt;</th></tr>\n",
       "</thead>\n",
       "<tbody>\n",
       "\t<tr><th scope=row>1</th><td>0</td><td>Scott J. Kawasaki    </td><td>No candidate     </td><td>No candidate</td><td>Alaska</td><td>2016</td><td>1</td><td>True </td><td>   1</td><td>False</td><td>   0</td><td>0    </td><td>   0</td><td>male   </td><td>N/A   </td></tr>\n",
       "\t<tr><th scope=row>2</th><td>1</td><td>Truno Holdaway       </td><td>Steve M. Thompson</td><td>No candidate</td><td>Alaska</td><td>2016</td><td>2</td><td>False</td><td>1153</td><td>True </td><td>3268</td><td>0    </td><td>   0</td><td>Unknown</td><td>male  </td></tr>\n",
       "\t<tr><th scope=row>3</th><td>2</td><td>Christina M. Sinclair</td><td>Tammie Wilson    </td><td>Jeanne Olson</td><td>Alaska</td><td>2016</td><td>3</td><td>False</td><td> 537</td><td>True </td><td>4291</td><td>False</td><td>2270</td><td>female </td><td>female</td></tr>\n",
       "\t<tr><th scope=row>4</th><td>3</td><td>David Guttenberg     </td><td>No candidate     </td><td>No candidate</td><td>Alaska</td><td>2016</td><td>4</td><td>True </td><td>   1</td><td>False</td><td>   0</td><td>0    </td><td>   0</td><td>male   </td><td>N/A   </td></tr>\n",
       "\t<tr><th scope=row>5</th><td>4</td><td>Adam Wool            </td><td>Aaron Lojewski   </td><td>No candidate</td><td>Alaska</td><td>2016</td><td>5</td><td>True </td><td>3812</td><td>False</td><td>3384</td><td>0    </td><td>   0</td><td>male   </td><td>male  </td></tr>\n",
       "\t<tr><th scope=row>6</th><td>5</td><td>Jason T. Land        </td><td>David M. Talerico</td><td>No candidate</td><td>Alaska</td><td>2016</td><td>6</td><td>False</td><td>2327</td><td>True </td><td>5126</td><td>0    </td><td>   0</td><td>male   </td><td>male  </td></tr>\n",
       "</tbody>\n",
       "</table>\n"
      ],
      "text/latex": [
       "A data.frame: 6 × 15\n",
       "\\begin{tabular}{r|lllllllllllllll}\n",
       "  & X & Democrat & Republican & Other & State & Year & District & Democrat.Incumbent & Democrat.Votes & Republican.Incumbent & Republican.Votes & Other.Incumbent & Other.Votes & gender\\_dem & gender\\_rep\\\\\n",
       "  & <int> & <chr> & <chr> & <chr> & <chr> & <int> & <chr> & <chr> & <int> & <chr> & <int> & <chr> & <int> & <chr> & <chr>\\\\\n",
       "\\hline\n",
       "\t1 & 0 & Scott J. Kawasaki     & No candidate      & No candidate & Alaska & 2016 & 1 & True  &    1 & False &    0 & 0     &    0 & male    & N/A   \\\\\n",
       "\t2 & 1 & Truno Holdaway        & Steve M. Thompson & No candidate & Alaska & 2016 & 2 & False & 1153 & True  & 3268 & 0     &    0 & Unknown & male  \\\\\n",
       "\t3 & 2 & Christina M. Sinclair & Tammie Wilson     & Jeanne Olson & Alaska & 2016 & 3 & False &  537 & True  & 4291 & False & 2270 & female  & female\\\\\n",
       "\t4 & 3 & David Guttenberg      & No candidate      & No candidate & Alaska & 2016 & 4 & True  &    1 & False &    0 & 0     &    0 & male    & N/A   \\\\\n",
       "\t5 & 4 & Adam Wool             & Aaron Lojewski    & No candidate & Alaska & 2016 & 5 & True  & 3812 & False & 3384 & 0     &    0 & male    & male  \\\\\n",
       "\t6 & 5 & Jason T. Land         & David M. Talerico & No candidate & Alaska & 2016 & 6 & False & 2327 & True  & 5126 & 0     &    0 & male    & male  \\\\\n",
       "\\end{tabular}\n"
      ],
      "text/markdown": [
       "\n",
       "A data.frame: 6 × 15\n",
       "\n",
       "| <!--/--> | X &lt;int&gt; | Democrat &lt;chr&gt; | Republican &lt;chr&gt; | Other &lt;chr&gt; | State &lt;chr&gt; | Year &lt;int&gt; | District &lt;chr&gt; | Democrat.Incumbent &lt;chr&gt; | Democrat.Votes &lt;int&gt; | Republican.Incumbent &lt;chr&gt; | Republican.Votes &lt;int&gt; | Other.Incumbent &lt;chr&gt; | Other.Votes &lt;int&gt; | gender_dem &lt;chr&gt; | gender_rep &lt;chr&gt; |\n",
       "|---|---|---|---|---|---|---|---|---|---|---|---|---|---|---|---|\n",
       "| 1 | 0 | Scott J. Kawasaki     | No candidate      | No candidate | Alaska | 2016 | 1 | True  |    1 | False |    0 | 0     |    0 | male    | N/A    |\n",
       "| 2 | 1 | Truno Holdaway        | Steve M. Thompson | No candidate | Alaska | 2016 | 2 | False | 1153 | True  | 3268 | 0     |    0 | Unknown | male   |\n",
       "| 3 | 2 | Christina M. Sinclair | Tammie Wilson     | Jeanne Olson | Alaska | 2016 | 3 | False |  537 | True  | 4291 | False | 2270 | female  | female |\n",
       "| 4 | 3 | David Guttenberg      | No candidate      | No candidate | Alaska | 2016 | 4 | True  |    1 | False |    0 | 0     |    0 | male    | N/A    |\n",
       "| 5 | 4 | Adam Wool             | Aaron Lojewski    | No candidate | Alaska | 2016 | 5 | True  | 3812 | False | 3384 | 0     |    0 | male    | male   |\n",
       "| 6 | 5 | Jason T. Land         | David M. Talerico | No candidate | Alaska | 2016 | 6 | False | 2327 | True  | 5126 | 0     |    0 | male    | male   |\n",
       "\n"
      ],
      "text/plain": [
       "  X Democrat              Republican        Other        State  Year District\n",
       "1 0 Scott J. Kawasaki     No candidate      No candidate Alaska 2016 1       \n",
       "2 1 Truno Holdaway        Steve M. Thompson No candidate Alaska 2016 2       \n",
       "3 2 Christina M. Sinclair Tammie Wilson     Jeanne Olson Alaska 2016 3       \n",
       "4 3 David Guttenberg      No candidate      No candidate Alaska 2016 4       \n",
       "5 4 Adam Wool             Aaron Lojewski    No candidate Alaska 2016 5       \n",
       "6 5 Jason T. Land         David M. Talerico No candidate Alaska 2016 6       \n",
       "  Democrat.Incumbent Democrat.Votes Republican.Incumbent Republican.Votes\n",
       "1 True                  1           False                   0            \n",
       "2 False              1153           True                 3268            \n",
       "3 False               537           True                 4291            \n",
       "4 True                  1           False                   0            \n",
       "5 True               3812           False                3384            \n",
       "6 False              2327           True                 5126            \n",
       "  Other.Incumbent Other.Votes gender_dem gender_rep\n",
       "1 0                  0        male       N/A       \n",
       "2 0                  0        Unknown    male      \n",
       "3 False           2270        female     female    \n",
       "4 0                  0        male       N/A       \n",
       "5 0                  0        male       male      \n",
       "6 0                  0        male       male      "
      ]
     },
     "metadata": {},
     "output_type": "display_data"
    }
   ],
   "source": [
    "## Create gender columns, extremely extremely slow (like 20-30min at least), but works\n",
    "\n",
    "elections_2016$gender_dem <- gender_fill(elections_2016$Democrat)\n",
    "\n",
    "elections_2016$gender_rep <- gender_fill(elections_2016$Republican)\n",
    "\n",
    "head(elections_2016)"
   ]
  },
  {
   "cell_type": "code",
   "execution_count": 6,
   "metadata": {},
   "outputs": [
    {
     "data": {
      "text/html": [
       "<table>\n",
       "<caption>A data.frame: 6 × 19</caption>\n",
       "<thead>\n",
       "\t<tr><th></th><th scope=col>democrat</th><th scope=col>republican</th><th scope=col>other</th><th scope=col>state</th><th scope=col>year</th><th scope=col>district</th><th scope=col>democrat_incumbent</th><th scope=col>democrat_votes</th><th scope=col>republican_incumbent</th><th scope=col>republican_votes</th><th scope=col>other_incumbent</th><th scope=col>other_votes</th><th scope=col>gender_dem</th><th scope=col>gender_rep</th><th scope=col>winner_party</th><th scope=col>winner_gender</th><th scope=col>vote_prop_dem</th><th scope=col>vote_prop_rep</th><th scope=col>vote_prop_other</th></tr>\n",
       "\t<tr><th></th><th scope=col>&lt;chr&gt;</th><th scope=col>&lt;chr&gt;</th><th scope=col>&lt;chr&gt;</th><th scope=col>&lt;chr&gt;</th><th scope=col>&lt;int&gt;</th><th scope=col>&lt;chr&gt;</th><th scope=col>&lt;chr&gt;</th><th scope=col>&lt;int&gt;</th><th scope=col>&lt;chr&gt;</th><th scope=col>&lt;int&gt;</th><th scope=col>&lt;chr&gt;</th><th scope=col>&lt;int&gt;</th><th scope=col>&lt;chr&gt;</th><th scope=col>&lt;chr&gt;</th><th scope=col>&lt;chr&gt;</th><th scope=col>&lt;chr&gt;</th><th scope=col>&lt;dbl&gt;</th><th scope=col>&lt;dbl&gt;</th><th scope=col>&lt;dbl&gt;</th></tr>\n",
       "</thead>\n",
       "<tbody>\n",
       "\t<tr><th scope=row>1</th><td>Scott J. Kawasaki    </td><td>No candidate     </td><td>No candidate</td><td>Alaska</td><td>2016</td><td>1</td><td>True </td><td>   1</td><td>False</td><td>   0</td><td>0    </td><td>   0</td><td>male   </td><td>N/A   </td><td>Democrat  </td><td>male  </td><td>1.00000000</td><td>0.0000000</td><td>0.0000000</td></tr>\n",
       "\t<tr><th scope=row>2</th><td>Truno Holdaway       </td><td>Steve M. Thompson</td><td>No candidate</td><td>Alaska</td><td>2016</td><td>2</td><td>False</td><td>1153</td><td>True </td><td>3268</td><td>0    </td><td>   0</td><td>Unknown</td><td>male  </td><td>Republican</td><td>male  </td><td>0.26080072</td><td>0.7391993</td><td>0.0000000</td></tr>\n",
       "\t<tr><th scope=row>3</th><td>Christina M. Sinclair</td><td>Tammie Wilson    </td><td>Jeanne Olson</td><td>Alaska</td><td>2016</td><td>3</td><td>False</td><td> 537</td><td>True </td><td>4291</td><td>False</td><td>2270</td><td>female </td><td>female</td><td>Republican</td><td>female</td><td>0.07565511</td><td>0.6045365</td><td>0.3198084</td></tr>\n",
       "\t<tr><th scope=row>4</th><td>David Guttenberg     </td><td>No candidate     </td><td>No candidate</td><td>Alaska</td><td>2016</td><td>4</td><td>True </td><td>   1</td><td>False</td><td>   0</td><td>0    </td><td>   0</td><td>male   </td><td>N/A   </td><td>Democrat  </td><td>male  </td><td>1.00000000</td><td>0.0000000</td><td>0.0000000</td></tr>\n",
       "\t<tr><th scope=row>5</th><td>Adam Wool            </td><td>Aaron Lojewski   </td><td>No candidate</td><td>Alaska</td><td>2016</td><td>5</td><td>True </td><td>3812</td><td>False</td><td>3384</td><td>0    </td><td>   0</td><td>male   </td><td>male  </td><td>Democrat  </td><td>male  </td><td>0.52973874</td><td>0.4702613</td><td>0.0000000</td></tr>\n",
       "\t<tr><th scope=row>6</th><td>Jason T. Land        </td><td>David M. Talerico</td><td>No candidate</td><td>Alaska</td><td>2016</td><td>6</td><td>False</td><td>2327</td><td>True </td><td>5126</td><td>0    </td><td>   0</td><td>male   </td><td>male  </td><td>Republican</td><td>male  </td><td>0.31222327</td><td>0.6877767</td><td>0.0000000</td></tr>\n",
       "</tbody>\n",
       "</table>\n"
      ],
      "text/latex": [
       "A data.frame: 6 × 19\n",
       "\\begin{tabular}{r|lllllllllllllllllll}\n",
       "  & democrat & republican & other & state & year & district & democrat\\_incumbent & democrat\\_votes & republican\\_incumbent & republican\\_votes & other\\_incumbent & other\\_votes & gender\\_dem & gender\\_rep & winner\\_party & winner\\_gender & vote\\_prop\\_dem & vote\\_prop\\_rep & vote\\_prop\\_other\\\\\n",
       "  & <chr> & <chr> & <chr> & <chr> & <int> & <chr> & <chr> & <int> & <chr> & <int> & <chr> & <int> & <chr> & <chr> & <chr> & <chr> & <dbl> & <dbl> & <dbl>\\\\\n",
       "\\hline\n",
       "\t1 & Scott J. Kawasaki     & No candidate      & No candidate & Alaska & 2016 & 1 & True  &    1 & False &    0 & 0     &    0 & male    & N/A    & Democrat   & male   & 1.00000000 & 0.0000000 & 0.0000000\\\\\n",
       "\t2 & Truno Holdaway        & Steve M. Thompson & No candidate & Alaska & 2016 & 2 & False & 1153 & True  & 3268 & 0     &    0 & Unknown & male   & Republican & male   & 0.26080072 & 0.7391993 & 0.0000000\\\\\n",
       "\t3 & Christina M. Sinclair & Tammie Wilson     & Jeanne Olson & Alaska & 2016 & 3 & False &  537 & True  & 4291 & False & 2270 & female  & female & Republican & female & 0.07565511 & 0.6045365 & 0.3198084\\\\\n",
       "\t4 & David Guttenberg      & No candidate      & No candidate & Alaska & 2016 & 4 & True  &    1 & False &    0 & 0     &    0 & male    & N/A    & Democrat   & male   & 1.00000000 & 0.0000000 & 0.0000000\\\\\n",
       "\t5 & Adam Wool             & Aaron Lojewski    & No candidate & Alaska & 2016 & 5 & True  & 3812 & False & 3384 & 0     &    0 & male    & male   & Democrat   & male   & 0.52973874 & 0.4702613 & 0.0000000\\\\\n",
       "\t6 & Jason T. Land         & David M. Talerico & No candidate & Alaska & 2016 & 6 & False & 2327 & True  & 5126 & 0     &    0 & male    & male   & Republican & male   & 0.31222327 & 0.6877767 & 0.0000000\\\\\n",
       "\\end{tabular}\n"
      ],
      "text/markdown": [
       "\n",
       "A data.frame: 6 × 19\n",
       "\n",
       "| <!--/--> | democrat &lt;chr&gt; | republican &lt;chr&gt; | other &lt;chr&gt; | state &lt;chr&gt; | year &lt;int&gt; | district &lt;chr&gt; | democrat_incumbent &lt;chr&gt; | democrat_votes &lt;int&gt; | republican_incumbent &lt;chr&gt; | republican_votes &lt;int&gt; | other_incumbent &lt;chr&gt; | other_votes &lt;int&gt; | gender_dem &lt;chr&gt; | gender_rep &lt;chr&gt; | winner_party &lt;chr&gt; | winner_gender &lt;chr&gt; | vote_prop_dem &lt;dbl&gt; | vote_prop_rep &lt;dbl&gt; | vote_prop_other &lt;dbl&gt; |\n",
       "|---|---|---|---|---|---|---|---|---|---|---|---|---|---|---|---|---|---|---|---|\n",
       "| 1 | Scott J. Kawasaki     | No candidate      | No candidate | Alaska | 2016 | 1 | True  |    1 | False |    0 | 0     |    0 | male    | N/A    | Democrat   | male   | 1.00000000 | 0.0000000 | 0.0000000 |\n",
       "| 2 | Truno Holdaway        | Steve M. Thompson | No candidate | Alaska | 2016 | 2 | False | 1153 | True  | 3268 | 0     |    0 | Unknown | male   | Republican | male   | 0.26080072 | 0.7391993 | 0.0000000 |\n",
       "| 3 | Christina M. Sinclair | Tammie Wilson     | Jeanne Olson | Alaska | 2016 | 3 | False |  537 | True  | 4291 | False | 2270 | female  | female | Republican | female | 0.07565511 | 0.6045365 | 0.3198084 |\n",
       "| 4 | David Guttenberg      | No candidate      | No candidate | Alaska | 2016 | 4 | True  |    1 | False |    0 | 0     |    0 | male    | N/A    | Democrat   | male   | 1.00000000 | 0.0000000 | 0.0000000 |\n",
       "| 5 | Adam Wool             | Aaron Lojewski    | No candidate | Alaska | 2016 | 5 | True  | 3812 | False | 3384 | 0     |    0 | male    | male   | Democrat   | male   | 0.52973874 | 0.4702613 | 0.0000000 |\n",
       "| 6 | Jason T. Land         | David M. Talerico | No candidate | Alaska | 2016 | 6 | False | 2327 | True  | 5126 | 0     |    0 | male    | male   | Republican | male   | 0.31222327 | 0.6877767 | 0.0000000 |\n",
       "\n"
      ],
      "text/plain": [
       "  democrat              republican        other        state  year district\n",
       "1 Scott J. Kawasaki     No candidate      No candidate Alaska 2016 1       \n",
       "2 Truno Holdaway        Steve M. Thompson No candidate Alaska 2016 2       \n",
       "3 Christina M. Sinclair Tammie Wilson     Jeanne Olson Alaska 2016 3       \n",
       "4 David Guttenberg      No candidate      No candidate Alaska 2016 4       \n",
       "5 Adam Wool             Aaron Lojewski    No candidate Alaska 2016 5       \n",
       "6 Jason T. Land         David M. Talerico No candidate Alaska 2016 6       \n",
       "  democrat_incumbent democrat_votes republican_incumbent republican_votes\n",
       "1 True                  1           False                   0            \n",
       "2 False              1153           True                 3268            \n",
       "3 False               537           True                 4291            \n",
       "4 True                  1           False                   0            \n",
       "5 True               3812           False                3384            \n",
       "6 False              2327           True                 5126            \n",
       "  other_incumbent other_votes gender_dem gender_rep winner_party winner_gender\n",
       "1 0                  0        male       N/A        Democrat     male         \n",
       "2 0                  0        Unknown    male       Republican   male         \n",
       "3 False           2270        female     female     Republican   female       \n",
       "4 0                  0        male       N/A        Democrat     male         \n",
       "5 0                  0        male       male       Democrat     male         \n",
       "6 0                  0        male       male       Republican   male         \n",
       "  vote_prop_dem vote_prop_rep vote_prop_other\n",
       "1 1.00000000    0.0000000     0.0000000      \n",
       "2 0.26080072    0.7391993     0.0000000      \n",
       "3 0.07565511    0.6045365     0.3198084      \n",
       "4 1.00000000    0.0000000     0.0000000      \n",
       "5 0.52973874    0.4702613     0.0000000      \n",
       "6 0.31222327    0.6877767     0.0000000      "
      ]
     },
     "metadata": {},
     "output_type": "display_data"
    }
   ],
   "source": [
    "## Generate winner and gender of winner\n",
    "elections_2016 <- elections_2016 %>%\n",
    "    mutate(winner_party = case_when(Democrat.Votes > Republican.Votes & Democrat.Votes > Other.Votes ~ \"Democrat\",\n",
    "                              Republican.Votes > Democrat.Votes & Republican.Votes > Other.Votes ~ \"Republican\",\n",
    "                              TRUE ~ \"Other\"),\n",
    "          winner_gender = case_when(winner_party == \"Democrat\" ~ gender_dem,\n",
    "                                   winner_party == \"Republican\" ~ gender_rep,\n",
    "                                   TRUE ~ \"Other candidate\")) %>%\n",
    "    select(-X)\n",
    "\n",
    "## Generate vote proportion\n",
    "elections_2016 <- elections_2016 %>%\n",
    "    mutate(vote_prop_dem = Democrat.Votes / (Democrat.Votes + Republican.Votes + Other.Votes),\n",
    "          vote_prop_rep = Republican.Votes / (Democrat.Votes + Republican.Votes + Other.Votes),\n",
    "          vote_prop_other = Other.Votes / (Democrat.Votes + Republican.Votes + Other.Votes))\n",
    "\n",
    "\n",
    "# Rename variables for consistency\n",
    "names(elections_2016) <- tolower(names(elections_2016))\n",
    "names(elections_2016) <-gsub(\"\\\\.\", \"_\", names(elections_2016))\n",
    "\n",
    "head(elections_2016)\n"
   ]
  },
  {
   "cell_type": "code",
   "execution_count": 7,
   "metadata": {},
   "outputs": [],
   "source": [
    "## Created file with gender column so you don't have to run the function every time, commented out to prevent accidental overwrite\n",
    "# write.csv(elections_2016, \"2016_election_results_wide.csv\")"
   ]
  },
  {
   "cell_type": "code",
   "execution_count": 8,
   "metadata": {},
   "outputs": [
    {
     "data": {
      "text/html": [
       "<table>\n",
       "<caption>A data.frame: 6 × 10</caption>\n",
       "<thead>\n",
       "\t<tr><th></th><th scope=col>candidate</th><th scope=col>state</th><th scope=col>district</th><th scope=col>year</th><th scope=col>incumbent</th><th scope=col>total_votes</th><th scope=col>vote_prop</th><th scope=col>gender</th><th scope=col>winner_party</th><th scope=col>candidate_party</th></tr>\n",
       "\t<tr><th></th><th scope=col>&lt;chr&gt;</th><th scope=col>&lt;chr&gt;</th><th scope=col>&lt;chr&gt;</th><th scope=col>&lt;int&gt;</th><th scope=col>&lt;chr&gt;</th><th scope=col>&lt;int&gt;</th><th scope=col>&lt;dbl&gt;</th><th scope=col>&lt;chr&gt;</th><th scope=col>&lt;chr&gt;</th><th scope=col>&lt;chr&gt;</th></tr>\n",
       "</thead>\n",
       "<tbody>\n",
       "\t<tr><th scope=row>1</th><td>Scott J. Kawasaki    </td><td>Alaska</td><td>1</td><td>2016</td><td>True </td><td>   1</td><td>1.00000000</td><td>male   </td><td>Democrat  </td><td>Democrat</td></tr>\n",
       "\t<tr><th scope=row>2</th><td>Truno Holdaway       </td><td>Alaska</td><td>2</td><td>2016</td><td>False</td><td>1153</td><td>0.26080072</td><td>Unknown</td><td>Republican</td><td>Democrat</td></tr>\n",
       "\t<tr><th scope=row>3</th><td>Christina M. Sinclair</td><td>Alaska</td><td>3</td><td>2016</td><td>False</td><td> 537</td><td>0.07565511</td><td>female </td><td>Republican</td><td>Democrat</td></tr>\n",
       "\t<tr><th scope=row>4</th><td>David Guttenberg     </td><td>Alaska</td><td>4</td><td>2016</td><td>True </td><td>   1</td><td>1.00000000</td><td>male   </td><td>Democrat  </td><td>Democrat</td></tr>\n",
       "\t<tr><th scope=row>5</th><td>Adam Wool            </td><td>Alaska</td><td>5</td><td>2016</td><td>True </td><td>3812</td><td>0.52973874</td><td>male   </td><td>Democrat  </td><td>Democrat</td></tr>\n",
       "\t<tr><th scope=row>6</th><td>Jason T. Land        </td><td>Alaska</td><td>6</td><td>2016</td><td>False</td><td>2327</td><td>0.31222327</td><td>male   </td><td>Republican</td><td>Democrat</td></tr>\n",
       "</tbody>\n",
       "</table>\n"
      ],
      "text/latex": [
       "A data.frame: 6 × 10\n",
       "\\begin{tabular}{r|llllllllll}\n",
       "  & candidate & state & district & year & incumbent & total\\_votes & vote\\_prop & gender & winner\\_party & candidate\\_party\\\\\n",
       "  & <chr> & <chr> & <chr> & <int> & <chr> & <int> & <dbl> & <chr> & <chr> & <chr>\\\\\n",
       "\\hline\n",
       "\t1 & Scott J. Kawasaki     & Alaska & 1 & 2016 & True  &    1 & 1.00000000 & male    & Democrat   & Democrat\\\\\n",
       "\t2 & Truno Holdaway        & Alaska & 2 & 2016 & False & 1153 & 0.26080072 & Unknown & Republican & Democrat\\\\\n",
       "\t3 & Christina M. Sinclair & Alaska & 3 & 2016 & False &  537 & 0.07565511 & female  & Republican & Democrat\\\\\n",
       "\t4 & David Guttenberg      & Alaska & 4 & 2016 & True  &    1 & 1.00000000 & male    & Democrat   & Democrat\\\\\n",
       "\t5 & Adam Wool             & Alaska & 5 & 2016 & True  & 3812 & 0.52973874 & male    & Democrat   & Democrat\\\\\n",
       "\t6 & Jason T. Land         & Alaska & 6 & 2016 & False & 2327 & 0.31222327 & male    & Republican & Democrat\\\\\n",
       "\\end{tabular}\n"
      ],
      "text/markdown": [
       "\n",
       "A data.frame: 6 × 10\n",
       "\n",
       "| <!--/--> | candidate &lt;chr&gt; | state &lt;chr&gt; | district &lt;chr&gt; | year &lt;int&gt; | incumbent &lt;chr&gt; | total_votes &lt;int&gt; | vote_prop &lt;dbl&gt; | gender &lt;chr&gt; | winner_party &lt;chr&gt; | candidate_party &lt;chr&gt; |\n",
       "|---|---|---|---|---|---|---|---|---|---|---|\n",
       "| 1 | Scott J. Kawasaki     | Alaska | 1 | 2016 | True  |    1 | 1.00000000 | male    | Democrat   | Democrat |\n",
       "| 2 | Truno Holdaway        | Alaska | 2 | 2016 | False | 1153 | 0.26080072 | Unknown | Republican | Democrat |\n",
       "| 3 | Christina M. Sinclair | Alaska | 3 | 2016 | False |  537 | 0.07565511 | female  | Republican | Democrat |\n",
       "| 4 | David Guttenberg      | Alaska | 4 | 2016 | True  |    1 | 1.00000000 | male    | Democrat   | Democrat |\n",
       "| 5 | Adam Wool             | Alaska | 5 | 2016 | True  | 3812 | 0.52973874 | male    | Democrat   | Democrat |\n",
       "| 6 | Jason T. Land         | Alaska | 6 | 2016 | False | 2327 | 0.31222327 | male    | Republican | Democrat |\n",
       "\n"
      ],
      "text/plain": [
       "  candidate             state  district year incumbent total_votes vote_prop \n",
       "1 Scott J. Kawasaki     Alaska 1        2016 True         1        1.00000000\n",
       "2 Truno Holdaway        Alaska 2        2016 False     1153        0.26080072\n",
       "3 Christina M. Sinclair Alaska 3        2016 False      537        0.07565511\n",
       "4 David Guttenberg      Alaska 4        2016 True         1        1.00000000\n",
       "5 Adam Wool             Alaska 5        2016 True      3812        0.52973874\n",
       "6 Jason T. Land         Alaska 6        2016 False     2327        0.31222327\n",
       "  gender  winner_party candidate_party\n",
       "1 male    Democrat     Democrat       \n",
       "2 Unknown Republican   Democrat       \n",
       "3 female  Republican   Democrat       \n",
       "4 male    Democrat     Democrat       \n",
       "5 male    Democrat     Democrat       \n",
       "6 male    Republican   Democrat       "
      ]
     },
     "metadata": {},
     "output_type": "display_data"
    }
   ],
   "source": [
    "## Create dataset of one line per candidate (not the ideal way to do it but works)\n",
    "\n",
    "Dem_data <- elections_2016 %>%\n",
    "    select(democrat, state, district, year, democrat_incumbent, democrat_votes, vote_prop_dem, gender_dem, winner_party)\n",
    "\n",
    "Rep_data <- elections_2016 %>%\n",
    "    select(republican, state, district, year, republican_incumbent, republican_votes, vote_prop_rep, gender_rep, winner_party)\n",
    "\n",
    "\n",
    "\n",
    "Dem_data <- Dem_data %>%\n",
    "    rename(candidate = democrat,\n",
    "          incumbent = democrat_incumbent,\n",
    "          total_votes = democrat_votes,\n",
    "          vote_prop = vote_prop_dem,\n",
    "          gender = gender_dem) %>%\n",
    "    mutate(candidate_party = \"Democrat\")\n",
    "\n",
    "Rep_data <- Rep_data %>%\n",
    "    rename(candidate = republican,\n",
    "          incumbent = republican_incumbent,\n",
    "          total_votes = republican_votes,\n",
    "          vote_prop = vote_prop_rep,\n",
    "          gender = gender_rep) %>%\n",
    "    mutate(candidate_party = \"Republican\")\n",
    "\n",
    "\n",
    "elections_2016_long <- rbind(Dem_data, Rep_data)\n",
    "\n",
    "head(elections_2016_long)\n",
    "\n",
    "\n"
   ]
  },
  {
   "cell_type": "code",
   "execution_count": 9,
   "metadata": {},
   "outputs": [
    {
     "data": {
      "text/html": [
       "<table>\n",
       "<caption>A data.frame: 6 × 6</caption>\n",
       "<thead>\n",
       "\t<tr><th></th><th scope=col>first_name</th><th scope=col>middle_name</th><th scope=col>last_name</th><th scope=col>race_ethnicity</th><th scope=col>full_name</th><th scope=col>alt_name</th></tr>\n",
       "\t<tr><th></th><th scope=col>&lt;chr&gt;</th><th scope=col>&lt;chr&gt;</th><th scope=col>&lt;chr&gt;</th><th scope=col>&lt;chr&gt;</th><th scope=col>&lt;chr&gt;</th><th scope=col>&lt;chr&gt;</th></tr>\n",
       "</thead>\n",
       "<tbody>\n",
       "\t<tr><th scope=row>1</th><td>Kim  </td><td>K.</td><td>Abbott</td><td>White</td><td>Kim K. Abbott  </td><td>Kim Abbott  </td></tr>\n",
       "\t<tr><th scope=row>2</th><td>Kim  </td><td>K.</td><td>Abbott</td><td>White</td><td>Kim K. Abbott  </td><td>Kim Abbott  </td></tr>\n",
       "\t<tr><th scope=row>3</th><td>Kim  </td><td>K.</td><td>Abbott</td><td>White</td><td>Kim K. Abbott  </td><td>Kim Abbott  </td></tr>\n",
       "\t<tr><th scope=row>4</th><td>Kim  </td><td>K.</td><td>Abbott</td><td>White</td><td>Kim K. Abbott  </td><td>Kim Abbott  </td></tr>\n",
       "\t<tr><th scope=row>5</th><td>Robin</td><td>A.</td><td>Abbott</td><td>White</td><td>Robin A. Abbott</td><td>Robin Abbott</td></tr>\n",
       "\t<tr><th scope=row>6</th><td>Robin</td><td>A.</td><td>Abbott</td><td>White</td><td>Robin A. Abbott</td><td>Robin Abbott</td></tr>\n",
       "</tbody>\n",
       "</table>\n"
      ],
      "text/latex": [
       "A data.frame: 6 × 6\n",
       "\\begin{tabular}{r|llllll}\n",
       "  & first\\_name & middle\\_name & last\\_name & race\\_ethnicity & full\\_name & alt\\_name\\\\\n",
       "  & <chr> & <chr> & <chr> & <chr> & <chr> & <chr>\\\\\n",
       "\\hline\n",
       "\t1 & Kim   & K. & Abbott & White & Kim K. Abbott   & Kim Abbott  \\\\\n",
       "\t2 & Kim   & K. & Abbott & White & Kim K. Abbott   & Kim Abbott  \\\\\n",
       "\t3 & Kim   & K. & Abbott & White & Kim K. Abbott   & Kim Abbott  \\\\\n",
       "\t4 & Kim   & K. & Abbott & White & Kim K. Abbott   & Kim Abbott  \\\\\n",
       "\t5 & Robin & A. & Abbott & White & Robin A. Abbott & Robin Abbott\\\\\n",
       "\t6 & Robin & A. & Abbott & White & Robin A. Abbott & Robin Abbott\\\\\n",
       "\\end{tabular}\n"
      ],
      "text/markdown": [
       "\n",
       "A data.frame: 6 × 6\n",
       "\n",
       "| <!--/--> | first_name &lt;chr&gt; | middle_name &lt;chr&gt; | last_name &lt;chr&gt; | race_ethnicity &lt;chr&gt; | full_name &lt;chr&gt; | alt_name &lt;chr&gt; |\n",
       "|---|---|---|---|---|---|---|\n",
       "| 1 | Kim   | K. | Abbott | White | Kim K. Abbott   | Kim Abbott   |\n",
       "| 2 | Kim   | K. | Abbott | White | Kim K. Abbott   | Kim Abbott   |\n",
       "| 3 | Kim   | K. | Abbott | White | Kim K. Abbott   | Kim Abbott   |\n",
       "| 4 | Kim   | K. | Abbott | White | Kim K. Abbott   | Kim Abbott   |\n",
       "| 5 | Robin | A. | Abbott | White | Robin A. Abbott | Robin Abbott |\n",
       "| 6 | Robin | A. | Abbott | White | Robin A. Abbott | Robin Abbott |\n",
       "\n"
      ],
      "text/plain": [
       "  first_name middle_name last_name race_ethnicity full_name       alt_name    \n",
       "1 Kim        K.          Abbott    White          Kim K. Abbott   Kim Abbott  \n",
       "2 Kim        K.          Abbott    White          Kim K. Abbott   Kim Abbott  \n",
       "3 Kim        K.          Abbott    White          Kim K. Abbott   Kim Abbott  \n",
       "4 Kim        K.          Abbott    White          Kim K. Abbott   Kim Abbott  \n",
       "5 Robin      A.          Abbott    White          Robin A. Abbott Robin Abbott\n",
       "6 Robin      A.          Abbott    White          Robin A. Abbott Robin Abbott"
      ]
     },
     "metadata": {},
     "output_type": "display_data"
    },
    {
     "data": {
      "text/html": [
       "<table>\n",
       "<caption>A data.frame: 6 × 3</caption>\n",
       "<thead>\n",
       "\t<tr><th></th><th scope=col>full_name</th><th scope=col>alt_name</th><th scope=col>race_ethnicity</th></tr>\n",
       "\t<tr><th></th><th scope=col>&lt;chr&gt;</th><th scope=col>&lt;chr&gt;</th><th scope=col>&lt;chr&gt;</th></tr>\n",
       "</thead>\n",
       "<tbody>\n",
       "\t<tr><th scope=row>1</th><td>Kim K. Abbott           </td><td>Kim Abbott           </td><td>White                 </td></tr>\n",
       "\t<tr><th scope=row>5</th><td>Robin A. Abbott         </td><td>Robin Abbott         </td><td>White                 </td></tr>\n",
       "\t<tr><th scope=row>7</th><td>Roberta  Abdul-Salaam   </td><td>Roberta Abdul-Salaam </td><td>Black/African American</td></tr>\n",
       "\t<tr><th scope=row>12</th><td>Theresa  Abed           </td><td>Theresa Abed         </td><td>White                 </td></tr>\n",
       "\t<tr><th scope=row>14</th><td>Catherine F. Abercrombie</td><td>Catherine Abercrombie</td><td>White                 </td></tr>\n",
       "\t<tr><th scope=row>27</th><td>Paula  Aboud            </td><td>Paula Aboud          </td><td>White                 </td></tr>\n",
       "</tbody>\n",
       "</table>\n"
      ],
      "text/latex": [
       "A data.frame: 6 × 3\n",
       "\\begin{tabular}{r|lll}\n",
       "  & full\\_name & alt\\_name & race\\_ethnicity\\\\\n",
       "  & <chr> & <chr> & <chr>\\\\\n",
       "\\hline\n",
       "\t1 & Kim K. Abbott            & Kim Abbott            & White                 \\\\\n",
       "\t5 & Robin A. Abbott          & Robin Abbott          & White                 \\\\\n",
       "\t7 & Roberta  Abdul-Salaam    & Roberta Abdul-Salaam  & Black/African American\\\\\n",
       "\t12 & Theresa  Abed            & Theresa Abed          & White                 \\\\\n",
       "\t14 & Catherine F. Abercrombie & Catherine Abercrombie & White                 \\\\\n",
       "\t27 & Paula  Aboud             & Paula Aboud           & White                 \\\\\n",
       "\\end{tabular}\n"
      ],
      "text/markdown": [
       "\n",
       "A data.frame: 6 × 3\n",
       "\n",
       "| <!--/--> | full_name &lt;chr&gt; | alt_name &lt;chr&gt; | race_ethnicity &lt;chr&gt; |\n",
       "|---|---|---|---|\n",
       "| 1 | Kim K. Abbott            | Kim Abbott            | White                  |\n",
       "| 5 | Robin A. Abbott          | Robin Abbott          | White                  |\n",
       "| 7 | Roberta  Abdul-Salaam    | Roberta Abdul-Salaam  | Black/African American |\n",
       "| 12 | Theresa  Abed            | Theresa Abed          | White                  |\n",
       "| 14 | Catherine F. Abercrombie | Catherine Abercrombie | White                  |\n",
       "| 27 | Paula  Aboud             | Paula Aboud           | White                  |\n",
       "\n"
      ],
      "text/plain": [
       "   full_name                alt_name              race_ethnicity        \n",
       "1  Kim K. Abbott            Kim Abbott            White                 \n",
       "5  Robin A. Abbott          Robin Abbott          White                 \n",
       "7  Roberta  Abdul-Salaam    Roberta Abdul-Salaam  Black/African American\n",
       "12 Theresa  Abed            Theresa Abed          White                 \n",
       "14 Catherine F. Abercrombie Catherine Abercrombie White                 \n",
       "27 Paula  Aboud             Paula Aboud           White                 "
      ]
     },
     "metadata": {},
     "output_type": "display_data"
    }
   ],
   "source": [
    "## Joins for race\n",
    "\n",
    "race_data <- read.csv(\"officeholders_race_ethnicity-1606938979.csv\")\n",
    "\n",
    "race_data <- race_data %>%\n",
    "    select(first_name, middle_name, last_name, race_ethnicity) %>%\n",
    "    mutate(full_name = paste(first_name, middle_name, last_name, sep = \" \"),\n",
    "          alt_name = paste(first_name, last_name, sep = \" \"))\n",
    "\n",
    "head(race_data)\n",
    "\n",
    "race_data_2 <- unique(race_data[, c(\"full_name\", \"alt_name\", \"race_ethnicity\")])\n",
    "\n",
    "head(race_data_2)\n",
    "\n"
   ]
  },
  {
   "cell_type": "code",
   "execution_count": 10,
   "metadata": {},
   "outputs": [
    {
     "data": {
      "text/html": [
       "<table>\n",
       "<caption>A data.frame: 6 × 10</caption>\n",
       "<thead>\n",
       "\t<tr><th></th><th scope=col>candidate</th><th scope=col>state</th><th scope=col>district</th><th scope=col>year</th><th scope=col>incumbent</th><th scope=col>total_votes</th><th scope=col>vote_prop</th><th scope=col>gender</th><th scope=col>winner_party</th><th scope=col>candidate_party</th></tr>\n",
       "\t<tr><th></th><th scope=col>&lt;chr&gt;</th><th scope=col>&lt;chr&gt;</th><th scope=col>&lt;chr&gt;</th><th scope=col>&lt;int&gt;</th><th scope=col>&lt;chr&gt;</th><th scope=col>&lt;int&gt;</th><th scope=col>&lt;dbl&gt;</th><th scope=col>&lt;chr&gt;</th><th scope=col>&lt;chr&gt;</th><th scope=col>&lt;chr&gt;</th></tr>\n",
       "</thead>\n",
       "<tbody>\n",
       "\t<tr><th scope=row>1</th><td>Scott J. Kawasaki    </td><td>Alaska</td><td>1</td><td>2016</td><td>True </td><td>   1</td><td>1.00000000</td><td>male   </td><td>Democrat  </td><td>Democrat</td></tr>\n",
       "\t<tr><th scope=row>2</th><td>Truno Holdaway       </td><td>Alaska</td><td>2</td><td>2016</td><td>False</td><td>1153</td><td>0.26080072</td><td>Unknown</td><td>Republican</td><td>Democrat</td></tr>\n",
       "\t<tr><th scope=row>3</th><td>Christina M. Sinclair</td><td>Alaska</td><td>3</td><td>2016</td><td>False</td><td> 537</td><td>0.07565511</td><td>female </td><td>Republican</td><td>Democrat</td></tr>\n",
       "\t<tr><th scope=row>4</th><td>David Guttenberg     </td><td>Alaska</td><td>4</td><td>2016</td><td>True </td><td>   1</td><td>1.00000000</td><td>male   </td><td>Democrat  </td><td>Democrat</td></tr>\n",
       "\t<tr><th scope=row>5</th><td>Adam Wool            </td><td>Alaska</td><td>5</td><td>2016</td><td>True </td><td>3812</td><td>0.52973874</td><td>male   </td><td>Democrat  </td><td>Democrat</td></tr>\n",
       "\t<tr><th scope=row>6</th><td>Jason T. Land        </td><td>Alaska</td><td>6</td><td>2016</td><td>False</td><td>2327</td><td>0.31222327</td><td>male   </td><td>Republican</td><td>Democrat</td></tr>\n",
       "</tbody>\n",
       "</table>\n"
      ],
      "text/latex": [
       "A data.frame: 6 × 10\n",
       "\\begin{tabular}{r|llllllllll}\n",
       "  & candidate & state & district & year & incumbent & total\\_votes & vote\\_prop & gender & winner\\_party & candidate\\_party\\\\\n",
       "  & <chr> & <chr> & <chr> & <int> & <chr> & <int> & <dbl> & <chr> & <chr> & <chr>\\\\\n",
       "\\hline\n",
       "\t1 & Scott J. Kawasaki     & Alaska & 1 & 2016 & True  &    1 & 1.00000000 & male    & Democrat   & Democrat\\\\\n",
       "\t2 & Truno Holdaway        & Alaska & 2 & 2016 & False & 1153 & 0.26080072 & Unknown & Republican & Democrat\\\\\n",
       "\t3 & Christina M. Sinclair & Alaska & 3 & 2016 & False &  537 & 0.07565511 & female  & Republican & Democrat\\\\\n",
       "\t4 & David Guttenberg      & Alaska & 4 & 2016 & True  &    1 & 1.00000000 & male    & Democrat   & Democrat\\\\\n",
       "\t5 & Adam Wool             & Alaska & 5 & 2016 & True  & 3812 & 0.52973874 & male    & Democrat   & Democrat\\\\\n",
       "\t6 & Jason T. Land         & Alaska & 6 & 2016 & False & 2327 & 0.31222327 & male    & Republican & Democrat\\\\\n",
       "\\end{tabular}\n"
      ],
      "text/markdown": [
       "\n",
       "A data.frame: 6 × 10\n",
       "\n",
       "| <!--/--> | candidate &lt;chr&gt; | state &lt;chr&gt; | district &lt;chr&gt; | year &lt;int&gt; | incumbent &lt;chr&gt; | total_votes &lt;int&gt; | vote_prop &lt;dbl&gt; | gender &lt;chr&gt; | winner_party &lt;chr&gt; | candidate_party &lt;chr&gt; |\n",
       "|---|---|---|---|---|---|---|---|---|---|---|\n",
       "| 1 | Scott J. Kawasaki     | Alaska | 1 | 2016 | True  |    1 | 1.00000000 | male    | Democrat   | Democrat |\n",
       "| 2 | Truno Holdaway        | Alaska | 2 | 2016 | False | 1153 | 0.26080072 | Unknown | Republican | Democrat |\n",
       "| 3 | Christina M. Sinclair | Alaska | 3 | 2016 | False |  537 | 0.07565511 | female  | Republican | Democrat |\n",
       "| 4 | David Guttenberg      | Alaska | 4 | 2016 | True  |    1 | 1.00000000 | male    | Democrat   | Democrat |\n",
       "| 5 | Adam Wool             | Alaska | 5 | 2016 | True  | 3812 | 0.52973874 | male    | Democrat   | Democrat |\n",
       "| 6 | Jason T. Land         | Alaska | 6 | 2016 | False | 2327 | 0.31222327 | male    | Republican | Democrat |\n",
       "\n"
      ],
      "text/plain": [
       "  candidate             state  district year incumbent total_votes vote_prop \n",
       "1 Scott J. Kawasaki     Alaska 1        2016 True         1        1.00000000\n",
       "2 Truno Holdaway        Alaska 2        2016 False     1153        0.26080072\n",
       "3 Christina M. Sinclair Alaska 3        2016 False      537        0.07565511\n",
       "4 David Guttenberg      Alaska 4        2016 True         1        1.00000000\n",
       "5 Adam Wool             Alaska 5        2016 True      3812        0.52973874\n",
       "6 Jason T. Land         Alaska 6        2016 False     2327        0.31222327\n",
       "  gender  winner_party candidate_party\n",
       "1 male    Democrat     Democrat       \n",
       "2 Unknown Republican   Democrat       \n",
       "3 female  Republican   Democrat       \n",
       "4 male    Democrat     Democrat       \n",
       "5 male    Democrat     Democrat       \n",
       "6 male    Republican   Democrat       "
      ]
     },
     "metadata": {},
     "output_type": "display_data"
    },
    {
     "data": {
      "text/html": [
       "<table>\n",
       "<caption>A data.frame: 6 × 11</caption>\n",
       "<thead>\n",
       "\t<tr><th></th><th scope=col>candidate</th><th scope=col>state</th><th scope=col>district</th><th scope=col>year</th><th scope=col>incumbent</th><th scope=col>total_votes</th><th scope=col>vote_prop</th><th scope=col>gender</th><th scope=col>winner_party</th><th scope=col>candidate_party</th><th scope=col>race_ethnicity</th></tr>\n",
       "\t<tr><th></th><th scope=col>&lt;chr&gt;</th><th scope=col>&lt;chr&gt;</th><th scope=col>&lt;chr&gt;</th><th scope=col>&lt;int&gt;</th><th scope=col>&lt;chr&gt;</th><th scope=col>&lt;int&gt;</th><th scope=col>&lt;dbl&gt;</th><th scope=col>&lt;chr&gt;</th><th scope=col>&lt;chr&gt;</th><th scope=col>&lt;chr&gt;</th><th scope=col>&lt;chr&gt;</th></tr>\n",
       "</thead>\n",
       "<tbody>\n",
       "\t<tr><th scope=row>1</th><td>Scott J. Kawasaki    </td><td>Alaska</td><td>1</td><td>2016</td><td>True </td><td>   1</td><td>1.00000000</td><td>male   </td><td>Democrat  </td><td>Democrat</td><td>Missing</td></tr>\n",
       "\t<tr><th scope=row>2</th><td>Truno Holdaway       </td><td>Alaska</td><td>2</td><td>2016</td><td>False</td><td>1153</td><td>0.26080072</td><td>Unknown</td><td>Republican</td><td>Democrat</td><td>Missing</td></tr>\n",
       "\t<tr><th scope=row>3</th><td>Christina M. Sinclair</td><td>Alaska</td><td>3</td><td>2016</td><td>False</td><td> 537</td><td>0.07565511</td><td>female </td><td>Republican</td><td>Democrat</td><td>Missing</td></tr>\n",
       "\t<tr><th scope=row>4</th><td>David Guttenberg     </td><td>Alaska</td><td>4</td><td>2016</td><td>True </td><td>   1</td><td>1.00000000</td><td>male   </td><td>Democrat  </td><td>Democrat</td><td>Missing</td></tr>\n",
       "\t<tr><th scope=row>5</th><td>Adam Wool            </td><td>Alaska</td><td>5</td><td>2016</td><td>True </td><td>3812</td><td>0.52973874</td><td>male   </td><td>Democrat  </td><td>Democrat</td><td>Missing</td></tr>\n",
       "\t<tr><th scope=row>6</th><td>Jason T. Land        </td><td>Alaska</td><td>6</td><td>2016</td><td>False</td><td>2327</td><td>0.31222327</td><td>male   </td><td>Republican</td><td>Democrat</td><td>Missing</td></tr>\n",
       "</tbody>\n",
       "</table>\n"
      ],
      "text/latex": [
       "A data.frame: 6 × 11\n",
       "\\begin{tabular}{r|lllllllllll}\n",
       "  & candidate & state & district & year & incumbent & total\\_votes & vote\\_prop & gender & winner\\_party & candidate\\_party & race\\_ethnicity\\\\\n",
       "  & <chr> & <chr> & <chr> & <int> & <chr> & <int> & <dbl> & <chr> & <chr> & <chr> & <chr>\\\\\n",
       "\\hline\n",
       "\t1 & Scott J. Kawasaki     & Alaska & 1 & 2016 & True  &    1 & 1.00000000 & male    & Democrat   & Democrat & Missing\\\\\n",
       "\t2 & Truno Holdaway        & Alaska & 2 & 2016 & False & 1153 & 0.26080072 & Unknown & Republican & Democrat & Missing\\\\\n",
       "\t3 & Christina M. Sinclair & Alaska & 3 & 2016 & False &  537 & 0.07565511 & female  & Republican & Democrat & Missing\\\\\n",
       "\t4 & David Guttenberg      & Alaska & 4 & 2016 & True  &    1 & 1.00000000 & male    & Democrat   & Democrat & Missing\\\\\n",
       "\t5 & Adam Wool             & Alaska & 5 & 2016 & True  & 3812 & 0.52973874 & male    & Democrat   & Democrat & Missing\\\\\n",
       "\t6 & Jason T. Land         & Alaska & 6 & 2016 & False & 2327 & 0.31222327 & male    & Republican & Democrat & Missing\\\\\n",
       "\\end{tabular}\n"
      ],
      "text/markdown": [
       "\n",
       "A data.frame: 6 × 11\n",
       "\n",
       "| <!--/--> | candidate &lt;chr&gt; | state &lt;chr&gt; | district &lt;chr&gt; | year &lt;int&gt; | incumbent &lt;chr&gt; | total_votes &lt;int&gt; | vote_prop &lt;dbl&gt; | gender &lt;chr&gt; | winner_party &lt;chr&gt; | candidate_party &lt;chr&gt; | race_ethnicity &lt;chr&gt; |\n",
       "|---|---|---|---|---|---|---|---|---|---|---|---|\n",
       "| 1 | Scott J. Kawasaki     | Alaska | 1 | 2016 | True  |    1 | 1.00000000 | male    | Democrat   | Democrat | Missing |\n",
       "| 2 | Truno Holdaway        | Alaska | 2 | 2016 | False | 1153 | 0.26080072 | Unknown | Republican | Democrat | Missing |\n",
       "| 3 | Christina M. Sinclair | Alaska | 3 | 2016 | False |  537 | 0.07565511 | female  | Republican | Democrat | Missing |\n",
       "| 4 | David Guttenberg      | Alaska | 4 | 2016 | True  |    1 | 1.00000000 | male    | Democrat   | Democrat | Missing |\n",
       "| 5 | Adam Wool             | Alaska | 5 | 2016 | True  | 3812 | 0.52973874 | male    | Democrat   | Democrat | Missing |\n",
       "| 6 | Jason T. Land         | Alaska | 6 | 2016 | False | 2327 | 0.31222327 | male    | Republican | Democrat | Missing |\n",
       "\n"
      ],
      "text/plain": [
       "  candidate             state  district year incumbent total_votes vote_prop \n",
       "1 Scott J. Kawasaki     Alaska 1        2016 True         1        1.00000000\n",
       "2 Truno Holdaway        Alaska 2        2016 False     1153        0.26080072\n",
       "3 Christina M. Sinclair Alaska 3        2016 False      537        0.07565511\n",
       "4 David Guttenberg      Alaska 4        2016 True         1        1.00000000\n",
       "5 Adam Wool             Alaska 5        2016 True      3812        0.52973874\n",
       "6 Jason T. Land         Alaska 6        2016 False     2327        0.31222327\n",
       "  gender  winner_party candidate_party race_ethnicity\n",
       "1 male    Democrat     Democrat        Missing       \n",
       "2 Unknown Republican   Democrat        Missing       \n",
       "3 female  Republican   Democrat        Missing       \n",
       "4 male    Democrat     Democrat        Missing       \n",
       "5 male    Democrat     Democrat        Missing       \n",
       "6 male    Republican   Democrat        Missing       "
      ]
     },
     "metadata": {},
     "output_type": "display_data"
    },
    {
     "name": "stderr",
     "output_type": "stream",
     "text": [
      "`summarise()` ungrouping output (override with `.groups` argument)\n",
      "\n"
     ]
    },
    {
     "data": {
      "text/html": [
       "<table>\n",
       "<caption>A tibble: 12 × 2</caption>\n",
       "<thead>\n",
       "\t<tr><th scope=col>race_ethnicity</th><th scope=col>n()</th></tr>\n",
       "\t<tr><th scope=col>&lt;chr&gt;</th><th scope=col>&lt;int&gt;</th></tr>\n",
       "</thead>\n",
       "<tbody>\n",
       "\t<tr><td>Asian/Pacific Islander                              </td><td>  15</td></tr>\n",
       "\t<tr><td>Black/African American                              </td><td> 110</td></tr>\n",
       "\t<tr><td>Hispanic/Latina                                     </td><td>  48</td></tr>\n",
       "\t<tr><td>Missing                                             </td><td>6560</td></tr>\n",
       "\t<tr><td>Multiracial                                         </td><td>   1</td></tr>\n",
       "\t<tr><td>Multiracial, Black/African American, Hispanic/Latina</td><td>   1</td></tr>\n",
       "\t<tr><td>Multiracial, White/Caucasian, Asian/Pacific Islander</td><td>   2</td></tr>\n",
       "\t<tr><td>Multiracial, White/Caucasian, Black/African American</td><td>   2</td></tr>\n",
       "\t<tr><td>Multiracial, White/Caucasian, Native American       </td><td>   2</td></tr>\n",
       "\t<tr><td>Native American                                     </td><td>   8</td></tr>\n",
       "\t<tr><td>Other                                               </td><td>   1</td></tr>\n",
       "\t<tr><td>White                                               </td><td> 722</td></tr>\n",
       "</tbody>\n",
       "</table>\n"
      ],
      "text/latex": [
       "A tibble: 12 × 2\n",
       "\\begin{tabular}{ll}\n",
       " race\\_ethnicity & n()\\\\\n",
       " <chr> & <int>\\\\\n",
       "\\hline\n",
       "\t Asian/Pacific Islander                               &   15\\\\\n",
       "\t Black/African American                               &  110\\\\\n",
       "\t Hispanic/Latina                                      &   48\\\\\n",
       "\t Missing                                              & 6560\\\\\n",
       "\t Multiracial                                          &    1\\\\\n",
       "\t Multiracial, Black/African American, Hispanic/Latina &    1\\\\\n",
       "\t Multiracial, White/Caucasian, Asian/Pacific Islander &    2\\\\\n",
       "\t Multiracial, White/Caucasian, Black/African American &    2\\\\\n",
       "\t Multiracial, White/Caucasian, Native American        &    2\\\\\n",
       "\t Native American                                      &    8\\\\\n",
       "\t Other                                                &    1\\\\\n",
       "\t White                                                &  722\\\\\n",
       "\\end{tabular}\n"
      ],
      "text/markdown": [
       "\n",
       "A tibble: 12 × 2\n",
       "\n",
       "| race_ethnicity &lt;chr&gt; | n() &lt;int&gt; |\n",
       "|---|---|\n",
       "| Asian/Pacific Islander                               |   15 |\n",
       "| Black/African American                               |  110 |\n",
       "| Hispanic/Latina                                      |   48 |\n",
       "| Missing                                              | 6560 |\n",
       "| Multiracial                                          |    1 |\n",
       "| Multiracial, Black/African American, Hispanic/Latina |    1 |\n",
       "| Multiracial, White/Caucasian, Asian/Pacific Islander |    2 |\n",
       "| Multiracial, White/Caucasian, Black/African American |    2 |\n",
       "| Multiracial, White/Caucasian, Native American        |    2 |\n",
       "| Native American                                      |    8 |\n",
       "| Other                                                |    1 |\n",
       "| White                                                |  722 |\n",
       "\n"
      ],
      "text/plain": [
       "   race_ethnicity                                       n() \n",
       "1  Asian/Pacific Islander                                 15\n",
       "2  Black/African American                                110\n",
       "3  Hispanic/Latina                                        48\n",
       "4  Missing                                              6560\n",
       "5  Multiracial                                             1\n",
       "6  Multiracial, Black/African American, Hispanic/Latina    1\n",
       "7  Multiracial, White/Caucasian, Asian/Pacific Islander    2\n",
       "8  Multiracial, White/Caucasian, Black/African American    2\n",
       "9  Multiracial, White/Caucasian, Native American           2\n",
       "10 Native American                                         8\n",
       "11 Other                                                   1\n",
       "12 White                                                 722"
      ]
     },
     "metadata": {},
     "output_type": "display_data"
    }
   ],
   "source": [
    "## 2016 race join\n",
    "\n",
    "head(elections_2016_long)\n",
    "\n",
    "\n",
    "new_data_2016 <- elections_2016_long %>%\n",
    "    left_join(race_data_2, by = c(\"candidate\" = \"full_name\")) %>%\n",
    "    left_join(race_data_2, by = c(\"candidate\" = \"alt_name\")) %>%\n",
    "    mutate(race_ethnicity.x = replace_na(race_ethnicity.x, \"Missing\"),\n",
    "          race_ethnicity.y = replace_na(race_ethnicity.y, \"Missing\"),\n",
    "          race_ethnicity.x = ifelse(race_ethnicity.x == \"Missing\", race_ethnicity.y, \"Missing\")) %>%\n",
    "    select(-c(\"full_name\", \"alt_name\", \"race_ethnicity.y\")) %>%\n",
    "    rename(race_ethnicity = race_ethnicity.x)\n",
    "\n",
    "\n",
    "head(new_data_2016)\n",
    "\n",
    "new_data_2016 %>%\n",
    "    group_by(race_ethnicity) %>%\n",
    "    summarize(n())\n",
    "\n"
   ]
  },
  {
   "cell_type": "code",
   "execution_count": 11,
   "metadata": {},
   "outputs": [],
   "source": [
    "## Save long dataset 2016, commented out to prevent overwrite\n",
    "# write.csv(new_data_2016, \"2016_election_results_long.csv\")"
   ]
  },
  {
   "cell_type": "code",
   "execution_count": 12,
   "metadata": {},
   "outputs": [
    {
     "data": {
      "text/html": [
       "<table>\n",
       "<caption>A data.frame: 6 × 19</caption>\n",
       "<thead>\n",
       "\t<tr><th></th><th scope=col>X</th><th scope=col>year</th><th scope=col>state</th><th scope=col>state_po</th><th scope=col>state_fips</th><th scope=col>state_cen</th><th scope=col>state_ic</th><th scope=col>office</th><th scope=col>district</th><th scope=col>stage</th><th scope=col>special</th><th scope=col>candidate</th><th scope=col>party</th><th scope=col>writein</th><th scope=col>mode</th><th scope=col>candidatevotes</th><th scope=col>totalvotes</th><th scope=col>unofficial</th><th scope=col>version</th></tr>\n",
       "\t<tr><th></th><th scope=col>&lt;int&gt;</th><th scope=col>&lt;int&gt;</th><th scope=col>&lt;chr&gt;</th><th scope=col>&lt;chr&gt;</th><th scope=col>&lt;int&gt;</th><th scope=col>&lt;int&gt;</th><th scope=col>&lt;int&gt;</th><th scope=col>&lt;chr&gt;</th><th scope=col>&lt;chr&gt;</th><th scope=col>&lt;chr&gt;</th><th scope=col>&lt;lgl&gt;</th><th scope=col>&lt;chr&gt;</th><th scope=col>&lt;chr&gt;</th><th scope=col>&lt;lgl&gt;</th><th scope=col>&lt;chr&gt;</th><th scope=col>&lt;int&gt;</th><th scope=col>&lt;int&gt;</th><th scope=col>&lt;lgl&gt;</th><th scope=col>&lt;int&gt;</th></tr>\n",
       "</thead>\n",
       "<tbody>\n",
       "\t<tr><th scope=row>1</th><td>1</td><td>2018</td><td>Alabama</td><td>AL</td><td>1</td><td>63</td><td>41</td><td>Associate Justice of the Supreme Court, Place 1</td><td>statewide</td><td>gen</td><td>FALSE</td><td>Over Votes         </td><td>NA        </td><td>FALSE</td><td>absentee    </td><td>      8</td><td>1705793</td><td>FALSE</td><td>20200508</td></tr>\n",
       "\t<tr><th scope=row>2</th><td>2</td><td>2018</td><td>Alabama</td><td>AL</td><td>1</td><td>63</td><td>41</td><td>Associate Justice of the Supreme Court, Place 1</td><td>statewide</td><td>gen</td><td>FALSE</td><td>Over Votes         </td><td>NA        </td><td>FALSE</td><td>election day</td><td>    241</td><td>1705793</td><td>FALSE</td><td>20200508</td></tr>\n",
       "\t<tr><th scope=row>3</th><td>3</td><td>2018</td><td>Alabama</td><td>AL</td><td>1</td><td>63</td><td>41</td><td>Associate Justice of the Supreme Court, Place 1</td><td>statewide</td><td>gen</td><td>FALSE</td><td>Over Votes         </td><td>NA        </td><td>FALSE</td><td>provisional </td><td>      1</td><td>1705793</td><td>FALSE</td><td>20200508</td></tr>\n",
       "\t<tr><th scope=row>4</th><td>4</td><td>2018</td><td>Alabama</td><td>AL</td><td>1</td><td>63</td><td>41</td><td>Associate Justice of the Supreme Court, Place 1</td><td>statewide</td><td>gen</td><td>FALSE</td><td>Sarah Hicks Stewart</td><td>republican</td><td>FALSE</td><td>absentee    </td><td>  32836</td><td>1705793</td><td>FALSE</td><td>20200508</td></tr>\n",
       "\t<tr><th scope=row>5</th><td>5</td><td>2018</td><td>Alabama</td><td>AL</td><td>1</td><td>63</td><td>41</td><td>Associate Justice of the Supreme Court, Place 1</td><td>statewide</td><td>gen</td><td>FALSE</td><td>Sarah Hicks Stewart</td><td>republican</td><td>FALSE</td><td>election day</td><td>1060731</td><td>1705793</td><td>FALSE</td><td>20200508</td></tr>\n",
       "\t<tr><th scope=row>6</th><td>6</td><td>2018</td><td>Alabama</td><td>AL</td><td>1</td><td>63</td><td>41</td><td>Associate Justice of the Supreme Court, Place 1</td><td>statewide</td><td>gen</td><td>FALSE</td><td>Sarah Hicks Stewart</td><td>republican</td><td>FALSE</td><td>provisional </td><td>   3568</td><td>1705793</td><td>FALSE</td><td>20200508</td></tr>\n",
       "</tbody>\n",
       "</table>\n"
      ],
      "text/latex": [
       "A data.frame: 6 × 19\n",
       "\\begin{tabular}{r|lllllllllllllllllll}\n",
       "  & X & year & state & state\\_po & state\\_fips & state\\_cen & state\\_ic & office & district & stage & special & candidate & party & writein & mode & candidatevotes & totalvotes & unofficial & version\\\\\n",
       "  & <int> & <int> & <chr> & <chr> & <int> & <int> & <int> & <chr> & <chr> & <chr> & <lgl> & <chr> & <chr> & <lgl> & <chr> & <int> & <int> & <lgl> & <int>\\\\\n",
       "\\hline\n",
       "\t1 & 1 & 2018 & Alabama & AL & 1 & 63 & 41 & Associate Justice of the Supreme Court, Place 1 & statewide & gen & FALSE & Over Votes          & NA         & FALSE & absentee     &       8 & 1705793 & FALSE & 20200508\\\\\n",
       "\t2 & 2 & 2018 & Alabama & AL & 1 & 63 & 41 & Associate Justice of the Supreme Court, Place 1 & statewide & gen & FALSE & Over Votes          & NA         & FALSE & election day &     241 & 1705793 & FALSE & 20200508\\\\\n",
       "\t3 & 3 & 2018 & Alabama & AL & 1 & 63 & 41 & Associate Justice of the Supreme Court, Place 1 & statewide & gen & FALSE & Over Votes          & NA         & FALSE & provisional  &       1 & 1705793 & FALSE & 20200508\\\\\n",
       "\t4 & 4 & 2018 & Alabama & AL & 1 & 63 & 41 & Associate Justice of the Supreme Court, Place 1 & statewide & gen & FALSE & Sarah Hicks Stewart & republican & FALSE & absentee     &   32836 & 1705793 & FALSE & 20200508\\\\\n",
       "\t5 & 5 & 2018 & Alabama & AL & 1 & 63 & 41 & Associate Justice of the Supreme Court, Place 1 & statewide & gen & FALSE & Sarah Hicks Stewart & republican & FALSE & election day & 1060731 & 1705793 & FALSE & 20200508\\\\\n",
       "\t6 & 6 & 2018 & Alabama & AL & 1 & 63 & 41 & Associate Justice of the Supreme Court, Place 1 & statewide & gen & FALSE & Sarah Hicks Stewart & republican & FALSE & provisional  &    3568 & 1705793 & FALSE & 20200508\\\\\n",
       "\\end{tabular}\n"
      ],
      "text/markdown": [
       "\n",
       "A data.frame: 6 × 19\n",
       "\n",
       "| <!--/--> | X &lt;int&gt; | year &lt;int&gt; | state &lt;chr&gt; | state_po &lt;chr&gt; | state_fips &lt;int&gt; | state_cen &lt;int&gt; | state_ic &lt;int&gt; | office &lt;chr&gt; | district &lt;chr&gt; | stage &lt;chr&gt; | special &lt;lgl&gt; | candidate &lt;chr&gt; | party &lt;chr&gt; | writein &lt;lgl&gt; | mode &lt;chr&gt; | candidatevotes &lt;int&gt; | totalvotes &lt;int&gt; | unofficial &lt;lgl&gt; | version &lt;int&gt; |\n",
       "|---|---|---|---|---|---|---|---|---|---|---|---|---|---|---|---|---|---|---|---|\n",
       "| 1 | 1 | 2018 | Alabama | AL | 1 | 63 | 41 | Associate Justice of the Supreme Court, Place 1 | statewide | gen | FALSE | Over Votes          | NA         | FALSE | absentee     |       8 | 1705793 | FALSE | 20200508 |\n",
       "| 2 | 2 | 2018 | Alabama | AL | 1 | 63 | 41 | Associate Justice of the Supreme Court, Place 1 | statewide | gen | FALSE | Over Votes          | NA         | FALSE | election day |     241 | 1705793 | FALSE | 20200508 |\n",
       "| 3 | 3 | 2018 | Alabama | AL | 1 | 63 | 41 | Associate Justice of the Supreme Court, Place 1 | statewide | gen | FALSE | Over Votes          | NA         | FALSE | provisional  |       1 | 1705793 | FALSE | 20200508 |\n",
       "| 4 | 4 | 2018 | Alabama | AL | 1 | 63 | 41 | Associate Justice of the Supreme Court, Place 1 | statewide | gen | FALSE | Sarah Hicks Stewart | republican | FALSE | absentee     |   32836 | 1705793 | FALSE | 20200508 |\n",
       "| 5 | 5 | 2018 | Alabama | AL | 1 | 63 | 41 | Associate Justice of the Supreme Court, Place 1 | statewide | gen | FALSE | Sarah Hicks Stewart | republican | FALSE | election day | 1060731 | 1705793 | FALSE | 20200508 |\n",
       "| 6 | 6 | 2018 | Alabama | AL | 1 | 63 | 41 | Associate Justice of the Supreme Court, Place 1 | statewide | gen | FALSE | Sarah Hicks Stewart | republican | FALSE | provisional  |    3568 | 1705793 | FALSE | 20200508 |\n",
       "\n"
      ],
      "text/plain": [
       "  X year state   state_po state_fips state_cen state_ic\n",
       "1 1 2018 Alabama AL       1          63        41      \n",
       "2 2 2018 Alabama AL       1          63        41      \n",
       "3 3 2018 Alabama AL       1          63        41      \n",
       "4 4 2018 Alabama AL       1          63        41      \n",
       "5 5 2018 Alabama AL       1          63        41      \n",
       "6 6 2018 Alabama AL       1          63        41      \n",
       "  office                                          district  stage special\n",
       "1 Associate Justice of the Supreme Court, Place 1 statewide gen   FALSE  \n",
       "2 Associate Justice of the Supreme Court, Place 1 statewide gen   FALSE  \n",
       "3 Associate Justice of the Supreme Court, Place 1 statewide gen   FALSE  \n",
       "4 Associate Justice of the Supreme Court, Place 1 statewide gen   FALSE  \n",
       "5 Associate Justice of the Supreme Court, Place 1 statewide gen   FALSE  \n",
       "6 Associate Justice of the Supreme Court, Place 1 statewide gen   FALSE  \n",
       "  candidate           party      writein mode         candidatevotes totalvotes\n",
       "1 Over Votes          NA         FALSE   absentee           8        1705793   \n",
       "2 Over Votes          NA         FALSE   election day     241        1705793   \n",
       "3 Over Votes          NA         FALSE   provisional        1        1705793   \n",
       "4 Sarah Hicks Stewart republican FALSE   absentee       32836        1705793   \n",
       "5 Sarah Hicks Stewart republican FALSE   election day 1060731        1705793   \n",
       "6 Sarah Hicks Stewart republican FALSE   provisional     3568        1705793   \n",
       "  unofficial version \n",
       "1 FALSE      20200508\n",
       "2 FALSE      20200508\n",
       "3 FALSE      20200508\n",
       "4 FALSE      20200508\n",
       "5 FALSE      20200508\n",
       "6 FALSE      20200508"
      ]
     },
     "metadata": {},
     "output_type": "display_data"
    },
    {
     "name": "stderr",
     "output_type": "stream",
     "text": [
      "`summarise()` ungrouping output (override with `.groups` argument)\n",
      "\n"
     ]
    },
    {
     "data": {
      "text/html": [
       "<style>\n",
       ".list-inline {list-style: none; margin:0; padding: 0}\n",
       ".list-inline>li {display: inline-block}\n",
       ".list-inline>li:not(:last-child)::after {content: \"\\00b7\"; padding: 0 .5ex}\n",
       "</style>\n",
       "<ol class=list-inline><li>21900</li><li>19</li></ol>\n"
      ],
      "text/latex": [
       "\\begin{enumerate*}\n",
       "\\item 21900\n",
       "\\item 19\n",
       "\\end{enumerate*}\n"
      ],
      "text/markdown": [
       "1. 21900\n",
       "2. 19\n",
       "\n",
       "\n"
      ],
      "text/plain": [
       "[1] 21900    19"
      ]
     },
     "metadata": {},
     "output_type": "display_data"
    },
    {
     "data": {
      "text/html": [
       "<style>\n",
       ".list-inline {list-style: none; margin:0; padding: 0}\n",
       ".list-inline>li {display: inline-block}\n",
       ".list-inline>li:not(:last-child)::after {content: \"\\00b7\"; padding: 0 .5ex}\n",
       "</style>\n",
       "<ol class=list-inline><li>14786</li><li>15</li></ol>\n"
      ],
      "text/latex": [
       "\\begin{enumerate*}\n",
       "\\item 14786\n",
       "\\item 15\n",
       "\\end{enumerate*}\n"
      ],
      "text/markdown": [
       "1. 14786\n",
       "2. 15\n",
       "\n",
       "\n"
      ],
      "text/plain": [
       "[1] 14786    15"
      ]
     },
     "metadata": {},
     "output_type": "display_data"
    },
    {
     "data": {
      "text/html": [
       "<table>\n",
       "<caption>A data.frame: 6 × 15</caption>\n",
       "<thead>\n",
       "\t<tr><th></th><th scope=col>X</th><th scope=col>year</th><th scope=col>state</th><th scope=col>state_po</th><th scope=col>state_fips</th><th scope=col>state_cen</th><th scope=col>state_ic</th><th scope=col>office</th><th scope=col>district</th><th scope=col>stage</th><th scope=col>candidate</th><th scope=col>party</th><th scope=col>mode</th><th scope=col>candidatevotes</th><th scope=col>totalvotes</th></tr>\n",
       "\t<tr><th></th><th scope=col>&lt;int&gt;</th><th scope=col>&lt;int&gt;</th><th scope=col>&lt;chr&gt;</th><th scope=col>&lt;chr&gt;</th><th scope=col>&lt;int&gt;</th><th scope=col>&lt;int&gt;</th><th scope=col>&lt;int&gt;</th><th scope=col>&lt;chr&gt;</th><th scope=col>&lt;chr&gt;</th><th scope=col>&lt;chr&gt;</th><th scope=col>&lt;chr&gt;</th><th scope=col>&lt;chr&gt;</th><th scope=col>&lt;chr&gt;</th><th scope=col>&lt;int&gt;</th><th scope=col>&lt;int&gt;</th></tr>\n",
       "</thead>\n",
       "<tbody>\n",
       "\t<tr><th scope=row>1</th><td>241</td><td>2018</td><td>Alabama</td><td>AL</td><td>1</td><td>63</td><td>41</td><td>State Representative</td><td>District 1</td><td>gen</td><td>Bobby James Dolan III</td><td>independent</td><td>absentee    </td><td> 125</td><td>11684</td></tr>\n",
       "\t<tr><th scope=row>2</th><td>242</td><td>2018</td><td>Alabama</td><td>AL</td><td>1</td><td>63</td><td>41</td><td>State Representative</td><td>District 1</td><td>gen</td><td>Bobby James Dolan III</td><td>independent</td><td>election day</td><td>4175</td><td>11684</td></tr>\n",
       "\t<tr><th scope=row>3</th><td>243</td><td>2018</td><td>Alabama</td><td>AL</td><td>1</td><td>63</td><td>41</td><td>State Representative</td><td>District 1</td><td>gen</td><td>Bobby James Dolan III</td><td>independent</td><td>provisional </td><td>  36</td><td>11684</td></tr>\n",
       "\t<tr><th scope=row>4</th><td>244</td><td>2018</td><td>Alabama</td><td>AL</td><td>1</td><td>63</td><td>41</td><td>State Representative</td><td>District 1</td><td>gen</td><td>Phillip Pettus       </td><td>republican </td><td>absentee    </td><td> 266</td><td>11684</td></tr>\n",
       "\t<tr><th scope=row>5</th><td>245</td><td>2018</td><td>Alabama</td><td>AL</td><td>1</td><td>63</td><td>41</td><td>State Representative</td><td>District 1</td><td>gen</td><td>Phillip Pettus       </td><td>republican </td><td>election day</td><td>7034</td><td>11684</td></tr>\n",
       "\t<tr><th scope=row>6</th><td>246</td><td>2018</td><td>Alabama</td><td>AL</td><td>1</td><td>63</td><td>41</td><td>State Representative</td><td>District 1</td><td>gen</td><td>Phillip Pettus       </td><td>republican </td><td>provisional </td><td>  48</td><td>11684</td></tr>\n",
       "</tbody>\n",
       "</table>\n"
      ],
      "text/latex": [
       "A data.frame: 6 × 15\n",
       "\\begin{tabular}{r|lllllllllllllll}\n",
       "  & X & year & state & state\\_po & state\\_fips & state\\_cen & state\\_ic & office & district & stage & candidate & party & mode & candidatevotes & totalvotes\\\\\n",
       "  & <int> & <int> & <chr> & <chr> & <int> & <int> & <int> & <chr> & <chr> & <chr> & <chr> & <chr> & <chr> & <int> & <int>\\\\\n",
       "\\hline\n",
       "\t1 & 241 & 2018 & Alabama & AL & 1 & 63 & 41 & State Representative & District 1 & gen & Bobby James Dolan III & independent & absentee     &  125 & 11684\\\\\n",
       "\t2 & 242 & 2018 & Alabama & AL & 1 & 63 & 41 & State Representative & District 1 & gen & Bobby James Dolan III & independent & election day & 4175 & 11684\\\\\n",
       "\t3 & 243 & 2018 & Alabama & AL & 1 & 63 & 41 & State Representative & District 1 & gen & Bobby James Dolan III & independent & provisional  &   36 & 11684\\\\\n",
       "\t4 & 244 & 2018 & Alabama & AL & 1 & 63 & 41 & State Representative & District 1 & gen & Phillip Pettus        & republican  & absentee     &  266 & 11684\\\\\n",
       "\t5 & 245 & 2018 & Alabama & AL & 1 & 63 & 41 & State Representative & District 1 & gen & Phillip Pettus        & republican  & election day & 7034 & 11684\\\\\n",
       "\t6 & 246 & 2018 & Alabama & AL & 1 & 63 & 41 & State Representative & District 1 & gen & Phillip Pettus        & republican  & provisional  &   48 & 11684\\\\\n",
       "\\end{tabular}\n"
      ],
      "text/markdown": [
       "\n",
       "A data.frame: 6 × 15\n",
       "\n",
       "| <!--/--> | X &lt;int&gt; | year &lt;int&gt; | state &lt;chr&gt; | state_po &lt;chr&gt; | state_fips &lt;int&gt; | state_cen &lt;int&gt; | state_ic &lt;int&gt; | office &lt;chr&gt; | district &lt;chr&gt; | stage &lt;chr&gt; | candidate &lt;chr&gt; | party &lt;chr&gt; | mode &lt;chr&gt; | candidatevotes &lt;int&gt; | totalvotes &lt;int&gt; |\n",
       "|---|---|---|---|---|---|---|---|---|---|---|---|---|---|---|---|\n",
       "| 1 | 241 | 2018 | Alabama | AL | 1 | 63 | 41 | State Representative | District 1 | gen | Bobby James Dolan III | independent | absentee     |  125 | 11684 |\n",
       "| 2 | 242 | 2018 | Alabama | AL | 1 | 63 | 41 | State Representative | District 1 | gen | Bobby James Dolan III | independent | election day | 4175 | 11684 |\n",
       "| 3 | 243 | 2018 | Alabama | AL | 1 | 63 | 41 | State Representative | District 1 | gen | Bobby James Dolan III | independent | provisional  |   36 | 11684 |\n",
       "| 4 | 244 | 2018 | Alabama | AL | 1 | 63 | 41 | State Representative | District 1 | gen | Phillip Pettus        | republican  | absentee     |  266 | 11684 |\n",
       "| 5 | 245 | 2018 | Alabama | AL | 1 | 63 | 41 | State Representative | District 1 | gen | Phillip Pettus        | republican  | election day | 7034 | 11684 |\n",
       "| 6 | 246 | 2018 | Alabama | AL | 1 | 63 | 41 | State Representative | District 1 | gen | Phillip Pettus        | republican  | provisional  |   48 | 11684 |\n",
       "\n"
      ],
      "text/plain": [
       "  X   year state   state_po state_fips state_cen state_ic office              \n",
       "1 241 2018 Alabama AL       1          63        41       State Representative\n",
       "2 242 2018 Alabama AL       1          63        41       State Representative\n",
       "3 243 2018 Alabama AL       1          63        41       State Representative\n",
       "4 244 2018 Alabama AL       1          63        41       State Representative\n",
       "5 245 2018 Alabama AL       1          63        41       State Representative\n",
       "6 246 2018 Alabama AL       1          63        41       State Representative\n",
       "  district   stage candidate             party       mode        \n",
       "1 District 1 gen   Bobby James Dolan III independent absentee    \n",
       "2 District 1 gen   Bobby James Dolan III independent election day\n",
       "3 District 1 gen   Bobby James Dolan III independent provisional \n",
       "4 District 1 gen   Phillip Pettus        republican  absentee    \n",
       "5 District 1 gen   Phillip Pettus        republican  election day\n",
       "6 District 1 gen   Phillip Pettus        republican  provisional \n",
       "  candidatevotes totalvotes\n",
       "1  125           11684     \n",
       "2 4175           11684     \n",
       "3   36           11684     \n",
       "4  266           11684     \n",
       "5 7034           11684     \n",
       "6   48           11684     "
      ]
     },
     "metadata": {},
     "output_type": "display_data"
    }
   ],
   "source": [
    "## 2018 data prep\n",
    "\n",
    "# Read data in\n",
    "state_elections_2018 <- read.csv(\"2018_election_results.csv\")\n",
    "\n",
    "\n",
    "head(state_elections_2018)\n",
    "\n",
    "# Filter out races for other positions, special elections, write-ins, NAs\n",
    "filter_candidates <- state_elections_2018 %>%\n",
    "    group_by(candidate) %>%\n",
    "    summarize(count = n()) %>%\n",
    "    filter(count > 25) %>% # Candidate with most appearances has 24, above that are aggregates/NAs (NA for no opposing candidate is filled back in later)\n",
    "    select(candidate)\n",
    "\n",
    "\n",
    "# Remove non-legislative offices, special elctions, write-in candidates, aggregates/NAs\n",
    "state_elections_2018_filtered <- state_elections_2018 %>%\n",
    "    filter(office %in% c(\"State Assembly Member\", \"State Representative\", \"State Senator\", \"State Representative A\", \"State Representative B\"),\n",
    "          special == FALSE,\n",
    "           writein == FALSE,\n",
    "           !candidate %in% filter_candidates$candidate,\n",
    "          ) %>%\n",
    "    select(!c(\"writein\",\"special\",\"unofficial\",\"version\"))\n",
    "\n",
    "dim(state_elections_2018)\n",
    "dim(state_elections_2018_filtered)\n",
    "\n",
    "head(state_elections_2018_filtered)\n",
    "\n"
   ]
  },
  {
   "cell_type": "code",
   "execution_count": 13,
   "metadata": {},
   "outputs": [
    {
     "data": {
      "text/html": [
       "7"
      ],
      "text/latex": [
       "7"
      ],
      "text/markdown": [
       "7"
      ],
      "text/plain": [
       "[1] 7"
      ]
     },
     "metadata": {},
     "output_type": "display_data"
    },
    {
     "name": "stderr",
     "output_type": "stream",
     "text": [
      "`summarise()` regrouping output by 'state', 'district', 'office', 'party' (override with `.groups` argument)\n",
      "\n"
     ]
    },
    {
     "data": {
      "text/html": [
       "<table>\n",
       "<caption>A grouped_df: 6 × 6</caption>\n",
       "<thead>\n",
       "\t<tr><th scope=col>state</th><th scope=col>district</th><th scope=col>office</th><th scope=col>party</th><th scope=col>candidate</th><th scope=col>total_votes</th></tr>\n",
       "\t<tr><th scope=col>&lt;chr&gt;</th><th scope=col>&lt;chr&gt;</th><th scope=col>&lt;chr&gt;</th><th scope=col>&lt;chr&gt;</th><th scope=col>&lt;chr&gt;</th><th scope=col>&lt;int&gt;</th></tr>\n",
       "</thead>\n",
       "<tbody>\n",
       "\t<tr><td>Alabama</td><td>District 1 </td><td>State Representative</td><td>other     </td><td>Bobby James Dolan III</td><td> 4336</td></tr>\n",
       "\t<tr><td>Alabama</td><td>District 1 </td><td>State Representative</td><td>republican</td><td>Phillip Pettus       </td><td> 7348</td></tr>\n",
       "\t<tr><td>Alabama</td><td>District 1 </td><td>State Senator       </td><td>democrat  </td><td>Caroline Self        </td><td>15830</td></tr>\n",
       "\t<tr><td>Alabama</td><td>District 1 </td><td>State Senator       </td><td>republican</td><td>Tim Melson           </td><td>33141</td></tr>\n",
       "\t<tr><td>Alabama</td><td>District 10</td><td>State Representative</td><td>democrat  </td><td>J.B. King            </td><td> 8565</td></tr>\n",
       "\t<tr><td>Alabama</td><td>District 10</td><td>State Representative</td><td>other     </td><td>Elijah J. Boyd       </td><td> 1130</td></tr>\n",
       "</tbody>\n",
       "</table>\n"
      ],
      "text/latex": [
       "A grouped\\_df: 6 × 6\n",
       "\\begin{tabular}{llllll}\n",
       " state & district & office & party & candidate & total\\_votes\\\\\n",
       " <chr> & <chr> & <chr> & <chr> & <chr> & <int>\\\\\n",
       "\\hline\n",
       "\t Alabama & District 1  & State Representative & other      & Bobby James Dolan III &  4336\\\\\n",
       "\t Alabama & District 1  & State Representative & republican & Phillip Pettus        &  7348\\\\\n",
       "\t Alabama & District 1  & State Senator        & democrat   & Caroline Self         & 15830\\\\\n",
       "\t Alabama & District 1  & State Senator        & republican & Tim Melson            & 33141\\\\\n",
       "\t Alabama & District 10 & State Representative & democrat   & J.B. King             &  8565\\\\\n",
       "\t Alabama & District 10 & State Representative & other      & Elijah J. Boyd        &  1130\\\\\n",
       "\\end{tabular}\n"
      ],
      "text/markdown": [
       "\n",
       "A grouped_df: 6 × 6\n",
       "\n",
       "| state &lt;chr&gt; | district &lt;chr&gt; | office &lt;chr&gt; | party &lt;chr&gt; | candidate &lt;chr&gt; | total_votes &lt;int&gt; |\n",
       "|---|---|---|---|---|---|\n",
       "| Alabama | District 1  | State Representative | other      | Bobby James Dolan III |  4336 |\n",
       "| Alabama | District 1  | State Representative | republican | Phillip Pettus        |  7348 |\n",
       "| Alabama | District 1  | State Senator        | democrat   | Caroline Self         | 15830 |\n",
       "| Alabama | District 1  | State Senator        | republican | Tim Melson            | 33141 |\n",
       "| Alabama | District 10 | State Representative | democrat   | J.B. King             |  8565 |\n",
       "| Alabama | District 10 | State Representative | other      | Elijah J. Boyd        |  1130 |\n",
       "\n"
      ],
      "text/plain": [
       "  state   district    office               party      candidate            \n",
       "1 Alabama District 1  State Representative other      Bobby James Dolan III\n",
       "2 Alabama District 1  State Representative republican Phillip Pettus       \n",
       "3 Alabama District 1  State Senator        democrat   Caroline Self        \n",
       "4 Alabama District 1  State Senator        republican Tim Melson           \n",
       "5 Alabama District 10 State Representative democrat   J.B. King            \n",
       "6 Alabama District 10 State Representative other      Elijah J. Boyd       \n",
       "  total_votes\n",
       "1  4336      \n",
       "2  7348      \n",
       "3 15830      \n",
       "4 33141      \n",
       "5  8565      \n",
       "6  1130      "
      ]
     },
     "metadata": {},
     "output_type": "display_data"
    }
   ],
   "source": [
    "# Identify candidates with mode and total vote counts\n",
    "total_list <- state_elections_2018_filtered %>%\n",
    "    filter(mode == \"total\") %>%\n",
    "    select(candidate)\n",
    "\n",
    "non_total_list <- state_elections_2018_filtered %>%\n",
    "    filter(!mode == \"total\") %>%\n",
    "    select(candidate)\n",
    "\n",
    "sum(unique(total_list$candidate) %in% unique(non_total_list$candidate))\n",
    "\n",
    "match_list <- unique(total_list[total_list$candidate %in% non_total_list$candidate,])\n",
    "\n",
    "# Remove candidates who have total and individual vote mode counts, loss of ~12 candidates to make coding much easier\n",
    "state_elections_2018_filtered <- state_elections_2018_filtered %>%\n",
    "    filter(!candidate %in% match_list) %>%\n",
    "    group_by(state, district, office, party, candidate) %>%\n",
    "    summarize(total_votes = sum(candidatevotes)) %>%\n",
    "    arrange(state, district, office)\n",
    "\n",
    "# Transform non-major parties to other\n",
    "state_elections_2018_filtered <- state_elections_2018_filtered %>%\n",
    "     mutate(party = replace(party, !party %in% c(\"democrat\",\"republican\"), \"other\"))\n",
    "\n",
    "head(state_elections_2018_filtered)\n"
   ]
  },
  {
   "cell_type": "code",
   "execution_count": 14,
   "metadata": {},
   "outputs": [
    {
     "data": {
      "text/html": [
       "<table>\n",
       "<caption>A grouped_df: 6 × 13</caption>\n",
       "<thead>\n",
       "\t<tr><th scope=col>state</th><th scope=col>district</th><th scope=col>office</th><th scope=col>candidate_other</th><th scope=col>candidate_republican</th><th scope=col>candidate_democrat</th><th scope=col>total_votes_other</th><th scope=col>total_votes_republican</th><th scope=col>total_votes_democrat</th><th scope=col>vote_share_dem</th><th scope=col>vote_share_rep</th><th scope=col>vote_share_other</th><th scope=col>winner_party</th></tr>\n",
       "\t<tr><th scope=col>&lt;chr&gt;</th><th scope=col>&lt;chr&gt;</th><th scope=col>&lt;chr&gt;</th><th scope=col>&lt;chr&gt;</th><th scope=col>&lt;chr&gt;</th><th scope=col>&lt;chr&gt;</th><th scope=col>&lt;dbl&gt;</th><th scope=col>&lt;dbl&gt;</th><th scope=col>&lt;dbl&gt;</th><th scope=col>&lt;dbl&gt;</th><th scope=col>&lt;dbl&gt;</th><th scope=col>&lt;dbl&gt;</th><th scope=col>&lt;chr&gt;</th></tr>\n",
       "</thead>\n",
       "<tbody>\n",
       "\t<tr><td>Alabama</td><td>District 1  </td><td>State Representative</td><td>Bobby James Dolan III</td><td>Phillip Pettus</td><td>No candidate </td><td> 4336</td><td> 7348</td><td>    0</td><td>0.0000000</td><td>0.6288942</td><td>0.37110579</td><td>Republican</td></tr>\n",
       "\t<tr><td>Alabama</td><td>District 1  </td><td>State Senator       </td><td>No candidate         </td><td>Tim Melson    </td><td>Caroline Self</td><td>    0</td><td>33141</td><td>15830</td><td>0.3232525</td><td>0.6767475</td><td>0.00000000</td><td>Republican</td></tr>\n",
       "\t<tr><td>Alabama</td><td>District 10 </td><td>State Representative</td><td>Elijah J. Boyd       </td><td>Mike Ball     </td><td>J.B. King    </td><td> 1130</td><td>11240</td><td> 8565</td><td>0.4091235</td><td>0.5368999</td><td>0.05397659</td><td>Republican</td></tr>\n",
       "\t<tr><td>Alabama</td><td>District 10 </td><td>State Senator       </td><td>Craig Ford           </td><td>Andrew Jones  </td><td>No candidate </td><td>16759</td><td>25902</td><td>    0</td><td>0.0000000</td><td>0.6071588</td><td>0.39284124</td><td>Republican</td></tr>\n",
       "\t<tr><td>Alabama</td><td>District 100</td><td>State Representative</td><td>No candidate         </td><td>Victor Gaston </td><td>No candidate </td><td>    0</td><td>12086</td><td>    0</td><td>0.0000000</td><td>1.0000000</td><td>0.00000000</td><td>Republican</td></tr>\n",
       "\t<tr><td>Alabama</td><td>District 101</td><td>State Representative</td><td>No candidate         </td><td>Chris Pringle </td><td>No candidate </td><td>    0</td><td>10274</td><td>    0</td><td>0.0000000</td><td>1.0000000</td><td>0.00000000</td><td>Republican</td></tr>\n",
       "</tbody>\n",
       "</table>\n"
      ],
      "text/latex": [
       "A grouped\\_df: 6 × 13\n",
       "\\begin{tabular}{lllllllllllll}\n",
       " state & district & office & candidate\\_other & candidate\\_republican & candidate\\_democrat & total\\_votes\\_other & total\\_votes\\_republican & total\\_votes\\_democrat & vote\\_share\\_dem & vote\\_share\\_rep & vote\\_share\\_other & winner\\_party\\\\\n",
       " <chr> & <chr> & <chr> & <chr> & <chr> & <chr> & <dbl> & <dbl> & <dbl> & <dbl> & <dbl> & <dbl> & <chr>\\\\\n",
       "\\hline\n",
       "\t Alabama & District 1   & State Representative & Bobby James Dolan III & Phillip Pettus & No candidate  &  4336 &  7348 &     0 & 0.0000000 & 0.6288942 & 0.37110579 & Republican\\\\\n",
       "\t Alabama & District 1   & State Senator        & No candidate          & Tim Melson     & Caroline Self &     0 & 33141 & 15830 & 0.3232525 & 0.6767475 & 0.00000000 & Republican\\\\\n",
       "\t Alabama & District 10  & State Representative & Elijah J. Boyd        & Mike Ball      & J.B. King     &  1130 & 11240 &  8565 & 0.4091235 & 0.5368999 & 0.05397659 & Republican\\\\\n",
       "\t Alabama & District 10  & State Senator        & Craig Ford            & Andrew Jones   & No candidate  & 16759 & 25902 &     0 & 0.0000000 & 0.6071588 & 0.39284124 & Republican\\\\\n",
       "\t Alabama & District 100 & State Representative & No candidate          & Victor Gaston  & No candidate  &     0 & 12086 &     0 & 0.0000000 & 1.0000000 & 0.00000000 & Republican\\\\\n",
       "\t Alabama & District 101 & State Representative & No candidate          & Chris Pringle  & No candidate  &     0 & 10274 &     0 & 0.0000000 & 1.0000000 & 0.00000000 & Republican\\\\\n",
       "\\end{tabular}\n"
      ],
      "text/markdown": [
       "\n",
       "A grouped_df: 6 × 13\n",
       "\n",
       "| state &lt;chr&gt; | district &lt;chr&gt; | office &lt;chr&gt; | candidate_other &lt;chr&gt; | candidate_republican &lt;chr&gt; | candidate_democrat &lt;chr&gt; | total_votes_other &lt;dbl&gt; | total_votes_republican &lt;dbl&gt; | total_votes_democrat &lt;dbl&gt; | vote_share_dem &lt;dbl&gt; | vote_share_rep &lt;dbl&gt; | vote_share_other &lt;dbl&gt; | winner_party &lt;chr&gt; |\n",
       "|---|---|---|---|---|---|---|---|---|---|---|---|---|\n",
       "| Alabama | District 1   | State Representative | Bobby James Dolan III | Phillip Pettus | No candidate  |  4336 |  7348 |     0 | 0.0000000 | 0.6288942 | 0.37110579 | Republican |\n",
       "| Alabama | District 1   | State Senator        | No candidate          | Tim Melson     | Caroline Self |     0 | 33141 | 15830 | 0.3232525 | 0.6767475 | 0.00000000 | Republican |\n",
       "| Alabama | District 10  | State Representative | Elijah J. Boyd        | Mike Ball      | J.B. King     |  1130 | 11240 |  8565 | 0.4091235 | 0.5368999 | 0.05397659 | Republican |\n",
       "| Alabama | District 10  | State Senator        | Craig Ford            | Andrew Jones   | No candidate  | 16759 | 25902 |     0 | 0.0000000 | 0.6071588 | 0.39284124 | Republican |\n",
       "| Alabama | District 100 | State Representative | No candidate          | Victor Gaston  | No candidate  |     0 | 12086 |     0 | 0.0000000 | 1.0000000 | 0.00000000 | Republican |\n",
       "| Alabama | District 101 | State Representative | No candidate          | Chris Pringle  | No candidate  |     0 | 10274 |     0 | 0.0000000 | 1.0000000 | 0.00000000 | Republican |\n",
       "\n"
      ],
      "text/plain": [
       "  state   district     office               candidate_other      \n",
       "1 Alabama District 1   State Representative Bobby James Dolan III\n",
       "2 Alabama District 1   State Senator        No candidate         \n",
       "3 Alabama District 10  State Representative Elijah J. Boyd       \n",
       "4 Alabama District 10  State Senator        Craig Ford           \n",
       "5 Alabama District 100 State Representative No candidate         \n",
       "6 Alabama District 101 State Representative No candidate         \n",
       "  candidate_republican candidate_democrat total_votes_other\n",
       "1 Phillip Pettus       No candidate        4336            \n",
       "2 Tim Melson           Caroline Self          0            \n",
       "3 Mike Ball            J.B. King           1130            \n",
       "4 Andrew Jones         No candidate       16759            \n",
       "5 Victor Gaston        No candidate           0            \n",
       "6 Chris Pringle        No candidate           0            \n",
       "  total_votes_republican total_votes_democrat vote_share_dem vote_share_rep\n",
       "1  7348                      0                0.0000000      0.6288942     \n",
       "2 33141                  15830                0.3232525      0.6767475     \n",
       "3 11240                   8565                0.4091235      0.5368999     \n",
       "4 25902                      0                0.0000000      0.6071588     \n",
       "5 12086                      0                0.0000000      1.0000000     \n",
       "6 10274                      0                0.0000000      1.0000000     \n",
       "  vote_share_other winner_party\n",
       "1 0.37110579       Republican  \n",
       "2 0.00000000       Republican  \n",
       "3 0.05397659       Republican  \n",
       "4 0.39284124       Republican  \n",
       "5 0.00000000       Republican  \n",
       "6 0.00000000       Republican  "
      ]
     },
     "metadata": {},
     "output_type": "display_data"
    }
   ],
   "source": [
    "## Reformat data to single line per election and generate vote totals/vote shares/winner columns\n",
    "# Reformat and generate vote share, winner \n",
    "state_elections_2018_wide <- state_elections_2018_filtered %>%\n",
    "    mutate(row = row_number()) %>%\n",
    "    pivot_wider(id_cols = c(\"state\", \"district\", \"office\", \"row\"), names_from = party, values_from = c(\"candidate\", \"total_votes\")) %>%\n",
    "    mutate(candidate_democrat = replace_na(candidate_democrat, \"No candidate\"), \n",
    "            candidate_republican = replace_na(candidate_republican, \"No candidate\"),\n",
    "            candidate_other = replace_na(candidate_other, \"No candidate\"),\n",
    "            total_votes_democrat = replace_na(total_votes_democrat, 0),\n",
    "            total_votes_republican = replace_na(total_votes_republican, 0),\n",
    "            total_votes_other = replace_na(total_votes_other, 0),\n",
    "            vote_share_dem = total_votes_democrat/(total_votes_democrat+total_votes_republican+total_votes_other),\n",
    "            vote_share_rep = total_votes_republican/(total_votes_democrat+total_votes_republican+total_votes_other),\n",
    "            vote_share_other = total_votes_other/(total_votes_democrat+total_votes_republican+total_votes_other),\n",
    "            winner_party = case_when(total_votes_democrat > total_votes_republican & total_votes_democrat > total_votes_other ~ \"Democrat\",\n",
    "                              total_votes_republican > total_votes_democrat & total_votes_republican > total_votes_other ~ \"Republican\",\n",
    "                              TRUE ~ \"Other\")) %>%\n",
    "    select(-row)\n",
    "\n",
    "\n",
    "head(state_elections_2018_wide)\n",
    "\n",
    "\n"
   ]
  },
  {
   "cell_type": "code",
   "execution_count": 15,
   "metadata": {},
   "outputs": [
    {
     "ename": "ERROR",
     "evalue": "Error in utils::packageVersion(\"genderdata\"): there is no package called ‘genderdata’\n",
     "output_type": "error",
     "traceback": [
      "Error in utils::packageVersion(\"genderdata\"): there is no package called ‘genderdata’\nTraceback:\n",
      "1. gender_fill(state_elections_2018_wide$candidate_democrat)",
      "2. pull(gender(x[i]), var = gender)   # at line 7-13 of file <text>",
      "3. gender(x[i])   # at line 7-13 of file <text>",
      "4. check_genderdata_package()",
      "5. utils::packageVersion(\"genderdata\")"
     ]
    }
   ],
   "source": [
    "## Reformatting continued, gender identification\n",
    "# Generate gender (takes absolutely forever, do not run this if you don't need to)\n",
    "state_elections_2018_wide$gender_democrat <- gender_fill(state_elections_2018_wide$candidate_democrat)\n",
    "state_elections_2018_wide$gender_republican <- gender_fill(state_elections_2018_wide$candidate_republican)\n",
    "\n",
    "\n",
    "head(state_elections_2018_wide)\n"
   ]
  },
  {
   "cell_type": "code",
   "execution_count": null,
   "metadata": {},
   "outputs": [],
   "source": [
    "state_elections_2018_wide <- state_elections_2018_wide %>%\n",
    "    mutate(winner_gender = case_when(winner_party == \"Democrat\" ~ gender_democrat,\n",
    "                                    winner_party == \"Republican\" ~ gender_republican,\n",
    "                                    TRUE ~ \"Other candidate\"),\n",
    "          year = 2018)\n",
    "\n",
    "head(state_elections_2018_wide)"
   ]
  },
  {
   "cell_type": "code",
   "execution_count": null,
   "metadata": {},
   "outputs": [],
   "source": [
    "## Save short version of dataset with gender (one line per election), commented out to prevent overwrite\n",
    "# write.csv(state_elections_2018_wide, \"2018_election_results_wide.csv\")\n"
   ]
  },
  {
   "cell_type": "code",
   "execution_count": null,
   "metadata": {},
   "outputs": [],
   "source": [
    "## Reformat to one line per candidate, major parties only\n",
    "\n",
    "Dem_data_2018 <- state_elections_2018_wide %>%\n",
    "    select(year, state, district, office, candidate_democrat, total_votes_democrat, vote_share_dem, gender_democrat, winner_party) %>%\n",
    "    rename(Candidate = candidate_democrat,\n",
    "          Votes = total_votes_democrat,\n",
    "          Vote.Prop = vote_share_dem,\n",
    "          Gender = gender_democrat) %>%\n",
    "    mutate(Candidate.Party = \"Democrat\")\n",
    "\n",
    "Rep_data_2018 <- state_elections_2018_wide %>%\n",
    "    select(year, state, district, office, candidate_republican, total_votes_republican, vote_share_rep, gender_republican, winner_party) %>%\n",
    "    rename(Candidate = candidate_republican,\n",
    "          Votes = total_votes_republican,\n",
    "          Vote.Prop = vote_share_rep,\n",
    "          Gender = gender_republican) %>%\n",
    "    mutate(Candidate.Party = \"Republican\")\n",
    "\n",
    "state_elections_2018_long <- rbind(Dem_data_2018, Rep_data_2018)\n",
    "\n",
    "head(state_elections_2018_long)\n",
    "tail(state_elections_2018_long)"
   ]
  },
  {
   "cell_type": "code",
   "execution_count": null,
   "metadata": {},
   "outputs": [],
   "source": [
    "# Race join, 2018\n",
    "new_data_2018 <- state_elections_2018_long %>%\n",
    "    left_join(race_data_2, by = c(\"Candidate\" = \"full_name\")) %>%\n",
    "    left_join(race_data_2, by = c(\"Candidate\" = \"alt_name\")) %>%\n",
    "    mutate(race_ethnicity.x = replace_na(race_ethnicity.x, \"Missing\"),\n",
    "          race_ethnicity.y = replace_na(race_ethnicity.y, \"Missing\"),\n",
    "          race_ethnicity.x = ifelse(race_ethnicity.x == \"Missing\", race_ethnicity.y, \"Missing\")) %>%\n",
    "    select(-c(\"full_name\", \"alt_name\", \"race_ethnicity.y\")) %>% \n",
    "    rename(race_ethnicity = race_ethnicity.x,\n",
    "           candidate = Candidate,\n",
    "           total_votes = Votes,\n",
    "           vote_prop = Vote.Prop,\n",
    "           gender = Gender,\n",
    "           candidate_party = Candidate.Party)\n",
    "# renamed variables for better consistency\n",
    "\n",
    "head(new_data_2018)\n",
    "\n",
    "new_data_2018 %>%\n",
    "    group_by(race_ethnicity) %>%\n",
    "    summarize(n())\n"
   ]
  },
  {
   "cell_type": "code",
   "execution_count": null,
   "metadata": {},
   "outputs": [],
   "source": [
    "## Save long version of dataset with gender (one line per candidate)\n",
    "# Commented out to prevent overwrite\n",
    "# write.csv(state_elections_2018_long, \"2018_election_results_long.csv\")\n"
   ]
  },
  {
   "cell_type": "code",
   "execution_count": null,
   "metadata": {},
   "outputs": [],
   "source": []
  }
 ],
 "metadata": {
  "kernelspec": {
   "display_name": "R",
   "language": "R",
   "name": "ir"
  },
  "language_info": {
   "codemirror_mode": "r",
   "file_extension": ".r",
   "mimetype": "text/x-r-source",
   "name": "R",
   "pygments_lexer": "r",
   "version": "4.0.0"
  }
 },
 "nbformat": 4,
 "nbformat_minor": 4
}
