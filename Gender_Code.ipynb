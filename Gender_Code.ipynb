{
 "cells": [
  {
   "cell_type": "code",
   "execution_count": 33,
   "metadata": {},
   "outputs": [
    {
     "name": "stderr",
     "output_type": "stream",
     "text": [
      "Updating HTML index of packages in '.Library'\n",
      "\n",
      "Making 'packages.html' ...\n",
      " done\n",
      "\n",
      "Updating HTML index of packages in '.Library'\n",
      "\n",
      "Making 'packages.html' ...\n",
      " done\n",
      "\n",
      "Warning message:\n",
      "“package ‘ggplot2’ was built under R version 4.0.1”\n"
     ]
    }
   ],
   "source": [
    "## Install gender package and linked database\n",
    "install.packages(\"gender\")\n",
    "install.packages(\"genderdata\", repos = \"https://dev.ropensci.org\", type = \"source\")\n",
    "\n",
    "## Packages\n",
    "library(dplyr)\n",
    "library(gender)\n",
    "library(stringr)\n",
    "library(broom)\n",
    "library(tidyr)\n",
    "library(ggplot2)\n"
   ]
  },
  {
   "cell_type": "code",
   "execution_count": 18,
   "metadata": {},
   "outputs": [
    {
     "data": {
      "text/html": [
       "<table>\n",
       "<caption>A data.frame: 6 × 13</caption>\n",
       "<thead>\n",
       "\t<tr><th></th><th scope=col>X</th><th scope=col>Democrat</th><th scope=col>Republican</th><th scope=col>Other</th><th scope=col>State</th><th scope=col>Year</th><th scope=col>District</th><th scope=col>Democrat.Incumbent</th><th scope=col>Democrat.Votes</th><th scope=col>Republican.Incumbent</th><th scope=col>Republican.Votes</th><th scope=col>Other.Incumbent</th><th scope=col>Other.Votes</th></tr>\n",
       "\t<tr><th></th><th scope=col>&lt;int&gt;</th><th scope=col>&lt;chr&gt;</th><th scope=col>&lt;chr&gt;</th><th scope=col>&lt;chr&gt;</th><th scope=col>&lt;chr&gt;</th><th scope=col>&lt;int&gt;</th><th scope=col>&lt;chr&gt;</th><th scope=col>&lt;chr&gt;</th><th scope=col>&lt;int&gt;</th><th scope=col>&lt;chr&gt;</th><th scope=col>&lt;int&gt;</th><th scope=col>&lt;chr&gt;</th><th scope=col>&lt;int&gt;</th></tr>\n",
       "</thead>\n",
       "<tbody>\n",
       "\t<tr><th scope=row>1</th><td>0</td><td>Scott J. Kawasaki    </td><td>No candidate     </td><td>No candidate</td><td>Alaska</td><td>2016</td><td>1</td><td>True </td><td>   1</td><td>False</td><td>   0</td><td>0    </td><td>   0</td></tr>\n",
       "\t<tr><th scope=row>2</th><td>1</td><td>Truno Holdaway       </td><td>Steve M. Thompson</td><td>No candidate</td><td>Alaska</td><td>2016</td><td>2</td><td>False</td><td>1153</td><td>True </td><td>3268</td><td>0    </td><td>   0</td></tr>\n",
       "\t<tr><th scope=row>3</th><td>2</td><td>Christina M. Sinclair</td><td>Tammie Wilson    </td><td>Jeanne Olson</td><td>Alaska</td><td>2016</td><td>3</td><td>False</td><td> 537</td><td>True </td><td>4291</td><td>False</td><td>2270</td></tr>\n",
       "\t<tr><th scope=row>4</th><td>3</td><td>David Guttenberg     </td><td>No candidate     </td><td>No candidate</td><td>Alaska</td><td>2016</td><td>4</td><td>True </td><td>   1</td><td>False</td><td>   0</td><td>0    </td><td>   0</td></tr>\n",
       "\t<tr><th scope=row>5</th><td>4</td><td>Adam Wool            </td><td>Aaron Lojewski   </td><td>No candidate</td><td>Alaska</td><td>2016</td><td>5</td><td>True </td><td>3812</td><td>False</td><td>3384</td><td>0    </td><td>   0</td></tr>\n",
       "\t<tr><th scope=row>6</th><td>5</td><td>Jason T. Land        </td><td>David M. Talerico</td><td>No candidate</td><td>Alaska</td><td>2016</td><td>6</td><td>False</td><td>2327</td><td>True </td><td>5126</td><td>0    </td><td>   0</td></tr>\n",
       "</tbody>\n",
       "</table>\n"
      ],
      "text/latex": [
       "A data.frame: 6 × 13\n",
       "\\begin{tabular}{r|lllllllllllll}\n",
       "  & X & Democrat & Republican & Other & State & Year & District & Democrat.Incumbent & Democrat.Votes & Republican.Incumbent & Republican.Votes & Other.Incumbent & Other.Votes\\\\\n",
       "  & <int> & <chr> & <chr> & <chr> & <chr> & <int> & <chr> & <chr> & <int> & <chr> & <int> & <chr> & <int>\\\\\n",
       "\\hline\n",
       "\t1 & 0 & Scott J. Kawasaki     & No candidate      & No candidate & Alaska & 2016 & 1 & True  &    1 & False &    0 & 0     &    0\\\\\n",
       "\t2 & 1 & Truno Holdaway        & Steve M. Thompson & No candidate & Alaska & 2016 & 2 & False & 1153 & True  & 3268 & 0     &    0\\\\\n",
       "\t3 & 2 & Christina M. Sinclair & Tammie Wilson     & Jeanne Olson & Alaska & 2016 & 3 & False &  537 & True  & 4291 & False & 2270\\\\\n",
       "\t4 & 3 & David Guttenberg      & No candidate      & No candidate & Alaska & 2016 & 4 & True  &    1 & False &    0 & 0     &    0\\\\\n",
       "\t5 & 4 & Adam Wool             & Aaron Lojewski    & No candidate & Alaska & 2016 & 5 & True  & 3812 & False & 3384 & 0     &    0\\\\\n",
       "\t6 & 5 & Jason T. Land         & David M. Talerico & No candidate & Alaska & 2016 & 6 & False & 2327 & True  & 5126 & 0     &    0\\\\\n",
       "\\end{tabular}\n"
      ],
      "text/markdown": [
       "\n",
       "A data.frame: 6 × 13\n",
       "\n",
       "| <!--/--> | X &lt;int&gt; | Democrat &lt;chr&gt; | Republican &lt;chr&gt; | Other &lt;chr&gt; | State &lt;chr&gt; | Year &lt;int&gt; | District &lt;chr&gt; | Democrat.Incumbent &lt;chr&gt; | Democrat.Votes &lt;int&gt; | Republican.Incumbent &lt;chr&gt; | Republican.Votes &lt;int&gt; | Other.Incumbent &lt;chr&gt; | Other.Votes &lt;int&gt; |\n",
       "|---|---|---|---|---|---|---|---|---|---|---|---|---|---|\n",
       "| 1 | 0 | Scott J. Kawasaki     | No candidate      | No candidate | Alaska | 2016 | 1 | True  |    1 | False |    0 | 0     |    0 |\n",
       "| 2 | 1 | Truno Holdaway        | Steve M. Thompson | No candidate | Alaska | 2016 | 2 | False | 1153 | True  | 3268 | 0     |    0 |\n",
       "| 3 | 2 | Christina M. Sinclair | Tammie Wilson     | Jeanne Olson | Alaska | 2016 | 3 | False |  537 | True  | 4291 | False | 2270 |\n",
       "| 4 | 3 | David Guttenberg      | No candidate      | No candidate | Alaska | 2016 | 4 | True  |    1 | False |    0 | 0     |    0 |\n",
       "| 5 | 4 | Adam Wool             | Aaron Lojewski    | No candidate | Alaska | 2016 | 5 | True  | 3812 | False | 3384 | 0     |    0 |\n",
       "| 6 | 5 | Jason T. Land         | David M. Talerico | No candidate | Alaska | 2016 | 6 | False | 2327 | True  | 5126 | 0     |    0 |\n",
       "\n"
      ],
      "text/plain": [
       "  X Democrat              Republican        Other        State  Year District\n",
       "1 0 Scott J. Kawasaki     No candidate      No candidate Alaska 2016 1       \n",
       "2 1 Truno Holdaway        Steve M. Thompson No candidate Alaska 2016 2       \n",
       "3 2 Christina M. Sinclair Tammie Wilson     Jeanne Olson Alaska 2016 3       \n",
       "4 3 David Guttenberg      No candidate      No candidate Alaska 2016 4       \n",
       "5 4 Adam Wool             Aaron Lojewski    No candidate Alaska 2016 5       \n",
       "6 5 Jason T. Land         David M. Talerico No candidate Alaska 2016 6       \n",
       "  Democrat.Incumbent Democrat.Votes Republican.Incumbent Republican.Votes\n",
       "1 True                  1           False                   0            \n",
       "2 False              1153           True                 3268            \n",
       "3 False               537           True                 4291            \n",
       "4 True                  1           False                   0            \n",
       "5 True               3812           False                3384            \n",
       "6 False              2327           True                 5126            \n",
       "  Other.Incumbent Other.Votes\n",
       "1 0                  0       \n",
       "2 0                  0       \n",
       "3 False           2270       \n",
       "4 0                  0       \n",
       "5 0                  0       \n",
       "6 0                  0       "
      ]
     },
     "metadata": {},
     "output_type": "display_data"
    }
   ],
   "source": [
    "## Read data in, change path as necessary\n",
    "elections_2016 <- read.csv(\"2016_election_results.csv\")\n",
    "\n",
    "head(elections_2016)"
   ]
  },
  {
   "cell_type": "code",
   "execution_count": 19,
   "metadata": {},
   "outputs": [],
   "source": [
    "## Function to fill predicted gender\n",
    "gender_fill <- function(x) { \n",
    "  n <- length(x)\n",
    "  x <- word(x) ## removes last names, gender() only works on first name strings\n",
    "  gender_rep <- rep(\"a\", n)\n",
    "  for (i in 1:n) {\n",
    "  if (x[i] == \"No\") {\n",
    "    gender_rep[i] <- \"N/A\" ## handles no candidate\n",
    "  } else if (length(pull(gender(x[i]), var = gender)) == 0) {\n",
    "    gender_rep[i] <- \"Unknown\" ## handles names the function can't predict\n",
    "  }  else {\n",
    "  gender_rep[i] <- pull(gender(as.character(x[i])), var = gender)\n",
    "  }\n",
    "  }\n",
    "  gender_rep\n",
    "  }\n",
    "\n",
    "\n",
    "## First if checks for \"No\" because \"No candidate\" has been truncated to \"No\", needs to be changed if databases have different indicators for no candidate\n",
    "## Second if checks for length == 0 because gender() generates an empty table if it is unable to predict a gender\n",
    "## Else applies gender() to the rest of the cases and pulls the gender result out of the results (gender function creates a table with ancillary info), coercion to character \n",
    "## because gender() only works on character type\n",
    "\n",
    "\n"
   ]
  },
  {
   "cell_type": "code",
   "execution_count": 20,
   "metadata": {},
   "outputs": [
    {
     "name": "stdout",
     "output_type": "stream",
     "text": [
      "[1] TRUE TRUE TRUE TRUE\n"
     ]
    }
   ],
   "source": [
    "## Testing function\n",
    "\n",
    "test_string <- c(\"Michael B\", \"Jenny A\", \"No candidate\", \"xyzo\")\n",
    "\n",
    "\n",
    "print(gender_fill(test_string) == c(\"male\", \"female\", \"N/A\", \"Unknown\"))\n",
    "\n",
    "\n",
    "\n"
   ]
  },
  {
   "cell_type": "code",
   "execution_count": 9,
   "metadata": {},
   "outputs": [
    {
     "data": {
      "text/html": [
       "<table>\n",
       "<caption>A data.frame: 6 × 15</caption>\n",
       "<thead>\n",
       "\t<tr><th></th><th scope=col>X</th><th scope=col>Democrat</th><th scope=col>Republican</th><th scope=col>Other</th><th scope=col>State</th><th scope=col>Year</th><th scope=col>District</th><th scope=col>Democrat.Incumbent</th><th scope=col>Democrat.Votes</th><th scope=col>Republican.Incumbent</th><th scope=col>Republican.Votes</th><th scope=col>Other.Incumbent</th><th scope=col>Other.Votes</th><th scope=col>gender_Dem</th><th scope=col>gender_Rep</th></tr>\n",
       "\t<tr><th></th><th scope=col>&lt;int&gt;</th><th scope=col>&lt;chr&gt;</th><th scope=col>&lt;chr&gt;</th><th scope=col>&lt;chr&gt;</th><th scope=col>&lt;chr&gt;</th><th scope=col>&lt;int&gt;</th><th scope=col>&lt;chr&gt;</th><th scope=col>&lt;chr&gt;</th><th scope=col>&lt;int&gt;</th><th scope=col>&lt;chr&gt;</th><th scope=col>&lt;int&gt;</th><th scope=col>&lt;chr&gt;</th><th scope=col>&lt;int&gt;</th><th scope=col>&lt;chr&gt;</th><th scope=col>&lt;chr&gt;</th></tr>\n",
       "</thead>\n",
       "<tbody>\n",
       "\t<tr><th scope=row>1</th><td>0</td><td>Scott J. Kawasaki    </td><td>No candidate     </td><td>No candidate</td><td>Alaska</td><td>2016</td><td>1</td><td>True </td><td>   1</td><td>False</td><td>   0</td><td>0    </td><td>   0</td><td>male   </td><td>N/A   </td></tr>\n",
       "\t<tr><th scope=row>2</th><td>1</td><td>Truno Holdaway       </td><td>Steve M. Thompson</td><td>No candidate</td><td>Alaska</td><td>2016</td><td>2</td><td>False</td><td>1153</td><td>True </td><td>3268</td><td>0    </td><td>   0</td><td>Unknown</td><td>male  </td></tr>\n",
       "\t<tr><th scope=row>3</th><td>2</td><td>Christina M. Sinclair</td><td>Tammie Wilson    </td><td>Jeanne Olson</td><td>Alaska</td><td>2016</td><td>3</td><td>False</td><td> 537</td><td>True </td><td>4291</td><td>False</td><td>2270</td><td>female </td><td>female</td></tr>\n",
       "\t<tr><th scope=row>4</th><td>3</td><td>David Guttenberg     </td><td>No candidate     </td><td>No candidate</td><td>Alaska</td><td>2016</td><td>4</td><td>True </td><td>   1</td><td>False</td><td>   0</td><td>0    </td><td>   0</td><td>male   </td><td>N/A   </td></tr>\n",
       "\t<tr><th scope=row>5</th><td>4</td><td>Adam Wool            </td><td>Aaron Lojewski   </td><td>No candidate</td><td>Alaska</td><td>2016</td><td>5</td><td>True </td><td>3812</td><td>False</td><td>3384</td><td>0    </td><td>   0</td><td>male   </td><td>male  </td></tr>\n",
       "\t<tr><th scope=row>6</th><td>5</td><td>Jason T. Land        </td><td>David M. Talerico</td><td>No candidate</td><td>Alaska</td><td>2016</td><td>6</td><td>False</td><td>2327</td><td>True </td><td>5126</td><td>0    </td><td>   0</td><td>male   </td><td>male  </td></tr>\n",
       "</tbody>\n",
       "</table>\n"
      ],
      "text/latex": [
       "A data.frame: 6 × 15\n",
       "\\begin{tabular}{r|lllllllllllllll}\n",
       "  & X & Democrat & Republican & Other & State & Year & District & Democrat.Incumbent & Democrat.Votes & Republican.Incumbent & Republican.Votes & Other.Incumbent & Other.Votes & gender\\_Dem & gender\\_Rep\\\\\n",
       "  & <int> & <chr> & <chr> & <chr> & <chr> & <int> & <chr> & <chr> & <int> & <chr> & <int> & <chr> & <int> & <chr> & <chr>\\\\\n",
       "\\hline\n",
       "\t1 & 0 & Scott J. Kawasaki     & No candidate      & No candidate & Alaska & 2016 & 1 & True  &    1 & False &    0 & 0     &    0 & male    & N/A   \\\\\n",
       "\t2 & 1 & Truno Holdaway        & Steve M. Thompson & No candidate & Alaska & 2016 & 2 & False & 1153 & True  & 3268 & 0     &    0 & Unknown & male  \\\\\n",
       "\t3 & 2 & Christina M. Sinclair & Tammie Wilson     & Jeanne Olson & Alaska & 2016 & 3 & False &  537 & True  & 4291 & False & 2270 & female  & female\\\\\n",
       "\t4 & 3 & David Guttenberg      & No candidate      & No candidate & Alaska & 2016 & 4 & True  &    1 & False &    0 & 0     &    0 & male    & N/A   \\\\\n",
       "\t5 & 4 & Adam Wool             & Aaron Lojewski    & No candidate & Alaska & 2016 & 5 & True  & 3812 & False & 3384 & 0     &    0 & male    & male  \\\\\n",
       "\t6 & 5 & Jason T. Land         & David M. Talerico & No candidate & Alaska & 2016 & 6 & False & 2327 & True  & 5126 & 0     &    0 & male    & male  \\\\\n",
       "\\end{tabular}\n"
      ],
      "text/markdown": [
       "\n",
       "A data.frame: 6 × 15\n",
       "\n",
       "| <!--/--> | X &lt;int&gt; | Democrat &lt;chr&gt; | Republican &lt;chr&gt; | Other &lt;chr&gt; | State &lt;chr&gt; | Year &lt;int&gt; | District &lt;chr&gt; | Democrat.Incumbent &lt;chr&gt; | Democrat.Votes &lt;int&gt; | Republican.Incumbent &lt;chr&gt; | Republican.Votes &lt;int&gt; | Other.Incumbent &lt;chr&gt; | Other.Votes &lt;int&gt; | gender_Dem &lt;chr&gt; | gender_Rep &lt;chr&gt; |\n",
       "|---|---|---|---|---|---|---|---|---|---|---|---|---|---|---|---|\n",
       "| 1 | 0 | Scott J. Kawasaki     | No candidate      | No candidate | Alaska | 2016 | 1 | True  |    1 | False |    0 | 0     |    0 | male    | N/A    |\n",
       "| 2 | 1 | Truno Holdaway        | Steve M. Thompson | No candidate | Alaska | 2016 | 2 | False | 1153 | True  | 3268 | 0     |    0 | Unknown | male   |\n",
       "| 3 | 2 | Christina M. Sinclair | Tammie Wilson     | Jeanne Olson | Alaska | 2016 | 3 | False |  537 | True  | 4291 | False | 2270 | female  | female |\n",
       "| 4 | 3 | David Guttenberg      | No candidate      | No candidate | Alaska | 2016 | 4 | True  |    1 | False |    0 | 0     |    0 | male    | N/A    |\n",
       "| 5 | 4 | Adam Wool             | Aaron Lojewski    | No candidate | Alaska | 2016 | 5 | True  | 3812 | False | 3384 | 0     |    0 | male    | male   |\n",
       "| 6 | 5 | Jason T. Land         | David M. Talerico | No candidate | Alaska | 2016 | 6 | False | 2327 | True  | 5126 | 0     |    0 | male    | male   |\n",
       "\n"
      ],
      "text/plain": [
       "  X Democrat              Republican        Other        State  Year District\n",
       "1 0 Scott J. Kawasaki     No candidate      No candidate Alaska 2016 1       \n",
       "2 1 Truno Holdaway        Steve M. Thompson No candidate Alaska 2016 2       \n",
       "3 2 Christina M. Sinclair Tammie Wilson     Jeanne Olson Alaska 2016 3       \n",
       "4 3 David Guttenberg      No candidate      No candidate Alaska 2016 4       \n",
       "5 4 Adam Wool             Aaron Lojewski    No candidate Alaska 2016 5       \n",
       "6 5 Jason T. Land         David M. Talerico No candidate Alaska 2016 6       \n",
       "  Democrat.Incumbent Democrat.Votes Republican.Incumbent Republican.Votes\n",
       "1 True                  1           False                   0            \n",
       "2 False              1153           True                 3268            \n",
       "3 False               537           True                 4291            \n",
       "4 True                  1           False                   0            \n",
       "5 True               3812           False                3384            \n",
       "6 False              2327           True                 5126            \n",
       "  Other.Incumbent Other.Votes gender_Dem gender_Rep\n",
       "1 0                  0        male       N/A       \n",
       "2 0                  0        Unknown    male      \n",
       "3 False           2270        female     female    \n",
       "4 0                  0        male       N/A       \n",
       "5 0                  0        male       male      \n",
       "6 0                  0        male       male      "
      ]
     },
     "metadata": {},
     "output_type": "display_data"
    }
   ],
   "source": [
    "## Create gender columns, extremely extremely slow (like 20-30min at least), but works\n",
    "\n",
    "data$gender_Dem <- gender_fill(data$Democrat)\n",
    "\n",
    "data$gender_Rep <- gender_fill(data$Republican)\n",
    "\n",
    "head(data)"
   ]
  },
  {
   "cell_type": "code",
   "execution_count": 75,
   "metadata": {},
   "outputs": [],
   "source": [
    "## Created file with gender column so you don't have to run the function every time, commented out to prevent accidental overwrite\n",
    "## write.csv(elections_2016, \"2016_election_results_updated.csv\")\n",
    "elections_2016_gender <- read.csv(\"2016_election_results_updated.csv\")"
   ]
  },
  {
   "cell_type": "code",
   "execution_count": 76,
   "metadata": {},
   "outputs": [
    {
     "data": {
      "text/html": [
       "<table>\n",
       "<caption>A data.frame: 6 × 18</caption>\n",
       "<thead>\n",
       "\t<tr><th></th><th scope=col>Democrat</th><th scope=col>Republican</th><th scope=col>Other</th><th scope=col>State</th><th scope=col>Year</th><th scope=col>District</th><th scope=col>Democrat.Incumbent</th><th scope=col>Democrat.Votes</th><th scope=col>Republican.Incumbent</th><th scope=col>Republican.Votes</th><th scope=col>Other.Incumbent</th><th scope=col>Other.Votes</th><th scope=col>gender_Dem</th><th scope=col>gender_Rep</th><th scope=col>winner</th><th scope=col>winner_gender</th><th scope=col>Democrat.Vote.Prop</th><th scope=col>Republican.Vote.Prop</th></tr>\n",
       "\t<tr><th></th><th scope=col>&lt;chr&gt;</th><th scope=col>&lt;chr&gt;</th><th scope=col>&lt;chr&gt;</th><th scope=col>&lt;chr&gt;</th><th scope=col>&lt;int&gt;</th><th scope=col>&lt;chr&gt;</th><th scope=col>&lt;chr&gt;</th><th scope=col>&lt;int&gt;</th><th scope=col>&lt;chr&gt;</th><th scope=col>&lt;int&gt;</th><th scope=col>&lt;chr&gt;</th><th scope=col>&lt;int&gt;</th><th scope=col>&lt;chr&gt;</th><th scope=col>&lt;chr&gt;</th><th scope=col>&lt;chr&gt;</th><th scope=col>&lt;chr&gt;</th><th scope=col>&lt;dbl&gt;</th><th scope=col>&lt;dbl&gt;</th></tr>\n",
       "</thead>\n",
       "<tbody>\n",
       "\t<tr><th scope=row>1</th><td>Scott J. Kawasaki    </td><td>No candidate     </td><td>No candidate</td><td>Alaska</td><td>2016</td><td>1</td><td>True </td><td>   1</td><td>False</td><td>   0</td><td>0    </td><td>   0</td><td>male   </td><td>N/A   </td><td>Democrat  </td><td>male  </td><td>1.00000000</td><td>0.0000000</td></tr>\n",
       "\t<tr><th scope=row>2</th><td>Truno Holdaway       </td><td>Steve M. Thompson</td><td>No candidate</td><td>Alaska</td><td>2016</td><td>2</td><td>False</td><td>1153</td><td>True </td><td>3268</td><td>0    </td><td>   0</td><td>Unknown</td><td>male  </td><td>Republican</td><td>male  </td><td>0.26080072</td><td>0.7391993</td></tr>\n",
       "\t<tr><th scope=row>3</th><td>Christina M. Sinclair</td><td>Tammie Wilson    </td><td>Jeanne Olson</td><td>Alaska</td><td>2016</td><td>3</td><td>False</td><td> 537</td><td>True </td><td>4291</td><td>False</td><td>2270</td><td>female </td><td>female</td><td>Republican</td><td>female</td><td>0.07565511</td><td>0.6045365</td></tr>\n",
       "\t<tr><th scope=row>4</th><td>David Guttenberg     </td><td>No candidate     </td><td>No candidate</td><td>Alaska</td><td>2016</td><td>4</td><td>True </td><td>   1</td><td>False</td><td>   0</td><td>0    </td><td>   0</td><td>male   </td><td>N/A   </td><td>Democrat  </td><td>male  </td><td>1.00000000</td><td>0.0000000</td></tr>\n",
       "\t<tr><th scope=row>5</th><td>Adam Wool            </td><td>Aaron Lojewski   </td><td>No candidate</td><td>Alaska</td><td>2016</td><td>5</td><td>True </td><td>3812</td><td>False</td><td>3384</td><td>0    </td><td>   0</td><td>male   </td><td>male  </td><td>Democrat  </td><td>male  </td><td>0.52973874</td><td>0.4702613</td></tr>\n",
       "\t<tr><th scope=row>6</th><td>Jason T. Land        </td><td>David M. Talerico</td><td>No candidate</td><td>Alaska</td><td>2016</td><td>6</td><td>False</td><td>2327</td><td>True </td><td>5126</td><td>0    </td><td>   0</td><td>male   </td><td>male  </td><td>Republican</td><td>male  </td><td>0.31222327</td><td>0.6877767</td></tr>\n",
       "</tbody>\n",
       "</table>\n"
      ],
      "text/latex": [
       "A data.frame: 6 × 18\n",
       "\\begin{tabular}{r|llllllllllllllllll}\n",
       "  & Democrat & Republican & Other & State & Year & District & Democrat.Incumbent & Democrat.Votes & Republican.Incumbent & Republican.Votes & Other.Incumbent & Other.Votes & gender\\_Dem & gender\\_Rep & winner & winner\\_gender & Democrat.Vote.Prop & Republican.Vote.Prop\\\\\n",
       "  & <chr> & <chr> & <chr> & <chr> & <int> & <chr> & <chr> & <int> & <chr> & <int> & <chr> & <int> & <chr> & <chr> & <chr> & <chr> & <dbl> & <dbl>\\\\\n",
       "\\hline\n",
       "\t1 & Scott J. Kawasaki     & No candidate      & No candidate & Alaska & 2016 & 1 & True  &    1 & False &    0 & 0     &    0 & male    & N/A    & Democrat   & male   & 1.00000000 & 0.0000000\\\\\n",
       "\t2 & Truno Holdaway        & Steve M. Thompson & No candidate & Alaska & 2016 & 2 & False & 1153 & True  & 3268 & 0     &    0 & Unknown & male   & Republican & male   & 0.26080072 & 0.7391993\\\\\n",
       "\t3 & Christina M. Sinclair & Tammie Wilson     & Jeanne Olson & Alaska & 2016 & 3 & False &  537 & True  & 4291 & False & 2270 & female  & female & Republican & female & 0.07565511 & 0.6045365\\\\\n",
       "\t4 & David Guttenberg      & No candidate      & No candidate & Alaska & 2016 & 4 & True  &    1 & False &    0 & 0     &    0 & male    & N/A    & Democrat   & male   & 1.00000000 & 0.0000000\\\\\n",
       "\t5 & Adam Wool             & Aaron Lojewski    & No candidate & Alaska & 2016 & 5 & True  & 3812 & False & 3384 & 0     &    0 & male    & male   & Democrat   & male   & 0.52973874 & 0.4702613\\\\\n",
       "\t6 & Jason T. Land         & David M. Talerico & No candidate & Alaska & 2016 & 6 & False & 2327 & True  & 5126 & 0     &    0 & male    & male   & Republican & male   & 0.31222327 & 0.6877767\\\\\n",
       "\\end{tabular}\n"
      ],
      "text/markdown": [
       "\n",
       "A data.frame: 6 × 18\n",
       "\n",
       "| <!--/--> | Democrat &lt;chr&gt; | Republican &lt;chr&gt; | Other &lt;chr&gt; | State &lt;chr&gt; | Year &lt;int&gt; | District &lt;chr&gt; | Democrat.Incumbent &lt;chr&gt; | Democrat.Votes &lt;int&gt; | Republican.Incumbent &lt;chr&gt; | Republican.Votes &lt;int&gt; | Other.Incumbent &lt;chr&gt; | Other.Votes &lt;int&gt; | gender_Dem &lt;chr&gt; | gender_Rep &lt;chr&gt; | winner &lt;chr&gt; | winner_gender &lt;chr&gt; | Democrat.Vote.Prop &lt;dbl&gt; | Republican.Vote.Prop &lt;dbl&gt; |\n",
       "|---|---|---|---|---|---|---|---|---|---|---|---|---|---|---|---|---|---|---|\n",
       "| 1 | Scott J. Kawasaki     | No candidate      | No candidate | Alaska | 2016 | 1 | True  |    1 | False |    0 | 0     |    0 | male    | N/A    | Democrat   | male   | 1.00000000 | 0.0000000 |\n",
       "| 2 | Truno Holdaway        | Steve M. Thompson | No candidate | Alaska | 2016 | 2 | False | 1153 | True  | 3268 | 0     |    0 | Unknown | male   | Republican | male   | 0.26080072 | 0.7391993 |\n",
       "| 3 | Christina M. Sinclair | Tammie Wilson     | Jeanne Olson | Alaska | 2016 | 3 | False |  537 | True  | 4291 | False | 2270 | female  | female | Republican | female | 0.07565511 | 0.6045365 |\n",
       "| 4 | David Guttenberg      | No candidate      | No candidate | Alaska | 2016 | 4 | True  |    1 | False |    0 | 0     |    0 | male    | N/A    | Democrat   | male   | 1.00000000 | 0.0000000 |\n",
       "| 5 | Adam Wool             | Aaron Lojewski    | No candidate | Alaska | 2016 | 5 | True  | 3812 | False | 3384 | 0     |    0 | male    | male   | Democrat   | male   | 0.52973874 | 0.4702613 |\n",
       "| 6 | Jason T. Land         | David M. Talerico | No candidate | Alaska | 2016 | 6 | False | 2327 | True  | 5126 | 0     |    0 | male    | male   | Republican | male   | 0.31222327 | 0.6877767 |\n",
       "\n"
      ],
      "text/plain": [
       "  Democrat              Republican        Other        State  Year District\n",
       "1 Scott J. Kawasaki     No candidate      No candidate Alaska 2016 1       \n",
       "2 Truno Holdaway        Steve M. Thompson No candidate Alaska 2016 2       \n",
       "3 Christina M. Sinclair Tammie Wilson     Jeanne Olson Alaska 2016 3       \n",
       "4 David Guttenberg      No candidate      No candidate Alaska 2016 4       \n",
       "5 Adam Wool             Aaron Lojewski    No candidate Alaska 2016 5       \n",
       "6 Jason T. Land         David M. Talerico No candidate Alaska 2016 6       \n",
       "  Democrat.Incumbent Democrat.Votes Republican.Incumbent Republican.Votes\n",
       "1 True                  1           False                   0            \n",
       "2 False              1153           True                 3268            \n",
       "3 False               537           True                 4291            \n",
       "4 True                  1           False                   0            \n",
       "5 True               3812           False                3384            \n",
       "6 False              2327           True                 5126            \n",
       "  Other.Incumbent Other.Votes gender_Dem gender_Rep winner     winner_gender\n",
       "1 0                  0        male       N/A        Democrat   male         \n",
       "2 0                  0        Unknown    male       Republican male         \n",
       "3 False           2270        female     female     Republican female       \n",
       "4 0                  0        male       N/A        Democrat   male         \n",
       "5 0                  0        male       male       Democrat   male         \n",
       "6 0                  0        male       male       Republican male         \n",
       "  Democrat.Vote.Prop Republican.Vote.Prop\n",
       "1 1.00000000         0.0000000           \n",
       "2 0.26080072         0.7391993           \n",
       "3 0.07565511         0.6045365           \n",
       "4 1.00000000         0.0000000           \n",
       "5 0.52973874         0.4702613           \n",
       "6 0.31222327         0.6877767           "
      ]
     },
     "metadata": {},
     "output_type": "display_data"
    }
   ],
   "source": [
    "## Generate winner and gender of winner\n",
    "\n",
    "elections_2016_gender <- elections_2016_gender %>%\n",
    "    mutate(winner = case_when(Democrat.Votes > Republican.Votes & Democrat.Votes > Other.Votes ~ \"Democrat\",\n",
    "                              Republican.Votes > Democrat.Votes & Republican.Votes > Other.Votes ~ \"Republican\",\n",
    "                              TRUE ~ \"Other\"),\n",
    "          winner_gender = case_when(winner == \"Democrat\" ~ gender_Dem,\n",
    "                                   winner == \"Republican\" ~ gender_Rep,\n",
    "                                   TRUE ~ \"Other candidate\")) %>%\n",
    "    select(!c(X.1, X))\n",
    "\n",
    "## Generate vote share (didn't bother doing for Other party candiates)\n",
    "elections_2016_gender <- elections_2016_gender %>%\n",
    "    mutate(Democrat.Vote.Prop = Democrat.Votes / (Democrat.Votes + Republican.Votes + Other.Votes),\n",
    "          Republican.Vote.Prop = Republican.Votes / (Democrat.Votes + Republican.Votes + Other.Votes))\n",
    "\n",
    "\n",
    "head(elections_2016_gender)\n",
    "\n",
    "### !!! Important: In analysis, exclude vote shares of 1.0000, signals no opposing candidate !!!\n"
   ]
  },
  {
   "cell_type": "code",
   "execution_count": 80,
   "metadata": {},
   "outputs": [
    {
     "data": {
      "text/html": [
       "<table>\n",
       "<caption>A data.frame: 6 × 8</caption>\n",
       "<thead>\n",
       "\t<tr><th></th><th scope=col>Democrat</th><th scope=col>State</th><th scope=col>District</th><th scope=col>Year</th><th scope=col>Democrat.Incumbent</th><th scope=col>Democrat.Votes</th><th scope=col>Democrat.Vote.Prop</th><th scope=col>gender_Dem</th></tr>\n",
       "\t<tr><th></th><th scope=col>&lt;chr&gt;</th><th scope=col>&lt;chr&gt;</th><th scope=col>&lt;chr&gt;</th><th scope=col>&lt;int&gt;</th><th scope=col>&lt;chr&gt;</th><th scope=col>&lt;int&gt;</th><th scope=col>&lt;dbl&gt;</th><th scope=col>&lt;chr&gt;</th></tr>\n",
       "</thead>\n",
       "<tbody>\n",
       "\t<tr><th scope=row>1</th><td>Scott J. Kawasaki    </td><td>Alaska</td><td>1</td><td>2016</td><td>True </td><td>   1</td><td>1.00000000</td><td>male   </td></tr>\n",
       "\t<tr><th scope=row>2</th><td>Truno Holdaway       </td><td>Alaska</td><td>2</td><td>2016</td><td>False</td><td>1153</td><td>0.26080072</td><td>Unknown</td></tr>\n",
       "\t<tr><th scope=row>3</th><td>Christina M. Sinclair</td><td>Alaska</td><td>3</td><td>2016</td><td>False</td><td> 537</td><td>0.07565511</td><td>female </td></tr>\n",
       "\t<tr><th scope=row>4</th><td>David Guttenberg     </td><td>Alaska</td><td>4</td><td>2016</td><td>True </td><td>   1</td><td>1.00000000</td><td>male   </td></tr>\n",
       "\t<tr><th scope=row>5</th><td>Adam Wool            </td><td>Alaska</td><td>5</td><td>2016</td><td>True </td><td>3812</td><td>0.52973874</td><td>male   </td></tr>\n",
       "\t<tr><th scope=row>6</th><td>Jason T. Land        </td><td>Alaska</td><td>6</td><td>2016</td><td>False</td><td>2327</td><td>0.31222327</td><td>male   </td></tr>\n",
       "</tbody>\n",
       "</table>\n"
      ],
      "text/latex": [
       "A data.frame: 6 × 8\n",
       "\\begin{tabular}{r|llllllll}\n",
       "  & Democrat & State & District & Year & Democrat.Incumbent & Democrat.Votes & Democrat.Vote.Prop & gender\\_Dem\\\\\n",
       "  & <chr> & <chr> & <chr> & <int> & <chr> & <int> & <dbl> & <chr>\\\\\n",
       "\\hline\n",
       "\t1 & Scott J. Kawasaki     & Alaska & 1 & 2016 & True  &    1 & 1.00000000 & male   \\\\\n",
       "\t2 & Truno Holdaway        & Alaska & 2 & 2016 & False & 1153 & 0.26080072 & Unknown\\\\\n",
       "\t3 & Christina M. Sinclair & Alaska & 3 & 2016 & False &  537 & 0.07565511 & female \\\\\n",
       "\t4 & David Guttenberg      & Alaska & 4 & 2016 & True  &    1 & 1.00000000 & male   \\\\\n",
       "\t5 & Adam Wool             & Alaska & 5 & 2016 & True  & 3812 & 0.52973874 & male   \\\\\n",
       "\t6 & Jason T. Land         & Alaska & 6 & 2016 & False & 2327 & 0.31222327 & male   \\\\\n",
       "\\end{tabular}\n"
      ],
      "text/markdown": [
       "\n",
       "A data.frame: 6 × 8\n",
       "\n",
       "| <!--/--> | Democrat &lt;chr&gt; | State &lt;chr&gt; | District &lt;chr&gt; | Year &lt;int&gt; | Democrat.Incumbent &lt;chr&gt; | Democrat.Votes &lt;int&gt; | Democrat.Vote.Prop &lt;dbl&gt; | gender_Dem &lt;chr&gt; |\n",
       "|---|---|---|---|---|---|---|---|---|\n",
       "| 1 | Scott J. Kawasaki     | Alaska | 1 | 2016 | True  |    1 | 1.00000000 | male    |\n",
       "| 2 | Truno Holdaway        | Alaska | 2 | 2016 | False | 1153 | 0.26080072 | Unknown |\n",
       "| 3 | Christina M. Sinclair | Alaska | 3 | 2016 | False |  537 | 0.07565511 | female  |\n",
       "| 4 | David Guttenberg      | Alaska | 4 | 2016 | True  |    1 | 1.00000000 | male    |\n",
       "| 5 | Adam Wool             | Alaska | 5 | 2016 | True  | 3812 | 0.52973874 | male    |\n",
       "| 6 | Jason T. Land         | Alaska | 6 | 2016 | False | 2327 | 0.31222327 | male    |\n",
       "\n"
      ],
      "text/plain": [
       "  Democrat              State  District Year Democrat.Incumbent Democrat.Votes\n",
       "1 Scott J. Kawasaki     Alaska 1        2016 True                  1          \n",
       "2 Truno Holdaway        Alaska 2        2016 False              1153          \n",
       "3 Christina M. Sinclair Alaska 3        2016 False               537          \n",
       "4 David Guttenberg      Alaska 4        2016 True                  1          \n",
       "5 Adam Wool             Alaska 5        2016 True               3812          \n",
       "6 Jason T. Land         Alaska 6        2016 False              2327          \n",
       "  Democrat.Vote.Prop gender_Dem\n",
       "1 1.00000000         male      \n",
       "2 0.26080072         Unknown   \n",
       "3 0.07565511         female    \n",
       "4 1.00000000         male      \n",
       "5 0.52973874         male      \n",
       "6 0.31222327         male      "
      ]
     },
     "metadata": {},
     "output_type": "display_data"
    },
    {
     "data": {
      "text/html": [
       "<table>\n",
       "<caption>A data.frame: 6 × 8</caption>\n",
       "<thead>\n",
       "\t<tr><th></th><th scope=col>Republican</th><th scope=col>State</th><th scope=col>District</th><th scope=col>Year</th><th scope=col>Republican.Incumbent</th><th scope=col>Republican.Votes</th><th scope=col>Republican.Vote.Prop</th><th scope=col>gender_Rep</th></tr>\n",
       "\t<tr><th></th><th scope=col>&lt;chr&gt;</th><th scope=col>&lt;chr&gt;</th><th scope=col>&lt;chr&gt;</th><th scope=col>&lt;int&gt;</th><th scope=col>&lt;chr&gt;</th><th scope=col>&lt;int&gt;</th><th scope=col>&lt;dbl&gt;</th><th scope=col>&lt;chr&gt;</th></tr>\n",
       "</thead>\n",
       "<tbody>\n",
       "\t<tr><th scope=row>1</th><td>No candidate     </td><td>Alaska</td><td>1</td><td>2016</td><td>False</td><td>   0</td><td>0.0000000</td><td>N/A   </td></tr>\n",
       "\t<tr><th scope=row>2</th><td>Steve M. Thompson</td><td>Alaska</td><td>2</td><td>2016</td><td>True </td><td>3268</td><td>0.7391993</td><td>male  </td></tr>\n",
       "\t<tr><th scope=row>3</th><td>Tammie Wilson    </td><td>Alaska</td><td>3</td><td>2016</td><td>True </td><td>4291</td><td>0.6045365</td><td>female</td></tr>\n",
       "\t<tr><th scope=row>4</th><td>No candidate     </td><td>Alaska</td><td>4</td><td>2016</td><td>False</td><td>   0</td><td>0.0000000</td><td>N/A   </td></tr>\n",
       "\t<tr><th scope=row>5</th><td>Aaron Lojewski   </td><td>Alaska</td><td>5</td><td>2016</td><td>False</td><td>3384</td><td>0.4702613</td><td>male  </td></tr>\n",
       "\t<tr><th scope=row>6</th><td>David M. Talerico</td><td>Alaska</td><td>6</td><td>2016</td><td>True </td><td>5126</td><td>0.6877767</td><td>male  </td></tr>\n",
       "</tbody>\n",
       "</table>\n"
      ],
      "text/latex": [
       "A data.frame: 6 × 8\n",
       "\\begin{tabular}{r|llllllll}\n",
       "  & Republican & State & District & Year & Republican.Incumbent & Republican.Votes & Republican.Vote.Prop & gender\\_Rep\\\\\n",
       "  & <chr> & <chr> & <chr> & <int> & <chr> & <int> & <dbl> & <chr>\\\\\n",
       "\\hline\n",
       "\t1 & No candidate      & Alaska & 1 & 2016 & False &    0 & 0.0000000 & N/A   \\\\\n",
       "\t2 & Steve M. Thompson & Alaska & 2 & 2016 & True  & 3268 & 0.7391993 & male  \\\\\n",
       "\t3 & Tammie Wilson     & Alaska & 3 & 2016 & True  & 4291 & 0.6045365 & female\\\\\n",
       "\t4 & No candidate      & Alaska & 4 & 2016 & False &    0 & 0.0000000 & N/A   \\\\\n",
       "\t5 & Aaron Lojewski    & Alaska & 5 & 2016 & False & 3384 & 0.4702613 & male  \\\\\n",
       "\t6 & David M. Talerico & Alaska & 6 & 2016 & True  & 5126 & 0.6877767 & male  \\\\\n",
       "\\end{tabular}\n"
      ],
      "text/markdown": [
       "\n",
       "A data.frame: 6 × 8\n",
       "\n",
       "| <!--/--> | Republican &lt;chr&gt; | State &lt;chr&gt; | District &lt;chr&gt; | Year &lt;int&gt; | Republican.Incumbent &lt;chr&gt; | Republican.Votes &lt;int&gt; | Republican.Vote.Prop &lt;dbl&gt; | gender_Rep &lt;chr&gt; |\n",
       "|---|---|---|---|---|---|---|---|---|\n",
       "| 1 | No candidate      | Alaska | 1 | 2016 | False |    0 | 0.0000000 | N/A    |\n",
       "| 2 | Steve M. Thompson | Alaska | 2 | 2016 | True  | 3268 | 0.7391993 | male   |\n",
       "| 3 | Tammie Wilson     | Alaska | 3 | 2016 | True  | 4291 | 0.6045365 | female |\n",
       "| 4 | No candidate      | Alaska | 4 | 2016 | False |    0 | 0.0000000 | N/A    |\n",
       "| 5 | Aaron Lojewski    | Alaska | 5 | 2016 | False | 3384 | 0.4702613 | male   |\n",
       "| 6 | David M. Talerico | Alaska | 6 | 2016 | True  | 5126 | 0.6877767 | male   |\n",
       "\n"
      ],
      "text/plain": [
       "  Republican        State  District Year Republican.Incumbent Republican.Votes\n",
       "1 No candidate      Alaska 1        2016 False                   0            \n",
       "2 Steve M. Thompson Alaska 2        2016 True                 3268            \n",
       "3 Tammie Wilson     Alaska 3        2016 True                 4291            \n",
       "4 No candidate      Alaska 4        2016 False                   0            \n",
       "5 Aaron Lojewski    Alaska 5        2016 False                3384            \n",
       "6 David M. Talerico Alaska 6        2016 True                 5126            \n",
       "  Republican.Vote.Prop gender_Rep\n",
       "1 0.0000000            N/A       \n",
       "2 0.7391993            male      \n",
       "3 0.6045365            female    \n",
       "4 0.0000000            N/A       \n",
       "5 0.4702613            male      \n",
       "6 0.6877767            male      "
      ]
     },
     "metadata": {},
     "output_type": "display_data"
    }
   ],
   "source": [
    "\n",
    "## Separate data by party for comparison\n",
    "Dem_data <- elections_2016_gender %>%\n",
    "    select(Democrat, State, District, Year, Democrat.Incumbent, Democrat.Votes, Democrat.Vote.Prop, gender_Dem)\n",
    "\n",
    "Rep_data <- elections_2016_gender %>%\n",
    "    select(Republican, State, District, Year, Republican.Incumbent, Republican.Votes, Republican.Vote.Prop, gender_Rep)\n",
    "\n",
    "head(Dem_data)\n",
    "\n",
    "head(Rep_data)\n",
    "\n"
   ]
  },
  {
   "cell_type": "code",
   "execution_count": 63,
   "metadata": {},
   "outputs": [
    {
     "name": "stderr",
     "output_type": "stream",
     "text": [
      "`summarise()` regrouping output by 'Year' (override with `.groups` argument)\n",
      "\n"
     ]
    },
    {
     "data": {
      "text/html": [
       "<table>\n",
       "<caption>A grouped_df: 3 × 3</caption>\n",
       "<thead>\n",
       "\t<tr><th scope=col>Year</th><th scope=col>gender_Dem</th><th scope=col>mean_votes</th></tr>\n",
       "\t<tr><th scope=col>&lt;int&gt;</th><th scope=col>&lt;chr&gt;</th><th scope=col>&lt;dbl&gt;</th></tr>\n",
       "</thead>\n",
       "<tbody>\n",
       "\t<tr><td>2016</td><td>female </td><td>13083.32</td></tr>\n",
       "\t<tr><td>2016</td><td>male   </td><td>12067.61</td></tr>\n",
       "\t<tr><td>2016</td><td>Unknown</td><td>13180.80</td></tr>\n",
       "</tbody>\n",
       "</table>\n"
      ],
      "text/latex": [
       "A grouped\\_df: 3 × 3\n",
       "\\begin{tabular}{lll}\n",
       " Year & gender\\_Dem & mean\\_votes\\\\\n",
       " <int> & <chr> & <dbl>\\\\\n",
       "\\hline\n",
       "\t 2016 & female  & 13083.32\\\\\n",
       "\t 2016 & male    & 12067.61\\\\\n",
       "\t 2016 & Unknown & 13180.80\\\\\n",
       "\\end{tabular}\n"
      ],
      "text/markdown": [
       "\n",
       "A grouped_df: 3 × 3\n",
       "\n",
       "| Year &lt;int&gt; | gender_Dem &lt;chr&gt; | mean_votes &lt;dbl&gt; |\n",
       "|---|---|---|\n",
       "| 2016 | female  | 13083.32 |\n",
       "| 2016 | male    | 12067.61 |\n",
       "| 2016 | Unknown | 13180.80 |\n",
       "\n"
      ],
      "text/plain": [
       "  Year gender_Dem mean_votes\n",
       "1 2016 female     13083.32  \n",
       "2 2016 male       12067.61  \n",
       "3 2016 Unknown    13180.80  "
      ]
     },
     "metadata": {},
     "output_type": "display_data"
    },
    {
     "name": "stderr",
     "output_type": "stream",
     "text": [
      "`summarise()` regrouping output by 'Year' (override with `.groups` argument)\n",
      "\n"
     ]
    },
    {
     "data": {
      "text/html": [
       "<table>\n",
       "<caption>A grouped_df: 3 × 3</caption>\n",
       "<thead>\n",
       "\t<tr><th scope=col>Year</th><th scope=col>gender_Rep</th><th scope=col>mean_votes</th></tr>\n",
       "\t<tr><th scope=col>&lt;int&gt;</th><th scope=col>&lt;chr&gt;</th><th scope=col>&lt;dbl&gt;</th></tr>\n",
       "</thead>\n",
       "<tbody>\n",
       "\t<tr><td>2016</td><td>female </td><td>13882.47</td></tr>\n",
       "\t<tr><td>2016</td><td>male   </td><td>14177.42</td></tr>\n",
       "\t<tr><td>2016</td><td>Unknown</td><td>10137.58</td></tr>\n",
       "</tbody>\n",
       "</table>\n"
      ],
      "text/latex": [
       "A grouped\\_df: 3 × 3\n",
       "\\begin{tabular}{lll}\n",
       " Year & gender\\_Rep & mean\\_votes\\\\\n",
       " <int> & <chr> & <dbl>\\\\\n",
       "\\hline\n",
       "\t 2016 & female  & 13882.47\\\\\n",
       "\t 2016 & male    & 14177.42\\\\\n",
       "\t 2016 & Unknown & 10137.58\\\\\n",
       "\\end{tabular}\n"
      ],
      "text/markdown": [
       "\n",
       "A grouped_df: 3 × 3\n",
       "\n",
       "| Year &lt;int&gt; | gender_Rep &lt;chr&gt; | mean_votes &lt;dbl&gt; |\n",
       "|---|---|---|\n",
       "| 2016 | female  | 13882.47 |\n",
       "| 2016 | male    | 14177.42 |\n",
       "| 2016 | Unknown | 10137.58 |\n",
       "\n"
      ],
      "text/plain": [
       "  Year gender_Rep mean_votes\n",
       "1 2016 female     13882.47  \n",
       "2 2016 male       14177.42  \n",
       "3 2016 Unknown    10137.58  "
      ]
     },
     "metadata": {},
     "output_type": "display_data"
    },
    {
     "name": "stderr",
     "output_type": "stream",
     "text": [
      "`summarise()` ungrouping output (override with `.groups` argument)\n",
      "\n"
     ]
    },
    {
     "data": {
      "text/html": [
       "<table>\n",
       "<caption>A tibble: 3 × 3</caption>\n",
       "<thead>\n",
       "\t<tr><th scope=col>gender_Dem</th><th scope=col>count</th><th scope=col>mean_vote_share</th></tr>\n",
       "\t<tr><th scope=col>&lt;chr&gt;</th><th scope=col>&lt;int&gt;</th><th scope=col>&lt;dbl&gt;</th></tr>\n",
       "</thead>\n",
       "<tbody>\n",
       "\t<tr><td>female </td><td> 813</td><td>0.4770327</td></tr>\n",
       "\t<tr><td>male   </td><td>1290</td><td>0.4688065</td></tr>\n",
       "\t<tr><td>Unknown</td><td>  50</td><td>0.4891562</td></tr>\n",
       "</tbody>\n",
       "</table>\n"
      ],
      "text/latex": [
       "A tibble: 3 × 3\n",
       "\\begin{tabular}{lll}\n",
       " gender\\_Dem & count & mean\\_vote\\_share\\\\\n",
       " <chr> & <int> & <dbl>\\\\\n",
       "\\hline\n",
       "\t female  &  813 & 0.4770327\\\\\n",
       "\t male    & 1290 & 0.4688065\\\\\n",
       "\t Unknown &   50 & 0.4891562\\\\\n",
       "\\end{tabular}\n"
      ],
      "text/markdown": [
       "\n",
       "A tibble: 3 × 3\n",
       "\n",
       "| gender_Dem &lt;chr&gt; | count &lt;int&gt; | mean_vote_share &lt;dbl&gt; |\n",
       "|---|---|---|\n",
       "| female  |  813 | 0.4770327 |\n",
       "| male    | 1290 | 0.4688065 |\n",
       "| Unknown |   50 | 0.4891562 |\n",
       "\n"
      ],
      "text/plain": [
       "  gender_Dem count mean_vote_share\n",
       "1 female      813  0.4770327      \n",
       "2 male       1290  0.4688065      \n",
       "3 Unknown      50  0.4891562      "
      ]
     },
     "metadata": {},
     "output_type": "display_data"
    },
    {
     "name": "stderr",
     "output_type": "stream",
     "text": [
      "`summarise()` ungrouping output (override with `.groups` argument)\n",
      "\n"
     ]
    },
    {
     "data": {
      "text/html": [
       "<table>\n",
       "<caption>A tibble: 3 × 3</caption>\n",
       "<thead>\n",
       "\t<tr><th scope=col>gender_Rep</th><th scope=col>count</th><th scope=col>mean_vote_share</th></tr>\n",
       "\t<tr><th scope=col>&lt;chr&gt;</th><th scope=col>&lt;int&gt;</th><th scope=col>&lt;dbl&gt;</th></tr>\n",
       "</thead>\n",
       "<tbody>\n",
       "\t<tr><td>female </td><td> 495</td><td>0.5332860</td></tr>\n",
       "\t<tr><td>male   </td><td>1634</td><td>0.5482527</td></tr>\n",
       "\t<tr><td>Unknown</td><td>  34</td><td>0.4784426</td></tr>\n",
       "</tbody>\n",
       "</table>\n"
      ],
      "text/latex": [
       "A tibble: 3 × 3\n",
       "\\begin{tabular}{lll}\n",
       " gender\\_Rep & count & mean\\_vote\\_share\\\\\n",
       " <chr> & <int> & <dbl>\\\\\n",
       "\\hline\n",
       "\t female  &  495 & 0.5332860\\\\\n",
       "\t male    & 1634 & 0.5482527\\\\\n",
       "\t Unknown &   34 & 0.4784426\\\\\n",
       "\\end{tabular}\n"
      ],
      "text/markdown": [
       "\n",
       "A tibble: 3 × 3\n",
       "\n",
       "| gender_Rep &lt;chr&gt; | count &lt;int&gt; | mean_vote_share &lt;dbl&gt; |\n",
       "|---|---|---|\n",
       "| female  |  495 | 0.5332860 |\n",
       "| male    | 1634 | 0.5482527 |\n",
       "| Unknown |   34 | 0.4784426 |\n",
       "\n"
      ],
      "text/plain": [
       "  gender_Rep count mean_vote_share\n",
       "1 female      495  0.5332860      \n",
       "2 male       1634  0.5482527      \n",
       "3 Unknown      34  0.4784426      "
      ]
     },
     "metadata": {},
     "output_type": "display_data"
    }
   ],
   "source": [
    "## Basic descriptives\n",
    "\n",
    "Dem_data %>%\n",
    "    group_by(Year, gender_Dem) %>%\n",
    "    filter(gender_Dem %in% c(\"male\", \"female\", \"Unknown\"), !is.na(Democrat.Votes)) %>%\n",
    "    summarize(mean_votes = mean(Democrat.Votes))\n",
    "\n",
    "Rep_data %>%\n",
    "    group_by(Year, gender_Rep) %>%\n",
    "    filter(gender_Rep %in% c(\"male\", \"female\", \"Unknown\"), !is.na(Republican.Votes)) %>%\n",
    "    summarize(mean_votes = mean(Republican.Votes))\n",
    "\n",
    "\n",
    "Dem_data %>%\n",
    "    group_by(gender_Dem) %>%\n",
    "    filter(gender_Dem %in% c(\"male\", \"female\", \"Unknown\"), !is.na(Democrat.Vote.Prop), !Democrat.Vote.Prop == 1) %>%\n",
    "    summarize(count = n(),\n",
    "              mean_vote_share = mean(Democrat.Vote.Prop))\n",
    "\n",
    "Rep_data %>%\n",
    "    group_by(gender_Rep) %>%\n",
    "    filter(gender_Rep %in% c(\"male\", \"female\", \"Unknown\"), !is.na(Republican.Vote.Prop), !Republican.Vote.Prop == 1) %>%\n",
    "    summarize(count = n(),\n",
    "              mean_vote_share = mean(Republican.Vote.Prop))\n"
   ]
  },
  {
   "cell_type": "code",
   "execution_count": 74,
   "metadata": {},
   "outputs": [
    {
     "ename": "ERROR",
     "evalue": "Error: Must group by variables found in `.data`.\n* Column `gender_Dem` is not found.\n",
     "output_type": "error",
     "traceback": [
      "Error: Must group by variables found in `.data`.\n* Column `gender_Dem` is not found.\nTraceback:\n",
      "1. Dem_data %>% group_by(Year, gender_Dem) %>% filter(gender_Dem %in% \n .     c(\"male\", \"female\"), !is.na(Democrat.Votes)) %>% summarize(count = n(), \n .     mean_votes = mean(Democrat.Votes)) %>% ggplot(aes(x = gender_Dem, \n .     y = mean_votes, fill = gender_Dem))",
      "2. withVisible(eval(quote(`_fseq`(`_lhs`)), env, env))",
      "3. eval(quote(`_fseq`(`_lhs`)), env, env)",
      "4. eval(quote(`_fseq`(`_lhs`)), env, env)",
      "5. `_fseq`(`_lhs`)",
      "6. freduce(value, `_function_list`)",
      "7. function_list[[i]](value)",
      "8. group_by(., Year, gender_Dem)",
      "9. group_by.data.frame(., Year, gender_Dem)",
      "10. group_by_prepare(.data, ..., .add = .add)",
      "11. abort(c(\"Must group by variables found in `.data`.\", glue(\"Column `{unknown}` is not found.\")))",
      "12. signal_abort(cnd)"
     ]
    }
   ],
   "source": [
    "## Graphs (need to change vote total to vote share, vote total is bad stats)\n",
    "\n",
    "Dem_data %>%\n",
    "    group_by(Year, gender_Dem) %>%\n",
    "    filter(gender_Dem %in% c(\"male\", \"female\"), !is.na(Democrat.Votes)) %>%\n",
    "    summarize(count = n(), \n",
    "              mean_votes = mean(Democrat.Votes)) %>%\n",
    "    ggplot(aes(x = gender_Dem, y = mean_votes, fill = gender_Dem)) + \n",
    "        geom_bar(stat = \"identity\") + \n",
    "        labs(title = \"Vote Share by Gender, Democratic Party, 2016\",\n",
    "            y = \"Average Total Votes\",\n",
    "            x = \"Gender\") +\n",
    "        theme(legend.position = \"none\")\n",
    "\n",
    "Rep_data %>%\n",
    "    group_by(Year, gender_Rep) %>%\n",
    "    filter(gender_Rep %in% c(\"male\", \"female\"), !is.na(Republican.Votes)) %>%\n",
    "    summarize(count = n(),\n",
    "              mean_votes = mean(Republican.Votes)) %>%\n",
    "    ggplot(aes(x = gender_Rep, y = mean_votes, fill = gender_Rep)) + \n",
    "        geom_bar(stat = \"identity\") +\n",
    "        labs(title = \"Vote Share by Gender, Republican Party, 2016\",\n",
    "            y = \"Average Total Votes\",\n",
    "            x = \"Gender\") +\n",
    "        theme(legend.position = \"none\")\n",
    "\n",
    "\n",
    "## Tables  (need to work on this whole section, not currently working)\n",
    "elections_2016_gender %>% \n",
    "    filter(gender_Dem %in% c(\"male\", \"female\"), gender_Rep %in% c(\"male\", \"female\")) %>%\n",
    "    group_by(gender_Dem, gender_Rep, winner) %>%\n",
    "    summarize(count = n())\n",
    "\n",
    "elections_2016_gender %>% \n",
    "    filter(gender_Dem %in% c(\"male\", \"female\"), gender_Rep %in% c(\"male\", \"female\")) %>%\n",
    "    group_by(State, winner_gender) %>%\n",
    "    summarize(count = n()) %>%\n",
    "    mutate(prop = count/sum(count)) %>%\n",
    "    head()\n",
    "\n",
    "\n",
    "##Vote Prop of winning candidates\n",
    "elections_2016_gender %>% \n",
    "    filter(gender_Dem %in% c(\"male\", \"female\"), gender_Rep %in% c(\"male\", \"female\")) %>%\n",
    "    group_by(State, winner_gender) %>%\n",
    "    summarize(count = n()) %>%\n",
    "    mutate(prop = count/sum(count)) %>%\n",
    "    head()\n",
    "\n",
    "elections_2016_gender %>% \n",
    "    filter(gender_Dem %in% c(\"male\", \"female\"), gender_Rep %in% c(\"male\", \"female\")) %>%\n",
    "    group_by(State, winner_gender) %>%\n",
    "    summarize(count = n()) %>%\n",
    "    mutate(prop = count/sum(count)) %>%\n",
    "    summarize(prop_diff = max(prop) - min(prop)) %>%\n",
    "    filter(abs(prop_diff) > 0.05) %>%\n",
    "    head()\n"
   ]
  },
  {
   "cell_type": "code",
   "execution_count": 97,
   "metadata": {},
   "outputs": [
    {
     "data": {
      "text/html": [
       "<style>\n",
       ".list-inline {list-style: none; margin:0; padding: 0}\n",
       ".list-inline>li {display: inline-block}\n",
       ".list-inline>li:not(:last-child)::after {content: \"\\00b7\"; padding: 0 .5ex}\n",
       "</style>\n",
       "<ol class=list-inline><li>'year'</li><li>'state'</li><li>'state_po'</li><li>'state_fips'</li><li>'state_cen'</li><li>'state_ic'</li><li>'office'</li><li>'district'</li><li>'stage'</li><li>'special'</li><li>'candidate'</li><li>'party'</li><li>'writein'</li><li>'mode'</li><li>'candidatevotes'</li><li>'totalvotes'</li><li>'unofficial'</li><li>'version'</li></ol>\n"
      ],
      "text/latex": [
       "\\begin{enumerate*}\n",
       "\\item 'year'\n",
       "\\item 'state'\n",
       "\\item 'state\\_po'\n",
       "\\item 'state\\_fips'\n",
       "\\item 'state\\_cen'\n",
       "\\item 'state\\_ic'\n",
       "\\item 'office'\n",
       "\\item 'district'\n",
       "\\item 'stage'\n",
       "\\item 'special'\n",
       "\\item 'candidate'\n",
       "\\item 'party'\n",
       "\\item 'writein'\n",
       "\\item 'mode'\n",
       "\\item 'candidatevotes'\n",
       "\\item 'totalvotes'\n",
       "\\item 'unofficial'\n",
       "\\item 'version'\n",
       "\\end{enumerate*}\n"
      ],
      "text/markdown": [
       "1. 'year'\n",
       "2. 'state'\n",
       "3. 'state_po'\n",
       "4. 'state_fips'\n",
       "5. 'state_cen'\n",
       "6. 'state_ic'\n",
       "7. 'office'\n",
       "8. 'district'\n",
       "9. 'stage'\n",
       "10. 'special'\n",
       "11. 'candidate'\n",
       "12. 'party'\n",
       "13. 'writein'\n",
       "14. 'mode'\n",
       "15. 'candidatevotes'\n",
       "16. 'totalvotes'\n",
       "17. 'unofficial'\n",
       "18. 'version'\n",
       "\n",
       "\n"
      ],
      "text/plain": [
       " [1] \"year\"           \"state\"          \"state_po\"       \"state_fips\"    \n",
       " [5] \"state_cen\"      \"state_ic\"       \"office\"         \"district\"      \n",
       " [9] \"stage\"          \"special\"        \"candidate\"      \"party\"         \n",
       "[13] \"writein\"        \"mode\"           \"candidatevotes\" \"totalvotes\"    \n",
       "[17] \"unofficial\"     \"version\"       "
      ]
     },
     "metadata": {},
     "output_type": "display_data"
    },
    {
     "name": "stderr",
     "output_type": "stream",
     "text": [
      "`summarise()` ungrouping output (override with `.groups` argument)\n",
      "\n"
     ]
    },
    {
     "data": {
      "text/html": [
       "<style>\n",
       ".list-inline {list-style: none; margin:0; padding: 0}\n",
       ".list-inline>li {display: inline-block}\n",
       ".list-inline>li:not(:last-child)::after {content: \"\\00b7\"; padding: 0 .5ex}\n",
       "</style>\n",
       "<ol class=list-inline><li>21900</li><li>18</li></ol>\n"
      ],
      "text/latex": [
       "\\begin{enumerate*}\n",
       "\\item 21900\n",
       "\\item 18\n",
       "\\end{enumerate*}\n"
      ],
      "text/markdown": [
       "1. 21900\n",
       "2. 18\n",
       "\n",
       "\n"
      ],
      "text/plain": [
       "[1] 21900    18"
      ]
     },
     "metadata": {},
     "output_type": "display_data"
    },
    {
     "data": {
      "text/html": [
       "<style>\n",
       ".list-inline {list-style: none; margin:0; padding: 0}\n",
       ".list-inline>li {display: inline-block}\n",
       ".list-inline>li:not(:last-child)::after {content: \"\\00b7\"; padding: 0 .5ex}\n",
       "</style>\n",
       "<ol class=list-inline><li>14786</li><li>14</li></ol>\n"
      ],
      "text/latex": [
       "\\begin{enumerate*}\n",
       "\\item 14786\n",
       "\\item 14\n",
       "\\end{enumerate*}\n"
      ],
      "text/markdown": [
       "1. 14786\n",
       "2. 14\n",
       "\n",
       "\n"
      ],
      "text/plain": [
       "[1] 14786    14"
      ]
     },
     "metadata": {},
     "output_type": "display_data"
    },
    {
     "data": {
      "text/html": [
       "<table>\n",
       "<caption>A data.frame: 6 × 14</caption>\n",
       "<thead>\n",
       "\t<tr><th></th><th scope=col>year</th><th scope=col>state</th><th scope=col>state_po</th><th scope=col>state_fips</th><th scope=col>state_cen</th><th scope=col>state_ic</th><th scope=col>office</th><th scope=col>district</th><th scope=col>stage</th><th scope=col>candidate</th><th scope=col>party</th><th scope=col>mode</th><th scope=col>candidatevotes</th><th scope=col>totalvotes</th></tr>\n",
       "\t<tr><th></th><th scope=col>&lt;int&gt;</th><th scope=col>&lt;chr&gt;</th><th scope=col>&lt;chr&gt;</th><th scope=col>&lt;int&gt;</th><th scope=col>&lt;int&gt;</th><th scope=col>&lt;int&gt;</th><th scope=col>&lt;chr&gt;</th><th scope=col>&lt;chr&gt;</th><th scope=col>&lt;chr&gt;</th><th scope=col>&lt;chr&gt;</th><th scope=col>&lt;chr&gt;</th><th scope=col>&lt;chr&gt;</th><th scope=col>&lt;int&gt;</th><th scope=col>&lt;int&gt;</th></tr>\n",
       "</thead>\n",
       "<tbody>\n",
       "\t<tr><th scope=row>1</th><td>2018</td><td>Alabama</td><td>AL</td><td>1</td><td>63</td><td>41</td><td>State Representative</td><td>District 1</td><td>gen</td><td>Bobby James Dolan III</td><td>independent</td><td>absentee    </td><td> 125</td><td>11684</td></tr>\n",
       "\t<tr><th scope=row>2</th><td>2018</td><td>Alabama</td><td>AL</td><td>1</td><td>63</td><td>41</td><td>State Representative</td><td>District 1</td><td>gen</td><td>Bobby James Dolan III</td><td>independent</td><td>election day</td><td>4175</td><td>11684</td></tr>\n",
       "\t<tr><th scope=row>3</th><td>2018</td><td>Alabama</td><td>AL</td><td>1</td><td>63</td><td>41</td><td>State Representative</td><td>District 1</td><td>gen</td><td>Bobby James Dolan III</td><td>independent</td><td>provisional </td><td>  36</td><td>11684</td></tr>\n",
       "\t<tr><th scope=row>4</th><td>2018</td><td>Alabama</td><td>AL</td><td>1</td><td>63</td><td>41</td><td>State Representative</td><td>District 1</td><td>gen</td><td>Phillip Pettus       </td><td>republican </td><td>absentee    </td><td> 266</td><td>11684</td></tr>\n",
       "\t<tr><th scope=row>5</th><td>2018</td><td>Alabama</td><td>AL</td><td>1</td><td>63</td><td>41</td><td>State Representative</td><td>District 1</td><td>gen</td><td>Phillip Pettus       </td><td>republican </td><td>election day</td><td>7034</td><td>11684</td></tr>\n",
       "\t<tr><th scope=row>6</th><td>2018</td><td>Alabama</td><td>AL</td><td>1</td><td>63</td><td>41</td><td>State Representative</td><td>District 1</td><td>gen</td><td>Phillip Pettus       </td><td>republican </td><td>provisional </td><td>  48</td><td>11684</td></tr>\n",
       "</tbody>\n",
       "</table>\n"
      ],
      "text/latex": [
       "A data.frame: 6 × 14\n",
       "\\begin{tabular}{r|llllllllllllll}\n",
       "  & year & state & state\\_po & state\\_fips & state\\_cen & state\\_ic & office & district & stage & candidate & party & mode & candidatevotes & totalvotes\\\\\n",
       "  & <int> & <chr> & <chr> & <int> & <int> & <int> & <chr> & <chr> & <chr> & <chr> & <chr> & <chr> & <int> & <int>\\\\\n",
       "\\hline\n",
       "\t1 & 2018 & Alabama & AL & 1 & 63 & 41 & State Representative & District 1 & gen & Bobby James Dolan III & independent & absentee     &  125 & 11684\\\\\n",
       "\t2 & 2018 & Alabama & AL & 1 & 63 & 41 & State Representative & District 1 & gen & Bobby James Dolan III & independent & election day & 4175 & 11684\\\\\n",
       "\t3 & 2018 & Alabama & AL & 1 & 63 & 41 & State Representative & District 1 & gen & Bobby James Dolan III & independent & provisional  &   36 & 11684\\\\\n",
       "\t4 & 2018 & Alabama & AL & 1 & 63 & 41 & State Representative & District 1 & gen & Phillip Pettus        & republican  & absentee     &  266 & 11684\\\\\n",
       "\t5 & 2018 & Alabama & AL & 1 & 63 & 41 & State Representative & District 1 & gen & Phillip Pettus        & republican  & election day & 7034 & 11684\\\\\n",
       "\t6 & 2018 & Alabama & AL & 1 & 63 & 41 & State Representative & District 1 & gen & Phillip Pettus        & republican  & provisional  &   48 & 11684\\\\\n",
       "\\end{tabular}\n"
      ],
      "text/markdown": [
       "\n",
       "A data.frame: 6 × 14\n",
       "\n",
       "| <!--/--> | year &lt;int&gt; | state &lt;chr&gt; | state_po &lt;chr&gt; | state_fips &lt;int&gt; | state_cen &lt;int&gt; | state_ic &lt;int&gt; | office &lt;chr&gt; | district &lt;chr&gt; | stage &lt;chr&gt; | candidate &lt;chr&gt; | party &lt;chr&gt; | mode &lt;chr&gt; | candidatevotes &lt;int&gt; | totalvotes &lt;int&gt; |\n",
       "|---|---|---|---|---|---|---|---|---|---|---|---|---|---|---|\n",
       "| 1 | 2018 | Alabama | AL | 1 | 63 | 41 | State Representative | District 1 | gen | Bobby James Dolan III | independent | absentee     |  125 | 11684 |\n",
       "| 2 | 2018 | Alabama | AL | 1 | 63 | 41 | State Representative | District 1 | gen | Bobby James Dolan III | independent | election day | 4175 | 11684 |\n",
       "| 3 | 2018 | Alabama | AL | 1 | 63 | 41 | State Representative | District 1 | gen | Bobby James Dolan III | independent | provisional  |   36 | 11684 |\n",
       "| 4 | 2018 | Alabama | AL | 1 | 63 | 41 | State Representative | District 1 | gen | Phillip Pettus        | republican  | absentee     |  266 | 11684 |\n",
       "| 5 | 2018 | Alabama | AL | 1 | 63 | 41 | State Representative | District 1 | gen | Phillip Pettus        | republican  | election day | 7034 | 11684 |\n",
       "| 6 | 2018 | Alabama | AL | 1 | 63 | 41 | State Representative | District 1 | gen | Phillip Pettus        | republican  | provisional  |   48 | 11684 |\n",
       "\n"
      ],
      "text/plain": [
       "  year state   state_po state_fips state_cen state_ic office              \n",
       "1 2018 Alabama AL       1          63        41       State Representative\n",
       "2 2018 Alabama AL       1          63        41       State Representative\n",
       "3 2018 Alabama AL       1          63        41       State Representative\n",
       "4 2018 Alabama AL       1          63        41       State Representative\n",
       "5 2018 Alabama AL       1          63        41       State Representative\n",
       "6 2018 Alabama AL       1          63        41       State Representative\n",
       "  district   stage candidate             party       mode        \n",
       "1 District 1 gen   Bobby James Dolan III independent absentee    \n",
       "2 District 1 gen   Bobby James Dolan III independent election day\n",
       "3 District 1 gen   Bobby James Dolan III independent provisional \n",
       "4 District 1 gen   Phillip Pettus        republican  absentee    \n",
       "5 District 1 gen   Phillip Pettus        republican  election day\n",
       "6 District 1 gen   Phillip Pettus        republican  provisional \n",
       "  candidatevotes totalvotes\n",
       "1  125           11684     \n",
       "2 4175           11684     \n",
       "3   36           11684     \n",
       "4  266           11684     \n",
       "5 7034           11684     \n",
       "6   48           11684     "
      ]
     },
     "metadata": {},
     "output_type": "display_data"
    }
   ],
   "source": [
    "## 2018 data prep\n",
    "\n",
    "# Read data in\n",
    "state_elections_2018 <- read.csv(\"state_overall_2018.csv\")\n",
    "\n",
    "# Filter out races for other positions, special elections, write-ins, NAs\n",
    "names(state_elections_2018)\n",
    "\n",
    "filter_candidates <- state_elections_2018 %>%\n",
    "    group_by(candidate) %>%\n",
    "    summarize(count = n()) %>%\n",
    "    filter(count > 25) %>% # Candidate with most appearances has 24, above that are aggregates/NAs\n",
    "    select(candidate)\n",
    "\n",
    "state_elections_2018_filtered <- state_elections_2018 %>%\n",
    "    filter(office %in% c(\"State Assembly Member\", \"State Representative\", \"State Senator\", \"State Representative A\", \"State Representative B\"),\n",
    "          special == FALSE,\n",
    "           writein == FALSE,\n",
    "           !candidate %in% filter_candidates$candidate,\n",
    "          ) %>%\n",
    "    select(!c(\"writein\",\"special\",\"unofficial\",\"version\"))\n",
    "\n",
    "dim(state_elections_2018)\n",
    "dim(state_elections_2018_filtered)\n",
    "\n",
    "head(state_elections_2018_filtered)\n",
    "\n"
   ]
  },
  {
   "cell_type": "code",
   "execution_count": 99,
   "metadata": {},
   "outputs": [
    {
     "data": {
      "text/html": [
       "<style>\n",
       ".list-inline {list-style: none; margin:0; padding: 0}\n",
       ".list-inline>li {display: inline-block}\n",
       ".list-inline>li:not(:last-child)::after {content: \"\\00b7\"; padding: 0 .5ex}\n",
       "</style>\n",
       "<ol class=list-inline><li>'absentee'</li><li>'election day'</li><li>'provisional'</li><li>'total'</li><li>'early vote'</li><li>'machine'</li><li>'absentee by mail'</li><li>'advance in person'</li><li>'early'</li><li>'election'</li><li>'absentee/early vote'</li><li>'one stop'</li><li>'absentee mail'</li><li>'electon day'</li><li>'mail ballots'</li></ol>\n"
      ],
      "text/latex": [
       "\\begin{enumerate*}\n",
       "\\item 'absentee'\n",
       "\\item 'election day'\n",
       "\\item 'provisional'\n",
       "\\item 'total'\n",
       "\\item 'early vote'\n",
       "\\item 'machine'\n",
       "\\item 'absentee by mail'\n",
       "\\item 'advance in person'\n",
       "\\item 'early'\n",
       "\\item 'election'\n",
       "\\item 'absentee/early vote'\n",
       "\\item 'one stop'\n",
       "\\item 'absentee mail'\n",
       "\\item 'electon day'\n",
       "\\item 'mail ballots'\n",
       "\\end{enumerate*}\n"
      ],
      "text/markdown": [
       "1. 'absentee'\n",
       "2. 'election day'\n",
       "3. 'provisional'\n",
       "4. 'total'\n",
       "5. 'early vote'\n",
       "6. 'machine'\n",
       "7. 'absentee by mail'\n",
       "8. 'advance in person'\n",
       "9. 'early'\n",
       "10. 'election'\n",
       "11. 'absentee/early vote'\n",
       "12. 'one stop'\n",
       "13. 'absentee mail'\n",
       "14. 'electon day'\n",
       "15. 'mail ballots'\n",
       "\n",
       "\n"
      ],
      "text/plain": [
       " [1] \"absentee\"            \"election day\"        \"provisional\"        \n",
       " [4] \"total\"               \"early vote\"          \"machine\"            \n",
       " [7] \"absentee by mail\"    \"advance in person\"   \"early\"              \n",
       "[10] \"election\"            \"absentee/early vote\" \"one stop\"           \n",
       "[13] \"absentee mail\"       \"electon day\"         \"mail ballots\"       "
      ]
     },
     "metadata": {},
     "output_type": "display_data"
    },
    {
     "data": {
      "text/html": [
       "7"
      ],
      "text/latex": [
       "7"
      ],
      "text/markdown": [
       "7"
      ],
      "text/plain": [
       "[1] 7"
      ]
     },
     "metadata": {},
     "output_type": "display_data"
    },
    {
     "name": "stderr",
     "output_type": "stream",
     "text": [
      "`summarise()` regrouping output by 'state', 'district', 'office', 'party' (override with `.groups` argument)\n",
      "\n",
      "Warning message:\n",
      "“Values are not uniquely identified; output will contain list-cols.\n",
      "* Use `values_fn = list` to suppress this warning.\n",
      "* Use `values_fn = length` to identify where the duplicates arise\n",
      "* Use `values_fn = {summary_fun}` to summarise duplicates”\n",
      "Warning message:\n",
      "“Values are not uniquely identified; output will contain list-cols.\n",
      "* Use `values_fn = list` to suppress this warning.\n",
      "* Use `values_fn = length` to identify where the duplicates arise\n",
      "* Use `values_fn = {summary_fun}` to summarise duplicates”\n"
     ]
    }
   ],
   "source": [
    "# Reformat data to single line per candidate and election\n",
    "\n",
    "unique(state_elections_2018_filtered$mode)\n",
    "\n",
    "\n",
    "total_list <- state_elections_2018_filtered %>%\n",
    "    filter(mode == \"total\") %>%\n",
    "    select(candidate)\n",
    "\n",
    "non_total_list <- state_elections_2018_filtered %>%\n",
    "    filter(!mode == \"total\") %>%\n",
    "    select(candidate)\n",
    "\n",
    "sum(unique(total_list$candidate) %in% unique(non_total_list$candidate))\n",
    "\n",
    "match_list <- unique(total_list[total_list$candidate %in% non_total_list$candidate,])\n",
    "\n",
    "\n",
    "test_case <- state_elections_2018_filtered %>%\n",
    "    filter(!candidate %in% match_list) %>%\n",
    "    group_by(state, district, office, party, candidate) %>%\n",
    "    summarize(total_votes = sum(candidatevotes)) %>%\n",
    "    arrange(state, district, office)\n",
    "\n",
    "state_elections_2018_formatted <- test_case %>%\n",
    "    filter(party %in% c(\"democrat\", \"republican\")) %>%\n",
    "    pivot_wider(id_cols = c(\"state\", \"district\", \"office\"), names_from = party, values_from = c(\"candidate\", \"total_votes\")) %>%\n",
    "    mutate(candidate_democrat = replace_na(candidate_democrat, \"No candidate\"), \n",
    "            candidate_republican = replace_na(candidate_republican, \"No candidate\"),\n",
    "            total_votes_democrat = replace_na(total_votes_democrat, 0),\n",
    "            total_votes_republican = replace_na(total_votes_republican, 0))\n",
    "## Prob best possible set up\n",
    "\n",
    "\n"
   ]
  },
  {
   "cell_type": "code",
   "execution_count": 15,
   "metadata": {},
   "outputs": [
    {
     "ename": "ERROR",
     "evalue": "Error in gender_fill(state_elections_2018_formatted$candidate_republican): could not find function \"gender_fill\"\n",
     "output_type": "error",
     "traceback": [
      "Error in gender_fill(state_elections_2018_formatted$candidate_republican): could not find function \"gender_fill\"\nTraceback:\n"
     ]
    }
   ],
   "source": [
    "## Generate gender for 2018 candidates (doesn't currently work due to complications with dataset)\n",
    "\n",
    "state_elections_2018_formatted$gender_rep <- gender_fill(state_elections_2018_formatted$candidate_republican)\n",
    "\n",
    "state_elections_2018_formatted$gender_dem <- gender_fill(state_elections_2018_formatted$candidate_democrat)\n",
    "\n"
   ]
  },
  {
   "cell_type": "code",
   "execution_count": 102,
   "metadata": {},
   "outputs": [
    {
     "data": {
      "text/html": [
       "<table>\n",
       "<caption>A grouped_df: 20 × 9</caption>\n",
       "<thead>\n",
       "\t<tr><th scope=col>state</th><th scope=col>district</th><th scope=col>office</th><th scope=col>candidate_republican</th><th scope=col>candidate_democrat</th><th scope=col>total_votes_republican</th><th scope=col>total_votes_democrat</th><th scope=col>gender_rep</th><th scope=col>gender_dem</th></tr>\n",
       "\t<tr><th scope=col>&lt;chr&gt;</th><th scope=col>&lt;chr&gt;</th><th scope=col>&lt;chr&gt;</th><th scope=col>&lt;list&gt;</th><th scope=col>&lt;list&gt;</th><th scope=col>&lt;list&gt;</th><th scope=col>&lt;list&gt;</th><th scope=col>&lt;chr&gt;</th><th scope=col>&lt;chr&gt;</th></tr>\n",
       "</thead>\n",
       "<tbody>\n",
       "\t<tr><td>Alabama</td><td>District 1  </td><td>State Representative</td><td>Phillip Pettus</td><td>No candidate</td><td>7348</td><td>0</td><td>male  </td><td>N/A    </td></tr>\n",
       "\t<tr><td>Alabama</td><td>District 1  </td><td>State Senator       </td><td>Tim Melson</td><td>Caroline Self</td><td>33141</td><td>15830</td><td>male  </td><td>female </td></tr>\n",
       "\t<tr><td>Alabama</td><td>District 10 </td><td>State Representative</td><td>Mike Ball</td><td>J.B. King</td><td>11240</td><td>8565</td><td>male  </td><td>Unknown</td></tr>\n",
       "\t<tr><td>Alabama</td><td>District 10 </td><td>State Senator       </td><td>Andrew Jones</td><td>No candidate</td><td>25902</td><td>0</td><td>male  </td><td>N/A    </td></tr>\n",
       "\t<tr><td>Alabama</td><td>District 100</td><td>State Representative</td><td>Victor Gaston</td><td>No candidate</td><td>12086</td><td>0</td><td>male  </td><td>N/A    </td></tr>\n",
       "\t<tr><td>Alabama</td><td>District 101</td><td>State Representative</td><td>Chris Pringle</td><td>No candidate</td><td>10274</td><td>0</td><td>male  </td><td>N/A    </td></tr>\n",
       "\t<tr><td>Alabama</td><td>District 102</td><td>State Representative</td><td>Shane Stringer</td><td>No candidate</td><td>11048</td><td>0</td><td>male  </td><td>N/A    </td></tr>\n",
       "\t<tr><td>Alabama</td><td>District 103</td><td>State Representative</td><td>No candidate</td><td>Barbara Drummond</td><td>0</td><td>8818</td><td>N/A   </td><td>female </td></tr>\n",
       "\t<tr><td>Alabama</td><td>District 104</td><td>State Representative</td><td>Margie Wilcox</td><td>Arlene Cunningham Easley</td><td>10152</td><td>4695</td><td>female</td><td>female </td></tr>\n",
       "\t<tr><td>Alabama</td><td>District 105</td><td>State Representative</td><td>Chip Brown</td><td>No candidate</td><td>10176</td><td>0</td><td>male  </td><td>N/A    </td></tr>\n",
       "\t<tr><td>Alabama</td><td>District 11 </td><td>State Representative</td><td>Randall Shedd</td><td>No candidate</td><td>13098</td><td>0</td><td>male  </td><td>N/A    </td></tr>\n",
       "\t<tr><td>Alabama</td><td>District 11 </td><td>State Senator       </td><td>Jim McClendon</td><td>Carl Carter</td><td>36192</td><td>11411</td><td>male  </td><td>male   </td></tr>\n",
       "\t<tr><td>Alabama</td><td>District 12 </td><td>State Representative</td><td>Corey Harbison</td><td>No candidate</td><td>14687</td><td>0</td><td>male  </td><td>N/A    </td></tr>\n",
       "\t<tr><td>Alabama</td><td>District 12 </td><td>State Senator       </td><td>Del Marsh</td><td>Jim Williams</td><td>27416</td><td>15010</td><td>male  </td><td>male   </td></tr>\n",
       "\t<tr><td>Alabama</td><td>District 13 </td><td>State Representative</td><td>Connie Cooner Rowe</td><td>No candidate</td><td>13755</td><td>0</td><td>female</td><td>N/A    </td></tr>\n",
       "\t<tr><td>Alabama</td><td>District 13 </td><td>State Senator       </td><td>Randy Price</td><td>Darrell Turner</td><td>31614</td><td>12839</td><td>male  </td><td>male   </td></tr>\n",
       "\t<tr><td>Alabama</td><td>District 14 </td><td>State Representative</td><td>Tim Wadsworth</td><td>No candidate</td><td>13394</td><td>0</td><td>male  </td><td>N/A    </td></tr>\n",
       "\t<tr><td>Alabama</td><td>District 14 </td><td>State Senator       </td><td>Cam Ward</td><td>Jerry McDonald</td><td>34953</td><td>13171</td><td>male  </td><td>male   </td></tr>\n",
       "\t<tr><td>Alabama</td><td>District 15 </td><td>State Representative</td><td>Allen Farley</td><td>Suzanna Coleman</td><td>14212</td><td>6951</td><td>male  </td><td>female </td></tr>\n",
       "\t<tr><td>Alabama</td><td>District 15 </td><td>State Senator       </td><td>Dan Roberts</td><td>No candidate</td><td>44792</td><td>0</td><td>male  </td><td>N/A    </td></tr>\n",
       "</tbody>\n",
       "</table>\n"
      ],
      "text/latex": [
       "A grouped\\_df: 20 × 9\n",
       "\\begin{tabular}{lllllllll}\n",
       " state & district & office & candidate\\_republican & candidate\\_democrat & total\\_votes\\_republican & total\\_votes\\_democrat & gender\\_rep & gender\\_dem\\\\\n",
       " <chr> & <chr> & <chr> & <list> & <list> & <list> & <list> & <chr> & <chr>\\\\\n",
       "\\hline\n",
       "\t Alabama & District 1   & State Representative & Phillip Pettus & No candidate & 7348 & 0 & male   & N/A    \\\\\n",
       "\t Alabama & District 1   & State Senator        & Tim Melson & Caroline Self & 33141 & 15830 & male   & female \\\\\n",
       "\t Alabama & District 10  & State Representative & Mike Ball & J.B. King & 11240 & 8565 & male   & Unknown\\\\\n",
       "\t Alabama & District 10  & State Senator        & Andrew Jones & No candidate & 25902 & 0 & male   & N/A    \\\\\n",
       "\t Alabama & District 100 & State Representative & Victor Gaston & No candidate & 12086 & 0 & male   & N/A    \\\\\n",
       "\t Alabama & District 101 & State Representative & Chris Pringle & No candidate & 10274 & 0 & male   & N/A    \\\\\n",
       "\t Alabama & District 102 & State Representative & Shane Stringer & No candidate & 11048 & 0 & male   & N/A    \\\\\n",
       "\t Alabama & District 103 & State Representative & No candidate & Barbara Drummond & 0 & 8818 & N/A    & female \\\\\n",
       "\t Alabama & District 104 & State Representative & Margie Wilcox & Arlene Cunningham Easley & 10152 & 4695 & female & female \\\\\n",
       "\t Alabama & District 105 & State Representative & Chip Brown & No candidate & 10176 & 0 & male   & N/A    \\\\\n",
       "\t Alabama & District 11  & State Representative & Randall Shedd & No candidate & 13098 & 0 & male   & N/A    \\\\\n",
       "\t Alabama & District 11  & State Senator        & Jim McClendon & Carl Carter & 36192 & 11411 & male   & male   \\\\\n",
       "\t Alabama & District 12  & State Representative & Corey Harbison & No candidate & 14687 & 0 & male   & N/A    \\\\\n",
       "\t Alabama & District 12  & State Senator        & Del Marsh & Jim Williams & 27416 & 15010 & male   & male   \\\\\n",
       "\t Alabama & District 13  & State Representative & Connie Cooner Rowe & No candidate & 13755 & 0 & female & N/A    \\\\\n",
       "\t Alabama & District 13  & State Senator        & Randy Price & Darrell Turner & 31614 & 12839 & male   & male   \\\\\n",
       "\t Alabama & District 14  & State Representative & Tim Wadsworth & No candidate & 13394 & 0 & male   & N/A    \\\\\n",
       "\t Alabama & District 14  & State Senator        & Cam Ward & Jerry McDonald & 34953 & 13171 & male   & male   \\\\\n",
       "\t Alabama & District 15  & State Representative & Allen Farley & Suzanna Coleman & 14212 & 6951 & male   & female \\\\\n",
       "\t Alabama & District 15  & State Senator        & Dan Roberts & No candidate & 44792 & 0 & male   & N/A    \\\\\n",
       "\\end{tabular}\n"
      ],
      "text/markdown": [
       "\n",
       "A grouped_df: 20 × 9\n",
       "\n",
       "| state &lt;chr&gt; | district &lt;chr&gt; | office &lt;chr&gt; | candidate_republican &lt;list&gt; | candidate_democrat &lt;list&gt; | total_votes_republican &lt;list&gt; | total_votes_democrat &lt;list&gt; | gender_rep &lt;chr&gt; | gender_dem &lt;chr&gt; |\n",
       "|---|---|---|---|---|---|---|---|---|\n",
       "| Alabama | District 1   | State Representative | Phillip Pettus | No candidate | 7348 | 0 | male   | N/A     |\n",
       "| Alabama | District 1   | State Senator        | Tim Melson | Caroline Self | 33141 | 15830 | male   | female  |\n",
       "| Alabama | District 10  | State Representative | Mike Ball | J.B. King | 11240 | 8565 | male   | Unknown |\n",
       "| Alabama | District 10  | State Senator        | Andrew Jones | No candidate | 25902 | 0 | male   | N/A     |\n",
       "| Alabama | District 100 | State Representative | Victor Gaston | No candidate | 12086 | 0 | male   | N/A     |\n",
       "| Alabama | District 101 | State Representative | Chris Pringle | No candidate | 10274 | 0 | male   | N/A     |\n",
       "| Alabama | District 102 | State Representative | Shane Stringer | No candidate | 11048 | 0 | male   | N/A     |\n",
       "| Alabama | District 103 | State Representative | No candidate | Barbara Drummond | 0 | 8818 | N/A    | female  |\n",
       "| Alabama | District 104 | State Representative | Margie Wilcox | Arlene Cunningham Easley | 10152 | 4695 | female | female  |\n",
       "| Alabama | District 105 | State Representative | Chip Brown | No candidate | 10176 | 0 | male   | N/A     |\n",
       "| Alabama | District 11  | State Representative | Randall Shedd | No candidate | 13098 | 0 | male   | N/A     |\n",
       "| Alabama | District 11  | State Senator        | Jim McClendon | Carl Carter | 36192 | 11411 | male   | male    |\n",
       "| Alabama | District 12  | State Representative | Corey Harbison | No candidate | 14687 | 0 | male   | N/A     |\n",
       "| Alabama | District 12  | State Senator        | Del Marsh | Jim Williams | 27416 | 15010 | male   | male    |\n",
       "| Alabama | District 13  | State Representative | Connie Cooner Rowe | No candidate | 13755 | 0 | female | N/A     |\n",
       "| Alabama | District 13  | State Senator        | Randy Price | Darrell Turner | 31614 | 12839 | male   | male    |\n",
       "| Alabama | District 14  | State Representative | Tim Wadsworth | No candidate | 13394 | 0 | male   | N/A     |\n",
       "| Alabama | District 14  | State Senator        | Cam Ward | Jerry McDonald | 34953 | 13171 | male   | male    |\n",
       "| Alabama | District 15  | State Representative | Allen Farley | Suzanna Coleman | 14212 | 6951 | male   | female  |\n",
       "| Alabama | District 15  | State Senator        | Dan Roberts | No candidate | 44792 | 0 | male   | N/A     |\n",
       "\n"
      ],
      "text/plain": [
       "   state   district     office               candidate_republican\n",
       "1  Alabama District 1   State Representative Phillip Pettus      \n",
       "2  Alabama District 1   State Senator        Tim Melson          \n",
       "3  Alabama District 10  State Representative Mike Ball           \n",
       "4  Alabama District 10  State Senator        Andrew Jones        \n",
       "5  Alabama District 100 State Representative Victor Gaston       \n",
       "6  Alabama District 101 State Representative Chris Pringle       \n",
       "7  Alabama District 102 State Representative Shane Stringer      \n",
       "8  Alabama District 103 State Representative No candidate        \n",
       "9  Alabama District 104 State Representative Margie Wilcox       \n",
       "10 Alabama District 105 State Representative Chip Brown          \n",
       "11 Alabama District 11  State Representative Randall Shedd       \n",
       "12 Alabama District 11  State Senator        Jim McClendon       \n",
       "13 Alabama District 12  State Representative Corey Harbison      \n",
       "14 Alabama District 12  State Senator        Del Marsh           \n",
       "15 Alabama District 13  State Representative Connie Cooner Rowe  \n",
       "16 Alabama District 13  State Senator        Randy Price         \n",
       "17 Alabama District 14  State Representative Tim Wadsworth       \n",
       "18 Alabama District 14  State Senator        Cam Ward            \n",
       "19 Alabama District 15  State Representative Allen Farley        \n",
       "20 Alabama District 15  State Senator        Dan Roberts         \n",
       "   candidate_democrat       total_votes_republican total_votes_democrat\n",
       "1  No candidate             7348                   0                   \n",
       "2  Caroline Self            33141                  15830               \n",
       "3  J.B. King                11240                  8565                \n",
       "4  No candidate             25902                  0                   \n",
       "5  No candidate             12086                  0                   \n",
       "6  No candidate             10274                  0                   \n",
       "7  No candidate             11048                  0                   \n",
       "8  Barbara Drummond         0                      8818                \n",
       "9  Arlene Cunningham Easley 10152                  4695                \n",
       "10 No candidate             10176                  0                   \n",
       "11 No candidate             13098                  0                   \n",
       "12 Carl Carter              36192                  11411               \n",
       "13 No candidate             14687                  0                   \n",
       "14 Jim Williams             27416                  15010               \n",
       "15 No candidate             13755                  0                   \n",
       "16 Darrell Turner           31614                  12839               \n",
       "17 No candidate             13394                  0                   \n",
       "18 Jerry McDonald           34953                  13171               \n",
       "19 Suzanna Coleman          14212                  6951                \n",
       "20 No candidate             44792                  0                   \n",
       "   gender_rep gender_dem\n",
       "1  male       N/A       \n",
       "2  male       female    \n",
       "3  male       Unknown   \n",
       "4  male       N/A       \n",
       "5  male       N/A       \n",
       "6  male       N/A       \n",
       "7  male       N/A       \n",
       "8  N/A        female    \n",
       "9  female     female    \n",
       "10 male       N/A       \n",
       "11 male       N/A       \n",
       "12 male       male      \n",
       "13 male       N/A       \n",
       "14 male       male      \n",
       "15 female     N/A       \n",
       "16 male       male      \n",
       "17 male       N/A       \n",
       "18 male       male      \n",
       "19 male       female    \n",
       "20 male       N/A       "
      ]
     },
     "metadata": {},
     "output_type": "display_data"
    },
    {
     "ename": "ERROR",
     "evalue": "Error in write.table(state_elections_2018_formatted, \"2018_election_results_updated.csv\", : unimplemented type 'list' in 'EncodeElement'\n\n",
     "output_type": "error",
     "traceback": [
      "Error in write.table(state_elections_2018_formatted, \"2018_election_results_updated.csv\", : unimplemented type 'list' in 'EncodeElement'\n\nTraceback:\n",
      "1. write.csv(state_elections_2018_formatted, \"2018_election_results_updated.csv\")",
      "2. eval.parent(Call)",
      "3. eval(expr, p)",
      "4. eval(expr, p)",
      "5. write.table(state_elections_2018_formatted, \"2018_election_results_updated.csv\", \n .     col.names = NA, sep = \",\", dec = \".\", qmethod = \"double\")"
     ]
    }
   ],
   "source": [
    "head(state_elections_2018_formatted, 20)\n",
    "\n",
    "## Created file with gender column so you don't have to run the function every time, commented out to prevent accidental overwrite\n",
    "write.csv(state_elections_2018_formatted, \"2018_election_results_updated.csv\")\n",
    "data_2018 <- read.csv(\"2018_election_results_updated.csv\")"
   ]
  },
  {
   "cell_type": "code",
   "execution_count": 81,
   "metadata": {},
   "outputs": [
    {
     "name": "stderr",
     "output_type": "stream",
     "text": [
      "`summarise()` regrouping output by 'State' (override with `.groups` argument)\n",
      "\n"
     ]
    },
    {
     "data": {
      "text/html": [
       "<table>\n",
       "<caption>A grouped_df: 6 × 4</caption>\n",
       "<thead>\n",
       "\t<tr><th scope=col>State</th><th scope=col>winner_gender</th><th scope=col>count</th><th scope=col>prop</th></tr>\n",
       "\t<tr><th scope=col>&lt;chr&gt;</th><th scope=col>&lt;chr&gt;</th><th scope=col>&lt;int&gt;</th><th scope=col>&lt;dbl&gt;</th></tr>\n",
       "</thead>\n",
       "<tbody>\n",
       "\t<tr><td>Alaska    </td><td>female</td><td> 9</td><td>0.4090909</td></tr>\n",
       "\t<tr><td>Alaska    </td><td>male  </td><td>13</td><td>0.5909091</td></tr>\n",
       "\t<tr><td>Arkansas  </td><td>female</td><td> 4</td><td>0.1739130</td></tr>\n",
       "\t<tr><td>Arkansas  </td><td>male  </td><td>19</td><td>0.8260870</td></tr>\n",
       "\t<tr><td>California</td><td>female</td><td>13</td><td>0.2280702</td></tr>\n",
       "\t<tr><td>California</td><td>male  </td><td>44</td><td>0.7719298</td></tr>\n",
       "</tbody>\n",
       "</table>\n"
      ],
      "text/latex": [
       "A grouped\\_df: 6 × 4\n",
       "\\begin{tabular}{llll}\n",
       " State & winner\\_gender & count & prop\\\\\n",
       " <chr> & <chr> & <int> & <dbl>\\\\\n",
       "\\hline\n",
       "\t Alaska     & female &  9 & 0.4090909\\\\\n",
       "\t Alaska     & male   & 13 & 0.5909091\\\\\n",
       "\t Arkansas   & female &  4 & 0.1739130\\\\\n",
       "\t Arkansas   & male   & 19 & 0.8260870\\\\\n",
       "\t California & female & 13 & 0.2280702\\\\\n",
       "\t California & male   & 44 & 0.7719298\\\\\n",
       "\\end{tabular}\n"
      ],
      "text/markdown": [
       "\n",
       "A grouped_df: 6 × 4\n",
       "\n",
       "| State &lt;chr&gt; | winner_gender &lt;chr&gt; | count &lt;int&gt; | prop &lt;dbl&gt; |\n",
       "|---|---|---|---|\n",
       "| Alaska     | female |  9 | 0.4090909 |\n",
       "| Alaska     | male   | 13 | 0.5909091 |\n",
       "| Arkansas   | female |  4 | 0.1739130 |\n",
       "| Arkansas   | male   | 19 | 0.8260870 |\n",
       "| California | female | 13 | 0.2280702 |\n",
       "| California | male   | 44 | 0.7719298 |\n",
       "\n"
      ],
      "text/plain": [
       "  State      winner_gender count prop     \n",
       "1 Alaska     female         9    0.4090909\n",
       "2 Alaska     male          13    0.5909091\n",
       "3 Arkansas   female         4    0.1739130\n",
       "4 Arkansas   male          19    0.8260870\n",
       "5 California female        13    0.2280702\n",
       "6 California male          44    0.7719298"
      ]
     },
     "metadata": {},
     "output_type": "display_data"
    },
    {
     "data": {
      "text/html": [
       "<table>\n",
       "<caption>A data.frame: 6 × 9</caption>\n",
       "<thead>\n",
       "\t<tr><th></th><th scope=col>Candidate</th><th scope=col>State</th><th scope=col>District</th><th scope=col>Year</th><th scope=col>Incumbent</th><th scope=col>Votes</th><th scope=col>Vote.Prop</th><th scope=col>Gender</th><th scope=col>Party</th></tr>\n",
       "\t<tr><th></th><th scope=col>&lt;chr&gt;</th><th scope=col>&lt;chr&gt;</th><th scope=col>&lt;chr&gt;</th><th scope=col>&lt;int&gt;</th><th scope=col>&lt;chr&gt;</th><th scope=col>&lt;int&gt;</th><th scope=col>&lt;dbl&gt;</th><th scope=col>&lt;chr&gt;</th><th scope=col>&lt;chr&gt;</th></tr>\n",
       "</thead>\n",
       "<tbody>\n",
       "\t<tr><th scope=row>1</th><td>Scott J. Kawasaki    </td><td>Alaska</td><td>1</td><td>2016</td><td>True </td><td>   1</td><td>1.00000000</td><td>male   </td><td>Democrat</td></tr>\n",
       "\t<tr><th scope=row>2</th><td>Truno Holdaway       </td><td>Alaska</td><td>2</td><td>2016</td><td>False</td><td>1153</td><td>0.26080072</td><td>Unknown</td><td>Democrat</td></tr>\n",
       "\t<tr><th scope=row>3</th><td>Christina M. Sinclair</td><td>Alaska</td><td>3</td><td>2016</td><td>False</td><td> 537</td><td>0.07565511</td><td>female </td><td>Democrat</td></tr>\n",
       "\t<tr><th scope=row>4</th><td>David Guttenberg     </td><td>Alaska</td><td>4</td><td>2016</td><td>True </td><td>   1</td><td>1.00000000</td><td>male   </td><td>Democrat</td></tr>\n",
       "\t<tr><th scope=row>5</th><td>Adam Wool            </td><td>Alaska</td><td>5</td><td>2016</td><td>True </td><td>3812</td><td>0.52973874</td><td>male   </td><td>Democrat</td></tr>\n",
       "\t<tr><th scope=row>6</th><td>Jason T. Land        </td><td>Alaska</td><td>6</td><td>2016</td><td>False</td><td>2327</td><td>0.31222327</td><td>male   </td><td>Democrat</td></tr>\n",
       "</tbody>\n",
       "</table>\n"
      ],
      "text/latex": [
       "A data.frame: 6 × 9\n",
       "\\begin{tabular}{r|lllllllll}\n",
       "  & Candidate & State & District & Year & Incumbent & Votes & Vote.Prop & Gender & Party\\\\\n",
       "  & <chr> & <chr> & <chr> & <int> & <chr> & <int> & <dbl> & <chr> & <chr>\\\\\n",
       "\\hline\n",
       "\t1 & Scott J. Kawasaki     & Alaska & 1 & 2016 & True  &    1 & 1.00000000 & male    & Democrat\\\\\n",
       "\t2 & Truno Holdaway        & Alaska & 2 & 2016 & False & 1153 & 0.26080072 & Unknown & Democrat\\\\\n",
       "\t3 & Christina M. Sinclair & Alaska & 3 & 2016 & False &  537 & 0.07565511 & female  & Democrat\\\\\n",
       "\t4 & David Guttenberg      & Alaska & 4 & 2016 & True  &    1 & 1.00000000 & male    & Democrat\\\\\n",
       "\t5 & Adam Wool             & Alaska & 5 & 2016 & True  & 3812 & 0.52973874 & male    & Democrat\\\\\n",
       "\t6 & Jason T. Land         & Alaska & 6 & 2016 & False & 2327 & 0.31222327 & male    & Democrat\\\\\n",
       "\\end{tabular}\n"
      ],
      "text/markdown": [
       "\n",
       "A data.frame: 6 × 9\n",
       "\n",
       "| <!--/--> | Candidate &lt;chr&gt; | State &lt;chr&gt; | District &lt;chr&gt; | Year &lt;int&gt; | Incumbent &lt;chr&gt; | Votes &lt;int&gt; | Vote.Prop &lt;dbl&gt; | Gender &lt;chr&gt; | Party &lt;chr&gt; |\n",
       "|---|---|---|---|---|---|---|---|---|---|\n",
       "| 1 | Scott J. Kawasaki     | Alaska | 1 | 2016 | True  |    1 | 1.00000000 | male    | Democrat |\n",
       "| 2 | Truno Holdaway        | Alaska | 2 | 2016 | False | 1153 | 0.26080072 | Unknown | Democrat |\n",
       "| 3 | Christina M. Sinclair | Alaska | 3 | 2016 | False |  537 | 0.07565511 | female  | Democrat |\n",
       "| 4 | David Guttenberg      | Alaska | 4 | 2016 | True  |    1 | 1.00000000 | male    | Democrat |\n",
       "| 5 | Adam Wool             | Alaska | 5 | 2016 | True  | 3812 | 0.52973874 | male    | Democrat |\n",
       "| 6 | Jason T. Land         | Alaska | 6 | 2016 | False | 2327 | 0.31222327 | male    | Democrat |\n",
       "\n"
      ],
      "text/plain": [
       "  Candidate             State  District Year Incumbent Votes Vote.Prop  Gender \n",
       "1 Scott J. Kawasaki     Alaska 1        2016 True         1  1.00000000 male   \n",
       "2 Truno Holdaway        Alaska 2        2016 False     1153  0.26080072 Unknown\n",
       "3 Christina M. Sinclair Alaska 3        2016 False      537  0.07565511 female \n",
       "4 David Guttenberg      Alaska 4        2016 True         1  1.00000000 male   \n",
       "5 Adam Wool             Alaska 5        2016 True      3812  0.52973874 male   \n",
       "6 Jason T. Land         Alaska 6        2016 False     2327  0.31222327 male   \n",
       "  Party   \n",
       "1 Democrat\n",
       "2 Democrat\n",
       "3 Democrat\n",
       "4 Democrat\n",
       "5 Democrat\n",
       "6 Democrat"
      ]
     },
     "metadata": {},
     "output_type": "display_data"
    }
   ],
   "source": [
    "## Random workspace\n",
    "\n",
    "elections_2016_gender %>% \n",
    "    filter(gender_Dem %in% c(\"male\", \"female\"), gender_Rep %in% c(\"male\", \"female\")) %>%\n",
    "    group_by(State, winner_gender) %>%\n",
    "    summarize(count = n()) %>%\n",
    "    mutate(prop = count/sum(count)) %>%\n",
    "    head()\n",
    "\n",
    "## Combine Rep/Dem dataframes vertically to check all genders at once? but then can't check vote prop ---> generate prop in original table and migrate that, then stack\n",
    "Dem_data <- Dem_data %>%\n",
    "    rename(Candidate = Democrat,\n",
    "          Incumbent = Democrat.Incumbent,\n",
    "          Votes = Democrat.Votes,\n",
    "          Vote.Prop = Democrat.Vote.Prop,\n",
    "          Gender = gender_Dem) %>%\n",
    "    mutate(Party = \"Democrat\")\n",
    "\n",
    "Rep_data <- Rep_data %>%\n",
    "    rename(Candidate = Republican,\n",
    "          Incumbent = Republican.Incumbent,\n",
    "          Votes = Republican.Votes,\n",
    "          Vote.Prop = Republican.Vote.Prop,\n",
    "          Gender = gender_Rep) %>%\n",
    "    mutate(Party = \"Republican\")\n",
    "\n",
    "\n",
    "elections_2016_long <- rbind(Dem_data, Rep_data)\n",
    "\n",
    "head(elections_2016_long)\n",
    "# could add winner yes/no column too\n",
    "\n",
    "\n"
   ]
  },
  {
   "cell_type": "code",
   "execution_count": 84,
   "metadata": {},
   "outputs": [
    {
     "data": {
      "text/html": [
       "<style>\n",
       ".list-inline {list-style: none; margin:0; padding: 0}\n",
       ".list-inline>li {display: inline-block}\n",
       ".list-inline>li:not(:last-child)::after {content: \"\\00b7\"; padding: 0 .5ex}\n",
       "</style>\n",
       "<ol class=list-inline><li>3734</li><li>18</li></ol>\n"
      ],
      "text/latex": [
       "\\begin{enumerate*}\n",
       "\\item 3734\n",
       "\\item 18\n",
       "\\end{enumerate*}\n"
      ],
      "text/markdown": [
       "1. 3734\n",
       "2. 18\n",
       "\n",
       "\n"
      ],
      "text/plain": [
       "[1] 3734   18"
      ]
     },
     "metadata": {},
     "output_type": "display_data"
    }
   ],
   "source": [
    "dim(elections_2016_gender)"
   ]
  },
  {
   "cell_type": "code",
   "execution_count": null,
   "metadata": {},
   "outputs": [],
   "source": []
  }
 ],
 "metadata": {
  "kernelspec": {
   "display_name": "R",
   "language": "R",
   "name": "ir"
  },
  "language_info": {
   "codemirror_mode": "r",
   "file_extension": ".r",
   "mimetype": "text/x-r-source",
   "name": "R",
   "pygments_lexer": "r",
   "version": "4.0.0"
  }
 },
 "nbformat": 4,
 "nbformat_minor": 4
}
