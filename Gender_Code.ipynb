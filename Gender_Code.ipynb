{
 "cells": [
  {
   "cell_type": "code",
   "execution_count": 10,
   "metadata": {},
   "outputs": [
    {
     "name": "stderr",
     "output_type": "stream",
     "text": [
      "Updating HTML index of packages in '.Library'\n",
      "\n",
      "Making 'packages.html' ...\n",
      " done\n",
      "\n",
      "Updating HTML index of packages in '.Library'\n",
      "\n",
      "Making 'packages.html' ...\n",
      " done\n",
      "\n"
     ]
    },
    {
     "ename": "ERROR",
     "evalue": "Error in library(r): there is no package called ‘r’\n",
     "output_type": "error",
     "traceback": [
      "Error in library(r): there is no package called ‘r’\nTraceback:\n",
      "1. library(r)"
     ]
    }
   ],
   "source": [
    "## Install gender package and linked database\n",
    "install.packages(\"gender\")\n",
    "install.packages(\"genderdata\", repos = \"https://dev.ropensci.org\", type = \"source\")\n",
    "\n",
    "\n",
    "library(dplyr)\n",
    "library(gender)\n",
    "library(stringr)\n",
    "library(broom)\n"
   ]
  },
  {
   "cell_type": "code",
   "execution_count": 2,
   "metadata": {},
   "outputs": [],
   "source": [
    "## Read data in, change path as necessary\n",
    "\n",
    "data <- read.csv(\"gender/2016_election_results.csv\")\n",
    "\n",
    "## Coerce names from factor to character\n",
    "data$Democrat <- as.character(data$Democrat)\n",
    "data$Republican <- as.character(data$Republican)\n",
    "\n"
   ]
  },
  {
   "cell_type": "code",
   "execution_count": 3,
   "metadata": {},
   "outputs": [],
   "source": [
    "## Function to fill predicted gender\n",
    "gender_fill <- function(x) { \n",
    "  n <- length(x)\n",
    "  x <- word(x) ## removes last names\n",
    "  gender_rep <- rep(\"a\", n)\n",
    "  for (i in 1:n) {\n",
    "  if (x[i] == \"No\") {\n",
    "    gender_rep[i] <- \"N/A\" ## handles no candidate\n",
    "  } else if (length(pull(gender(x[i]), var = gender)) == 0) {\n",
    "    gender_rep[i] <- \"Unknown\" ## handles names the function can't predict\n",
    "  }  else {\n",
    "  gender_rep[i] <- pull(gender(word(as.character(x[i]))), var = gender)\n",
    "  }\n",
    "  }\n",
    "  gender_rep\n",
    "  }\n",
    "  \n",
    "\n",
    "\n"
   ]
  },
  {
   "cell_type": "code",
   "execution_count": 22,
   "metadata": {},
   "outputs": [
    {
     "name": "stdout",
     "output_type": "stream",
     "text": [
      "[1] TRUE TRUE TRUE TRUE\n"
     ]
    }
   ],
   "source": [
    "## Testing function\n",
    "\n",
    "test_string <- c(\"Michael B\", \"Jenny A\", \"No candidate\", \"xyzo\")\n",
    "\n",
    "\n",
    "print(gender_fill(test_string) == c(\"male\", \"female\", \"N/A\", \"Unknown\"))\n",
    "\n",
    "\n",
    "\n"
   ]
  },
  {
   "cell_type": "code",
   "execution_count": 4,
   "metadata": {},
   "outputs": [
    {
     "data": {
      "text/html": [
       "<table>\n",
       "<caption>A data.frame: 6 × 15</caption>\n",
       "<thead>\n",
       "\t<tr><th></th><th scope=col>X</th><th scope=col>Democrat</th><th scope=col>Republican</th><th scope=col>Other</th><th scope=col>State</th><th scope=col>Year</th><th scope=col>District</th><th scope=col>Democrat.Incumbent</th><th scope=col>Democrat.Votes</th><th scope=col>Republican.Incumbent</th><th scope=col>Republican.Votes</th><th scope=col>Other.Incumbent</th><th scope=col>Other.Votes</th><th scope=col>gender_Dem</th><th scope=col>gender_Rep</th></tr>\n",
       "\t<tr><th></th><th scope=col>&lt;int&gt;</th><th scope=col>&lt;chr&gt;</th><th scope=col>&lt;chr&gt;</th><th scope=col>&lt;chr&gt;</th><th scope=col>&lt;chr&gt;</th><th scope=col>&lt;int&gt;</th><th scope=col>&lt;chr&gt;</th><th scope=col>&lt;chr&gt;</th><th scope=col>&lt;int&gt;</th><th scope=col>&lt;chr&gt;</th><th scope=col>&lt;int&gt;</th><th scope=col>&lt;chr&gt;</th><th scope=col>&lt;int&gt;</th><th scope=col>&lt;chr&gt;</th><th scope=col>&lt;chr&gt;</th></tr>\n",
       "</thead>\n",
       "<tbody>\n",
       "\t<tr><th scope=row>1</th><td>0</td><td>Scott J. Kawasaki    </td><td>No candidate     </td><td>No candidate</td><td>Alaska</td><td>2016</td><td>1</td><td>True </td><td>   1</td><td>False</td><td>   0</td><td>0    </td><td>   0</td><td>male   </td><td>N/A   </td></tr>\n",
       "\t<tr><th scope=row>2</th><td>1</td><td>Truno Holdaway       </td><td>Steve M. Thompson</td><td>No candidate</td><td>Alaska</td><td>2016</td><td>2</td><td>False</td><td>1153</td><td>True </td><td>3268</td><td>0    </td><td>   0</td><td>Unknown</td><td>male  </td></tr>\n",
       "\t<tr><th scope=row>3</th><td>2</td><td>Christina M. Sinclair</td><td>Tammie Wilson    </td><td>Jeanne Olson</td><td>Alaska</td><td>2016</td><td>3</td><td>False</td><td> 537</td><td>True </td><td>4291</td><td>False</td><td>2270</td><td>female </td><td>female</td></tr>\n",
       "\t<tr><th scope=row>4</th><td>3</td><td>David Guttenberg     </td><td>No candidate     </td><td>No candidate</td><td>Alaska</td><td>2016</td><td>4</td><td>True </td><td>   1</td><td>False</td><td>   0</td><td>0    </td><td>   0</td><td>male   </td><td>N/A   </td></tr>\n",
       "\t<tr><th scope=row>5</th><td>4</td><td>Adam Wool            </td><td>Aaron Lojewski   </td><td>No candidate</td><td>Alaska</td><td>2016</td><td>5</td><td>True </td><td>3812</td><td>False</td><td>3384</td><td>0    </td><td>   0</td><td>male   </td><td>male  </td></tr>\n",
       "\t<tr><th scope=row>6</th><td>5</td><td>Jason T. Land        </td><td>David M. Talerico</td><td>No candidate</td><td>Alaska</td><td>2016</td><td>6</td><td>False</td><td>2327</td><td>True </td><td>5126</td><td>0    </td><td>   0</td><td>male   </td><td>male  </td></tr>\n",
       "</tbody>\n",
       "</table>\n"
      ],
      "text/latex": [
       "A data.frame: 6 × 15\n",
       "\\begin{tabular}{r|lllllllllllllll}\n",
       "  & X & Democrat & Republican & Other & State & Year & District & Democrat.Incumbent & Democrat.Votes & Republican.Incumbent & Republican.Votes & Other.Incumbent & Other.Votes & gender\\_Dem & gender\\_Rep\\\\\n",
       "  & <int> & <chr> & <chr> & <chr> & <chr> & <int> & <chr> & <chr> & <int> & <chr> & <int> & <chr> & <int> & <chr> & <chr>\\\\\n",
       "\\hline\n",
       "\t1 & 0 & Scott J. Kawasaki     & No candidate      & No candidate & Alaska & 2016 & 1 & True  &    1 & False &    0 & 0     &    0 & male    & N/A   \\\\\n",
       "\t2 & 1 & Truno Holdaway        & Steve M. Thompson & No candidate & Alaska & 2016 & 2 & False & 1153 & True  & 3268 & 0     &    0 & Unknown & male  \\\\\n",
       "\t3 & 2 & Christina M. Sinclair & Tammie Wilson     & Jeanne Olson & Alaska & 2016 & 3 & False &  537 & True  & 4291 & False & 2270 & female  & female\\\\\n",
       "\t4 & 3 & David Guttenberg      & No candidate      & No candidate & Alaska & 2016 & 4 & True  &    1 & False &    0 & 0     &    0 & male    & N/A   \\\\\n",
       "\t5 & 4 & Adam Wool             & Aaron Lojewski    & No candidate & Alaska & 2016 & 5 & True  & 3812 & False & 3384 & 0     &    0 & male    & male  \\\\\n",
       "\t6 & 5 & Jason T. Land         & David M. Talerico & No candidate & Alaska & 2016 & 6 & False & 2327 & True  & 5126 & 0     &    0 & male    & male  \\\\\n",
       "\\end{tabular}\n"
      ],
      "text/markdown": [
       "\n",
       "A data.frame: 6 × 15\n",
       "\n",
       "| <!--/--> | X &lt;int&gt; | Democrat &lt;chr&gt; | Republican &lt;chr&gt; | Other &lt;chr&gt; | State &lt;chr&gt; | Year &lt;int&gt; | District &lt;chr&gt; | Democrat.Incumbent &lt;chr&gt; | Democrat.Votes &lt;int&gt; | Republican.Incumbent &lt;chr&gt; | Republican.Votes &lt;int&gt; | Other.Incumbent &lt;chr&gt; | Other.Votes &lt;int&gt; | gender_Dem &lt;chr&gt; | gender_Rep &lt;chr&gt; |\n",
       "|---|---|---|---|---|---|---|---|---|---|---|---|---|---|---|---|\n",
       "| 1 | 0 | Scott J. Kawasaki     | No candidate      | No candidate | Alaska | 2016 | 1 | True  |    1 | False |    0 | 0     |    0 | male    | N/A    |\n",
       "| 2 | 1 | Truno Holdaway        | Steve M. Thompson | No candidate | Alaska | 2016 | 2 | False | 1153 | True  | 3268 | 0     |    0 | Unknown | male   |\n",
       "| 3 | 2 | Christina M. Sinclair | Tammie Wilson     | Jeanne Olson | Alaska | 2016 | 3 | False |  537 | True  | 4291 | False | 2270 | female  | female |\n",
       "| 4 | 3 | David Guttenberg      | No candidate      | No candidate | Alaska | 2016 | 4 | True  |    1 | False |    0 | 0     |    0 | male    | N/A    |\n",
       "| 5 | 4 | Adam Wool             | Aaron Lojewski    | No candidate | Alaska | 2016 | 5 | True  | 3812 | False | 3384 | 0     |    0 | male    | male   |\n",
       "| 6 | 5 | Jason T. Land         | David M. Talerico | No candidate | Alaska | 2016 | 6 | False | 2327 | True  | 5126 | 0     |    0 | male    | male   |\n",
       "\n"
      ],
      "text/plain": [
       "  X Democrat              Republican        Other        State  Year District\n",
       "1 0 Scott J. Kawasaki     No candidate      No candidate Alaska 2016 1       \n",
       "2 1 Truno Holdaway        Steve M. Thompson No candidate Alaska 2016 2       \n",
       "3 2 Christina M. Sinclair Tammie Wilson     Jeanne Olson Alaska 2016 3       \n",
       "4 3 David Guttenberg      No candidate      No candidate Alaska 2016 4       \n",
       "5 4 Adam Wool             Aaron Lojewski    No candidate Alaska 2016 5       \n",
       "6 5 Jason T. Land         David M. Talerico No candidate Alaska 2016 6       \n",
       "  Democrat.Incumbent Democrat.Votes Republican.Incumbent Republican.Votes\n",
       "1 True                  1           False                   0            \n",
       "2 False              1153           True                 3268            \n",
       "3 False               537           True                 4291            \n",
       "4 True                  1           False                   0            \n",
       "5 True               3812           False                3384            \n",
       "6 False              2327           True                 5126            \n",
       "  Other.Incumbent Other.Votes gender_Dem gender_Rep\n",
       "1 0                  0        male       N/A       \n",
       "2 0                  0        Unknown    male      \n",
       "3 False           2270        female     female    \n",
       "4 0                  0        male       N/A       \n",
       "5 0                  0        male       male      \n",
       "6 0                  0        male       male      "
      ]
     },
     "metadata": {},
     "output_type": "display_data"
    }
   ],
   "source": [
    "## Create gender columns, extremely extremely slow, but works\n",
    "\n",
    "data$gender_Dem <- gender_fill(data$Democrat)\n",
    "\n",
    "data$gender_Rep <- gender_fill(data$Republican)\n",
    "\n",
    "head(data)"
   ]
  },
  {
   "cell_type": "code",
   "execution_count": 13,
   "metadata": {},
   "outputs": [],
   "source": [
    "## Created file with gender column so you don't have to run the function every time\n",
    "write.csv(data, \"gender/2016_election_results_updated.csv\")\n"
   ]
  },
  {
   "cell_type": "code",
   "execution_count": 15,
   "metadata": {},
   "outputs": [
    {
     "data": {
      "text/plain": [
       "       X            Democrat          Republican           Other          \n",
       " Min.   :   0.0   Length:3734        Length:3734        Length:3734       \n",
       " 1st Qu.: 933.2   Class :character   Class :character   Class :character  \n",
       " Median :1866.5   Mode  :character   Mode  :character   Mode  :character  \n",
       " Mean   :1866.5                                                           \n",
       " 3rd Qu.:2799.8                                                           \n",
       " Max.   :3733.0                                                           \n",
       "                                                                          \n",
       "    State                Year        District         Democrat.Incumbent\n",
       " Length:3734        Min.   :2016   Length:3734        Length:3734       \n",
       " Class :character   1st Qu.:2016   Class :character   Class :character  \n",
       " Mode  :character   Median :2016   Mode  :character   Mode  :character  \n",
       "                    Mean   :2016                                        \n",
       "                    3rd Qu.:2016                                        \n",
       "                    Max.   :2016                                        \n",
       "                                                                        \n",
       " Democrat.Votes   Republican.Incumbent Republican.Votes Other.Incumbent   \n",
       " Min.   :     0   Length:3734          Min.   :     0   Length:3734       \n",
       " 1st Qu.:     1   Class :character     1st Qu.:     1   Class :character  \n",
       " Median :  4411   Mode  :character     Median :  6228   Mode  :character  \n",
       " Mean   :  9606                        Mean   : 10948                     \n",
       " 3rd Qu.: 12217                        3rd Qu.: 15782                     \n",
       " Max.   :205562                        Max.   :164809                     \n",
       " NA's   :1                             NA's   :3                          \n",
       "  Other.Votes   \n",
       " Min.   :    0  \n",
       " 1st Qu.:    0  \n",
       " Median :    0  \n",
       " Mean   :  537  \n",
       " 3rd Qu.:    0  \n",
       " Max.   :71944  \n",
       " NA's   :1      "
      ]
     },
     "metadata": {},
     "output_type": "display_data"
    }
   ],
   "source": [
    "\n"
   ]
  },
  {
   "cell_type": "code",
   "execution_count": null,
   "metadata": {},
   "outputs": [],
   "source": []
  }
 ],
 "metadata": {
  "kernelspec": {
   "display_name": "R",
   "language": "R",
   "name": "ir"
  },
  "language_info": {
   "codemirror_mode": "r",
   "file_extension": ".r",
   "mimetype": "text/x-r-source",
   "name": "R",
   "pygments_lexer": "r",
   "version": "4.0.0"
  }
 },
 "nbformat": 4,
 "nbformat_minor": 4
}
