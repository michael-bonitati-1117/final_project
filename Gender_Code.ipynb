{
 "cells": [
  {
   "cell_type": "code",
   "execution_count": 1,
   "metadata": {},
   "outputs": [
    {
     "name": "stderr",
     "output_type": "stream",
     "text": [
      "Updating HTML index of packages in '.Library'\n",
      "\n",
      "Making 'packages.html' ...\n",
      " done\n",
      "\n",
      "Updating HTML index of packages in '.Library'\n",
      "\n",
      "Making 'packages.html' ...\n",
      " done\n",
      "\n",
      "Warning message:\n",
      "“package ‘dplyr’ was built under R version 4.0.2”\n",
      "\n",
      "Attaching package: ‘dplyr’\n",
      "\n",
      "\n",
      "The following objects are masked from ‘package:stats’:\n",
      "\n",
      "    filter, lag\n",
      "\n",
      "\n",
      "The following objects are masked from ‘package:base’:\n",
      "\n",
      "    intersect, setdiff, setequal, union\n",
      "\n",
      "\n",
      "PLEASE NOTE: The method provided by this package must be used cautiously\n",
      "and responsibly. Please be sure to see the guidelines and warnings about\n",
      "usage in the README or the package documentation.\n",
      "\n",
      "Warning message:\n",
      "“package ‘broom’ was built under R version 4.0.2”\n",
      "Warning message:\n",
      "“package ‘tidyr’ was built under R version 4.0.2”\n"
     ]
    }
   ],
   "source": [
    "## Install gender package and linked database\n",
    "install.packages(\"gender\")\n",
    "install.packages(\"genderdata\", repos = \"https://dev.ropensci.org\", type = \"source\")\n",
    "\n",
    "## Packages\n",
    "library(dplyr)\n",
    "library(gender)\n",
    "library(stringr)\n",
    "library(broom)\n",
    "library(tidyr)\n"
   ]
  },
  {
   "cell_type": "code",
   "execution_count": 85,
   "metadata": {},
   "outputs": [
    {
     "data": {
      "text/html": [
       "<table>\n",
       "<caption>A data.frame: 6 × 13</caption>\n",
       "<thead>\n",
       "\t<tr><th></th><th scope=col>X</th><th scope=col>Democrat</th><th scope=col>Republican</th><th scope=col>Other</th><th scope=col>State</th><th scope=col>Year</th><th scope=col>District</th><th scope=col>Democrat.Incumbent</th><th scope=col>Democrat.Votes</th><th scope=col>Republican.Incumbent</th><th scope=col>Republican.Votes</th><th scope=col>Other.Incumbent</th><th scope=col>Other.Votes</th></tr>\n",
       "\t<tr><th></th><th scope=col>&lt;int&gt;</th><th scope=col>&lt;chr&gt;</th><th scope=col>&lt;chr&gt;</th><th scope=col>&lt;chr&gt;</th><th scope=col>&lt;chr&gt;</th><th scope=col>&lt;int&gt;</th><th scope=col>&lt;chr&gt;</th><th scope=col>&lt;chr&gt;</th><th scope=col>&lt;int&gt;</th><th scope=col>&lt;chr&gt;</th><th scope=col>&lt;int&gt;</th><th scope=col>&lt;chr&gt;</th><th scope=col>&lt;int&gt;</th></tr>\n",
       "</thead>\n",
       "<tbody>\n",
       "\t<tr><th scope=row>1</th><td>0</td><td>Scott J. Kawasaki    </td><td>No candidate     </td><td>No candidate</td><td>Alaska</td><td>2016</td><td>1</td><td>True </td><td>   1</td><td>False</td><td>   0</td><td>0    </td><td>   0</td></tr>\n",
       "\t<tr><th scope=row>2</th><td>1</td><td>Truno Holdaway       </td><td>Steve M. Thompson</td><td>No candidate</td><td>Alaska</td><td>2016</td><td>2</td><td>False</td><td>1153</td><td>True </td><td>3268</td><td>0    </td><td>   0</td></tr>\n",
       "\t<tr><th scope=row>3</th><td>2</td><td>Christina M. Sinclair</td><td>Tammie Wilson    </td><td>Jeanne Olson</td><td>Alaska</td><td>2016</td><td>3</td><td>False</td><td> 537</td><td>True </td><td>4291</td><td>False</td><td>2270</td></tr>\n",
       "\t<tr><th scope=row>4</th><td>3</td><td>David Guttenberg     </td><td>No candidate     </td><td>No candidate</td><td>Alaska</td><td>2016</td><td>4</td><td>True </td><td>   1</td><td>False</td><td>   0</td><td>0    </td><td>   0</td></tr>\n",
       "\t<tr><th scope=row>5</th><td>4</td><td>Adam Wool            </td><td>Aaron Lojewski   </td><td>No candidate</td><td>Alaska</td><td>2016</td><td>5</td><td>True </td><td>3812</td><td>False</td><td>3384</td><td>0    </td><td>   0</td></tr>\n",
       "\t<tr><th scope=row>6</th><td>5</td><td>Jason T. Land        </td><td>David M. Talerico</td><td>No candidate</td><td>Alaska</td><td>2016</td><td>6</td><td>False</td><td>2327</td><td>True </td><td>5126</td><td>0    </td><td>   0</td></tr>\n",
       "</tbody>\n",
       "</table>\n"
      ],
      "text/latex": [
       "A data.frame: 6 × 13\n",
       "\\begin{tabular}{r|lllllllllllll}\n",
       "  & X & Democrat & Republican & Other & State & Year & District & Democrat.Incumbent & Democrat.Votes & Republican.Incumbent & Republican.Votes & Other.Incumbent & Other.Votes\\\\\n",
       "  & <int> & <chr> & <chr> & <chr> & <chr> & <int> & <chr> & <chr> & <int> & <chr> & <int> & <chr> & <int>\\\\\n",
       "\\hline\n",
       "\t1 & 0 & Scott J. Kawasaki     & No candidate      & No candidate & Alaska & 2016 & 1 & True  &    1 & False &    0 & 0     &    0\\\\\n",
       "\t2 & 1 & Truno Holdaway        & Steve M. Thompson & No candidate & Alaska & 2016 & 2 & False & 1153 & True  & 3268 & 0     &    0\\\\\n",
       "\t3 & 2 & Christina M. Sinclair & Tammie Wilson     & Jeanne Olson & Alaska & 2016 & 3 & False &  537 & True  & 4291 & False & 2270\\\\\n",
       "\t4 & 3 & David Guttenberg      & No candidate      & No candidate & Alaska & 2016 & 4 & True  &    1 & False &    0 & 0     &    0\\\\\n",
       "\t5 & 4 & Adam Wool             & Aaron Lojewski    & No candidate & Alaska & 2016 & 5 & True  & 3812 & False & 3384 & 0     &    0\\\\\n",
       "\t6 & 5 & Jason T. Land         & David M. Talerico & No candidate & Alaska & 2016 & 6 & False & 2327 & True  & 5126 & 0     &    0\\\\\n",
       "\\end{tabular}\n"
      ],
      "text/markdown": [
       "\n",
       "A data.frame: 6 × 13\n",
       "\n",
       "| <!--/--> | X &lt;int&gt; | Democrat &lt;chr&gt; | Republican &lt;chr&gt; | Other &lt;chr&gt; | State &lt;chr&gt; | Year &lt;int&gt; | District &lt;chr&gt; | Democrat.Incumbent &lt;chr&gt; | Democrat.Votes &lt;int&gt; | Republican.Incumbent &lt;chr&gt; | Republican.Votes &lt;int&gt; | Other.Incumbent &lt;chr&gt; | Other.Votes &lt;int&gt; |\n",
       "|---|---|---|---|---|---|---|---|---|---|---|---|---|---|\n",
       "| 1 | 0 | Scott J. Kawasaki     | No candidate      | No candidate | Alaska | 2016 | 1 | True  |    1 | False |    0 | 0     |    0 |\n",
       "| 2 | 1 | Truno Holdaway        | Steve M. Thompson | No candidate | Alaska | 2016 | 2 | False | 1153 | True  | 3268 | 0     |    0 |\n",
       "| 3 | 2 | Christina M. Sinclair | Tammie Wilson     | Jeanne Olson | Alaska | 2016 | 3 | False |  537 | True  | 4291 | False | 2270 |\n",
       "| 4 | 3 | David Guttenberg      | No candidate      | No candidate | Alaska | 2016 | 4 | True  |    1 | False |    0 | 0     |    0 |\n",
       "| 5 | 4 | Adam Wool             | Aaron Lojewski    | No candidate | Alaska | 2016 | 5 | True  | 3812 | False | 3384 | 0     |    0 |\n",
       "| 6 | 5 | Jason T. Land         | David M. Talerico | No candidate | Alaska | 2016 | 6 | False | 2327 | True  | 5126 | 0     |    0 |\n",
       "\n"
      ],
      "text/plain": [
       "  X Democrat              Republican        Other        State  Year District\n",
       "1 0 Scott J. Kawasaki     No candidate      No candidate Alaska 2016 1       \n",
       "2 1 Truno Holdaway        Steve M. Thompson No candidate Alaska 2016 2       \n",
       "3 2 Christina M. Sinclair Tammie Wilson     Jeanne Olson Alaska 2016 3       \n",
       "4 3 David Guttenberg      No candidate      No candidate Alaska 2016 4       \n",
       "5 4 Adam Wool             Aaron Lojewski    No candidate Alaska 2016 5       \n",
       "6 5 Jason T. Land         David M. Talerico No candidate Alaska 2016 6       \n",
       "  Democrat.Incumbent Democrat.Votes Republican.Incumbent Republican.Votes\n",
       "1 True                  1           False                   0            \n",
       "2 False              1153           True                 3268            \n",
       "3 False               537           True                 4291            \n",
       "4 True                  1           False                   0            \n",
       "5 True               3812           False                3384            \n",
       "6 False              2327           True                 5126            \n",
       "  Other.Incumbent Other.Votes\n",
       "1 0                  0       \n",
       "2 0                  0       \n",
       "3 False           2270       \n",
       "4 0                  0       \n",
       "5 0                  0       \n",
       "6 0                  0       "
      ]
     },
     "metadata": {},
     "output_type": "display_data"
    }
   ],
   "source": [
    "## Read data in, change path as necessary\n",
    "data <- read.csv(\"2016_election_results.csv\")\n",
    "\n",
    "head(data)"
   ]
  },
  {
   "cell_type": "code",
   "execution_count": 3,
   "metadata": {},
   "outputs": [],
   "source": [
    "## Function to fill predicted gender\n",
    "gender_fill <- function(x) { \n",
    "  n <- length(x)\n",
    "  x <- word(x) ## removes last names, gender() only works on first name strings\n",
    "  gender_rep <- rep(\"a\", n)\n",
    "  for (i in 1:n) {\n",
    "  if (x[i] == \"No\") {\n",
    "    gender_rep[i] <- \"N/A\" ## handles no candidate\n",
    "  } else if (length(pull(gender(x[i]), var = gender)) == 0) {\n",
    "    gender_rep[i] <- \"Unknown\" ## handles names the function can't predict\n",
    "  }  else {\n",
    "  gender_rep[i] <- pull(gender(as.character(x[i])), var = gender)\n",
    "  }\n",
    "  }\n",
    "  gender_rep\n",
    "  }\n",
    "\n",
    "\n",
    "## First if checks for \"No\" because \"No candidate\" has been truncated to \"No\", needs to be changed if databases have different indicators for no candidate\n",
    "## Second if checks for length == 0 because gender() generates an empty table if it is unable to predict a gender\n",
    "## Else applies gender() to the rest of the cases and pulls the gender result out of the results (gender function creates a table with ancillary info), coercion to character \n",
    "## because gender() only works on character type\n",
    "\n",
    "\n"
   ]
  },
  {
   "cell_type": "code",
   "execution_count": 4,
   "metadata": {},
   "outputs": [
    {
     "name": "stdout",
     "output_type": "stream",
     "text": [
      "[1] TRUE TRUE TRUE TRUE\n"
     ]
    }
   ],
   "source": [
    "## Testing function\n",
    "\n",
    "test_string <- c(\"Michael B\", \"Jenny A\", \"No candidate\", \"xyzo\")\n",
    "\n",
    "\n",
    "print(gender_fill(test_string) == c(\"male\", \"female\", \"N/A\", \"Unknown\"))\n",
    "\n",
    "\n",
    "\n"
   ]
  },
  {
   "cell_type": "code",
   "execution_count": 9,
   "metadata": {},
   "outputs": [
    {
     "data": {
      "text/html": [
       "<table>\n",
       "<caption>A data.frame: 6 × 15</caption>\n",
       "<thead>\n",
       "\t<tr><th></th><th scope=col>X</th><th scope=col>Democrat</th><th scope=col>Republican</th><th scope=col>Other</th><th scope=col>State</th><th scope=col>Year</th><th scope=col>District</th><th scope=col>Democrat.Incumbent</th><th scope=col>Democrat.Votes</th><th scope=col>Republican.Incumbent</th><th scope=col>Republican.Votes</th><th scope=col>Other.Incumbent</th><th scope=col>Other.Votes</th><th scope=col>gender_Dem</th><th scope=col>gender_Rep</th></tr>\n",
       "\t<tr><th></th><th scope=col>&lt;int&gt;</th><th scope=col>&lt;chr&gt;</th><th scope=col>&lt;chr&gt;</th><th scope=col>&lt;chr&gt;</th><th scope=col>&lt;chr&gt;</th><th scope=col>&lt;int&gt;</th><th scope=col>&lt;chr&gt;</th><th scope=col>&lt;chr&gt;</th><th scope=col>&lt;int&gt;</th><th scope=col>&lt;chr&gt;</th><th scope=col>&lt;int&gt;</th><th scope=col>&lt;chr&gt;</th><th scope=col>&lt;int&gt;</th><th scope=col>&lt;chr&gt;</th><th scope=col>&lt;chr&gt;</th></tr>\n",
       "</thead>\n",
       "<tbody>\n",
       "\t<tr><th scope=row>1</th><td>0</td><td>Scott J. Kawasaki    </td><td>No candidate     </td><td>No candidate</td><td>Alaska</td><td>2016</td><td>1</td><td>True </td><td>   1</td><td>False</td><td>   0</td><td>0    </td><td>   0</td><td>male   </td><td>N/A   </td></tr>\n",
       "\t<tr><th scope=row>2</th><td>1</td><td>Truno Holdaway       </td><td>Steve M. Thompson</td><td>No candidate</td><td>Alaska</td><td>2016</td><td>2</td><td>False</td><td>1153</td><td>True </td><td>3268</td><td>0    </td><td>   0</td><td>Unknown</td><td>male  </td></tr>\n",
       "\t<tr><th scope=row>3</th><td>2</td><td>Christina M. Sinclair</td><td>Tammie Wilson    </td><td>Jeanne Olson</td><td>Alaska</td><td>2016</td><td>3</td><td>False</td><td> 537</td><td>True </td><td>4291</td><td>False</td><td>2270</td><td>female </td><td>female</td></tr>\n",
       "\t<tr><th scope=row>4</th><td>3</td><td>David Guttenberg     </td><td>No candidate     </td><td>No candidate</td><td>Alaska</td><td>2016</td><td>4</td><td>True </td><td>   1</td><td>False</td><td>   0</td><td>0    </td><td>   0</td><td>male   </td><td>N/A   </td></tr>\n",
       "\t<tr><th scope=row>5</th><td>4</td><td>Adam Wool            </td><td>Aaron Lojewski   </td><td>No candidate</td><td>Alaska</td><td>2016</td><td>5</td><td>True </td><td>3812</td><td>False</td><td>3384</td><td>0    </td><td>   0</td><td>male   </td><td>male  </td></tr>\n",
       "\t<tr><th scope=row>6</th><td>5</td><td>Jason T. Land        </td><td>David M. Talerico</td><td>No candidate</td><td>Alaska</td><td>2016</td><td>6</td><td>False</td><td>2327</td><td>True </td><td>5126</td><td>0    </td><td>   0</td><td>male   </td><td>male  </td></tr>\n",
       "</tbody>\n",
       "</table>\n"
      ],
      "text/latex": [
       "A data.frame: 6 × 15\n",
       "\\begin{tabular}{r|lllllllllllllll}\n",
       "  & X & Democrat & Republican & Other & State & Year & District & Democrat.Incumbent & Democrat.Votes & Republican.Incumbent & Republican.Votes & Other.Incumbent & Other.Votes & gender\\_Dem & gender\\_Rep\\\\\n",
       "  & <int> & <chr> & <chr> & <chr> & <chr> & <int> & <chr> & <chr> & <int> & <chr> & <int> & <chr> & <int> & <chr> & <chr>\\\\\n",
       "\\hline\n",
       "\t1 & 0 & Scott J. Kawasaki     & No candidate      & No candidate & Alaska & 2016 & 1 & True  &    1 & False &    0 & 0     &    0 & male    & N/A   \\\\\n",
       "\t2 & 1 & Truno Holdaway        & Steve M. Thompson & No candidate & Alaska & 2016 & 2 & False & 1153 & True  & 3268 & 0     &    0 & Unknown & male  \\\\\n",
       "\t3 & 2 & Christina M. Sinclair & Tammie Wilson     & Jeanne Olson & Alaska & 2016 & 3 & False &  537 & True  & 4291 & False & 2270 & female  & female\\\\\n",
       "\t4 & 3 & David Guttenberg      & No candidate      & No candidate & Alaska & 2016 & 4 & True  &    1 & False &    0 & 0     &    0 & male    & N/A   \\\\\n",
       "\t5 & 4 & Adam Wool             & Aaron Lojewski    & No candidate & Alaska & 2016 & 5 & True  & 3812 & False & 3384 & 0     &    0 & male    & male  \\\\\n",
       "\t6 & 5 & Jason T. Land         & David M. Talerico & No candidate & Alaska & 2016 & 6 & False & 2327 & True  & 5126 & 0     &    0 & male    & male  \\\\\n",
       "\\end{tabular}\n"
      ],
      "text/markdown": [
       "\n",
       "A data.frame: 6 × 15\n",
       "\n",
       "| <!--/--> | X &lt;int&gt; | Democrat &lt;chr&gt; | Republican &lt;chr&gt; | Other &lt;chr&gt; | State &lt;chr&gt; | Year &lt;int&gt; | District &lt;chr&gt; | Democrat.Incumbent &lt;chr&gt; | Democrat.Votes &lt;int&gt; | Republican.Incumbent &lt;chr&gt; | Republican.Votes &lt;int&gt; | Other.Incumbent &lt;chr&gt; | Other.Votes &lt;int&gt; | gender_Dem &lt;chr&gt; | gender_Rep &lt;chr&gt; |\n",
       "|---|---|---|---|---|---|---|---|---|---|---|---|---|---|---|---|\n",
       "| 1 | 0 | Scott J. Kawasaki     | No candidate      | No candidate | Alaska | 2016 | 1 | True  |    1 | False |    0 | 0     |    0 | male    | N/A    |\n",
       "| 2 | 1 | Truno Holdaway        | Steve M. Thompson | No candidate | Alaska | 2016 | 2 | False | 1153 | True  | 3268 | 0     |    0 | Unknown | male   |\n",
       "| 3 | 2 | Christina M. Sinclair | Tammie Wilson     | Jeanne Olson | Alaska | 2016 | 3 | False |  537 | True  | 4291 | False | 2270 | female  | female |\n",
       "| 4 | 3 | David Guttenberg      | No candidate      | No candidate | Alaska | 2016 | 4 | True  |    1 | False |    0 | 0     |    0 | male    | N/A    |\n",
       "| 5 | 4 | Adam Wool             | Aaron Lojewski    | No candidate | Alaska | 2016 | 5 | True  | 3812 | False | 3384 | 0     |    0 | male    | male   |\n",
       "| 6 | 5 | Jason T. Land         | David M. Talerico | No candidate | Alaska | 2016 | 6 | False | 2327 | True  | 5126 | 0     |    0 | male    | male   |\n",
       "\n"
      ],
      "text/plain": [
       "  X Democrat              Republican        Other        State  Year District\n",
       "1 0 Scott J. Kawasaki     No candidate      No candidate Alaska 2016 1       \n",
       "2 1 Truno Holdaway        Steve M. Thompson No candidate Alaska 2016 2       \n",
       "3 2 Christina M. Sinclair Tammie Wilson     Jeanne Olson Alaska 2016 3       \n",
       "4 3 David Guttenberg      No candidate      No candidate Alaska 2016 4       \n",
       "5 4 Adam Wool             Aaron Lojewski    No candidate Alaska 2016 5       \n",
       "6 5 Jason T. Land         David M. Talerico No candidate Alaska 2016 6       \n",
       "  Democrat.Incumbent Democrat.Votes Republican.Incumbent Republican.Votes\n",
       "1 True                  1           False                   0            \n",
       "2 False              1153           True                 3268            \n",
       "3 False               537           True                 4291            \n",
       "4 True                  1           False                   0            \n",
       "5 True               3812           False                3384            \n",
       "6 False              2327           True                 5126            \n",
       "  Other.Incumbent Other.Votes gender_Dem gender_Rep\n",
       "1 0                  0        male       N/A       \n",
       "2 0                  0        Unknown    male      \n",
       "3 False           2270        female     female    \n",
       "4 0                  0        male       N/A       \n",
       "5 0                  0        male       male      \n",
       "6 0                  0        male       male      "
      ]
     },
     "metadata": {},
     "output_type": "display_data"
    }
   ],
   "source": [
    "## Create gender columns, extremely extremely slow (like 20-30min at least), but works\n",
    "\n",
    "data$gender_Dem <- gender_fill(data$Democrat)\n",
    "\n",
    "data$gender_Rep <- gender_fill(data$Republican)\n",
    "\n",
    "head(data)"
   ]
  },
  {
   "cell_type": "code",
   "execution_count": 24,
   "metadata": {},
   "outputs": [],
   "source": [
    "## Created file with gender column so you don't have to run the function every time, commented out to prevent accidental overwrite\n",
    "## write.csv(data, \"2016_election_results_updated.csv\")\n",
    "data <- read.csv(\"2016_election_results_updated.csv\")"
   ]
  },
  {
   "cell_type": "code",
   "execution_count": 25,
   "metadata": {},
   "outputs": [
    {
     "data": {
      "text/html": [
       "<table>\n",
       "<caption>A data.frame: 6 × 6</caption>\n",
       "<thead>\n",
       "\t<tr><th></th><th scope=col>Democrat</th><th scope=col>State</th><th scope=col>Year</th><th scope=col>Democrat.Incumbent</th><th scope=col>Democrat.Votes</th><th scope=col>gender_Dem</th></tr>\n",
       "\t<tr><th></th><th scope=col>&lt;chr&gt;</th><th scope=col>&lt;chr&gt;</th><th scope=col>&lt;int&gt;</th><th scope=col>&lt;chr&gt;</th><th scope=col>&lt;int&gt;</th><th scope=col>&lt;chr&gt;</th></tr>\n",
       "</thead>\n",
       "<tbody>\n",
       "\t<tr><th scope=row>1</th><td>Scott J. Kawasaki    </td><td>Alaska</td><td>2016</td><td>True </td><td>   1</td><td>male   </td></tr>\n",
       "\t<tr><th scope=row>2</th><td>Truno Holdaway       </td><td>Alaska</td><td>2016</td><td>False</td><td>1153</td><td>Unknown</td></tr>\n",
       "\t<tr><th scope=row>3</th><td>Christina M. Sinclair</td><td>Alaska</td><td>2016</td><td>False</td><td> 537</td><td>female </td></tr>\n",
       "\t<tr><th scope=row>4</th><td>David Guttenberg     </td><td>Alaska</td><td>2016</td><td>True </td><td>   1</td><td>male   </td></tr>\n",
       "\t<tr><th scope=row>5</th><td>Adam Wool            </td><td>Alaska</td><td>2016</td><td>True </td><td>3812</td><td>male   </td></tr>\n",
       "\t<tr><th scope=row>6</th><td>Jason T. Land        </td><td>Alaska</td><td>2016</td><td>False</td><td>2327</td><td>male   </td></tr>\n",
       "</tbody>\n",
       "</table>\n"
      ],
      "text/latex": [
       "A data.frame: 6 × 6\n",
       "\\begin{tabular}{r|llllll}\n",
       "  & Democrat & State & Year & Democrat.Incumbent & Democrat.Votes & gender\\_Dem\\\\\n",
       "  & <chr> & <chr> & <int> & <chr> & <int> & <chr>\\\\\n",
       "\\hline\n",
       "\t1 & Scott J. Kawasaki     & Alaska & 2016 & True  &    1 & male   \\\\\n",
       "\t2 & Truno Holdaway        & Alaska & 2016 & False & 1153 & Unknown\\\\\n",
       "\t3 & Christina M. Sinclair & Alaska & 2016 & False &  537 & female \\\\\n",
       "\t4 & David Guttenberg      & Alaska & 2016 & True  &    1 & male   \\\\\n",
       "\t5 & Adam Wool             & Alaska & 2016 & True  & 3812 & male   \\\\\n",
       "\t6 & Jason T. Land         & Alaska & 2016 & False & 2327 & male   \\\\\n",
       "\\end{tabular}\n"
      ],
      "text/markdown": [
       "\n",
       "A data.frame: 6 × 6\n",
       "\n",
       "| <!--/--> | Democrat &lt;chr&gt; | State &lt;chr&gt; | Year &lt;int&gt; | Democrat.Incumbent &lt;chr&gt; | Democrat.Votes &lt;int&gt; | gender_Dem &lt;chr&gt; |\n",
       "|---|---|---|---|---|---|---|\n",
       "| 1 | Scott J. Kawasaki     | Alaska | 2016 | True  |    1 | male    |\n",
       "| 2 | Truno Holdaway        | Alaska | 2016 | False | 1153 | Unknown |\n",
       "| 3 | Christina M. Sinclair | Alaska | 2016 | False |  537 | female  |\n",
       "| 4 | David Guttenberg      | Alaska | 2016 | True  |    1 | male    |\n",
       "| 5 | Adam Wool             | Alaska | 2016 | True  | 3812 | male    |\n",
       "| 6 | Jason T. Land         | Alaska | 2016 | False | 2327 | male    |\n",
       "\n"
      ],
      "text/plain": [
       "  Democrat              State  Year Democrat.Incumbent Democrat.Votes\n",
       "1 Scott J. Kawasaki     Alaska 2016 True                  1          \n",
       "2 Truno Holdaway        Alaska 2016 False              1153          \n",
       "3 Christina M. Sinclair Alaska 2016 False               537          \n",
       "4 David Guttenberg      Alaska 2016 True                  1          \n",
       "5 Adam Wool             Alaska 2016 True               3812          \n",
       "6 Jason T. Land         Alaska 2016 False              2327          \n",
       "  gender_Dem\n",
       "1 male      \n",
       "2 Unknown   \n",
       "3 female    \n",
       "4 male      \n",
       "5 male      \n",
       "6 male      "
      ]
     },
     "metadata": {},
     "output_type": "display_data"
    },
    {
     "data": {
      "text/html": [
       "<table>\n",
       "<caption>A data.frame: 6 × 6</caption>\n",
       "<thead>\n",
       "\t<tr><th></th><th scope=col>Republican</th><th scope=col>State</th><th scope=col>Year</th><th scope=col>Republican.Incumbent</th><th scope=col>Republican.Votes</th><th scope=col>gender_Rep</th></tr>\n",
       "\t<tr><th></th><th scope=col>&lt;chr&gt;</th><th scope=col>&lt;chr&gt;</th><th scope=col>&lt;int&gt;</th><th scope=col>&lt;chr&gt;</th><th scope=col>&lt;int&gt;</th><th scope=col>&lt;chr&gt;</th></tr>\n",
       "</thead>\n",
       "<tbody>\n",
       "\t<tr><th scope=row>1</th><td>No candidate     </td><td>Alaska</td><td>2016</td><td>False</td><td>   0</td><td>N/A   </td></tr>\n",
       "\t<tr><th scope=row>2</th><td>Steve M. Thompson</td><td>Alaska</td><td>2016</td><td>True </td><td>3268</td><td>male  </td></tr>\n",
       "\t<tr><th scope=row>3</th><td>Tammie Wilson    </td><td>Alaska</td><td>2016</td><td>True </td><td>4291</td><td>female</td></tr>\n",
       "\t<tr><th scope=row>4</th><td>No candidate     </td><td>Alaska</td><td>2016</td><td>False</td><td>   0</td><td>N/A   </td></tr>\n",
       "\t<tr><th scope=row>5</th><td>Aaron Lojewski   </td><td>Alaska</td><td>2016</td><td>False</td><td>3384</td><td>male  </td></tr>\n",
       "\t<tr><th scope=row>6</th><td>David M. Talerico</td><td>Alaska</td><td>2016</td><td>True </td><td>5126</td><td>male  </td></tr>\n",
       "</tbody>\n",
       "</table>\n"
      ],
      "text/latex": [
       "A data.frame: 6 × 6\n",
       "\\begin{tabular}{r|llllll}\n",
       "  & Republican & State & Year & Republican.Incumbent & Republican.Votes & gender\\_Rep\\\\\n",
       "  & <chr> & <chr> & <int> & <chr> & <int> & <chr>\\\\\n",
       "\\hline\n",
       "\t1 & No candidate      & Alaska & 2016 & False &    0 & N/A   \\\\\n",
       "\t2 & Steve M. Thompson & Alaska & 2016 & True  & 3268 & male  \\\\\n",
       "\t3 & Tammie Wilson     & Alaska & 2016 & True  & 4291 & female\\\\\n",
       "\t4 & No candidate      & Alaska & 2016 & False &    0 & N/A   \\\\\n",
       "\t5 & Aaron Lojewski    & Alaska & 2016 & False & 3384 & male  \\\\\n",
       "\t6 & David M. Talerico & Alaska & 2016 & True  & 5126 & male  \\\\\n",
       "\\end{tabular}\n"
      ],
      "text/markdown": [
       "\n",
       "A data.frame: 6 × 6\n",
       "\n",
       "| <!--/--> | Republican &lt;chr&gt; | State &lt;chr&gt; | Year &lt;int&gt; | Republican.Incumbent &lt;chr&gt; | Republican.Votes &lt;int&gt; | gender_Rep &lt;chr&gt; |\n",
       "|---|---|---|---|---|---|---|\n",
       "| 1 | No candidate      | Alaska | 2016 | False |    0 | N/A    |\n",
       "| 2 | Steve M. Thompson | Alaska | 2016 | True  | 3268 | male   |\n",
       "| 3 | Tammie Wilson     | Alaska | 2016 | True  | 4291 | female |\n",
       "| 4 | No candidate      | Alaska | 2016 | False |    0 | N/A    |\n",
       "| 5 | Aaron Lojewski    | Alaska | 2016 | False | 3384 | male   |\n",
       "| 6 | David M. Talerico | Alaska | 2016 | True  | 5126 | male   |\n",
       "\n"
      ],
      "text/plain": [
       "  Republican        State  Year Republican.Incumbent Republican.Votes\n",
       "1 No candidate      Alaska 2016 False                   0            \n",
       "2 Steve M. Thompson Alaska 2016 True                 3268            \n",
       "3 Tammie Wilson     Alaska 2016 True                 4291            \n",
       "4 No candidate      Alaska 2016 False                   0            \n",
       "5 Aaron Lojewski    Alaska 2016 False                3384            \n",
       "6 David M. Talerico Alaska 2016 True                 5126            \n",
       "  gender_Rep\n",
       "1 N/A       \n",
       "2 male      \n",
       "3 female    \n",
       "4 N/A       \n",
       "5 male      \n",
       "6 male      "
      ]
     },
     "metadata": {},
     "output_type": "display_data"
    }
   ],
   "source": [
    "## Separate data\n",
    "Dem_data <- data %>%\n",
    "    select(Democrat, State, Year, Democrat.Incumbent, Democrat.Votes, gender_Dem)\n",
    "\n",
    "Rep_data <- data %>%\n",
    "    select(Republican, State, Year, Republican.Incumbent, Republican.Votes, gender_Rep)\n",
    "\n",
    "head(Dem_data)\n",
    "\n",
    "head(Rep_data)\n",
    "\n"
   ]
  },
  {
   "cell_type": "code",
   "execution_count": 26,
   "metadata": {},
   "outputs": [
    {
     "name": "stderr",
     "output_type": "stream",
     "text": [
      "`summarise()` regrouping output by 'Year' (override with `.groups` argument)\n",
      "\n"
     ]
    },
    {
     "data": {
      "text/html": [
       "<table>\n",
       "<caption>A grouped_df: 3 × 3</caption>\n",
       "<thead>\n",
       "\t<tr><th scope=col>Year</th><th scope=col>gender_Dem</th><th scope=col>mean_votes</th></tr>\n",
       "\t<tr><th scope=col>&lt;int&gt;</th><th scope=col>&lt;chr&gt;</th><th scope=col>&lt;dbl&gt;</th></tr>\n",
       "</thead>\n",
       "<tbody>\n",
       "\t<tr><td>2016</td><td>female </td><td>13083.32</td></tr>\n",
       "\t<tr><td>2016</td><td>male   </td><td>12067.61</td></tr>\n",
       "\t<tr><td>2016</td><td>Unknown</td><td>13180.80</td></tr>\n",
       "</tbody>\n",
       "</table>\n"
      ],
      "text/latex": [
       "A grouped\\_df: 3 × 3\n",
       "\\begin{tabular}{lll}\n",
       " Year & gender\\_Dem & mean\\_votes\\\\\n",
       " <int> & <chr> & <dbl>\\\\\n",
       "\\hline\n",
       "\t 2016 & female  & 13083.32\\\\\n",
       "\t 2016 & male    & 12067.61\\\\\n",
       "\t 2016 & Unknown & 13180.80\\\\\n",
       "\\end{tabular}\n"
      ],
      "text/markdown": [
       "\n",
       "A grouped_df: 3 × 3\n",
       "\n",
       "| Year &lt;int&gt; | gender_Dem &lt;chr&gt; | mean_votes &lt;dbl&gt; |\n",
       "|---|---|---|\n",
       "| 2016 | female  | 13083.32 |\n",
       "| 2016 | male    | 12067.61 |\n",
       "| 2016 | Unknown | 13180.80 |\n",
       "\n"
      ],
      "text/plain": [
       "  Year gender_Dem mean_votes\n",
       "1 2016 female     13083.32  \n",
       "2 2016 male       12067.61  \n",
       "3 2016 Unknown    13180.80  "
      ]
     },
     "metadata": {},
     "output_type": "display_data"
    },
    {
     "name": "stderr",
     "output_type": "stream",
     "text": [
      "`summarise()` regrouping output by 'Year' (override with `.groups` argument)\n",
      "\n"
     ]
    },
    {
     "data": {
      "text/html": [
       "<table>\n",
       "<caption>A grouped_df: 3 × 3</caption>\n",
       "<thead>\n",
       "\t<tr><th scope=col>Year</th><th scope=col>gender_Rep</th><th scope=col>mean_votes</th></tr>\n",
       "\t<tr><th scope=col>&lt;int&gt;</th><th scope=col>&lt;chr&gt;</th><th scope=col>&lt;dbl&gt;</th></tr>\n",
       "</thead>\n",
       "<tbody>\n",
       "\t<tr><td>2016</td><td>female </td><td>13882.47</td></tr>\n",
       "\t<tr><td>2016</td><td>male   </td><td>14177.42</td></tr>\n",
       "\t<tr><td>2016</td><td>Unknown</td><td>10137.58</td></tr>\n",
       "</tbody>\n",
       "</table>\n"
      ],
      "text/latex": [
       "A grouped\\_df: 3 × 3\n",
       "\\begin{tabular}{lll}\n",
       " Year & gender\\_Rep & mean\\_votes\\\\\n",
       " <int> & <chr> & <dbl>\\\\\n",
       "\\hline\n",
       "\t 2016 & female  & 13882.47\\\\\n",
       "\t 2016 & male    & 14177.42\\\\\n",
       "\t 2016 & Unknown & 10137.58\\\\\n",
       "\\end{tabular}\n"
      ],
      "text/markdown": [
       "\n",
       "A grouped_df: 3 × 3\n",
       "\n",
       "| Year &lt;int&gt; | gender_Rep &lt;chr&gt; | mean_votes &lt;dbl&gt; |\n",
       "|---|---|---|\n",
       "| 2016 | female  | 13882.47 |\n",
       "| 2016 | male    | 14177.42 |\n",
       "| 2016 | Unknown | 10137.58 |\n",
       "\n"
      ],
      "text/plain": [
       "  Year gender_Rep mean_votes\n",
       "1 2016 female     13882.47  \n",
       "2 2016 male       14177.42  \n",
       "3 2016 Unknown    10137.58  "
      ]
     },
     "metadata": {},
     "output_type": "display_data"
    },
    {
     "data": {
      "text/html": [
       "<table>\n",
       "<caption>A data.frame: 71 × 2</caption>\n",
       "<thead>\n",
       "\t<tr><th scope=col>Democrat</th><th scope=col>gender_Dem</th></tr>\n",
       "\t<tr><th scope=col>&lt;chr&gt;</th><th scope=col>&lt;chr&gt;</th></tr>\n",
       "</thead>\n",
       "<tbody>\n",
       "\t<tr><td>Truno Holdaway             </td><td>Unknown</td></tr>\n",
       "\t<tr><td>J.P. Bob Johnson           </td><td>Unknown</td></tr>\n",
       "\t<tr><td>Grimsley Graham            </td><td>Unknown</td></tr>\n",
       "\t<tr><td>Kansen Chu                 </td><td>Unknown</td></tr>\n",
       "\t<tr><td>S. Monique Limon           </td><td>Unknown</td></tr>\n",
       "\t<tr><td>Mesbah Islam               </td><td>Unknown</td></tr>\n",
       "\t<tr><td>S. Quinton Johnson         </td><td>Unknown</td></tr>\n",
       "\t<tr><td>W. Charles Paradee         </td><td>Unknown</td></tr>\n",
       "\t<tr><td>S. Bradley Connor          </td><td>Unknown</td></tr>\n",
       "\t<tr><td>Wengay M. \"Newt\" Newton Sr.</td><td>Unknown</td></tr>\n",
       "\t<tr><td>Shevrin Jones              </td><td>Unknown</td></tr>\n",
       "\t<tr><td>Dar'shun Kendrick          </td><td>Unknown</td></tr>\n",
       "\t<tr><td>T.R. Radjabov              </td><td>Unknown</td></tr>\n",
       "\t<tr><td>J. Craig Gordon            </td><td>Unknown</td></tr>\n",
       "\t<tr><td>Daynette Morikawa          </td><td>Unknown</td></tr>\n",
       "\t<tr><td>Stacelynn K.M. Eli         </td><td>Unknown</td></tr>\n",
       "\t<tr><td>Glida Bothwell             </td><td>Unknown</td></tr>\n",
       "\t<tr><td>Litesa E. Wallace          </td><td>Unknown</td></tr>\n",
       "\t<tr><td>R. Paul McCorkle           </td><td>Unknown</td></tr>\n",
       "\t<tr><td>Valdenia Winn              </td><td>Unknown</td></tr>\n",
       "\t<tr><td>Angeliina Lawson           </td><td>Unknown</td></tr>\n",
       "\t<tr><td>W. Brett Neibling          </td><td>Unknown</td></tr>\n",
       "\t<tr><td>Ponka-We Victors           </td><td>Unknown</td></tr>\n",
       "\t<tr><td>Sannie Overly              </td><td>Unknown</td></tr>\n",
       "\t<tr><td>Anne-Marie Mastraccio      </td><td>Unknown</td></tr>\n",
       "\t<tr><td>Nalbert Tero               </td><td>Unknown</td></tr>\n",
       "\t<tr><td>H. Scott Landry Jr.        </td><td>Unknown</td></tr>\n",
       "\t<tr><td>Estele Borges              </td><td>Unknown</td></tr>\n",
       "\t<tr><td>Ann-Margaret Ferrante      </td><td>Unknown</td></tr>\n",
       "\t<tr><td>Rady Mom                   </td><td>Unknown</td></tr>\n",
       "\t<tr><td>⋮</td><td>⋮</td></tr>\n",
       "\t<tr><td>D. Wonda Johnson       </td><td>Unknown</td></tr>\n",
       "\t<tr><td>G. Andres Romero       </td><td>Unknown</td></tr>\n",
       "\t<tr><td>Bealquin Bill Gomez    </td><td>Unknown</td></tr>\n",
       "\t<tr><td>H. Keith Duncan        </td><td>Unknown</td></tr>\n",
       "\t<tr><td>Hearcel Craig          </td><td>Unknown</td></tr>\n",
       "\t<tr><td>O.A. Cargill           </td><td>Unknown</td></tr>\n",
       "\t<tr><td>Meloyde Blancett       </td><td>Unknown</td></tr>\n",
       "\t<tr><td>Caddy McKeown          </td><td>Unknown</td></tr>\n",
       "\t<tr><td>Florindo Fabrizio      </td><td>Unknown</td></tr>\n",
       "\t<tr><td>H. Scott Conklin       </td><td>Unknown</td></tr>\n",
       "\t<tr><td>P. Michael Sturla      </td><td>Unknown</td></tr>\n",
       "\t<tr><td>W. Curtis Thomas       </td><td>Unknown</td></tr>\n",
       "\t<tr><td>J. Aaron Regunberg     </td><td>Unknown</td></tr>\n",
       "\t<tr><td>K. Joseph Shekarchi    </td><td>Unknown</td></tr>\n",
       "\t<tr><td>J. Anne Parks          </td><td>Unknown</td></tr>\n",
       "\t<tr><td>MaryGail Douglas       </td><td>Unknown</td></tr>\n",
       "\t<tr><td>J. David Weeks         </td><td>Unknown</td></tr>\n",
       "\t<tr><td>Rosemounda Peggy Butler</td><td>Unknown</td></tr>\n",
       "\t<tr><td>J. S. Moore            </td><td>Unknown</td></tr>\n",
       "\t<tr><td>F. Mike Campbell       </td><td>Unknown</td></tr>\n",
       "\t<tr><td>Raumesh Akbari         </td><td>Unknown</td></tr>\n",
       "\t<tr><td>G.A. Hardaway          </td><td>Unknown</td></tr>\n",
       "\t<tr><td>L. DeMerchant          </td><td>Unknown</td></tr>\n",
       "\t<tr><td>Gnanse Nelson          </td><td>Unknown</td></tr>\n",
       "\t<tr><td>Senfronia Thompson     </td><td>Unknown</td></tr>\n",
       "\t<tr><td>Strom Peterson         </td><td>Unknown</td></tr>\n",
       "\t<tr><td>Sharlaine LaClair      </td><td>Unknown</td></tr>\n",
       "\t<tr><td>Jessyn Farrell         </td><td>Unknown</td></tr>\n",
       "\t<tr><td>Sondy Pope             </td><td>Unknown</td></tr>\n",
       "\t<tr><td>DeBari Martinez        </td><td>Unknown</td></tr>\n",
       "</tbody>\n",
       "</table>\n"
      ],
      "text/latex": [
       "A data.frame: 71 × 2\n",
       "\\begin{tabular}{ll}\n",
       " Democrat & gender\\_Dem\\\\\n",
       " <chr> & <chr>\\\\\n",
       "\\hline\n",
       "\t Truno Holdaway              & Unknown\\\\\n",
       "\t J.P. Bob Johnson            & Unknown\\\\\n",
       "\t Grimsley Graham             & Unknown\\\\\n",
       "\t Kansen Chu                  & Unknown\\\\\n",
       "\t S. Monique Limon            & Unknown\\\\\n",
       "\t Mesbah Islam                & Unknown\\\\\n",
       "\t S. Quinton Johnson          & Unknown\\\\\n",
       "\t W. Charles Paradee          & Unknown\\\\\n",
       "\t S. Bradley Connor           & Unknown\\\\\n",
       "\t Wengay M. \"Newt\" Newton Sr. & Unknown\\\\\n",
       "\t Shevrin Jones               & Unknown\\\\\n",
       "\t Dar'shun Kendrick           & Unknown\\\\\n",
       "\t T.R. Radjabov               & Unknown\\\\\n",
       "\t J. Craig Gordon             & Unknown\\\\\n",
       "\t Daynette Morikawa           & Unknown\\\\\n",
       "\t Stacelynn K.M. Eli          & Unknown\\\\\n",
       "\t Glida Bothwell              & Unknown\\\\\n",
       "\t Litesa E. Wallace           & Unknown\\\\\n",
       "\t R. Paul McCorkle            & Unknown\\\\\n",
       "\t Valdenia Winn               & Unknown\\\\\n",
       "\t Angeliina Lawson            & Unknown\\\\\n",
       "\t W. Brett Neibling           & Unknown\\\\\n",
       "\t Ponka-We Victors            & Unknown\\\\\n",
       "\t Sannie Overly               & Unknown\\\\\n",
       "\t Anne-Marie Mastraccio       & Unknown\\\\\n",
       "\t Nalbert Tero                & Unknown\\\\\n",
       "\t H. Scott Landry Jr.         & Unknown\\\\\n",
       "\t Estele Borges               & Unknown\\\\\n",
       "\t Ann-Margaret Ferrante       & Unknown\\\\\n",
       "\t Rady Mom                    & Unknown\\\\\n",
       "\t ⋮ & ⋮\\\\\n",
       "\t D. Wonda Johnson        & Unknown\\\\\n",
       "\t G. Andres Romero        & Unknown\\\\\n",
       "\t Bealquin Bill Gomez     & Unknown\\\\\n",
       "\t H. Keith Duncan         & Unknown\\\\\n",
       "\t Hearcel Craig           & Unknown\\\\\n",
       "\t O.A. Cargill            & Unknown\\\\\n",
       "\t Meloyde Blancett        & Unknown\\\\\n",
       "\t Caddy McKeown           & Unknown\\\\\n",
       "\t Florindo Fabrizio       & Unknown\\\\\n",
       "\t H. Scott Conklin        & Unknown\\\\\n",
       "\t P. Michael Sturla       & Unknown\\\\\n",
       "\t W. Curtis Thomas        & Unknown\\\\\n",
       "\t J. Aaron Regunberg      & Unknown\\\\\n",
       "\t K. Joseph Shekarchi     & Unknown\\\\\n",
       "\t J. Anne Parks           & Unknown\\\\\n",
       "\t MaryGail Douglas        & Unknown\\\\\n",
       "\t J. David Weeks          & Unknown\\\\\n",
       "\t Rosemounda Peggy Butler & Unknown\\\\\n",
       "\t J. S. Moore             & Unknown\\\\\n",
       "\t F. Mike Campbell        & Unknown\\\\\n",
       "\t Raumesh Akbari          & Unknown\\\\\n",
       "\t G.A. Hardaway           & Unknown\\\\\n",
       "\t L. DeMerchant           & Unknown\\\\\n",
       "\t Gnanse Nelson           & Unknown\\\\\n",
       "\t Senfronia Thompson      & Unknown\\\\\n",
       "\t Strom Peterson          & Unknown\\\\\n",
       "\t Sharlaine LaClair       & Unknown\\\\\n",
       "\t Jessyn Farrell          & Unknown\\\\\n",
       "\t Sondy Pope              & Unknown\\\\\n",
       "\t DeBari Martinez         & Unknown\\\\\n",
       "\\end{tabular}\n"
      ],
      "text/markdown": [
       "\n",
       "A data.frame: 71 × 2\n",
       "\n",
       "| Democrat &lt;chr&gt; | gender_Dem &lt;chr&gt; |\n",
       "|---|---|\n",
       "| Truno Holdaway              | Unknown |\n",
       "| J.P. Bob Johnson            | Unknown |\n",
       "| Grimsley Graham             | Unknown |\n",
       "| Kansen Chu                  | Unknown |\n",
       "| S. Monique Limon            | Unknown |\n",
       "| Mesbah Islam                | Unknown |\n",
       "| S. Quinton Johnson          | Unknown |\n",
       "| W. Charles Paradee          | Unknown |\n",
       "| S. Bradley Connor           | Unknown |\n",
       "| Wengay M. \"Newt\" Newton Sr. | Unknown |\n",
       "| Shevrin Jones               | Unknown |\n",
       "| Dar'shun Kendrick           | Unknown |\n",
       "| T.R. Radjabov               | Unknown |\n",
       "| J. Craig Gordon             | Unknown |\n",
       "| Daynette Morikawa           | Unknown |\n",
       "| Stacelynn K.M. Eli          | Unknown |\n",
       "| Glida Bothwell              | Unknown |\n",
       "| Litesa E. Wallace           | Unknown |\n",
       "| R. Paul McCorkle            | Unknown |\n",
       "| Valdenia Winn               | Unknown |\n",
       "| Angeliina Lawson            | Unknown |\n",
       "| W. Brett Neibling           | Unknown |\n",
       "| Ponka-We Victors            | Unknown |\n",
       "| Sannie Overly               | Unknown |\n",
       "| Anne-Marie Mastraccio       | Unknown |\n",
       "| Nalbert Tero                | Unknown |\n",
       "| H. Scott Landry Jr.         | Unknown |\n",
       "| Estele Borges               | Unknown |\n",
       "| Ann-Margaret Ferrante       | Unknown |\n",
       "| Rady Mom                    | Unknown |\n",
       "| ⋮ | ⋮ |\n",
       "| D. Wonda Johnson        | Unknown |\n",
       "| G. Andres Romero        | Unknown |\n",
       "| Bealquin Bill Gomez     | Unknown |\n",
       "| H. Keith Duncan         | Unknown |\n",
       "| Hearcel Craig           | Unknown |\n",
       "| O.A. Cargill            | Unknown |\n",
       "| Meloyde Blancett        | Unknown |\n",
       "| Caddy McKeown           | Unknown |\n",
       "| Florindo Fabrizio       | Unknown |\n",
       "| H. Scott Conklin        | Unknown |\n",
       "| P. Michael Sturla       | Unknown |\n",
       "| W. Curtis Thomas        | Unknown |\n",
       "| J. Aaron Regunberg      | Unknown |\n",
       "| K. Joseph Shekarchi     | Unknown |\n",
       "| J. Anne Parks           | Unknown |\n",
       "| MaryGail Douglas        | Unknown |\n",
       "| J. David Weeks          | Unknown |\n",
       "| Rosemounda Peggy Butler | Unknown |\n",
       "| J. S. Moore             | Unknown |\n",
       "| F. Mike Campbell        | Unknown |\n",
       "| Raumesh Akbari          | Unknown |\n",
       "| G.A. Hardaway           | Unknown |\n",
       "| L. DeMerchant           | Unknown |\n",
       "| Gnanse Nelson           | Unknown |\n",
       "| Senfronia Thompson      | Unknown |\n",
       "| Strom Peterson          | Unknown |\n",
       "| Sharlaine LaClair       | Unknown |\n",
       "| Jessyn Farrell          | Unknown |\n",
       "| Sondy Pope              | Unknown |\n",
       "| DeBari Martinez         | Unknown |\n",
       "\n"
      ],
      "text/plain": [
       "   Democrat                    gender_Dem\n",
       "1  Truno Holdaway              Unknown   \n",
       "2  J.P. Bob Johnson            Unknown   \n",
       "3  Grimsley Graham             Unknown   \n",
       "4  Kansen Chu                  Unknown   \n",
       "5  S. Monique Limon            Unknown   \n",
       "6  Mesbah Islam                Unknown   \n",
       "7  S. Quinton Johnson          Unknown   \n",
       "8  W. Charles Paradee          Unknown   \n",
       "9  S. Bradley Connor           Unknown   \n",
       "10 Wengay M. \"Newt\" Newton Sr. Unknown   \n",
       "11 Shevrin Jones               Unknown   \n",
       "12 Dar'shun Kendrick           Unknown   \n",
       "13 T.R. Radjabov               Unknown   \n",
       "14 J. Craig Gordon             Unknown   \n",
       "15 Daynette Morikawa           Unknown   \n",
       "16 Stacelynn K.M. Eli          Unknown   \n",
       "17 Glida Bothwell              Unknown   \n",
       "18 Litesa E. Wallace           Unknown   \n",
       "19 R. Paul McCorkle            Unknown   \n",
       "20 Valdenia Winn               Unknown   \n",
       "21 Angeliina Lawson            Unknown   \n",
       "22 W. Brett Neibling           Unknown   \n",
       "23 Ponka-We Victors            Unknown   \n",
       "24 Sannie Overly               Unknown   \n",
       "25 Anne-Marie Mastraccio       Unknown   \n",
       "26 Nalbert Tero                Unknown   \n",
       "27 H. Scott Landry Jr.         Unknown   \n",
       "28 Estele Borges               Unknown   \n",
       "29 Ann-Margaret Ferrante       Unknown   \n",
       "30 Rady Mom                    Unknown   \n",
       "⋮  ⋮                           ⋮         \n",
       "42 D. Wonda Johnson            Unknown   \n",
       "43 G. Andres Romero            Unknown   \n",
       "44 Bealquin Bill Gomez         Unknown   \n",
       "45 H. Keith Duncan             Unknown   \n",
       "46 Hearcel Craig               Unknown   \n",
       "47 O.A. Cargill                Unknown   \n",
       "48 Meloyde Blancett            Unknown   \n",
       "49 Caddy McKeown               Unknown   \n",
       "50 Florindo Fabrizio           Unknown   \n",
       "51 H. Scott Conklin            Unknown   \n",
       "52 P. Michael Sturla           Unknown   \n",
       "53 W. Curtis Thomas            Unknown   \n",
       "54 J. Aaron Regunberg          Unknown   \n",
       "55 K. Joseph Shekarchi         Unknown   \n",
       "56 J. Anne Parks               Unknown   \n",
       "57 MaryGail Douglas            Unknown   \n",
       "58 J. David Weeks              Unknown   \n",
       "59 Rosemounda Peggy Butler     Unknown   \n",
       "60 J. S. Moore                 Unknown   \n",
       "61 F. Mike Campbell            Unknown   \n",
       "62 Raumesh Akbari              Unknown   \n",
       "63 G.A. Hardaway               Unknown   \n",
       "64 L. DeMerchant               Unknown   \n",
       "65 Gnanse Nelson               Unknown   \n",
       "66 Senfronia Thompson          Unknown   \n",
       "67 Strom Peterson              Unknown   \n",
       "68 Sharlaine LaClair           Unknown   \n",
       "69 Jessyn Farrell              Unknown   \n",
       "70 Sondy Pope                  Unknown   \n",
       "71 DeBari Martinez             Unknown   "
      ]
     },
     "metadata": {},
     "output_type": "display_data"
    }
   ],
   "source": [
    "## Basic descriptive\n",
    "\n",
    "Dem_data %>%\n",
    "    group_by(Year, gender_Dem) %>%\n",
    "    filter(gender_Dem %in% c(\"male\", \"female\", \"Unknown\"), !is.na(Democrat.Votes)) %>%\n",
    "    summarize(mean_votes = mean(Democrat.Votes))\n",
    "\n",
    "Rep_data %>%\n",
    "    group_by(Year, gender_Rep) %>%\n",
    "    filter(gender_Rep %in% c(\"male\", \"female\", \"Unknown\"), !is.na(Republican.Votes)) %>%\n",
    "    summarize(mean_votes = mean(Republican.Votes))\n",
    "\n",
    "## Visualize Dem names function couldn't categorize (can do same for GOP)\n",
    "Dem_data %>%\n",
    "    select(Democrat, gender_Dem) %>%\n",
    "    filter(gender_Dem == \"Unknown\")\n"
   ]
  },
  {
   "cell_type": "code",
   "execution_count": 84,
   "metadata": {},
   "outputs": [
    {
     "data": {
      "text/html": [
       "<style>\n",
       ".list-inline {list-style: none; margin:0; padding: 0}\n",
       ".list-inline>li {display: inline-block}\n",
       ".list-inline>li:not(:last-child)::after {content: \"\\00b7\"; padding: 0 .5ex}\n",
       "</style>\n",
       "<ol class=list-inline><li>'year'</li><li>'state'</li><li>'state_po'</li><li>'state_fips'</li><li>'state_cen'</li><li>'state_ic'</li><li>'office'</li><li>'district'</li><li>'stage'</li><li>'special'</li><li>'candidate'</li><li>'party'</li><li>'writein'</li><li>'mode'</li><li>'candidatevotes'</li><li>'totalvotes'</li><li>'unofficial'</li><li>'version'</li></ol>\n"
      ],
      "text/latex": [
       "\\begin{enumerate*}\n",
       "\\item 'year'\n",
       "\\item 'state'\n",
       "\\item 'state\\_po'\n",
       "\\item 'state\\_fips'\n",
       "\\item 'state\\_cen'\n",
       "\\item 'state\\_ic'\n",
       "\\item 'office'\n",
       "\\item 'district'\n",
       "\\item 'stage'\n",
       "\\item 'special'\n",
       "\\item 'candidate'\n",
       "\\item 'party'\n",
       "\\item 'writein'\n",
       "\\item 'mode'\n",
       "\\item 'candidatevotes'\n",
       "\\item 'totalvotes'\n",
       "\\item 'unofficial'\n",
       "\\item 'version'\n",
       "\\end{enumerate*}\n"
      ],
      "text/markdown": [
       "1. 'year'\n",
       "2. 'state'\n",
       "3. 'state_po'\n",
       "4. 'state_fips'\n",
       "5. 'state_cen'\n",
       "6. 'state_ic'\n",
       "7. 'office'\n",
       "8. 'district'\n",
       "9. 'stage'\n",
       "10. 'special'\n",
       "11. 'candidate'\n",
       "12. 'party'\n",
       "13. 'writein'\n",
       "14. 'mode'\n",
       "15. 'candidatevotes'\n",
       "16. 'totalvotes'\n",
       "17. 'unofficial'\n",
       "18. 'version'\n",
       "\n",
       "\n"
      ],
      "text/plain": [
       " [1] \"year\"           \"state\"          \"state_po\"       \"state_fips\"    \n",
       " [5] \"state_cen\"      \"state_ic\"       \"office\"         \"district\"      \n",
       " [9] \"stage\"          \"special\"        \"candidate\"      \"party\"         \n",
       "[13] \"writein\"        \"mode\"           \"candidatevotes\" \"totalvotes\"    \n",
       "[17] \"unofficial\"     \"version\"       "
      ]
     },
     "metadata": {},
     "output_type": "display_data"
    },
    {
     "name": "stderr",
     "output_type": "stream",
     "text": [
      "`summarise()` ungrouping output (override with `.groups` argument)\n",
      "\n"
     ]
    },
    {
     "data": {
      "text/html": [
       "<style>\n",
       ".list-inline {list-style: none; margin:0; padding: 0}\n",
       ".list-inline>li {display: inline-block}\n",
       ".list-inline>li:not(:last-child)::after {content: \"\\00b7\"; padding: 0 .5ex}\n",
       "</style>\n",
       "<ol class=list-inline><li>21900</li><li>18</li></ol>\n"
      ],
      "text/latex": [
       "\\begin{enumerate*}\n",
       "\\item 21900\n",
       "\\item 18\n",
       "\\end{enumerate*}\n"
      ],
      "text/markdown": [
       "1. 21900\n",
       "2. 18\n",
       "\n",
       "\n"
      ],
      "text/plain": [
       "[1] 21900    18"
      ]
     },
     "metadata": {},
     "output_type": "display_data"
    },
    {
     "data": {
      "text/html": [
       "<style>\n",
       ".list-inline {list-style: none; margin:0; padding: 0}\n",
       ".list-inline>li {display: inline-block}\n",
       ".list-inline>li:not(:last-child)::after {content: \"\\00b7\"; padding: 0 .5ex}\n",
       "</style>\n",
       "<ol class=list-inline><li>14786</li><li>14</li></ol>\n"
      ],
      "text/latex": [
       "\\begin{enumerate*}\n",
       "\\item 14786\n",
       "\\item 14\n",
       "\\end{enumerate*}\n"
      ],
      "text/markdown": [
       "1. 14786\n",
       "2. 14\n",
       "\n",
       "\n"
      ],
      "text/plain": [
       "[1] 14786    14"
      ]
     },
     "metadata": {},
     "output_type": "display_data"
    },
    {
     "data": {
      "text/html": [
       "<table>\n",
       "<caption>A data.frame: 6 × 14</caption>\n",
       "<thead>\n",
       "\t<tr><th></th><th scope=col>year</th><th scope=col>state</th><th scope=col>state_po</th><th scope=col>state_fips</th><th scope=col>state_cen</th><th scope=col>state_ic</th><th scope=col>office</th><th scope=col>district</th><th scope=col>stage</th><th scope=col>candidate</th><th scope=col>party</th><th scope=col>mode</th><th scope=col>candidatevotes</th><th scope=col>totalvotes</th></tr>\n",
       "\t<tr><th></th><th scope=col>&lt;int&gt;</th><th scope=col>&lt;chr&gt;</th><th scope=col>&lt;chr&gt;</th><th scope=col>&lt;int&gt;</th><th scope=col>&lt;int&gt;</th><th scope=col>&lt;int&gt;</th><th scope=col>&lt;chr&gt;</th><th scope=col>&lt;chr&gt;</th><th scope=col>&lt;chr&gt;</th><th scope=col>&lt;chr&gt;</th><th scope=col>&lt;chr&gt;</th><th scope=col>&lt;chr&gt;</th><th scope=col>&lt;int&gt;</th><th scope=col>&lt;int&gt;</th></tr>\n",
       "</thead>\n",
       "<tbody>\n",
       "\t<tr><th scope=row>1</th><td>2018</td><td>Alabama</td><td>AL</td><td>1</td><td>63</td><td>41</td><td>State Representative</td><td>District 1</td><td>gen</td><td>Bobby James Dolan III</td><td>independent</td><td>absentee    </td><td> 125</td><td>11684</td></tr>\n",
       "\t<tr><th scope=row>2</th><td>2018</td><td>Alabama</td><td>AL</td><td>1</td><td>63</td><td>41</td><td>State Representative</td><td>District 1</td><td>gen</td><td>Bobby James Dolan III</td><td>independent</td><td>election day</td><td>4175</td><td>11684</td></tr>\n",
       "\t<tr><th scope=row>3</th><td>2018</td><td>Alabama</td><td>AL</td><td>1</td><td>63</td><td>41</td><td>State Representative</td><td>District 1</td><td>gen</td><td>Bobby James Dolan III</td><td>independent</td><td>provisional </td><td>  36</td><td>11684</td></tr>\n",
       "\t<tr><th scope=row>4</th><td>2018</td><td>Alabama</td><td>AL</td><td>1</td><td>63</td><td>41</td><td>State Representative</td><td>District 1</td><td>gen</td><td>Phillip Pettus       </td><td>republican </td><td>absentee    </td><td> 266</td><td>11684</td></tr>\n",
       "\t<tr><th scope=row>5</th><td>2018</td><td>Alabama</td><td>AL</td><td>1</td><td>63</td><td>41</td><td>State Representative</td><td>District 1</td><td>gen</td><td>Phillip Pettus       </td><td>republican </td><td>election day</td><td>7034</td><td>11684</td></tr>\n",
       "\t<tr><th scope=row>6</th><td>2018</td><td>Alabama</td><td>AL</td><td>1</td><td>63</td><td>41</td><td>State Representative</td><td>District 1</td><td>gen</td><td>Phillip Pettus       </td><td>republican </td><td>provisional </td><td>  48</td><td>11684</td></tr>\n",
       "</tbody>\n",
       "</table>\n"
      ],
      "text/latex": [
       "A data.frame: 6 × 14\n",
       "\\begin{tabular}{r|llllllllllllll}\n",
       "  & year & state & state\\_po & state\\_fips & state\\_cen & state\\_ic & office & district & stage & candidate & party & mode & candidatevotes & totalvotes\\\\\n",
       "  & <int> & <chr> & <chr> & <int> & <int> & <int> & <chr> & <chr> & <chr> & <chr> & <chr> & <chr> & <int> & <int>\\\\\n",
       "\\hline\n",
       "\t1 & 2018 & Alabama & AL & 1 & 63 & 41 & State Representative & District 1 & gen & Bobby James Dolan III & independent & absentee     &  125 & 11684\\\\\n",
       "\t2 & 2018 & Alabama & AL & 1 & 63 & 41 & State Representative & District 1 & gen & Bobby James Dolan III & independent & election day & 4175 & 11684\\\\\n",
       "\t3 & 2018 & Alabama & AL & 1 & 63 & 41 & State Representative & District 1 & gen & Bobby James Dolan III & independent & provisional  &   36 & 11684\\\\\n",
       "\t4 & 2018 & Alabama & AL & 1 & 63 & 41 & State Representative & District 1 & gen & Phillip Pettus        & republican  & absentee     &  266 & 11684\\\\\n",
       "\t5 & 2018 & Alabama & AL & 1 & 63 & 41 & State Representative & District 1 & gen & Phillip Pettus        & republican  & election day & 7034 & 11684\\\\\n",
       "\t6 & 2018 & Alabama & AL & 1 & 63 & 41 & State Representative & District 1 & gen & Phillip Pettus        & republican  & provisional  &   48 & 11684\\\\\n",
       "\\end{tabular}\n"
      ],
      "text/markdown": [
       "\n",
       "A data.frame: 6 × 14\n",
       "\n",
       "| <!--/--> | year &lt;int&gt; | state &lt;chr&gt; | state_po &lt;chr&gt; | state_fips &lt;int&gt; | state_cen &lt;int&gt; | state_ic &lt;int&gt; | office &lt;chr&gt; | district &lt;chr&gt; | stage &lt;chr&gt; | candidate &lt;chr&gt; | party &lt;chr&gt; | mode &lt;chr&gt; | candidatevotes &lt;int&gt; | totalvotes &lt;int&gt; |\n",
       "|---|---|---|---|---|---|---|---|---|---|---|---|---|---|---|\n",
       "| 1 | 2018 | Alabama | AL | 1 | 63 | 41 | State Representative | District 1 | gen | Bobby James Dolan III | independent | absentee     |  125 | 11684 |\n",
       "| 2 | 2018 | Alabama | AL | 1 | 63 | 41 | State Representative | District 1 | gen | Bobby James Dolan III | independent | election day | 4175 | 11684 |\n",
       "| 3 | 2018 | Alabama | AL | 1 | 63 | 41 | State Representative | District 1 | gen | Bobby James Dolan III | independent | provisional  |   36 | 11684 |\n",
       "| 4 | 2018 | Alabama | AL | 1 | 63 | 41 | State Representative | District 1 | gen | Phillip Pettus        | republican  | absentee     |  266 | 11684 |\n",
       "| 5 | 2018 | Alabama | AL | 1 | 63 | 41 | State Representative | District 1 | gen | Phillip Pettus        | republican  | election day | 7034 | 11684 |\n",
       "| 6 | 2018 | Alabama | AL | 1 | 63 | 41 | State Representative | District 1 | gen | Phillip Pettus        | republican  | provisional  |   48 | 11684 |\n",
       "\n"
      ],
      "text/plain": [
       "  year state   state_po state_fips state_cen state_ic office              \n",
       "1 2018 Alabama AL       1          63        41       State Representative\n",
       "2 2018 Alabama AL       1          63        41       State Representative\n",
       "3 2018 Alabama AL       1          63        41       State Representative\n",
       "4 2018 Alabama AL       1          63        41       State Representative\n",
       "5 2018 Alabama AL       1          63        41       State Representative\n",
       "6 2018 Alabama AL       1          63        41       State Representative\n",
       "  district   stage candidate             party       mode        \n",
       "1 District 1 gen   Bobby James Dolan III independent absentee    \n",
       "2 District 1 gen   Bobby James Dolan III independent election day\n",
       "3 District 1 gen   Bobby James Dolan III independent provisional \n",
       "4 District 1 gen   Phillip Pettus        republican  absentee    \n",
       "5 District 1 gen   Phillip Pettus        republican  election day\n",
       "6 District 1 gen   Phillip Pettus        republican  provisional \n",
       "  candidatevotes totalvotes\n",
       "1  125           11684     \n",
       "2 4175           11684     \n",
       "3   36           11684     \n",
       "4  266           11684     \n",
       "5 7034           11684     \n",
       "6   48           11684     "
      ]
     },
     "metadata": {},
     "output_type": "display_data"
    }
   ],
   "source": [
    "## 2018 data prep\n",
    "\n",
    "# Read data in\n",
    "state_elections_2018 <- read.csv(\"state_overall_2018.csv\")\n",
    "\n",
    "# Filter out races for other positions, special elections, write-ins, NAs\n",
    "names(state_elections_2018)\n",
    "\n",
    "filter_candidates <- state_elections_2018 %>%\n",
    "    group_by(candidate) %>%\n",
    "    summarize(count = n()) %>%\n",
    "    filter(count > 25) %>% # Candidate with most appearances has 24, above that are aggregates/NAs\n",
    "    select(candidate)\n",
    "\n",
    "state_elections_2018_filtered <- state_elections_2018 %>%\n",
    "    filter(office %in% c(\"State Assembly Member\", \"State Representative\", \"State Senator\", \"State Representative A\", \"State Representative B\"),\n",
    "          special == FALSE,\n",
    "           writein == FALSE,\n",
    "           !candidate %in% filter_candidates$candidate,\n",
    "          ) %>%\n",
    "    select(!c(\"writein\",\"special\",\"unofficial\",\"version\"))\n",
    "\n",
    "dim(state_elections_2018)\n",
    "dim(state_elections_2018_filtered)\n",
    "\n",
    "head(state_elections_2018_filtered)\n",
    "\n"
   ]
  },
  {
   "cell_type": "code",
   "execution_count": 94,
   "metadata": {},
   "outputs": [
    {
     "data": {
      "text/html": [
       "<style>\n",
       ".list-inline {list-style: none; margin:0; padding: 0}\n",
       ".list-inline>li {display: inline-block}\n",
       ".list-inline>li:not(:last-child)::after {content: \"\\00b7\"; padding: 0 .5ex}\n",
       "</style>\n",
       "<ol class=list-inline><li>'absentee'</li><li>'election day'</li><li>'provisional'</li><li>'total'</li><li>'early vote'</li><li>'machine'</li><li>'absentee by mail'</li><li>'advance in person'</li><li>'early'</li><li>'election'</li><li>'absentee/early vote'</li><li>'one stop'</li><li>'absentee mail'</li><li>'electon day'</li><li>'mail ballots'</li></ol>\n"
      ],
      "text/latex": [
       "\\begin{enumerate*}\n",
       "\\item 'absentee'\n",
       "\\item 'election day'\n",
       "\\item 'provisional'\n",
       "\\item 'total'\n",
       "\\item 'early vote'\n",
       "\\item 'machine'\n",
       "\\item 'absentee by mail'\n",
       "\\item 'advance in person'\n",
       "\\item 'early'\n",
       "\\item 'election'\n",
       "\\item 'absentee/early vote'\n",
       "\\item 'one stop'\n",
       "\\item 'absentee mail'\n",
       "\\item 'electon day'\n",
       "\\item 'mail ballots'\n",
       "\\end{enumerate*}\n"
      ],
      "text/markdown": [
       "1. 'absentee'\n",
       "2. 'election day'\n",
       "3. 'provisional'\n",
       "4. 'total'\n",
       "5. 'early vote'\n",
       "6. 'machine'\n",
       "7. 'absentee by mail'\n",
       "8. 'advance in person'\n",
       "9. 'early'\n",
       "10. 'election'\n",
       "11. 'absentee/early vote'\n",
       "12. 'one stop'\n",
       "13. 'absentee mail'\n",
       "14. 'electon day'\n",
       "15. 'mail ballots'\n",
       "\n",
       "\n"
      ],
      "text/plain": [
       " [1] \"absentee\"            \"election day\"        \"provisional\"        \n",
       " [4] \"total\"               \"early vote\"          \"machine\"            \n",
       " [7] \"absentee by mail\"    \"advance in person\"   \"early\"              \n",
       "[10] \"election\"            \"absentee/early vote\" \"one stop\"           \n",
       "[13] \"absentee mail\"       \"electon day\"         \"mail ballots\"       "
      ]
     },
     "metadata": {},
     "output_type": "display_data"
    },
    {
     "data": {
      "text/html": [
       "7"
      ],
      "text/latex": [
       "7"
      ],
      "text/markdown": [
       "7"
      ],
      "text/plain": [
       "[1] 7"
      ]
     },
     "metadata": {},
     "output_type": "display_data"
    },
    {
     "data": {
      "text/html": [
       "<table>\n",
       "<caption>A grouped_df: 6 × 6</caption>\n",
       "<thead>\n",
       "\t<tr><th scope=col>state</th><th scope=col>district</th><th scope=col>office</th><th scope=col>party</th><th scope=col>candidate</th><th scope=col>total_votes</th></tr>\n",
       "\t<tr><th scope=col>&lt;chr&gt;</th><th scope=col>&lt;chr&gt;</th><th scope=col>&lt;chr&gt;</th><th scope=col>&lt;chr&gt;</th><th scope=col>&lt;chr&gt;</th><th scope=col>&lt;int&gt;</th></tr>\n",
       "</thead>\n",
       "<tbody>\n",
       "\t<tr><td>Alabama</td><td>District 1 </td><td>State Representative</td><td>independent</td><td>Bobby James Dolan III</td><td> 4336</td></tr>\n",
       "\t<tr><td>Alabama</td><td>District 1 </td><td>State Representative</td><td>republican </td><td>Phillip Pettus       </td><td> 7348</td></tr>\n",
       "\t<tr><td>Alabama</td><td>District 1 </td><td>State Senator       </td><td>democrat   </td><td>Caroline Self        </td><td>15830</td></tr>\n",
       "\t<tr><td>Alabama</td><td>District 1 </td><td>State Senator       </td><td>republican </td><td>Tim Melson           </td><td>33141</td></tr>\n",
       "\t<tr><td>Alabama</td><td>District 10</td><td>State Representative</td><td>democrat   </td><td>J.B. King            </td><td> 8565</td></tr>\n",
       "\t<tr><td>Alabama</td><td>District 10</td><td>State Representative</td><td>libertarian</td><td>Elijah J. Boyd       </td><td> 1130</td></tr>\n",
       "</tbody>\n",
       "</table>\n"
      ],
      "text/latex": [
       "A grouped\\_df: 6 × 6\n",
       "\\begin{tabular}{llllll}\n",
       " state & district & office & party & candidate & total\\_votes\\\\\n",
       " <chr> & <chr> & <chr> & <chr> & <chr> & <int>\\\\\n",
       "\\hline\n",
       "\t Alabama & District 1  & State Representative & independent & Bobby James Dolan III &  4336\\\\\n",
       "\t Alabama & District 1  & State Representative & republican  & Phillip Pettus        &  7348\\\\\n",
       "\t Alabama & District 1  & State Senator        & democrat    & Caroline Self         & 15830\\\\\n",
       "\t Alabama & District 1  & State Senator        & republican  & Tim Melson            & 33141\\\\\n",
       "\t Alabama & District 10 & State Representative & democrat    & J.B. King             &  8565\\\\\n",
       "\t Alabama & District 10 & State Representative & libertarian & Elijah J. Boyd        &  1130\\\\\n",
       "\\end{tabular}\n"
      ],
      "text/markdown": [
       "\n",
       "A grouped_df: 6 × 6\n",
       "\n",
       "| state &lt;chr&gt; | district &lt;chr&gt; | office &lt;chr&gt; | party &lt;chr&gt; | candidate &lt;chr&gt; | total_votes &lt;int&gt; |\n",
       "|---|---|---|---|---|---|\n",
       "| Alabama | District 1  | State Representative | independent | Bobby James Dolan III |  4336 |\n",
       "| Alabama | District 1  | State Representative | republican  | Phillip Pettus        |  7348 |\n",
       "| Alabama | District 1  | State Senator        | democrat    | Caroline Self         | 15830 |\n",
       "| Alabama | District 1  | State Senator        | republican  | Tim Melson            | 33141 |\n",
       "| Alabama | District 10 | State Representative | democrat    | J.B. King             |  8565 |\n",
       "| Alabama | District 10 | State Representative | libertarian | Elijah J. Boyd        |  1130 |\n",
       "\n"
      ],
      "text/plain": [
       "  state   district    office               party       candidate            \n",
       "1 Alabama District 1  State Representative independent Bobby James Dolan III\n",
       "2 Alabama District 1  State Representative republican  Phillip Pettus       \n",
       "3 Alabama District 1  State Senator        democrat    Caroline Self        \n",
       "4 Alabama District 1  State Senator        republican  Tim Melson           \n",
       "5 Alabama District 10 State Representative democrat    J.B. King            \n",
       "6 Alabama District 10 State Representative libertarian Elijah J. Boyd       \n",
       "  total_votes\n",
       "1  4336      \n",
       "2  7348      \n",
       "3 15830      \n",
       "4 33141      \n",
       "5  8565      \n",
       "6  1130      "
      ]
     },
     "metadata": {},
     "output_type": "display_data"
    },
    {
     "name": "stderr",
     "output_type": "stream",
     "text": [
      "`summarise()` regrouping output by 'state', 'district', 'office', 'party' (override with `.groups` argument)\n",
      "\n",
      "Warning message:\n",
      "“Values are not uniquely identified; output will contain list-cols.\n",
      "* Use `values_fn = list` to suppress this warning.\n",
      "* Use `values_fn = length` to identify where the duplicates arise\n",
      "* Use `values_fn = {summary_fun}` to summarise duplicates”\n",
      "Warning message:\n",
      "“Values are not uniquely identified; output will contain list-cols.\n",
      "* Use `values_fn = list` to suppress this warning.\n",
      "* Use `values_fn = length` to identify where the duplicates arise\n",
      "* Use `values_fn = {summary_fun}` to summarise duplicates”\n"
     ]
    },
    {
     "data": {
      "text/html": [
       "<table>\n",
       "<caption>A grouped_df: 6 × 7</caption>\n",
       "<thead>\n",
       "\t<tr><th scope=col>state</th><th scope=col>district</th><th scope=col>office</th><th scope=col>candidate_republican</th><th scope=col>candidate_democrat</th><th scope=col>total_votes_republican</th><th scope=col>total_votes_democrat</th></tr>\n",
       "\t<tr><th scope=col>&lt;chr&gt;</th><th scope=col>&lt;chr&gt;</th><th scope=col>&lt;chr&gt;</th><th scope=col>&lt;list&gt;</th><th scope=col>&lt;list&gt;</th><th scope=col>&lt;list&gt;</th><th scope=col>&lt;list&gt;</th></tr>\n",
       "</thead>\n",
       "<tbody>\n",
       "\t<tr><td>Alabama</td><td>District 1  </td><td>State Representative</td><td>Phillip Pettus</td><td>No candidate</td><td>7348</td><td>NULL</td></tr>\n",
       "\t<tr><td>Alabama</td><td>District 1  </td><td>State Senator       </td><td>Tim Melson</td><td>Caroline Self</td><td>33141</td><td>15830</td></tr>\n",
       "\t<tr><td>Alabama</td><td>District 10 </td><td>State Representative</td><td>Mike Ball</td><td>J.B. King</td><td>11240</td><td>8565</td></tr>\n",
       "\t<tr><td>Alabama</td><td>District 10 </td><td>State Senator       </td><td>Andrew Jones</td><td>No candidate</td><td>25902</td><td>NULL</td></tr>\n",
       "\t<tr><td>Alabama</td><td>District 100</td><td>State Representative</td><td>Victor Gaston</td><td>No candidate</td><td>12086</td><td>NULL</td></tr>\n",
       "\t<tr><td>Alabama</td><td>District 101</td><td>State Representative</td><td>Chris Pringle</td><td>No candidate</td><td>10274</td><td>NULL</td></tr>\n",
       "</tbody>\n",
       "</table>\n"
      ],
      "text/latex": [
       "A grouped\\_df: 6 × 7\n",
       "\\begin{tabular}{lllllll}\n",
       " state & district & office & candidate\\_republican & candidate\\_democrat & total\\_votes\\_republican & total\\_votes\\_democrat\\\\\n",
       " <chr> & <chr> & <chr> & <list> & <list> & <list> & <list>\\\\\n",
       "\\hline\n",
       "\t Alabama & District 1   & State Representative & Phillip Pettus & No candidate & 7348 & NULL\\\\\n",
       "\t Alabama & District 1   & State Senator        & Tim Melson & Caroline Self & 33141 & 15830\\\\\n",
       "\t Alabama & District 10  & State Representative & Mike Ball & J.B. King & 11240 & 8565\\\\\n",
       "\t Alabama & District 10  & State Senator        & Andrew Jones & No candidate & 25902 & NULL\\\\\n",
       "\t Alabama & District 100 & State Representative & Victor Gaston & No candidate & 12086 & NULL\\\\\n",
       "\t Alabama & District 101 & State Representative & Chris Pringle & No candidate & 10274 & NULL\\\\\n",
       "\\end{tabular}\n"
      ],
      "text/markdown": [
       "\n",
       "A grouped_df: 6 × 7\n",
       "\n",
       "| state &lt;chr&gt; | district &lt;chr&gt; | office &lt;chr&gt; | candidate_republican &lt;list&gt; | candidate_democrat &lt;list&gt; | total_votes_republican &lt;list&gt; | total_votes_democrat &lt;list&gt; |\n",
       "|---|---|---|---|---|---|---|\n",
       "| Alabama | District 1   | State Representative | Phillip Pettus | No candidate | 7348 | NULL |\n",
       "| Alabama | District 1   | State Senator        | Tim Melson | Caroline Self | 33141 | 15830 |\n",
       "| Alabama | District 10  | State Representative | Mike Ball | J.B. King | 11240 | 8565 |\n",
       "| Alabama | District 10  | State Senator        | Andrew Jones | No candidate | 25902 | NULL |\n",
       "| Alabama | District 100 | State Representative | Victor Gaston | No candidate | 12086 | NULL |\n",
       "| Alabama | District 101 | State Representative | Chris Pringle | No candidate | 10274 | NULL |\n",
       "\n"
      ],
      "text/plain": [
       "  state   district     office               candidate_republican\n",
       "1 Alabama District 1   State Representative Phillip Pettus      \n",
       "2 Alabama District 1   State Senator        Tim Melson          \n",
       "3 Alabama District 10  State Representative Mike Ball           \n",
       "4 Alabama District 10  State Senator        Andrew Jones        \n",
       "5 Alabama District 100 State Representative Victor Gaston       \n",
       "6 Alabama District 101 State Representative Chris Pringle       \n",
       "  candidate_democrat total_votes_republican total_votes_democrat\n",
       "1 No candidate       7348                   NULL                \n",
       "2 Caroline Self      33141                  15830               \n",
       "3 J.B. King          11240                  8565                \n",
       "4 No candidate       25902                  NULL                \n",
       "5 No candidate       12086                  NULL                \n",
       "6 No candidate       10274                  NULL                "
      ]
     },
     "metadata": {},
     "output_type": "display_data"
    }
   ],
   "source": [
    "# Reformat data to single line per candidate and election\n",
    "\n",
    "unique(state_elections_2018_filtered$mode)\n",
    "\n",
    "\n",
    "total_list <- state_elections_2018_filtered %>%\n",
    "    filter(mode == \"total\") %>%\n",
    "    select(candidate)\n",
    "\n",
    "non_total_list <- state_elections_2018_filtered %>%\n",
    "    filter(!mode == \"total\") %>%\n",
    "    select(candidate)\n",
    "\n",
    "sum(unique(total_list$candidate) %in% unique(non_total_list$candidate))\n",
    "\n",
    "match_list <- unique(total_list[total_list$candidate %in% non_total_list$candidate,])\n",
    "\n",
    "\n",
    "test_case <- state_elections_2018_filtered %>%\n",
    "    filter(!candidate %in% match_list) %>%\n",
    "    group_by(state, district, office, party, candidate) %>%\n",
    "    summarize(total_votes = sum(candidatevotes)) %>%\n",
    "    arrange(state, district, office)\n",
    "\n",
    "state_elections_2018_formatted <- test_case %>%\n",
    "    filter(party %in% c(\"democrat\", \"republican\")) %>%\n",
    "    pivot_wider(id_cols = c(\"state\", \"district\", \"office\"), names_from = party, values_from = c(\"candidate\", \"total_votes\")) %>%\n",
    "    mutate(candidate_democrat = replace_na(candidate_democrat, \"No candidate\"), \n",
    "            candidate_republican = replace_na(candidate_republican, \"No candidate\"),\n",
    "            total_votes_democrat = replace_na(total_votes_democrat, 0),\n",
    "            total_votes_republican = replace_na(totalvotes_republican, 0))\n",
    "## Prob best possible set up\n",
    "\n",
    "\n"
   ]
  },
  {
   "cell_type": "code",
   "execution_count": null,
   "metadata": {},
   "outputs": [
    {
     "name": "stderr",
     "output_type": "stream",
     "text": [
      "Warning message in stri_locate_all_fixed(string, pattern, omit_no_match = TRUE, :\n",
      "“argument is not an atomic vector; coercing”\n",
      "Warning message in stri_sub(string, from = start, to = end):\n",
      "“argument is not an atomic vector; coercing”\n"
     ]
    }
   ],
   "source": [
    "## Generate gender for 2018 candidates (doesn't currently work due to complications with dataset)\n",
    "\n",
    "state_elections_2018_formatted$gender_rep <- gender_fill(state_elections_2018_formatted$candidate_republican)\n",
    "\n",
    "state_elections_2018_formatted$gender_dem <- gender_fill(state_elections_2018_formatted$candidate_democrat)\n",
    "\n"
   ]
  },
  {
   "cell_type": "code",
   "execution_count": 89,
   "metadata": {},
   "outputs": [
    {
     "name": "stdout",
     "output_type": "stream",
     "text": [
      "logical(0)\n"
     ]
    }
   ],
   "source": [
    "head(state_elections_2018_formatted)"
   ]
  },
  {
   "cell_type": "code",
   "execution_count": null,
   "metadata": {},
   "outputs": [],
   "source": []
  }
 ],
 "metadata": {
  "kernelspec": {
   "display_name": "R",
   "language": "R",
   "name": "ir"
  },
  "language_info": {
   "codemirror_mode": "r",
   "file_extension": ".r",
   "mimetype": "text/x-r-source",
   "name": "R",
   "pygments_lexer": "r",
   "version": "4.0.0"
  }
 },
 "nbformat": 4,
 "nbformat_minor": 4
}
