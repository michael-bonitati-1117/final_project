{
 "cells": [
  {
   "cell_type": "code",
   "execution_count": 43,
   "metadata": {},
   "outputs": [
    {
     "name": "stderr",
     "output_type": "stream",
     "text": [
      "Updating HTML index of packages in '.Library'\n",
      "\n",
      "Making 'packages.html' ...\n",
      " done\n",
      "\n",
      "Updating HTML index of packages in '.Library'\n",
      "\n",
      "Making 'packages.html' ...\n",
      " done\n",
      "\n",
      "PLEASE NOTE: The method provided by this package must be used cautiously\n",
      "and responsibly. Please be sure to see the guidelines and warnings about\n",
      "usage in the README or the package documentation.\n",
      "\n"
     ]
    }
   ],
   "source": [
    "## Install gender package and linked database\n",
    "install.packages(\"gender\")\n",
    "install.packages(\"genderdata\", repos = \"https://dev.ropensci.org\", type = \"source\")\n",
    "\n",
    "## Packages\n",
    "library(dplyr)\n",
    "library(stringr)\n",
    "library(broom)\n",
    "library(ggplot2)\n",
    "library(tidyr)\n",
    "library(gender)\n",
    "\n",
    "\n",
    "## Data \n",
    "CD_results_2018 <- read.csv(\"district_overall_2018.csv\")"
   ]
  },
  {
   "cell_type": "code",
   "execution_count": 34,
   "metadata": {},
   "outputs": [
    {
     "data": {
      "text/html": [
       "<table>\n",
       "<caption>A data.frame: 6 × 18</caption>\n",
       "<thead>\n",
       "\t<tr><th></th><th scope=col>year</th><th scope=col>state</th><th scope=col>state_po</th><th scope=col>state_fips</th><th scope=col>state_cen</th><th scope=col>state_ic</th><th scope=col>office</th><th scope=col>district</th><th scope=col>stage</th><th scope=col>special</th><th scope=col>candidate</th><th scope=col>party</th><th scope=col>writein</th><th scope=col>mode</th><th scope=col>candidatevotes</th><th scope=col>totalvotes</th><th scope=col>unofficial</th><th scope=col>version</th></tr>\n",
       "\t<tr><th></th><th scope=col>&lt;int&gt;</th><th scope=col>&lt;chr&gt;</th><th scope=col>&lt;chr&gt;</th><th scope=col>&lt;int&gt;</th><th scope=col>&lt;int&gt;</th><th scope=col>&lt;int&gt;</th><th scope=col>&lt;chr&gt;</th><th scope=col>&lt;chr&gt;</th><th scope=col>&lt;chr&gt;</th><th scope=col>&lt;lgl&gt;</th><th scope=col>&lt;chr&gt;</th><th scope=col>&lt;chr&gt;</th><th scope=col>&lt;lgl&gt;</th><th scope=col>&lt;chr&gt;</th><th scope=col>&lt;int&gt;</th><th scope=col>&lt;int&gt;</th><th scope=col>&lt;lgl&gt;</th><th scope=col>&lt;int&gt;</th></tr>\n",
       "</thead>\n",
       "<tbody>\n",
       "\t<tr><th scope=row>1</th><td>2018</td><td>California</td><td>CA</td><td>6</td><td>93</td><td>71</td><td>U.S. Representative</td><td>District 1 </td><td>gen</td><td>FALSE</td><td>Audrey Denney  </td><td>democrat  </td><td>FALSE</td><td>total</td><td>263096</td><td>583188</td><td>FALSE</td><td>20190131</td></tr>\n",
       "\t<tr><th scope=row>2</th><td>2018</td><td>California</td><td>CA</td><td>6</td><td>93</td><td>71</td><td>U.S. Representative</td><td>District 1 </td><td>gen</td><td>FALSE</td><td>Doug La Malfa  </td><td>republican</td><td>FALSE</td><td>total</td><td>320092</td><td>583188</td><td>FALSE</td><td>20190131</td></tr>\n",
       "\t<tr><th scope=row>3</th><td>2018</td><td>California</td><td>CA</td><td>6</td><td>93</td><td>71</td><td>U.S. Representative</td><td>District 10</td><td>gen</td><td>FALSE</td><td>Jeff Denham    </td><td>republican</td><td>FALSE</td><td>total</td><td>211910</td><td>443800</td><td>FALSE</td><td>20190131</td></tr>\n",
       "\t<tr><th scope=row>4</th><td>2018</td><td>California</td><td>CA</td><td>6</td><td>93</td><td>71</td><td>U.S. Representative</td><td>District 10</td><td>gen</td><td>FALSE</td><td>Josh Harder    </td><td>democrat  </td><td>FALSE</td><td>total</td><td>231890</td><td>443800</td><td>FALSE</td><td>20190131</td></tr>\n",
       "\t<tr><th scope=row>5</th><td>2018</td><td>California</td><td>CA</td><td>6</td><td>93</td><td>71</td><td>U.S. Representative</td><td>District 11</td><td>gen</td><td>FALSE</td><td>John Fitzgerald</td><td>republican</td><td>FALSE</td><td>total</td><td>142624</td><td>551362</td><td>FALSE</td><td>20190131</td></tr>\n",
       "\t<tr><th scope=row>6</th><td>2018</td><td>California</td><td>CA</td><td>6</td><td>93</td><td>71</td><td>U.S. Representative</td><td>District 11</td><td>gen</td><td>FALSE</td><td>Mark DeSaulnier</td><td>democrat  </td><td>FALSE</td><td>total</td><td>408738</td><td>551362</td><td>FALSE</td><td>20190131</td></tr>\n",
       "</tbody>\n",
       "</table>\n"
      ],
      "text/latex": [
       "A data.frame: 6 × 18\n",
       "\\begin{tabular}{r|llllllllllllllllll}\n",
       "  & year & state & state\\_po & state\\_fips & state\\_cen & state\\_ic & office & district & stage & special & candidate & party & writein & mode & candidatevotes & totalvotes & unofficial & version\\\\\n",
       "  & <int> & <chr> & <chr> & <int> & <int> & <int> & <chr> & <chr> & <chr> & <lgl> & <chr> & <chr> & <lgl> & <chr> & <int> & <int> & <lgl> & <int>\\\\\n",
       "\\hline\n",
       "\t1 & 2018 & California & CA & 6 & 93 & 71 & U.S. Representative & District 1  & gen & FALSE & Audrey Denney   & democrat   & FALSE & total & 263096 & 583188 & FALSE & 20190131\\\\\n",
       "\t2 & 2018 & California & CA & 6 & 93 & 71 & U.S. Representative & District 1  & gen & FALSE & Doug La Malfa   & republican & FALSE & total & 320092 & 583188 & FALSE & 20190131\\\\\n",
       "\t3 & 2018 & California & CA & 6 & 93 & 71 & U.S. Representative & District 10 & gen & FALSE & Jeff Denham     & republican & FALSE & total & 211910 & 443800 & FALSE & 20190131\\\\\n",
       "\t4 & 2018 & California & CA & 6 & 93 & 71 & U.S. Representative & District 10 & gen & FALSE & Josh Harder     & democrat   & FALSE & total & 231890 & 443800 & FALSE & 20190131\\\\\n",
       "\t5 & 2018 & California & CA & 6 & 93 & 71 & U.S. Representative & District 11 & gen & FALSE & John Fitzgerald & republican & FALSE & total & 142624 & 551362 & FALSE & 20190131\\\\\n",
       "\t6 & 2018 & California & CA & 6 & 93 & 71 & U.S. Representative & District 11 & gen & FALSE & Mark DeSaulnier & democrat   & FALSE & total & 408738 & 551362 & FALSE & 20190131\\\\\n",
       "\\end{tabular}\n"
      ],
      "text/markdown": [
       "\n",
       "A data.frame: 6 × 18\n",
       "\n",
       "| <!--/--> | year &lt;int&gt; | state &lt;chr&gt; | state_po &lt;chr&gt; | state_fips &lt;int&gt; | state_cen &lt;int&gt; | state_ic &lt;int&gt; | office &lt;chr&gt; | district &lt;chr&gt; | stage &lt;chr&gt; | special &lt;lgl&gt; | candidate &lt;chr&gt; | party &lt;chr&gt; | writein &lt;lgl&gt; | mode &lt;chr&gt; | candidatevotes &lt;int&gt; | totalvotes &lt;int&gt; | unofficial &lt;lgl&gt; | version &lt;int&gt; |\n",
       "|---|---|---|---|---|---|---|---|---|---|---|---|---|---|---|---|---|---|---|\n",
       "| 1 | 2018 | California | CA | 6 | 93 | 71 | U.S. Representative | District 1  | gen | FALSE | Audrey Denney   | democrat   | FALSE | total | 263096 | 583188 | FALSE | 20190131 |\n",
       "| 2 | 2018 | California | CA | 6 | 93 | 71 | U.S. Representative | District 1  | gen | FALSE | Doug La Malfa   | republican | FALSE | total | 320092 | 583188 | FALSE | 20190131 |\n",
       "| 3 | 2018 | California | CA | 6 | 93 | 71 | U.S. Representative | District 10 | gen | FALSE | Jeff Denham     | republican | FALSE | total | 211910 | 443800 | FALSE | 20190131 |\n",
       "| 4 | 2018 | California | CA | 6 | 93 | 71 | U.S. Representative | District 10 | gen | FALSE | Josh Harder     | democrat   | FALSE | total | 231890 | 443800 | FALSE | 20190131 |\n",
       "| 5 | 2018 | California | CA | 6 | 93 | 71 | U.S. Representative | District 11 | gen | FALSE | John Fitzgerald | republican | FALSE | total | 142624 | 551362 | FALSE | 20190131 |\n",
       "| 6 | 2018 | California | CA | 6 | 93 | 71 | U.S. Representative | District 11 | gen | FALSE | Mark DeSaulnier | democrat   | FALSE | total | 408738 | 551362 | FALSE | 20190131 |\n",
       "\n"
      ],
      "text/plain": [
       "  year state      state_po state_fips state_cen state_ic office             \n",
       "1 2018 California CA       6          93        71       U.S. Representative\n",
       "2 2018 California CA       6          93        71       U.S. Representative\n",
       "3 2018 California CA       6          93        71       U.S. Representative\n",
       "4 2018 California CA       6          93        71       U.S. Representative\n",
       "5 2018 California CA       6          93        71       U.S. Representative\n",
       "6 2018 California CA       6          93        71       U.S. Representative\n",
       "  district    stage special candidate       party      writein mode \n",
       "1 District 1  gen   FALSE   Audrey Denney   democrat   FALSE   total\n",
       "2 District 1  gen   FALSE   Doug La Malfa   republican FALSE   total\n",
       "3 District 10 gen   FALSE   Jeff Denham     republican FALSE   total\n",
       "4 District 10 gen   FALSE   Josh Harder     democrat   FALSE   total\n",
       "5 District 11 gen   FALSE   John Fitzgerald republican FALSE   total\n",
       "6 District 11 gen   FALSE   Mark DeSaulnier democrat   FALSE   total\n",
       "  candidatevotes totalvotes unofficial version \n",
       "1 263096         583188     FALSE      20190131\n",
       "2 320092         583188     FALSE      20190131\n",
       "3 211910         443800     FALSE      20190131\n",
       "4 231890         443800     FALSE      20190131\n",
       "5 142624         551362     FALSE      20190131\n",
       "6 408738         551362     FALSE      20190131"
      ]
     },
     "metadata": {},
     "output_type": "display_data"
    }
   ],
   "source": [
    "## Check  data structure\n",
    "\n",
    "head(CD_results_2018)"
   ]
  },
  {
   "cell_type": "code",
   "execution_count": 46,
   "metadata": {},
   "outputs": [
    {
     "data": {
      "text/html": [
       "<table>\n",
       "<caption>A tibble: 6 × 14</caption>\n",
       "<thead>\n",
       "\t<tr><th scope=col>state</th><th scope=col>district</th><th scope=col>office</th><th scope=col>candidate_democrat</th><th scope=col>candidate_republican</th><th scope=col>candidate_other</th><th scope=col>total_votes_democrat</th><th scope=col>total_votes_republican</th><th scope=col>total_votes_other</th><th scope=col>vote_share_dem</th><th scope=col>vote_share_rep</th><th scope=col>vote_share_other</th><th scope=col>winner_party</th><th scope=col>year</th></tr>\n",
       "\t<tr><th scope=col>&lt;chr&gt;</th><th scope=col>&lt;chr&gt;</th><th scope=col>&lt;chr&gt;</th><th scope=col>&lt;chr&gt;</th><th scope=col>&lt;chr&gt;</th><th scope=col>&lt;chr&gt;</th><th scope=col>&lt;dbl&gt;</th><th scope=col>&lt;dbl&gt;</th><th scope=col>&lt;dbl&gt;</th><th scope=col>&lt;dbl&gt;</th><th scope=col>&lt;dbl&gt;</th><th scope=col>&lt;dbl&gt;</th><th scope=col>&lt;chr&gt;</th><th scope=col>&lt;dbl&gt;</th></tr>\n",
       "</thead>\n",
       "<tbody>\n",
       "\t<tr><td>California</td><td>District 1 </td><td>U.S. Representative</td><td>Audrey Denney  </td><td>No candidate   </td><td>No candidate</td><td>263096</td><td>     0</td><td>0</td><td>0.4511341</td><td>       NA</td><td>NA</td><td>Democrat  </td><td>2018</td></tr>\n",
       "\t<tr><td>California</td><td>District 1 </td><td>U.S. Representative</td><td>No candidate   </td><td>Doug La Malfa  </td><td>No candidate</td><td>     0</td><td>320092</td><td>0</td><td>       NA</td><td>0.5488659</td><td>NA</td><td>Republican</td><td>2018</td></tr>\n",
       "\t<tr><td>California</td><td>District 10</td><td>U.S. Representative</td><td>No candidate   </td><td>Jeff Denham    </td><td>No candidate</td><td>     0</td><td>211910</td><td>0</td><td>       NA</td><td>0.4774899</td><td>NA</td><td>Republican</td><td>2018</td></tr>\n",
       "\t<tr><td>California</td><td>District 10</td><td>U.S. Representative</td><td>Josh Harder    </td><td>No candidate   </td><td>No candidate</td><td>231890</td><td>     0</td><td>0</td><td>0.5225101</td><td>       NA</td><td>NA</td><td>Democrat  </td><td>2018</td></tr>\n",
       "\t<tr><td>California</td><td>District 11</td><td>U.S. Representative</td><td>No candidate   </td><td>John Fitzgerald</td><td>No candidate</td><td>     0</td><td>142624</td><td>0</td><td>       NA</td><td>0.2586758</td><td>NA</td><td>Republican</td><td>2018</td></tr>\n",
       "\t<tr><td>California</td><td>District 11</td><td>U.S. Representative</td><td>Mark DeSaulnier</td><td>No candidate   </td><td>No candidate</td><td>408738</td><td>     0</td><td>0</td><td>0.7413242</td><td>       NA</td><td>NA</td><td>Democrat  </td><td>2018</td></tr>\n",
       "</tbody>\n",
       "</table>\n"
      ],
      "text/latex": [
       "A tibble: 6 × 14\n",
       "\\begin{tabular}{llllllllllllll}\n",
       " state & district & office & candidate\\_democrat & candidate\\_republican & candidate\\_other & total\\_votes\\_democrat & total\\_votes\\_republican & total\\_votes\\_other & vote\\_share\\_dem & vote\\_share\\_rep & vote\\_share\\_other & winner\\_party & year\\\\\n",
       " <chr> & <chr> & <chr> & <chr> & <chr> & <chr> & <dbl> & <dbl> & <dbl> & <dbl> & <dbl> & <dbl> & <chr> & <dbl>\\\\\n",
       "\\hline\n",
       "\t California & District 1  & U.S. Representative & Audrey Denney   & No candidate    & No candidate & 263096 &      0 & 0 & 0.4511341 &        NA & NA & Democrat   & 2018\\\\\n",
       "\t California & District 1  & U.S. Representative & No candidate    & Doug La Malfa   & No candidate &      0 & 320092 & 0 &        NA & 0.5488659 & NA & Republican & 2018\\\\\n",
       "\t California & District 10 & U.S. Representative & No candidate    & Jeff Denham     & No candidate &      0 & 211910 & 0 &        NA & 0.4774899 & NA & Republican & 2018\\\\\n",
       "\t California & District 10 & U.S. Representative & Josh Harder     & No candidate    & No candidate & 231890 &      0 & 0 & 0.5225101 &        NA & NA & Democrat   & 2018\\\\\n",
       "\t California & District 11 & U.S. Representative & No candidate    & John Fitzgerald & No candidate &      0 & 142624 & 0 &        NA & 0.2586758 & NA & Republican & 2018\\\\\n",
       "\t California & District 11 & U.S. Representative & Mark DeSaulnier & No candidate    & No candidate & 408738 &      0 & 0 & 0.7413242 &        NA & NA & Democrat   & 2018\\\\\n",
       "\\end{tabular}\n"
      ],
      "text/markdown": [
       "\n",
       "A tibble: 6 × 14\n",
       "\n",
       "| state &lt;chr&gt; | district &lt;chr&gt; | office &lt;chr&gt; | candidate_democrat &lt;chr&gt; | candidate_republican &lt;chr&gt; | candidate_other &lt;chr&gt; | total_votes_democrat &lt;dbl&gt; | total_votes_republican &lt;dbl&gt; | total_votes_other &lt;dbl&gt; | vote_share_dem &lt;dbl&gt; | vote_share_rep &lt;dbl&gt; | vote_share_other &lt;dbl&gt; | winner_party &lt;chr&gt; | year &lt;dbl&gt; |\n",
       "|---|---|---|---|---|---|---|---|---|---|---|---|---|---|\n",
       "| California | District 1  | U.S. Representative | Audrey Denney   | No candidate    | No candidate | 263096 |      0 | 0 | 0.4511341 |        NA | NA | Democrat   | 2018 |\n",
       "| California | District 1  | U.S. Representative | No candidate    | Doug La Malfa   | No candidate |      0 | 320092 | 0 |        NA | 0.5488659 | NA | Republican | 2018 |\n",
       "| California | District 10 | U.S. Representative | No candidate    | Jeff Denham     | No candidate |      0 | 211910 | 0 |        NA | 0.4774899 | NA | Republican | 2018 |\n",
       "| California | District 10 | U.S. Representative | Josh Harder     | No candidate    | No candidate | 231890 |      0 | 0 | 0.5225101 |        NA | NA | Democrat   | 2018 |\n",
       "| California | District 11 | U.S. Representative | No candidate    | John Fitzgerald | No candidate |      0 | 142624 | 0 |        NA | 0.2586758 | NA | Republican | 2018 |\n",
       "| California | District 11 | U.S. Representative | Mark DeSaulnier | No candidate    | No candidate | 408738 |      0 | 0 | 0.7413242 |        NA | NA | Democrat   | 2018 |\n",
       "\n"
      ],
      "text/plain": [
       "  state      district    office              candidate_democrat\n",
       "1 California District 1  U.S. Representative Audrey Denney     \n",
       "2 California District 1  U.S. Representative No candidate      \n",
       "3 California District 10 U.S. Representative No candidate      \n",
       "4 California District 10 U.S. Representative Josh Harder       \n",
       "5 California District 11 U.S. Representative No candidate      \n",
       "6 California District 11 U.S. Representative Mark DeSaulnier   \n",
       "  candidate_republican candidate_other total_votes_democrat\n",
       "1 No candidate         No candidate    263096              \n",
       "2 Doug La Malfa        No candidate         0              \n",
       "3 Jeff Denham          No candidate         0              \n",
       "4 No candidate         No candidate    231890              \n",
       "5 John Fitzgerald      No candidate         0              \n",
       "6 No candidate         No candidate    408738              \n",
       "  total_votes_republican total_votes_other vote_share_dem vote_share_rep\n",
       "1      0                 0                 0.4511341             NA     \n",
       "2 320092                 0                        NA      0.5488659     \n",
       "3 211910                 0                        NA      0.4774899     \n",
       "4      0                 0                 0.5225101             NA     \n",
       "5 142624                 0                        NA      0.2586758     \n",
       "6      0                 0                 0.7413242             NA     \n",
       "  vote_share_other winner_party year\n",
       "1 NA               Democrat     2018\n",
       "2 NA               Republican   2018\n",
       "3 NA               Republican   2018\n",
       "4 NA               Democrat     2018\n",
       "5 NA               Republican   2018\n",
       "6 NA               Democrat     2018"
      ]
     },
     "metadata": {},
     "output_type": "display_data"
    },
    {
     "name": "stdout",
     "output_type": "stream",
     "text": [
      "Rows: 1,255\n",
      "Columns: 14\n",
      "$ state                  \u001b[3m\u001b[90m<chr>\u001b[39m\u001b[23m \"California\", \"California\", \"California\", \"Cal…\n",
      "$ district               \u001b[3m\u001b[90m<chr>\u001b[39m\u001b[23m \"District 1\", \"District 1\", \"District 10\", \"Di…\n",
      "$ office                 \u001b[3m\u001b[90m<chr>\u001b[39m\u001b[23m \"U.S. Representative\", \"U.S. Representative\", …\n",
      "$ candidate_democrat     \u001b[3m\u001b[90m<chr>\u001b[39m\u001b[23m \"Audrey Denney\", \"No candidate\", \"No candidate…\n",
      "$ candidate_republican   \u001b[3m\u001b[90m<chr>\u001b[39m\u001b[23m \"No candidate\", \"Doug La Malfa\", \"Jeff Denham\"…\n",
      "$ candidate_other        \u001b[3m\u001b[90m<chr>\u001b[39m\u001b[23m \"No candidate\", \"No candidate\", \"No candidate\"…\n",
      "$ total_votes_democrat   \u001b[3m\u001b[90m<dbl>\u001b[39m\u001b[23m 263096, 0, 0, 231890, 0, 408738, 0, 550584, 52…\n",
      "$ total_votes_republican \u001b[3m\u001b[90m<dbl>\u001b[39m\u001b[23m 0, 320092, 211910, 0, 142624, 0, 83560, 0, 0, …\n",
      "$ total_votes_other      \u001b[3m\u001b[90m<dbl>\u001b[39m\u001b[23m 0, 0, 0, 0, 0, 0, 0, 0, 0, 68514, 0, 0, 0, 0, …\n",
      "$ vote_share_dem         \u001b[3m\u001b[90m<dbl>\u001b[39m\u001b[23m 0.4511341, NA, NA, 0.5225101, NA, 0.7413242, N…\n",
      "$ vote_share_rep         \u001b[3m\u001b[90m<dbl>\u001b[39m\u001b[23m NA, 0.5488659, 0.4774899, NA, 0.2586758, NA, 0…\n",
      "$ vote_share_other       \u001b[3m\u001b[90m<dbl>\u001b[39m\u001b[23m NA, NA, NA, NA, NA, NA, NA, NA, NA, 0.1161896,…\n",
      "$ winner_party           \u001b[3m\u001b[90m<chr>\u001b[39m\u001b[23m \"Democrat\", \"Republican\", \"Republican\", \"Democ…\n",
      "$ year                   \u001b[3m\u001b[90m<dbl>\u001b[39m\u001b[23m 2018, 2018, 2018, 2018, 2018, 2018, 2018, 2018…\n"
     ]
    }
   ],
   "source": [
    "## Reformat data to wide\n",
    "\n",
    "CD_results_2018_wide <- CD_results_2018 %>%\n",
    "    filter(special == FALSE, writein == FALSE, stage == \"gen\") %>%\n",
    "    select(-c(\"state_fips\", \"state_cen\", \"state_ic\", \"special\", \"writein\", \"mode\", \"unofficial\", \"version\")) %>%\n",
    "    mutate(row = row_number(),\n",
    "          party = replace(party, !party %in% c(\"democrat\",\"republican\"), \"other\"),\n",
    "          vote_share = candidatevotes / totalvotes) %>%\n",
    "    rename(total_votes = candidatevotes) %>%\n",
    "    pivot_wider(id_cols = c(\"state\", \"district\", \"office\", \"row\"), names_from = party, values_from = c(\"candidate\", \"total_votes\", \"vote_share\")) %>%\n",
    "    mutate(candidate_democrat = replace_na(candidate_democrat, \"No candidate\"), \n",
    "            candidate_republican = replace_na(candidate_republican, \"No candidate\"),\n",
    "            candidate_other = replace_na(candidate_other, \"No candidate\"),\n",
    "            total_votes_democrat = replace_na(total_votes_democrat, 0),\n",
    "            total_votes_republican = replace_na(total_votes_republican, 0),\n",
    "            total_votes_other = replace_na(total_votes_other, 0),\n",
    "            winner_party = case_when(total_votes_democrat > total_votes_republican & total_votes_democrat > total_votes_other ~ \"Democrat\",\n",
    "                              total_votes_republican > total_votes_democrat & total_votes_republican > total_votes_other ~ \"Republican\",\n",
    "                              TRUE ~ \"Other\")) %>%\n",
    "    select(-row) %>%\n",
    "    rename(vote_share_dem = vote_share_democrat,\n",
    "          vote_share_rep = vote_share_republican) %>%\n",
    "    mutate(year = 2018)\n",
    "\n",
    "\n",
    "head(CD_results_2018_wide)\n",
    "\n",
    "glimpse(CD_results_2018_wide)\n",
    "\n"
   ]
  },
  {
   "cell_type": "code",
   "execution_count": 45,
   "metadata": {},
   "outputs": [],
   "source": [
    "## Gender fill\n",
    "# Function to fill predicted gender\n",
    "gender_fill <- function(x) { \n",
    "  n <- length(x)\n",
    "  x <- word(x) ## removes last names, gender() only works on first name strings\n",
    "  gender_rep <- rep(\"a\", n)\n",
    "  for (i in 1:n) {\n",
    "      if (x[i] == \"No\") {\n",
    "        gender_rep[i] <- \"N/A\" ## handles no candidate\n",
    "      } else if (length(pull(gender(x[i]), var = gender)) == 0) {\n",
    "        gender_rep[i] <- \"Unknown\" ## handles names the function can't predict\n",
    "      }  else {\n",
    "      gender_rep[i] <- pull(gender(as.character(x[i])), var = gender)\n",
    "      }\n",
    "    }\n",
    "    gender_rep\n",
    "  }\n",
    "\n",
    "\n",
    "## First if checks for \"No\" because \"No candidate\" has been truncated to \"No\", needs to be changed if databases have different indicators for no candidate\n",
    "## Second if checks for length == 0 because gender() generates an empty table if it is unable to predict a gender\n",
    "## Else applies gender() to the rest of the cases and pulls the gender result out of the results (gender function creates a table with ancillary info), coercion to character \n",
    "## because gender() only works on character type\n",
    "\n",
    "\n"
   ]
  },
  {
   "cell_type": "code",
   "execution_count": 50,
   "metadata": {},
   "outputs": [
    {
     "data": {
      "text/html": [
       "<table>\n",
       "<caption>A tibble: 6 × 16</caption>\n",
       "<thead>\n",
       "\t<tr><th scope=col>state</th><th scope=col>district</th><th scope=col>office</th><th scope=col>candidate_democrat</th><th scope=col>candidate_republican</th><th scope=col>candidate_other</th><th scope=col>total_votes_democrat</th><th scope=col>total_votes_republican</th><th scope=col>total_votes_other</th><th scope=col>vote_share_dem</th><th scope=col>vote_share_rep</th><th scope=col>vote_share_other</th><th scope=col>winner_party</th><th scope=col>year</th><th scope=col>gender_dem</th><th scope=col>gender_rep</th></tr>\n",
       "\t<tr><th scope=col>&lt;chr&gt;</th><th scope=col>&lt;chr&gt;</th><th scope=col>&lt;chr&gt;</th><th scope=col>&lt;chr&gt;</th><th scope=col>&lt;chr&gt;</th><th scope=col>&lt;chr&gt;</th><th scope=col>&lt;dbl&gt;</th><th scope=col>&lt;dbl&gt;</th><th scope=col>&lt;dbl&gt;</th><th scope=col>&lt;dbl&gt;</th><th scope=col>&lt;dbl&gt;</th><th scope=col>&lt;dbl&gt;</th><th scope=col>&lt;chr&gt;</th><th scope=col>&lt;dbl&gt;</th><th scope=col>&lt;chr&gt;</th><th scope=col>&lt;chr&gt;</th></tr>\n",
       "</thead>\n",
       "<tbody>\n",
       "\t<tr><td>California</td><td>District 1 </td><td>U.S. Representative</td><td>Audrey Denney  </td><td>No candidate   </td><td>No candidate</td><td>263096</td><td>     0</td><td>0</td><td>0.4511341</td><td>       NA</td><td>NA</td><td>Democrat  </td><td>2018</td><td>female</td><td>N/A </td></tr>\n",
       "\t<tr><td>California</td><td>District 1 </td><td>U.S. Representative</td><td>No candidate   </td><td>Doug La Malfa  </td><td>No candidate</td><td>     0</td><td>320092</td><td>0</td><td>       NA</td><td>0.5488659</td><td>NA</td><td>Republican</td><td>2018</td><td>N/A   </td><td>male</td></tr>\n",
       "\t<tr><td>California</td><td>District 10</td><td>U.S. Representative</td><td>No candidate   </td><td>Jeff Denham    </td><td>No candidate</td><td>     0</td><td>211910</td><td>0</td><td>       NA</td><td>0.4774899</td><td>NA</td><td>Republican</td><td>2018</td><td>N/A   </td><td>male</td></tr>\n",
       "\t<tr><td>California</td><td>District 10</td><td>U.S. Representative</td><td>Josh Harder    </td><td>No candidate   </td><td>No candidate</td><td>231890</td><td>     0</td><td>0</td><td>0.5225101</td><td>       NA</td><td>NA</td><td>Democrat  </td><td>2018</td><td>male  </td><td>N/A </td></tr>\n",
       "\t<tr><td>California</td><td>District 11</td><td>U.S. Representative</td><td>No candidate   </td><td>John Fitzgerald</td><td>No candidate</td><td>     0</td><td>142624</td><td>0</td><td>       NA</td><td>0.2586758</td><td>NA</td><td>Republican</td><td>2018</td><td>N/A   </td><td>male</td></tr>\n",
       "\t<tr><td>California</td><td>District 11</td><td>U.S. Representative</td><td>Mark DeSaulnier</td><td>No candidate   </td><td>No candidate</td><td>408738</td><td>     0</td><td>0</td><td>0.7413242</td><td>       NA</td><td>NA</td><td>Democrat  </td><td>2018</td><td>male  </td><td>N/A </td></tr>\n",
       "</tbody>\n",
       "</table>\n"
      ],
      "text/latex": [
       "A tibble: 6 × 16\n",
       "\\begin{tabular}{llllllllllllllll}\n",
       " state & district & office & candidate\\_democrat & candidate\\_republican & candidate\\_other & total\\_votes\\_democrat & total\\_votes\\_republican & total\\_votes\\_other & vote\\_share\\_dem & vote\\_share\\_rep & vote\\_share\\_other & winner\\_party & year & gender\\_dem & gender\\_rep\\\\\n",
       " <chr> & <chr> & <chr> & <chr> & <chr> & <chr> & <dbl> & <dbl> & <dbl> & <dbl> & <dbl> & <dbl> & <chr> & <dbl> & <chr> & <chr>\\\\\n",
       "\\hline\n",
       "\t California & District 1  & U.S. Representative & Audrey Denney   & No candidate    & No candidate & 263096 &      0 & 0 & 0.4511341 &        NA & NA & Democrat   & 2018 & female & N/A \\\\\n",
       "\t California & District 1  & U.S. Representative & No candidate    & Doug La Malfa   & No candidate &      0 & 320092 & 0 &        NA & 0.5488659 & NA & Republican & 2018 & N/A    & male\\\\\n",
       "\t California & District 10 & U.S. Representative & No candidate    & Jeff Denham     & No candidate &      0 & 211910 & 0 &        NA & 0.4774899 & NA & Republican & 2018 & N/A    & male\\\\\n",
       "\t California & District 10 & U.S. Representative & Josh Harder     & No candidate    & No candidate & 231890 &      0 & 0 & 0.5225101 &        NA & NA & Democrat   & 2018 & male   & N/A \\\\\n",
       "\t California & District 11 & U.S. Representative & No candidate    & John Fitzgerald & No candidate &      0 & 142624 & 0 &        NA & 0.2586758 & NA & Republican & 2018 & N/A    & male\\\\\n",
       "\t California & District 11 & U.S. Representative & Mark DeSaulnier & No candidate    & No candidate & 408738 &      0 & 0 & 0.7413242 &        NA & NA & Democrat   & 2018 & male   & N/A \\\\\n",
       "\\end{tabular}\n"
      ],
      "text/markdown": [
       "\n",
       "A tibble: 6 × 16\n",
       "\n",
       "| state &lt;chr&gt; | district &lt;chr&gt; | office &lt;chr&gt; | candidate_democrat &lt;chr&gt; | candidate_republican &lt;chr&gt; | candidate_other &lt;chr&gt; | total_votes_democrat &lt;dbl&gt; | total_votes_republican &lt;dbl&gt; | total_votes_other &lt;dbl&gt; | vote_share_dem &lt;dbl&gt; | vote_share_rep &lt;dbl&gt; | vote_share_other &lt;dbl&gt; | winner_party &lt;chr&gt; | year &lt;dbl&gt; | gender_dem &lt;chr&gt; | gender_rep &lt;chr&gt; |\n",
       "|---|---|---|---|---|---|---|---|---|---|---|---|---|---|---|---|\n",
       "| California | District 1  | U.S. Representative | Audrey Denney   | No candidate    | No candidate | 263096 |      0 | 0 | 0.4511341 |        NA | NA | Democrat   | 2018 | female | N/A  |\n",
       "| California | District 1  | U.S. Representative | No candidate    | Doug La Malfa   | No candidate |      0 | 320092 | 0 |        NA | 0.5488659 | NA | Republican | 2018 | N/A    | male |\n",
       "| California | District 10 | U.S. Representative | No candidate    | Jeff Denham     | No candidate |      0 | 211910 | 0 |        NA | 0.4774899 | NA | Republican | 2018 | N/A    | male |\n",
       "| California | District 10 | U.S. Representative | Josh Harder     | No candidate    | No candidate | 231890 |      0 | 0 | 0.5225101 |        NA | NA | Democrat   | 2018 | male   | N/A  |\n",
       "| California | District 11 | U.S. Representative | No candidate    | John Fitzgerald | No candidate |      0 | 142624 | 0 |        NA | 0.2586758 | NA | Republican | 2018 | N/A    | male |\n",
       "| California | District 11 | U.S. Representative | Mark DeSaulnier | No candidate    | No candidate | 408738 |      0 | 0 | 0.7413242 |        NA | NA | Democrat   | 2018 | male   | N/A  |\n",
       "\n"
      ],
      "text/plain": [
       "  state      district    office              candidate_democrat\n",
       "1 California District 1  U.S. Representative Audrey Denney     \n",
       "2 California District 1  U.S. Representative No candidate      \n",
       "3 California District 10 U.S. Representative No candidate      \n",
       "4 California District 10 U.S. Representative Josh Harder       \n",
       "5 California District 11 U.S. Representative No candidate      \n",
       "6 California District 11 U.S. Representative Mark DeSaulnier   \n",
       "  candidate_republican candidate_other total_votes_democrat\n",
       "1 No candidate         No candidate    263096              \n",
       "2 Doug La Malfa        No candidate         0              \n",
       "3 Jeff Denham          No candidate         0              \n",
       "4 No candidate         No candidate    231890              \n",
       "5 John Fitzgerald      No candidate         0              \n",
       "6 No candidate         No candidate    408738              \n",
       "  total_votes_republican total_votes_other vote_share_dem vote_share_rep\n",
       "1      0                 0                 0.4511341             NA     \n",
       "2 320092                 0                        NA      0.5488659     \n",
       "3 211910                 0                        NA      0.4774899     \n",
       "4      0                 0                 0.5225101             NA     \n",
       "5 142624                 0                        NA      0.2586758     \n",
       "6      0                 0                 0.7413242             NA     \n",
       "  vote_share_other winner_party year gender_dem gender_rep\n",
       "1 NA               Democrat     2018 female     N/A       \n",
       "2 NA               Republican   2018 N/A        male      \n",
       "3 NA               Republican   2018 N/A        male      \n",
       "4 NA               Democrat     2018 male       N/A       \n",
       "5 NA               Republican   2018 N/A        male      \n",
       "6 NA               Democrat     2018 male       N/A       "
      ]
     },
     "metadata": {},
     "output_type": "display_data"
    }
   ],
   "source": [
    "## Create gender columns, extremely extremely slow (like 20-30min at least), but works\n",
    "\n",
    "CD_results_2018_wide$gender_dem <- gender_fill(CD_results_2018_wide$candidate_democrat)\n",
    "\n",
    "CD_results_2018_wide$gender_rep <- gender_fill(CD_results_2018_wide$candidate_republican)\n",
    "\n",
    "head(CD_results_2018_wide)"
   ]
  },
  {
   "cell_type": "code",
   "execution_count": 51,
   "metadata": {},
   "outputs": [],
   "source": [
    "## Fill in winner gender\n",
    "\n"
   ]
  },
  {
   "cell_type": "code",
   "execution_count": null,
   "metadata": {},
   "outputs": [],
   "source": [
    "## Match CD to presidential results\n",
    "\n",
    "\n"
   ]
  },
  {
   "cell_type": "code",
   "execution_count": null,
   "metadata": {},
   "outputs": [],
   "source": []
  },
  {
   "cell_type": "code",
   "execution_count": 48,
   "metadata": {},
   "outputs": [],
   "source": [
    "## Save wide dataset"
   ]
  },
  {
   "cell_type": "code",
   "execution_count": 49,
   "metadata": {},
   "outputs": [],
   "source": [
    "## Reformat to long dataset"
   ]
  },
  {
   "cell_type": "code",
   "execution_count": null,
   "metadata": {},
   "outputs": [],
   "source": [
    "## Save long dataset"
   ]
  },
  {
   "cell_type": "code",
   "execution_count": null,
   "metadata": {},
   "outputs": [],
   "source": []
  },
  {
   "cell_type": "code",
   "execution_count": null,
   "metadata": {},
   "outputs": [],
   "source": []
  }
 ],
 "metadata": {
  "kernelspec": {
   "display_name": "R",
   "language": "R",
   "name": "ir"
  },
  "language_info": {
   "codemirror_mode": "r",
   "file_extension": ".r",
   "mimetype": "text/x-r-source",
   "name": "R",
   "pygments_lexer": "r",
   "version": "4.0.0"
  }
 },
 "nbformat": 4,
 "nbformat_minor": 4
}
