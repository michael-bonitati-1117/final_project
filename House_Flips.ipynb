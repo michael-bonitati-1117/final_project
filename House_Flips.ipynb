{
 "cells": [
  {
   "cell_type": "code",
   "execution_count": 37,
   "metadata": {},
   "outputs": [
    {
     "name": "stderr",
     "output_type": "stream",
     "text": [
      "Updating HTML index of packages in '.Library'\n",
      "\n",
      "Making 'packages.html' ...\n",
      " done\n",
      "\n",
      "Updating HTML index of packages in '.Library'\n",
      "\n",
      "Making 'packages.html' ...\n",
      " done\n",
      "\n"
     ]
    }
   ],
   "source": [
    "## Install gender package and linked database\n",
    "install.packages(\"gender\")\n",
    "install.packages(\"genderdata\", repos = \"https://dev.ropensci.org\", type = \"source\")\n",
    "\n",
    "## Packages\n",
    "library(dplyr)\n",
    "library(stringr)\n",
    "library(broom)\n",
    "library(ggplot2)\n",
    "library(tidyr)\n",
    "library(gender)\n",
    "library(stringr)\n",
    "\n",
    "\n"
   ]
  },
  {
   "cell_type": "code",
   "execution_count": 40,
   "metadata": {},
   "outputs": [
    {
     "data": {
      "text/html": [
       "<table>\n",
       "<caption>A data.frame: 6 × 18</caption>\n",
       "<thead>\n",
       "\t<tr><th></th><th scope=col>year</th><th scope=col>state</th><th scope=col>state_po</th><th scope=col>state_fips</th><th scope=col>state_cen</th><th scope=col>state_ic</th><th scope=col>office</th><th scope=col>district</th><th scope=col>stage</th><th scope=col>special</th><th scope=col>candidate</th><th scope=col>party</th><th scope=col>writein</th><th scope=col>mode</th><th scope=col>candidatevotes</th><th scope=col>totalvotes</th><th scope=col>unofficial</th><th scope=col>version</th></tr>\n",
       "\t<tr><th></th><th scope=col>&lt;int&gt;</th><th scope=col>&lt;chr&gt;</th><th scope=col>&lt;chr&gt;</th><th scope=col>&lt;int&gt;</th><th scope=col>&lt;int&gt;</th><th scope=col>&lt;int&gt;</th><th scope=col>&lt;chr&gt;</th><th scope=col>&lt;chr&gt;</th><th scope=col>&lt;chr&gt;</th><th scope=col>&lt;lgl&gt;</th><th scope=col>&lt;chr&gt;</th><th scope=col>&lt;chr&gt;</th><th scope=col>&lt;lgl&gt;</th><th scope=col>&lt;chr&gt;</th><th scope=col>&lt;int&gt;</th><th scope=col>&lt;int&gt;</th><th scope=col>&lt;lgl&gt;</th><th scope=col>&lt;int&gt;</th></tr>\n",
       "</thead>\n",
       "<tbody>\n",
       "\t<tr><th scope=row>1</th><td>2018</td><td>California</td><td>CA</td><td>6</td><td>93</td><td>71</td><td>U.S. Representative</td><td>District 1 </td><td>gen</td><td>FALSE</td><td>Audrey Denney  </td><td>democrat  </td><td>FALSE</td><td>total</td><td>263096</td><td>583188</td><td>FALSE</td><td>20190131</td></tr>\n",
       "\t<tr><th scope=row>2</th><td>2018</td><td>California</td><td>CA</td><td>6</td><td>93</td><td>71</td><td>U.S. Representative</td><td>District 1 </td><td>gen</td><td>FALSE</td><td>Doug La Malfa  </td><td>republican</td><td>FALSE</td><td>total</td><td>320092</td><td>583188</td><td>FALSE</td><td>20190131</td></tr>\n",
       "\t<tr><th scope=row>3</th><td>2018</td><td>California</td><td>CA</td><td>6</td><td>93</td><td>71</td><td>U.S. Representative</td><td>District 10</td><td>gen</td><td>FALSE</td><td>Jeff Denham    </td><td>republican</td><td>FALSE</td><td>total</td><td>211910</td><td>443800</td><td>FALSE</td><td>20190131</td></tr>\n",
       "\t<tr><th scope=row>4</th><td>2018</td><td>California</td><td>CA</td><td>6</td><td>93</td><td>71</td><td>U.S. Representative</td><td>District 10</td><td>gen</td><td>FALSE</td><td>Josh Harder    </td><td>democrat  </td><td>FALSE</td><td>total</td><td>231890</td><td>443800</td><td>FALSE</td><td>20190131</td></tr>\n",
       "\t<tr><th scope=row>5</th><td>2018</td><td>California</td><td>CA</td><td>6</td><td>93</td><td>71</td><td>U.S. Representative</td><td>District 11</td><td>gen</td><td>FALSE</td><td>John Fitzgerald</td><td>republican</td><td>FALSE</td><td>total</td><td>142624</td><td>551362</td><td>FALSE</td><td>20190131</td></tr>\n",
       "\t<tr><th scope=row>6</th><td>2018</td><td>California</td><td>CA</td><td>6</td><td>93</td><td>71</td><td>U.S. Representative</td><td>District 11</td><td>gen</td><td>FALSE</td><td>Mark DeSaulnier</td><td>democrat  </td><td>FALSE</td><td>total</td><td>408738</td><td>551362</td><td>FALSE</td><td>20190131</td></tr>\n",
       "</tbody>\n",
       "</table>\n"
      ],
      "text/latex": [
       "A data.frame: 6 × 18\n",
       "\\begin{tabular}{r|llllllllllllllllll}\n",
       "  & year & state & state\\_po & state\\_fips & state\\_cen & state\\_ic & office & district & stage & special & candidate & party & writein & mode & candidatevotes & totalvotes & unofficial & version\\\\\n",
       "  & <int> & <chr> & <chr> & <int> & <int> & <int> & <chr> & <chr> & <chr> & <lgl> & <chr> & <chr> & <lgl> & <chr> & <int> & <int> & <lgl> & <int>\\\\\n",
       "\\hline\n",
       "\t1 & 2018 & California & CA & 6 & 93 & 71 & U.S. Representative & District 1  & gen & FALSE & Audrey Denney   & democrat   & FALSE & total & 263096 & 583188 & FALSE & 20190131\\\\\n",
       "\t2 & 2018 & California & CA & 6 & 93 & 71 & U.S. Representative & District 1  & gen & FALSE & Doug La Malfa   & republican & FALSE & total & 320092 & 583188 & FALSE & 20190131\\\\\n",
       "\t3 & 2018 & California & CA & 6 & 93 & 71 & U.S. Representative & District 10 & gen & FALSE & Jeff Denham     & republican & FALSE & total & 211910 & 443800 & FALSE & 20190131\\\\\n",
       "\t4 & 2018 & California & CA & 6 & 93 & 71 & U.S. Representative & District 10 & gen & FALSE & Josh Harder     & democrat   & FALSE & total & 231890 & 443800 & FALSE & 20190131\\\\\n",
       "\t5 & 2018 & California & CA & 6 & 93 & 71 & U.S. Representative & District 11 & gen & FALSE & John Fitzgerald & republican & FALSE & total & 142624 & 551362 & FALSE & 20190131\\\\\n",
       "\t6 & 2018 & California & CA & 6 & 93 & 71 & U.S. Representative & District 11 & gen & FALSE & Mark DeSaulnier & democrat   & FALSE & total & 408738 & 551362 & FALSE & 20190131\\\\\n",
       "\\end{tabular}\n"
      ],
      "text/markdown": [
       "\n",
       "A data.frame: 6 × 18\n",
       "\n",
       "| <!--/--> | year &lt;int&gt; | state &lt;chr&gt; | state_po &lt;chr&gt; | state_fips &lt;int&gt; | state_cen &lt;int&gt; | state_ic &lt;int&gt; | office &lt;chr&gt; | district &lt;chr&gt; | stage &lt;chr&gt; | special &lt;lgl&gt; | candidate &lt;chr&gt; | party &lt;chr&gt; | writein &lt;lgl&gt; | mode &lt;chr&gt; | candidatevotes &lt;int&gt; | totalvotes &lt;int&gt; | unofficial &lt;lgl&gt; | version &lt;int&gt; |\n",
       "|---|---|---|---|---|---|---|---|---|---|---|---|---|---|---|---|---|---|---|\n",
       "| 1 | 2018 | California | CA | 6 | 93 | 71 | U.S. Representative | District 1  | gen | FALSE | Audrey Denney   | democrat   | FALSE | total | 263096 | 583188 | FALSE | 20190131 |\n",
       "| 2 | 2018 | California | CA | 6 | 93 | 71 | U.S. Representative | District 1  | gen | FALSE | Doug La Malfa   | republican | FALSE | total | 320092 | 583188 | FALSE | 20190131 |\n",
       "| 3 | 2018 | California | CA | 6 | 93 | 71 | U.S. Representative | District 10 | gen | FALSE | Jeff Denham     | republican | FALSE | total | 211910 | 443800 | FALSE | 20190131 |\n",
       "| 4 | 2018 | California | CA | 6 | 93 | 71 | U.S. Representative | District 10 | gen | FALSE | Josh Harder     | democrat   | FALSE | total | 231890 | 443800 | FALSE | 20190131 |\n",
       "| 5 | 2018 | California | CA | 6 | 93 | 71 | U.S. Representative | District 11 | gen | FALSE | John Fitzgerald | republican | FALSE | total | 142624 | 551362 | FALSE | 20190131 |\n",
       "| 6 | 2018 | California | CA | 6 | 93 | 71 | U.S. Representative | District 11 | gen | FALSE | Mark DeSaulnier | democrat   | FALSE | total | 408738 | 551362 | FALSE | 20190131 |\n",
       "\n"
      ],
      "text/plain": [
       "  year state      state_po state_fips state_cen state_ic office             \n",
       "1 2018 California CA       6          93        71       U.S. Representative\n",
       "2 2018 California CA       6          93        71       U.S. Representative\n",
       "3 2018 California CA       6          93        71       U.S. Representative\n",
       "4 2018 California CA       6          93        71       U.S. Representative\n",
       "5 2018 California CA       6          93        71       U.S. Representative\n",
       "6 2018 California CA       6          93        71       U.S. Representative\n",
       "  district    stage special candidate       party      writein mode \n",
       "1 District 1  gen   FALSE   Audrey Denney   democrat   FALSE   total\n",
       "2 District 1  gen   FALSE   Doug La Malfa   republican FALSE   total\n",
       "3 District 10 gen   FALSE   Jeff Denham     republican FALSE   total\n",
       "4 District 10 gen   FALSE   Josh Harder     democrat   FALSE   total\n",
       "5 District 11 gen   FALSE   John Fitzgerald republican FALSE   total\n",
       "6 District 11 gen   FALSE   Mark DeSaulnier democrat   FALSE   total\n",
       "  candidatevotes totalvotes unofficial version \n",
       "1 263096         583188     FALSE      20190131\n",
       "2 320092         583188     FALSE      20190131\n",
       "3 211910         443800     FALSE      20190131\n",
       "4 231890         443800     FALSE      20190131\n",
       "5 142624         551362     FALSE      20190131\n",
       "6 408738         551362     FALSE      20190131"
      ]
     },
     "metadata": {},
     "output_type": "display_data"
    },
    {
     "data": {
      "text/html": [
       "<table>\n",
       "<caption>A data.frame: 6 × 9</caption>\n",
       "<thead>\n",
       "\t<tr><th></th><th scope=col>CD</th><th scope=col>Incumbent</th><th scope=col>Party</th><th scope=col>Clinton</th><th scope=col>Trump</th><th scope=col>Winner</th><th scope=col>X</th><th scope=col>X.1</th><th scope=col>X.2</th></tr>\n",
       "\t<tr><th></th><th scope=col>&lt;chr&gt;</th><th scope=col>&lt;chr&gt;</th><th scope=col>&lt;chr&gt;</th><th scope=col>&lt;dbl&gt;</th><th scope=col>&lt;dbl&gt;</th><th scope=col>&lt;chr&gt;</th><th scope=col>&lt;lgl&gt;</th><th scope=col>&lt;lgl&gt;</th><th scope=col>&lt;lgl&gt;</th></tr>\n",
       "</thead>\n",
       "<tbody>\n",
       "\t<tr><th scope=row>1</th><td>AK-AL</td><td>Young, Don    </td><td>(R)</td><td>37.6</td><td>52.8</td><td>Trump</td><td>NA</td><td>NA</td><td>NA</td></tr>\n",
       "\t<tr><th scope=row>2</th><td>AL-01</td><td>Byrne, Bradley</td><td>(R)</td><td>34.1</td><td>63.5</td><td>Trump</td><td>NA</td><td>NA</td><td>NA</td></tr>\n",
       "\t<tr><th scope=row>3</th><td>AL-02</td><td>Roby, Martha  </td><td>(R)</td><td>33.0</td><td>64.9</td><td>Trump</td><td>NA</td><td>NA</td><td>NA</td></tr>\n",
       "\t<tr><th scope=row>4</th><td>AL-03</td><td>Rogers, Mike  </td><td>(R)</td><td>32.3</td><td>65.3</td><td>Trump</td><td>NA</td><td>NA</td><td>NA</td></tr>\n",
       "\t<tr><th scope=row>5</th><td>AL-04</td><td>Aderholt, Rob </td><td>(R)</td><td>17.4</td><td>80.4</td><td>Trump</td><td>NA</td><td>NA</td><td>NA</td></tr>\n",
       "\t<tr><th scope=row>6</th><td>AL-05</td><td>Brooks, Mo    </td><td>(R)</td><td>31.3</td><td>64.7</td><td>Trump</td><td>NA</td><td>NA</td><td>NA</td></tr>\n",
       "</tbody>\n",
       "</table>\n"
      ],
      "text/latex": [
       "A data.frame: 6 × 9\n",
       "\\begin{tabular}{r|lllllllll}\n",
       "  & CD & Incumbent & Party & Clinton & Trump & Winner & X & X.1 & X.2\\\\\n",
       "  & <chr> & <chr> & <chr> & <dbl> & <dbl> & <chr> & <lgl> & <lgl> & <lgl>\\\\\n",
       "\\hline\n",
       "\t1 & AK-AL & Young, Don     & (R) & 37.6 & 52.8 & Trump & NA & NA & NA\\\\\n",
       "\t2 & AL-01 & Byrne, Bradley & (R) & 34.1 & 63.5 & Trump & NA & NA & NA\\\\\n",
       "\t3 & AL-02 & Roby, Martha   & (R) & 33.0 & 64.9 & Trump & NA & NA & NA\\\\\n",
       "\t4 & AL-03 & Rogers, Mike   & (R) & 32.3 & 65.3 & Trump & NA & NA & NA\\\\\n",
       "\t5 & AL-04 & Aderholt, Rob  & (R) & 17.4 & 80.4 & Trump & NA & NA & NA\\\\\n",
       "\t6 & AL-05 & Brooks, Mo     & (R) & 31.3 & 64.7 & Trump & NA & NA & NA\\\\\n",
       "\\end{tabular}\n"
      ],
      "text/markdown": [
       "\n",
       "A data.frame: 6 × 9\n",
       "\n",
       "| <!--/--> | CD &lt;chr&gt; | Incumbent &lt;chr&gt; | Party &lt;chr&gt; | Clinton &lt;dbl&gt; | Trump &lt;dbl&gt; | Winner &lt;chr&gt; | X &lt;lgl&gt; | X.1 &lt;lgl&gt; | X.2 &lt;lgl&gt; |\n",
       "|---|---|---|---|---|---|---|---|---|---|\n",
       "| 1 | AK-AL | Young, Don     | (R) | 37.6 | 52.8 | Trump | NA | NA | NA |\n",
       "| 2 | AL-01 | Byrne, Bradley | (R) | 34.1 | 63.5 | Trump | NA | NA | NA |\n",
       "| 3 | AL-02 | Roby, Martha   | (R) | 33.0 | 64.9 | Trump | NA | NA | NA |\n",
       "| 4 | AL-03 | Rogers, Mike   | (R) | 32.3 | 65.3 | Trump | NA | NA | NA |\n",
       "| 5 | AL-04 | Aderholt, Rob  | (R) | 17.4 | 80.4 | Trump | NA | NA | NA |\n",
       "| 6 | AL-05 | Brooks, Mo     | (R) | 31.3 | 64.7 | Trump | NA | NA | NA |\n",
       "\n"
      ],
      "text/plain": [
       "  CD    Incumbent      Party Clinton Trump Winner X  X.1 X.2\n",
       "1 AK-AL Young, Don     (R)   37.6    52.8  Trump  NA NA  NA \n",
       "2 AL-01 Byrne, Bradley (R)   34.1    63.5  Trump  NA NA  NA \n",
       "3 AL-02 Roby, Martha   (R)   33.0    64.9  Trump  NA NA  NA \n",
       "4 AL-03 Rogers, Mike   (R)   32.3    65.3  Trump  NA NA  NA \n",
       "5 AL-04 Aderholt, Rob  (R)   17.4    80.4  Trump  NA NA  NA \n",
       "6 AL-05 Brooks, Mo     (R)   31.3    64.7  Trump  NA NA  NA "
      ]
     },
     "metadata": {},
     "output_type": "display_data"
    }
   ],
   "source": [
    "## Read data \n",
    "CD_results_2018 <- read.csv(\"district_overall_2018.csv\")\n",
    "pres_results_2018 <- read.csv(\"pres_results_by_CD_2016.csv\")\n",
    "\n",
    "\n",
    "## Check data structure\n",
    "head(CD_results_2018)\n",
    "\n",
    "head(pres_results_2018)\n",
    "\n",
    "pres_results_2018 <- pres_results_2018 %>%\n",
    "    select(-c(\"X\", \"X.1\", \"X.2\"))\n",
    "\n"
   ]
  },
  {
   "cell_type": "code",
   "execution_count": 41,
   "metadata": {},
   "outputs": [
    {
     "data": {
      "text/html": [
       "<table>\n",
       "<caption>A data.frame: 6 × 7</caption>\n",
       "<thead>\n",
       "\t<tr><th></th><th scope=col>year</th><th scope=col>state_po</th><th scope=col>district</th><th scope=col>candidate</th><th scope=col>party</th><th scope=col>total_votes</th><th scope=col>vote_share</th></tr>\n",
       "\t<tr><th></th><th scope=col>&lt;int&gt;</th><th scope=col>&lt;chr&gt;</th><th scope=col>&lt;chr&gt;</th><th scope=col>&lt;chr&gt;</th><th scope=col>&lt;chr&gt;</th><th scope=col>&lt;int&gt;</th><th scope=col>&lt;dbl&gt;</th></tr>\n",
       "</thead>\n",
       "<tbody>\n",
       "\t<tr><th scope=row>1</th><td>2018</td><td>CA</td><td>District 1 </td><td>Audrey Denney  </td><td>democrat  </td><td>263096</td><td>0.4511341</td></tr>\n",
       "\t<tr><th scope=row>2</th><td>2018</td><td>CA</td><td>District 1 </td><td>Doug La Malfa  </td><td>republican</td><td>320092</td><td>0.5488659</td></tr>\n",
       "\t<tr><th scope=row>3</th><td>2018</td><td>CA</td><td>District 10</td><td>Jeff Denham    </td><td>republican</td><td>211910</td><td>0.4774899</td></tr>\n",
       "\t<tr><th scope=row>4</th><td>2018</td><td>CA</td><td>District 10</td><td>Josh Harder    </td><td>democrat  </td><td>231890</td><td>0.5225101</td></tr>\n",
       "\t<tr><th scope=row>5</th><td>2018</td><td>CA</td><td>District 11</td><td>John Fitzgerald</td><td>republican</td><td>142624</td><td>0.2586758</td></tr>\n",
       "\t<tr><th scope=row>6</th><td>2018</td><td>CA</td><td>District 11</td><td>Mark DeSaulnier</td><td>democrat  </td><td>408738</td><td>0.7413242</td></tr>\n",
       "</tbody>\n",
       "</table>\n"
      ],
      "text/latex": [
       "A data.frame: 6 × 7\n",
       "\\begin{tabular}{r|lllllll}\n",
       "  & year & state\\_po & district & candidate & party & total\\_votes & vote\\_share\\\\\n",
       "  & <int> & <chr> & <chr> & <chr> & <chr> & <int> & <dbl>\\\\\n",
       "\\hline\n",
       "\t1 & 2018 & CA & District 1  & Audrey Denney   & democrat   & 263096 & 0.4511341\\\\\n",
       "\t2 & 2018 & CA & District 1  & Doug La Malfa   & republican & 320092 & 0.5488659\\\\\n",
       "\t3 & 2018 & CA & District 10 & Jeff Denham     & republican & 211910 & 0.4774899\\\\\n",
       "\t4 & 2018 & CA & District 10 & Josh Harder     & democrat   & 231890 & 0.5225101\\\\\n",
       "\t5 & 2018 & CA & District 11 & John Fitzgerald & republican & 142624 & 0.2586758\\\\\n",
       "\t6 & 2018 & CA & District 11 & Mark DeSaulnier & democrat   & 408738 & 0.7413242\\\\\n",
       "\\end{tabular}\n"
      ],
      "text/markdown": [
       "\n",
       "A data.frame: 6 × 7\n",
       "\n",
       "| <!--/--> | year &lt;int&gt; | state_po &lt;chr&gt; | district &lt;chr&gt; | candidate &lt;chr&gt; | party &lt;chr&gt; | total_votes &lt;int&gt; | vote_share &lt;dbl&gt; |\n",
       "|---|---|---|---|---|---|---|---|\n",
       "| 1 | 2018 | CA | District 1  | Audrey Denney   | democrat   | 263096 | 0.4511341 |\n",
       "| 2 | 2018 | CA | District 1  | Doug La Malfa   | republican | 320092 | 0.5488659 |\n",
       "| 3 | 2018 | CA | District 10 | Jeff Denham     | republican | 211910 | 0.4774899 |\n",
       "| 4 | 2018 | CA | District 10 | Josh Harder     | democrat   | 231890 | 0.5225101 |\n",
       "| 5 | 2018 | CA | District 11 | John Fitzgerald | republican | 142624 | 0.2586758 |\n",
       "| 6 | 2018 | CA | District 11 | Mark DeSaulnier | democrat   | 408738 | 0.7413242 |\n",
       "\n"
      ],
      "text/plain": [
       "  year state_po district    candidate       party      total_votes vote_share\n",
       "1 2018 CA       District 1  Audrey Denney   democrat   263096      0.4511341 \n",
       "2 2018 CA       District 1  Doug La Malfa   republican 320092      0.5488659 \n",
       "3 2018 CA       District 10 Jeff Denham     republican 211910      0.4774899 \n",
       "4 2018 CA       District 10 Josh Harder     democrat   231890      0.5225101 \n",
       "5 2018 CA       District 11 John Fitzgerald republican 142624      0.2586758 \n",
       "6 2018 CA       District 11 Mark DeSaulnier democrat   408738      0.7413242 "
      ]
     },
     "metadata": {},
     "output_type": "display_data"
    },
    {
     "name": "stderr",
     "output_type": "stream",
     "text": [
      "`summarise()` regrouping output by 'state_po', 'district', 'party' (override with `.groups` argument)\n",
      "\n"
     ]
    },
    {
     "data": {
      "text/html": [
       "<table>\n",
       "<caption>A grouped_df: 6 × 6</caption>\n",
       "<thead>\n",
       "\t<tr><th scope=col>state_po</th><th scope=col>district</th><th scope=col>party</th><th scope=col>candidate</th><th scope=col>total_votes</th><th scope=col>vote_share</th></tr>\n",
       "\t<tr><th scope=col>&lt;chr&gt;</th><th scope=col>&lt;chr&gt;</th><th scope=col>&lt;chr&gt;</th><th scope=col>&lt;chr&gt;</th><th scope=col>&lt;int&gt;</th><th scope=col>&lt;dbl&gt;</th></tr>\n",
       "</thead>\n",
       "<tbody>\n",
       "\t<tr><td>AK</td><td>District 0</td><td>democrat  </td><td>Alyse S. Galvin   </td><td>131199</td><td>0.4649710</td></tr>\n",
       "\t<tr><td>AK</td><td>District 0</td><td>republican</td><td>Don Young         </td><td>149779</td><td>0.5308187</td></tr>\n",
       "\t<tr><td>AL</td><td>District 1</td><td>democrat  </td><td>Robert Kennedy Jr.</td><td> 89226</td><td>0.3677648</td></tr>\n",
       "\t<tr><td>AL</td><td>District 1</td><td>republican</td><td>Bradley Byrne     </td><td>153228</td><td>0.6315633</td></tr>\n",
       "\t<tr><td>AL</td><td>District 2</td><td>democrat  </td><td>Tabitha Isner     </td><td> 86931</td><td>0.3842594</td></tr>\n",
       "\t<tr><td>AL</td><td>District 2</td><td>republican</td><td>Martha Roby       </td><td>138879</td><td>0.6138841</td></tr>\n",
       "</tbody>\n",
       "</table>\n"
      ],
      "text/latex": [
       "A grouped\\_df: 6 × 6\n",
       "\\begin{tabular}{llllll}\n",
       " state\\_po & district & party & candidate & total\\_votes & vote\\_share\\\\\n",
       " <chr> & <chr> & <chr> & <chr> & <int> & <dbl>\\\\\n",
       "\\hline\n",
       "\t AK & District 0 & democrat   & Alyse S. Galvin    & 131199 & 0.4649710\\\\\n",
       "\t AK & District 0 & republican & Don Young          & 149779 & 0.5308187\\\\\n",
       "\t AL & District 1 & democrat   & Robert Kennedy Jr. &  89226 & 0.3677648\\\\\n",
       "\t AL & District 1 & republican & Bradley Byrne      & 153228 & 0.6315633\\\\\n",
       "\t AL & District 2 & democrat   & Tabitha Isner      &  86931 & 0.3842594\\\\\n",
       "\t AL & District 2 & republican & Martha Roby        & 138879 & 0.6138841\\\\\n",
       "\\end{tabular}\n"
      ],
      "text/markdown": [
       "\n",
       "A grouped_df: 6 × 6\n",
       "\n",
       "| state_po &lt;chr&gt; | district &lt;chr&gt; | party &lt;chr&gt; | candidate &lt;chr&gt; | total_votes &lt;int&gt; | vote_share &lt;dbl&gt; |\n",
       "|---|---|---|---|---|---|\n",
       "| AK | District 0 | democrat   | Alyse S. Galvin    | 131199 | 0.4649710 |\n",
       "| AK | District 0 | republican | Don Young          | 149779 | 0.5308187 |\n",
       "| AL | District 1 | democrat   | Robert Kennedy Jr. |  89226 | 0.3677648 |\n",
       "| AL | District 1 | republican | Bradley Byrne      | 153228 | 0.6315633 |\n",
       "| AL | District 2 | democrat   | Tabitha Isner      |  86931 | 0.3842594 |\n",
       "| AL | District 2 | republican | Martha Roby        | 138879 | 0.6138841 |\n",
       "\n"
      ],
      "text/plain": [
       "  state_po district   party      candidate          total_votes vote_share\n",
       "1 AK       District 0 democrat   Alyse S. Galvin    131199      0.4649710 \n",
       "2 AK       District 0 republican Don Young          149779      0.5308187 \n",
       "3 AL       District 1 democrat   Robert Kennedy Jr.  89226      0.3677648 \n",
       "4 AL       District 1 republican Bradley Byrne      153228      0.6315633 \n",
       "5 AL       District 2 democrat   Tabitha Isner       86931      0.3842594 \n",
       "6 AL       District 2 republican Martha Roby        138879      0.6138841 "
      ]
     },
     "metadata": {},
     "output_type": "display_data"
    },
    {
     "data": {
      "text/html": [
       "<table>\n",
       "<caption>A grouped_df: 6 × 10</caption>\n",
       "<thead>\n",
       "\t<tr><th scope=col>state_po</th><th scope=col>district</th><th scope=col>candidate_democrat</th><th scope=col>candidate_republican</th><th scope=col>total_votes_democrat</th><th scope=col>total_votes_republican</th><th scope=col>vote_share_dem</th><th scope=col>vote_share_rep</th><th scope=col>winner_party</th><th scope=col>year</th></tr>\n",
       "\t<tr><th scope=col>&lt;chr&gt;</th><th scope=col>&lt;chr&gt;</th><th scope=col>&lt;chr&gt;</th><th scope=col>&lt;chr&gt;</th><th scope=col>&lt;dbl&gt;</th><th scope=col>&lt;dbl&gt;</th><th scope=col>&lt;dbl&gt;</th><th scope=col>&lt;dbl&gt;</th><th scope=col>&lt;chr&gt;</th><th scope=col>&lt;dbl&gt;</th></tr>\n",
       "</thead>\n",
       "<tbody>\n",
       "\t<tr><td>AK</td><td>0</td><td>Alyse S. Galvin   </td><td>Don Young      </td><td>131199</td><td>149779</td><td>0.4649710</td><td>0.5308187</td><td>Republican</td><td>2018</td></tr>\n",
       "\t<tr><td>AL</td><td>1</td><td>Robert Kennedy Jr.</td><td>Bradley Byrne  </td><td> 89226</td><td>153228</td><td>0.3677648</td><td>0.6315633</td><td>Republican</td><td>2018</td></tr>\n",
       "\t<tr><td>AL</td><td>2</td><td>Tabitha Isner     </td><td>Martha Roby    </td><td> 86931</td><td>138879</td><td>0.3842594</td><td>0.6138841</td><td>Republican</td><td>2018</td></tr>\n",
       "\t<tr><td>AL</td><td>3</td><td>Mallory Hagan     </td><td>Mike Rogers    </td><td> 83996</td><td>147770</td><td>0.3621844</td><td>0.6371731</td><td>Republican</td><td>2018</td></tr>\n",
       "\t<tr><td>AL</td><td>4</td><td>Lee Auman         </td><td>Robert Aderholt</td><td> 46492</td><td>184255</td><td>0.2012911</td><td>0.7977477</td><td>Republican</td><td>2018</td></tr>\n",
       "\t<tr><td>AL</td><td>6</td><td>Danner Kline      </td><td>Gary Palmer    </td><td> 85644</td><td>192542</td><td>0.3077089</td><td>0.6917809</td><td>Republican</td><td>2018</td></tr>\n",
       "</tbody>\n",
       "</table>\n"
      ],
      "text/latex": [
       "A grouped\\_df: 6 × 10\n",
       "\\begin{tabular}{llllllllll}\n",
       " state\\_po & district & candidate\\_democrat & candidate\\_republican & total\\_votes\\_democrat & total\\_votes\\_republican & vote\\_share\\_dem & vote\\_share\\_rep & winner\\_party & year\\\\\n",
       " <chr> & <chr> & <chr> & <chr> & <dbl> & <dbl> & <dbl> & <dbl> & <chr> & <dbl>\\\\\n",
       "\\hline\n",
       "\t AK & 0 & Alyse S. Galvin    & Don Young       & 131199 & 149779 & 0.4649710 & 0.5308187 & Republican & 2018\\\\\n",
       "\t AL & 1 & Robert Kennedy Jr. & Bradley Byrne   &  89226 & 153228 & 0.3677648 & 0.6315633 & Republican & 2018\\\\\n",
       "\t AL & 2 & Tabitha Isner      & Martha Roby     &  86931 & 138879 & 0.3842594 & 0.6138841 & Republican & 2018\\\\\n",
       "\t AL & 3 & Mallory Hagan      & Mike Rogers     &  83996 & 147770 & 0.3621844 & 0.6371731 & Republican & 2018\\\\\n",
       "\t AL & 4 & Lee Auman          & Robert Aderholt &  46492 & 184255 & 0.2012911 & 0.7977477 & Republican & 2018\\\\\n",
       "\t AL & 6 & Danner Kline       & Gary Palmer     &  85644 & 192542 & 0.3077089 & 0.6917809 & Republican & 2018\\\\\n",
       "\\end{tabular}\n"
      ],
      "text/markdown": [
       "\n",
       "A grouped_df: 6 × 10\n",
       "\n",
       "| state_po &lt;chr&gt; | district &lt;chr&gt; | candidate_democrat &lt;chr&gt; | candidate_republican &lt;chr&gt; | total_votes_democrat &lt;dbl&gt; | total_votes_republican &lt;dbl&gt; | vote_share_dem &lt;dbl&gt; | vote_share_rep &lt;dbl&gt; | winner_party &lt;chr&gt; | year &lt;dbl&gt; |\n",
       "|---|---|---|---|---|---|---|---|---|---|\n",
       "| AK | 0 | Alyse S. Galvin    | Don Young       | 131199 | 149779 | 0.4649710 | 0.5308187 | Republican | 2018 |\n",
       "| AL | 1 | Robert Kennedy Jr. | Bradley Byrne   |  89226 | 153228 | 0.3677648 | 0.6315633 | Republican | 2018 |\n",
       "| AL | 2 | Tabitha Isner      | Martha Roby     |  86931 | 138879 | 0.3842594 | 0.6138841 | Republican | 2018 |\n",
       "| AL | 3 | Mallory Hagan      | Mike Rogers     |  83996 | 147770 | 0.3621844 | 0.6371731 | Republican | 2018 |\n",
       "| AL | 4 | Lee Auman          | Robert Aderholt |  46492 | 184255 | 0.2012911 | 0.7977477 | Republican | 2018 |\n",
       "| AL | 6 | Danner Kline       | Gary Palmer     |  85644 | 192542 | 0.3077089 | 0.6917809 | Republican | 2018 |\n",
       "\n"
      ],
      "text/plain": [
       "  state_po district candidate_democrat candidate_republican\n",
       "1 AK       0        Alyse S. Galvin    Don Young           \n",
       "2 AL       1        Robert Kennedy Jr. Bradley Byrne       \n",
       "3 AL       2        Tabitha Isner      Martha Roby         \n",
       "4 AL       3        Mallory Hagan      Mike Rogers         \n",
       "5 AL       4        Lee Auman          Robert Aderholt     \n",
       "6 AL       6        Danner Kline       Gary Palmer         \n",
       "  total_votes_democrat total_votes_republican vote_share_dem vote_share_rep\n",
       "1 131199               149779                 0.4649710      0.5308187     \n",
       "2  89226               153228                 0.3677648      0.6315633     \n",
       "3  86931               138879                 0.3842594      0.6138841     \n",
       "4  83996               147770                 0.3621844      0.6371731     \n",
       "5  46492               184255                 0.2012911      0.7977477     \n",
       "6  85644               192542                 0.3077089      0.6917809     \n",
       "  winner_party year\n",
       "1 Republican   2018\n",
       "2 Republican   2018\n",
       "3 Republican   2018\n",
       "4 Republican   2018\n",
       "5 Republican   2018\n",
       "6 Republican   2018"
      ]
     },
     "metadata": {},
     "output_type": "display_data"
    },
    {
     "name": "stdout",
     "output_type": "stream",
     "text": [
      "Rows: 440\n",
      "Columns: 10\n",
      "Groups: state_po, district [429]\n",
      "$ state_po               \u001b[3m\u001b[90m<chr>\u001b[39m\u001b[23m \"AK\", \"AL\", \"AL\", \"AL\", \"AL\", \"AL\", \"AL\", \"AR\"…\n",
      "$ district               \u001b[3m\u001b[90m<chr>\u001b[39m\u001b[23m \"0\", \"1\", \"2\", \"3\", \"4\", \"6\", \"7\", \"1\", \"2\", \"…\n",
      "$ candidate_democrat     \u001b[3m\u001b[90m<chr>\u001b[39m\u001b[23m \"Alyse S. Galvin\", \"Robert Kennedy Jr.\", \"Tabi…\n",
      "$ candidate_republican   \u001b[3m\u001b[90m<chr>\u001b[39m\u001b[23m \"Don Young\", \"Bradley Byrne\", \"Martha Roby\", \"…\n",
      "$ total_votes_democrat   \u001b[3m\u001b[90m<dbl>\u001b[39m\u001b[23m 131199, 89226, 86931, 83996, 46492, 85644, 185…\n",
      "$ total_votes_republican \u001b[3m\u001b[90m<dbl>\u001b[39m\u001b[23m 149779, 153228, 138879, 147770, 184255, 192542…\n",
      "$ vote_share_dem         \u001b[3m\u001b[90m<dbl>\u001b[39m\u001b[23m 0.4649710, 0.3677648, 0.3842594, 0.3621844, 0.…\n",
      "$ vote_share_rep         \u001b[3m\u001b[90m<dbl>\u001b[39m\u001b[23m 0.5308187, 0.6315633, 0.6138841, 0.6371731, 0.…\n",
      "$ winner_party           \u001b[3m\u001b[90m<chr>\u001b[39m\u001b[23m \"Republican\", \"Republican\", \"Republican\", \"Rep…\n",
      "$ year                   \u001b[3m\u001b[90m<dbl>\u001b[39m\u001b[23m 2018, 2018, 2018, 2018, 2018, 2018, 2018, 2018…\n"
     ]
    }
   ],
   "source": [
    "## Reformat data to wide\n",
    "\n",
    "CD_results_2018_temp <- CD_results_2018 %>%\n",
    "    filter(special == FALSE,\n",
    "           writein == FALSE,\n",
    "           stage == \"gen\",\n",
    "           party %in% c(\"democrat\", \"republican\")) %>%\n",
    "    mutate(vote_share = candidatevotes / totalvotes) %>%\n",
    "    select(-c(\"state\", \"state_fips\", \"state_cen\", \"state_ic\", \"special\", \"office\", \"writein\", \"stage\", \"mode\", \"unofficial\", \"version\", \"totalvotes\")) %>%\n",
    "    rename(total_votes = candidatevotes)\n",
    "\n",
    "head(CD_results_2018_temp)\n",
    "\n",
    "CD_results_2018_temp_2 <- CD_results_2018_temp %>%\n",
    "    group_by(state_po, district, party, candidate) %>%\n",
    "    summarize(total_votes = sum(total_votes),\n",
    "              vote_share = sum(vote_share))\n",
    "\n",
    "head(CD_results_2018_temp_2)\n",
    "\n",
    "\n",
    "CD_results_2018_wide <- CD_results_2018_temp_2 %>%\n",
    "    mutate(row = row_number()) %>%\n",
    "    pivot_wider(id_cols = c(\"state_po\", \"district\", \"row\"), names_from = party, values_from = c(\"candidate\", \"total_votes\", \"vote_share\")) %>%\n",
    "    mutate(candidate_democrat = replace_na(candidate_democrat, \"No candidate\"), \n",
    "            candidate_republican = replace_na(candidate_republican, \"No candidate\"),\n",
    "            total_votes_democrat = replace_na(total_votes_democrat, 0),\n",
    "            total_votes_republican = replace_na(total_votes_republican, 0),\n",
    "            winner_party = case_when(total_votes_democrat > total_votes_republican ~ \"Democrat\",\n",
    "                              total_votes_republican > total_votes_democrat ~ \"Republican\",\n",
    "                              TRUE ~ \"Other\"),\n",
    "            district = word(district, 2)) %>%\n",
    "    select(-row) %>%\n",
    "    rename(vote_share_dem = vote_share_democrat,\n",
    "          vote_share_rep = vote_share_republican) %>%\n",
    "    mutate(year = 2018)\n",
    "\n",
    "\n",
    "head(CD_results_2018_wide)\n",
    "\n",
    "glimpse(CD_results_2018_wide)\n"
   ]
  },
  {
   "cell_type": "code",
   "execution_count": 42,
   "metadata": {},
   "outputs": [],
   "source": [
    "## Gender fill\n",
    "# Function to fill predicted gender\n",
    "gender_fill <- function(x) { \n",
    "  n <- length(x)\n",
    "  x <- word(x) ## removes last names, gender() only works on first name strings\n",
    "  gender_rep <- rep(\"a\", n)\n",
    "  for (i in 1:n) {\n",
    "      if (x[i] == \"No\") {\n",
    "        gender_rep[i] <- \"N/A\" ## handles no candidate\n",
    "      } else if (length(pull(gender(x[i]), var = gender)) == 0) {\n",
    "        gender_rep[i] <- \"Unknown\" ## handles names the function can't predict\n",
    "      }  else {\n",
    "      gender_rep[i] <- pull(gender(as.character(x[i])), var = gender)\n",
    "      }\n",
    "    }\n",
    "    gender_rep\n",
    "  }\n",
    "\n",
    "\n",
    "## First if checks for \"No\" because \"No candidate\" has been truncated to \"No\", needs to be changed if databases have different indicators for no candidate\n",
    "## Second if checks for length == 0 because gender() generates an empty table if it is unable to predict a gender\n",
    "## Else applies gender() to the rest of the cases and pulls the gender result out of the results (gender function creates a table with ancillary info), coercion to character \n",
    "## because gender() only works on character type\n",
    "\n",
    "\n"
   ]
  },
  {
   "cell_type": "code",
   "execution_count": 43,
   "metadata": {},
   "outputs": [
    {
     "data": {
      "text/html": [
       "<table>\n",
       "<caption>A grouped_df: 6 × 12</caption>\n",
       "<thead>\n",
       "\t<tr><th scope=col>state_po</th><th scope=col>district</th><th scope=col>candidate_democrat</th><th scope=col>candidate_republican</th><th scope=col>total_votes_democrat</th><th scope=col>total_votes_republican</th><th scope=col>vote_share_dem</th><th scope=col>vote_share_rep</th><th scope=col>winner_party</th><th scope=col>year</th><th scope=col>gender_dem</th><th scope=col>gender_rep</th></tr>\n",
       "\t<tr><th scope=col>&lt;chr&gt;</th><th scope=col>&lt;chr&gt;</th><th scope=col>&lt;chr&gt;</th><th scope=col>&lt;chr&gt;</th><th scope=col>&lt;dbl&gt;</th><th scope=col>&lt;dbl&gt;</th><th scope=col>&lt;dbl&gt;</th><th scope=col>&lt;dbl&gt;</th><th scope=col>&lt;chr&gt;</th><th scope=col>&lt;dbl&gt;</th><th scope=col>&lt;chr&gt;</th><th scope=col>&lt;chr&gt;</th></tr>\n",
       "</thead>\n",
       "<tbody>\n",
       "\t<tr><td>AK</td><td>0</td><td>Alyse S. Galvin   </td><td>Don Young      </td><td>131199</td><td>149779</td><td>0.4649710</td><td>0.5308187</td><td>Republican</td><td>2018</td><td>female</td><td>male  </td></tr>\n",
       "\t<tr><td>AL</td><td>1</td><td>Robert Kennedy Jr.</td><td>Bradley Byrne  </td><td> 89226</td><td>153228</td><td>0.3677648</td><td>0.6315633</td><td>Republican</td><td>2018</td><td>male  </td><td>male  </td></tr>\n",
       "\t<tr><td>AL</td><td>2</td><td>Tabitha Isner     </td><td>Martha Roby    </td><td> 86931</td><td>138879</td><td>0.3842594</td><td>0.6138841</td><td>Republican</td><td>2018</td><td>female</td><td>female</td></tr>\n",
       "\t<tr><td>AL</td><td>3</td><td>Mallory Hagan     </td><td>Mike Rogers    </td><td> 83996</td><td>147770</td><td>0.3621844</td><td>0.6371731</td><td>Republican</td><td>2018</td><td>female</td><td>male  </td></tr>\n",
       "\t<tr><td>AL</td><td>4</td><td>Lee Auman         </td><td>Robert Aderholt</td><td> 46492</td><td>184255</td><td>0.2012911</td><td>0.7977477</td><td>Republican</td><td>2018</td><td>male  </td><td>male  </td></tr>\n",
       "\t<tr><td>AL</td><td>6</td><td>Danner Kline      </td><td>Gary Palmer    </td><td> 85644</td><td>192542</td><td>0.3077089</td><td>0.6917809</td><td>Republican</td><td>2018</td><td>male  </td><td>male  </td></tr>\n",
       "</tbody>\n",
       "</table>\n"
      ],
      "text/latex": [
       "A grouped\\_df: 6 × 12\n",
       "\\begin{tabular}{llllllllllll}\n",
       " state\\_po & district & candidate\\_democrat & candidate\\_republican & total\\_votes\\_democrat & total\\_votes\\_republican & vote\\_share\\_dem & vote\\_share\\_rep & winner\\_party & year & gender\\_dem & gender\\_rep\\\\\n",
       " <chr> & <chr> & <chr> & <chr> & <dbl> & <dbl> & <dbl> & <dbl> & <chr> & <dbl> & <chr> & <chr>\\\\\n",
       "\\hline\n",
       "\t AK & 0 & Alyse S. Galvin    & Don Young       & 131199 & 149779 & 0.4649710 & 0.5308187 & Republican & 2018 & female & male  \\\\\n",
       "\t AL & 1 & Robert Kennedy Jr. & Bradley Byrne   &  89226 & 153228 & 0.3677648 & 0.6315633 & Republican & 2018 & male   & male  \\\\\n",
       "\t AL & 2 & Tabitha Isner      & Martha Roby     &  86931 & 138879 & 0.3842594 & 0.6138841 & Republican & 2018 & female & female\\\\\n",
       "\t AL & 3 & Mallory Hagan      & Mike Rogers     &  83996 & 147770 & 0.3621844 & 0.6371731 & Republican & 2018 & female & male  \\\\\n",
       "\t AL & 4 & Lee Auman          & Robert Aderholt &  46492 & 184255 & 0.2012911 & 0.7977477 & Republican & 2018 & male   & male  \\\\\n",
       "\t AL & 6 & Danner Kline       & Gary Palmer     &  85644 & 192542 & 0.3077089 & 0.6917809 & Republican & 2018 & male   & male  \\\\\n",
       "\\end{tabular}\n"
      ],
      "text/markdown": [
       "\n",
       "A grouped_df: 6 × 12\n",
       "\n",
       "| state_po &lt;chr&gt; | district &lt;chr&gt; | candidate_democrat &lt;chr&gt; | candidate_republican &lt;chr&gt; | total_votes_democrat &lt;dbl&gt; | total_votes_republican &lt;dbl&gt; | vote_share_dem &lt;dbl&gt; | vote_share_rep &lt;dbl&gt; | winner_party &lt;chr&gt; | year &lt;dbl&gt; | gender_dem &lt;chr&gt; | gender_rep &lt;chr&gt; |\n",
       "|---|---|---|---|---|---|---|---|---|---|---|---|\n",
       "| AK | 0 | Alyse S. Galvin    | Don Young       | 131199 | 149779 | 0.4649710 | 0.5308187 | Republican | 2018 | female | male   |\n",
       "| AL | 1 | Robert Kennedy Jr. | Bradley Byrne   |  89226 | 153228 | 0.3677648 | 0.6315633 | Republican | 2018 | male   | male   |\n",
       "| AL | 2 | Tabitha Isner      | Martha Roby     |  86931 | 138879 | 0.3842594 | 0.6138841 | Republican | 2018 | female | female |\n",
       "| AL | 3 | Mallory Hagan      | Mike Rogers     |  83996 | 147770 | 0.3621844 | 0.6371731 | Republican | 2018 | female | male   |\n",
       "| AL | 4 | Lee Auman          | Robert Aderholt |  46492 | 184255 | 0.2012911 | 0.7977477 | Republican | 2018 | male   | male   |\n",
       "| AL | 6 | Danner Kline       | Gary Palmer     |  85644 | 192542 | 0.3077089 | 0.6917809 | Republican | 2018 | male   | male   |\n",
       "\n"
      ],
      "text/plain": [
       "  state_po district candidate_democrat candidate_republican\n",
       "1 AK       0        Alyse S. Galvin    Don Young           \n",
       "2 AL       1        Robert Kennedy Jr. Bradley Byrne       \n",
       "3 AL       2        Tabitha Isner      Martha Roby         \n",
       "4 AL       3        Mallory Hagan      Mike Rogers         \n",
       "5 AL       4        Lee Auman          Robert Aderholt     \n",
       "6 AL       6        Danner Kline       Gary Palmer         \n",
       "  total_votes_democrat total_votes_republican vote_share_dem vote_share_rep\n",
       "1 131199               149779                 0.4649710      0.5308187     \n",
       "2  89226               153228                 0.3677648      0.6315633     \n",
       "3  86931               138879                 0.3842594      0.6138841     \n",
       "4  83996               147770                 0.3621844      0.6371731     \n",
       "5  46492               184255                 0.2012911      0.7977477     \n",
       "6  85644               192542                 0.3077089      0.6917809     \n",
       "  winner_party year gender_dem gender_rep\n",
       "1 Republican   2018 female     male      \n",
       "2 Republican   2018 male       male      \n",
       "3 Republican   2018 female     female    \n",
       "4 Republican   2018 female     male      \n",
       "5 Republican   2018 male       male      \n",
       "6 Republican   2018 male       male      "
      ]
     },
     "metadata": {},
     "output_type": "display_data"
    }
   ],
   "source": [
    "## Create gender columns, extremely extremely slow (like 20-30min at least), but works\n",
    "\n",
    "CD_results_2018_wide$gender_dem <- gender_fill(CD_results_2018_wide$candidate_democrat)\n",
    "\n",
    "CD_results_2018_wide$gender_rep <- gender_fill(CD_results_2018_wide$candidate_republican)\n",
    "\n",
    "head(CD_results_2018_wide)"
   ]
  },
  {
   "cell_type": "code",
   "execution_count": 44,
   "metadata": {},
   "outputs": [
    {
     "data": {
      "text/html": [
       "<table>\n",
       "<caption>A grouped_df: 6 × 13</caption>\n",
       "<thead>\n",
       "\t<tr><th scope=col>state_po</th><th scope=col>district</th><th scope=col>candidate_democrat</th><th scope=col>candidate_republican</th><th scope=col>total_votes_democrat</th><th scope=col>total_votes_republican</th><th scope=col>vote_share_dem</th><th scope=col>vote_share_rep</th><th scope=col>winner_party</th><th scope=col>year</th><th scope=col>gender_dem</th><th scope=col>gender_rep</th><th scope=col>winner_gender</th></tr>\n",
       "\t<tr><th scope=col>&lt;chr&gt;</th><th scope=col>&lt;dbl&gt;</th><th scope=col>&lt;chr&gt;</th><th scope=col>&lt;chr&gt;</th><th scope=col>&lt;dbl&gt;</th><th scope=col>&lt;dbl&gt;</th><th scope=col>&lt;dbl&gt;</th><th scope=col>&lt;dbl&gt;</th><th scope=col>&lt;chr&gt;</th><th scope=col>&lt;dbl&gt;</th><th scope=col>&lt;chr&gt;</th><th scope=col>&lt;chr&gt;</th><th scope=col>&lt;chr&gt;</th></tr>\n",
       "</thead>\n",
       "<tbody>\n",
       "\t<tr><td>AK</td><td>0</td><td>Alyse S. Galvin   </td><td>Don Young      </td><td>131199</td><td>149779</td><td>0.4649710</td><td>0.5308187</td><td>Republican</td><td>2018</td><td>female</td><td>male  </td><td>male  </td></tr>\n",
       "\t<tr><td>AL</td><td>1</td><td>Robert Kennedy Jr.</td><td>Bradley Byrne  </td><td> 89226</td><td>153228</td><td>0.3677648</td><td>0.6315633</td><td>Republican</td><td>2018</td><td>male  </td><td>male  </td><td>male  </td></tr>\n",
       "\t<tr><td>AL</td><td>2</td><td>Tabitha Isner     </td><td>Martha Roby    </td><td> 86931</td><td>138879</td><td>0.3842594</td><td>0.6138841</td><td>Republican</td><td>2018</td><td>female</td><td>female</td><td>female</td></tr>\n",
       "\t<tr><td>AL</td><td>3</td><td>Mallory Hagan     </td><td>Mike Rogers    </td><td> 83996</td><td>147770</td><td>0.3621844</td><td>0.6371731</td><td>Republican</td><td>2018</td><td>female</td><td>male  </td><td>male  </td></tr>\n",
       "\t<tr><td>AL</td><td>4</td><td>Lee Auman         </td><td>Robert Aderholt</td><td> 46492</td><td>184255</td><td>0.2012911</td><td>0.7977477</td><td>Republican</td><td>2018</td><td>male  </td><td>male  </td><td>male  </td></tr>\n",
       "\t<tr><td>AL</td><td>6</td><td>Danner Kline      </td><td>Gary Palmer    </td><td> 85644</td><td>192542</td><td>0.3077089</td><td>0.6917809</td><td>Republican</td><td>2018</td><td>male  </td><td>male  </td><td>male  </td></tr>\n",
       "</tbody>\n",
       "</table>\n"
      ],
      "text/latex": [
       "A grouped\\_df: 6 × 13\n",
       "\\begin{tabular}{lllllllllllll}\n",
       " state\\_po & district & candidate\\_democrat & candidate\\_republican & total\\_votes\\_democrat & total\\_votes\\_republican & vote\\_share\\_dem & vote\\_share\\_rep & winner\\_party & year & gender\\_dem & gender\\_rep & winner\\_gender\\\\\n",
       " <chr> & <dbl> & <chr> & <chr> & <dbl> & <dbl> & <dbl> & <dbl> & <chr> & <dbl> & <chr> & <chr> & <chr>\\\\\n",
       "\\hline\n",
       "\t AK & 0 & Alyse S. Galvin    & Don Young       & 131199 & 149779 & 0.4649710 & 0.5308187 & Republican & 2018 & female & male   & male  \\\\\n",
       "\t AL & 1 & Robert Kennedy Jr. & Bradley Byrne   &  89226 & 153228 & 0.3677648 & 0.6315633 & Republican & 2018 & male   & male   & male  \\\\\n",
       "\t AL & 2 & Tabitha Isner      & Martha Roby     &  86931 & 138879 & 0.3842594 & 0.6138841 & Republican & 2018 & female & female & female\\\\\n",
       "\t AL & 3 & Mallory Hagan      & Mike Rogers     &  83996 & 147770 & 0.3621844 & 0.6371731 & Republican & 2018 & female & male   & male  \\\\\n",
       "\t AL & 4 & Lee Auman          & Robert Aderholt &  46492 & 184255 & 0.2012911 & 0.7977477 & Republican & 2018 & male   & male   & male  \\\\\n",
       "\t AL & 6 & Danner Kline       & Gary Palmer     &  85644 & 192542 & 0.3077089 & 0.6917809 & Republican & 2018 & male   & male   & male  \\\\\n",
       "\\end{tabular}\n"
      ],
      "text/markdown": [
       "\n",
       "A grouped_df: 6 × 13\n",
       "\n",
       "| state_po &lt;chr&gt; | district &lt;dbl&gt; | candidate_democrat &lt;chr&gt; | candidate_republican &lt;chr&gt; | total_votes_democrat &lt;dbl&gt; | total_votes_republican &lt;dbl&gt; | vote_share_dem &lt;dbl&gt; | vote_share_rep &lt;dbl&gt; | winner_party &lt;chr&gt; | year &lt;dbl&gt; | gender_dem &lt;chr&gt; | gender_rep &lt;chr&gt; | winner_gender &lt;chr&gt; |\n",
       "|---|---|---|---|---|---|---|---|---|---|---|---|---|\n",
       "| AK | 0 | Alyse S. Galvin    | Don Young       | 131199 | 149779 | 0.4649710 | 0.5308187 | Republican | 2018 | female | male   | male   |\n",
       "| AL | 1 | Robert Kennedy Jr. | Bradley Byrne   |  89226 | 153228 | 0.3677648 | 0.6315633 | Republican | 2018 | male   | male   | male   |\n",
       "| AL | 2 | Tabitha Isner      | Martha Roby     |  86931 | 138879 | 0.3842594 | 0.6138841 | Republican | 2018 | female | female | female |\n",
       "| AL | 3 | Mallory Hagan      | Mike Rogers     |  83996 | 147770 | 0.3621844 | 0.6371731 | Republican | 2018 | female | male   | male   |\n",
       "| AL | 4 | Lee Auman          | Robert Aderholt |  46492 | 184255 | 0.2012911 | 0.7977477 | Republican | 2018 | male   | male   | male   |\n",
       "| AL | 6 | Danner Kline       | Gary Palmer     |  85644 | 192542 | 0.3077089 | 0.6917809 | Republican | 2018 | male   | male   | male   |\n",
       "\n"
      ],
      "text/plain": [
       "  state_po district candidate_democrat candidate_republican\n",
       "1 AK       0        Alyse S. Galvin    Don Young           \n",
       "2 AL       1        Robert Kennedy Jr. Bradley Byrne       \n",
       "3 AL       2        Tabitha Isner      Martha Roby         \n",
       "4 AL       3        Mallory Hagan      Mike Rogers         \n",
       "5 AL       4        Lee Auman          Robert Aderholt     \n",
       "6 AL       6        Danner Kline       Gary Palmer         \n",
       "  total_votes_democrat total_votes_republican vote_share_dem vote_share_rep\n",
       "1 131199               149779                 0.4649710      0.5308187     \n",
       "2  89226               153228                 0.3677648      0.6315633     \n",
       "3  86931               138879                 0.3842594      0.6138841     \n",
       "4  83996               147770                 0.3621844      0.6371731     \n",
       "5  46492               184255                 0.2012911      0.7977477     \n",
       "6  85644               192542                 0.3077089      0.6917809     \n",
       "  winner_party year gender_dem gender_rep winner_gender\n",
       "1 Republican   2018 female     male       male         \n",
       "2 Republican   2018 male       male       male         \n",
       "3 Republican   2018 female     female     female       \n",
       "4 Republican   2018 female     male       male         \n",
       "5 Republican   2018 male       male       male         \n",
       "6 Republican   2018 male       male       male         "
      ]
     },
     "metadata": {},
     "output_type": "display_data"
    }
   ],
   "source": [
    "## Fill in winner gender\n",
    "CD_results_2018_wide <- CD_results_2018_wide %>%\n",
    "    mutate(district = as.numeric(district),\n",
    "          winner_gender = case_when(winner_party == \"Republican\" ~ gender_rep,\n",
    "                                   winner_party == \"Democrat\" ~ gender_dem,\n",
    "                                   TRUE ~ \"Other\"))\n",
    "\n",
    "head(CD_results_2018_wide)\n"
   ]
  },
  {
   "cell_type": "code",
   "execution_count": 45,
   "metadata": {},
   "outputs": [
    {
     "data": {
      "text/html": [
       "<table>\n",
       "<caption>A data.frame: 6 × 7</caption>\n",
       "<thead>\n",
       "\t<tr><th></th><th scope=col>Incumbent</th><th scope=col>Party</th><th scope=col>Clinton</th><th scope=col>Trump</th><th scope=col>Winner</th><th scope=col>state</th><th scope=col>district</th></tr>\n",
       "\t<tr><th></th><th scope=col>&lt;chr&gt;</th><th scope=col>&lt;chr&gt;</th><th scope=col>&lt;dbl&gt;</th><th scope=col>&lt;dbl&gt;</th><th scope=col>&lt;chr&gt;</th><th scope=col>&lt;chr&gt;</th><th scope=col>&lt;dbl&gt;</th></tr>\n",
       "</thead>\n",
       "<tbody>\n",
       "\t<tr><th scope=row>1</th><td>Young, Don    </td><td>republican</td><td>37.6</td><td>52.8</td><td>Trump</td><td>AK</td><td>0</td></tr>\n",
       "\t<tr><th scope=row>2</th><td>Byrne, Bradley</td><td>republican</td><td>34.1</td><td>63.5</td><td>Trump</td><td>AL</td><td>1</td></tr>\n",
       "\t<tr><th scope=row>3</th><td>Roby, Martha  </td><td>republican</td><td>33.0</td><td>64.9</td><td>Trump</td><td>AL</td><td>2</td></tr>\n",
       "\t<tr><th scope=row>4</th><td>Rogers, Mike  </td><td>republican</td><td>32.3</td><td>65.3</td><td>Trump</td><td>AL</td><td>3</td></tr>\n",
       "\t<tr><th scope=row>5</th><td>Aderholt, Rob </td><td>republican</td><td>17.4</td><td>80.4</td><td>Trump</td><td>AL</td><td>4</td></tr>\n",
       "\t<tr><th scope=row>6</th><td>Brooks, Mo    </td><td>republican</td><td>31.3</td><td>64.7</td><td>Trump</td><td>AL</td><td>5</td></tr>\n",
       "</tbody>\n",
       "</table>\n"
      ],
      "text/latex": [
       "A data.frame: 6 × 7\n",
       "\\begin{tabular}{r|lllllll}\n",
       "  & Incumbent & Party & Clinton & Trump & Winner & state & district\\\\\n",
       "  & <chr> & <chr> & <dbl> & <dbl> & <chr> & <chr> & <dbl>\\\\\n",
       "\\hline\n",
       "\t1 & Young, Don     & republican & 37.6 & 52.8 & Trump & AK & 0\\\\\n",
       "\t2 & Byrne, Bradley & republican & 34.1 & 63.5 & Trump & AL & 1\\\\\n",
       "\t3 & Roby, Martha   & republican & 33.0 & 64.9 & Trump & AL & 2\\\\\n",
       "\t4 & Rogers, Mike   & republican & 32.3 & 65.3 & Trump & AL & 3\\\\\n",
       "\t5 & Aderholt, Rob  & republican & 17.4 & 80.4 & Trump & AL & 4\\\\\n",
       "\t6 & Brooks, Mo     & republican & 31.3 & 64.7 & Trump & AL & 5\\\\\n",
       "\\end{tabular}\n"
      ],
      "text/markdown": [
       "\n",
       "A data.frame: 6 × 7\n",
       "\n",
       "| <!--/--> | Incumbent &lt;chr&gt; | Party &lt;chr&gt; | Clinton &lt;dbl&gt; | Trump &lt;dbl&gt; | Winner &lt;chr&gt; | state &lt;chr&gt; | district &lt;dbl&gt; |\n",
       "|---|---|---|---|---|---|---|---|\n",
       "| 1 | Young, Don     | republican | 37.6 | 52.8 | Trump | AK | 0 |\n",
       "| 2 | Byrne, Bradley | republican | 34.1 | 63.5 | Trump | AL | 1 |\n",
       "| 3 | Roby, Martha   | republican | 33.0 | 64.9 | Trump | AL | 2 |\n",
       "| 4 | Rogers, Mike   | republican | 32.3 | 65.3 | Trump | AL | 3 |\n",
       "| 5 | Aderholt, Rob  | republican | 17.4 | 80.4 | Trump | AL | 4 |\n",
       "| 6 | Brooks, Mo     | republican | 31.3 | 64.7 | Trump | AL | 5 |\n",
       "\n"
      ],
      "text/plain": [
       "  Incumbent      Party      Clinton Trump Winner state district\n",
       "1 Young, Don     republican 37.6    52.8  Trump  AK    0       \n",
       "2 Byrne, Bradley republican 34.1    63.5  Trump  AL    1       \n",
       "3 Roby, Martha   republican 33.0    64.9  Trump  AL    2       \n",
       "4 Rogers, Mike   republican 32.3    65.3  Trump  AL    3       \n",
       "5 Aderholt, Rob  republican 17.4    80.4  Trump  AL    4       \n",
       "6 Brooks, Mo     republican 31.3    64.7  Trump  AL    5       "
      ]
     },
     "metadata": {},
     "output_type": "display_data"
    },
    {
     "data": {
      "text/html": [
       "<table>\n",
       "<caption>A grouped_df: 6 × 14</caption>\n",
       "<thead>\n",
       "\t<tr><th scope=col>state_po</th><th scope=col>district</th><th scope=col>candidate_democrat</th><th scope=col>candidate_republican</th><th scope=col>total_votes_democrat</th><th scope=col>total_votes_republican</th><th scope=col>vote_share_dem</th><th scope=col>vote_share_rep</th><th scope=col>winner_party</th><th scope=col>year</th><th scope=col>gender_dem</th><th scope=col>gender_rep</th><th scope=col>winner_gender</th><th scope=col>pres_winner</th></tr>\n",
       "\t<tr><th scope=col>&lt;chr&gt;</th><th scope=col>&lt;dbl&gt;</th><th scope=col>&lt;chr&gt;</th><th scope=col>&lt;chr&gt;</th><th scope=col>&lt;dbl&gt;</th><th scope=col>&lt;dbl&gt;</th><th scope=col>&lt;dbl&gt;</th><th scope=col>&lt;dbl&gt;</th><th scope=col>&lt;chr&gt;</th><th scope=col>&lt;dbl&gt;</th><th scope=col>&lt;chr&gt;</th><th scope=col>&lt;chr&gt;</th><th scope=col>&lt;chr&gt;</th><th scope=col>&lt;chr&gt;</th></tr>\n",
       "</thead>\n",
       "<tbody>\n",
       "\t<tr><td>AK</td><td>0</td><td>Alyse S. Galvin   </td><td>Don Young      </td><td>131199</td><td>149779</td><td>0.4649710</td><td>0.5308187</td><td>Republican</td><td>2018</td><td>female</td><td>male  </td><td>male  </td><td>Trump</td></tr>\n",
       "\t<tr><td>AL</td><td>1</td><td>Robert Kennedy Jr.</td><td>Bradley Byrne  </td><td> 89226</td><td>153228</td><td>0.3677648</td><td>0.6315633</td><td>Republican</td><td>2018</td><td>male  </td><td>male  </td><td>male  </td><td>Trump</td></tr>\n",
       "\t<tr><td>AL</td><td>2</td><td>Tabitha Isner     </td><td>Martha Roby    </td><td> 86931</td><td>138879</td><td>0.3842594</td><td>0.6138841</td><td>Republican</td><td>2018</td><td>female</td><td>female</td><td>female</td><td>Trump</td></tr>\n",
       "\t<tr><td>AL</td><td>3</td><td>Mallory Hagan     </td><td>Mike Rogers    </td><td> 83996</td><td>147770</td><td>0.3621844</td><td>0.6371731</td><td>Republican</td><td>2018</td><td>female</td><td>male  </td><td>male  </td><td>Trump</td></tr>\n",
       "\t<tr><td>AL</td><td>4</td><td>Lee Auman         </td><td>Robert Aderholt</td><td> 46492</td><td>184255</td><td>0.2012911</td><td>0.7977477</td><td>Republican</td><td>2018</td><td>male  </td><td>male  </td><td>male  </td><td>Trump</td></tr>\n",
       "\t<tr><td>AL</td><td>6</td><td>Danner Kline      </td><td>Gary Palmer    </td><td> 85644</td><td>192542</td><td>0.3077089</td><td>0.6917809</td><td>Republican</td><td>2018</td><td>male  </td><td>male  </td><td>male  </td><td>Trump</td></tr>\n",
       "</tbody>\n",
       "</table>\n"
      ],
      "text/latex": [
       "A grouped\\_df: 6 × 14\n",
       "\\begin{tabular}{llllllllllllll}\n",
       " state\\_po & district & candidate\\_democrat & candidate\\_republican & total\\_votes\\_democrat & total\\_votes\\_republican & vote\\_share\\_dem & vote\\_share\\_rep & winner\\_party & year & gender\\_dem & gender\\_rep & winner\\_gender & pres\\_winner\\\\\n",
       " <chr> & <dbl> & <chr> & <chr> & <dbl> & <dbl> & <dbl> & <dbl> & <chr> & <dbl> & <chr> & <chr> & <chr> & <chr>\\\\\n",
       "\\hline\n",
       "\t AK & 0 & Alyse S. Galvin    & Don Young       & 131199 & 149779 & 0.4649710 & 0.5308187 & Republican & 2018 & female & male   & male   & Trump\\\\\n",
       "\t AL & 1 & Robert Kennedy Jr. & Bradley Byrne   &  89226 & 153228 & 0.3677648 & 0.6315633 & Republican & 2018 & male   & male   & male   & Trump\\\\\n",
       "\t AL & 2 & Tabitha Isner      & Martha Roby     &  86931 & 138879 & 0.3842594 & 0.6138841 & Republican & 2018 & female & female & female & Trump\\\\\n",
       "\t AL & 3 & Mallory Hagan      & Mike Rogers     &  83996 & 147770 & 0.3621844 & 0.6371731 & Republican & 2018 & female & male   & male   & Trump\\\\\n",
       "\t AL & 4 & Lee Auman          & Robert Aderholt &  46492 & 184255 & 0.2012911 & 0.7977477 & Republican & 2018 & male   & male   & male   & Trump\\\\\n",
       "\t AL & 6 & Danner Kline       & Gary Palmer     &  85644 & 192542 & 0.3077089 & 0.6917809 & Republican & 2018 & male   & male   & male   & Trump\\\\\n",
       "\\end{tabular}\n"
      ],
      "text/markdown": [
       "\n",
       "A grouped_df: 6 × 14\n",
       "\n",
       "| state_po &lt;chr&gt; | district &lt;dbl&gt; | candidate_democrat &lt;chr&gt; | candidate_republican &lt;chr&gt; | total_votes_democrat &lt;dbl&gt; | total_votes_republican &lt;dbl&gt; | vote_share_dem &lt;dbl&gt; | vote_share_rep &lt;dbl&gt; | winner_party &lt;chr&gt; | year &lt;dbl&gt; | gender_dem &lt;chr&gt; | gender_rep &lt;chr&gt; | winner_gender &lt;chr&gt; | pres_winner &lt;chr&gt; |\n",
       "|---|---|---|---|---|---|---|---|---|---|---|---|---|---|\n",
       "| AK | 0 | Alyse S. Galvin    | Don Young       | 131199 | 149779 | 0.4649710 | 0.5308187 | Republican | 2018 | female | male   | male   | Trump |\n",
       "| AL | 1 | Robert Kennedy Jr. | Bradley Byrne   |  89226 | 153228 | 0.3677648 | 0.6315633 | Republican | 2018 | male   | male   | male   | Trump |\n",
       "| AL | 2 | Tabitha Isner      | Martha Roby     |  86931 | 138879 | 0.3842594 | 0.6138841 | Republican | 2018 | female | female | female | Trump |\n",
       "| AL | 3 | Mallory Hagan      | Mike Rogers     |  83996 | 147770 | 0.3621844 | 0.6371731 | Republican | 2018 | female | male   | male   | Trump |\n",
       "| AL | 4 | Lee Auman          | Robert Aderholt |  46492 | 184255 | 0.2012911 | 0.7977477 | Republican | 2018 | male   | male   | male   | Trump |\n",
       "| AL | 6 | Danner Kline       | Gary Palmer     |  85644 | 192542 | 0.3077089 | 0.6917809 | Republican | 2018 | male   | male   | male   | Trump |\n",
       "\n"
      ],
      "text/plain": [
       "  state_po district candidate_democrat candidate_republican\n",
       "1 AK       0        Alyse S. Galvin    Don Young           \n",
       "2 AL       1        Robert Kennedy Jr. Bradley Byrne       \n",
       "3 AL       2        Tabitha Isner      Martha Roby         \n",
       "4 AL       3        Mallory Hagan      Mike Rogers         \n",
       "5 AL       4        Lee Auman          Robert Aderholt     \n",
       "6 AL       6        Danner Kline       Gary Palmer         \n",
       "  total_votes_democrat total_votes_republican vote_share_dem vote_share_rep\n",
       "1 131199               149779                 0.4649710      0.5308187     \n",
       "2  89226               153228                 0.3677648      0.6315633     \n",
       "3  86931               138879                 0.3842594      0.6138841     \n",
       "4  83996               147770                 0.3621844      0.6371731     \n",
       "5  46492               184255                 0.2012911      0.7977477     \n",
       "6  85644               192542                 0.3077089      0.6917809     \n",
       "  winner_party year gender_dem gender_rep winner_gender pres_winner\n",
       "1 Republican   2018 female     male       male          Trump      \n",
       "2 Republican   2018 male       male       male          Trump      \n",
       "3 Republican   2018 female     female     female        Trump      \n",
       "4 Republican   2018 female     male       male          Trump      \n",
       "5 Republican   2018 male       male       male          Trump      \n",
       "6 Republican   2018 male       male       male          Trump      "
      ]
     },
     "metadata": {},
     "output_type": "display_data"
    }
   ],
   "source": [
    "## Match CD to presidential results\n",
    "\n",
    "pres_results_2018 <- pres_results_2018 %>%\n",
    "    mutate(Party = case_when(Party == \"(R)\" ~ \"republican\",\n",
    "                            Party == \"(D)\" ~ \"democrat\",\n",
    "                            TRUE ~ \"other\"),\n",
    "          state = substr(CD, start = 1, stop = 2),\n",
    "          district = str_sub(CD, -2, -1)) %>%\n",
    "    select(-CD) %>%\n",
    "    mutate(district = replace(district, district == \"AL\", \"0\"))\n",
    "\n",
    "pres_results_2018$district <- as.numeric(pres_results_2018$district)\n",
    "CD_results_2018_wide$district <- as.numeric(CD_results_2018_wide$district)\n",
    "\n",
    "\n",
    "head(pres_results_2018)\n",
    "\n",
    "pres_results_join <- pres_results_2018 %>%\n",
    "    select(state, district, Winner)\n",
    "\n",
    "\n",
    "CD_results_2018_wide <- CD_results_2018_wide %>%\n",
    "    left_join(pres_results_join, by = c(\"state_po\" = \"state\", \"district\" = \"district\")) %>%\n",
    "    rename(pres_winner = Winner)\n",
    "\n",
    "head(CD_results_2018_wide)\n",
    "\n",
    "\n"
   ]
  },
  {
   "cell_type": "code",
   "execution_count": 46,
   "metadata": {},
   "outputs": [
    {
     "data": {
      "text/html": [
       "<table>\n",
       "<caption>A grouped_df: 6 × 15</caption>\n",
       "<thead>\n",
       "\t<tr><th scope=col>state</th><th scope=col>district</th><th scope=col>candidate_democrat</th><th scope=col>candidate_republican</th><th scope=col>total_votes_democrat</th><th scope=col>total_votes_republican</th><th scope=col>vote_share_dem</th><th scope=col>vote_share_rep</th><th scope=col>winner_party</th><th scope=col>year</th><th scope=col>gender_dem</th><th scope=col>gender_rep</th><th scope=col>winner_gender</th><th scope=col>pres_winner</th><th scope=col>flip</th></tr>\n",
       "\t<tr><th scope=col>&lt;chr&gt;</th><th scope=col>&lt;dbl&gt;</th><th scope=col>&lt;chr&gt;</th><th scope=col>&lt;chr&gt;</th><th scope=col>&lt;dbl&gt;</th><th scope=col>&lt;dbl&gt;</th><th scope=col>&lt;dbl&gt;</th><th scope=col>&lt;dbl&gt;</th><th scope=col>&lt;chr&gt;</th><th scope=col>&lt;dbl&gt;</th><th scope=col>&lt;chr&gt;</th><th scope=col>&lt;chr&gt;</th><th scope=col>&lt;chr&gt;</th><th scope=col>&lt;chr&gt;</th><th scope=col>&lt;lgl&gt;</th></tr>\n",
       "</thead>\n",
       "<tbody>\n",
       "\t<tr><td>AK</td><td>0</td><td>Alyse S. Galvin   </td><td>Don Young      </td><td>131199</td><td>149779</td><td>0.4649710</td><td>0.5308187</td><td>Republican</td><td>2018</td><td>female</td><td>male  </td><td>male  </td><td>Trump</td><td>FALSE</td></tr>\n",
       "\t<tr><td>AL</td><td>1</td><td>Robert Kennedy Jr.</td><td>Bradley Byrne  </td><td> 89226</td><td>153228</td><td>0.3677648</td><td>0.6315633</td><td>Republican</td><td>2018</td><td>male  </td><td>male  </td><td>male  </td><td>Trump</td><td>FALSE</td></tr>\n",
       "\t<tr><td>AL</td><td>2</td><td>Tabitha Isner     </td><td>Martha Roby    </td><td> 86931</td><td>138879</td><td>0.3842594</td><td>0.6138841</td><td>Republican</td><td>2018</td><td>female</td><td>female</td><td>female</td><td>Trump</td><td>FALSE</td></tr>\n",
       "\t<tr><td>AL</td><td>3</td><td>Mallory Hagan     </td><td>Mike Rogers    </td><td> 83996</td><td>147770</td><td>0.3621844</td><td>0.6371731</td><td>Republican</td><td>2018</td><td>female</td><td>male  </td><td>male  </td><td>Trump</td><td>FALSE</td></tr>\n",
       "\t<tr><td>AL</td><td>4</td><td>Lee Auman         </td><td>Robert Aderholt</td><td> 46492</td><td>184255</td><td>0.2012911</td><td>0.7977477</td><td>Republican</td><td>2018</td><td>male  </td><td>male  </td><td>male  </td><td>Trump</td><td>FALSE</td></tr>\n",
       "\t<tr><td>AL</td><td>6</td><td>Danner Kline      </td><td>Gary Palmer    </td><td> 85644</td><td>192542</td><td>0.3077089</td><td>0.6917809</td><td>Republican</td><td>2018</td><td>male  </td><td>male  </td><td>male  </td><td>Trump</td><td>FALSE</td></tr>\n",
       "</tbody>\n",
       "</table>\n"
      ],
      "text/latex": [
       "A grouped\\_df: 6 × 15\n",
       "\\begin{tabular}{lllllllllllllll}\n",
       " state & district & candidate\\_democrat & candidate\\_republican & total\\_votes\\_democrat & total\\_votes\\_republican & vote\\_share\\_dem & vote\\_share\\_rep & winner\\_party & year & gender\\_dem & gender\\_rep & winner\\_gender & pres\\_winner & flip\\\\\n",
       " <chr> & <dbl> & <chr> & <chr> & <dbl> & <dbl> & <dbl> & <dbl> & <chr> & <dbl> & <chr> & <chr> & <chr> & <chr> & <lgl>\\\\\n",
       "\\hline\n",
       "\t AK & 0 & Alyse S. Galvin    & Don Young       & 131199 & 149779 & 0.4649710 & 0.5308187 & Republican & 2018 & female & male   & male   & Trump & FALSE\\\\\n",
       "\t AL & 1 & Robert Kennedy Jr. & Bradley Byrne   &  89226 & 153228 & 0.3677648 & 0.6315633 & Republican & 2018 & male   & male   & male   & Trump & FALSE\\\\\n",
       "\t AL & 2 & Tabitha Isner      & Martha Roby     &  86931 & 138879 & 0.3842594 & 0.6138841 & Republican & 2018 & female & female & female & Trump & FALSE\\\\\n",
       "\t AL & 3 & Mallory Hagan      & Mike Rogers     &  83996 & 147770 & 0.3621844 & 0.6371731 & Republican & 2018 & female & male   & male   & Trump & FALSE\\\\\n",
       "\t AL & 4 & Lee Auman          & Robert Aderholt &  46492 & 184255 & 0.2012911 & 0.7977477 & Republican & 2018 & male   & male   & male   & Trump & FALSE\\\\\n",
       "\t AL & 6 & Danner Kline       & Gary Palmer     &  85644 & 192542 & 0.3077089 & 0.6917809 & Republican & 2018 & male   & male   & male   & Trump & FALSE\\\\\n",
       "\\end{tabular}\n"
      ],
      "text/markdown": [
       "\n",
       "A grouped_df: 6 × 15\n",
       "\n",
       "| state &lt;chr&gt; | district &lt;dbl&gt; | candidate_democrat &lt;chr&gt; | candidate_republican &lt;chr&gt; | total_votes_democrat &lt;dbl&gt; | total_votes_republican &lt;dbl&gt; | vote_share_dem &lt;dbl&gt; | vote_share_rep &lt;dbl&gt; | winner_party &lt;chr&gt; | year &lt;dbl&gt; | gender_dem &lt;chr&gt; | gender_rep &lt;chr&gt; | winner_gender &lt;chr&gt; | pres_winner &lt;chr&gt; | flip &lt;lgl&gt; |\n",
       "|---|---|---|---|---|---|---|---|---|---|---|---|---|---|---|\n",
       "| AK | 0 | Alyse S. Galvin    | Don Young       | 131199 | 149779 | 0.4649710 | 0.5308187 | Republican | 2018 | female | male   | male   | Trump | FALSE |\n",
       "| AL | 1 | Robert Kennedy Jr. | Bradley Byrne   |  89226 | 153228 | 0.3677648 | 0.6315633 | Republican | 2018 | male   | male   | male   | Trump | FALSE |\n",
       "| AL | 2 | Tabitha Isner      | Martha Roby     |  86931 | 138879 | 0.3842594 | 0.6138841 | Republican | 2018 | female | female | female | Trump | FALSE |\n",
       "| AL | 3 | Mallory Hagan      | Mike Rogers     |  83996 | 147770 | 0.3621844 | 0.6371731 | Republican | 2018 | female | male   | male   | Trump | FALSE |\n",
       "| AL | 4 | Lee Auman          | Robert Aderholt |  46492 | 184255 | 0.2012911 | 0.7977477 | Republican | 2018 | male   | male   | male   | Trump | FALSE |\n",
       "| AL | 6 | Danner Kline       | Gary Palmer     |  85644 | 192542 | 0.3077089 | 0.6917809 | Republican | 2018 | male   | male   | male   | Trump | FALSE |\n",
       "\n"
      ],
      "text/plain": [
       "  state district candidate_democrat candidate_republican total_votes_democrat\n",
       "1 AK    0        Alyse S. Galvin    Don Young            131199              \n",
       "2 AL    1        Robert Kennedy Jr. Bradley Byrne         89226              \n",
       "3 AL    2        Tabitha Isner      Martha Roby           86931              \n",
       "4 AL    3        Mallory Hagan      Mike Rogers           83996              \n",
       "5 AL    4        Lee Auman          Robert Aderholt       46492              \n",
       "6 AL    6        Danner Kline       Gary Palmer           85644              \n",
       "  total_votes_republican vote_share_dem vote_share_rep winner_party year\n",
       "1 149779                 0.4649710      0.5308187      Republican   2018\n",
       "2 153228                 0.3677648      0.6315633      Republican   2018\n",
       "3 138879                 0.3842594      0.6138841      Republican   2018\n",
       "4 147770                 0.3621844      0.6371731      Republican   2018\n",
       "5 184255                 0.2012911      0.7977477      Republican   2018\n",
       "6 192542                 0.3077089      0.6917809      Republican   2018\n",
       "  gender_dem gender_rep winner_gender pres_winner flip \n",
       "1 female     male       male          Trump       FALSE\n",
       "2 male       male       male          Trump       FALSE\n",
       "3 female     female     female        Trump       FALSE\n",
       "4 female     male       male          Trump       FALSE\n",
       "5 male       male       male          Trump       FALSE\n",
       "6 male       male       male          Trump       FALSE"
      ]
     },
     "metadata": {},
     "output_type": "display_data"
    }
   ],
   "source": [
    "## Identify flips\n",
    "\n",
    "CD_results_2018_wide <- CD_results_2018_wide %>%\n",
    "    mutate(flip = case_when(pres_winner == \"Trump\" & winner_party == \"Democrat\" ~ TRUE,\n",
    "                           TRUE ~ FALSE)) %>%\n",
    "    rename(state = state_po)\n",
    "\n",
    "head(CD_results_2018_wide)\n",
    "\n"
   ]
  },
  {
   "cell_type": "code",
   "execution_count": 47,
   "metadata": {},
   "outputs": [],
   "source": [
    "## Save wide dataset\n",
    "# commented out to prevent overwrite\n",
    "# write.csv(CD_results_2018_wide, \"flipped_house_2018_wide.csv\")\n"
   ]
  },
  {
   "cell_type": "code",
   "execution_count": 48,
   "metadata": {},
   "outputs": [
    {
     "data": {
      "text/html": [
       "<table>\n",
       "<caption>A grouped_df: 6 × 10</caption>\n",
       "<thead>\n",
       "\t<tr><th scope=col>state</th><th scope=col>district</th><th scope=col>candidate</th><th scope=col>total_votes</th><th scope=col>vote_share</th><th scope=col>winner_party</th><th scope=col>winner_gender</th><th scope=col>pres_winner</th><th scope=col>flip</th><th scope=col>year</th></tr>\n",
       "\t<tr><th scope=col>&lt;chr&gt;</th><th scope=col>&lt;dbl&gt;</th><th scope=col>&lt;chr&gt;</th><th scope=col>&lt;dbl&gt;</th><th scope=col>&lt;dbl&gt;</th><th scope=col>&lt;chr&gt;</th><th scope=col>&lt;chr&gt;</th><th scope=col>&lt;chr&gt;</th><th scope=col>&lt;lgl&gt;</th><th scope=col>&lt;dbl&gt;</th></tr>\n",
       "</thead>\n",
       "<tbody>\n",
       "\t<tr><td>AK</td><td>0</td><td>Alyse S. Galvin   </td><td>131199</td><td>0.4649710</td><td>Republican</td><td>male  </td><td>Trump</td><td>FALSE</td><td>2018</td></tr>\n",
       "\t<tr><td>AL</td><td>1</td><td>Robert Kennedy Jr.</td><td> 89226</td><td>0.3677648</td><td>Republican</td><td>male  </td><td>Trump</td><td>FALSE</td><td>2018</td></tr>\n",
       "\t<tr><td>AL</td><td>2</td><td>Tabitha Isner     </td><td> 86931</td><td>0.3842594</td><td>Republican</td><td>female</td><td>Trump</td><td>FALSE</td><td>2018</td></tr>\n",
       "\t<tr><td>AL</td><td>3</td><td>Mallory Hagan     </td><td> 83996</td><td>0.3621844</td><td>Republican</td><td>male  </td><td>Trump</td><td>FALSE</td><td>2018</td></tr>\n",
       "\t<tr><td>AL</td><td>4</td><td>Lee Auman         </td><td> 46492</td><td>0.2012911</td><td>Republican</td><td>male  </td><td>Trump</td><td>FALSE</td><td>2018</td></tr>\n",
       "\t<tr><td>AL</td><td>6</td><td>Danner Kline      </td><td> 85644</td><td>0.3077089</td><td>Republican</td><td>male  </td><td>Trump</td><td>FALSE</td><td>2018</td></tr>\n",
       "</tbody>\n",
       "</table>\n"
      ],
      "text/latex": [
       "A grouped\\_df: 6 × 10\n",
       "\\begin{tabular}{llllllllll}\n",
       " state & district & candidate & total\\_votes & vote\\_share & winner\\_party & winner\\_gender & pres\\_winner & flip & year\\\\\n",
       " <chr> & <dbl> & <chr> & <dbl> & <dbl> & <chr> & <chr> & <chr> & <lgl> & <dbl>\\\\\n",
       "\\hline\n",
       "\t AK & 0 & Alyse S. Galvin    & 131199 & 0.4649710 & Republican & male   & Trump & FALSE & 2018\\\\\n",
       "\t AL & 1 & Robert Kennedy Jr. &  89226 & 0.3677648 & Republican & male   & Trump & FALSE & 2018\\\\\n",
       "\t AL & 2 & Tabitha Isner      &  86931 & 0.3842594 & Republican & female & Trump & FALSE & 2018\\\\\n",
       "\t AL & 3 & Mallory Hagan      &  83996 & 0.3621844 & Republican & male   & Trump & FALSE & 2018\\\\\n",
       "\t AL & 4 & Lee Auman          &  46492 & 0.2012911 & Republican & male   & Trump & FALSE & 2018\\\\\n",
       "\t AL & 6 & Danner Kline       &  85644 & 0.3077089 & Republican & male   & Trump & FALSE & 2018\\\\\n",
       "\\end{tabular}\n"
      ],
      "text/markdown": [
       "\n",
       "A grouped_df: 6 × 10\n",
       "\n",
       "| state &lt;chr&gt; | district &lt;dbl&gt; | candidate &lt;chr&gt; | total_votes &lt;dbl&gt; | vote_share &lt;dbl&gt; | winner_party &lt;chr&gt; | winner_gender &lt;chr&gt; | pres_winner &lt;chr&gt; | flip &lt;lgl&gt; | year &lt;dbl&gt; |\n",
       "|---|---|---|---|---|---|---|---|---|---|\n",
       "| AK | 0 | Alyse S. Galvin    | 131199 | 0.4649710 | Republican | male   | Trump | FALSE | 2018 |\n",
       "| AL | 1 | Robert Kennedy Jr. |  89226 | 0.3677648 | Republican | male   | Trump | FALSE | 2018 |\n",
       "| AL | 2 | Tabitha Isner      |  86931 | 0.3842594 | Republican | female | Trump | FALSE | 2018 |\n",
       "| AL | 3 | Mallory Hagan      |  83996 | 0.3621844 | Republican | male   | Trump | FALSE | 2018 |\n",
       "| AL | 4 | Lee Auman          |  46492 | 0.2012911 | Republican | male   | Trump | FALSE | 2018 |\n",
       "| AL | 6 | Danner Kline       |  85644 | 0.3077089 | Republican | male   | Trump | FALSE | 2018 |\n",
       "\n"
      ],
      "text/plain": [
       "  state district candidate          total_votes vote_share winner_party\n",
       "1 AK    0        Alyse S. Galvin    131199      0.4649710  Republican  \n",
       "2 AL    1        Robert Kennedy Jr.  89226      0.3677648  Republican  \n",
       "3 AL    2        Tabitha Isner       86931      0.3842594  Republican  \n",
       "4 AL    3        Mallory Hagan       83996      0.3621844  Republican  \n",
       "5 AL    4        Lee Auman           46492      0.2012911  Republican  \n",
       "6 AL    6        Danner Kline        85644      0.3077089  Republican  \n",
       "  winner_gender pres_winner flip  year\n",
       "1 male          Trump       FALSE 2018\n",
       "2 male          Trump       FALSE 2018\n",
       "3 female        Trump       FALSE 2018\n",
       "4 male          Trump       FALSE 2018\n",
       "5 male          Trump       FALSE 2018\n",
       "6 male          Trump       FALSE 2018"
      ]
     },
     "metadata": {},
     "output_type": "display_data"
    }
   ],
   "source": [
    "## Reformat to long dataset\n",
    "\n",
    "Dem_data <- CD_results_2018_wide %>%\n",
    "    select(state, district, candidate_democrat, total_votes_democrat, vote_share_dem, winner_party, winner_gender, pres_winner, flip, year) %>%\n",
    "    rename(candidate = candidate_democrat,\n",
    "           total_votes = total_votes_democrat,\n",
    "          vote_share = vote_share_dem)\n",
    "\n",
    "Rep_data <- CD_results_2018_wide %>%\n",
    "    select(state, district, candidate_republican, total_votes_republican, vote_share_rep, winner_party, winner_gender, pres_winner, flip, year) %>%\n",
    "    rename(candidate = candidate_republican,\n",
    "    total_votes = total_votes_republican,\n",
    "    vote_share = vote_share_rep)\n",
    "\n",
    "\n",
    "CD_results_2018_long <- rbind(Dem_data, Rep_data)\n",
    "\n",
    "\n",
    "head(CD_results_2018_long)\n"
   ]
  },
  {
   "cell_type": "code",
   "execution_count": 49,
   "metadata": {},
   "outputs": [],
   "source": [
    "## Save long dataset\n",
    "# commented out to prevent overwrite\n",
    "# write.csv(CD_results_2018_long, \"flipped_house_2018_long.csv\")"
   ]
  },
  {
   "cell_type": "code",
   "execution_count": null,
   "metadata": {},
   "outputs": [],
   "source": []
  },
  {
   "cell_type": "code",
   "execution_count": 86,
   "metadata": {},
   "outputs": [
    {
     "name": "stderr",
     "output_type": "stream",
     "text": [
      "`summarise()` ungrouping output (override with `.groups` argument)\n",
      "\n"
     ]
    },
    {
     "data": {
      "text/html": [
       "<table>\n",
       "<caption>A tibble: 1 × 2</caption>\n",
       "<thead>\n",
       "\t<tr><th scope=col>office</th><th scope=col>n()</th></tr>\n",
       "\t<tr><th scope=col>&lt;chr&gt;</th><th scope=col>&lt;int&gt;</th></tr>\n",
       "</thead>\n",
       "<tbody>\n",
       "\t<tr><td>U.S. Representative</td><td>1411</td></tr>\n",
       "</tbody>\n",
       "</table>\n"
      ],
      "text/latex": [
       "A tibble: 1 × 2\n",
       "\\begin{tabular}{ll}\n",
       " office & n()\\\\\n",
       " <chr> & <int>\\\\\n",
       "\\hline\n",
       "\t U.S. Representative & 1411\\\\\n",
       "\\end{tabular}\n"
      ],
      "text/markdown": [
       "\n",
       "A tibble: 1 × 2\n",
       "\n",
       "| office &lt;chr&gt; | n() &lt;int&gt; |\n",
       "|---|---|\n",
       "| U.S. Representative | 1411 |\n",
       "\n"
      ],
      "text/plain": [
       "  office              n() \n",
       "1 U.S. Representative 1411"
      ]
     },
     "metadata": {},
     "output_type": "display_data"
    }
   ],
   "source": []
  },
  {
   "cell_type": "code",
   "execution_count": 35,
   "metadata": {},
   "outputs": [
    {
     "ename": "ERROR",
     "evalue": "Error in `$<-.data.frame`(`*tmp*`, district, value = numeric(0)): replacement has 0 rows, data has 435\n",
     "output_type": "error",
     "traceback": [
      "Error in `$<-.data.frame`(`*tmp*`, district, value = numeric(0)): replacement has 0 rows, data has 435\nTraceback:\n",
      "1. `$<-`(`*tmp*`, district, value = numeric(0))",
      "2. `$<-.data.frame`(`*tmp*`, district, value = numeric(0))",
      "3. stop(sprintf(ngettext(N, \"replacement has %d row, data has %d\", \n .     \"replacement has %d rows, data has %d\"), N, nrows), domain = NA)"
     ]
    }
   ],
   "source": []
  },
  {
   "cell_type": "code",
   "execution_count": null,
   "metadata": {},
   "outputs": [],
   "source": []
  }
 ],
 "metadata": {
  "kernelspec": {
   "display_name": "R",
   "language": "R",
   "name": "ir"
  },
  "language_info": {
   "codemirror_mode": "r",
   "file_extension": ".r",
   "mimetype": "text/x-r-source",
   "name": "R",
   "pygments_lexer": "r",
   "version": "4.0.0"
  }
 },
 "nbformat": 4,
 "nbformat_minor": 4
}
