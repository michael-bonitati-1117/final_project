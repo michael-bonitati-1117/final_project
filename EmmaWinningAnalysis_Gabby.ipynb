{
 "cells": [
  {
   "cell_type": "code",
   "execution_count": 1,
   "metadata": {},
   "outputs": [
    {
     "name": "stderr",
     "output_type": "stream",
     "text": [
      "Updating HTML index of packages in '.Library'\n",
      "\n",
      "Making 'packages.html' ...\n",
      " done\n",
      "\n",
      "Warning message:\n",
      "“package ‘ggplot2’ was built under R version 4.0.1”\n",
      "── \u001b[1mAttaching packages\u001b[22m ─────────────────────────────────────── tidyverse 1.3.0 ──\n",
      "\n",
      "\u001b[32m✔\u001b[39m \u001b[34mtibble \u001b[39m 3.0.3     \u001b[32m✔\u001b[39m \u001b[34mdplyr  \u001b[39m 1.0.2\n",
      "\u001b[32m✔\u001b[39m \u001b[34mtidyr  \u001b[39m 1.1.2     \u001b[32m✔\u001b[39m \u001b[34mstringr\u001b[39m 1.4.0\n",
      "\u001b[32m✔\u001b[39m \u001b[34mreadr  \u001b[39m 1.3.1     \u001b[32m✔\u001b[39m \u001b[34mforcats\u001b[39m 0.5.0\n",
      "\u001b[32m✔\u001b[39m \u001b[34mpurrr  \u001b[39m 0.3.4     \n",
      "\n",
      "Warning message:\n",
      "“package ‘tibble’ was built under R version 4.0.2”\n",
      "Warning message:\n",
      "“package ‘tidyr’ was built under R version 4.0.2”\n",
      "Warning message:\n",
      "“package ‘dplyr’ was built under R version 4.0.2”\n",
      "── \u001b[1mConflicts\u001b[22m ────────────────────────────────────────── tidyverse_conflicts() ──\n",
      "\u001b[31m✖\u001b[39m \u001b[34mdplyr\u001b[39m::\u001b[32mfilter()\u001b[39m masks \u001b[34mstats\u001b[39m::filter()\n",
      "\u001b[31m✖\u001b[39m \u001b[34mdplyr\u001b[39m::\u001b[32mlag()\u001b[39m    masks \u001b[34mstats\u001b[39m::lag()\n",
      "\n",
      "Warning message:\n",
      "“package ‘broom’ was built under R version 4.0.2”\n",
      "Warning message:\n",
      "“package ‘knitr’ was built under R version 4.0.1”\n"
     ]
    }
   ],
   "source": [
    "install.packages(\"reactable\")\n",
    "library(reactable)\n",
    "library(ggplot2)\n",
    "library(tidyverse)\n",
    "library(broom)\n",
    "library(dplyr)\n",
    "library(knitr)\n",
    "womenwinning_df <- read.csv(\"officeholders_race_ethnicity.csv\")"
   ]
  },
  {
   "cell_type": "markdown",
   "metadata": {},
   "source": [
    "### Intial exploring"
   ]
  },
  {
   "cell_type": "code",
   "execution_count": 2,
   "metadata": {},
   "outputs": [
    {
     "data": {
      "text/html": [
       "<table>\n",
       "<caption>A data.frame: 6 × 11</caption>\n",
       "<thead>\n",
       "\t<tr><th></th><th scope=col>id</th><th scope=col>year</th><th scope=col>first_name</th><th scope=col>middle_name</th><th scope=col>last_name</th><th scope=col>party</th><th scope=col>level</th><th scope=col>position</th><th scope=col>state</th><th scope=col>district</th><th scope=col>race_ethnicity</th></tr>\n",
       "\t<tr><th></th><th scope=col>&lt;chr&gt;</th><th scope=col>&lt;int&gt;</th><th scope=col>&lt;chr&gt;</th><th scope=col>&lt;chr&gt;</th><th scope=col>&lt;chr&gt;</th><th scope=col>&lt;chr&gt;</th><th scope=col>&lt;chr&gt;</th><th scope=col>&lt;chr&gt;</th><th scope=col>&lt;chr&gt;</th><th scope=col>&lt;chr&gt;</th><th scope=col>&lt;chr&gt;</th></tr>\n",
       "</thead>\n",
       "<tbody>\n",
       "\t<tr><th scope=row>1</th><td>566417k</td><td>2017</td><td>Kim  </td><td>K.</td><td>Abbott</td><td>Democrat</td><td>State Legislative</td><td>State Representative</td><td>Montana - MT </td><td>83</td><td>White</td></tr>\n",
       "\t<tr><th scope=row>2</th><td>566417k</td><td>2018</td><td>Kim  </td><td>K.</td><td>Abbott</td><td>Democrat</td><td>State Legislative</td><td>State Representative</td><td>Montana - MT </td><td>83</td><td>White</td></tr>\n",
       "\t<tr><th scope=row>3</th><td>566417k</td><td>2019</td><td>Kim  </td><td>K.</td><td>Abbott</td><td>Democrat</td><td>State Legislative</td><td>State Representative</td><td>Montana - MT </td><td>83</td><td>White</td></tr>\n",
       "\t<tr><th scope=row>4</th><td>566417k</td><td>2020</td><td>Kim  </td><td>K.</td><td>Abbott</td><td>Democrat</td><td>State Legislative</td><td>State Representative</td><td>Montana - MT </td><td>83</td><td>White</td></tr>\n",
       "\t<tr><th scope=row>5</th><td>14772c </td><td>2010</td><td>Robin</td><td>A.</td><td>Abbott</td><td>Democrat</td><td>State Legislative</td><td>State Representative</td><td>Virginia - VA</td><td>93</td><td>White</td></tr>\n",
       "\t<tr><th scope=row>6</th><td>14772c </td><td>2011</td><td>Robin</td><td>A.</td><td>Abbott</td><td>Democrat</td><td>State Legislative</td><td>State Representative</td><td>Virginia - VA</td><td>93</td><td>White</td></tr>\n",
       "</tbody>\n",
       "</table>\n"
      ],
      "text/latex": [
       "A data.frame: 6 × 11\n",
       "\\begin{tabular}{r|lllllllllll}\n",
       "  & id & year & first\\_name & middle\\_name & last\\_name & party & level & position & state & district & race\\_ethnicity\\\\\n",
       "  & <chr> & <int> & <chr> & <chr> & <chr> & <chr> & <chr> & <chr> & <chr> & <chr> & <chr>\\\\\n",
       "\\hline\n",
       "\t1 & 566417k & 2017 & Kim   & K. & Abbott & Democrat & State Legislative & State Representative & Montana - MT  & 83 & White\\\\\n",
       "\t2 & 566417k & 2018 & Kim   & K. & Abbott & Democrat & State Legislative & State Representative & Montana - MT  & 83 & White\\\\\n",
       "\t3 & 566417k & 2019 & Kim   & K. & Abbott & Democrat & State Legislative & State Representative & Montana - MT  & 83 & White\\\\\n",
       "\t4 & 566417k & 2020 & Kim   & K. & Abbott & Democrat & State Legislative & State Representative & Montana - MT  & 83 & White\\\\\n",
       "\t5 & 14772c  & 2010 & Robin & A. & Abbott & Democrat & State Legislative & State Representative & Virginia - VA & 93 & White\\\\\n",
       "\t6 & 14772c  & 2011 & Robin & A. & Abbott & Democrat & State Legislative & State Representative & Virginia - VA & 93 & White\\\\\n",
       "\\end{tabular}\n"
      ],
      "text/markdown": [
       "\n",
       "A data.frame: 6 × 11\n",
       "\n",
       "| <!--/--> | id &lt;chr&gt; | year &lt;int&gt; | first_name &lt;chr&gt; | middle_name &lt;chr&gt; | last_name &lt;chr&gt; | party &lt;chr&gt; | level &lt;chr&gt; | position &lt;chr&gt; | state &lt;chr&gt; | district &lt;chr&gt; | race_ethnicity &lt;chr&gt; |\n",
       "|---|---|---|---|---|---|---|---|---|---|---|---|\n",
       "| 1 | 566417k | 2017 | Kim   | K. | Abbott | Democrat | State Legislative | State Representative | Montana - MT  | 83 | White |\n",
       "| 2 | 566417k | 2018 | Kim   | K. | Abbott | Democrat | State Legislative | State Representative | Montana - MT  | 83 | White |\n",
       "| 3 | 566417k | 2019 | Kim   | K. | Abbott | Democrat | State Legislative | State Representative | Montana - MT  | 83 | White |\n",
       "| 4 | 566417k | 2020 | Kim   | K. | Abbott | Democrat | State Legislative | State Representative | Montana - MT  | 83 | White |\n",
       "| 5 | 14772c  | 2010 | Robin | A. | Abbott | Democrat | State Legislative | State Representative | Virginia - VA | 93 | White |\n",
       "| 6 | 14772c  | 2011 | Robin | A. | Abbott | Democrat | State Legislative | State Representative | Virginia - VA | 93 | White |\n",
       "\n"
      ],
      "text/plain": [
       "  id      year first_name middle_name last_name party    level            \n",
       "1 566417k 2017 Kim        K.          Abbott    Democrat State Legislative\n",
       "2 566417k 2018 Kim        K.          Abbott    Democrat State Legislative\n",
       "3 566417k 2019 Kim        K.          Abbott    Democrat State Legislative\n",
       "4 566417k 2020 Kim        K.          Abbott    Democrat State Legislative\n",
       "5 14772c  2010 Robin      A.          Abbott    Democrat State Legislative\n",
       "6 14772c  2011 Robin      A.          Abbott    Democrat State Legislative\n",
       "  position             state         district race_ethnicity\n",
       "1 State Representative Montana - MT  83       White         \n",
       "2 State Representative Montana - MT  83       White         \n",
       "3 State Representative Montana - MT  83       White         \n",
       "4 State Representative Montana - MT  83       White         \n",
       "5 State Representative Virginia - VA 93       White         \n",
       "6 State Representative Virginia - VA 93       White         "
      ]
     },
     "metadata": {},
     "output_type": "display_data"
    }
   ],
   "source": [
    "head(womenwinning_df)"
   ]
  },
  {
   "cell_type": "code",
   "execution_count": 3,
   "metadata": {},
   "outputs": [
    {
     "data": {
      "text/plain": [
       "\n",
       "                                     Asian/Pacific Islander \n",
       "                                                        634 \n",
       "                                     Black/African American \n",
       "                                                       3695 \n",
       "                                            Hispanic/Latina \n",
       "                                                       1397 \n",
       "                               Middle Eastern/North African \n",
       "                                                         22 \n",
       "                                                Multiracial \n",
       "                                                         15 \n",
       "Multiracial, Black/African American, Asian/Pacific Islander \n",
       "                                                         18 "
      ]
     },
     "metadata": {},
     "output_type": "display_data"
    }
   ],
   "source": [
    "table_of_race <- table(womenwinning_df[\"race_ethnicity\"])\n",
    "head(table_of_race)"
   ]
  },
  {
   "cell_type": "code",
   "execution_count": 4,
   "metadata": {},
   "outputs": [
    {
     "data": {
      "text/plain": [
       "\n",
       "   Federal/Congress   State Legislative Statewide Executive    Territorial/D.C. \n",
       "               1381               24540                1017                 112 "
      ]
     },
     "metadata": {},
     "output_type": "display_data"
    }
   ],
   "source": [
    "table_of_levels <- table(womenwinning_df[\"level\"])\n",
    "head(table_of_levels)"
   ]
  },
  {
   "cell_type": "code",
   "execution_count": 5,
   "metadata": {},
   "outputs": [
    {
     "data": {
      "text/plain": [
       "\n",
       "             Agriculture         Attorney General                  Auditor \n",
       "                       9                       98                      106 \n",
       " Chief Financial Officer              Comptroller Corporation Commissioner \n",
       "                       3                       40                       34 "
      ]
     },
     "metadata": {},
     "output_type": "display_data"
    }
   ],
   "source": [
    "table_of_positions <- table(womenwinning_df[\"position\"])\n",
    "head(table_of_positions)"
   ]
  },
  {
   "cell_type": "markdown",
   "metadata": {},
   "source": [
    "### Making a dataframe with only the State Legislators"
   ]
  },
  {
   "cell_type": "code",
   "execution_count": 6,
   "metadata": {},
   "outputs": [
    {
     "data": {
      "text/html": [
       "<table>\n",
       "<caption>A data.frame: 6 × 11</caption>\n",
       "<thead>\n",
       "\t<tr><th></th><th scope=col>id</th><th scope=col>year</th><th scope=col>first_name</th><th scope=col>middle_name</th><th scope=col>last_name</th><th scope=col>party</th><th scope=col>level</th><th scope=col>position</th><th scope=col>state</th><th scope=col>district</th><th scope=col>race_ethnicity</th></tr>\n",
       "\t<tr><th></th><th scope=col>&lt;chr&gt;</th><th scope=col>&lt;int&gt;</th><th scope=col>&lt;chr&gt;</th><th scope=col>&lt;chr&gt;</th><th scope=col>&lt;chr&gt;</th><th scope=col>&lt;chr&gt;</th><th scope=col>&lt;chr&gt;</th><th scope=col>&lt;chr&gt;</th><th scope=col>&lt;chr&gt;</th><th scope=col>&lt;chr&gt;</th><th scope=col>&lt;chr&gt;</th></tr>\n",
       "</thead>\n",
       "<tbody>\n",
       "\t<tr><th scope=row>1</th><td>566417k</td><td>2017</td><td>Kim  </td><td>K.</td><td>Abbott</td><td>Democrat</td><td>State Legislative</td><td>State Representative</td><td>Montana - MT </td><td>83</td><td>White</td></tr>\n",
       "\t<tr><th scope=row>2</th><td>566417k</td><td>2018</td><td>Kim  </td><td>K.</td><td>Abbott</td><td>Democrat</td><td>State Legislative</td><td>State Representative</td><td>Montana - MT </td><td>83</td><td>White</td></tr>\n",
       "\t<tr><th scope=row>3</th><td>566417k</td><td>2019</td><td>Kim  </td><td>K.</td><td>Abbott</td><td>Democrat</td><td>State Legislative</td><td>State Representative</td><td>Montana - MT </td><td>83</td><td>White</td></tr>\n",
       "\t<tr><th scope=row>4</th><td>566417k</td><td>2020</td><td>Kim  </td><td>K.</td><td>Abbott</td><td>Democrat</td><td>State Legislative</td><td>State Representative</td><td>Montana - MT </td><td>83</td><td>White</td></tr>\n",
       "\t<tr><th scope=row>5</th><td>14772c </td><td>2010</td><td>Robin</td><td>A.</td><td>Abbott</td><td>Democrat</td><td>State Legislative</td><td>State Representative</td><td>Virginia - VA</td><td>93</td><td>White</td></tr>\n",
       "\t<tr><th scope=row>6</th><td>14772c </td><td>2011</td><td>Robin</td><td>A.</td><td>Abbott</td><td>Democrat</td><td>State Legislative</td><td>State Representative</td><td>Virginia - VA</td><td>93</td><td>White</td></tr>\n",
       "</tbody>\n",
       "</table>\n"
      ],
      "text/latex": [
       "A data.frame: 6 × 11\n",
       "\\begin{tabular}{r|lllllllllll}\n",
       "  & id & year & first\\_name & middle\\_name & last\\_name & party & level & position & state & district & race\\_ethnicity\\\\\n",
       "  & <chr> & <int> & <chr> & <chr> & <chr> & <chr> & <chr> & <chr> & <chr> & <chr> & <chr>\\\\\n",
       "\\hline\n",
       "\t1 & 566417k & 2017 & Kim   & K. & Abbott & Democrat & State Legislative & State Representative & Montana - MT  & 83 & White\\\\\n",
       "\t2 & 566417k & 2018 & Kim   & K. & Abbott & Democrat & State Legislative & State Representative & Montana - MT  & 83 & White\\\\\n",
       "\t3 & 566417k & 2019 & Kim   & K. & Abbott & Democrat & State Legislative & State Representative & Montana - MT  & 83 & White\\\\\n",
       "\t4 & 566417k & 2020 & Kim   & K. & Abbott & Democrat & State Legislative & State Representative & Montana - MT  & 83 & White\\\\\n",
       "\t5 & 14772c  & 2010 & Robin & A. & Abbott & Democrat & State Legislative & State Representative & Virginia - VA & 93 & White\\\\\n",
       "\t6 & 14772c  & 2011 & Robin & A. & Abbott & Democrat & State Legislative & State Representative & Virginia - VA & 93 & White\\\\\n",
       "\\end{tabular}\n"
      ],
      "text/markdown": [
       "\n",
       "A data.frame: 6 × 11\n",
       "\n",
       "| <!--/--> | id &lt;chr&gt; | year &lt;int&gt; | first_name &lt;chr&gt; | middle_name &lt;chr&gt; | last_name &lt;chr&gt; | party &lt;chr&gt; | level &lt;chr&gt; | position &lt;chr&gt; | state &lt;chr&gt; | district &lt;chr&gt; | race_ethnicity &lt;chr&gt; |\n",
       "|---|---|---|---|---|---|---|---|---|---|---|---|\n",
       "| 1 | 566417k | 2017 | Kim   | K. | Abbott | Democrat | State Legislative | State Representative | Montana - MT  | 83 | White |\n",
       "| 2 | 566417k | 2018 | Kim   | K. | Abbott | Democrat | State Legislative | State Representative | Montana - MT  | 83 | White |\n",
       "| 3 | 566417k | 2019 | Kim   | K. | Abbott | Democrat | State Legislative | State Representative | Montana - MT  | 83 | White |\n",
       "| 4 | 566417k | 2020 | Kim   | K. | Abbott | Democrat | State Legislative | State Representative | Montana - MT  | 83 | White |\n",
       "| 5 | 14772c  | 2010 | Robin | A. | Abbott | Democrat | State Legislative | State Representative | Virginia - VA | 93 | White |\n",
       "| 6 | 14772c  | 2011 | Robin | A. | Abbott | Democrat | State Legislative | State Representative | Virginia - VA | 93 | White |\n",
       "\n"
      ],
      "text/plain": [
       "  id      year first_name middle_name last_name party    level            \n",
       "1 566417k 2017 Kim        K.          Abbott    Democrat State Legislative\n",
       "2 566417k 2018 Kim        K.          Abbott    Democrat State Legislative\n",
       "3 566417k 2019 Kim        K.          Abbott    Democrat State Legislative\n",
       "4 566417k 2020 Kim        K.          Abbott    Democrat State Legislative\n",
       "5 14772c  2010 Robin      A.          Abbott    Democrat State Legislative\n",
       "6 14772c  2011 Robin      A.          Abbott    Democrat State Legislative\n",
       "  position             state         district race_ethnicity\n",
       "1 State Representative Montana - MT  83       White         \n",
       "2 State Representative Montana - MT  83       White         \n",
       "3 State Representative Montana - MT  83       White         \n",
       "4 State Representative Montana - MT  83       White         \n",
       "5 State Representative Virginia - VA 93       White         \n",
       "6 State Representative Virginia - VA 93       White         "
      ]
     },
     "metadata": {},
     "output_type": "display_data"
    }
   ],
   "source": [
    "state_leg_df <- womenwinning_df%>%filter(level == \"State Legislative\")\n",
    "        \n",
    "head(state_leg_df)"
   ]
  },
  {
   "cell_type": "code",
   "execution_count": 7,
   "metadata": {},
   "outputs": [
    {
     "data": {
      "text/html": [
       "<style>\n",
       ".list-inline {list-style: none; margin:0; padding: 0}\n",
       ".list-inline>li {display: inline-block}\n",
       ".list-inline>li:not(:last-child)::after {content: \"\\00b7\"; padding: 0 .5ex}\n",
       "</style>\n",
       "<ol class=list-inline><li>24540</li><li>11</li></ol>\n"
      ],
      "text/latex": [
       "\\begin{enumerate*}\n",
       "\\item 24540\n",
       "\\item 11\n",
       "\\end{enumerate*}\n"
      ],
      "text/markdown": [
       "1. 24540\n",
       "2. 11\n",
       "\n",
       "\n"
      ],
      "text/plain": [
       "[1] 24540    11"
      ]
     },
     "metadata": {},
     "output_type": "display_data"
    }
   ],
   "source": [
    "dim(state_leg_df) "
   ]
  },
  {
   "cell_type": "code",
   "execution_count": 8,
   "metadata": {},
   "outputs": [
    {
     "name": "stdout",
     "output_type": "stream",
     "text": [
      "\n",
      "State Representative        State Senator \n",
      "               18620                 5920 \n"
     ]
    }
   ],
   "source": [
    "tbl_of_positions2 <- table(state_leg_df[\"position\"])\n",
    "print(tbl_of_positions2) #checking for cleanness"
   ]
  },
  {
   "cell_type": "markdown",
   "metadata": {},
   "source": [
    "### Looking at Women by State, Year, Race, Region"
   ]
  },
  {
   "cell_type": "code",
   "execution_count": 9,
   "metadata": {},
   "outputs": [
    {
     "name": "stdout",
     "output_type": "stream",
     "text": [
      "\n",
      "       Alabama - AL         Alaska - AK        Arizona - AZ       Arkansas - AR \n",
      "                262                 218                 428                 369 \n",
      "    California - CA       Colorado - CO    Connecticut - CT       Delaware - DE \n",
      "                425                 542                 729                 202 \n",
      "       Florida - FL        Georgia - GA           Guam - GU         Hawaii - HI \n",
      "                559                 750                  11                 316 \n",
      "         Idaho - ID       Illinois - IL        Indiana - IN           Iowa - IA \n",
      "                392                 763                 423                 466 \n",
      "        Kansas - KS       Kentucky - KY      Louisiana - LA          Maine - ME \n",
      "                596                 325                 280                 770 \n",
      "      Maryland - MD  Massachusetts - MA       Michigan - MI      Minnesota - MN \n",
      "                805                 684                 467                 872 \n",
      "   Mississippi - MS       Missouri - MO        Montana - MT       Nebraska - NE \n",
      "                354                 612                 542                 148 \n",
      "        Nevada - NV  New Hampshire - NH     New Jersey - NJ     New Mexico - NM \n",
      "                293                1762                 481                 441 \n",
      "      New York - NY North Carolina - NC   North Dakota - ND           Ohio - OH \n",
      "                718                 557                 331                 409 \n",
      "      Oklahoma - OK         Oregon - OR   Pennsylvania - PA    Puerto Rico - PR \n",
      "                279                 388                 620                   9 \n",
      "  Rhode Island - RI South Carolina - SC   South Dakota - SD      Tennessee - TN \n",
      "                416                 285                 292                 297 \n",
      "         Texas - TX           Utah - UT        Vermont - VT       Virginia - VA \n",
      "                512                 266                 931                 373 \n",
      "    Washington - WA  West Virginia - WV      Wisconsin - WI        Wyoming - WY \n",
      "                680                 278                 429                 183 \n"
     ]
    }
   ],
   "source": [
    "tbl_by_state <- table(state_leg_df[\"state\"]) #gotta convert this to a string, \n",
    "                                             #and then we could do percents too\n",
    "print(tbl_by_state) #raw number based on location"
   ]
  },
  {
   "cell_type": "code",
   "execution_count": 10,
   "metadata": {},
   "outputs": [
    {
     "name": "stderr",
     "output_type": "stream",
     "text": [
      "`summarise()` ungrouping output (override with `.groups` argument)\n",
      "\n"
     ]
    },
    {
     "name": "stdout",
     "output_type": "stream",
     "text": [
      "\u001b[90m# A tibble: 13 x 2\u001b[39m\n",
      "    year count\n",
      "   \u001b[3m\u001b[90m<int>\u001b[39m\u001b[23m \u001b[3m\u001b[90m<int>\u001b[39m\u001b[23m\n",
      "\u001b[90m 1\u001b[39m  \u001b[4m2\u001b[24m008  \u001b[4m1\u001b[24m782\n",
      "\u001b[90m 2\u001b[39m  \u001b[4m2\u001b[24m009  \u001b[4m1\u001b[24m839\n",
      "\u001b[90m 3\u001b[39m  \u001b[4m2\u001b[24m010  \u001b[4m1\u001b[24m844\n",
      "\u001b[90m 4\u001b[39m  \u001b[4m2\u001b[24m011  \u001b[4m1\u001b[24m786\n",
      "\u001b[90m 5\u001b[39m  \u001b[4m2\u001b[24m012  \u001b[4m1\u001b[24m778\n",
      "\u001b[90m 6\u001b[39m  \u001b[4m2\u001b[24m013  \u001b[4m1\u001b[24m828\n",
      "\u001b[90m 7\u001b[39m  \u001b[4m2\u001b[24m014  \u001b[4m1\u001b[24m829\n",
      "\u001b[90m 8\u001b[39m  \u001b[4m2\u001b[24m015  \u001b[4m1\u001b[24m846\n",
      "\u001b[90m 9\u001b[39m  \u001b[4m2\u001b[24m016  \u001b[4m1\u001b[24m828\n",
      "\u001b[90m10\u001b[39m  \u001b[4m2\u001b[24m017  \u001b[4m1\u001b[24m893\n",
      "\u001b[90m11\u001b[39m  \u001b[4m2\u001b[24m018  \u001b[4m1\u001b[24m914\n",
      "\u001b[90m12\u001b[39m  \u001b[4m2\u001b[24m019  \u001b[4m2\u001b[24m169\n",
      "\u001b[90m13\u001b[39m  \u001b[4m2\u001b[24m020  \u001b[4m2\u001b[24m204\n"
     ]
    }
   ],
   "source": [
    "state_leg_yr <- state_leg_df%>%\n",
    "    group_by(year) %>%\n",
    "    summarize(\n",
    "        count = n())\n",
    "print(state_leg_yr)"
   ]
  },
  {
   "cell_type": "code",
   "execution_count": 11,
   "metadata": {},
   "outputs": [
    {
     "name": "stderr",
     "output_type": "stream",
     "text": [
      "`summarise()` ungrouping output (override with `.groups` argument)\n",
      "\n"
     ]
    },
    {
     "name": "stdout",
     "output_type": "stream",
     "text": [
      "\u001b[90m# A tibble: 2 x 2\u001b[39m\n",
      "  `race_ethnicity == \"White\"` count\n",
      "  \u001b[3m\u001b[90m<lgl>\u001b[39m\u001b[23m                       \u001b[3m\u001b[90m<int>\u001b[39m\u001b[23m\n",
      "\u001b[90m1\u001b[39m FALSE                        \u001b[4m5\u001b[24m483\n",
      "\u001b[90m2\u001b[39m TRUE                        \u001b[4m1\u001b[24m\u001b[4m9\u001b[24m057\n"
     ]
    }
   ],
   "source": [
    "state_leg_race <- state_leg_df%>%\n",
    "    group_by(race_ethnicity == \"White\") %>%\n",
    "    summarize(count = n())\n",
    "print(state_leg_race)"
   ]
  },
  {
   "cell_type": "code",
   "execution_count": 12,
   "metadata": {},
   "outputs": [
    {
     "name": "stderr",
     "output_type": "stream",
     "text": [
      "`summarise()` ungrouping output (override with `.groups` argument)\n",
      "\n"
     ]
    },
    {
     "name": "stdout",
     "output_type": "stream",
     "text": [
      "\u001b[90m# A tibble: 21 x 2\u001b[39m\n",
      "   race_ethnicity                                              count\n",
      "   \u001b[3m\u001b[90m<chr>\u001b[39m\u001b[23m                                                       \u001b[3m\u001b[90m<int>\u001b[39m\u001b[23m\n",
      "\u001b[90m 1\u001b[39m Asian/Pacific Islander                                        497\n",
      "\u001b[90m 2\u001b[39m Black/African American                                       \u001b[4m3\u001b[24m412\n",
      "\u001b[90m 3\u001b[39m Hispanic/Latina                                              \u001b[4m1\u001b[24m181\n",
      "\u001b[90m 4\u001b[39m Middle Eastern/North African                                   18\n",
      "\u001b[90m 5\u001b[39m Multiracial                                                    13\n",
      "\u001b[90m 6\u001b[39m Multiracial, Black/African American, Asian/Pacific Islander     2\n",
      "\u001b[90m 7\u001b[39m Multiracial, Black/African American, Hispanic/Latina           13\n",
      "\u001b[90m 8\u001b[39m Multiracial, Black/African American, Native American           13\n",
      "\u001b[90m 9\u001b[39m Multiracial, Hispanic/Latina, Asian/Pacific Islander           15\n",
      "\u001b[90m10\u001b[39m Multiracial, Hispanic/Latina, Native American                  10\n",
      "\u001b[90m# … with 11 more rows\u001b[39m\n"
     ]
    }
   ],
   "source": [
    "state_leg_race <- state_leg_df%>%       #it's a little weird that \"White\" doesn't come up here?\n",
    "group_by(race_ethnicity) %>%\n",
    "    summarize(count = n())\n",
    "print(state_leg_race)"
   ]
  },
  {
   "cell_type": "code",
   "execution_count": 13,
   "metadata": {},
   "outputs": [
    {
     "data": {
      "text/html": [
       "<table>\n",
       "<caption>A data.frame: 6 × 11</caption>\n",
       "<thead>\n",
       "\t<tr><th></th><th scope=col>id</th><th scope=col>year</th><th scope=col>first_name</th><th scope=col>middle_name</th><th scope=col>last_name</th><th scope=col>party</th><th scope=col>level</th><th scope=col>position</th><th scope=col>state</th><th scope=col>district</th><th scope=col>race_ethnicity</th></tr>\n",
       "\t<tr><th></th><th scope=col>&lt;chr&gt;</th><th scope=col>&lt;int&gt;</th><th scope=col>&lt;chr&gt;</th><th scope=col>&lt;chr&gt;</th><th scope=col>&lt;chr&gt;</th><th scope=col>&lt;chr&gt;</th><th scope=col>&lt;chr&gt;</th><th scope=col>&lt;chr&gt;</th><th scope=col>&lt;chr&gt;</th><th scope=col>&lt;chr&gt;</th><th scope=col>&lt;chr&gt;</th></tr>\n",
       "</thead>\n",
       "<tbody>\n",
       "\t<tr><th scope=row>1</th><td>566417k</td><td>2017</td><td>Kim  </td><td>K.</td><td>Abbott</td><td>Democrat</td><td>State Legislative</td><td>State Representative</td><td>Montana - MT </td><td>83</td><td>White</td></tr>\n",
       "\t<tr><th scope=row>2</th><td>566417k</td><td>2018</td><td>Kim  </td><td>K.</td><td>Abbott</td><td>Democrat</td><td>State Legislative</td><td>State Representative</td><td>Montana - MT </td><td>83</td><td>White</td></tr>\n",
       "\t<tr><th scope=row>3</th><td>566417k</td><td>2019</td><td>Kim  </td><td>K.</td><td>Abbott</td><td>Democrat</td><td>State Legislative</td><td>State Representative</td><td>Montana - MT </td><td>83</td><td>White</td></tr>\n",
       "\t<tr><th scope=row>4</th><td>566417k</td><td>2020</td><td>Kim  </td><td>K.</td><td>Abbott</td><td>Democrat</td><td>State Legislative</td><td>State Representative</td><td>Montana - MT </td><td>83</td><td>White</td></tr>\n",
       "\t<tr><th scope=row>5</th><td>14772c </td><td>2010</td><td>Robin</td><td>A.</td><td>Abbott</td><td>Democrat</td><td>State Legislative</td><td>State Representative</td><td>Virginia - VA</td><td>93</td><td>White</td></tr>\n",
       "\t<tr><th scope=row>6</th><td>14772c </td><td>2011</td><td>Robin</td><td>A.</td><td>Abbott</td><td>Democrat</td><td>State Legislative</td><td>State Representative</td><td>Virginia - VA</td><td>93</td><td>White</td></tr>\n",
       "</tbody>\n",
       "</table>\n"
      ],
      "text/latex": [
       "A data.frame: 6 × 11\n",
       "\\begin{tabular}{r|lllllllllll}\n",
       "  & id & year & first\\_name & middle\\_name & last\\_name & party & level & position & state & district & race\\_ethnicity\\\\\n",
       "  & <chr> & <int> & <chr> & <chr> & <chr> & <chr> & <chr> & <chr> & <chr> & <chr> & <chr>\\\\\n",
       "\\hline\n",
       "\t1 & 566417k & 2017 & Kim   & K. & Abbott & Democrat & State Legislative & State Representative & Montana - MT  & 83 & White\\\\\n",
       "\t2 & 566417k & 2018 & Kim   & K. & Abbott & Democrat & State Legislative & State Representative & Montana - MT  & 83 & White\\\\\n",
       "\t3 & 566417k & 2019 & Kim   & K. & Abbott & Democrat & State Legislative & State Representative & Montana - MT  & 83 & White\\\\\n",
       "\t4 & 566417k & 2020 & Kim   & K. & Abbott & Democrat & State Legislative & State Representative & Montana - MT  & 83 & White\\\\\n",
       "\t5 & 14772c  & 2010 & Robin & A. & Abbott & Democrat & State Legislative & State Representative & Virginia - VA & 93 & White\\\\\n",
       "\t6 & 14772c  & 2011 & Robin & A. & Abbott & Democrat & State Legislative & State Representative & Virginia - VA & 93 & White\\\\\n",
       "\\end{tabular}\n"
      ],
      "text/markdown": [
       "\n",
       "A data.frame: 6 × 11\n",
       "\n",
       "| <!--/--> | id &lt;chr&gt; | year &lt;int&gt; | first_name &lt;chr&gt; | middle_name &lt;chr&gt; | last_name &lt;chr&gt; | party &lt;chr&gt; | level &lt;chr&gt; | position &lt;chr&gt; | state &lt;chr&gt; | district &lt;chr&gt; | race_ethnicity &lt;chr&gt; |\n",
       "|---|---|---|---|---|---|---|---|---|---|---|---|\n",
       "| 1 | 566417k | 2017 | Kim   | K. | Abbott | Democrat | State Legislative | State Representative | Montana - MT  | 83 | White |\n",
       "| 2 | 566417k | 2018 | Kim   | K. | Abbott | Democrat | State Legislative | State Representative | Montana - MT  | 83 | White |\n",
       "| 3 | 566417k | 2019 | Kim   | K. | Abbott | Democrat | State Legislative | State Representative | Montana - MT  | 83 | White |\n",
       "| 4 | 566417k | 2020 | Kim   | K. | Abbott | Democrat | State Legislative | State Representative | Montana - MT  | 83 | White |\n",
       "| 5 | 14772c  | 2010 | Robin | A. | Abbott | Democrat | State Legislative | State Representative | Virginia - VA | 93 | White |\n",
       "| 6 | 14772c  | 2011 | Robin | A. | Abbott | Democrat | State Legislative | State Representative | Virginia - VA | 93 | White |\n",
       "\n"
      ],
      "text/plain": [
       "  id      year first_name middle_name last_name party    level            \n",
       "1 566417k 2017 Kim        K.          Abbott    Democrat State Legislative\n",
       "2 566417k 2018 Kim        K.          Abbott    Democrat State Legislative\n",
       "3 566417k 2019 Kim        K.          Abbott    Democrat State Legislative\n",
       "4 566417k 2020 Kim        K.          Abbott    Democrat State Legislative\n",
       "5 14772c  2010 Robin      A.          Abbott    Democrat State Legislative\n",
       "6 14772c  2011 Robin      A.          Abbott    Democrat State Legislative\n",
       "  position             state         district race_ethnicity\n",
       "1 State Representative Montana - MT  83       White         \n",
       "2 State Representative Montana - MT  83       White         \n",
       "3 State Representative Montana - MT  83       White         \n",
       "4 State Representative Montana - MT  83       White         \n",
       "5 State Representative Virginia - VA 93       White         \n",
       "6 State Representative Virginia - VA 93       White         "
      ]
     },
     "metadata": {},
     "output_type": "display_data"
    }
   ],
   "source": [
    "head(state_leg_df)"
   ]
  },
  {
   "cell_type": "code",
   "execution_count": 14,
   "metadata": {},
   "outputs": [
    {
     "data": {
      "text/html": [
       "<table>\n",
       "<caption>A data.frame: 6 × 12</caption>\n",
       "<thead>\n",
       "\t<tr><th></th><th scope=col>id</th><th scope=col>year</th><th scope=col>first_name</th><th scope=col>middle_name</th><th scope=col>last_name</th><th scope=col>party</th><th scope=col>level</th><th scope=col>position</th><th scope=col>state</th><th scope=col>district</th><th scope=col>race_ethnicity</th><th scope=col>region</th></tr>\n",
       "\t<tr><th></th><th scope=col>&lt;chr&gt;</th><th scope=col>&lt;int&gt;</th><th scope=col>&lt;chr&gt;</th><th scope=col>&lt;chr&gt;</th><th scope=col>&lt;chr&gt;</th><th scope=col>&lt;chr&gt;</th><th scope=col>&lt;chr&gt;</th><th scope=col>&lt;chr&gt;</th><th scope=col>&lt;chr&gt;</th><th scope=col>&lt;chr&gt;</th><th scope=col>&lt;chr&gt;</th><th scope=col>&lt;chr&gt;</th></tr>\n",
       "</thead>\n",
       "<tbody>\n",
       "\t<tr><th scope=row>1</th><td>566417k</td><td>2017</td><td>Kim  </td><td>K.</td><td>Abbott</td><td>Democrat</td><td>State Legislative</td><td>State Representative</td><td>Montana - MT </td><td>83</td><td>White</td><td>West </td></tr>\n",
       "\t<tr><th scope=row>2</th><td>566417k</td><td>2018</td><td>Kim  </td><td>K.</td><td>Abbott</td><td>Democrat</td><td>State Legislative</td><td>State Representative</td><td>Montana - MT </td><td>83</td><td>White</td><td>West </td></tr>\n",
       "\t<tr><th scope=row>3</th><td>566417k</td><td>2019</td><td>Kim  </td><td>K.</td><td>Abbott</td><td>Democrat</td><td>State Legislative</td><td>State Representative</td><td>Montana - MT </td><td>83</td><td>White</td><td>West </td></tr>\n",
       "\t<tr><th scope=row>4</th><td>566417k</td><td>2020</td><td>Kim  </td><td>K.</td><td>Abbott</td><td>Democrat</td><td>State Legislative</td><td>State Representative</td><td>Montana - MT </td><td>83</td><td>White</td><td>West </td></tr>\n",
       "\t<tr><th scope=row>5</th><td>14772c </td><td>2010</td><td>Robin</td><td>A.</td><td>Abbott</td><td>Democrat</td><td>State Legislative</td><td>State Representative</td><td>Virginia - VA</td><td>93</td><td>White</td><td>South</td></tr>\n",
       "\t<tr><th scope=row>6</th><td>14772c </td><td>2011</td><td>Robin</td><td>A.</td><td>Abbott</td><td>Democrat</td><td>State Legislative</td><td>State Representative</td><td>Virginia - VA</td><td>93</td><td>White</td><td>South</td></tr>\n",
       "</tbody>\n",
       "</table>\n"
      ],
      "text/latex": [
       "A data.frame: 6 × 12\n",
       "\\begin{tabular}{r|llllllllllll}\n",
       "  & id & year & first\\_name & middle\\_name & last\\_name & party & level & position & state & district & race\\_ethnicity & region\\\\\n",
       "  & <chr> & <int> & <chr> & <chr> & <chr> & <chr> & <chr> & <chr> & <chr> & <chr> & <chr> & <chr>\\\\\n",
       "\\hline\n",
       "\t1 & 566417k & 2017 & Kim   & K. & Abbott & Democrat & State Legislative & State Representative & Montana - MT  & 83 & White & West \\\\\n",
       "\t2 & 566417k & 2018 & Kim   & K. & Abbott & Democrat & State Legislative & State Representative & Montana - MT  & 83 & White & West \\\\\n",
       "\t3 & 566417k & 2019 & Kim   & K. & Abbott & Democrat & State Legislative & State Representative & Montana - MT  & 83 & White & West \\\\\n",
       "\t4 & 566417k & 2020 & Kim   & K. & Abbott & Democrat & State Legislative & State Representative & Montana - MT  & 83 & White & West \\\\\n",
       "\t5 & 14772c  & 2010 & Robin & A. & Abbott & Democrat & State Legislative & State Representative & Virginia - VA & 93 & White & South\\\\\n",
       "\t6 & 14772c  & 2011 & Robin & A. & Abbott & Democrat & State Legislative & State Representative & Virginia - VA & 93 & White & South\\\\\n",
       "\\end{tabular}\n"
      ],
      "text/markdown": [
       "\n",
       "A data.frame: 6 × 12\n",
       "\n",
       "| <!--/--> | id &lt;chr&gt; | year &lt;int&gt; | first_name &lt;chr&gt; | middle_name &lt;chr&gt; | last_name &lt;chr&gt; | party &lt;chr&gt; | level &lt;chr&gt; | position &lt;chr&gt; | state &lt;chr&gt; | district &lt;chr&gt; | race_ethnicity &lt;chr&gt; | region &lt;chr&gt; |\n",
       "|---|---|---|---|---|---|---|---|---|---|---|---|---|\n",
       "| 1 | 566417k | 2017 | Kim   | K. | Abbott | Democrat | State Legislative | State Representative | Montana - MT  | 83 | White | West  |\n",
       "| 2 | 566417k | 2018 | Kim   | K. | Abbott | Democrat | State Legislative | State Representative | Montana - MT  | 83 | White | West  |\n",
       "| 3 | 566417k | 2019 | Kim   | K. | Abbott | Democrat | State Legislative | State Representative | Montana - MT  | 83 | White | West  |\n",
       "| 4 | 566417k | 2020 | Kim   | K. | Abbott | Democrat | State Legislative | State Representative | Montana - MT  | 83 | White | West  |\n",
       "| 5 | 14772c  | 2010 | Robin | A. | Abbott | Democrat | State Legislative | State Representative | Virginia - VA | 93 | White | South |\n",
       "| 6 | 14772c  | 2011 | Robin | A. | Abbott | Democrat | State Legislative | State Representative | Virginia - VA | 93 | White | South |\n",
       "\n"
      ],
      "text/plain": [
       "  id      year first_name middle_name last_name party    level            \n",
       "1 566417k 2017 Kim        K.          Abbott    Democrat State Legislative\n",
       "2 566417k 2018 Kim        K.          Abbott    Democrat State Legislative\n",
       "3 566417k 2019 Kim        K.          Abbott    Democrat State Legislative\n",
       "4 566417k 2020 Kim        K.          Abbott    Democrat State Legislative\n",
       "5 14772c  2010 Robin      A.          Abbott    Democrat State Legislative\n",
       "6 14772c  2011 Robin      A.          Abbott    Democrat State Legislative\n",
       "  position             state         district race_ethnicity region\n",
       "1 State Representative Montana - MT  83       White          West  \n",
       "2 State Representative Montana - MT  83       White          West  \n",
       "3 State Representative Montana - MT  83       White          West  \n",
       "4 State Representative Montana - MT  83       White          West  \n",
       "5 State Representative Virginia - VA 93       White          South \n",
       "6 State Representative Virginia - VA 93       White          South "
      ]
     },
     "metadata": {},
     "output_type": "display_data"
    }
   ],
   "source": [
    "states_northeast <- c(\"Connecticut - CT\", \"Delaware - DE\", \"Maine - ME\", \"Massachusetts - MA\",\n",
    "                      \"New Hampshire - NH\", \"New Jersey - NJ\", \"New York - NY\", \"Pennsylvania - PA\", \n",
    "                      \"Rhode Island - RI\", \"Vermont - VT\")\n",
    "states_west <- c(\"Alaska - AK\", \"Arizona - AZ\", \"California - CA\", \"Colorado - CO\", \"Hawaii - HI\", \"Idaho - ID\", \"Nevada - NV\", \"Montana - MT\",\n",
    "                 \"New Mexico - NM\", \"Oregon - OR\", \"Washington - WA\", \"Wyoming - WY\")\n",
    "states_midwest <- c(\"Indiana - IN\", \"Illinois - IL\", \"Iowa - IA\", \"Kansas - KS\", \"Michigan - MI\", \"Minnesota - MN\", \"Missouri - MO\", \n",
    "                    \"Nebraska - NE\", \"North Dakota - ND\", \"Ohio - OH\", \"South Dakota - SD\", \"Wisconsin - WI\")\n",
    "states_south <- c(\"Alabama - AL\", \"Arkansas - AR\", \n",
    "                  \"Florida - FL\", \"Georgia - GA\", \"Kentucky - KY\", \"Louisiana - LA\", \"Maryland - MD\", \"Mississippi - MS\", \n",
    "                  \"North Carolina - NC\", \"Oklahoma - OK\", \"South Carolina - SC\", \"Tennessee - TN\", \"Texas - TX\", \n",
    "                  \"Virginia - VA\", \"West Virginia - WV\")\n",
    "\n",
    "\n",
    "# Replace \"dataset\" with name of your dataset\n",
    "state_leg_df <- state_leg_df %>%\n",
    "  mutate(region = case_when(state %in% states_northeast ~ \"Northeast\",\n",
    "                            state %in% states_west ~ \"West\",\n",
    "                            state %in% states_midwest ~ \"Midwest\",\n",
    "                            state %in% states_south ~ \"South\",\n",
    "                            TRUE ~ \"Other\"))\n",
    "\n",
    "head(state_leg_df)"
   ]
  },
  {
   "cell_type": "code",
   "execution_count": 15,
   "metadata": {},
   "outputs": [
    {
     "name": "stderr",
     "output_type": "stream",
     "text": [
      "`summarise()` ungrouping output (override with `.groups` argument)\n",
      "\n"
     ]
    },
    {
     "name": "stdout",
     "output_type": "stream",
     "text": [
      "\u001b[90m# A tibble: 5 x 2\u001b[39m\n",
      "  region    count\n",
      "  \u001b[3m\u001b[90m<chr>\u001b[39m\u001b[23m     \u001b[3m\u001b[90m<int>\u001b[39m\u001b[23m\n",
      "\u001b[90m1\u001b[39m Midwest    \u001b[4m5\u001b[24m808\n",
      "\u001b[90m2\u001b[39m Northeast  \u001b[4m7\u001b[24m313\n",
      "\u001b[90m3\u001b[39m Other       286\n",
      "\u001b[90m4\u001b[39m South      \u001b[4m6\u001b[24m285\n",
      "\u001b[90m5\u001b[39m West       \u001b[4m4\u001b[24m848\n"
     ]
    }
   ],
   "source": [
    "state_leg_region <- state_leg_df%>%\n",
    "    group_by(region) %>%\n",
    "    summarize(count = n())\n",
    "print(state_leg_region)"
   ]
  },
  {
   "cell_type": "code",
   "execution_count": 16,
   "metadata": {},
   "outputs": [
    {
     "name": "stderr",
     "output_type": "stream",
     "text": [
      "`summarise()` regrouping output by 'state' (override with `.groups` argument)\n",
      "\n"
     ]
    },
    {
     "data": {
      "text/html": [
       "<table>\n",
       "<caption>A grouped_df: 6 × 4</caption>\n",
       "<thead>\n",
       "\t<tr><th scope=col>state</th><th scope=col>year</th><th scope=col>prop_dem</th><th scope=col>count</th></tr>\n",
       "\t<tr><th scope=col>&lt;chr&gt;</th><th scope=col>&lt;int&gt;</th><th scope=col>&lt;dbl&gt;</th><th scope=col>&lt;int&gt;</th></tr>\n",
       "</thead>\n",
       "<tbody>\n",
       "\t<tr><td>Alabama - AL</td><td>2008</td><td>0.7777778</td><td>18</td></tr>\n",
       "\t<tr><td>Alabama - AL</td><td>2009</td><td>0.8000000</td><td>20</td></tr>\n",
       "\t<tr><td>Alabama - AL</td><td>2010</td><td>0.7894737</td><td>19</td></tr>\n",
       "\t<tr><td>Alabama - AL</td><td>2011</td><td>0.6842105</td><td>19</td></tr>\n",
       "\t<tr><td>Alabama - AL</td><td>2012</td><td>0.6842105</td><td>19</td></tr>\n",
       "\t<tr><td>Alabama - AL</td><td>2013</td><td>0.6842105</td><td>19</td></tr>\n",
       "</tbody>\n",
       "</table>\n"
      ],
      "text/latex": [
       "A grouped\\_df: 6 × 4\n",
       "\\begin{tabular}{llll}\n",
       " state & year & prop\\_dem & count\\\\\n",
       " <chr> & <int> & <dbl> & <int>\\\\\n",
       "\\hline\n",
       "\t Alabama - AL & 2008 & 0.7777778 & 18\\\\\n",
       "\t Alabama - AL & 2009 & 0.8000000 & 20\\\\\n",
       "\t Alabama - AL & 2010 & 0.7894737 & 19\\\\\n",
       "\t Alabama - AL & 2011 & 0.6842105 & 19\\\\\n",
       "\t Alabama - AL & 2012 & 0.6842105 & 19\\\\\n",
       "\t Alabama - AL & 2013 & 0.6842105 & 19\\\\\n",
       "\\end{tabular}\n"
      ],
      "text/markdown": [
       "\n",
       "A grouped_df: 6 × 4\n",
       "\n",
       "| state &lt;chr&gt; | year &lt;int&gt; | prop_dem &lt;dbl&gt; | count &lt;int&gt; |\n",
       "|---|---|---|---|\n",
       "| Alabama - AL | 2008 | 0.7777778 | 18 |\n",
       "| Alabama - AL | 2009 | 0.8000000 | 20 |\n",
       "| Alabama - AL | 2010 | 0.7894737 | 19 |\n",
       "| Alabama - AL | 2011 | 0.6842105 | 19 |\n",
       "| Alabama - AL | 2012 | 0.6842105 | 19 |\n",
       "| Alabama - AL | 2013 | 0.6842105 | 19 |\n",
       "\n"
      ],
      "text/plain": [
       "  state        year prop_dem  count\n",
       "1 Alabama - AL 2008 0.7777778 18   \n",
       "2 Alabama - AL 2009 0.8000000 20   \n",
       "3 Alabama - AL 2010 0.7894737 19   \n",
       "4 Alabama - AL 2011 0.6842105 19   \n",
       "5 Alabama - AL 2012 0.6842105 19   \n",
       "6 Alabama - AL 2013 0.6842105 19   "
      ]
     },
     "metadata": {},
     "output_type": "display_data"
    }
   ],
   "source": [
    "state_leg_party <- state_leg_df%>%\n",
    "    group_by(state, year)%>%\n",
    "    summarize(\n",
    "    prop_dem = mean(party == \"Democrat\"),\n",
    "    count = n())\n",
    "head(state_leg_party)"
   ]
  },
  {
   "cell_type": "code",
   "execution_count": 17,
   "metadata": {},
   "outputs": [
    {
     "name": "stderr",
     "output_type": "stream",
     "text": [
      "`summarise()` regrouping output by 'state' (override with `.groups` argument)\n",
      "\n"
     ]
    },
    {
     "data": {
      "text/html": [
       "<table>\n",
       "<caption>A grouped_df: 6 × 5</caption>\n",
       "<thead>\n",
       "\t<tr><th scope=col>state</th><th scope=col>year</th><th scope=col>prop_white</th><th scope=col>prop_dem</th><th scope=col>count</th></tr>\n",
       "\t<tr><th scope=col>&lt;chr&gt;</th><th scope=col>&lt;int&gt;</th><th scope=col>&lt;dbl&gt;</th><th scope=col>&lt;dbl&gt;</th><th scope=col>&lt;int&gt;</th></tr>\n",
       "</thead>\n",
       "<tbody>\n",
       "\t<tr><td>Alabama - AL</td><td>2016</td><td>0.4000000</td><td>0.7000000</td><td>20</td></tr>\n",
       "\t<tr><td>Alabama - AL</td><td>2017</td><td>0.3809524</td><td>0.7142857</td><td>21</td></tr>\n",
       "\t<tr><td>Alabama - AL</td><td>2018</td><td>0.3809524</td><td>0.7142857</td><td>21</td></tr>\n",
       "\t<tr><td>Alabama - AL</td><td>2019</td><td>0.3478261</td><td>0.6521739</td><td>23</td></tr>\n",
       "\t<tr><td>Alabama - AL</td><td>2020</td><td>0.3478261</td><td>0.6521739</td><td>23</td></tr>\n",
       "\t<tr><td>Alaska - AK </td><td>2016</td><td>0.8823529</td><td>0.1764706</td><td>17</td></tr>\n",
       "</tbody>\n",
       "</table>\n"
      ],
      "text/latex": [
       "A grouped\\_df: 6 × 5\n",
       "\\begin{tabular}{lllll}\n",
       " state & year & prop\\_white & prop\\_dem & count\\\\\n",
       " <chr> & <int> & <dbl> & <dbl> & <int>\\\\\n",
       "\\hline\n",
       "\t Alabama - AL & 2016 & 0.4000000 & 0.7000000 & 20\\\\\n",
       "\t Alabama - AL & 2017 & 0.3809524 & 0.7142857 & 21\\\\\n",
       "\t Alabama - AL & 2018 & 0.3809524 & 0.7142857 & 21\\\\\n",
       "\t Alabama - AL & 2019 & 0.3478261 & 0.6521739 & 23\\\\\n",
       "\t Alabama - AL & 2020 & 0.3478261 & 0.6521739 & 23\\\\\n",
       "\t Alaska - AK  & 2016 & 0.8823529 & 0.1764706 & 17\\\\\n",
       "\\end{tabular}\n"
      ],
      "text/markdown": [
       "\n",
       "A grouped_df: 6 × 5\n",
       "\n",
       "| state &lt;chr&gt; | year &lt;int&gt; | prop_white &lt;dbl&gt; | prop_dem &lt;dbl&gt; | count &lt;int&gt; |\n",
       "|---|---|---|---|---|\n",
       "| Alabama - AL | 2016 | 0.4000000 | 0.7000000 | 20 |\n",
       "| Alabama - AL | 2017 | 0.3809524 | 0.7142857 | 21 |\n",
       "| Alabama - AL | 2018 | 0.3809524 | 0.7142857 | 21 |\n",
       "| Alabama - AL | 2019 | 0.3478261 | 0.6521739 | 23 |\n",
       "| Alabama - AL | 2020 | 0.3478261 | 0.6521739 | 23 |\n",
       "| Alaska - AK  | 2016 | 0.8823529 | 0.1764706 | 17 |\n",
       "\n"
      ],
      "text/plain": [
       "  state        year prop_white prop_dem  count\n",
       "1 Alabama - AL 2016 0.4000000  0.7000000 20   \n",
       "2 Alabama - AL 2017 0.3809524  0.7142857 21   \n",
       "3 Alabama - AL 2018 0.3809524  0.7142857 21   \n",
       "4 Alabama - AL 2019 0.3478261  0.6521739 23   \n",
       "5 Alabama - AL 2020 0.3478261  0.6521739 23   \n",
       "6 Alaska - AK  2016 0.8823529  0.1764706 17   "
      ]
     },
     "metadata": {},
     "output_type": "display_data"
    }
   ],
   "source": [
    "\n",
    "state_leg_party_2016 <- state_leg_df%>%\n",
    "    filter(year > 2015)%>%\n",
    "    group_by(state, year)%>%\n",
    "    summarize(\n",
    "    prop_white = mean(race_ethnicity == \"White\"),\n",
    "    prop_dem = mean(party == \"Democrat\"),\n",
    "    count = n())\n",
    "head(state_leg_party_2016)"
   ]
  },
  {
   "cell_type": "code",
   "execution_count": 18,
   "metadata": {},
   "outputs": [
    {
     "name": "stdout",
     "output_type": "stream",
     "text": [
      "\n",
      "\n",
      "|state               | year| prop_white|  prop_dem| count|\n",
      "|:-------------------|----:|----------:|---------:|-----:|\n",
      "|Alabama - AL        | 2016|  0.4000000| 0.7000000|    20|\n",
      "|Alabama - AL        | 2017|  0.3809524| 0.7142857|    21|\n",
      "|Alabama - AL        | 2018|  0.3809524| 0.7142857|    21|\n",
      "|Alabama - AL        | 2019|  0.3478261| 0.6521739|    23|\n",
      "|Alabama - AL        | 2020|  0.3478261| 0.6521739|    23|\n",
      "|Alaska - AK         | 2016|  0.8823529| 0.1764706|    17|\n",
      "|Alaska - AK         | 2017|  0.9444444| 0.2222222|    18|\n",
      "|Alaska - AK         | 2018|  0.8947368| 0.2631579|    19|\n",
      "|Alaska - AK         | 2019|  0.8695652| 0.3043478|    23|\n",
      "|Alaska - AK         | 2020|  0.8695652| 0.3043478|    23|\n",
      "|Arizona - AZ        | 2016|  0.7272727| 0.5454545|    33|\n",
      "|Arizona - AZ        | 2017|  0.6666667| 0.5277778|    36|\n",
      "|Arizona - AZ        | 2018|  0.6756757| 0.5135135|    37|\n",
      "|Arizona - AZ        | 2019|  0.6571429| 0.6000000|    35|\n",
      "|Arizona - AZ        | 2020|  0.6571429| 0.6000000|    35|\n",
      "|Arkansas - AR       | 2016|  0.8518519| 0.3333333|    27|\n",
      "|Arkansas - AR       | 2017|  0.8400000| 0.2400000|    25|\n",
      "|Arkansas - AR       | 2018|  0.8461538| 0.2307692|    26|\n",
      "|Arkansas - AR       | 2019|  0.7878788| 0.3636364|    33|\n",
      "|Arkansas - AR       | 2020|  0.7647059| 0.3823529|    34|\n",
      "|California - CA     | 2016|  0.5483871| 0.6129032|    31|\n",
      "|California - CA     | 2017|  0.4074074| 0.7777778|    27|\n",
      "|California - CA     | 2018|  0.3548387| 0.7741935|    31|\n",
      "|California - CA     | 2019|  0.4210526| 0.8421053|    38|\n",
      "|California - CA     | 2020|  0.4358974| 0.8205128|    39|\n",
      "|Colorado - CO       | 2016|  0.8095238| 0.6666667|    42|\n",
      "|Colorado - CO       | 2017|  0.7179487| 0.7179487|    39|\n",
      "|Colorado - CO       | 2018|  0.7368421| 0.6842105|    38|\n",
      "|Colorado - CO       | 2019|  0.7083333| 0.8125000|    48|\n",
      "|Colorado - CO       | 2020|  0.7234043| 0.8085106|    47|\n",
      "|Connecticut - CT    | 2016|  0.8867925| 0.6226415|    53|\n",
      "|Connecticut - CT    | 2017|  0.8846154| 0.5384615|    52|\n",
      "|Connecticut - CT    | 2018|  0.8846154| 0.5384615|    52|\n",
      "|Connecticut - CT    | 2019|  0.8730159| 0.6190476|    63|\n",
      "|Connecticut - CT    | 2020|  0.8709677| 0.6129032|    62|\n",
      "|Delaware - DE       | 2016|  0.8666667| 0.8000000|    15|\n",
      "|Delaware - DE       | 2017|  0.8461538| 0.7692308|    13|\n",
      "|Delaware - DE       | 2018|  0.8461538| 0.7692308|    13|\n",
      "|Delaware - DE       | 2019|  0.6000000| 0.8666667|    15|\n",
      "|Delaware - DE       | 2020|  0.6000000| 0.8666667|    15|\n",
      "|Florida - FL        | 2016|  0.6511628| 0.4883721|    43|\n",
      "|Florida - FL        | 2017|  0.6190476| 0.4761905|    42|\n",
      "|Florida - FL        | 2018|  0.6511628| 0.4883721|    43|\n",
      "|Florida - FL        | 2019|  0.5416667| 0.6041667|    48|\n",
      "|Florida - FL        | 2020|  0.5416667| 0.6041667|    48|\n",
      "|Georgia - GA        | 2016|  0.5263158| 0.6315789|    57|\n",
      "|Georgia - GA        | 2017|  0.4705882| 0.6764706|    68|\n",
      "|Georgia - GA        | 2018|  0.4603175| 0.6825397|    63|\n",
      "|Georgia - GA        | 2019|  0.4583333| 0.7638889|    72|\n",
      "|Georgia - GA        | 2020|  0.4583333| 0.7638889|    72|\n",
      "|Guam - GU           | 2016|  0.0000000| 1.0000000|     1|\n",
      "|Guam - GU           | 2017|  0.0000000| 1.0000000|     1|\n",
      "|Guam - GU           | 2018|  0.0000000| 1.0000000|     1|\n",
      "|Hawaii - HI         | 2016|  0.2727273| 0.8636364|    22|\n",
      "|Hawaii - HI         | 2017|  0.2380952| 0.8571429|    21|\n",
      "|Hawaii - HI         | 2018|  0.2272727| 0.8636364|    22|\n",
      "|Hawaii - HI         | 2019|  0.2500000| 0.8750000|    24|\n",
      "|Hawaii - HI         | 2020|  0.2400000| 0.8800000|    25|\n",
      "|Idaho - ID          | 2016|  0.8666667| 0.3666667|    30|\n",
      "|Idaho - ID          | 2017|  0.8823529| 0.3235294|    34|\n",
      "|Idaho - ID          | 2018|  0.8787879| 0.3636364|    33|\n",
      "|Idaho - ID          | 2019|  0.9411765| 0.3529412|    34|\n",
      "|Idaho - ID          | 2020|  0.9411765| 0.3529412|    34|\n",
      "|Illinois - IL       | 2016|  0.6724138| 0.7586207|    58|\n",
      "|Illinois - IL       | 2017|  0.6615385| 0.7384615|    65|\n",
      "|Illinois - IL       | 2018|  0.6515152| 0.7272727|    66|\n",
      "|Illinois - IL       | 2019|  0.6119403| 0.8507463|    67|\n",
      "|Illinois - IL       | 2020|  0.6176471| 0.8529412|    68|\n",
      "|Indiana - IN        | 2016|  0.8064516| 0.4838710|    31|\n",
      "|Indiana - IN        | 2017|  0.8333333| 0.4333333|    30|\n",
      "|Indiana - IN        | 2018|  0.8333333| 0.4333333|    30|\n",
      "|Indiana - IN        | 2019|  0.8157895| 0.5000000|    38|\n",
      "|Indiana - IN        | 2020|  0.8157895| 0.5000000|    38|\n",
      "|Iowa - IA           | 2016|  0.8823529| 0.7941176|    34|\n",
      "|Iowa - IA           | 2017|  0.9117647| 0.7058824|    34|\n",
      "|Iowa - IA           | 2018|  0.9142857| 0.6857143|    35|\n",
      "|Iowa - IA           | 2019|  0.9555556| 0.6666667|    45|\n",
      "|Iowa - IA           | 2020|  0.9545455| 0.6590909|    44|\n",
      "|Kansas - KS         | 2016|  0.8750000| 0.3500000|    40|\n",
      "|Kansas - KS         | 2017|  0.8958333| 0.4166667|    48|\n",
      "|Kansas - KS         | 2018|  0.8936170| 0.4042553|    47|\n",
      "|Kansas - KS         | 2019|  0.8695652| 0.5000000|    46|\n",
      "|Kansas - KS         | 2020|  0.8750000| 0.5208333|    48|\n",
      "|Kentucky - KY       | 2016|  1.0000000| 0.5454545|    22|\n",
      "|Kentucky - KY       | 2017|  0.9565217| 0.4782609|    23|\n",
      "|Kentucky - KY       | 2018|  0.9565217| 0.5217391|    23|\n",
      "|Kentucky - KY       | 2019|  0.9393939| 0.6060606|    33|\n",
      "|Kentucky - KY       | 2020|  0.9411765| 0.6470588|    34|\n",
      "|Louisiana - LA      | 2016|  0.6086957| 0.5217391|    23|\n",
      "|Louisiana - LA      | 2017|  0.6363636| 0.5000000|    22|\n",
      "|Louisiana - LA      | 2018|  0.6521739| 0.4782609|    23|\n",
      "|Louisiana - LA      | 2019|  0.6086957| 0.4782609|    23|\n",
      "|Louisiana - LA      | 2020|  0.6923077| 0.4230769|    26|\n",
      "|Maine - ME          | 2016|  0.9814815| 0.6296296|    54|\n",
      "|Maine - ME          | 2017|  0.9687500| 0.6406250|    64|\n",
      "|Maine - ME          | 2018|  0.9682540| 0.6507937|    63|\n",
      "|Maine - ME          | 2019|  0.9722222| 0.7916667|    72|\n",
      "|Maine - ME          | 2020|  0.9718310| 0.7887324|    71|\n",
      "|Maryland - MD       | 2016|  0.5500000| 0.7833333|    60|\n",
      "|Maryland - MD       | 2017|  0.5322581| 0.7903226|    62|\n",
      "|Maryland - MD       | 2018|  0.5555556| 0.7777778|    63|\n",
      "|Maryland - MD       | 2019|  0.5333333| 0.8800000|    75|\n",
      "|Maryland - MD       | 2020|  0.5500000| 0.8750000|    80|\n",
      "|Massachusetts - MA  | 2016|  0.9019608| 0.8235294|    51|\n",
      "|Massachusetts - MA  | 2017|  0.9056604| 0.8301887|    53|\n",
      "|Massachusetts - MA  | 2018|  0.9019608| 0.8235294|    51|\n",
      "|Massachusetts - MA  | 2019|  0.8947368| 0.8596491|    57|\n",
      "|Massachusetts - MA  | 2020|  0.9000000| 0.8666667|    60|\n",
      "|Michigan - MI       | 2016|  0.7333333| 0.6000000|    30|\n",
      "|Michigan - MI       | 2017|  0.7297297| 0.4864865|    37|\n",
      "|Michigan - MI       | 2018|  0.7297297| 0.4864865|    37|\n",
      "|Michigan - MI       | 2019|  0.6981132| 0.6226415|    53|\n",
      "|Michigan - MI       | 2020|  0.6851852| 0.6296296|    54|\n",
      "|Minnesota - MN      | 2016|  0.9253731| 0.6119403|    67|\n",
      "|Minnesota - MN      | 2017|  0.8615385| 0.5692308|    65|\n",
      "|Minnesota - MN      | 2018|  0.8636364| 0.5757576|    66|\n",
      "|Minnesota - MN      | 2019|  0.8281250| 0.7031250|    64|\n",
      "|Minnesota - MN      | 2020|  0.8307692| 0.7076923|    65|\n",
      "|Mississippi - MS    | 2016|  0.3846154| 0.6153846|    26|\n",
      "|Mississippi - MS    | 2017|  0.4615385| 0.5384615|    26|\n",
      "|Mississippi - MS    | 2018|  0.4615385| 0.5384615|    26|\n",
      "|Mississippi - MS    | 2019|  0.5000000| 0.5000000|    24|\n",
      "|Mississippi - MS    | 2020|  0.5000000| 0.4666667|    30|\n",
      "|Missouri - MO       | 2016|  0.7800000| 0.5000000|    50|\n",
      "|Missouri - MO       | 2017|  0.8695652| 0.4782609|    46|\n",
      "|Missouri - MO       | 2018|  0.8541667| 0.5000000|    48|\n",
      "|Missouri - MO       | 2019|  0.8200000| 0.5000000|    50|\n",
      "|Missouri - MO       | 2020|  0.8163265| 0.5306122|    49|\n",
      "|Montana - MT        | 2016|  0.8958333| 0.6875000|    48|\n",
      "|Montana - MT        | 2017|  0.9090909| 0.7727273|    44|\n",
      "|Montana - MT        | 2018|  0.9069767| 0.7674419|    43|\n",
      "|Montana - MT        | 2019|  0.8913043| 0.7173913|    46|\n",
      "|Montana - MT        | 2020|  0.8913043| 0.7173913|    46|\n",
      "|Nebraska - NE       | 2016|  0.9090909| 0.0000000|    11|\n",
      "|Nebraska - NE       | 2017|  1.0000000| 0.0000000|    14|\n",
      "|Nebraska - NE       | 2018|  1.0000000| 0.0000000|    13|\n",
      "|Nebraska - NE       | 2019|  1.0000000| 0.0000000|    14|\n",
      "|Nebraska - NE       | 2020|  1.0000000| 0.0000000|    14|\n",
      "|Nevada - NV         | 2016|  0.7619048| 0.5714286|    21|\n",
      "|Nevada - NV         | 2017|  0.6400000| 0.7200000|    25|\n",
      "|Nevada - NV         | 2018|  0.6153846| 0.7307692|    26|\n",
      "|Nevada - NV         | 2019|  0.5757576| 0.8181818|    33|\n",
      "|Nevada - NV         | 2020|  0.5588235| 0.8235294|    34|\n",
      "|New Hampshire - NH  | 2016|  0.9836066| 0.5983607|   122|\n",
      "|New Hampshire - NH  | 2017|  0.9685039| 0.6692913|   127|\n",
      "|New Hampshire - NH  | 2018|  0.9685039| 0.6692913|   127|\n",
      "|New Hampshire - NH  | 2019|  0.9586207| 0.8000000|   145|\n",
      "|New Hampshire - NH  | 2020|  0.9589041| 0.8013699|   146|\n",
      "|New Jersey - NJ     | 2016|  0.4864865| 0.7297297|    37|\n",
      "|New Jersey - NJ     | 2017|  0.5135135| 0.7027027|    37|\n",
      "|New Jersey - NJ     | 2018|  0.4871795| 0.7948718|    39|\n",
      "|New Jersey - NJ     | 2019|  0.5128205| 0.7692308|    39|\n",
      "|New Jersey - NJ     | 2020|  0.4864865| 0.7837838|    37|\n",
      "|New Mexico - NM     | 2016|  0.4333333| 0.5666667|    30|\n",
      "|New Mexico - NM     | 2017|  0.4705882| 0.6470588|    34|\n",
      "|New Mexico - NM     | 2018|  0.4705882| 0.6470588|    34|\n",
      "|New Mexico - NM     | 2019|  0.5500000| 0.7750000|    40|\n",
      "|New Mexico - NM     | 2020|  0.5476190| 0.7857143|    42|\n",
      "|New York - NY       | 2016|  0.5714286| 0.8035714|    56|\n",
      "|New York - NY       | 2017|  0.5593220| 0.8305085|    59|\n",
      "|New York - NY       | 2018|  0.5483871| 0.8387097|    62|\n",
      "|New York - NY       | 2019|  0.5428571| 0.8571429|    70|\n",
      "|New York - NY       | 2020|  0.5362319| 0.8695652|    69|\n",
      "|North Carolina - NC | 2016|  0.6923077| 0.5384615|    39|\n",
      "|North Carolina - NC | 2017|  0.7045455| 0.5454545|    44|\n",
      "|North Carolina - NC | 2018|  0.7045455| 0.5227273|    44|\n",
      "|North Carolina - NC | 2019|  0.7045455| 0.6590909|    44|\n",
      "|North Carolina - NC | 2020|  0.6595745| 0.6808511|    47|\n",
      "|North Dakota - ND   | 2016|  1.0000000| 0.5555556|    27|\n",
      "|North Dakota - ND   | 2017|  1.0000000| 0.3846154|    26|\n",
      "|North Dakota - ND   | 2018|  1.0000000| 0.3846154|    26|\n",
      "|North Dakota - ND   | 2019|  0.9677419| 0.3870968|    31|\n",
      "|North Dakota - ND   | 2020|  0.9677419| 0.3870968|    31|\n",
      "|Ohio - OH           | 2016|  0.7575758| 0.5151515|    33|\n",
      "|Ohio - OH           | 2017|  0.6875000| 0.5625000|    32|\n",
      "|Ohio - OH           | 2018|  0.6551724| 0.5517241|    29|\n",
      "|Ohio - OH           | 2019|  0.7105263| 0.6052632|    38|\n",
      "|Ohio - OH           | 2020|  0.6944444| 0.6388889|    36|\n",
      "|Oklahoma - OK       | 2016|  0.8095238| 0.3809524|    21|\n",
      "|Oklahoma - OK       | 2017|  0.8000000| 0.4000000|    20|\n",
      "|Oklahoma - OK       | 2018|  0.8095238| 0.4285714|    21|\n",
      "|Oklahoma - OK       | 2019|  0.8125000| 0.5000000|    32|\n",
      "|Oklahoma - OK       | 2020|  0.8125000| 0.5000000|    32|\n",
      "|Oregon - OR         | 2016|  0.9285714| 0.7857143|    28|\n",
      "|Oregon - OR         | 2017|  0.8387097| 0.8387097|    31|\n",
      "|Oregon - OR         | 2018|  0.8333333| 0.8333333|    30|\n",
      "|Oregon - OR         | 2019|  0.8750000| 0.7250000|    40|\n",
      "|Oregon - OR         | 2020|  0.8750000| 0.7750000|    40|\n",
      "|Pennsylvania - PA   | 2016|  0.8085106| 0.4042553|    47|\n",
      "|Pennsylvania - PA   | 2017|  0.7916667| 0.4791667|    48|\n",
      "|Pennsylvania - PA   | 2018|  0.7959184| 0.4897959|    49|\n",
      "|Pennsylvania - PA   | 2019|  0.8507463| 0.5671642|    67|\n",
      "|Pennsylvania - PA   | 2020|  0.8405797| 0.5652174|    69|\n",
      "|Puerto Rico - PR    | 2016|  0.0000000| 0.0000000|     1|\n",
      "|Rhode Island - RI   | 2016|  0.9032258| 0.8387097|    31|\n",
      "|Rhode Island - RI   | 2017|  0.8611111| 0.9166667|    36|\n",
      "|Rhode Island - RI   | 2018|  0.8333333| 0.9166667|    36|\n",
      "|Rhode Island - RI   | 2019|  0.8139535| 0.9302326|    43|\n",
      "|Rhode Island - RI   | 2020|  0.8139535| 0.9302326|    43|\n",
      "|South Carolina - SC | 2016|  0.7083333| 0.5416667|    24|\n",
      "|South Carolina - SC | 2017|  0.6666667| 0.5416667|    24|\n",
      "|South Carolina - SC | 2018|  0.6666667| 0.5185185|    27|\n",
      "|South Carolina - SC | 2019|  0.6071429| 0.5000000|    28|\n",
      "|South Carolina - SC | 2020|  0.6206897| 0.5172414|    29|\n",
      "|South Dakota - SD   | 2016|  1.0000000| 0.2272727|    22|\n",
      "|South Dakota - SD   | 2017|  1.0000000| 0.1428571|    21|\n",
      "|South Dakota - SD   | 2018|  1.0000000| 0.1304348|    23|\n",
      "|South Dakota - SD   | 2019|  0.8846154| 0.2307692|    26|\n",
      "|South Dakota - SD   | 2020|  0.8888889| 0.2222222|    27|\n",
      "|Tennessee - TN      | 2016|  0.6363636| 0.4090909|    22|\n",
      "|Tennessee - TN      | 2017|  0.6363636| 0.4090909|    22|\n",
      "|Tennessee - TN      | 2018|  0.6190476| 0.4285714|    21|\n",
      "|Tennessee - TN      | 2019|  0.6666667| 0.3809524|    21|\n",
      "|Tennessee - TN      | 2020|  0.6500000| 0.4000000|    20|\n",
      "|Texas - TX          | 2016|  0.4864865| 0.4864865|    37|\n",
      "|Texas - TX          | 2017|  0.3783784| 0.6216216|    37|\n",
      "|Texas - TX          | 2018|  0.3783784| 0.6216216|    37|\n",
      "|Texas - TX          | 2019|  0.4186047| 0.7209302|    43|\n",
      "|Texas - TX          | 2020|  0.4444444| 0.7333333|    45|\n",
      "|Utah - UT           | 2016|  0.6875000| 0.6250000|    16|\n",
      "|Utah - UT           | 2017|  0.7142857| 0.5714286|    21|\n",
      "|Utah - UT           | 2018|  0.7272727| 0.5454545|    22|\n",
      "|Utah - UT           | 2019|  0.8076923| 0.6153846|    26|\n",
      "|Utah - UT           | 2020|  0.8148148| 0.5925926|    27|\n",
      "|Vermont - VT        | 2016|  0.9466667| 0.6800000|    75|\n",
      "|Vermont - VT        | 2017|  0.9589041| 0.6712329|    73|\n",
      "|Vermont - VT        | 2018|  0.9583333| 0.6805556|    72|\n",
      "|Vermont - VT        | 2019|  0.9722222| 0.7083333|    72|\n",
      "|Vermont - VT        | 2020|  0.9726027| 0.7123288|    73|\n",
      "|Virginia - VA       | 2016|  0.5925926| 0.7407407|    27|\n",
      "|Virginia - VA       | 2017|  0.5714286| 0.7500000|    28|\n",
      "|Virginia - VA       | 2018|  0.6052632| 0.7894737|    38|\n",
      "|Virginia - VA       | 2019|  0.6052632| 0.7894737|    38|\n",
      "|Virginia - VA       | 2020|  0.6341463| 0.7560976|    41|\n",
      "|Washington - WA     | 2016|  0.8979592| 0.5714286|    49|\n",
      "|Washington - WA     | 2017|  0.8620690| 0.6206897|    58|\n",
      "|Washington - WA     | 2018|  0.8545455| 0.6363636|    55|\n",
      "|Washington - WA     | 2019|  0.7540984| 0.7049180|    61|\n",
      "|Washington - WA     | 2020|  0.7580645| 0.7258065|    62|\n",
      "|West Virginia - WV  | 2016|  0.9523810| 0.3333333|    21|\n",
      "|West Virginia - WV  | 2017|  0.8421053| 0.1052632|    19|\n",
      "|West Virginia - WV  | 2018|  0.9047619| 0.0952381|    21|\n",
      "|West Virginia - WV  | 2019|  0.8421053| 0.4210526|    19|\n",
      "|West Virginia - WV  | 2020|  0.8500000| 0.4000000|    20|\n",
      "|Wisconsin - WI      | 2016|  0.8529412| 0.6176471|    34|\n",
      "|Wisconsin - WI      | 2017|  0.8709677| 0.6129032|    31|\n",
      "|Wisconsin - WI      | 2018|  0.8750000| 0.6562500|    32|\n",
      "|Wisconsin - WI      | 2019|  0.8333333| 0.6666667|    36|\n",
      "|Wisconsin - WI      | 2020|  0.8333333| 0.6666667|    36|\n",
      "|Wyoming - WY        | 2016|  1.0000000| 0.3333333|    12|\n",
      "|Wyoming - WY        | 2017|  0.9000000| 0.4000000|    10|\n",
      "|Wyoming - WY        | 2018|  0.9000000| 0.4000000|    10|\n",
      "|Wyoming - WY        | 2019|  0.7857143| 0.3571429|    14|\n",
      "|Wyoming - WY        | 2020|  0.7857143| 0.3571429|    14|\n"
     ]
    }
   ],
   "source": [
    "print(kable(state_leg_party_2016))"
   ]
  },
  {
   "cell_type": "code",
   "execution_count": 19,
   "metadata": {},
   "outputs": [
    {
     "name": "stderr",
     "output_type": "stream",
     "text": [
      "`summarise()` regrouping output by 'region' (override with `.groups` argument)\n",
      "\n"
     ]
    },
    {
     "data": {
      "text/html": [
       "<table>\n",
       "<caption>A grouped_df: 6 × 5</caption>\n",
       "<thead>\n",
       "\t<tr><th scope=col>region</th><th scope=col>year</th><th scope=col>prop_white</th><th scope=col>prop_dem</th><th scope=col>count</th></tr>\n",
       "\t<tr><th scope=col>&lt;chr&gt;</th><th scope=col>&lt;int&gt;</th><th scope=col>&lt;dbl&gt;</th><th scope=col>&lt;dbl&gt;</th><th scope=col>&lt;int&gt;</th></tr>\n",
       "</thead>\n",
       "<tbody>\n",
       "\t<tr><td>Midwest  </td><td>2016</td><td>0.8352403</td><td>0.5537757</td><td>437</td></tr>\n",
       "\t<tr><td>Midwest  </td><td>2017</td><td>0.8351893</td><td>0.5167038</td><td>449</td></tr>\n",
       "\t<tr><td>Midwest  </td><td>2018</td><td>0.8318584</td><td>0.5176991</td><td>452</td></tr>\n",
       "\t<tr><td>Midwest  </td><td>2019</td><td>0.8070866</td><td>0.5846457</td><td>508</td></tr>\n",
       "\t<tr><td>Midwest  </td><td>2020</td><td>0.8058824</td><td>0.5921569</td><td>510</td></tr>\n",
       "\t<tr><td>Northeast</td><td>2016</td><td>0.8613678</td><td>0.6691312</td><td>541</td></tr>\n",
       "</tbody>\n",
       "</table>\n"
      ],
      "text/latex": [
       "A grouped\\_df: 6 × 5\n",
       "\\begin{tabular}{lllll}\n",
       " region & year & prop\\_white & prop\\_dem & count\\\\\n",
       " <chr> & <int> & <dbl> & <dbl> & <int>\\\\\n",
       "\\hline\n",
       "\t Midwest   & 2016 & 0.8352403 & 0.5537757 & 437\\\\\n",
       "\t Midwest   & 2017 & 0.8351893 & 0.5167038 & 449\\\\\n",
       "\t Midwest   & 2018 & 0.8318584 & 0.5176991 & 452\\\\\n",
       "\t Midwest   & 2019 & 0.8070866 & 0.5846457 & 508\\\\\n",
       "\t Midwest   & 2020 & 0.8058824 & 0.5921569 & 510\\\\\n",
       "\t Northeast & 2016 & 0.8613678 & 0.6691312 & 541\\\\\n",
       "\\end{tabular}\n"
      ],
      "text/markdown": [
       "\n",
       "A grouped_df: 6 × 5\n",
       "\n",
       "| region &lt;chr&gt; | year &lt;int&gt; | prop_white &lt;dbl&gt; | prop_dem &lt;dbl&gt; | count &lt;int&gt; |\n",
       "|---|---|---|---|---|\n",
       "| Midwest   | 2016 | 0.8352403 | 0.5537757 | 437 |\n",
       "| Midwest   | 2017 | 0.8351893 | 0.5167038 | 449 |\n",
       "| Midwest   | 2018 | 0.8318584 | 0.5176991 | 452 |\n",
       "| Midwest   | 2019 | 0.8070866 | 0.5846457 | 508 |\n",
       "| Midwest   | 2020 | 0.8058824 | 0.5921569 | 510 |\n",
       "| Northeast | 2016 | 0.8613678 | 0.6691312 | 541 |\n",
       "\n"
      ],
      "text/plain": [
       "  region    year prop_white prop_dem  count\n",
       "1 Midwest   2016 0.8352403  0.5537757 437  \n",
       "2 Midwest   2017 0.8351893  0.5167038 449  \n",
       "3 Midwest   2018 0.8318584  0.5176991 452  \n",
       "4 Midwest   2019 0.8070866  0.5846457 508  \n",
       "5 Midwest   2020 0.8058824  0.5921569 510  \n",
       "6 Northeast 2016 0.8613678  0.6691312 541  "
      ]
     },
     "metadata": {},
     "output_type": "display_data"
    }
   ],
   "source": [
    "state_leg_region_2016 <- state_leg_df%>%\n",
    "    filter(year > 2015)%>%\n",
    "    group_by(region, year)%>%\n",
    "    summarize(\n",
    "    prop_white = mean(race_ethnicity == \"White\"),\n",
    "    prop_dem = mean(party == \"Democrat\"),\n",
    "    count = n())\n",
    "head(state_leg_region_2016)"
   ]
  },
  {
   "cell_type": "code",
   "execution_count": 20,
   "metadata": {},
   "outputs": [
    {
     "data": {
      "image/png": "[encoded data removed]",
      "text/plain": [
       "plot without title"
      ]
     },
     "metadata": {
      "image/png": {
       "height": 420,
       "width": 420
      }
     },
     "output_type": "display_data"
    }
   ],
   "source": [
    "ggplot(state_leg_region_2016, aes(x = region, y = count, colour = year)) +\n",
    "        geom_jitter(alpha=0.7)+\n",
    "        xlab(\"Region\") +\n",
    "        ylab(\"Number of Women in State Legislature\")\n"
   ]
  },
  {
   "cell_type": "code",
   "execution_count": null,
   "metadata": {},
   "outputs": [],
   "source": []
  }
 ],
 "metadata": {
  "kernelspec": {
   "display_name": "R",
   "language": "R",
   "name": "ir"
  },
  "language_info": {
   "codemirror_mode": "r",
   "file_extension": ".r",
   "mimetype": "text/x-r-source",
   "name": "R",
   "pygments_lexer": "r",
   "version": "4.0.0"
  }
 },
 "nbformat": 4,
 "nbformat_minor": 4
}
