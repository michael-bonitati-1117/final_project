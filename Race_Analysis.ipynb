{
 "cells": [
  {
   "cell_type": "code",
   "execution_count": 1,
   "metadata": {},
   "outputs": [
    {
     "data": {
      "text/html": [
       "<table>\n",
       "<caption>A data.frame: 6 × 11</caption>\n",
       "<thead>\n",
       "\t<tr><th></th><th scope=col>id</th><th scope=col>year</th><th scope=col>first_name</th><th scope=col>middle_name</th><th scope=col>last_name</th><th scope=col>party</th><th scope=col>level</th><th scope=col>position</th><th scope=col>state</th><th scope=col>district</th><th scope=col>race_ethnicity</th></tr>\n",
       "\t<tr><th></th><th scope=col>&lt;chr&gt;</th><th scope=col>&lt;int&gt;</th><th scope=col>&lt;chr&gt;</th><th scope=col>&lt;chr&gt;</th><th scope=col>&lt;chr&gt;</th><th scope=col>&lt;chr&gt;</th><th scope=col>&lt;chr&gt;</th><th scope=col>&lt;chr&gt;</th><th scope=col>&lt;chr&gt;</th><th scope=col>&lt;chr&gt;</th><th scope=col>&lt;chr&gt;</th></tr>\n",
       "</thead>\n",
       "<tbody>\n",
       "\t<tr><th scope=row>1</th><td>566417k</td><td>2017</td><td>Kim  </td><td>K.</td><td>Abbott</td><td>Democrat</td><td>State Legislative</td><td>State Representative</td><td>Montana - MT </td><td>83</td><td>White</td></tr>\n",
       "\t<tr><th scope=row>2</th><td>566417k</td><td>2018</td><td>Kim  </td><td>K.</td><td>Abbott</td><td>Democrat</td><td>State Legislative</td><td>State Representative</td><td>Montana - MT </td><td>83</td><td>White</td></tr>\n",
       "\t<tr><th scope=row>3</th><td>566417k</td><td>2019</td><td>Kim  </td><td>K.</td><td>Abbott</td><td>Democrat</td><td>State Legislative</td><td>State Representative</td><td>Montana - MT </td><td>83</td><td>White</td></tr>\n",
       "\t<tr><th scope=row>4</th><td>566417k</td><td>2020</td><td>Kim  </td><td>K.</td><td>Abbott</td><td>Democrat</td><td>State Legislative</td><td>State Representative</td><td>Montana - MT </td><td>83</td><td>White</td></tr>\n",
       "\t<tr><th scope=row>5</th><td>14772c </td><td>2010</td><td>Robin</td><td>A.</td><td>Abbott</td><td>Democrat</td><td>State Legislative</td><td>State Representative</td><td>Virginia - VA</td><td>93</td><td>White</td></tr>\n",
       "\t<tr><th scope=row>6</th><td>14772c </td><td>2011</td><td>Robin</td><td>A.</td><td>Abbott</td><td>Democrat</td><td>State Legislative</td><td>State Representative</td><td>Virginia - VA</td><td>93</td><td>White</td></tr>\n",
       "</tbody>\n",
       "</table>\n"
      ],
      "text/latex": [
       "A data.frame: 6 × 11\n",
       "\\begin{tabular}{r|lllllllllll}\n",
       "  & id & year & first\\_name & middle\\_name & last\\_name & party & level & position & state & district & race\\_ethnicity\\\\\n",
       "  & <chr> & <int> & <chr> & <chr> & <chr> & <chr> & <chr> & <chr> & <chr> & <chr> & <chr>\\\\\n",
       "\\hline\n",
       "\t1 & 566417k & 2017 & Kim   & K. & Abbott & Democrat & State Legislative & State Representative & Montana - MT  & 83 & White\\\\\n",
       "\t2 & 566417k & 2018 & Kim   & K. & Abbott & Democrat & State Legislative & State Representative & Montana - MT  & 83 & White\\\\\n",
       "\t3 & 566417k & 2019 & Kim   & K. & Abbott & Democrat & State Legislative & State Representative & Montana - MT  & 83 & White\\\\\n",
       "\t4 & 566417k & 2020 & Kim   & K. & Abbott & Democrat & State Legislative & State Representative & Montana - MT  & 83 & White\\\\\n",
       "\t5 & 14772c  & 2010 & Robin & A. & Abbott & Democrat & State Legislative & State Representative & Virginia - VA & 93 & White\\\\\n",
       "\t6 & 14772c  & 2011 & Robin & A. & Abbott & Democrat & State Legislative & State Representative & Virginia - VA & 93 & White\\\\\n",
       "\\end{tabular}\n"
      ],
      "text/markdown": [
       "\n",
       "A data.frame: 6 × 11\n",
       "\n",
       "| <!--/--> | id &lt;chr&gt; | year &lt;int&gt; | first_name &lt;chr&gt; | middle_name &lt;chr&gt; | last_name &lt;chr&gt; | party &lt;chr&gt; | level &lt;chr&gt; | position &lt;chr&gt; | state &lt;chr&gt; | district &lt;chr&gt; | race_ethnicity &lt;chr&gt; |\n",
       "|---|---|---|---|---|---|---|---|---|---|---|---|\n",
       "| 1 | 566417k | 2017 | Kim   | K. | Abbott | Democrat | State Legislative | State Representative | Montana - MT  | 83 | White |\n",
       "| 2 | 566417k | 2018 | Kim   | K. | Abbott | Democrat | State Legislative | State Representative | Montana - MT  | 83 | White |\n",
       "| 3 | 566417k | 2019 | Kim   | K. | Abbott | Democrat | State Legislative | State Representative | Montana - MT  | 83 | White |\n",
       "| 4 | 566417k | 2020 | Kim   | K. | Abbott | Democrat | State Legislative | State Representative | Montana - MT  | 83 | White |\n",
       "| 5 | 14772c  | 2010 | Robin | A. | Abbott | Democrat | State Legislative | State Representative | Virginia - VA | 93 | White |\n",
       "| 6 | 14772c  | 2011 | Robin | A. | Abbott | Democrat | State Legislative | State Representative | Virginia - VA | 93 | White |\n",
       "\n"
      ],
      "text/plain": [
       "  id      year first_name middle_name last_name party    level            \n",
       "1 566417k 2017 Kim        K.          Abbott    Democrat State Legislative\n",
       "2 566417k 2018 Kim        K.          Abbott    Democrat State Legislative\n",
       "3 566417k 2019 Kim        K.          Abbott    Democrat State Legislative\n",
       "4 566417k 2020 Kim        K.          Abbott    Democrat State Legislative\n",
       "5 14772c  2010 Robin      A.          Abbott    Democrat State Legislative\n",
       "6 14772c  2011 Robin      A.          Abbott    Democrat State Legislative\n",
       "  position             state         district race_ethnicity\n",
       "1 State Representative Montana - MT  83       White         \n",
       "2 State Representative Montana - MT  83       White         \n",
       "3 State Representative Montana - MT  83       White         \n",
       "4 State Representative Montana - MT  83       White         \n",
       "5 State Representative Virginia - VA 93       White         \n",
       "6 State Representative Virginia - VA 93       White         "
      ]
     },
     "metadata": {},
     "output_type": "display_data"
    }
   ],
   "source": [
    "female_elected_officials <- read.csv(\"officeholders_race_ethnicity.csv\") #create dataframe\n",
    "\n",
    "head(female_elected_officials)"
   ]
  },
  {
   "cell_type": "code",
   "execution_count": null,
   "metadata": {},
   "outputs": [],
   "source": []
  }
 ],
 "metadata": {
  "kernelspec": {
   "display_name": "R",
   "language": "R",
   "name": "ir"
  },
  "language_info": {
   "codemirror_mode": "r",
   "file_extension": ".r",
   "mimetype": "text/x-r-source",
   "name": "R",
   "pygments_lexer": "r",
   "version": "4.0.0"
  }
 },
 "nbformat": 4,
 "nbformat_minor": 4
}
