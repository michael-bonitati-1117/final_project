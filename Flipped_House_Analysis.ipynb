{
 "cells": [
  {
   "cell_type": "code",
   "execution_count": 8,
   "metadata": {},
   "outputs": [],
   "source": [
    "## Packages\n",
    "library(dplyr)\n",
    "library(stringr)\n",
    "library(broom)\n",
    "library(ggplot2)\n",
    "library(tidyr)\n",
    "library(gender)\n",
    "library(stringr)\n",
    "\n"
   ]
  },
  {
   "cell_type": "code",
   "execution_count": 9,
   "metadata": {},
   "outputs": [
    {
     "data": {
      "text/html": [
       "<table>\n",
       "<caption>A data.frame: 6 × 14</caption>\n",
       "<thead>\n",
       "\t<tr><th></th><th scope=col>X</th><th scope=col>state</th><th scope=col>district</th><th scope=col>candidate</th><th scope=col>gender</th><th scope=col>total_votes</th><th scope=col>vote_share</th><th scope=col>winner_party</th><th scope=col>winner_gender</th><th scope=col>pres_winner</th><th scope=col>flip</th><th scope=col>year</th><th scope=col>party</th><th scope=col>region</th></tr>\n",
       "\t<tr><th></th><th scope=col>&lt;int&gt;</th><th scope=col>&lt;chr&gt;</th><th scope=col>&lt;int&gt;</th><th scope=col>&lt;chr&gt;</th><th scope=col>&lt;chr&gt;</th><th scope=col>&lt;int&gt;</th><th scope=col>&lt;dbl&gt;</th><th scope=col>&lt;chr&gt;</th><th scope=col>&lt;chr&gt;</th><th scope=col>&lt;chr&gt;</th><th scope=col>&lt;lgl&gt;</th><th scope=col>&lt;int&gt;</th><th scope=col>&lt;chr&gt;</th><th scope=col>&lt;chr&gt;</th></tr>\n",
       "</thead>\n",
       "<tbody>\n",
       "\t<tr><th scope=row>1</th><td>1</td><td>AK</td><td>0</td><td>Alyse S. Galvin   </td><td>female</td><td>131199</td><td>0.4649710</td><td>Republican</td><td>male  </td><td>Trump</td><td>FALSE</td><td>2018</td><td>Democrat</td><td>West </td></tr>\n",
       "\t<tr><th scope=row>2</th><td>2</td><td>AL</td><td>1</td><td>Robert Kennedy Jr.</td><td>male  </td><td> 89226</td><td>0.3677648</td><td>Republican</td><td>male  </td><td>Trump</td><td>FALSE</td><td>2018</td><td>Democrat</td><td>South</td></tr>\n",
       "\t<tr><th scope=row>3</th><td>3</td><td>AL</td><td>2</td><td>Tabitha Isner     </td><td>female</td><td> 86931</td><td>0.3842594</td><td>Republican</td><td>female</td><td>Trump</td><td>FALSE</td><td>2018</td><td>Democrat</td><td>South</td></tr>\n",
       "\t<tr><th scope=row>4</th><td>4</td><td>AL</td><td>3</td><td>Mallory Hagan     </td><td>female</td><td> 83996</td><td>0.3621844</td><td>Republican</td><td>male  </td><td>Trump</td><td>FALSE</td><td>2018</td><td>Democrat</td><td>South</td></tr>\n",
       "\t<tr><th scope=row>5</th><td>5</td><td>AL</td><td>4</td><td>Lee Auman         </td><td>male  </td><td> 46492</td><td>0.2012911</td><td>Republican</td><td>male  </td><td>Trump</td><td>FALSE</td><td>2018</td><td>Democrat</td><td>South</td></tr>\n",
       "\t<tr><th scope=row>6</th><td>6</td><td>AL</td><td>6</td><td>Danner Kline      </td><td>male  </td><td> 85644</td><td>0.3077089</td><td>Republican</td><td>male  </td><td>Trump</td><td>FALSE</td><td>2018</td><td>Democrat</td><td>South</td></tr>\n",
       "</tbody>\n",
       "</table>\n"
      ],
      "text/latex": [
       "A data.frame: 6 × 14\n",
       "\\begin{tabular}{r|llllllllllllll}\n",
       "  & X & state & district & candidate & gender & total\\_votes & vote\\_share & winner\\_party & winner\\_gender & pres\\_winner & flip & year & party & region\\\\\n",
       "  & <int> & <chr> & <int> & <chr> & <chr> & <int> & <dbl> & <chr> & <chr> & <chr> & <lgl> & <int> & <chr> & <chr>\\\\\n",
       "\\hline\n",
       "\t1 & 1 & AK & 0 & Alyse S. Galvin    & female & 131199 & 0.4649710 & Republican & male   & Trump & FALSE & 2018 & Democrat & West \\\\\n",
       "\t2 & 2 & AL & 1 & Robert Kennedy Jr. & male   &  89226 & 0.3677648 & Republican & male   & Trump & FALSE & 2018 & Democrat & South\\\\\n",
       "\t3 & 3 & AL & 2 & Tabitha Isner      & female &  86931 & 0.3842594 & Republican & female & Trump & FALSE & 2018 & Democrat & South\\\\\n",
       "\t4 & 4 & AL & 3 & Mallory Hagan      & female &  83996 & 0.3621844 & Republican & male   & Trump & FALSE & 2018 & Democrat & South\\\\\n",
       "\t5 & 5 & AL & 4 & Lee Auman          & male   &  46492 & 0.2012911 & Republican & male   & Trump & FALSE & 2018 & Democrat & South\\\\\n",
       "\t6 & 6 & AL & 6 & Danner Kline       & male   &  85644 & 0.3077089 & Republican & male   & Trump & FALSE & 2018 & Democrat & South\\\\\n",
       "\\end{tabular}\n"
      ],
      "text/markdown": [
       "\n",
       "A data.frame: 6 × 14\n",
       "\n",
       "| <!--/--> | X &lt;int&gt; | state &lt;chr&gt; | district &lt;int&gt; | candidate &lt;chr&gt; | gender &lt;chr&gt; | total_votes &lt;int&gt; | vote_share &lt;dbl&gt; | winner_party &lt;chr&gt; | winner_gender &lt;chr&gt; | pres_winner &lt;chr&gt; | flip &lt;lgl&gt; | year &lt;int&gt; | party &lt;chr&gt; | region &lt;chr&gt; |\n",
       "|---|---|---|---|---|---|---|---|---|---|---|---|---|---|---|\n",
       "| 1 | 1 | AK | 0 | Alyse S. Galvin    | female | 131199 | 0.4649710 | Republican | male   | Trump | FALSE | 2018 | Democrat | West  |\n",
       "| 2 | 2 | AL | 1 | Robert Kennedy Jr. | male   |  89226 | 0.3677648 | Republican | male   | Trump | FALSE | 2018 | Democrat | South |\n",
       "| 3 | 3 | AL | 2 | Tabitha Isner      | female |  86931 | 0.3842594 | Republican | female | Trump | FALSE | 2018 | Democrat | South |\n",
       "| 4 | 4 | AL | 3 | Mallory Hagan      | female |  83996 | 0.3621844 | Republican | male   | Trump | FALSE | 2018 | Democrat | South |\n",
       "| 5 | 5 | AL | 4 | Lee Auman          | male   |  46492 | 0.2012911 | Republican | male   | Trump | FALSE | 2018 | Democrat | South |\n",
       "| 6 | 6 | AL | 6 | Danner Kline       | male   |  85644 | 0.3077089 | Republican | male   | Trump | FALSE | 2018 | Democrat | South |\n",
       "\n"
      ],
      "text/plain": [
       "  X state district candidate          gender total_votes vote_share\n",
       "1 1 AK    0        Alyse S. Galvin    female 131199      0.4649710 \n",
       "2 2 AL    1        Robert Kennedy Jr. male    89226      0.3677648 \n",
       "3 3 AL    2        Tabitha Isner      female  86931      0.3842594 \n",
       "4 4 AL    3        Mallory Hagan      female  83996      0.3621844 \n",
       "5 5 AL    4        Lee Auman          male    46492      0.2012911 \n",
       "6 6 AL    6        Danner Kline       male    85644      0.3077089 \n",
       "  winner_party winner_gender pres_winner flip  year party    region\n",
       "1 Republican   male          Trump       FALSE 2018 Democrat West  \n",
       "2 Republican   male          Trump       FALSE 2018 Democrat South \n",
       "3 Republican   female        Trump       FALSE 2018 Democrat South \n",
       "4 Republican   male          Trump       FALSE 2018 Democrat South \n",
       "5 Republican   male          Trump       FALSE 2018 Democrat South \n",
       "6 Republican   male          Trump       FALSE 2018 Democrat South "
      ]
     },
     "metadata": {},
     "output_type": "display_data"
    },
    {
     "data": {
      "text/html": [
       "<table>\n",
       "<caption>A data.frame: 6 × 16</caption>\n",
       "<thead>\n",
       "\t<tr><th></th><th scope=col>X</th><th scope=col>state</th><th scope=col>district</th><th scope=col>candidate_democrat</th><th scope=col>candidate_republican</th><th scope=col>total_votes_democrat</th><th scope=col>total_votes_republican</th><th scope=col>vote_share_dem</th><th scope=col>vote_share_rep</th><th scope=col>winner_party</th><th scope=col>year</th><th scope=col>gender_dem</th><th scope=col>gender_rep</th><th scope=col>winner_gender</th><th scope=col>pres_winner</th><th scope=col>flip</th></tr>\n",
       "\t<tr><th></th><th scope=col>&lt;int&gt;</th><th scope=col>&lt;chr&gt;</th><th scope=col>&lt;int&gt;</th><th scope=col>&lt;chr&gt;</th><th scope=col>&lt;chr&gt;</th><th scope=col>&lt;int&gt;</th><th scope=col>&lt;int&gt;</th><th scope=col>&lt;dbl&gt;</th><th scope=col>&lt;dbl&gt;</th><th scope=col>&lt;chr&gt;</th><th scope=col>&lt;int&gt;</th><th scope=col>&lt;chr&gt;</th><th scope=col>&lt;chr&gt;</th><th scope=col>&lt;chr&gt;</th><th scope=col>&lt;chr&gt;</th><th scope=col>&lt;lgl&gt;</th></tr>\n",
       "</thead>\n",
       "<tbody>\n",
       "\t<tr><th scope=row>1</th><td>1</td><td>AK</td><td>0</td><td>Alyse S. Galvin   </td><td>Don Young      </td><td>131199</td><td>149779</td><td>0.4649710</td><td>0.5308187</td><td>Republican</td><td>2018</td><td>female</td><td>male  </td><td>male  </td><td>Trump</td><td>FALSE</td></tr>\n",
       "\t<tr><th scope=row>2</th><td>2</td><td>AL</td><td>1</td><td>Robert Kennedy Jr.</td><td>Bradley Byrne  </td><td> 89226</td><td>153228</td><td>0.3677648</td><td>0.6315633</td><td>Republican</td><td>2018</td><td>male  </td><td>male  </td><td>male  </td><td>Trump</td><td>FALSE</td></tr>\n",
       "\t<tr><th scope=row>3</th><td>3</td><td>AL</td><td>2</td><td>Tabitha Isner     </td><td>Martha Roby    </td><td> 86931</td><td>138879</td><td>0.3842594</td><td>0.6138841</td><td>Republican</td><td>2018</td><td>female</td><td>female</td><td>female</td><td>Trump</td><td>FALSE</td></tr>\n",
       "\t<tr><th scope=row>4</th><td>4</td><td>AL</td><td>3</td><td>Mallory Hagan     </td><td>Mike Rogers    </td><td> 83996</td><td>147770</td><td>0.3621844</td><td>0.6371731</td><td>Republican</td><td>2018</td><td>female</td><td>male  </td><td>male  </td><td>Trump</td><td>FALSE</td></tr>\n",
       "\t<tr><th scope=row>5</th><td>5</td><td>AL</td><td>4</td><td>Lee Auman         </td><td>Robert Aderholt</td><td> 46492</td><td>184255</td><td>0.2012911</td><td>0.7977477</td><td>Republican</td><td>2018</td><td>male  </td><td>male  </td><td>male  </td><td>Trump</td><td>FALSE</td></tr>\n",
       "\t<tr><th scope=row>6</th><td>6</td><td>AL</td><td>6</td><td>Danner Kline      </td><td>Gary Palmer    </td><td> 85644</td><td>192542</td><td>0.3077089</td><td>0.6917809</td><td>Republican</td><td>2018</td><td>male  </td><td>male  </td><td>male  </td><td>Trump</td><td>FALSE</td></tr>\n",
       "</tbody>\n",
       "</table>\n"
      ],
      "text/latex": [
       "A data.frame: 6 × 16\n",
       "\\begin{tabular}{r|llllllllllllllll}\n",
       "  & X & state & district & candidate\\_democrat & candidate\\_republican & total\\_votes\\_democrat & total\\_votes\\_republican & vote\\_share\\_dem & vote\\_share\\_rep & winner\\_party & year & gender\\_dem & gender\\_rep & winner\\_gender & pres\\_winner & flip\\\\\n",
       "  & <int> & <chr> & <int> & <chr> & <chr> & <int> & <int> & <dbl> & <dbl> & <chr> & <int> & <chr> & <chr> & <chr> & <chr> & <lgl>\\\\\n",
       "\\hline\n",
       "\t1 & 1 & AK & 0 & Alyse S. Galvin    & Don Young       & 131199 & 149779 & 0.4649710 & 0.5308187 & Republican & 2018 & female & male   & male   & Trump & FALSE\\\\\n",
       "\t2 & 2 & AL & 1 & Robert Kennedy Jr. & Bradley Byrne   &  89226 & 153228 & 0.3677648 & 0.6315633 & Republican & 2018 & male   & male   & male   & Trump & FALSE\\\\\n",
       "\t3 & 3 & AL & 2 & Tabitha Isner      & Martha Roby     &  86931 & 138879 & 0.3842594 & 0.6138841 & Republican & 2018 & female & female & female & Trump & FALSE\\\\\n",
       "\t4 & 4 & AL & 3 & Mallory Hagan      & Mike Rogers     &  83996 & 147770 & 0.3621844 & 0.6371731 & Republican & 2018 & female & male   & male   & Trump & FALSE\\\\\n",
       "\t5 & 5 & AL & 4 & Lee Auman          & Robert Aderholt &  46492 & 184255 & 0.2012911 & 0.7977477 & Republican & 2018 & male   & male   & male   & Trump & FALSE\\\\\n",
       "\t6 & 6 & AL & 6 & Danner Kline       & Gary Palmer     &  85644 & 192542 & 0.3077089 & 0.6917809 & Republican & 2018 & male   & male   & male   & Trump & FALSE\\\\\n",
       "\\end{tabular}\n"
      ],
      "text/markdown": [
       "\n",
       "A data.frame: 6 × 16\n",
       "\n",
       "| <!--/--> | X &lt;int&gt; | state &lt;chr&gt; | district &lt;int&gt; | candidate_democrat &lt;chr&gt; | candidate_republican &lt;chr&gt; | total_votes_democrat &lt;int&gt; | total_votes_republican &lt;int&gt; | vote_share_dem &lt;dbl&gt; | vote_share_rep &lt;dbl&gt; | winner_party &lt;chr&gt; | year &lt;int&gt; | gender_dem &lt;chr&gt; | gender_rep &lt;chr&gt; | winner_gender &lt;chr&gt; | pres_winner &lt;chr&gt; | flip &lt;lgl&gt; |\n",
       "|---|---|---|---|---|---|---|---|---|---|---|---|---|---|---|---|---|\n",
       "| 1 | 1 | AK | 0 | Alyse S. Galvin    | Don Young       | 131199 | 149779 | 0.4649710 | 0.5308187 | Republican | 2018 | female | male   | male   | Trump | FALSE |\n",
       "| 2 | 2 | AL | 1 | Robert Kennedy Jr. | Bradley Byrne   |  89226 | 153228 | 0.3677648 | 0.6315633 | Republican | 2018 | male   | male   | male   | Trump | FALSE |\n",
       "| 3 | 3 | AL | 2 | Tabitha Isner      | Martha Roby     |  86931 | 138879 | 0.3842594 | 0.6138841 | Republican | 2018 | female | female | female | Trump | FALSE |\n",
       "| 4 | 4 | AL | 3 | Mallory Hagan      | Mike Rogers     |  83996 | 147770 | 0.3621844 | 0.6371731 | Republican | 2018 | female | male   | male   | Trump | FALSE |\n",
       "| 5 | 5 | AL | 4 | Lee Auman          | Robert Aderholt |  46492 | 184255 | 0.2012911 | 0.7977477 | Republican | 2018 | male   | male   | male   | Trump | FALSE |\n",
       "| 6 | 6 | AL | 6 | Danner Kline       | Gary Palmer     |  85644 | 192542 | 0.3077089 | 0.6917809 | Republican | 2018 | male   | male   | male   | Trump | FALSE |\n",
       "\n"
      ],
      "text/plain": [
       "  X state district candidate_democrat candidate_republican total_votes_democrat\n",
       "1 1 AK    0        Alyse S. Galvin    Don Young            131199              \n",
       "2 2 AL    1        Robert Kennedy Jr. Bradley Byrne         89226              \n",
       "3 3 AL    2        Tabitha Isner      Martha Roby           86931              \n",
       "4 4 AL    3        Mallory Hagan      Mike Rogers           83996              \n",
       "5 5 AL    4        Lee Auman          Robert Aderholt       46492              \n",
       "6 6 AL    6        Danner Kline       Gary Palmer           85644              \n",
       "  total_votes_republican vote_share_dem vote_share_rep winner_party year\n",
       "1 149779                 0.4649710      0.5308187      Republican   2018\n",
       "2 153228                 0.3677648      0.6315633      Republican   2018\n",
       "3 138879                 0.3842594      0.6138841      Republican   2018\n",
       "4 147770                 0.3621844      0.6371731      Republican   2018\n",
       "5 184255                 0.2012911      0.7977477      Republican   2018\n",
       "6 192542                 0.3077089      0.6917809      Republican   2018\n",
       "  gender_dem gender_rep winner_gender pres_winner flip \n",
       "1 female     male       male          Trump       FALSE\n",
       "2 male       male       male          Trump       FALSE\n",
       "3 female     female     female        Trump       FALSE\n",
       "4 female     male       male          Trump       FALSE\n",
       "5 male       male       male          Trump       FALSE\n",
       "6 male       male       male          Trump       FALSE"
      ]
     },
     "metadata": {},
     "output_type": "display_data"
    }
   ],
   "source": [
    "## Data\n",
    "\n",
    "CD_results_long <- read.csv(\"flipped_house_2018_long.csv\")\n",
    "\n",
    "CD_results_wide <- read.csv(\"flipped_house_2018_wide.csv\")\n",
    "\n",
    "\n",
    "# Add region\n",
    "states_northeast <- c(\"CT\", \"ME\", \"MA\", \"NH\", \"NJ\", \"NY\", \"PA\", \"RI\", \"VT\")\n",
    "states_west <- c(\"AK\", \"AZ\", \"CA\", \"CO\", \"HI\", \"ID\", \"NV\", \"NM\", \"OR\", \"WA\", \"WY\")\n",
    "states_midwest <- c(\"IN\", \"IL\", \"IA\", \"KN\", \"MI\", \"MN\", \"MO\", \"NB\", \"ND\", \"OH\", \"SD\", \"WI\")\n",
    "states_south <- c(\"AL\", \"AK\", \"DE\", \"DC\", \"FL\", \"GA\", \"KY\", \"LA\", \"MD\", \"MI\", \"NC\", \"OK\", \"SC\", \"TN\", \"TX\", \"VA\", \"WV\")\n",
    "\n",
    "\n",
    "# Replace \"dataset\" with name of your dataset\n",
    "CD_results_long <- CD_results_long %>%\n",
    "  mutate(region = case_when(state %in% states_northeast ~ \"Northeast\",\n",
    "                            state %in% states_west ~ \"West\",\n",
    "                            state %in% states_midwest ~ \"Midwest\",\n",
    "                            state %in% states_south ~ \"South\",\n",
    "                            TRUE ~ \"Other\"))\n",
    "\n",
    "\n",
    "head(CD_results_long)\n",
    "\n",
    "head(CD_results_wide)\n"
   ]
  },
  {
   "cell_type": "code",
   "execution_count": 21,
   "metadata": {},
   "outputs": [
    {
     "data": {
      "text/html": [
       "<table>\n",
       "<caption>A data.frame: 0 × 14</caption>\n",
       "<thead>\n",
       "\t<tr><th scope=col>X</th><th scope=col>state</th><th scope=col>district</th><th scope=col>candidate</th><th scope=col>gender</th><th scope=col>total_votes</th><th scope=col>vote_share</th><th scope=col>winner_party</th><th scope=col>winner_gender</th><th scope=col>pres_winner</th><th scope=col>flip</th><th scope=col>year</th><th scope=col>party</th><th scope=col>region</th></tr>\n",
       "\t<tr><th scope=col>&lt;int&gt;</th><th scope=col>&lt;chr&gt;</th><th scope=col>&lt;int&gt;</th><th scope=col>&lt;chr&gt;</th><th scope=col>&lt;chr&gt;</th><th scope=col>&lt;int&gt;</th><th scope=col>&lt;dbl&gt;</th><th scope=col>&lt;chr&gt;</th><th scope=col>&lt;chr&gt;</th><th scope=col>&lt;chr&gt;</th><th scope=col>&lt;lgl&gt;</th><th scope=col>&lt;int&gt;</th><th scope=col>&lt;chr&gt;</th><th scope=col>&lt;chr&gt;</th></tr>\n",
       "</thead>\n",
       "<tbody>\n",
       "</tbody>\n",
       "</table>\n"
      ],
      "text/latex": [
       "A data.frame: 0 × 14\n",
       "\\begin{tabular}{llllllllllllll}\n",
       " X & state & district & candidate & gender & total\\_votes & vote\\_share & winner\\_party & winner\\_gender & pres\\_winner & flip & year & party & region\\\\\n",
       " <int> & <chr> & <int> & <chr> & <chr> & <int> & <dbl> & <chr> & <chr> & <chr> & <lgl> & <int> & <chr> & <chr>\\\\\n",
       "\\hline\n",
       "\\end{tabular}\n"
      ],
      "text/markdown": [
       "\n",
       "A data.frame: 0 × 14\n",
       "\n",
       "| X &lt;int&gt; | state &lt;chr&gt; | district &lt;int&gt; | candidate &lt;chr&gt; | gender &lt;chr&gt; | total_votes &lt;int&gt; | vote_share &lt;dbl&gt; | winner_party &lt;chr&gt; | winner_gender &lt;chr&gt; | pres_winner &lt;chr&gt; | flip &lt;lgl&gt; | year &lt;int&gt; | party &lt;chr&gt; | region &lt;chr&gt; |\n",
       "|---|---|---|---|---|---|---|---|---|---|---|---|---|---|\n",
       "\n"
      ],
      "text/plain": [
       "     X state district candidate gender total_votes vote_share winner_party\n",
       "     winner_gender pres_winner flip year party region"
      ]
     },
     "metadata": {},
     "output_type": "display_data"
    },
    {
     "name": "stderr",
     "output_type": "stream",
     "text": [
      "`summarise()` ungrouping output (override with `.groups` argument)\n",
      "\n"
     ]
    },
    {
     "data": {
      "text/html": [
       "<table>\n",
       "<caption>A tibble: 2 × 2</caption>\n",
       "<thead>\n",
       "\t<tr><th scope=col>gender</th><th scope=col>count</th></tr>\n",
       "\t<tr><th scope=col>&lt;chr&gt;</th><th scope=col>&lt;int&gt;</th></tr>\n",
       "</thead>\n",
       "<tbody>\n",
       "\t<tr><td>female</td><td>14</td></tr>\n",
       "\t<tr><td>male  </td><td>22</td></tr>\n",
       "</tbody>\n",
       "</table>\n"
      ],
      "text/latex": [
       "A tibble: 2 × 2\n",
       "\\begin{tabular}{ll}\n",
       " gender & count\\\\\n",
       " <chr> & <int>\\\\\n",
       "\\hline\n",
       "\t female & 14\\\\\n",
       "\t male   & 22\\\\\n",
       "\\end{tabular}\n"
      ],
      "text/markdown": [
       "\n",
       "A tibble: 2 × 2\n",
       "\n",
       "| gender &lt;chr&gt; | count &lt;int&gt; |\n",
       "|---|---|\n",
       "| female | 14 |\n",
       "| male   | 22 |\n",
       "\n"
      ],
      "text/plain": [
       "  gender count\n",
       "1 female 14   \n",
       "2 male   22   "
      ]
     },
     "metadata": {},
     "output_type": "display_data"
    },
    {
     "name": "stderr",
     "output_type": "stream",
     "text": [
      "`summarise()` ungrouping output (override with `.groups` argument)\n",
      "\n"
     ]
    },
    {
     "data": {
      "text/html": [
       "<table>\n",
       "<caption>A tibble: 3 × 2</caption>\n",
       "<thead>\n",
       "\t<tr><th scope=col>gender</th><th scope=col>count</th></tr>\n",
       "\t<tr><th scope=col>&lt;chr&gt;</th><th scope=col>&lt;int&gt;</th></tr>\n",
       "</thead>\n",
       "<tbody>\n",
       "\t<tr><td>female</td><td> 8</td></tr>\n",
       "\t<tr><td>male  </td><td>26</td></tr>\n",
       "\t<tr><td>N/A   </td><td> 2</td></tr>\n",
       "</tbody>\n",
       "</table>\n"
      ],
      "text/latex": [
       "A tibble: 3 × 2\n",
       "\\begin{tabular}{ll}\n",
       " gender & count\\\\\n",
       " <chr> & <int>\\\\\n",
       "\\hline\n",
       "\t female &  8\\\\\n",
       "\t male   & 26\\\\\n",
       "\t N/A    &  2\\\\\n",
       "\\end{tabular}\n"
      ],
      "text/markdown": [
       "\n",
       "A tibble: 3 × 2\n",
       "\n",
       "| gender &lt;chr&gt; | count &lt;int&gt; |\n",
       "|---|---|\n",
       "| female |  8 |\n",
       "| male   | 26 |\n",
       "| N/A    |  2 |\n",
       "\n"
      ],
      "text/plain": [
       "  gender count\n",
       "1 female  8   \n",
       "2 male   26   \n",
       "3 N/A     2   "
      ]
     },
     "metadata": {},
     "output_type": "display_data"
    },
    {
     "data": {
      "text/html": [
       "<table>\n",
       "<caption>A data.frame: 2 × 14</caption>\n",
       "<thead>\n",
       "\t<tr><th scope=col>X</th><th scope=col>state</th><th scope=col>district</th><th scope=col>candidate</th><th scope=col>gender</th><th scope=col>total_votes</th><th scope=col>vote_share</th><th scope=col>winner_party</th><th scope=col>winner_gender</th><th scope=col>pres_winner</th><th scope=col>flip</th><th scope=col>year</th><th scope=col>party</th><th scope=col>region</th></tr>\n",
       "\t<tr><th scope=col>&lt;int&gt;</th><th scope=col>&lt;chr&gt;</th><th scope=col>&lt;int&gt;</th><th scope=col>&lt;chr&gt;</th><th scope=col>&lt;chr&gt;</th><th scope=col>&lt;int&gt;</th><th scope=col>&lt;dbl&gt;</th><th scope=col>&lt;chr&gt;</th><th scope=col>&lt;chr&gt;</th><th scope=col>&lt;chr&gt;</th><th scope=col>&lt;lgl&gt;</th><th scope=col>&lt;int&gt;</th><th scope=col>&lt;chr&gt;</th><th scope=col>&lt;chr&gt;</th></tr>\n",
       "</thead>\n",
       "<tbody>\n",
       "\t<tr><td>642</td><td>NJ</td><td> 4</td><td>No candidate</td><td>N/A</td><td>0</td><td>NA</td><td>Democrat</td><td>male</td><td>Trump</td><td>TRUE</td><td>2018</td><td>Republican</td><td>Northeast</td></tr>\n",
       "\t<tr><td>717</td><td>PA</td><td>18</td><td>No candidate</td><td>N/A</td><td>0</td><td>NA</td><td>Democrat</td><td>male</td><td>Trump</td><td>TRUE</td><td>2018</td><td>Republican</td><td>Northeast</td></tr>\n",
       "</tbody>\n",
       "</table>\n"
      ],
      "text/latex": [
       "A data.frame: 2 × 14\n",
       "\\begin{tabular}{llllllllllllll}\n",
       " X & state & district & candidate & gender & total\\_votes & vote\\_share & winner\\_party & winner\\_gender & pres\\_winner & flip & year & party & region\\\\\n",
       " <int> & <chr> & <int> & <chr> & <chr> & <int> & <dbl> & <chr> & <chr> & <chr> & <lgl> & <int> & <chr> & <chr>\\\\\n",
       "\\hline\n",
       "\t 642 & NJ &  4 & No candidate & N/A & 0 & NA & Democrat & male & Trump & TRUE & 2018 & Republican & Northeast\\\\\n",
       "\t 717 & PA & 18 & No candidate & N/A & 0 & NA & Democrat & male & Trump & TRUE & 2018 & Republican & Northeast\\\\\n",
       "\\end{tabular}\n"
      ],
      "text/markdown": [
       "\n",
       "A data.frame: 2 × 14\n",
       "\n",
       "| X &lt;int&gt; | state &lt;chr&gt; | district &lt;int&gt; | candidate &lt;chr&gt; | gender &lt;chr&gt; | total_votes &lt;int&gt; | vote_share &lt;dbl&gt; | winner_party &lt;chr&gt; | winner_gender &lt;chr&gt; | pres_winner &lt;chr&gt; | flip &lt;lgl&gt; | year &lt;int&gt; | party &lt;chr&gt; | region &lt;chr&gt; |\n",
       "|---|---|---|---|---|---|---|---|---|---|---|---|---|---|\n",
       "| 642 | NJ |  4 | No candidate | N/A | 0 | NA | Democrat | male | Trump | TRUE | 2018 | Republican | Northeast |\n",
       "| 717 | PA | 18 | No candidate | N/A | 0 | NA | Democrat | male | Trump | TRUE | 2018 | Republican | Northeast |\n",
       "\n"
      ],
      "text/plain": [
       "  X   state district candidate    gender total_votes vote_share winner_party\n",
       "1 642 NJ     4       No candidate N/A    0           NA         Democrat    \n",
       "2 717 PA    18       No candidate N/A    0           NA         Democrat    \n",
       "  winner_gender pres_winner flip year party      region   \n",
       "1 male          Trump       TRUE 2018 Republican Northeast\n",
       "2 male          Trump       TRUE 2018 Republican Northeast"
      ]
     },
     "metadata": {},
     "output_type": "display_data"
    }
   ],
   "source": [
    "## Flipped districts\n",
    "# Fill gender for unknowns, only 5\n",
    "CD_results_long %>%\n",
    "    filter(flip == TRUE, gender == \"Unknown\")\n",
    "\n",
    "CD_results_long[310,\"gender\"] <- \"male\"\n",
    "CD_results_long[310,\"winner_gender\"] <- \"male\"\n",
    "CD_results_long[311,\"gender\"] <- \"female\"\n",
    "CD_results_long[311,\"winner_gender\"] <- \"female\"\n",
    "CD_results_long[716,\"gender\"] <- \"male\"\n",
    "CD_results_long[720,\"gender\"] <- \"male\"\n",
    "CD_results_long[720,\"winner_gender\"] <- \"female\"\n",
    "CD_results_long[721,\"gender\"] <- \"female\"\n",
    "\n",
    "\n",
    "CD_results_long %>%\n",
    "    filter(party == \"Democrat\", flip == TRUE) %>%\n",
    "    group_by(gender) %>%\n",
    "    summarize(count = n())\n",
    "\n",
    "CD_results_long %>%\n",
    "    filter(party == \"Republican\", flip == TRUE) %>%\n",
    "    group_by(gender) %>%\n",
    "    summarize(count = n())\n",
    "\n"
   ]
  },
  {
   "cell_type": "code",
   "execution_count": 51,
   "metadata": {},
   "outputs": [
    {
     "name": "stderr",
     "output_type": "stream",
     "text": [
      "`summarise()` regrouping output by 'flip' (override with `.groups` argument)\n",
      "\n"
     ]
    },
    {
     "data": {
      "text/html": [
       "<table>\n",
       "<caption>A grouped_df: 4 × 3</caption>\n",
       "<thead>\n",
       "\t<tr><th scope=col>flip</th><th scope=col>gender</th><th scope=col>count</th></tr>\n",
       "\t<tr><th scope=col>&lt;lgl&gt;</th><th scope=col>&lt;chr&gt;</th><th scope=col>&lt;int&gt;</th></tr>\n",
       "</thead>\n",
       "<tbody>\n",
       "\t<tr><td>FALSE</td><td>female</td><td>148</td></tr>\n",
       "\t<tr><td>FALSE</td><td>male  </td><td>195</td></tr>\n",
       "\t<tr><td> TRUE</td><td>female</td><td> 14</td></tr>\n",
       "\t<tr><td> TRUE</td><td>male  </td><td> 22</td></tr>\n",
       "</tbody>\n",
       "</table>\n"
      ],
      "text/latex": [
       "A grouped\\_df: 4 × 3\n",
       "\\begin{tabular}{lll}\n",
       " flip & gender & count\\\\\n",
       " <lgl> & <chr> & <int>\\\\\n",
       "\\hline\n",
       "\t FALSE & female & 148\\\\\n",
       "\t FALSE & male   & 195\\\\\n",
       "\t  TRUE & female &  14\\\\\n",
       "\t  TRUE & male   &  22\\\\\n",
       "\\end{tabular}\n"
      ],
      "text/markdown": [
       "\n",
       "A grouped_df: 4 × 3\n",
       "\n",
       "| flip &lt;lgl&gt; | gender &lt;chr&gt; | count &lt;int&gt; |\n",
       "|---|---|---|\n",
       "| FALSE | female | 148 |\n",
       "| FALSE | male   | 195 |\n",
       "|  TRUE | female |  14 |\n",
       "|  TRUE | male   |  22 |\n",
       "\n"
      ],
      "text/plain": [
       "  flip  gender count\n",
       "1 FALSE female 148  \n",
       "2 FALSE male   195  \n",
       "3  TRUE female  14  \n",
       "4  TRUE male    22  "
      ]
     },
     "metadata": {},
     "output_type": "display_data"
    },
    {
     "name": "stderr",
     "output_type": "stream",
     "text": [
      "`summarise()` ungrouping output (override with `.groups` argument)\n",
      "\n"
     ]
    },
    {
     "data": {
      "text/html": [
       "<table>\n",
       "<caption>A tibble: 2 × 3</caption>\n",
       "<thead>\n",
       "\t<tr><th scope=col>gender</th><th scope=col>count</th><th scope=col>prop</th></tr>\n",
       "\t<tr><th scope=col>&lt;chr&gt;</th><th scope=col>&lt;int&gt;</th><th scope=col>&lt;dbl&gt;</th></tr>\n",
       "</thead>\n",
       "<tbody>\n",
       "\t<tr><td>female</td><td>162</td><td>0.4274406</td></tr>\n",
       "\t<tr><td>male  </td><td>217</td><td>0.5725594</td></tr>\n",
       "</tbody>\n",
       "</table>\n"
      ],
      "text/latex": [
       "A tibble: 2 × 3\n",
       "\\begin{tabular}{lll}\n",
       " gender & count & prop\\\\\n",
       " <chr> & <int> & <dbl>\\\\\n",
       "\\hline\n",
       "\t female & 162 & 0.4274406\\\\\n",
       "\t male   & 217 & 0.5725594\\\\\n",
       "\\end{tabular}\n"
      ],
      "text/markdown": [
       "\n",
       "A tibble: 2 × 3\n",
       "\n",
       "| gender &lt;chr&gt; | count &lt;int&gt; | prop &lt;dbl&gt; |\n",
       "|---|---|---|\n",
       "| female | 162 | 0.4274406 |\n",
       "| male   | 217 | 0.5725594 |\n",
       "\n"
      ],
      "text/plain": [
       "  gender count prop     \n",
       "1 female 162   0.4274406\n",
       "2 male   217   0.5725594"
      ]
     },
     "metadata": {},
     "output_type": "display_data"
    },
    {
     "name": "stderr",
     "output_type": "stream",
     "text": [
      "`summarise()` ungrouping output (override with `.groups` argument)\n",
      "\n"
     ]
    },
    {
     "data": {
      "text/html": [
       "<table>\n",
       "<caption>A data.frame: 36 × 3</caption>\n",
       "<thead>\n",
       "\t<tr><th scope=col>candidate</th><th scope=col>gender</th><th scope=col>vote_share</th></tr>\n",
       "\t<tr><th scope=col>&lt;chr&gt;</th><th scope=col>&lt;chr&gt;</th><th scope=col>&lt;dbl&gt;</th></tr>\n",
       "</thead>\n",
       "<tbody>\n",
       "\t<tr><td>Tom O'Halleran          </td><td>male  </td><td>0.5383161</td></tr>\n",
       "\t<tr><td>Lucy McBath             </td><td>female</td><td>0.5051194</td></tr>\n",
       "\t<tr><td>Abby Finkenauer         </td><td>female</td><td>0.5096352</td></tr>\n",
       "\t<tr><td>Dave Loebsack           </td><td>male  </td><td>0.5479031</td></tr>\n",
       "\t<tr><td>Cindy Axne              </td><td>female</td><td>0.4930426</td></tr>\n",
       "\t<tr><td>Lauren Underwood        </td><td>female</td><td>0.5250186</td></tr>\n",
       "\t<tr><td>Cheri Bustos            </td><td>female</td><td>0.6209341</td></tr>\n",
       "\t<tr><td>Jared F. Golden         </td><td>male  </td><td>0.5062355</td></tr>\n",
       "\t<tr><td>Haley Stevens           </td><td>female</td><td>0.5184140</td></tr>\n",
       "\t<tr><td>Elissa Slotkin          </td><td>female</td><td>0.5060994</td></tr>\n",
       "\t<tr><td>Chris Pappas            </td><td>male  </td><td>0.5356121</td></tr>\n",
       "\t<tr><td>Mikie Sherrill          </td><td>male  </td><td>0.5676723</td></tr>\n",
       "\t<tr><td>Jeff Van Drew           </td><td>male  </td><td>0.5290425</td></tr>\n",
       "\t<tr><td>Andy Kim                </td><td>male  </td><td>0.5001157</td></tr>\n",
       "\t<tr><td>Joshua Welle            </td><td>male  </td><td>0.4306671</td></tr>\n",
       "\t<tr><td>Josh Gottheimer         </td><td>male  </td><td>0.5617398</td></tr>\n",
       "\t<tr><td>Xochitl Torres Small    </td><td>female</td><td>0.5093397</td></tr>\n",
       "\t<tr><td>Susie Lee               </td><td>female</td><td>0.5189294</td></tr>\n",
       "\t<tr><td>Perry Gershon           </td><td>male  </td><td>0.4599579</td></tr>\n",
       "\t<tr><td>Max N. Rose             </td><td>male  </td><td>0.5039730</td></tr>\n",
       "\t<tr><td>Sean Patrick Maloney    </td><td>male  </td><td>0.5020780</td></tr>\n",
       "\t<tr><td>Antonio Delgado         </td><td>male  </td><td>0.4707937</td></tr>\n",
       "\t<tr><td>Anthony J. Brindisi     </td><td>male  </td><td>0.4617654</td></tr>\n",
       "\t<tr><td>Nathan D. McMurray      </td><td>male  </td><td>0.4492359</td></tr>\n",
       "\t<tr><td>Kendra Horn             </td><td>female</td><td>0.5069844</td></tr>\n",
       "\t<tr><td>Conor James Lamb        </td><td>male  </td><td>0.5625731</td></tr>\n",
       "\t<tr><td>Michael F  Doyle Jr.    </td><td>male  </td><td>1.0000000</td></tr>\n",
       "\t<tr><td>Dwight Evans            </td><td>male  </td><td>0.9338078</td></tr>\n",
       "\t<tr><td>Madeleine Dean Cunnane  </td><td>female</td><td>0.6352244</td></tr>\n",
       "\t<tr><td>Mary Gay Scanlon        </td><td>female</td><td>0.6518867</td></tr>\n",
       "\t<tr><td>Matthew Alton Cartwright</td><td>male  </td><td>0.5464205</td></tr>\n",
       "\t<tr><td>Joe Cunningham          </td><td>male  </td><td>0.5060484</td></tr>\n",
       "\t<tr><td>Ben McAdams             </td><td>male  </td><td>0.5012200</td></tr>\n",
       "\t<tr><td>Elaine G. Luria         </td><td>female</td><td>0.5105011</td></tr>\n",
       "\t<tr><td>Abigail A. Spanberger   </td><td>female</td><td>0.5033662</td></tr>\n",
       "\t<tr><td>Ron Kind                </td><td>male  </td><td>0.5964907</td></tr>\n",
       "</tbody>\n",
       "</table>\n"
      ],
      "text/latex": [
       "A data.frame: 36 × 3\n",
       "\\begin{tabular}{lll}\n",
       " candidate & gender & vote\\_share\\\\\n",
       " <chr> & <chr> & <dbl>\\\\\n",
       "\\hline\n",
       "\t Tom O'Halleran           & male   & 0.5383161\\\\\n",
       "\t Lucy McBath              & female & 0.5051194\\\\\n",
       "\t Abby Finkenauer          & female & 0.5096352\\\\\n",
       "\t Dave Loebsack            & male   & 0.5479031\\\\\n",
       "\t Cindy Axne               & female & 0.4930426\\\\\n",
       "\t Lauren Underwood         & female & 0.5250186\\\\\n",
       "\t Cheri Bustos             & female & 0.6209341\\\\\n",
       "\t Jared F. Golden          & male   & 0.5062355\\\\\n",
       "\t Haley Stevens            & female & 0.5184140\\\\\n",
       "\t Elissa Slotkin           & female & 0.5060994\\\\\n",
       "\t Chris Pappas             & male   & 0.5356121\\\\\n",
       "\t Mikie Sherrill           & male   & 0.5676723\\\\\n",
       "\t Jeff Van Drew            & male   & 0.5290425\\\\\n",
       "\t Andy Kim                 & male   & 0.5001157\\\\\n",
       "\t Joshua Welle             & male   & 0.4306671\\\\\n",
       "\t Josh Gottheimer          & male   & 0.5617398\\\\\n",
       "\t Xochitl Torres Small     & female & 0.5093397\\\\\n",
       "\t Susie Lee                & female & 0.5189294\\\\\n",
       "\t Perry Gershon            & male   & 0.4599579\\\\\n",
       "\t Max N. Rose              & male   & 0.5039730\\\\\n",
       "\t Sean Patrick Maloney     & male   & 0.5020780\\\\\n",
       "\t Antonio Delgado          & male   & 0.4707937\\\\\n",
       "\t Anthony J. Brindisi      & male   & 0.4617654\\\\\n",
       "\t Nathan D. McMurray       & male   & 0.4492359\\\\\n",
       "\t Kendra Horn              & female & 0.5069844\\\\\n",
       "\t Conor James Lamb         & male   & 0.5625731\\\\\n",
       "\t Michael F  Doyle Jr.     & male   & 1.0000000\\\\\n",
       "\t Dwight Evans             & male   & 0.9338078\\\\\n",
       "\t Madeleine Dean Cunnane   & female & 0.6352244\\\\\n",
       "\t Mary Gay Scanlon         & female & 0.6518867\\\\\n",
       "\t Matthew Alton Cartwright & male   & 0.5464205\\\\\n",
       "\t Joe Cunningham           & male   & 0.5060484\\\\\n",
       "\t Ben McAdams              & male   & 0.5012200\\\\\n",
       "\t Elaine G. Luria          & female & 0.5105011\\\\\n",
       "\t Abigail A. Spanberger    & female & 0.5033662\\\\\n",
       "\t Ron Kind                 & male   & 0.5964907\\\\\n",
       "\\end{tabular}\n"
      ],
      "text/markdown": [
       "\n",
       "A data.frame: 36 × 3\n",
       "\n",
       "| candidate &lt;chr&gt; | gender &lt;chr&gt; | vote_share &lt;dbl&gt; |\n",
       "|---|---|---|\n",
       "| Tom O'Halleran           | male   | 0.5383161 |\n",
       "| Lucy McBath              | female | 0.5051194 |\n",
       "| Abby Finkenauer          | female | 0.5096352 |\n",
       "| Dave Loebsack            | male   | 0.5479031 |\n",
       "| Cindy Axne               | female | 0.4930426 |\n",
       "| Lauren Underwood         | female | 0.5250186 |\n",
       "| Cheri Bustos             | female | 0.6209341 |\n",
       "| Jared F. Golden          | male   | 0.5062355 |\n",
       "| Haley Stevens            | female | 0.5184140 |\n",
       "| Elissa Slotkin           | female | 0.5060994 |\n",
       "| Chris Pappas             | male   | 0.5356121 |\n",
       "| Mikie Sherrill           | male   | 0.5676723 |\n",
       "| Jeff Van Drew            | male   | 0.5290425 |\n",
       "| Andy Kim                 | male   | 0.5001157 |\n",
       "| Joshua Welle             | male   | 0.4306671 |\n",
       "| Josh Gottheimer          | male   | 0.5617398 |\n",
       "| Xochitl Torres Small     | female | 0.5093397 |\n",
       "| Susie Lee                | female | 0.5189294 |\n",
       "| Perry Gershon            | male   | 0.4599579 |\n",
       "| Max N. Rose              | male   | 0.5039730 |\n",
       "| Sean Patrick Maloney     | male   | 0.5020780 |\n",
       "| Antonio Delgado          | male   | 0.4707937 |\n",
       "| Anthony J. Brindisi      | male   | 0.4617654 |\n",
       "| Nathan D. McMurray       | male   | 0.4492359 |\n",
       "| Kendra Horn              | female | 0.5069844 |\n",
       "| Conor James Lamb         | male   | 0.5625731 |\n",
       "| Michael F  Doyle Jr.     | male   | 1.0000000 |\n",
       "| Dwight Evans             | male   | 0.9338078 |\n",
       "| Madeleine Dean Cunnane   | female | 0.6352244 |\n",
       "| Mary Gay Scanlon         | female | 0.6518867 |\n",
       "| Matthew Alton Cartwright | male   | 0.5464205 |\n",
       "| Joe Cunningham           | male   | 0.5060484 |\n",
       "| Ben McAdams              | male   | 0.5012200 |\n",
       "| Elaine G. Luria          | female | 0.5105011 |\n",
       "| Abigail A. Spanberger    | female | 0.5033662 |\n",
       "| Ron Kind                 | male   | 0.5964907 |\n",
       "\n"
      ],
      "text/plain": [
       "   candidate                gender vote_share\n",
       "1  Tom O'Halleran           male   0.5383161 \n",
       "2  Lucy McBath              female 0.5051194 \n",
       "3  Abby Finkenauer          female 0.5096352 \n",
       "4  Dave Loebsack            male   0.5479031 \n",
       "5  Cindy Axne               female 0.4930426 \n",
       "6  Lauren Underwood         female 0.5250186 \n",
       "7  Cheri Bustos             female 0.6209341 \n",
       "8  Jared F. Golden          male   0.5062355 \n",
       "9  Haley Stevens            female 0.5184140 \n",
       "10 Elissa Slotkin           female 0.5060994 \n",
       "11 Chris Pappas             male   0.5356121 \n",
       "12 Mikie Sherrill           male   0.5676723 \n",
       "13 Jeff Van Drew            male   0.5290425 \n",
       "14 Andy Kim                 male   0.5001157 \n",
       "15 Joshua Welle             male   0.4306671 \n",
       "16 Josh Gottheimer          male   0.5617398 \n",
       "17 Xochitl Torres Small     female 0.5093397 \n",
       "18 Susie Lee                female 0.5189294 \n",
       "19 Perry Gershon            male   0.4599579 \n",
       "20 Max N. Rose              male   0.5039730 \n",
       "21 Sean Patrick Maloney     male   0.5020780 \n",
       "22 Antonio Delgado          male   0.4707937 \n",
       "23 Anthony J. Brindisi      male   0.4617654 \n",
       "24 Nathan D. McMurray       male   0.4492359 \n",
       "25 Kendra Horn              female 0.5069844 \n",
       "26 Conor James Lamb         male   0.5625731 \n",
       "27 Michael F  Doyle Jr.     male   1.0000000 \n",
       "28 Dwight Evans             male   0.9338078 \n",
       "29 Madeleine Dean Cunnane   female 0.6352244 \n",
       "30 Mary Gay Scanlon         female 0.6518867 \n",
       "31 Matthew Alton Cartwright male   0.5464205 \n",
       "32 Joe Cunningham           male   0.5060484 \n",
       "33 Ben McAdams              male   0.5012200 \n",
       "34 Elaine G. Luria          female 0.5105011 \n",
       "35 Abigail A. Spanberger    female 0.5033662 \n",
       "36 Ron Kind                 male   0.5964907 "
      ]
     },
     "metadata": {},
     "output_type": "display_data"
    },
    {
     "name": "stderr",
     "output_type": "stream",
     "text": [
      "`summarise()` regrouping output by 'flip' (override with `.groups` argument)\n",
      "\n"
     ]
    },
    {
     "data": {
      "image/png": "[encoded data removed]",
      "text/plain": [
       "plot without title"
      ]
     },
     "metadata": {
      "image/png": {
       "height": 420,
       "width": 420
      }
     },
     "output_type": "display_data"
    },
    {
     "name": "stderr",
     "output_type": "stream",
     "text": [
      "`summarise()` regrouping output by 'flip' (override with `.groups` argument)\n",
      "\n"
     ]
    },
    {
     "data": {
      "image/png": "[encoded data removed]",
      "text/plain": [
       "plot without title"
      ]
     },
     "metadata": {
      "image/png": {
       "height": 420,
       "width": 420
      }
     },
     "output_type": "display_data"
    },
    {
     "data": {
      "image/png": "[encoded data removed]",
      "text/plain": [
       "plot without title"
      ]
     },
     "metadata": {
      "image/png": {
       "height": 420,
       "width": 420
      }
     },
     "output_type": "display_data"
    }
   ],
   "source": [
    "## Visuals\n",
    "CD_results_long %>%\n",
    "    filter(party == \"Democrat\", gender %in% c(\"male\", \"female\")) %>%\n",
    "    group_by(flip, gender) %>%\n",
    "    summarize(count = n())\n",
    "\n",
    "CD_results_long %>%\n",
    "    filter(party == \"Democrat\", gender %in% c(\"male\", \"female\")) %>%\n",
    "    group_by(gender) %>%\n",
    "    summarize(count = n()) %>%\n",
    "    mutate(prop = count / sum(count))\n",
    "\n",
    "\n",
    "CD_results_long %>%\n",
    "    filter(party == \"Democrat\", gender %in% c(\"male\", \"female\")) %>%\n",
    "    group_by(gender) %>%\n",
    "    summarize(count = n()) %>%\n",
    "    mutate(prop = count / sum(count)) %>%\n",
    "    ggplot(aes(x = gender, y = prop, fill = gender)) + \n",
    "        geom_bar(stat = \"identity\")\n",
    "\n",
    "\n",
    "CD_results_long %>%\n",
    "    filter(party == \"Democrat\", gender %in% c(\"male\", \"female\"), vote_share < 0.75) %>%\n",
    "    group_by(flip, gender) %>%\n",
    "    summarize(count = n()) %>%\n",
    "    mutate(prop = count / sum(count)) %>%\n",
    "    ggplot(aes(x = gender, y = prop, fill = gender)) + \n",
    "        geom_bar(stat = \"identity\") + \n",
    "        facet_grid(. ~ flip)\n",
    "\n",
    "CD_results_long %>%\n",
    "    filter(party == \"Democrat\", gender %in% c(\"male\", \"female\"), vote_share <0.75) %>%\n",
    "    group_by(flip, gender) %>%\n",
    "    summarize(avg_vote_share = mean(vote_share)) %>%\n",
    "    ggplot(aes(x = gender, y = avg_vote_share, fill = gender)) + \n",
    "    geom_bar(stat = \"identity\") + \n",
    "    facet_grid(. ~ flip)\n",
    "# Kind of interesting that there are more males than females in the flipped district winners but females had a higher vote share on average\n",
    "\n",
    "\n"
   ]
  },
  {
   "cell_type": "code",
   "execution_count": 53,
   "metadata": {},
   "outputs": [
    {
     "data": {
      "text/html": [
       "<table>\n",
       "<caption>A tibble: 2 × 5</caption>\n",
       "<thead>\n",
       "\t<tr><th scope=col>term</th><th scope=col>estimate</th><th scope=col>std.error</th><th scope=col>statistic</th><th scope=col>p.value</th></tr>\n",
       "\t<tr><th scope=col>&lt;chr&gt;</th><th scope=col>&lt;dbl&gt;</th><th scope=col>&lt;dbl&gt;</th><th scope=col>&lt;dbl&gt;</th><th scope=col>&lt;dbl&gt;</th></tr>\n",
       "</thead>\n",
       "<tbody>\n",
       "\t<tr><td>(Intercept)</td><td>-2.3581549</td><td>0.2796164</td><td>-8.433537</td><td>3.353719e-17</td></tr>\n",
       "\t<tr><td>gendermale </td><td> 0.1761978</td><td>0.3588427</td><td> 0.491017</td><td>6.234144e-01</td></tr>\n",
       "</tbody>\n",
       "</table>\n"
      ],
      "text/latex": [
       "A tibble: 2 × 5\n",
       "\\begin{tabular}{lllll}\n",
       " term & estimate & std.error & statistic & p.value\\\\\n",
       " <chr> & <dbl> & <dbl> & <dbl> & <dbl>\\\\\n",
       "\\hline\n",
       "\t (Intercept) & -2.3581549 & 0.2796164 & -8.433537 & 3.353719e-17\\\\\n",
       "\t gendermale  &  0.1761978 & 0.3588427 &  0.491017 & 6.234144e-01\\\\\n",
       "\\end{tabular}\n"
      ],
      "text/markdown": [
       "\n",
       "A tibble: 2 × 5\n",
       "\n",
       "| term &lt;chr&gt; | estimate &lt;dbl&gt; | std.error &lt;dbl&gt; | statistic &lt;dbl&gt; | p.value &lt;dbl&gt; |\n",
       "|---|---|---|---|---|\n",
       "| (Intercept) | -2.3581549 | 0.2796164 | -8.433537 | 3.353719e-17 |\n",
       "| gendermale  |  0.1761978 | 0.3588427 |  0.491017 | 6.234144e-01 |\n",
       "\n"
      ],
      "text/plain": [
       "  term        estimate   std.error statistic p.value     \n",
       "1 (Intercept) -2.3581549 0.2796164 -8.433537 3.353719e-17\n",
       "2 gendermale   0.1761978 0.3588427  0.491017 6.234144e-01"
      ]
     },
     "metadata": {},
     "output_type": "display_data"
    },
    {
     "name": "stderr",
     "output_type": "stream",
     "text": [
      "Warning message:\n",
      "“glm.fit: fitted probabilities numerically 0 or 1 occurred”\n"
     ]
    },
    {
     "data": {
      "text/html": [
       "<table>\n",
       "<caption>A tibble: 7 × 5</caption>\n",
       "<thead>\n",
       "\t<tr><th scope=col>term</th><th scope=col>estimate</th><th scope=col>std.error</th><th scope=col>statistic</th><th scope=col>p.value</th></tr>\n",
       "\t<tr><th scope=col>&lt;chr&gt;</th><th scope=col>&lt;dbl&gt;</th><th scope=col>&lt;dbl&gt;</th><th scope=col>&lt;dbl&gt;</th><th scope=col>&lt;dbl&gt;</th></tr>\n",
       "</thead>\n",
       "<tbody>\n",
       "\t<tr><td>(Intercept)    </td><td>-51.2690591</td><td>12.499003</td><td>-4.1018518</td><td>4.098568e-05</td></tr>\n",
       "\t<tr><td>gendermale     </td><td> -0.3480931</td><td> 1.054254</td><td>-0.3301795</td><td>7.412643e-01</td></tr>\n",
       "\t<tr><td>vote_share     </td><td>104.1160283</td><td>25.263062</td><td> 4.1212751</td><td>3.767811e-05</td></tr>\n",
       "\t<tr><td>regionNortheast</td><td>  4.8180660</td><td> 1.781601</td><td> 2.7043459</td><td>6.843900e-03</td></tr>\n",
       "\t<tr><td>regionOther    </td><td> -0.3338241</td><td> 1.661662</td><td>-0.2008977</td><td>8.407785e-01</td></tr>\n",
       "\t<tr><td>regionSouth    </td><td> -0.4390017</td><td> 1.168490</td><td>-0.3756999</td><td>7.071400e-01</td></tr>\n",
       "\t<tr><td>regionWest     </td><td> -0.5229404</td><td> 1.596504</td><td>-0.3275534</td><td>7.432493e-01</td></tr>\n",
       "</tbody>\n",
       "</table>\n"
      ],
      "text/latex": [
       "A tibble: 7 × 5\n",
       "\\begin{tabular}{lllll}\n",
       " term & estimate & std.error & statistic & p.value\\\\\n",
       " <chr> & <dbl> & <dbl> & <dbl> & <dbl>\\\\\n",
       "\\hline\n",
       "\t (Intercept)     & -51.2690591 & 12.499003 & -4.1018518 & 4.098568e-05\\\\\n",
       "\t gendermale      &  -0.3480931 &  1.054254 & -0.3301795 & 7.412643e-01\\\\\n",
       "\t vote\\_share      & 104.1160283 & 25.263062 &  4.1212751 & 3.767811e-05\\\\\n",
       "\t regionNortheast &   4.8180660 &  1.781601 &  2.7043459 & 6.843900e-03\\\\\n",
       "\t regionOther     &  -0.3338241 &  1.661662 & -0.2008977 & 8.407785e-01\\\\\n",
       "\t regionSouth     &  -0.4390017 &  1.168490 & -0.3756999 & 7.071400e-01\\\\\n",
       "\t regionWest      &  -0.5229404 &  1.596504 & -0.3275534 & 7.432493e-01\\\\\n",
       "\\end{tabular}\n"
      ],
      "text/markdown": [
       "\n",
       "A tibble: 7 × 5\n",
       "\n",
       "| term &lt;chr&gt; | estimate &lt;dbl&gt; | std.error &lt;dbl&gt; | statistic &lt;dbl&gt; | p.value &lt;dbl&gt; |\n",
       "|---|---|---|---|---|\n",
       "| (Intercept)     | -51.2690591 | 12.499003 | -4.1018518 | 4.098568e-05 |\n",
       "| gendermale      |  -0.3480931 |  1.054254 | -0.3301795 | 7.412643e-01 |\n",
       "| vote_share      | 104.1160283 | 25.263062 |  4.1212751 | 3.767811e-05 |\n",
       "| regionNortheast |   4.8180660 |  1.781601 |  2.7043459 | 6.843900e-03 |\n",
       "| regionOther     |  -0.3338241 |  1.661662 | -0.2008977 | 8.407785e-01 |\n",
       "| regionSouth     |  -0.4390017 |  1.168490 | -0.3756999 | 7.071400e-01 |\n",
       "| regionWest      |  -0.5229404 |  1.596504 | -0.3275534 | 7.432493e-01 |\n",
       "\n"
      ],
      "text/plain": [
       "  term            estimate    std.error statistic  p.value     \n",
       "1 (Intercept)     -51.2690591 12.499003 -4.1018518 4.098568e-05\n",
       "2 gendermale       -0.3480931  1.054254 -0.3301795 7.412643e-01\n",
       "3 vote_share      104.1160283 25.263062  4.1212751 3.767811e-05\n",
       "4 regionNortheast   4.8180660  1.781601  2.7043459 6.843900e-03\n",
       "5 regionOther      -0.3338241  1.661662 -0.2008977 8.407785e-01\n",
       "6 regionSouth      -0.4390017  1.168490 -0.3756999 7.071400e-01\n",
       "7 regionWest       -0.5229404  1.596504 -0.3275534 7.432493e-01"
      ]
     },
     "metadata": {},
     "output_type": "display_data"
    }
   ],
   "source": [
    "## Linear regression\n",
    "# Logistic regression, binomial outcome\n",
    "model1 <- CD_results_long %>%\n",
    "    filter(party == \"Democrat\", gender %in% c(\"male\", \"female\")) %>%\n",
    "    glm(flip ~ gender, data = ., family = \"binomial\")\n",
    "\n",
    "tidy(model1)\n",
    "\n",
    "\n",
    "model2 <- CD_results_long %>%\n",
    "    filter(party == \"Democrat\", gender %in% c(\"male\", \"female\"), pres_winner == \"Trump\") %>%\n",
    "    glm(flip ~ gender + vote_share + region, data = ., family = \"binomial\")\n",
    "\n",
    "tidy(model2)\n",
    "\n",
    "# Basic takeaway is that there is no effect, possible that lack of controls and small sample size makes it difficult to detect\n"
   ]
  },
  {
   "cell_type": "code",
   "execution_count": null,
   "metadata": {},
   "outputs": [],
   "source": []
  },
  {
   "cell_type": "code",
   "execution_count": null,
   "metadata": {},
   "outputs": [],
   "source": []
  }
 ],
 "metadata": {
  "kernelspec": {
   "display_name": "R",
   "language": "R",
   "name": "ir"
  },
  "language_info": {
   "codemirror_mode": "r",
   "file_extension": ".r",
   "mimetype": "text/x-r-source",
   "name": "R",
   "pygments_lexer": "r",
   "version": "4.0.0"
  }
 },
 "nbformat": 4,
 "nbformat_minor": 4
}
