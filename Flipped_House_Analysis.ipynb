{
 "cells": [
  {
   "cell_type": "code",
   "execution_count": 8,
   "metadata": {},
   "outputs": [],
   "source": [
    "## Packages\n",
    "library(dplyr)\n",
    "library(stringr)\n",
    "library(broom)\n",
    "library(ggplot2)\n",
    "library(tidyr)\n",
    "library(gender)\n",
    "library(stringr)\n",
    "\n"
   ]
  },
  {
   "cell_type": "code",
   "execution_count": 77,
   "metadata": {},
   "outputs": [
    {
     "data": {
      "text/html": [
       "<table>\n",
       "<caption>A data.frame: 6 × 14</caption>\n",
       "<thead>\n",
       "\t<tr><th></th><th scope=col>X</th><th scope=col>state</th><th scope=col>district</th><th scope=col>candidate</th><th scope=col>gender</th><th scope=col>total_votes</th><th scope=col>vote_share</th><th scope=col>winner_party</th><th scope=col>winner_gender</th><th scope=col>pres_winner</th><th scope=col>flip</th><th scope=col>year</th><th scope=col>party</th><th scope=col>region</th></tr>\n",
       "\t<tr><th></th><th scope=col>&lt;int&gt;</th><th scope=col>&lt;chr&gt;</th><th scope=col>&lt;int&gt;</th><th scope=col>&lt;chr&gt;</th><th scope=col>&lt;chr&gt;</th><th scope=col>&lt;int&gt;</th><th scope=col>&lt;dbl&gt;</th><th scope=col>&lt;chr&gt;</th><th scope=col>&lt;chr&gt;</th><th scope=col>&lt;chr&gt;</th><th scope=col>&lt;lgl&gt;</th><th scope=col>&lt;int&gt;</th><th scope=col>&lt;chr&gt;</th><th scope=col>&lt;chr&gt;</th></tr>\n",
       "</thead>\n",
       "<tbody>\n",
       "\t<tr><th scope=row>1</th><td>1</td><td>AK</td><td>0</td><td>Alyse S. Galvin   </td><td>female</td><td>131199</td><td>0.4649710</td><td>Republican</td><td>male  </td><td>Trump</td><td>FALSE</td><td>2018</td><td>Democrat</td><td>West </td></tr>\n",
       "\t<tr><th scope=row>2</th><td>2</td><td>AL</td><td>1</td><td>Robert Kennedy Jr.</td><td>male  </td><td> 89226</td><td>0.3677648</td><td>Republican</td><td>male  </td><td>Trump</td><td>FALSE</td><td>2018</td><td>Democrat</td><td>South</td></tr>\n",
       "\t<tr><th scope=row>3</th><td>3</td><td>AL</td><td>2</td><td>Tabitha Isner     </td><td>female</td><td> 86931</td><td>0.3842594</td><td>Republican</td><td>female</td><td>Trump</td><td>FALSE</td><td>2018</td><td>Democrat</td><td>South</td></tr>\n",
       "\t<tr><th scope=row>4</th><td>4</td><td>AL</td><td>3</td><td>Mallory Hagan     </td><td>female</td><td> 83996</td><td>0.3621844</td><td>Republican</td><td>male  </td><td>Trump</td><td>FALSE</td><td>2018</td><td>Democrat</td><td>South</td></tr>\n",
       "\t<tr><th scope=row>5</th><td>5</td><td>AL</td><td>4</td><td>Lee Auman         </td><td>male  </td><td> 46492</td><td>0.2012911</td><td>Republican</td><td>male  </td><td>Trump</td><td>FALSE</td><td>2018</td><td>Democrat</td><td>South</td></tr>\n",
       "\t<tr><th scope=row>6</th><td>6</td><td>AL</td><td>6</td><td>Danner Kline      </td><td>male  </td><td> 85644</td><td>0.3077089</td><td>Republican</td><td>male  </td><td>Trump</td><td>FALSE</td><td>2018</td><td>Democrat</td><td>South</td></tr>\n",
       "</tbody>\n",
       "</table>\n"
      ],
      "text/latex": [
       "A data.frame: 6 × 14\n",
       "\\begin{tabular}{r|llllllllllllll}\n",
       "  & X & state & district & candidate & gender & total\\_votes & vote\\_share & winner\\_party & winner\\_gender & pres\\_winner & flip & year & party & region\\\\\n",
       "  & <int> & <chr> & <int> & <chr> & <chr> & <int> & <dbl> & <chr> & <chr> & <chr> & <lgl> & <int> & <chr> & <chr>\\\\\n",
       "\\hline\n",
       "\t1 & 1 & AK & 0 & Alyse S. Galvin    & female & 131199 & 0.4649710 & Republican & male   & Trump & FALSE & 2018 & Democrat & West \\\\\n",
       "\t2 & 2 & AL & 1 & Robert Kennedy Jr. & male   &  89226 & 0.3677648 & Republican & male   & Trump & FALSE & 2018 & Democrat & South\\\\\n",
       "\t3 & 3 & AL & 2 & Tabitha Isner      & female &  86931 & 0.3842594 & Republican & female & Trump & FALSE & 2018 & Democrat & South\\\\\n",
       "\t4 & 4 & AL & 3 & Mallory Hagan      & female &  83996 & 0.3621844 & Republican & male   & Trump & FALSE & 2018 & Democrat & South\\\\\n",
       "\t5 & 5 & AL & 4 & Lee Auman          & male   &  46492 & 0.2012911 & Republican & male   & Trump & FALSE & 2018 & Democrat & South\\\\\n",
       "\t6 & 6 & AL & 6 & Danner Kline       & male   &  85644 & 0.3077089 & Republican & male   & Trump & FALSE & 2018 & Democrat & South\\\\\n",
       "\\end{tabular}\n"
      ],
      "text/markdown": [
       "\n",
       "A data.frame: 6 × 14\n",
       "\n",
       "| <!--/--> | X &lt;int&gt; | state &lt;chr&gt; | district &lt;int&gt; | candidate &lt;chr&gt; | gender &lt;chr&gt; | total_votes &lt;int&gt; | vote_share &lt;dbl&gt; | winner_party &lt;chr&gt; | winner_gender &lt;chr&gt; | pres_winner &lt;chr&gt; | flip &lt;lgl&gt; | year &lt;int&gt; | party &lt;chr&gt; | region &lt;chr&gt; |\n",
       "|---|---|---|---|---|---|---|---|---|---|---|---|---|---|---|\n",
       "| 1 | 1 | AK | 0 | Alyse S. Galvin    | female | 131199 | 0.4649710 | Republican | male   | Trump | FALSE | 2018 | Democrat | West  |\n",
       "| 2 | 2 | AL | 1 | Robert Kennedy Jr. | male   |  89226 | 0.3677648 | Republican | male   | Trump | FALSE | 2018 | Democrat | South |\n",
       "| 3 | 3 | AL | 2 | Tabitha Isner      | female |  86931 | 0.3842594 | Republican | female | Trump | FALSE | 2018 | Democrat | South |\n",
       "| 4 | 4 | AL | 3 | Mallory Hagan      | female |  83996 | 0.3621844 | Republican | male   | Trump | FALSE | 2018 | Democrat | South |\n",
       "| 5 | 5 | AL | 4 | Lee Auman          | male   |  46492 | 0.2012911 | Republican | male   | Trump | FALSE | 2018 | Democrat | South |\n",
       "| 6 | 6 | AL | 6 | Danner Kline       | male   |  85644 | 0.3077089 | Republican | male   | Trump | FALSE | 2018 | Democrat | South |\n",
       "\n"
      ],
      "text/plain": [
       "  X state district candidate          gender total_votes vote_share\n",
       "1 1 AK    0        Alyse S. Galvin    female 131199      0.4649710 \n",
       "2 2 AL    1        Robert Kennedy Jr. male    89226      0.3677648 \n",
       "3 3 AL    2        Tabitha Isner      female  86931      0.3842594 \n",
       "4 4 AL    3        Mallory Hagan      female  83996      0.3621844 \n",
       "5 5 AL    4        Lee Auman          male    46492      0.2012911 \n",
       "6 6 AL    6        Danner Kline       male    85644      0.3077089 \n",
       "  winner_party winner_gender pres_winner flip  year party    region\n",
       "1 Republican   male          Trump       FALSE 2018 Democrat West  \n",
       "2 Republican   male          Trump       FALSE 2018 Democrat South \n",
       "3 Republican   female        Trump       FALSE 2018 Democrat South \n",
       "4 Republican   male          Trump       FALSE 2018 Democrat South \n",
       "5 Republican   male          Trump       FALSE 2018 Democrat South \n",
       "6 Republican   male          Trump       FALSE 2018 Democrat South "
      ]
     },
     "metadata": {},
     "output_type": "display_data"
    },
    {
     "data": {
      "text/html": [
       "<table>\n",
       "<caption>A data.frame: 6 × 17</caption>\n",
       "<thead>\n",
       "\t<tr><th></th><th scope=col>X</th><th scope=col>state</th><th scope=col>district</th><th scope=col>candidate_democrat</th><th scope=col>candidate_republican</th><th scope=col>total_votes_democrat</th><th scope=col>total_votes_republican</th><th scope=col>vote_share_dem</th><th scope=col>vote_share_rep</th><th scope=col>winner_party</th><th scope=col>year</th><th scope=col>gender_dem</th><th scope=col>gender_rep</th><th scope=col>winner_gender</th><th scope=col>pres_winner</th><th scope=col>flip</th><th scope=col>region</th></tr>\n",
       "\t<tr><th></th><th scope=col>&lt;int&gt;</th><th scope=col>&lt;chr&gt;</th><th scope=col>&lt;int&gt;</th><th scope=col>&lt;chr&gt;</th><th scope=col>&lt;chr&gt;</th><th scope=col>&lt;int&gt;</th><th scope=col>&lt;int&gt;</th><th scope=col>&lt;dbl&gt;</th><th scope=col>&lt;dbl&gt;</th><th scope=col>&lt;chr&gt;</th><th scope=col>&lt;int&gt;</th><th scope=col>&lt;chr&gt;</th><th scope=col>&lt;chr&gt;</th><th scope=col>&lt;chr&gt;</th><th scope=col>&lt;chr&gt;</th><th scope=col>&lt;lgl&gt;</th><th scope=col>&lt;chr&gt;</th></tr>\n",
       "</thead>\n",
       "<tbody>\n",
       "\t<tr><th scope=row>1</th><td>1</td><td>AK</td><td>0</td><td>Alyse S. Galvin   </td><td>Don Young      </td><td>131199</td><td>149779</td><td>0.4649710</td><td>0.5308187</td><td>Republican</td><td>2018</td><td>female</td><td>male  </td><td>male  </td><td>Trump</td><td>FALSE</td><td>West </td></tr>\n",
       "\t<tr><th scope=row>2</th><td>2</td><td>AL</td><td>1</td><td>Robert Kennedy Jr.</td><td>Bradley Byrne  </td><td> 89226</td><td>153228</td><td>0.3677648</td><td>0.6315633</td><td>Republican</td><td>2018</td><td>male  </td><td>male  </td><td>male  </td><td>Trump</td><td>FALSE</td><td>South</td></tr>\n",
       "\t<tr><th scope=row>3</th><td>3</td><td>AL</td><td>2</td><td>Tabitha Isner     </td><td>Martha Roby    </td><td> 86931</td><td>138879</td><td>0.3842594</td><td>0.6138841</td><td>Republican</td><td>2018</td><td>female</td><td>female</td><td>female</td><td>Trump</td><td>FALSE</td><td>South</td></tr>\n",
       "\t<tr><th scope=row>4</th><td>4</td><td>AL</td><td>3</td><td>Mallory Hagan     </td><td>Mike Rogers    </td><td> 83996</td><td>147770</td><td>0.3621844</td><td>0.6371731</td><td>Republican</td><td>2018</td><td>female</td><td>male  </td><td>male  </td><td>Trump</td><td>FALSE</td><td>South</td></tr>\n",
       "\t<tr><th scope=row>5</th><td>5</td><td>AL</td><td>4</td><td>Lee Auman         </td><td>Robert Aderholt</td><td> 46492</td><td>184255</td><td>0.2012911</td><td>0.7977477</td><td>Republican</td><td>2018</td><td>male  </td><td>male  </td><td>male  </td><td>Trump</td><td>FALSE</td><td>South</td></tr>\n",
       "\t<tr><th scope=row>6</th><td>6</td><td>AL</td><td>6</td><td>Danner Kline      </td><td>Gary Palmer    </td><td> 85644</td><td>192542</td><td>0.3077089</td><td>0.6917809</td><td>Republican</td><td>2018</td><td>male  </td><td>male  </td><td>male  </td><td>Trump</td><td>FALSE</td><td>South</td></tr>\n",
       "</tbody>\n",
       "</table>\n"
      ],
      "text/latex": [
       "A data.frame: 6 × 17\n",
       "\\begin{tabular}{r|lllllllllllllllll}\n",
       "  & X & state & district & candidate\\_democrat & candidate\\_republican & total\\_votes\\_democrat & total\\_votes\\_republican & vote\\_share\\_dem & vote\\_share\\_rep & winner\\_party & year & gender\\_dem & gender\\_rep & winner\\_gender & pres\\_winner & flip & region\\\\\n",
       "  & <int> & <chr> & <int> & <chr> & <chr> & <int> & <int> & <dbl> & <dbl> & <chr> & <int> & <chr> & <chr> & <chr> & <chr> & <lgl> & <chr>\\\\\n",
       "\\hline\n",
       "\t1 & 1 & AK & 0 & Alyse S. Galvin    & Don Young       & 131199 & 149779 & 0.4649710 & 0.5308187 & Republican & 2018 & female & male   & male   & Trump & FALSE & West \\\\\n",
       "\t2 & 2 & AL & 1 & Robert Kennedy Jr. & Bradley Byrne   &  89226 & 153228 & 0.3677648 & 0.6315633 & Republican & 2018 & male   & male   & male   & Trump & FALSE & South\\\\\n",
       "\t3 & 3 & AL & 2 & Tabitha Isner      & Martha Roby     &  86931 & 138879 & 0.3842594 & 0.6138841 & Republican & 2018 & female & female & female & Trump & FALSE & South\\\\\n",
       "\t4 & 4 & AL & 3 & Mallory Hagan      & Mike Rogers     &  83996 & 147770 & 0.3621844 & 0.6371731 & Republican & 2018 & female & male   & male   & Trump & FALSE & South\\\\\n",
       "\t5 & 5 & AL & 4 & Lee Auman          & Robert Aderholt &  46492 & 184255 & 0.2012911 & 0.7977477 & Republican & 2018 & male   & male   & male   & Trump & FALSE & South\\\\\n",
       "\t6 & 6 & AL & 6 & Danner Kline       & Gary Palmer     &  85644 & 192542 & 0.3077089 & 0.6917809 & Republican & 2018 & male   & male   & male   & Trump & FALSE & South\\\\\n",
       "\\end{tabular}\n"
      ],
      "text/markdown": [
       "\n",
       "A data.frame: 6 × 17\n",
       "\n",
       "| <!--/--> | X &lt;int&gt; | state &lt;chr&gt; | district &lt;int&gt; | candidate_democrat &lt;chr&gt; | candidate_republican &lt;chr&gt; | total_votes_democrat &lt;int&gt; | total_votes_republican &lt;int&gt; | vote_share_dem &lt;dbl&gt; | vote_share_rep &lt;dbl&gt; | winner_party &lt;chr&gt; | year &lt;int&gt; | gender_dem &lt;chr&gt; | gender_rep &lt;chr&gt; | winner_gender &lt;chr&gt; | pres_winner &lt;chr&gt; | flip &lt;lgl&gt; | region &lt;chr&gt; |\n",
       "|---|---|---|---|---|---|---|---|---|---|---|---|---|---|---|---|---|---|\n",
       "| 1 | 1 | AK | 0 | Alyse S. Galvin    | Don Young       | 131199 | 149779 | 0.4649710 | 0.5308187 | Republican | 2018 | female | male   | male   | Trump | FALSE | West  |\n",
       "| 2 | 2 | AL | 1 | Robert Kennedy Jr. | Bradley Byrne   |  89226 | 153228 | 0.3677648 | 0.6315633 | Republican | 2018 | male   | male   | male   | Trump | FALSE | South |\n",
       "| 3 | 3 | AL | 2 | Tabitha Isner      | Martha Roby     |  86931 | 138879 | 0.3842594 | 0.6138841 | Republican | 2018 | female | female | female | Trump | FALSE | South |\n",
       "| 4 | 4 | AL | 3 | Mallory Hagan      | Mike Rogers     |  83996 | 147770 | 0.3621844 | 0.6371731 | Republican | 2018 | female | male   | male   | Trump | FALSE | South |\n",
       "| 5 | 5 | AL | 4 | Lee Auman          | Robert Aderholt |  46492 | 184255 | 0.2012911 | 0.7977477 | Republican | 2018 | male   | male   | male   | Trump | FALSE | South |\n",
       "| 6 | 6 | AL | 6 | Danner Kline       | Gary Palmer     |  85644 | 192542 | 0.3077089 | 0.6917809 | Republican | 2018 | male   | male   | male   | Trump | FALSE | South |\n",
       "\n"
      ],
      "text/plain": [
       "  X state district candidate_democrat candidate_republican total_votes_democrat\n",
       "1 1 AK    0        Alyse S. Galvin    Don Young            131199              \n",
       "2 2 AL    1        Robert Kennedy Jr. Bradley Byrne         89226              \n",
       "3 3 AL    2        Tabitha Isner      Martha Roby           86931              \n",
       "4 4 AL    3        Mallory Hagan      Mike Rogers           83996              \n",
       "5 5 AL    4        Lee Auman          Robert Aderholt       46492              \n",
       "6 6 AL    6        Danner Kline       Gary Palmer           85644              \n",
       "  total_votes_republican vote_share_dem vote_share_rep winner_party year\n",
       "1 149779                 0.4649710      0.5308187      Republican   2018\n",
       "2 153228                 0.3677648      0.6315633      Republican   2018\n",
       "3 138879                 0.3842594      0.6138841      Republican   2018\n",
       "4 147770                 0.3621844      0.6371731      Republican   2018\n",
       "5 184255                 0.2012911      0.7977477      Republican   2018\n",
       "6 192542                 0.3077089      0.6917809      Republican   2018\n",
       "  gender_dem gender_rep winner_gender pres_winner flip  region\n",
       "1 female     male       male          Trump       FALSE West  \n",
       "2 male       male       male          Trump       FALSE South \n",
       "3 female     female     female        Trump       FALSE South \n",
       "4 female     male       male          Trump       FALSE South \n",
       "5 male       male       male          Trump       FALSE South \n",
       "6 male       male       male          Trump       FALSE South "
      ]
     },
     "metadata": {},
     "output_type": "display_data"
    }
   ],
   "source": [
    "## Data\n",
    "\n",
    "CD_results_long <- read.csv(\"flipped_house_2018_long.csv\")\n",
    "\n",
    "CD_results_wide <- read.csv(\"flipped_house_2018_wide.csv\")\n",
    "\n",
    "\n",
    "# Add region\n",
    "states_northeast <- c(\"CT\", \"ME\", \"MA\", \"NH\", \"NJ\", \"NY\", \"PA\", \"RI\", \"VT\")\n",
    "states_west <- c(\"AK\", \"AZ\", \"CA\", \"CO\", \"HI\", \"ID\", \"NV\", \"NM\", \"OR\", \"WA\", \"WY\")\n",
    "states_midwest <- c(\"IN\", \"IL\", \"IA\", \"KN\", \"MI\", \"MN\", \"MO\", \"NB\", \"ND\", \"OH\", \"SD\", \"WI\")\n",
    "states_south <- c(\"AL\", \"AK\", \"DE\", \"DC\", \"FL\", \"GA\", \"KY\", \"LA\", \"MD\", \"MI\", \"NC\", \"OK\", \"SC\", \"TN\", \"TX\", \"VA\", \"WV\")\n",
    "\n",
    "CD_results_long <- CD_results_long %>%\n",
    "  mutate(region = case_when(state %in% states_northeast ~ \"Northeast\",\n",
    "                            state %in% states_west ~ \"West\",\n",
    "                            state %in% states_midwest ~ \"Midwest\",\n",
    "                            state %in% states_south ~ \"South\",\n",
    "                            TRUE ~ \"Other\"))\n",
    "\n",
    "# Replace \"dataset\" with name of your dataset\n",
    "CD_results_wide <- CD_results_wide %>%\n",
    "  mutate(region = case_when(state %in% states_northeast ~ \"Northeast\",\n",
    "                            state %in% states_west ~ \"West\",\n",
    "                            state %in% states_midwest ~ \"Midwest\",\n",
    "                            state %in% states_south ~ \"South\",\n",
    "                            TRUE ~ \"Other\"))\n",
    "\n",
    "\n",
    "head(CD_results_long)\n",
    "\n",
    "head(CD_results_wide)\n"
   ]
  },
  {
   "cell_type": "code",
   "execution_count": null,
   "metadata": {},
   "outputs": [],
   "source": [
    "## Flipped districts\n",
    "# Fill gender for unknowns, only 5\n",
    "CD_results_long %>%\n",
    "    filter(flip == TRUE, gender == \"Unknown\")\n",
    "\n",
    "CD_results_long[310,\"gender\"] <- \"male\"\n",
    "CD_results_long[310,\"winner_gender\"] <- \"male\"\n",
    "CD_results_long[311,\"gender\"] <- \"female\"\n",
    "CD_results_long[311,\"winner_gender\"] <- \"female\"\n",
    "CD_results_long[716,\"gender\"] <- \"male\"\n",
    "CD_results_long[720,\"gender\"] <- \"male\"\n",
    "CD_results_long[720,\"winner_gender\"] <- \"female\"\n",
    "CD_results_long[721,\"gender\"] <- \"female\"\n",
    "\n"
   ]
  },
  {
   "cell_type": "markdown",
   "metadata": {},
   "source": [
    "## Tables"
   ]
  },
  {
   "cell_type": "code",
   "execution_count": 100,
   "metadata": {},
   "outputs": [
    {
     "name": "stderr",
     "output_type": "stream",
     "text": [
      "`summarise()` ungrouping output (override with `.groups` argument)\n",
      "\n"
     ]
    },
    {
     "data": {
      "text/html": [
       "<table>\n",
       "<caption>A tibble: 3 × 2</caption>\n",
       "<thead>\n",
       "\t<tr><th scope=col>gender</th><th scope=col>count</th></tr>\n",
       "\t<tr><th scope=col>&lt;chr&gt;</th><th scope=col>&lt;int&gt;</th></tr>\n",
       "</thead>\n",
       "<tbody>\n",
       "\t<tr><td>female </td><td>13</td></tr>\n",
       "\t<tr><td>male   </td><td>21</td></tr>\n",
       "\t<tr><td>Unknown</td><td> 2</td></tr>\n",
       "</tbody>\n",
       "</table>\n"
      ],
      "text/latex": [
       "A tibble: 3 × 2\n",
       "\\begin{tabular}{ll}\n",
       " gender & count\\\\\n",
       " <chr> & <int>\\\\\n",
       "\\hline\n",
       "\t female  & 13\\\\\n",
       "\t male    & 21\\\\\n",
       "\t Unknown &  2\\\\\n",
       "\\end{tabular}\n"
      ],
      "text/markdown": [
       "\n",
       "A tibble: 3 × 2\n",
       "\n",
       "| gender &lt;chr&gt; | count &lt;int&gt; |\n",
       "|---|---|\n",
       "| female  | 13 |\n",
       "| male    | 21 |\n",
       "| Unknown |  2 |\n",
       "\n"
      ],
      "text/plain": [
       "  gender  count\n",
       "1 female  13   \n",
       "2 male    21   \n",
       "3 Unknown  2   "
      ]
     },
     "metadata": {},
     "output_type": "display_data"
    },
    {
     "name": "stderr",
     "output_type": "stream",
     "text": [
      "`summarise()` ungrouping output (override with `.groups` argument)\n",
      "\n"
     ]
    },
    {
     "data": {
      "text/html": [
       "<table>\n",
       "<caption>A tibble: 4 × 2</caption>\n",
       "<thead>\n",
       "\t<tr><th scope=col>gender</th><th scope=col>count</th></tr>\n",
       "\t<tr><th scope=col>&lt;chr&gt;</th><th scope=col>&lt;int&gt;</th></tr>\n",
       "</thead>\n",
       "<tbody>\n",
       "\t<tr><td>female </td><td> 7</td></tr>\n",
       "\t<tr><td>male   </td><td>24</td></tr>\n",
       "\t<tr><td>N/A    </td><td> 2</td></tr>\n",
       "\t<tr><td>Unknown</td><td> 3</td></tr>\n",
       "</tbody>\n",
       "</table>\n"
      ],
      "text/latex": [
       "A tibble: 4 × 2\n",
       "\\begin{tabular}{ll}\n",
       " gender & count\\\\\n",
       " <chr> & <int>\\\\\n",
       "\\hline\n",
       "\t female  &  7\\\\\n",
       "\t male    & 24\\\\\n",
       "\t N/A     &  2\\\\\n",
       "\t Unknown &  3\\\\\n",
       "\\end{tabular}\n"
      ],
      "text/markdown": [
       "\n",
       "A tibble: 4 × 2\n",
       "\n",
       "| gender &lt;chr&gt; | count &lt;int&gt; |\n",
       "|---|---|\n",
       "| female  |  7 |\n",
       "| male    | 24 |\n",
       "| N/A     |  2 |\n",
       "| Unknown |  3 |\n",
       "\n"
      ],
      "text/plain": [
       "  gender  count\n",
       "1 female   7   \n",
       "2 male    24   \n",
       "3 N/A      2   \n",
       "4 Unknown  3   "
      ]
     },
     "metadata": {},
     "output_type": "display_data"
    },
    {
     "name": "stderr",
     "output_type": "stream",
     "text": [
      "`summarise()` regrouping output by 'region' (override with `.groups` argument)\n",
      "\n"
     ]
    },
    {
     "data": {
      "text/html": [
       "<table>\n",
       "<caption>A grouped_df: 10 × 3</caption>\n",
       "<thead>\n",
       "\t<tr><th scope=col>region</th><th scope=col>gender</th><th scope=col>count</th></tr>\n",
       "\t<tr><th scope=col>&lt;chr&gt;</th><th scope=col>&lt;chr&gt;</th><th scope=col>&lt;int&gt;</th></tr>\n",
       "</thead>\n",
       "<tbody>\n",
       "\t<tr><td>Northeast</td><td>male   </td><td>16</td></tr>\n",
       "\t<tr><td>Midwest  </td><td>female </td><td> 6</td></tr>\n",
       "\t<tr><td>South    </td><td>female </td><td> 4</td></tr>\n",
       "\t<tr><td>Midwest  </td><td>male   </td><td> 2</td></tr>\n",
       "\t<tr><td>Northeast</td><td>Unknown</td><td> 2</td></tr>\n",
       "\t<tr><td>West     </td><td>female </td><td> 2</td></tr>\n",
       "\t<tr><td>Northeast</td><td>female </td><td> 1</td></tr>\n",
       "\t<tr><td>Other    </td><td>male   </td><td> 1</td></tr>\n",
       "\t<tr><td>South    </td><td>male   </td><td> 1</td></tr>\n",
       "\t<tr><td>West     </td><td>male   </td><td> 1</td></tr>\n",
       "</tbody>\n",
       "</table>\n"
      ],
      "text/latex": [
       "A grouped\\_df: 10 × 3\n",
       "\\begin{tabular}{lll}\n",
       " region & gender & count\\\\\n",
       " <chr> & <chr> & <int>\\\\\n",
       "\\hline\n",
       "\t Northeast & male    & 16\\\\\n",
       "\t Midwest   & female  &  6\\\\\n",
       "\t South     & female  &  4\\\\\n",
       "\t Midwest   & male    &  2\\\\\n",
       "\t Northeast & Unknown &  2\\\\\n",
       "\t West      & female  &  2\\\\\n",
       "\t Northeast & female  &  1\\\\\n",
       "\t Other     & male    &  1\\\\\n",
       "\t South     & male    &  1\\\\\n",
       "\t West      & male    &  1\\\\\n",
       "\\end{tabular}\n"
      ],
      "text/markdown": [
       "\n",
       "A grouped_df: 10 × 3\n",
       "\n",
       "| region &lt;chr&gt; | gender &lt;chr&gt; | count &lt;int&gt; |\n",
       "|---|---|---|\n",
       "| Northeast | male    | 16 |\n",
       "| Midwest   | female  |  6 |\n",
       "| South     | female  |  4 |\n",
       "| Midwest   | male    |  2 |\n",
       "| Northeast | Unknown |  2 |\n",
       "| West      | female  |  2 |\n",
       "| Northeast | female  |  1 |\n",
       "| Other     | male    |  1 |\n",
       "| South     | male    |  1 |\n",
       "| West      | male    |  1 |\n",
       "\n"
      ],
      "text/plain": [
       "   region    gender  count\n",
       "1  Northeast male    16   \n",
       "2  Midwest   female   6   \n",
       "3  South     female   4   \n",
       "4  Midwest   male     2   \n",
       "5  Northeast Unknown  2   \n",
       "6  West      female   2   \n",
       "7  Northeast female   1   \n",
       "8  Other     male     1   \n",
       "9  South     male     1   \n",
       "10 West      male     1   "
      ]
     },
     "metadata": {},
     "output_type": "display_data"
    },
    {
     "name": "stderr",
     "output_type": "stream",
     "text": [
      "`summarise()` regrouping output by 'flip' (override with `.groups` argument)\n",
      "\n"
     ]
    },
    {
     "data": {
      "text/html": [
       "<table>\n",
       "<caption>A grouped_df: 4 × 3</caption>\n",
       "<thead>\n",
       "\t<tr><th scope=col>flip</th><th scope=col>gender</th><th scope=col>count</th></tr>\n",
       "\t<tr><th scope=col>&lt;lgl&gt;</th><th scope=col>&lt;chr&gt;</th><th scope=col>&lt;int&gt;</th></tr>\n",
       "</thead>\n",
       "<tbody>\n",
       "\t<tr><td>FALSE</td><td>female</td><td>148</td></tr>\n",
       "\t<tr><td>FALSE</td><td>male  </td><td>195</td></tr>\n",
       "\t<tr><td> TRUE</td><td>female</td><td> 13</td></tr>\n",
       "\t<tr><td> TRUE</td><td>male  </td><td> 21</td></tr>\n",
       "</tbody>\n",
       "</table>\n"
      ],
      "text/latex": [
       "A grouped\\_df: 4 × 3\n",
       "\\begin{tabular}{lll}\n",
       " flip & gender & count\\\\\n",
       " <lgl> & <chr> & <int>\\\\\n",
       "\\hline\n",
       "\t FALSE & female & 148\\\\\n",
       "\t FALSE & male   & 195\\\\\n",
       "\t  TRUE & female &  13\\\\\n",
       "\t  TRUE & male   &  21\\\\\n",
       "\\end{tabular}\n"
      ],
      "text/markdown": [
       "\n",
       "A grouped_df: 4 × 3\n",
       "\n",
       "| flip &lt;lgl&gt; | gender &lt;chr&gt; | count &lt;int&gt; |\n",
       "|---|---|---|\n",
       "| FALSE | female | 148 |\n",
       "| FALSE | male   | 195 |\n",
       "|  TRUE | female |  13 |\n",
       "|  TRUE | male   |  21 |\n",
       "\n"
      ],
      "text/plain": [
       "  flip  gender count\n",
       "1 FALSE female 148  \n",
       "2 FALSE male   195  \n",
       "3  TRUE female  13  \n",
       "4  TRUE male    21  "
      ]
     },
     "metadata": {},
     "output_type": "display_data"
    },
    {
     "name": "stderr",
     "output_type": "stream",
     "text": [
      "`summarise()` ungrouping output (override with `.groups` argument)\n",
      "\n"
     ]
    },
    {
     "data": {
      "text/html": [
       "<table>\n",
       "<caption>A tibble: 2 × 3</caption>\n",
       "<thead>\n",
       "\t<tr><th scope=col>gender</th><th scope=col>count</th><th scope=col>prop</th></tr>\n",
       "\t<tr><th scope=col>&lt;chr&gt;</th><th scope=col>&lt;int&gt;</th><th scope=col>&lt;dbl&gt;</th></tr>\n",
       "</thead>\n",
       "<tbody>\n",
       "\t<tr><td>female</td><td>161</td><td>0.4270557</td></tr>\n",
       "\t<tr><td>male  </td><td>216</td><td>0.5729443</td></tr>\n",
       "</tbody>\n",
       "</table>\n"
      ],
      "text/latex": [
       "A tibble: 2 × 3\n",
       "\\begin{tabular}{lll}\n",
       " gender & count & prop\\\\\n",
       " <chr> & <int> & <dbl>\\\\\n",
       "\\hline\n",
       "\t female & 161 & 0.4270557\\\\\n",
       "\t male   & 216 & 0.5729443\\\\\n",
       "\\end{tabular}\n"
      ],
      "text/markdown": [
       "\n",
       "A tibble: 2 × 3\n",
       "\n",
       "| gender &lt;chr&gt; | count &lt;int&gt; | prop &lt;dbl&gt; |\n",
       "|---|---|---|\n",
       "| female | 161 | 0.4270557 |\n",
       "| male   | 216 | 0.5729443 |\n",
       "\n"
      ],
      "text/plain": [
       "  gender count prop     \n",
       "1 female 161   0.4270557\n",
       "2 male   216   0.5729443"
      ]
     },
     "metadata": {},
     "output_type": "display_data"
    }
   ],
   "source": [
    "CD_results_long %>%\n",
    "    filter(party == \"Democrat\", flip == TRUE) %>%\n",
    "    group_by(gender) %>%\n",
    "    summarize(count = n())\n",
    "\n",
    "CD_results_long %>%\n",
    "    filter(party == \"Republican\", flip == TRUE) %>%\n",
    "    group_by(gender) %>%\n",
    "    summarize(count = n())\n",
    "\n",
    "\n",
    "CD_results_long %>%\n",
    "    filter(party == \"Democrat\", flip == TRUE) %>%\n",
    "    group_by(region, gender) %>%\n",
    "    summarize(count = n()) %>%\n",
    "    arrange(desc(count))\n",
    "\n",
    "CD_results_long %>%\n",
    "    filter(party == \"Democrat\", gender %in% c(\"male\", \"female\")) %>%\n",
    "    group_by(flip, gender) %>%\n",
    "    summarize(count = n())\n",
    "\n",
    "CD_results_long %>%\n",
    "    filter(party == \"Democrat\", gender %in% c(\"male\", \"female\")) %>%\n",
    "    group_by(gender) %>%\n",
    "    summarize(count = n()) %>%\n",
    "    mutate(prop = count / sum(count))\n"
   ]
  },
  {
   "cell_type": "markdown",
   "metadata": {},
   "source": [
    "## Graphs"
   ]
  },
  {
   "cell_type": "code",
   "execution_count": 116,
   "metadata": {},
   "outputs": [
    {
     "name": "stderr",
     "output_type": "stream",
     "text": [
      "`summarise()` ungrouping output (override with `.groups` argument)\n",
      "\n",
      "`summarise()` regrouping output by 'flip' (override with `.groups` argument)\n",
      "\n"
     ]
    },
    {
     "data": {
      "image/png": "[encoded data removed]",
      "text/plain": [
       "plot without title"
      ]
     },
     "metadata": {
      "image/png": {
       "height": 420,
       "width": 420
      }
     },
     "output_type": "display_data"
    },
    {
     "name": "stderr",
     "output_type": "stream",
     "text": [
      "`summarise()` regrouping output by 'flip' (override with `.groups` argument)\n",
      "\n"
     ]
    },
    {
     "data": {
      "image/png": "[encoded data removed]",
      "text/plain": [
       "plot without title"
      ]
     },
     "metadata": {
      "image/png": {
       "height": 420,
       "width": 420
      }
     },
     "output_type": "display_data"
    },
    {
     "data": {
      "image/png": "[encoded data removed]",
      "text/plain": [
       "plot without title"
      ]
     },
     "metadata": {
      "image/png": {
       "height": 420,
       "width": 420
      }
     },
     "output_type": "display_data"
    }
   ],
   "source": [
    "## Visuals\n",
    "CD_results_long %>%\n",
    "    filter(party == \"Democrat\", gender %in% c(\"male\", \"female\")) %>%\n",
    "    group_by(gender) %>%\n",
    "    summarize(count = n()) %>%\n",
    "    mutate(prop = round(100*count / sum(count),1)) %>%\n",
    "    ggplot(aes(x = gender, y = prop, fill = gender, label = paste(prop, \"%\", sep =\"\"))) + \n",
    "        geom_bar(stat = \"identity\") + \n",
    "        geom_text(position = position_nudge(0, 2)) +\n",
    "        theme(legend.position = \"none\") + \n",
    "        labs(title = \"Gender Proportion of Winning Candidates in 'Flipped' Districts\",\n",
    "            x = \"Gender\",\n",
    "            y = \"Percent\") + \n",
    "        ylim(0, 75)\n",
    "\n",
    "\n",
    "CD_results_long %>%\n",
    "    filter(party == \"Democrat\", gender %in% c(\"male\", \"female\"), vote_share < 0.75, pres_winner == \"Trump\") %>%\n",
    "    group_by(flip, gender) %>%\n",
    "    summarize(count = n()) %>%\n",
    "    mutate(prop = round(100*count / sum(count),1),\n",
    "          flip = ifelse(flip == FALSE, \"Non-Flipped\", \"Flipped\")) %>%\n",
    "    ggplot(aes(x = gender, y = prop, fill = gender, label = paste(prop, \"%\", sep = \"\"))) + \n",
    "        geom_bar(stat = \"identity\") + \n",
    "        geom_text(position = position_nudge(0,2)) + \n",
    "        facet_grid(. ~ flip) + \n",
    "        theme(legend.position = \"none\") + \n",
    "        labs(title = \"Gender Proportions in Flipped vs Non-Flipped Districts\",\n",
    "            x = \"Gender\",\n",
    "            y = \"Percent\") + \n",
    "        ylim(0, 75)\n",
    "        \n",
    "\n",
    "CD_results_long %>%\n",
    "    filter(party == \"Democrat\", gender %in% c(\"male\", \"female\"), vote_share < 0.75, candidate != \"No candidate\") %>%\n",
    "    group_by(flip, gender) %>%\n",
    "    summarize(avg_vote_share = round(100*mean(vote_share),1)) %>%\n",
    "    mutate(flip = ifelse(flip == FALSE, \"Non-Flipped\", \"Flipped\")) %>%\n",
    "    ggplot(aes(x = gender, y = avg_vote_share, fill = gender, label = paste(avg_vote_share, \"%\", sep = \"\"))) + \n",
    "        geom_bar(stat = \"identity\") + \n",
    "        geom_text(position = position_nudge(0,2)) + \n",
    "        facet_grid(. ~ flip) + \n",
    "        theme(legend.position = \"none\") + \n",
    "        labs(title = \"Average Vote Share of Democratic Candidates, Flipped vs Non-Flipped Districts\",\n",
    "            x = \"Gender\",\n",
    "            y = \"Vote Share %\") + \n",
    "        ylim(0, 80)\n",
    "# Kind of interesting that there are more males than females in the flipped district winners but females had a higher vote share on average\n",
    "# Many ways to split this last one, not exactly fair to compare winners to a group that includes losers, but comparing them to non-flipped winners only would include 'safe' seats with high Dem margins\n",
    "\n",
    "\n"
   ]
  },
  {
   "cell_type": "markdown",
   "metadata": {},
   "source": [
    "## Models"
   ]
  },
  {
   "cell_type": "code",
   "execution_count": 78,
   "metadata": {},
   "outputs": [
    {
     "data": {
      "text/html": [
       "<table>\n",
       "<caption>A tibble: 2 × 5</caption>\n",
       "<thead>\n",
       "\t<tr><th scope=col>term</th><th scope=col>estimate</th><th scope=col>std.error</th><th scope=col>statistic</th><th scope=col>p.value</th></tr>\n",
       "\t<tr><th scope=col>&lt;chr&gt;</th><th scope=col>&lt;dbl&gt;</th><th scope=col>&lt;dbl&gt;</th><th scope=col>&lt;dbl&gt;</th><th scope=col>&lt;dbl&gt;</th></tr>\n",
       "</thead>\n",
       "<tbody>\n",
       "\t<tr><td>(Intercept)</td><td>-2.4322629</td><td>0.2892746</td><td>-8.4081458</td><td>4.165431e-17</td></tr>\n",
       "\t<tr><td>gendermale </td><td> 0.2037858</td><td>0.3693603</td><td> 0.5517263</td><td>5.811359e-01</td></tr>\n",
       "</tbody>\n",
       "</table>\n"
      ],
      "text/latex": [
       "A tibble: 2 × 5\n",
       "\\begin{tabular}{lllll}\n",
       " term & estimate & std.error & statistic & p.value\\\\\n",
       " <chr> & <dbl> & <dbl> & <dbl> & <dbl>\\\\\n",
       "\\hline\n",
       "\t (Intercept) & -2.4322629 & 0.2892746 & -8.4081458 & 4.165431e-17\\\\\n",
       "\t gendermale  &  0.2037858 & 0.3693603 &  0.5517263 & 5.811359e-01\\\\\n",
       "\\end{tabular}\n"
      ],
      "text/markdown": [
       "\n",
       "A tibble: 2 × 5\n",
       "\n",
       "| term &lt;chr&gt; | estimate &lt;dbl&gt; | std.error &lt;dbl&gt; | statistic &lt;dbl&gt; | p.value &lt;dbl&gt; |\n",
       "|---|---|---|---|---|\n",
       "| (Intercept) | -2.4322629 | 0.2892746 | -8.4081458 | 4.165431e-17 |\n",
       "| gendermale  |  0.2037858 | 0.3693603 |  0.5517263 | 5.811359e-01 |\n",
       "\n"
      ],
      "text/plain": [
       "  term        estimate   std.error statistic  p.value     \n",
       "1 (Intercept) -2.4322629 0.2892746 -8.4081458 4.165431e-17\n",
       "2 gendermale   0.2037858 0.3693603  0.5517263 5.811359e-01"
      ]
     },
     "metadata": {},
     "output_type": "display_data"
    },
    {
     "name": "stderr",
     "output_type": "stream",
     "text": [
      "Warning message:\n",
      "“glm.fit: fitted probabilities numerically 0 or 1 occurred”\n"
     ]
    },
    {
     "data": {
      "text/html": [
       "<table>\n",
       "<caption>A tibble: 7 × 5</caption>\n",
       "<thead>\n",
       "\t<tr><th scope=col>term</th><th scope=col>estimate</th><th scope=col>std.error</th><th scope=col>statistic</th><th scope=col>p.value</th></tr>\n",
       "\t<tr><th scope=col>&lt;chr&gt;</th><th scope=col>&lt;dbl&gt;</th><th scope=col>&lt;dbl&gt;</th><th scope=col>&lt;dbl&gt;</th><th scope=col>&lt;dbl&gt;</th></tr>\n",
       "</thead>\n",
       "<tbody>\n",
       "\t<tr><td>(Intercept)    </td><td>-51.2690598</td><td>12.500075</td><td>-4.1015000</td><td>4.104804e-05</td></tr>\n",
       "\t<tr><td>gendermale     </td><td> -0.3480931</td><td> 1.054297</td><td>-0.3301659</td><td>7.412746e-01</td></tr>\n",
       "\t<tr><td>vote_share     </td><td>104.1160296</td><td>25.265190</td><td> 4.1209280</td><td>3.773493e-05</td></tr>\n",
       "\t<tr><td>regionNortheast</td><td>  4.8180660</td><td> 1.781684</td><td> 2.7042199</td><td>6.846496e-03</td></tr>\n",
       "\t<tr><td>regionOther    </td><td> -0.3338241</td><td> 1.661700</td><td>-0.2008931</td><td>8.407822e-01</td></tr>\n",
       "\t<tr><td>regionSouth    </td><td> -0.4390017</td><td> 1.168522</td><td>-0.3756898</td><td>7.071475e-01</td></tr>\n",
       "\t<tr><td>regionWest     </td><td> -0.5229404</td><td> 1.596570</td><td>-0.3275399</td><td>7.432596e-01</td></tr>\n",
       "</tbody>\n",
       "</table>\n"
      ],
      "text/latex": [
       "A tibble: 7 × 5\n",
       "\\begin{tabular}{lllll}\n",
       " term & estimate & std.error & statistic & p.value\\\\\n",
       " <chr> & <dbl> & <dbl> & <dbl> & <dbl>\\\\\n",
       "\\hline\n",
       "\t (Intercept)     & -51.2690598 & 12.500075 & -4.1015000 & 4.104804e-05\\\\\n",
       "\t gendermale      &  -0.3480931 &  1.054297 & -0.3301659 & 7.412746e-01\\\\\n",
       "\t vote\\_share      & 104.1160296 & 25.265190 &  4.1209280 & 3.773493e-05\\\\\n",
       "\t regionNortheast &   4.8180660 &  1.781684 &  2.7042199 & 6.846496e-03\\\\\n",
       "\t regionOther     &  -0.3338241 &  1.661700 & -0.2008931 & 8.407822e-01\\\\\n",
       "\t regionSouth     &  -0.4390017 &  1.168522 & -0.3756898 & 7.071475e-01\\\\\n",
       "\t regionWest      &  -0.5229404 &  1.596570 & -0.3275399 & 7.432596e-01\\\\\n",
       "\\end{tabular}\n"
      ],
      "text/markdown": [
       "\n",
       "A tibble: 7 × 5\n",
       "\n",
       "| term &lt;chr&gt; | estimate &lt;dbl&gt; | std.error &lt;dbl&gt; | statistic &lt;dbl&gt; | p.value &lt;dbl&gt; |\n",
       "|---|---|---|---|---|\n",
       "| (Intercept)     | -51.2690598 | 12.500075 | -4.1015000 | 4.104804e-05 |\n",
       "| gendermale      |  -0.3480931 |  1.054297 | -0.3301659 | 7.412746e-01 |\n",
       "| vote_share      | 104.1160296 | 25.265190 |  4.1209280 | 3.773493e-05 |\n",
       "| regionNortheast |   4.8180660 |  1.781684 |  2.7042199 | 6.846496e-03 |\n",
       "| regionOther     |  -0.3338241 |  1.661700 | -0.2008931 | 8.407822e-01 |\n",
       "| regionSouth     |  -0.4390017 |  1.168522 | -0.3756898 | 7.071475e-01 |\n",
       "| regionWest      |  -0.5229404 |  1.596570 | -0.3275399 | 7.432596e-01 |\n",
       "\n"
      ],
      "text/plain": [
       "  term            estimate    std.error statistic  p.value     \n",
       "1 (Intercept)     -51.2690598 12.500075 -4.1015000 4.104804e-05\n",
       "2 gendermale       -0.3480931  1.054297 -0.3301659 7.412746e-01\n",
       "3 vote_share      104.1160296 25.265190  4.1209280 3.773493e-05\n",
       "4 regionNortheast   4.8180660  1.781684  2.7042199 6.846496e-03\n",
       "5 regionOther      -0.3338241  1.661700 -0.2008931 8.407822e-01\n",
       "6 regionSouth      -0.4390017  1.168522 -0.3756898 7.071475e-01\n",
       "7 regionWest       -0.5229404  1.596570 -0.3275399 7.432596e-01"
      ]
     },
     "metadata": {},
     "output_type": "display_data"
    },
    {
     "data": {
      "text/html": [
       "<table>\n",
       "<caption>A tibble: 2 × 5</caption>\n",
       "<thead>\n",
       "\t<tr><th scope=col>term</th><th scope=col>estimate</th><th scope=col>std.error</th><th scope=col>statistic</th><th scope=col>p.value</th></tr>\n",
       "\t<tr><th scope=col>&lt;chr&gt;</th><th scope=col>&lt;dbl&gt;</th><th scope=col>&lt;dbl&gt;</th><th scope=col>&lt;dbl&gt;</th><th scope=col>&lt;dbl&gt;</th></tr>\n",
       "</thead>\n",
       "<tbody>\n",
       "\t<tr><td>(Intercept)</td><td> 0.52917468</td><td>0.01275857</td><td>41.4760279</td><td>1.001306e-28</td></tr>\n",
       "\t<tr><td>gendermale </td><td>-0.01528165</td><td>0.01638868</td><td>-0.9324519</td><td>3.583090e-01</td></tr>\n",
       "</tbody>\n",
       "</table>\n"
      ],
      "text/latex": [
       "A tibble: 2 × 5\n",
       "\\begin{tabular}{lllll}\n",
       " term & estimate & std.error & statistic & p.value\\\\\n",
       " <chr> & <dbl> & <dbl> & <dbl> & <dbl>\\\\\n",
       "\\hline\n",
       "\t (Intercept) &  0.52917468 & 0.01275857 & 41.4760279 & 1.001306e-28\\\\\n",
       "\t gendermale  & -0.01528165 & 0.01638868 & -0.9324519 & 3.583090e-01\\\\\n",
       "\\end{tabular}\n"
      ],
      "text/markdown": [
       "\n",
       "A tibble: 2 × 5\n",
       "\n",
       "| term &lt;chr&gt; | estimate &lt;dbl&gt; | std.error &lt;dbl&gt; | statistic &lt;dbl&gt; | p.value &lt;dbl&gt; |\n",
       "|---|---|---|---|---|\n",
       "| (Intercept) |  0.52917468 | 0.01275857 | 41.4760279 | 1.001306e-28 |\n",
       "| gendermale  | -0.01528165 | 0.01638868 | -0.9324519 | 3.583090e-01 |\n",
       "\n"
      ],
      "text/plain": [
       "  term        estimate    std.error  statistic  p.value     \n",
       "1 (Intercept)  0.52917468 0.01275857 41.4760279 1.001306e-28\n",
       "2 gendermale  -0.01528165 0.01638868 -0.9324519 3.583090e-01"
      ]
     },
     "metadata": {},
     "output_type": "display_data"
    },
    {
     "data": {
      "text/html": [
       "<table>\n",
       "<caption>A tibble: 6 × 5</caption>\n",
       "<thead>\n",
       "\t<tr><th scope=col>term</th><th scope=col>estimate</th><th scope=col>std.error</th><th scope=col>statistic</th><th scope=col>p.value</th></tr>\n",
       "\t<tr><th scope=col>&lt;chr&gt;</th><th scope=col>&lt;dbl&gt;</th><th scope=col>&lt;dbl&gt;</th><th scope=col>&lt;dbl&gt;</th><th scope=col>&lt;dbl&gt;</th></tr>\n",
       "</thead>\n",
       "<tbody>\n",
       "\t<tr><td>(Intercept)    </td><td> 0.54328622</td><td>0.01797086</td><td>30.2315157</td><td>2.335689e-22</td></tr>\n",
       "\t<tr><td>gendermale     </td><td>-0.01437600</td><td>0.02422043</td><td>-0.5935483</td><td>5.577545e-01</td></tr>\n",
       "\t<tr><td>regionNortheast</td><td>-0.01482315</td><td>0.02658392</td><td>-0.5575982</td><td>5.817128e-01</td></tr>\n",
       "\t<tr><td>regionOther    </td><td>-0.02769026</td><td>0.05391257</td><td>-0.5136142</td><td>6.116996e-01</td></tr>\n",
       "\t<tr><td>regionSouth    </td><td>-0.03400713</td><td>0.02730959</td><td>-1.2452450</td><td>2.237410e-01</td></tr>\n",
       "\t<tr><td>regionWest     </td><td>-0.01629911</td><td>0.03246219</td><td>-0.5020952</td><td>6.196708e-01</td></tr>\n",
       "</tbody>\n",
       "</table>\n"
      ],
      "text/latex": [
       "A tibble: 6 × 5\n",
       "\\begin{tabular}{lllll}\n",
       " term & estimate & std.error & statistic & p.value\\\\\n",
       " <chr> & <dbl> & <dbl> & <dbl> & <dbl>\\\\\n",
       "\\hline\n",
       "\t (Intercept)     &  0.54328622 & 0.01797086 & 30.2315157 & 2.335689e-22\\\\\n",
       "\t gendermale      & -0.01437600 & 0.02422043 & -0.5935483 & 5.577545e-01\\\\\n",
       "\t regionNortheast & -0.01482315 & 0.02658392 & -0.5575982 & 5.817128e-01\\\\\n",
       "\t regionOther     & -0.02769026 & 0.05391257 & -0.5136142 & 6.116996e-01\\\\\n",
       "\t regionSouth     & -0.03400713 & 0.02730959 & -1.2452450 & 2.237410e-01\\\\\n",
       "\t regionWest      & -0.01629911 & 0.03246219 & -0.5020952 & 6.196708e-01\\\\\n",
       "\\end{tabular}\n"
      ],
      "text/markdown": [
       "\n",
       "A tibble: 6 × 5\n",
       "\n",
       "| term &lt;chr&gt; | estimate &lt;dbl&gt; | std.error &lt;dbl&gt; | statistic &lt;dbl&gt; | p.value &lt;dbl&gt; |\n",
       "|---|---|---|---|---|\n",
       "| (Intercept)     |  0.54328622 | 0.01797086 | 30.2315157 | 2.335689e-22 |\n",
       "| gendermale      | -0.01437600 | 0.02422043 | -0.5935483 | 5.577545e-01 |\n",
       "| regionNortheast | -0.01482315 | 0.02658392 | -0.5575982 | 5.817128e-01 |\n",
       "| regionOther     | -0.02769026 | 0.05391257 | -0.5136142 | 6.116996e-01 |\n",
       "| regionSouth     | -0.03400713 | 0.02730959 | -1.2452450 | 2.237410e-01 |\n",
       "| regionWest      | -0.01629911 | 0.03246219 | -0.5020952 | 6.196708e-01 |\n",
       "\n"
      ],
      "text/plain": [
       "  term            estimate    std.error  statistic  p.value     \n",
       "1 (Intercept)      0.54328622 0.01797086 30.2315157 2.335689e-22\n",
       "2 gendermale      -0.01437600 0.02422043 -0.5935483 5.577545e-01\n",
       "3 regionNortheast -0.01482315 0.02658392 -0.5575982 5.817128e-01\n",
       "4 regionOther     -0.02769026 0.05391257 -0.5136142 6.116996e-01\n",
       "5 regionSouth     -0.03400713 0.02730959 -1.2452450 2.237410e-01\n",
       "6 regionWest      -0.01629911 0.03246219 -0.5020952 6.196708e-01"
      ]
     },
     "metadata": {},
     "output_type": "display_data"
    },
    {
     "data": {
      "text/html": [
       "<table>\n",
       "<caption>A tibble: 7 × 5</caption>\n",
       "<thead>\n",
       "\t<tr><th scope=col>term</th><th scope=col>estimate</th><th scope=col>std.error</th><th scope=col>statistic</th><th scope=col>p.value</th></tr>\n",
       "\t<tr><th scope=col>&lt;chr&gt;</th><th scope=col>&lt;dbl&gt;</th><th scope=col>&lt;dbl&gt;</th><th scope=col>&lt;dbl&gt;</th><th scope=col>&lt;dbl&gt;</th></tr>\n",
       "</thead>\n",
       "<tbody>\n",
       "\t<tr><td>(Intercept)    </td><td>-0.2467221</td><td>0.6700243</td><td>-0.3682285</td><td>7.127028e-01</td></tr>\n",
       "\t<tr><td>gender_demmale </td><td>-0.1468747</td><td>0.5376516</td><td>-0.2731781</td><td>7.847163e-01</td></tr>\n",
       "\t<tr><td>gender_repmale </td><td>-1.5366096</td><td>0.6149715</td><td>-2.4986679</td><td>1.246611e-02</td></tr>\n",
       "\t<tr><td>regionNortheast</td><td> 2.9776033</td><td>0.7631627</td><td> 3.9016626</td><td>9.553424e-05</td></tr>\n",
       "\t<tr><td>regionOther    </td><td>-1.0425196</td><td>1.1335057</td><td>-0.9197304</td><td>3.577137e-01</td></tr>\n",
       "\t<tr><td>regionSouth    </td><td>-0.8877944</td><td>0.6201601</td><td>-1.4315568</td><td>1.522707e-01</td></tr>\n",
       "\t<tr><td>regionWest     </td><td>-0.6305544</td><td>0.7638227</td><td>-0.8255245</td><td>4.090739e-01</td></tr>\n",
       "</tbody>\n",
       "</table>\n"
      ],
      "text/latex": [
       "A tibble: 7 × 5\n",
       "\\begin{tabular}{lllll}\n",
       " term & estimate & std.error & statistic & p.value\\\\\n",
       " <chr> & <dbl> & <dbl> & <dbl> & <dbl>\\\\\n",
       "\\hline\n",
       "\t (Intercept)     & -0.2467221 & 0.6700243 & -0.3682285 & 7.127028e-01\\\\\n",
       "\t gender\\_demmale  & -0.1468747 & 0.5376516 & -0.2731781 & 7.847163e-01\\\\\n",
       "\t gender\\_repmale  & -1.5366096 & 0.6149715 & -2.4986679 & 1.246611e-02\\\\\n",
       "\t regionNortheast &  2.9776033 & 0.7631627 &  3.9016626 & 9.553424e-05\\\\\n",
       "\t regionOther     & -1.0425196 & 1.1335057 & -0.9197304 & 3.577137e-01\\\\\n",
       "\t regionSouth     & -0.8877944 & 0.6201601 & -1.4315568 & 1.522707e-01\\\\\n",
       "\t regionWest      & -0.6305544 & 0.7638227 & -0.8255245 & 4.090739e-01\\\\\n",
       "\\end{tabular}\n"
      ],
      "text/markdown": [
       "\n",
       "A tibble: 7 × 5\n",
       "\n",
       "| term &lt;chr&gt; | estimate &lt;dbl&gt; | std.error &lt;dbl&gt; | statistic &lt;dbl&gt; | p.value &lt;dbl&gt; |\n",
       "|---|---|---|---|---|\n",
       "| (Intercept)     | -0.2467221 | 0.6700243 | -0.3682285 | 7.127028e-01 |\n",
       "| gender_demmale  | -0.1468747 | 0.5376516 | -0.2731781 | 7.847163e-01 |\n",
       "| gender_repmale  | -1.5366096 | 0.6149715 | -2.4986679 | 1.246611e-02 |\n",
       "| regionNortheast |  2.9776033 | 0.7631627 |  3.9016626 | 9.553424e-05 |\n",
       "| regionOther     | -1.0425196 | 1.1335057 | -0.9197304 | 3.577137e-01 |\n",
       "| regionSouth     | -0.8877944 | 0.6201601 | -1.4315568 | 1.522707e-01 |\n",
       "| regionWest      | -0.6305544 | 0.7638227 | -0.8255245 | 4.090739e-01 |\n",
       "\n"
      ],
      "text/plain": [
       "  term            estimate   std.error statistic  p.value     \n",
       "1 (Intercept)     -0.2467221 0.6700243 -0.3682285 7.127028e-01\n",
       "2 gender_demmale  -0.1468747 0.5376516 -0.2731781 7.847163e-01\n",
       "3 gender_repmale  -1.5366096 0.6149715 -2.4986679 1.246611e-02\n",
       "4 regionNortheast  2.9776033 0.7631627  3.9016626 9.553424e-05\n",
       "5 regionOther     -1.0425196 1.1335057 -0.9197304 3.577137e-01\n",
       "6 regionSouth     -0.8877944 0.6201601 -1.4315568 1.522707e-01\n",
       "7 regionWest      -0.6305544 0.7638227 -0.8255245 4.090739e-01"
      ]
     },
     "metadata": {},
     "output_type": "display_data"
    }
   ],
   "source": [
    "## Regressions\n",
    "# Logistic regression, binomial outcome\n",
    "model1 <- CD_results_long %>%\n",
    "    filter(party == \"Democrat\", gender %in% c(\"male\", \"female\")) %>%\n",
    "    glm(flip ~ gender, data = ., family = \"binomial\")\n",
    "tidy(model1)\n",
    "\n",
    "model2 <- CD_results_long %>%\n",
    "    filter(party == \"Democrat\", gender %in% c(\"male\", \"female\"), pres_winner == \"Trump\", vote_share < 0.75) %>%\n",
    "    glm(flip ~ gender + vote_share + region, data = ., family = \"binomial\")\n",
    "tidy(model2)\n",
    "# Basic takeaway is that gender has no effect on whether a district flipped or not, possible that lack of controls and small sample size makes it difficult to detect\n",
    "\n",
    "model3 <- CD_results_long %>%\n",
    "    filter(party == \"Democrat\", gender %in% c(\"male\", \"female\"), flip == TRUE, vote_share != 1) %>%\n",
    "    lm(vote_share ~ gender, data = .)\n",
    "tidy(model3)\n",
    "\n",
    "model4 <- CD_results_long %>%\n",
    "    filter(party == \"Democrat\", gender %in% c(\"male\", \"female\"), flip == TRUE, vote_share < 0.75) %>%\n",
    "    lm(vote_share ~ gender + region, data = .)\n",
    "tidy(model4)\n",
    "\n",
    "\n",
    "\n",
    "model5 <- CD_results_wide %>%\n",
    "    filter(gender_dem %in% c(\"male\", \"female\"), gender_rep %in% c(\"male\", \"female\"), winner_gender %in% c(\"male\", \"female\"), pres_winner == \"Trump\", vote_share_dem < 0.75, vote_share_rep < 0.75) %>%\n",
    "    glm(flip ~ gender_dem + gender_rep + region, data = ., family = \"binomial\")\n",
    "tidy(model5)\n",
    "# No effect still when adding in gender of opponent as control\n",
    "\n",
    "\n",
    "\n",
    "    \n"
   ]
  },
  {
   "cell_type": "code",
   "execution_count": null,
   "metadata": {},
   "outputs": [],
   "source": []
  },
  {
   "cell_type": "code",
   "execution_count": null,
   "metadata": {},
   "outputs": [],
   "source": []
  }
 ],
 "metadata": {
  "kernelspec": {
   "display_name": "R",
   "language": "R",
   "name": "ir"
  },
  "language_info": {
   "codemirror_mode": "r",
   "file_extension": ".r",
   "mimetype": "text/x-r-source",
   "name": "R",
   "pygments_lexer": "r",
   "version": "4.0.0"
  }
 },
 "nbformat": 4,
 "nbformat_minor": 4
}
