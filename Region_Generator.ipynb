{
 "cells": [
  {
   "cell_type": "code",
   "execution_count": 1,
   "metadata": {},
   "outputs": [
    {
     "ename": "ERROR",
     "evalue": "Error in dataset %>% mutate(region = case_when(state %in% states_northeast ~ : could not find function \"%>%\"\n",
     "output_type": "error",
     "traceback": [
      "Error in dataset %>% mutate(region = case_when(state %in% states_northeast ~ : could not find function \"%>%\"\nTraceback:\n"
     ]
    }
   ],
   "source": [
    "## Region generator\n",
    "# Need to manually change states depending on form, e.g. RI/Rhode Island/RHODE ISLAND\n",
    "\n",
    "states_northeast <- c(\"CONNECTICUT\", \"DELAWARE\", \"MAINE\", \"MASSACHUSETTS\",\n",
    "                      \"NEW_HAMPSHIRE\", \"NEW_JERSEY\", \"NEW_YORK\", \"PENNSYLVANIA\", \n",
    "                      \"RHODE_ISLAND\", \"VERMONT\")\n",
    "states_west <- c(\"ALASKA\", \"ARIZONA\", \"CALIFORNIA\", \"COLORADO\", \"HAWAII\", \"IDAHO\", \"NEVADA\", \n",
    "                 \"NEW_MEXICO\", \"OREGON\", \"WASHINGTON\", \"WYOMING\")\n",
    "states_midwest <- c(\"INDIANA\", \"ILLINOIS\", \"IOWA\", \"KANSAS\", \"MICHIGAN\", \"MINNESOTA\", \"MISSOURI\", \n",
    "                    \"NEBRASKA\", \"NORTH_DAKOTA\", \"OHIO\", \"SOUTH_DAKOTA\", \"WISCONSIN\")\n",
    "states_south <- c(\"ALABAMA\", \"ARKANSAS\", \"DELAWARE\", \"DELAWARE\", \"DISTRICT_OF_COLUMBIA\", \n",
    "                  \"FLORIDA\", \"GEORGIA\", \"KENTUCKY\", \"LOUISIANA\", \"MARYLAND\", \"MISSISSIPPI\", \n",
    "                  \"NORTH_CAROLINA\", \"OKLAHOMA\", \"SOUTH_CAROLINA\", \"TENNESSEE\", \"TEXAS\", \n",
    "                  \"VIRGINIA\", \"WEST_VIRGINIA\")\n",
    "\n",
    "\n",
    "# Replace \"dataset\" with name of your dataset\n",
    "dataset <- dataset %>%\n",
    "  mutate(region = case_when(state %in% states_northeast ~ \"Northeast\",\n",
    "                            state %in% states_west ~ \"West\",\n",
    "                            state %in% states_midwest ~ \"Midwest\",\n",
    "                            state %in% states_south ~ \"South\",\n",
    "                            TRUE ~ \"Other\"))\n",
    "\n",
    "head(dataset)\n"
   ]
  },
  {
   "cell_type": "markdown",
   "metadata": {},
   "source": [
    "### This version works with the winning dataset and removes Delaware from the South, and adds Montana to the West"
   ]
  },
  {
   "cell_type": "code",
   "execution_count": 3,
   "metadata": {},
   "outputs": [],
   "source": [
    "states_northeast <- c(\"Connecticut - CT\", \"Delaware - DE\", \"Maine - ME\", \"Massachusetts - MA\",\n",
    "                      \"New Hampshire - NH\", \"New Jersey - NJ\", \"New York - NY\", \"Pennsylvania - PA\", \n",
    "                      \"Rhode Island - RI\", \"Vermont - VT\")\n",
    "states_west <- c(\"Alaska - AK\", \"Arizona - AZ\", \"California - CA\", \"Colorado - CO\", \"Hawaii - HI\", \"Idaho - ID\", \"Montana - MT\", \"Nevada - NV\", \n",
    "                 \"New Mexico - NM\", \"Oregon - OR\", \"Washington - WA\", \"Wyoming - WY\")\n",
    "states_midwest <- c(\"Indiana - IN\", \"Illinois - IL\", \"Iowa - IA\", \"Kansas - KS\", \"Michigan - MI\", \"Minnesota - MN\", \"Missouri - MO\", \n",
    "                    \"Nebraska - NE\", \"North Dakota - ND\", \"Ohio - OH\", \"South Dakota - SD\", \"Wisconsin - WI\")\n",
    "states_south <- c(\"Alabama - AL\", \"Arkansas - AR\", \n",
    "                  \"Florida - FL\", \"Georgia - GA\", \"Kentucky - KY\", \"Louisiana - LA\", \"Maryland - MD\", \"Mississippi - MS\", \n",
    "                  \"North Carolina - NC\", \"Oklahoma - OK\", \"South Carolina - SC\", \"Tennessee - TN\", \"Texas - TX\", \n",
    "                  \"Virginia - VA\", \"West Virginia - WV\")"
   ]
  },
  {
   "cell_type": "code",
   "execution_count": null,
   "metadata": {},
   "outputs": [],
   "source": []
  }
 ],
 "metadata": {
  "kernelspec": {
   "display_name": "R",
   "language": "R",
   "name": "ir"
  },
  "language_info": {
   "codemirror_mode": "r",
   "file_extension": ".r",
   "mimetype": "text/x-r-source",
   "name": "R",
   "pygments_lexer": "r",
   "version": "4.0.0"
  }
 },
 "nbformat": 4,
 "nbformat_minor": 4
}
