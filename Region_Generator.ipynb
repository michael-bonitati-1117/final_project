{
 "cells": [
  {
   "cell_type": "code",
   "execution_count": null,
   "metadata": {},
   "outputs": [],
   "source": [
    "## Region generator\n",
    "# Need to manually change states depending on form, e.g. RI/Rhode Island/RHODE ISLAND\n",
    "\n",
    "states_northeast <- c(\"CONNECTICUT\", \"DELAWARE\", \"MAINE\", \"MASSACHUSETTS\",\n",
    "                      \"NEW_HAMPSHIRE\", \"NEW_JERSEY\", \"NEW_YORK\", \"PENNSYLVANIA\", \n",
    "                      \"RHODE_ISLAND\", \"VERMONT\")\n",
    "states_west <- c(\"ALASKA\", \"ARIZONA\", \"CALIFORNIA\", \"COLORADO\", \"HAWAII\", \"IDAHO\", \"NEVADA\", \n",
    "                 \"NEW_MEXICO\", \"OREGON\", \"WASHINGTON\", \"WYOMING\")\n",
    "states_midwest <- c(\"INDIANA\", \"ILLINOIS\", \"IOWA\", \"KANSAS\", \"MICHIGAN\", \"MINNESOTA\", \"MISSOURI\", \n",
    "                    \"NEBRASKA\", \"NORTH_DAKOTA\", \"OHIO\", \"SOUTH_DAKOTA\", \"WISCONSIN\")\n",
    "states_south <- c(\"ALABAMA\", \"ARKANSAS\", \"DELAWARE\", \"DELAWARE\", \"DISTRICT_OF_COLUMBIA\", \n",
    "                  \"FLORIDA\", \"GEORGIA\", \"KENTUCKY\", \"LOUISIANA\", \"MARYLAND\", \"MISSISSIPPI\", \n",
    "                  \"NORTH_CAROLINA\", \"OKLAHOMA\", \"SOUTH_CAROLINA\", \"TENNESSEE\", \"TEXAS\", \n",
    "                  \"VIRGINIA\", \"WEST_VIRGINIA\")\n",
    "\n",
    "\n",
    "# Replace \"dataset\" with name of your dataset\n",
    "dataset <- dataset %>%\n",
    "  mutate(region = case_when(state %in% states_northeast ~ \"Northeast\",\n",
    "                            state %in% states_west ~ \"West\",\n",
    "                            state %in% states_midwest ~ \"Midwest\",\n",
    "                            state %in% states_south ~ \"South\",\n",
    "                            TRUE ~ \"Other\"))\n",
    "\n",
    "head(dataset)\n"
   ]
  }
 ],
 "metadata": {
  "kernelspec": {
   "display_name": "R",
   "language": "R",
   "name": "ir"
  },
  "language_info": {
   "codemirror_mode": "r",
   "file_extension": ".r",
   "mimetype": "text/x-r-source",
   "name": "R",
   "pygments_lexer": "r",
   "version": "4.0.0"
  }
 },
 "nbformat": 4,
 "nbformat_minor": 4
}
